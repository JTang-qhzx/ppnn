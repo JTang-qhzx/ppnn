{
 "cells": [
  {
   "cell_type": "markdown",
   "metadata": {},
   "source": [
    "# Reading the netCDF files in Python\n",
    "\n",
    "Note: This notebook uses Python 3."
   ]
  },
  {
   "cell_type": "code",
   "execution_count": 1,
   "metadata": {
    "collapsed": false
   },
   "outputs": [],
   "source": [
    "from netCDF4 import Dataset"
   ]
  },
  {
   "cell_type": "code",
   "execution_count": 2,
   "metadata": {
    "collapsed": true
   },
   "outputs": [],
   "source": [
    "DATA_DIR = '/project/meteo/w2w/C7/ppnn_data/'"
   ]
  },
  {
   "cell_type": "code",
   "execution_count": 3,
   "metadata": {
    "collapsed": true
   },
   "outputs": [],
   "source": [
    "rg = Dataset(DATA_DIR + 'data_interpolated.nc')"
   ]
  },
  {
   "cell_type": "code",
   "execution_count": 4,
   "metadata": {
    "collapsed": false
   },
   "outputs": [
    {
     "data": {
      "text/plain": [
       "<class 'netCDF4._netCDF4.Dataset'>\n",
       "root group (NETCDF4 data model, file format HDF5):\n",
       "    dimensions(sizes): station(537), member(50), time(7306), nchar(36)\n",
       "    variables(dimensions): int32 \u001b[4mstation\u001b[0m(station), int32 \u001b[4mmember\u001b[0m(member), int32 \u001b[4mtime\u001b[0m(time), float32 \u001b[4mt2m_fc\u001b[0m(time,member,station), float32 \u001b[4mt2m_obs\u001b[0m(time,station), float32 \u001b[4mstation_alt\u001b[0m(station), float32 \u001b[4mstation_lat\u001b[0m(station), float32 \u001b[4mstation_lon\u001b[0m(station), float32 \u001b[4mstation_id\u001b[0m(station), |S1 \u001b[4mstation_loc\u001b[0m(station,nchar)\n",
       "    groups: "
      ]
     },
     "execution_count": 4,
     "metadata": {},
     "output_type": "execute_result"
    }
   ],
   "source": [
    "rg"
   ]
  },
  {
   "cell_type": "markdown",
   "metadata": {},
   "source": [
    "Ok, let's see what's in the file.\n",
    "- 4 dimensions: station, member, time and nchar (which has something to do with characters... we will check that out later)\n",
    "- Variables:\n",
    "    - station(station) == station_id\n",
    "    - member(member)\n",
    "    - time(time) *Time in s since 1.1.1970*\n",
    "    - t2m_fc(time, member, station)\n",
    "    - t2m_obs(time, station)\n",
    "    - station_alt(station) *Altitute of station in m*\n",
    "    - station_lat(station) *Latitude in degrees*\n",
    "    - station_lon(station)  *Longitude in degrees*\n",
    "    - station_id(station) == station\n",
    "    - station_loc(station, nchar)  *Location name*\n",
    "    \n",
    "### Let's first check out the time dimension"
   ]
  },
  {
   "cell_type": "code",
   "execution_count": 5,
   "metadata": {
    "collapsed": false
   },
   "outputs": [
    {
     "data": {
      "text/plain": [
       "<class 'netCDF4._netCDF4.Variable'>\n",
       "int32 time(time)\n",
       "    units: hours since 1970-01-01 00:00 UTC\n",
       "    long_name: valid time of forecasts and observations, UTC\n",
       "unlimited dimensions: \n",
       "current shape = (7306,)\n",
       "filling on, default _FillValue of -2147483647 used"
      ]
     },
     "execution_count": 5,
     "metadata": {},
     "output_type": "execute_result"
    }
   ],
   "source": [
    "time = rg.variables['time']\n",
    "time"
   ]
  },
  {
   "cell_type": "code",
   "execution_count": 6,
   "metadata": {
    "collapsed": false
   },
   "outputs": [
    {
     "data": {
      "text/plain": [
       "array([1167739200, 1167782400, 1167825600, 1167868800, 1167912000], dtype=int32)"
      ]
     },
     "execution_count": 6,
     "metadata": {},
     "output_type": "execute_result"
    }
   ],
   "source": [
    "time[:5]"
   ]
  },
  {
   "cell_type": "code",
   "execution_count": 7,
   "metadata": {
    "collapsed": false
   },
   "outputs": [
    {
     "data": {
      "text/plain": [
       "array([datetime.datetime(2007, 1, 2, 12, 0),\n",
       "       datetime.datetime(2007, 1, 3, 0, 0),\n",
       "       datetime.datetime(2007, 1, 3, 12, 0),\n",
       "       datetime.datetime(2007, 1, 4, 0, 0),\n",
       "       datetime.datetime(2007, 1, 4, 12, 0)], dtype=object)"
      ]
     },
     "execution_count": 7,
     "metadata": {},
     "output_type": "execute_result"
    }
   ],
   "source": [
    "# convert back to dates (http://unidata.github.io/netcdf4-python/#section7)\n",
    "from netCDF4 import num2date\n",
    "dates = num2date(time[:],units='seconds since 1970-01-01 00:00 UTC')\n",
    "dates[:5]"
   ]
  },
  {
   "cell_type": "markdown",
   "metadata": {},
   "source": [
    "So dates are in 12 hour intervals. Which means that since we downloaded 36/48h forecasts: the 12UTC dates correspond to the 36 hour fcs and the following 00UTC dates correspond to the same forecast at 48 hour lead time. For post processing we should maybe split these. \n",
    "\n",
    "### Next up: What are all these station_??? variables"
   ]
  },
  {
   "cell_type": "code",
   "execution_count": 8,
   "metadata": {
    "collapsed": false
   },
   "outputs": [
    {
     "data": {
      "text/plain": [
       "<class 'netCDF4._netCDF4.Variable'>\n",
       "int32 station(station)\n",
       "    units: station_ID\n",
       "    long_name: station\n",
       "unlimited dimensions: \n",
       "current shape = (537,)\n",
       "filling on, default _FillValue of -2147483647 used"
      ]
     },
     "execution_count": 8,
     "metadata": {},
     "output_type": "execute_result"
    }
   ],
   "source": [
    "station = rg.variables['station']\n",
    "station"
   ]
  },
  {
   "cell_type": "code",
   "execution_count": 9,
   "metadata": {
    "collapsed": false
   },
   "outputs": [
    {
     "data": {
      "text/plain": [
       "array([ 3, 44, 71, 73, 78], dtype=int32)"
      ]
     },
     "execution_count": 9,
     "metadata": {},
     "output_type": "execute_result"
    }
   ],
   "source": [
    "station[:5]"
   ]
  },
  {
   "cell_type": "code",
   "execution_count": 10,
   "metadata": {
    "collapsed": false
   },
   "outputs": [
    {
     "data": {
      "text/plain": [
       "<class 'netCDF4._netCDF4.Variable'>\n",
       "float32 station_id(station)\n",
       "    _FillValue: nan\n",
       "    long_name: station ID\n",
       "unlimited dimensions: \n",
       "current shape = (537,)\n",
       "filling on"
      ]
     },
     "execution_count": 10,
     "metadata": {},
     "output_type": "execute_result"
    }
   ],
   "source": [
    "station_id = rg.variables['station_id']\n",
    "station_id"
   ]
  },
  {
   "cell_type": "code",
   "execution_count": 11,
   "metadata": {
    "collapsed": false
   },
   "outputs": [
    {
     "data": {
      "text/plain": [
       "array([  3.,  44.,  71.,  73.,  78.], dtype=float32)"
      ]
     },
     "execution_count": 11,
     "metadata": {},
     "output_type": "execute_result"
    }
   ],
   "source": [
    "station_id[:5]"
   ]
  },
  {
   "cell_type": "code",
   "execution_count": 12,
   "metadata": {
    "collapsed": false
   },
   "outputs": [
    {
     "data": {
      "text/plain": [
       "True"
      ]
     },
     "execution_count": 12,
     "metadata": {},
     "output_type": "execute_result"
    }
   ],
   "source": [
    "import numpy as np\n",
    "np.array_equal(station[:], station_id[:])"
   ]
  },
  {
   "cell_type": "markdown",
   "metadata": {},
   "source": [
    "So the station and station id variable are the same."
   ]
  },
  {
   "cell_type": "code",
   "execution_count": 13,
   "metadata": {
    "collapsed": false
   },
   "outputs": [
    {
     "data": {
      "text/plain": [
       "<class 'netCDF4._netCDF4.Variable'>\n",
       "float32 station_alt(station)\n",
       "    units: m\n",
       "    _FillValue: nan\n",
       "    long_name: altitude of station\n",
       "unlimited dimensions: \n",
       "current shape = (537,)\n",
       "filling on"
      ]
     },
     "execution_count": 13,
     "metadata": {},
     "output_type": "execute_result"
    }
   ],
   "source": [
    "station_alt = rg.variables['station_alt']\n",
    "station_alt"
   ]
  },
  {
   "cell_type": "code",
   "execution_count": 14,
   "metadata": {
    "collapsed": false
   },
   "outputs": [
    {
     "data": {
      "text/plain": [
       "array([ 202.,   44.,  759.,  340.,   65.], dtype=float32)"
      ]
     },
     "execution_count": 14,
     "metadata": {},
     "output_type": "execute_result"
    }
   ],
   "source": [
    "station_alt[:5]"
   ]
  },
  {
   "cell_type": "code",
   "execution_count": 15,
   "metadata": {
    "collapsed": false
   },
   "outputs": [
    {
     "data": {
      "text/plain": [
       "<class 'netCDF4._netCDF4.Variable'>\n",
       "|S1 station_loc(station, nchar)\n",
       "    long_name: location of station\n",
       "unlimited dimensions: \n",
       "current shape = (537, 36)\n",
       "filling on, default _FillValue of \u0000 used"
      ]
     },
     "execution_count": 15,
     "metadata": {},
     "output_type": "execute_result"
    }
   ],
   "source": [
    "station_loc = rg.variables['station_loc']\n",
    "station_loc"
   ]
  },
  {
   "cell_type": "code",
   "execution_count": 16,
   "metadata": {
    "collapsed": false
   },
   "outputs": [
    {
     "data": {
      "text/plain": [
       "masked_array(data = [b'A' b'a' b'c' b'h' b'e' b'n' -- -- -- -- -- -- -- -- -- -- -- -- -- -- --\n",
       " -- -- -- -- -- -- -- -- -- -- -- -- -- -- --],\n",
       "             mask = [False False False False False False  True  True  True  True  True  True\n",
       "  True  True  True  True  True  True  True  True  True  True  True  True\n",
       "  True  True  True  True  True  True  True  True  True  True  True  True],\n",
       "       fill_value = b'')"
      ]
     },
     "execution_count": 16,
     "metadata": {},
     "output_type": "execute_result"
    }
   ],
   "source": [
    "station_loc[0]"
   ]
  },
  {
   "cell_type": "markdown",
   "metadata": {},
   "source": [
    "Ahhhh, Aachen :D\n",
    "So this leads me to believe that the station numbering is done by name."
   ]
  },
  {
   "cell_type": "code",
   "execution_count": 17,
   "metadata": {
    "collapsed": false
   },
   "outputs": [
    {
     "data": {
      "text/plain": [
       "<class 'netCDF4._netCDF4.Variable'>\n",
       "float32 station_lon(station)\n",
       "    units: degrees east\n",
       "    _FillValue: nan\n",
       "    long_name: longitude of station\n",
       "unlimited dimensions: \n",
       "current shape = (537,)\n",
       "filling on"
      ]
     },
     "execution_count": 17,
     "metadata": {},
     "output_type": "execute_result"
    }
   ],
   "source": [
    "station_lon = rg.variables['station_lon']\n",
    "station_lat = rg.variables['station_lat']\n",
    "station_lon"
   ]
  },
  {
   "cell_type": "code",
   "execution_count": 18,
   "metadata": {
    "collapsed": false
   },
   "outputs": [
    {
     "name": "stderr",
     "output_type": "stream",
     "text": [
      "/home/s/S.Rasp/.conda/envs/py3/lib/python3.4/site-packages/matplotlib/font_manager.py:280: UserWarning: Matplotlib is building the font cache using fc-list. This may take a moment.\n",
      "  'Matplotlib is building the font cache using fc-list. '\n"
     ]
    }
   ],
   "source": [
    "import matplotlib\n",
    "%matplotlib inline\n",
    "import matplotlib.pyplot as plt"
   ]
  },
  {
   "cell_type": "code",
   "execution_count": 22,
   "metadata": {
    "collapsed": false
   },
   "outputs": [
    {
     "data": {
      "text/plain": [
       "<matplotlib.colorbar.Colorbar at 0x7f0aa8640828>"
      ]
     },
     "execution_count": 22,
     "metadata": {},
     "output_type": "execute_result"
    },
    {
     "data": {
      "image/png": "[encoded data removed]",
      "text/plain": [
       "<matplotlib.figure.Figure at 0x7f0aab45a198>"
      ]
     },
     "metadata": {},
     "output_type": "display_data"
    }
   ],
   "source": [
    "plt.scatter(station_lon[:], station_lat[:], c = station_id[:])\n",
    "plt.colorbar()"
   ]
  },
  {
   "cell_type": "markdown",
   "metadata": {},
   "source": [
    "Wohooo, Germany!\n",
    "\n",
    "### Member variable"
   ]
  },
  {
   "cell_type": "code",
   "execution_count": 23,
   "metadata": {
    "collapsed": false
   },
   "outputs": [
    {
     "data": {
      "text/plain": [
       "<class 'netCDF4._netCDF4.Variable'>\n",
       "int32 member(member)\n",
       "    units: member_number\n",
       "    long_name: member\n",
       "unlimited dimensions: \n",
       "current shape = (50,)\n",
       "filling on, default _FillValue of -2147483647 used"
      ]
     },
     "execution_count": 23,
     "metadata": {},
     "output_type": "execute_result"
    }
   ],
   "source": [
    "members = rg.variables['member']\n",
    "members"
   ]
  },
  {
   "cell_type": "code",
   "execution_count": 24,
   "metadata": {
    "collapsed": false
   },
   "outputs": [
    {
     "data": {
      "text/plain": [
       "array([1, 2, 3, 4, 5], dtype=int32)"
      ]
     },
     "execution_count": 24,
     "metadata": {},
     "output_type": "execute_result"
    }
   ],
   "source": [
    "members[:5]"
   ]
  },
  {
   "cell_type": "markdown",
   "metadata": {},
   "source": [
    "### Temperature forecasts and observations"
   ]
  },
  {
   "cell_type": "code",
   "execution_count": 25,
   "metadata": {
    "collapsed": false
   },
   "outputs": [
    {
     "data": {
      "text/plain": [
       "<class 'netCDF4._netCDF4.Variable'>\n",
       "float32 t2m_fc(time, member, station)\n",
       "    units: deg_C\n",
       "    _FillValue: nan\n",
       "    long_name: interpolated t2m ensemble forecast\n",
       "unlimited dimensions: \n",
       "current shape = (7306, 50, 537)\n",
       "filling on"
      ]
     },
     "execution_count": 25,
     "metadata": {},
     "output_type": "execute_result"
    }
   ],
   "source": [
    "tfc = rg.variables['t2m_fc']\n",
    "tfc"
   ]
  },
  {
   "cell_type": "code",
   "execution_count": 26,
   "metadata": {
    "collapsed": false
   },
   "outputs": [
    {
     "data": {
      "text/plain": [
       "array([ 3.71734357,  4.00520658,  4.33275175,  3.8971622 ,  4.28613043,\n",
       "        3.90243697,  4.09666634,  3.5449295 ,  3.4745369 ,  3.85524869,\n",
       "        4.26581955,  3.57850885,  3.85187531,  3.70239949,  3.90717745,\n",
       "        4.10766172,  3.69684196,  3.79786873,  3.76915789,  3.54778886,\n",
       "        4.18655157,  3.66827798,  3.60403395,  4.02957869,  3.84383321,\n",
       "        3.64449239,  4.39049006,  3.63138151,  3.50289822,  3.65537477,\n",
       "        3.95890427,  4.48261118,  3.67717004,  4.31928444,  3.76501751,\n",
       "        4.7457962 ,  4.66405916,  3.56429577,  4.56990337,  3.82008052,\n",
       "        3.96141601,  3.85373545,  3.82974744,  3.80118966,  4.15622759,\n",
       "        3.75353956,  3.51636815,  4.12382364,  4.58440447,  3.55579734], dtype=float32)"
      ]
     },
     "execution_count": 26,
     "metadata": {},
     "output_type": "execute_result"
    }
   ],
   "source": [
    "tfc[0, :, 0]"
   ]
  },
  {
   "cell_type": "code",
   "execution_count": 27,
   "metadata": {
    "collapsed": false
   },
   "outputs": [
    {
     "data": {
      "text/plain": [
       "<class 'netCDF4._netCDF4.Variable'>\n",
       "float32 t2m_obs(time, station)\n",
       "    units: deg_C\n",
       "    _FillValue: nan\n",
       "    long_name: t2m station observation\n",
       "unlimited dimensions: \n",
       "current shape = (7306, 537)\n",
       "filling on"
      ]
     },
     "execution_count": 27,
     "metadata": {},
     "output_type": "execute_result"
    }
   ],
   "source": [
    "tobs = rg.variables['t2m_obs']\n",
    "tobs"
   ]
  },
  {
   "cell_type": "code",
   "execution_count": 28,
   "metadata": {
    "collapsed": false
   },
   "outputs": [
    {
     "data": {
      "text/plain": [
       "5.4000001"
      ]
     },
     "execution_count": 28,
     "metadata": {},
     "output_type": "execute_result"
    }
   ],
   "source": [
    "tobs[0, 0]"
   ]
  },
  {
   "cell_type": "code",
   "execution_count": 44,
   "metadata": {
    "collapsed": false
   },
   "outputs": [],
   "source": [
    "def plot_fc_obs_hist(t, s):\n",
    "    plt.hist(tfc[t, :, s])\n",
    "    plt.axvline(tobs[t, s], c='r')\n",
    "    plt.title(num2date(time[t], units='seconds since 1970-01-01 00:00 UTC'))\n",
    "    plt.show()"
   ]
  },
  {
   "cell_type": "code",
   "execution_count": 36,
   "metadata": {
    "collapsed": false
   },
   "outputs": [
    {
     "data": {
      "image/png": "[encoded data removed]",
      "text/plain": [
       "<matplotlib.figure.Figure at 0x7f0aa85db6a0>"
      ]
     },
     "metadata": {},
     "output_type": "display_data"
    },
    {
     "data": {
      "image/png": "[encoded data removed]",
      "text/plain": [
       "<matplotlib.figure.Figure at 0x7f0aa84aa358>"
      ]
     },
     "metadata": {},
     "output_type": "display_data"
    },
    {
     "data": {
      "image/png": "[encoded data removed]",
      "text/plain": [
       "<matplotlib.figure.Figure at 0x7f0aa8618e80>"
      ]
     },
     "metadata": {},
     "output_type": "display_data"
    }
   ],
   "source": [
    "plot_fc_obs_hist(0, 0)\n",
    "plot_fc_obs_hist(100, 100)\n",
    "plot_fc_obs_hist(1000, 200)"
   ]
  },
  {
   "cell_type": "markdown",
   "metadata": {},
   "source": [
    "Ah, ok for years 2008 to 2016, the forecasts are still in K. Let's fix this."
   ]
  },
  {
   "cell_type": "code",
   "execution_count": 37,
   "metadata": {
    "collapsed": false
   },
   "outputs": [
    {
     "data": {
      "text/plain": [
       "array([[[  3.71734357e+00,   4.41180515e+00,   7.29762495e-01, ...,\n",
       "           2.73963618e+00,   5.49335361e-01,  -8.72639656e-01],\n",
       "        [  4.00520658e+00,   4.76691961e+00,   1.24904883e+00, ...,\n",
       "           3.35848475e+00,   1.15464699e+00,  -4.53768402e-01],\n",
       "        [  4.33275175e+00,   4.43186331e+00,   9.77745235e-01, ...,\n",
       "           2.25252414e+00,   9.42865491e-01,  -3.81767690e-01],\n",
       "        ..., \n",
       "        [  4.12382364e+00,   4.03059244e+00,   1.34746265e+00, ...,\n",
       "           3.14612508e+00,   1.45150876e+00,  -3.27126771e-01],\n",
       "        [  4.58440447e+00,   5.26291990e+00,   1.07061839e+00, ...,\n",
       "           2.26777697e+00,   1.31817198e+00,  -2.04973474e-01],\n",
       "        [  3.55579734e+00,   4.43530607e+00,   5.96098185e-01, ...,\n",
       "           2.90221524e+00,   6.50442421e-01,  -8.58418584e-01]],\n",
       "\n",
       "       [[  3.70547438e+00,   5.34939146e+00,   1.31507695e+00, ...,\n",
       "           2.95535469e+00,   1.16953957e+00,  -4.32461083e-01],\n",
       "        [  3.71610141e+00,   5.00516176e+00,   1.18284655e+00, ...,\n",
       "           3.40776157e+00,   1.04009354e+00,  -2.71382123e-01],\n",
       "        [  3.69081116e+00,   5.04955053e+00,   1.52125335e+00, ...,\n",
       "           3.09918809e+00,   1.78452647e+00,   1.63067177e-01],\n",
       "        ..., \n",
       "        [  3.97469521e+00,   5.37967253e+00,   1.55742133e+00, ...,\n",
       "           3.48678827e+00,   1.64806068e+00,   1.80267647e-01],\n",
       "        [  3.72623897e+00,   5.78576565e+00,   1.71819603e+00, ...,\n",
       "           3.02137947e+00,   1.71144903e+00,   9.85178426e-02],\n",
       "        [  3.31811476e+00,   5.25392103e+00,   4.04712409e-01, ...,\n",
       "           2.89554906e+00,   6.78059980e-02,  -7.35709131e-01]],\n",
       "\n",
       "       [[  4.11142254e+00,   5.83239937e+00,   1.93650603e+00, ...,\n",
       "           3.24895692e+00,   1.80644989e+00,   9.38619152e-02],\n",
       "        [  4.30216169e+00,   5.43730783e+00,   2.24322939e+00, ...,\n",
       "           3.43978477e+00,   2.36778069e+00,   6.13592327e-01],\n",
       "        [  4.04923344e+00,   5.73198652e+00,   1.98888910e+00, ...,\n",
       "           3.68660927e+00,   1.79774964e+00,   3.09779704e-01],\n",
       "        ..., \n",
       "        [  4.18428421e+00,   6.04261732e+00,   2.18496943e+00, ...,\n",
       "           3.77098703e+00,   2.16772795e+00,   4.54757601e-01],\n",
       "        [  4.63073921e+00,   5.23178053e+00,   2.10556865e+00, ...,\n",
       "           3.80215359e+00,   2.04181433e+00,   3.19334745e-01],\n",
       "        [  4.46301031e+00,   6.37918854e+00,   2.18743396e+00, ...,\n",
       "           3.81260800e+00,   2.09250617e+00,   4.87764657e-01]],\n",
       "\n",
       "       ..., \n",
       "       [[  2.73699890e+02,   2.76390198e+02,   2.69722473e+02, ...,\n",
       "           2.71884125e+02,   2.68896027e+02,   2.67494232e+02],\n",
       "        [  2.71531830e+02,   2.76483276e+02,   2.68719666e+02, ...,\n",
       "           2.70611847e+02,   2.68517670e+02,   2.66762085e+02],\n",
       "        [  2.72882446e+02,   2.76251678e+02,   2.68906860e+02, ...,\n",
       "           2.71095490e+02,   2.69761383e+02,   2.68874542e+02],\n",
       "        ..., \n",
       "        [  2.71815887e+02,   2.76264740e+02,   2.68728119e+02, ...,\n",
       "           2.69979584e+02,   2.69353851e+02,   2.67923492e+02],\n",
       "        [  2.70939240e+02,   2.75986877e+02,   2.69800903e+02, ...,\n",
       "           2.70312225e+02,   2.68841949e+02,   2.67377838e+02],\n",
       "        [  2.73019745e+02,   2.76371735e+02,   2.68311035e+02, ...,\n",
       "           2.71076721e+02,   2.68972595e+02,   2.67613617e+02]],\n",
       "\n",
       "       [[  2.73540741e+02,   2.74266357e+02,   2.79268829e+02, ...,\n",
       "           2.72395844e+02,   2.79348755e+02,   2.79580231e+02],\n",
       "        [  2.73156982e+02,   2.74630066e+02,   2.79202240e+02, ...,\n",
       "           2.71659698e+02,   2.79269775e+02,   2.79141602e+02],\n",
       "        [  2.72641632e+02,   2.75236359e+02,   2.78563721e+02, ...,\n",
       "           2.72127533e+02,   2.78729675e+02,   2.78997284e+02],\n",
       "        ..., \n",
       "        [  2.72720093e+02,   2.74201111e+02,   2.78961609e+02, ...,\n",
       "           2.71941223e+02,   2.79035828e+02,   2.79205170e+02],\n",
       "        [  2.72839325e+02,   2.74759918e+02,   2.78909698e+02, ...,\n",
       "           2.71884491e+02,   2.78867859e+02,   2.79390778e+02],\n",
       "        [  2.73293732e+02,   2.73780853e+02,   2.79783630e+02, ...,\n",
       "           2.72645569e+02,   2.79612061e+02,   2.79575867e+02]],\n",
       "\n",
       "       [[  2.73877533e+02,   2.75559570e+02,   2.69714722e+02, ...,\n",
       "           2.73395325e+02,   2.69573425e+02,   2.70518646e+02],\n",
       "        [  2.72957397e+02,   2.74573914e+02,   2.69219849e+02, ...,\n",
       "           2.71401550e+02,   2.69762054e+02,   2.69534729e+02],\n",
       "        [  2.72890198e+02,   2.74351044e+02,   2.68224304e+02, ...,\n",
       "           2.71556030e+02,   2.69309265e+02,   2.68863403e+02],\n",
       "        ..., \n",
       "        [  2.73281982e+02,   2.75040161e+02,   2.70020966e+02, ...,\n",
       "           2.72709900e+02,   2.69753693e+02,   2.69725861e+02],\n",
       "        [  2.73328613e+02,   2.75147217e+02,   2.69820831e+02, ...,\n",
       "           2.72856262e+02,   2.70094635e+02,   2.69983612e+02],\n",
       "        [  2.72646301e+02,   2.74924194e+02,   2.70707153e+02, ...,\n",
       "           2.71627441e+02,   2.71462616e+02,   2.69831024e+02]]], dtype=float32)"
      ]
     },
     "execution_count": 37,
     "metadata": {},
     "output_type": "execute_result"
    }
   ],
   "source": [
    "tfc = tfc[:]"
   ]
  },
  {
   "cell_type": "code",
   "execution_count": 40,
   "metadata": {
    "collapsed": false
   },
   "outputs": [
    {
     "data": {
      "text/plain": [
       "[<matplotlib.lines.Line2D at 0x7f0aa8455908>]"
      ]
     },
     "execution_count": 40,
     "metadata": {},
     "output_type": "execute_result"
    },
    {
     "data": {
      "image/png": "[encoded data removed]",
      "text/plain": [
       "<matplotlib.figure.Figure at 0x7f0aa859c2b0>"
      ]
     },
     "metadata": {},
     "output_type": "display_data"
    }
   ],
   "source": [
    "plt.plot(np.mean(tfc, axis=(1, 2)))"
   ]
  },
  {
   "cell_type": "code",
   "execution_count": 41,
   "metadata": {
    "collapsed": false
   },
   "outputs": [
    {
     "data": {
      "text/plain": [
       "(array([ 730,  731,  732, ..., 7303, 7304, 7305]),)"
      ]
     },
     "execution_count": 41,
     "metadata": {},
     "output_type": "execute_result"
    }
   ],
   "source": [
    "np.where(np.mean(tfc, axis=(1, 2)) > 100)"
   ]
  },
  {
   "cell_type": "code",
   "execution_count": 42,
   "metadata": {
    "collapsed": true
   },
   "outputs": [],
   "source": [
    "tfc[730:] = tfc[730:] - 273.15"
   ]
  },
  {
   "cell_type": "code",
   "execution_count": 45,
   "metadata": {
    "collapsed": false
   },
   "outputs": [
    {
     "data": {
      "image/png": "[encoded data removed]",
      "text/plain": [
       "<matplotlib.figure.Figure at 0x7f0aa85c34a8>"
      ]
     },
     "metadata": {},
     "output_type": "display_data"
    }
   ],
   "source": [
    "plot_fc_obs_hist(1000, 200)"
   ]
  },
  {
   "cell_type": "code",
   "execution_count": null,
   "metadata": {
    "collapsed": true
   },
   "outputs": [],
   "source": []
  }
 ],
 "metadata": {
  "kernelspec": {
   "display_name": "Python 3",
   "language": "python",
   "name": "python3"
  },
  "language_info": {
   "codemirror_mode": {
    "name": "ipython",
    "version": 3
   },
   "file_extension": ".py",
   "mimetype": "text/x-python",
   "name": "python",
   "nbconvert_exporter": "python",
   "pygments_lexer": "ipython3",
   "version": "3.4.5"
  }
 },
 "nbformat": 4,
 "nbformat_minor": 2
}
