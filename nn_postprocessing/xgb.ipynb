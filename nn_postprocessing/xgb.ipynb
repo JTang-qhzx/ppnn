{
 "cells": [
  {
   "cell_type": "markdown",
   "metadata": {
    "toc": "true"
   },
   "source": [
    " # Table of Contents\n",
    "<div class=\"toc\" style=\"margin-top: 1em;\"><ul class=\"toc-item\" id=\"toc-level0\"><li><span><a href=\"http://localhost:8888/notebooks/xgb.ipynb#Get-data\" data-toc-modified-id=\"Get-data-1\"><span class=\"toc-item-num\">1&nbsp;&nbsp;</span>Get data</a></span></li><li><span><a href=\"http://localhost:8888/notebooks/xgb.ipynb#Build-a-neural-net-with-only-one-output\" data-toc-modified-id=\"Build-a-neural-net-with-only-one-output-2\"><span class=\"toc-item-num\">2&nbsp;&nbsp;</span>Build a neural net with only one output</a></span></li><li><span><a href=\"http://localhost:8888/notebooks/xgb.ipynb#BOOOOOST\" data-toc-modified-id=\"BOOOOOST-3\"><span class=\"toc-item-num\">3&nbsp;&nbsp;</span>BOOOOOST</a></span></li><li><span><a href=\"http://localhost:8888/notebooks/xgb.ipynb#CRPS-objective-function-for-XGBoost\" data-toc-modified-id=\"CRPS-objective-function-for-XGBoost-4\"><span class=\"toc-item-num\">4&nbsp;&nbsp;</span>CRPS objective function for XGBoost</a></span></li></ul></div>"
   ]
  },
  {
   "cell_type": "markdown",
   "metadata": {},
   "source": [
    "# XGBoost "
   ]
  },
  {
   "cell_type": "markdown",
   "metadata": {},
   "source": [
    "## Get data\n",
    "\n",
    "As usual."
   ]
  },
  {
   "cell_type": "code",
   "execution_count": 1,
   "metadata": {},
   "outputs": [
    {
     "name": "stderr",
     "output_type": "stream",
     "text": [
      "Using Theano backend.\n"
     ]
    }
   ],
   "source": [
    "from importlib import reload\n",
    "import utils; reload(utils)\n",
    "from utils import *\n",
    "from datetime import datetime\n",
    "%matplotlib inline\n",
    "import matplotlib.pyplot as plt\n",
    "from collections import OrderedDict\n",
    "import seaborn as sns\n",
    "\n",
    "import keras\n",
    "from keras.layers import Input, Dense, merge, Embedding, Flatten, Dropout\n",
    "from keras.layers.merge import Concatenate\n",
    "from keras.models import Model\n",
    "import keras.backend as K\n",
    "from keras.callbacks import EarlyStopping\n",
    "from keras.optimizers import SGD, Adam\n",
    "from crps_loss import crps_cost_function"
   ]
  },
  {
   "cell_type": "code",
   "execution_count": 2,
   "metadata": {
    "collapsed": true
   },
   "outputs": [],
   "source": [
    "# Basic setup\n",
    "DATA_DIR = '/Volumes/STICK/data/ppnn_data/'  # Mac\n",
    "# DATA_DIR = '/project/meteo/w2w/C7/ppnn_data/'   # LMU\n",
    "results_dir = '../results/'"
   ]
  },
  {
   "cell_type": "code",
   "execution_count": 3,
   "metadata": {
    "collapsed": true
   },
   "outputs": [],
   "source": [
    "aux_dict = OrderedDict()\n",
    "aux_dict['data_aux_geo_interpolated.nc'] = ['orog', \n",
    "                                            'station_alt', \n",
    "                                            'station_lat', \n",
    "                                            'station_lon']\n",
    "aux_dict['data_aux_pl500_interpolated_00UTC.nc'] = ['u_pl500_fc',\n",
    "                                                    'v_pl500_fc',\n",
    "                                                    'gh_pl500_fc']\n",
    "aux_dict['data_aux_pl850_interpolated_00UTC.nc'] = ['u_pl850_fc',\n",
    "                                                    'v_pl850_fc',\n",
    "                                                    'q_pl850_fc']\n",
    "aux_dict['data_aux_surface_interpolated_00UTC.nc'] = ['cape_fc',\n",
    "                                                      'sp_fc',\n",
    "                                                      'tcc_fc']"
   ]
  },
  {
   "cell_type": "code",
   "execution_count": 4,
   "metadata": {},
   "outputs": [
    {
     "name": "stdout",
     "output_type": "stream",
     "text": [
      "train set contains 365 days\n",
      "test set contains 366 days\n"
     ]
    }
   ],
   "source": [
    "train_dates = ['2015-01-01', '2016-01-01']\n",
    "test_dates =  ['2016-01-01', '2017-01-01']\n",
    "train_set, test_set = get_train_test_sets(DATA_DIR, train_dates, test_dates,\n",
    "                                          aux_dict=aux_dict)"
   ]
  },
  {
   "cell_type": "markdown",
   "metadata": {},
   "source": [
    "## Build a neural net with only one output"
   ]
  },
  {
   "cell_type": "code",
   "execution_count": 5,
   "metadata": {
    "collapsed": true
   },
   "outputs": [],
   "source": [
    "def build_hidden_model(hidden_nodes, feature_size=2, out_size=1):\n",
    "    inp = Input(shape=(feature_size,))\n",
    "    x = Dense(hidden_nodes, activation='relu')(inp)\n",
    "    x = Dense(out_size, activation='linear')(x)\n",
    "    return Model(inputs=inp, outputs=x)"
   ]
  },
  {
   "cell_type": "code",
   "execution_count": 6,
   "metadata": {
    "collapsed": true
   },
   "outputs": [],
   "source": [
    "hidden_model = build_hidden_model(50, train_set.features.shape[1], 1)"
   ]
  },
  {
   "cell_type": "code",
   "execution_count": 7,
   "metadata": {},
   "outputs": [
    {
     "name": "stdout",
     "output_type": "stream",
     "text": [
      "_________________________________________________________________\n",
      "Layer (type)                 Output Shape              Param #   \n",
      "=================================================================\n",
      "input_1 (InputLayer)         (None, 24)                0         \n",
      "_________________________________________________________________\n",
      "dense_1 (Dense)              (None, 50)                1250      \n",
      "_________________________________________________________________\n",
      "dense_2 (Dense)              (None, 1)                 51        \n",
      "=================================================================\n",
      "Total params: 1,301\n",
      "Trainable params: 1,301\n",
      "Non-trainable params: 0\n",
      "_________________________________________________________________\n"
     ]
    }
   ],
   "source": [
    "hidden_model.summary()"
   ]
  },
  {
   "cell_type": "code",
   "execution_count": 8,
   "metadata": {
    "collapsed": true
   },
   "outputs": [],
   "source": [
    "hidden_model.compile(optimizer=Adam(0.001), loss='mse')"
   ]
  },
  {
   "cell_type": "code",
   "execution_count": 12,
   "metadata": {},
   "outputs": [
    {
     "name": "stdout",
     "output_type": "stream",
     "text": [
      "Train on 180849 samples, validate on 182218 samples\n",
      "Epoch 1/10\n",
      "180849/180849 [==============================] - 0s - loss: 3.1179 - val_loss: 3.0431\n",
      "Epoch 2/10\n",
      "180849/180849 [==============================] - 0s - loss: 3.1144 - val_loss: 3.0329\n",
      "Epoch 3/10\n",
      "180849/180849 [==============================] - 0s - loss: 3.1122 - val_loss: 3.0200\n",
      "Epoch 4/10\n",
      "180849/180849 [==============================] - 0s - loss: 3.1124 - val_loss: 3.0128\n",
      "Epoch 5/10\n",
      "180849/180849 [==============================] - 0s - loss: 3.1065 - val_loss: 3.0284\n",
      "Epoch 6/10\n",
      "180849/180849 [==============================] - 0s - loss: 3.1107 - val_loss: 3.0086\n",
      "Epoch 7/10\n",
      "180849/180849 [==============================] - 0s - loss: 3.1036 - val_loss: 3.0295\n",
      "Epoch 8/10\n",
      "180849/180849 [==============================] - 0s - loss: 3.1004 - val_loss: 3.0848\n",
      "Epoch 9/10\n",
      "180849/180849 [==============================] - 0s - loss: 3.0990 - val_loss: 3.0544\n",
      "Epoch 10/10\n",
      "180849/180849 [==============================] - 0s - loss: 3.0936 - val_loss: 3.0648\n"
     ]
    },
    {
     "data": {
      "text/plain": [
       "<keras.callbacks.History at 0x125da69b0>"
      ]
     },
     "execution_count": 12,
     "metadata": {},
     "output_type": "execute_result"
    }
   ],
   "source": [
    "hidden_model.fit(train_set.features, train_set.targets, epochs=10, batch_size=1024,\n",
    "             validation_data=[test_set.features, test_set.targets])"
   ]
  },
  {
   "cell_type": "code",
   "execution_count": 13,
   "metadata": {},
   "outputs": [
    {
     "name": "stdout",
     "output_type": "stream",
     "text": [
      "174528/182218 [===========================>..] - ETA: 0s"
     ]
    },
    {
     "data": {
      "text/plain": [
       "1.7506607542837958"
      ]
     },
     "execution_count": 13,
     "metadata": {},
     "output_type": "execute_result"
    }
   ],
   "source": [
    "np.sqrt(hidden_model.evaluate(test_set.features, test_set.targets))"
   ]
  },
  {
   "cell_type": "code",
   "execution_count": 14,
   "metadata": {
    "collapsed": true
   },
   "outputs": [],
   "source": [
    "def build_linear_model(feature_size=2, out_size=1):\n",
    "    inp = Input(shape=(feature_size,))\n",
    "    x = Dense(out_size, activation='linear')(inp)\n",
    "    return Model(inputs=inp, outputs=x)"
   ]
  },
  {
   "cell_type": "code",
   "execution_count": 15,
   "metadata": {
    "collapsed": true
   },
   "outputs": [],
   "source": [
    "linear_model = build_linear_model(train_set.features.shape[1], 1)"
   ]
  },
  {
   "cell_type": "code",
   "execution_count": 16,
   "metadata": {},
   "outputs": [
    {
     "name": "stdout",
     "output_type": "stream",
     "text": [
      "_________________________________________________________________\n",
      "Layer (type)                 Output Shape              Param #   \n",
      "=================================================================\n",
      "input_2 (InputLayer)         (None, 24)                0         \n",
      "_________________________________________________________________\n",
      "dense_3 (Dense)              (None, 1)                 25        \n",
      "=================================================================\n",
      "Total params: 25\n",
      "Trainable params: 25\n",
      "Non-trainable params: 0\n",
      "_________________________________________________________________\n"
     ]
    }
   ],
   "source": [
    "linear_model.summary()"
   ]
  },
  {
   "cell_type": "code",
   "execution_count": 17,
   "metadata": {
    "collapsed": true
   },
   "outputs": [],
   "source": [
    "linear_model.compile(optimizer=Adam(0.01), loss='mse')"
   ]
  },
  {
   "cell_type": "code",
   "execution_count": 23,
   "metadata": {},
   "outputs": [
    {
     "name": "stdout",
     "output_type": "stream",
     "text": [
      "Train on 180849 samples, validate on 182218 samples\n",
      "Epoch 1/10\n",
      "180849/180849 [==============================] - 0s - loss: 3.2332 - val_loss: 3.0629\n",
      "Epoch 2/10\n",
      "180849/180849 [==============================] - 0s - loss: 3.2321 - val_loss: 3.0679\n",
      "Epoch 3/10\n",
      "180849/180849 [==============================] - 0s - loss: 3.2323 - val_loss: 3.0533\n",
      "Epoch 4/10\n",
      "180849/180849 [==============================] - 0s - loss: 3.2319 - val_loss: 3.0630\n",
      "Epoch 5/10\n",
      "180849/180849 [==============================] - 0s - loss: 3.2315 - val_loss: 3.0760\n",
      "Epoch 6/10\n",
      "180849/180849 [==============================] - 0s - loss: 3.2320 - val_loss: 3.0539\n",
      "Epoch 7/10\n",
      "180849/180849 [==============================] - 0s - loss: 3.2317 - val_loss: 3.0487\n",
      "Epoch 8/10\n",
      "180849/180849 [==============================] - 0s - loss: 3.2318 - val_loss: 3.0560\n",
      "Epoch 9/10\n",
      "180849/180849 [==============================] - 0s - loss: 3.2316 - val_loss: 3.0580\n",
      "Epoch 10/10\n",
      "180849/180849 [==============================] - 0s - loss: 3.2312 - val_loss: 3.0507\n"
     ]
    },
    {
     "data": {
      "text/plain": [
       "<keras.callbacks.History at 0x127258da0>"
      ]
     },
     "execution_count": 23,
     "metadata": {},
     "output_type": "execute_result"
    }
   ],
   "source": [
    "linear_model.fit(train_set.features, train_set.targets, epochs=10, batch_size=1024,\n",
    "             validation_data=[test_set.features, test_set.targets])"
   ]
  },
  {
   "cell_type": "code",
   "execution_count": 24,
   "metadata": {
    "collapsed": true
   },
   "outputs": [],
   "source": [
    "w = linear_model.layers[1].get_weights()[0]"
   ]
  },
  {
   "cell_type": "code",
   "execution_count": 25,
   "metadata": {},
   "outputs": [
    {
     "data": {
      "text/plain": [
       "(24, 1)"
      ]
     },
     "execution_count": 25,
     "metadata": {},
     "output_type": "execute_result"
    }
   ],
   "source": [
    "w.shape"
   ]
  },
  {
   "cell_type": "code",
   "execution_count": 26,
   "metadata": {},
   "outputs": [
    {
     "data": {
      "text/plain": [
       "<matplotlib.axes._subplots.AxesSubplot at 0x1272538d0>"
      ]
     },
     "execution_count": 26,
     "metadata": {},
     "output_type": "execute_result"
    },
    {
     "data": {
      "image/png": "[encoded data removed]",
      "text/plain": [
       "<matplotlib.figure.Figure at 0x127253e10>"
      ]
     },
     "metadata": {},
     "output_type": "display_data"
    }
   ],
   "source": [
    "sns.barplot(y=train_set.feature_names, x=np.abs(w[:, 0]))"
   ]
  },
  {
   "cell_type": "code",
   "execution_count": 27,
   "metadata": {
    "collapsed": true
   },
   "outputs": [],
   "source": [
    "linear_model = build_linear_model(train_set.features.shape[1], 2)\n",
    "linear_model.compile(optimizer=Adam(0.01), loss=crps_cost_function)"
   ]
  },
  {
   "cell_type": "code",
   "execution_count": 31,
   "metadata": {},
   "outputs": [
    {
     "name": "stdout",
     "output_type": "stream",
     "text": [
      "Train on 180849 samples, validate on 182218 samples\n",
      "Epoch 1/10\n",
      "180849/180849 [==============================] - 0s - loss: 0.9751 - val_loss: 0.9555\n",
      "Epoch 2/10\n",
      "180849/180849 [==============================] - 0s - loss: 0.9738 - val_loss: 0.9508\n",
      "Epoch 3/10\n",
      "180849/180849 [==============================] - 0s - loss: 0.9728 - val_loss: 0.9496\n",
      "Epoch 4/10\n",
      "180849/180849 [==============================] - 0s - loss: 0.9723 - val_loss: 0.9471\n",
      "Epoch 5/10\n",
      "180849/180849 [==============================] - 0s - loss: 0.9716 - val_loss: 0.9515\n",
      "Epoch 6/10\n",
      "180849/180849 [==============================] - 0s - loss: 0.9713 - val_loss: 0.9435\n",
      "Epoch 7/10\n",
      "180849/180849 [==============================] - 0s - loss: 0.9711 - val_loss: 0.9444ss: 0\n",
      "Epoch 8/10\n",
      "180849/180849 [==============================] - 0s - loss: 0.9707 - val_loss: 0.9439\n",
      "Epoch 9/10\n",
      "180849/180849 [==============================] - 0s - loss: 0.9705 - val_loss: 0.9425\n",
      "Epoch 10/10\n",
      "180849/180849 [==============================] - 0s - loss: 0.9705 - val_loss: 0.9427\n"
     ]
    },
    {
     "data": {
      "text/plain": [
       "<keras.callbacks.History at 0x12708a198>"
      ]
     },
     "execution_count": 31,
     "metadata": {},
     "output_type": "execute_result"
    }
   ],
   "source": [
    "linear_model.fit(train_set.features, train_set.targets, epochs=10, batch_size=1024,\n",
    "             validation_data=[test_set.features, test_set.targets])"
   ]
  },
  {
   "cell_type": "code",
   "execution_count": 36,
   "metadata": {
    "collapsed": true
   },
   "outputs": [],
   "source": [
    "preds = linear_model.predict(test_set.features)\n",
    "results_df = create_results_df(test_set.date_strs, test_set.station_ids,\n",
    "                               preds[:, 0], preds[:, 1])\n",
    "results_df.to_csv(results_dir + 'fc_network_aux_train_2015_pred_2016.csv')"
   ]
  },
  {
   "cell_type": "code",
   "execution_count": 32,
   "metadata": {},
   "outputs": [
    {
     "data": {
      "text/plain": [
       "(24, 2)"
      ]
     },
     "execution_count": 32,
     "metadata": {},
     "output_type": "execute_result"
    }
   ],
   "source": [
    "w = linear_model.layers[1].get_weights()[0]\n",
    "w.shape"
   ]
  },
  {
   "cell_type": "code",
   "execution_count": 33,
   "metadata": {},
   "outputs": [
    {
     "data": {
      "text/plain": [
       "array([[ 21.55556107,  -0.70024198],\n",
       "       [ -0.7106874 ,  -2.65330625],\n",
       "       [  3.9828589 ,  -0.43749264],\n",
       "       [-10.15917397,  -1.56758964],\n",
       "       [ -0.55702108,   0.18167441],\n",
       "       [ -1.12517023,  -0.26317564],\n",
       "       [  0.18476054,  -0.13982216],\n",
       "       [ -0.07289345,   0.68600416],\n",
       "       [ -0.71506745,   0.07589541],\n",
       "       [  0.46722719,   0.60490781],\n",
       "       [  1.52971852,  -1.34756672],\n",
       "       [ -1.14905655,   0.4754779 ],\n",
       "       [  0.87684828,   0.14090069],\n",
       "       [  0.43111378,  -0.75561202],\n",
       "       [  0.49245536,  -0.56652683],\n",
       "       [ -0.05685833,   0.14790827],\n",
       "       [  3.03324747,   1.41057789],\n",
       "       [  0.56196392,  -0.11340396],\n",
       "       [ -0.41695151,   0.07533995],\n",
       "       [  1.43556952,  -0.47592199],\n",
       "       [ -0.12202962,  -0.23491184],\n",
       "       [  0.24239618,   0.16700497],\n",
       "       [  0.54675311,   0.60206783],\n",
       "       [  0.27723232,  -0.11335158]], dtype=float32)"
      ]
     },
     "execution_count": 33,
     "metadata": {},
     "output_type": "execute_result"
    }
   ],
   "source": [
    "w"
   ]
  },
  {
   "cell_type": "code",
   "execution_count": 34,
   "metadata": {},
   "outputs": [
    {
     "data": {
      "text/plain": [
       "<matplotlib.axes._subplots.AxesSubplot at 0x12796a940>"
      ]
     },
     "execution_count": 34,
     "metadata": {},
     "output_type": "execute_result"
    },
    {
     "data": {
      "image/png": "[encoded data removed]",
      "text/plain": [
       "<matplotlib.figure.Figure at 0x127902080>"
      ]
     },
     "metadata": {},
     "output_type": "display_data"
    }
   ],
   "source": [
    "sns.barplot(y=train_set.feature_names, x=np.abs(w[:, 0]))"
   ]
  },
  {
   "cell_type": "code",
   "execution_count": 35,
   "metadata": {},
   "outputs": [
    {
     "data": {
      "text/plain": [
       "<matplotlib.axes._subplots.AxesSubplot at 0x1282ab198>"
      ]
     },
     "execution_count": 35,
     "metadata": {},
     "output_type": "execute_result"
    },
    {
     "data": {
      "image/png": "[encoded data removed]",
      "text/plain": [
       "<matplotlib.figure.Figure at 0x1282d3780>"
      ]
     },
     "metadata": {},
     "output_type": "display_data"
    }
   ],
   "source": [
    "sns.barplot(y=train_set.feature_names, x=np.abs(w[:, 1]))"
   ]
  },
  {
   "cell_type": "markdown",
   "metadata": {},
   "source": [
    "## BOOOOOST"
   ]
  },
  {
   "cell_type": "code",
   "execution_count": 18,
   "metadata": {},
   "outputs": [
    {
     "name": "stderr",
     "output_type": "stream",
     "text": [
      "/Users/stephanrasp/anaconda/envs/py36_keras/lib/python3.6/site-packages/sklearn/cross_validation.py:41: DeprecationWarning: This module was deprecated in version 0.18 in favor of the model_selection module into which all the refactored classes and functions are moved. Also note that the interface of the new CV iterators are different from that of this module. This module will be removed in 0.20.\n",
      "  \"This module will be removed in 0.20.\", DeprecationWarning)\n"
     ]
    }
   ],
   "source": [
    "import xgboost as xgb"
   ]
  },
  {
   "cell_type": "code",
   "execution_count": 48,
   "metadata": {
    "collapsed": true
   },
   "outputs": [],
   "source": [
    "dtrain = xgb.DMatrix(train_set.features, train_set.targets, \n",
    "                     feature_names=train_set.feature_names)\n",
    "dtest = xgb.DMatrix(test_set.features, test_set.targets, \n",
    "                     feature_names=test_set.feature_names)"
   ]
  },
  {
   "cell_type": "code",
   "execution_count": 51,
   "metadata": {
    "collapsed": true
   },
   "outputs": [],
   "source": [
    "our_params={\n",
    "            'eta':0.3,\n",
    "            'subsample':0.8,\n",
    "            'objective':'reg:linear',\n",
    "            'eval_metric': 'rmse',\n",
    "            }\n",
    "watchlist  = [(dtest,'eval'), (dtrain,'train')]"
   ]
  },
  {
   "cell_type": "code",
   "execution_count": 56,
   "metadata": {},
   "outputs": [
    {
     "name": "stdout",
     "output_type": "stream",
     "text": [
      "[0]\teval-rmse:6.91028\ttrain-rmse:6.92588\n",
      "[1]\teval-rmse:5.02271\ttrain-rmse:5.02794\n",
      "[2]\teval-rmse:3.76052\ttrain-rmse:3.75562\n",
      "[3]\teval-rmse:2.94882\ttrain-rmse:2.92686\n",
      "[4]\teval-rmse:2.44828\ttrain-rmse:2.40732\n",
      "[5]\teval-rmse:2.14258\ttrain-rmse:2.09606\n",
      "[6]\teval-rmse:1.97091\ttrain-rmse:1.91422\n",
      "[7]\teval-rmse:1.87266\ttrain-rmse:1.80578\n",
      "[8]\teval-rmse:1.82303\ttrain-rmse:1.74007\n",
      "[9]\teval-rmse:1.79319\ttrain-rmse:1.69971\n",
      "[10]\teval-rmse:1.77206\ttrain-rmse:1.66983\n",
      "[11]\teval-rmse:1.76417\ttrain-rmse:1.65135\n",
      "[12]\teval-rmse:1.75511\ttrain-rmse:1.63448\n",
      "[13]\teval-rmse:1.75209\ttrain-rmse:1.62086\n",
      "[14]\teval-rmse:1.74149\ttrain-rmse:1.60532\n",
      "[15]\teval-rmse:1.7372\ttrain-rmse:1.59292\n",
      "[16]\teval-rmse:1.73616\ttrain-rmse:1.58469\n",
      "[17]\teval-rmse:1.7337\ttrain-rmse:1.57744\n",
      "[18]\teval-rmse:1.73108\ttrain-rmse:1.5722\n",
      "[19]\teval-rmse:1.73003\ttrain-rmse:1.56726\n",
      "[20]\teval-rmse:1.73132\ttrain-rmse:1.55851\n",
      "[21]\teval-rmse:1.72977\ttrain-rmse:1.55354\n",
      "[22]\teval-rmse:1.72867\ttrain-rmse:1.54978\n",
      "[23]\teval-rmse:1.72383\ttrain-rmse:1.53983\n",
      "[24]\teval-rmse:1.72443\ttrain-rmse:1.53179\n",
      "[25]\teval-rmse:1.72417\ttrain-rmse:1.52763\n",
      "[26]\teval-rmse:1.72288\ttrain-rmse:1.52507\n",
      "[27]\teval-rmse:1.71845\ttrain-rmse:1.51596\n",
      "[28]\teval-rmse:1.71774\ttrain-rmse:1.51107\n",
      "[29]\teval-rmse:1.71647\ttrain-rmse:1.50751\n"
     ]
    }
   ],
   "source": [
    "bst=xgb.train(our_params, dtrain, 30, watchlist)"
   ]
  },
  {
   "cell_type": "code",
   "execution_count": 57,
   "metadata": {},
   "outputs": [
    {
     "data": {
      "text/plain": [
       "<matplotlib.axes._subplots.AxesSubplot at 0x13371fba8>"
      ]
     },
     "execution_count": 57,
     "metadata": {},
     "output_type": "execute_result"
    },
    {
     "data": {
      "image/png": "[encoded data removed]",
      "text/plain": [
       "<matplotlib.figure.Figure at 0x12f99b2e8>"
      ]
     },
     "metadata": {},
     "output_type": "display_data"
    }
   ],
   "source": [
    "xgb.plot_importance(bst)"
   ]
  },
  {
   "cell_type": "markdown",
   "metadata": {},
   "source": [
    "## CRPS objective function for XGBoost"
   ]
  },
  {
   "cell_type": "code",
   "execution_count": 58,
   "metadata": {
    "collapsed": true
   },
   "outputs": [],
   "source": [
    "# Doesn't work I think unless I do the binning stuff..."
   ]
  },
  {
   "cell_type": "code",
   "execution_count": null,
   "metadata": {
    "collapsed": true
   },
   "outputs": [],
   "source": []
  }
 ],
 "metadata": {
  "kernelspec": {
   "display_name": "Python 3",
   "language": "python",
   "name": "python3"
  },
  "language_info": {
   "codemirror_mode": {
    "name": "ipython",
    "version": 3
   },
   "file_extension": ".py",
   "mimetype": "text/x-python",
   "name": "python",
   "nbconvert_exporter": "python",
   "pygments_lexer": "ipython3",
   "version": "3.6.2"
  },
  "toc": {
   "nav_menu": {},
   "number_sections": true,
   "sideBar": true,
   "skip_h1_title": true,
   "toc_cell": true,
   "toc_position": {},
   "toc_section_display": "block",
   "toc_window_display": false
  }
 },
 "nbformat": 4,
 "nbformat_minor": 2
}
