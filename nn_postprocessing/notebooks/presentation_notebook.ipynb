{
 "cells": [
  {
   "cell_type": "markdown",
   "metadata": {
    "toc": "true"
   },
   "source": [
    " # Table of Contents\n",
    "<div class=\"toc\" style=\"margin-top: 1em;\"><ul class=\"toc-item\" id=\"toc-level0\"><li><span><a href=\"http://localhost:8888/notebooks/presentation_notebook.ipynb#A-simple-neural-network-in-Numpy\" data-toc-modified-id=\"A-simple-neural-network-in-Numpy-1\"><span class=\"toc-item-num\">1&nbsp;&nbsp;</span>A simple neural network in Numpy</a></span><ul class=\"toc-item\"><li><span><a href=\"http://localhost:8888/notebooks/presentation_notebook.ipynb#Define-backpropagation-in-numpy\" data-toc-modified-id=\"Define-backpropagation-in-numpy-1.1\"><span class=\"toc-item-num\">1.1&nbsp;&nbsp;</span>Define backpropagation in numpy</a></span></li><li><span><a href=\"http://localhost:8888/notebooks/presentation_notebook.ipynb#Train-the-network\" data-toc-modified-id=\"Train-the-network-1.2\"><span class=\"toc-item-num\">1.2&nbsp;&nbsp;</span>Train the network</a></span></li><li><span><a href=\"http://localhost:8888/notebooks/presentation_notebook.ipynb#Building-a-neural-network-in-Keras\" data-toc-modified-id=\"Building-a-neural-network-in-Keras-1.3\"><span class=\"toc-item-num\">1.3&nbsp;&nbsp;</span>Building a neural network in Keras</a></span></li></ul></li><li><span><a href=\"http://localhost:8888/notebooks/presentation_notebook.ipynb#Post-processing:-The-data\" data-toc-modified-id=\"Post-processing:-The-data-2\"><span class=\"toc-item-num\">2&nbsp;&nbsp;</span>Post-processing: The data</a></span></li><li><span><a href=\"http://localhost:8888/notebooks/presentation_notebook.ipynb#Simple-postprocessing\" data-toc-modified-id=\"Simple-postprocessing-3\"><span class=\"toc-item-num\">3&nbsp;&nbsp;</span>Simple postprocessing</a></span><ul class=\"toc-item\"><li><span><a href=\"http://localhost:8888/notebooks/presentation_notebook.ipynb#Add-station-information-with-embeddings\" data-toc-modified-id=\"Add-station-information-with-embeddings-3.1\"><span class=\"toc-item-num\">3.1&nbsp;&nbsp;</span>Add station information with embeddings</a></span></li><li><span><a href=\"http://localhost:8888/notebooks/presentation_notebook.ipynb#What-about-a-neural-network?\" data-toc-modified-id=\"What-about-a-neural-network?-3.2\"><span class=\"toc-item-num\">3.2&nbsp;&nbsp;</span>What about a neural network?</a></span></li></ul></li><li><span><a href=\"http://localhost:8888/notebooks/presentation_notebook.ipynb#Adding-more-variables\" data-toc-modified-id=\"Adding-more-variables-4\"><span class=\"toc-item-num\">4&nbsp;&nbsp;</span>Adding more variables</a></span><ul class=\"toc-item\"><li><span><a href=\"http://localhost:8888/notebooks/presentation_notebook.ipynb#Simple-linear-net-with-auxiliary-variables\" data-toc-modified-id=\"Simple-linear-net-with-auxiliary-variables-4.1\"><span class=\"toc-item-num\">4.1&nbsp;&nbsp;</span>Simple linear net with auxiliary variables</a></span></li><li><span><a href=\"http://localhost:8888/notebooks/presentation_notebook.ipynb#Auxiliary-variables-with-station-embeddings\" data-toc-modified-id=\"Auxiliary-variables-with-station-embeddings-4.2\"><span class=\"toc-item-num\">4.2&nbsp;&nbsp;</span>Auxiliary variables with station embeddings</a></span></li><li><span><a href=\"http://localhost:8888/notebooks/presentation_notebook.ipynb#Neural-network\" data-toc-modified-id=\"Neural-network-4.3\"><span class=\"toc-item-num\">4.3&nbsp;&nbsp;</span>Neural network</a></span></li><li><span><a href=\"http://localhost:8888/notebooks/presentation_notebook.ipynb#A-more-complex-neural-network\" data-toc-modified-id=\"A-more-complex-neural-network-4.4\"><span class=\"toc-item-num\">4.4&nbsp;&nbsp;</span>A more complex neural network</a></span></li><li><span><a href=\"http://localhost:8888/notebooks/presentation_notebook.ipynb#Hmmm,-weird...\" data-toc-modified-id=\"Hmmm,-weird...-4.5\"><span class=\"toc-item-num\">4.5&nbsp;&nbsp;</span>Hmmm, weird...</a></span></li></ul></li><li><span><a href=\"http://localhost:8888/notebooks/presentation_notebook.ipynb#A-longer-training-period\" data-toc-modified-id=\"A-longer-training-period-5\"><span class=\"toc-item-num\">5&nbsp;&nbsp;</span>A longer training period</a></span></li><li><span><a href=\"http://localhost:8888/notebooks/presentation_notebook.ipynb#Conclusion\" data-toc-modified-id=\"Conclusion-6\"><span class=\"toc-item-num\">6&nbsp;&nbsp;</span>Conclusion</a></span></li></ul></div>"
   ]
  },
  {
   "cell_type": "markdown",
   "metadata": {},
   "source": [
    "# Neural networks for post-processing NWP forecasts"
   ]
  },
  {
   "cell_type": "code",
   "execution_count": 191,
   "metadata": {},
   "outputs": [
    {
     "name": "stdout",
     "output_type": "stream",
     "text": [
      "Anaconda environment: py36_keras\n",
      "Darwin 17.3.0\n"
     ]
    }
   ],
   "source": [
    "# Imports \n",
    "import numpy as np\n",
    "import sys\n",
    "sys.path.append('../')   # This is where all the python files are!\n",
    "from importlib import reload\n",
    "import utils; reload(utils)\n",
    "from utils import *\n",
    "import keras_models; reload(keras_models)\n",
    "from keras_models import *\n",
    "from losses import crps_cost_function\n",
    "from scipy.stats import norm\n",
    "import matplotlib.pyplot as plt\n",
    "%matplotlib inline\n",
    "from matplotlib import animation\n",
    "import seaborn as sns\n",
    "sns.set_style('dark')\n",
    "sns.set_context('poster')\n",
    "from tqdm import tqdm_notebook as tqdm\n",
    "from collections import OrderedDict\n",
    "from IPython.display import HTML\n",
    "import time\n",
    "from keras.utils.generic_utils import get_custom_objects\n",
    "metrics_dict = dict([(f.__name__, f) for f in [crps_cost_function]])\n",
    "get_custom_objects().update(metrics_dict)"
   ]
  },
  {
   "cell_type": "code",
   "execution_count": 2,
   "metadata": {
    "collapsed": true
   },
   "outputs": [],
   "source": [
    "# Basic setup\n",
    "DATA_DIR = '/Volumes/STICK/data/ppnn_data/'  # Mac\n",
    "# DATA_DIR = '/project/meteo/w2w/C7/ppnn_data/'   # LMU"
   ]
  },
  {
   "cell_type": "markdown",
   "metadata": {
    "heading_collapsed": true
   },
   "source": [
    "## A simple neural network in Numpy\n",
    "\n",
    "So what is a neural network anyway. Let's start by looking at a picture.\n",
    "\n",
    "![Neural network](general_nn.png)\n",
    "\n",
    "A neural network consists of several layers of interconnected nodes. Each node represents a weighted sum of all the nodes in the previous layers plus a bias.\n",
    "\n",
    "$$\\sum_j w_j x_j + b$$\n",
    "\n",
    "Additionally, each hidden layer is modified by a non-linear function $g(z)$. One very simple and popular activation function is called ReLU:\n",
    "\n",
    "$$\\mathrm{relu}(z) = \\mathrm{max}(0, z)$$\n",
    "\n",
    "Let's build a simplified network with one input and one output in pure Numpy."
   ]
  },
  {
   "cell_type": "code",
   "execution_count": 3,
   "metadata": {
    "hidden": true
   },
   "outputs": [
    {
     "data": {
      "text/plain": [
       "(50, 1)"
      ]
     },
     "execution_count": 3,
     "metadata": {},
     "output_type": "execute_result"
    },
    {
     "data": {
      "image/png": "[encoded data removed]",
      "text/plain": [
       "<matplotlib.figure.Figure at 0x111cb54a8>"
      ]
     },
     "metadata": {},
     "output_type": "display_data"
    }
   ],
   "source": [
    "# Create the data\n",
    "n_samples = 50\n",
    "x = np.expand_dims(np.random.uniform(0, 1, n_samples), -1)\n",
    "y = np.sin(2 * x) + 0.5 * np.sin(15 * x)\n",
    "plt.scatter(x, y);\n",
    "x.shape"
   ]
  },
  {
   "cell_type": "code",
   "execution_count": 58,
   "metadata": {
    "hidden": true
   },
   "outputs": [
    {
     "data": {
      "text/plain": [
       "((1, 200), (200,))"
      ]
     },
     "execution_count": 58,
     "metadata": {},
     "output_type": "execute_result"
    }
   ],
   "source": [
    "# Initialize the weights and biases for the input --> hidden layer step\n",
    "n_hidden = 200   # Number of nodes in hidden layer\n",
    "w1 = np.random.normal(size=(1, n_hidden))   # a matrix\n",
    "b1 = np.random.normal(size=n_hidden)        # a vector\n",
    "w1.shape, b1.shape"
   ]
  },
  {
   "cell_type": "code",
   "execution_count": 59,
   "metadata": {
    "hidden": true
   },
   "outputs": [
    {
     "data": {
      "text/plain": [
       "(50, 200)"
      ]
     },
     "execution_count": 59,
     "metadata": {},
     "output_type": "execute_result"
    }
   ],
   "source": [
    "# Do the first step \n",
    "hidden = np.dot(x, w1) + b1\n",
    "hidden.shape"
   ]
  },
  {
   "cell_type": "code",
   "execution_count": 60,
   "metadata": {
    "collapsed": true,
    "hidden": true
   },
   "outputs": [],
   "source": [
    "# Here comes the non-linearity\n",
    "def relu(z):\n",
    "    return np.maximum(0, z)"
   ]
  },
  {
   "cell_type": "code",
   "execution_count": 61,
   "metadata": {
    "collapsed": true,
    "hidden": true
   },
   "outputs": [],
   "source": [
    "hidden = relu(hidden)"
   ]
  },
  {
   "cell_type": "code",
   "execution_count": 62,
   "metadata": {
    "hidden": true
   },
   "outputs": [
    {
     "data": {
      "text/plain": [
       "((200, 1), (1,))"
      ]
     },
     "execution_count": 62,
     "metadata": {},
     "output_type": "execute_result"
    }
   ],
   "source": [
    "# Now the weights and biases for the hidden --> output step\n",
    "w2 = np.random.normal(size=(n_hidden, 1))\n",
    "b2 = np.random.normal(size=1)\n",
    "w2.shape, b2.shape"
   ]
  },
  {
   "cell_type": "code",
   "execution_count": 63,
   "metadata": {
    "hidden": true
   },
   "outputs": [
    {
     "data": {
      "text/plain": [
       "(50, 1)"
      ]
     },
     "execution_count": 63,
     "metadata": {},
     "output_type": "execute_result"
    }
   ],
   "source": [
    "# Now the second step\n",
    "preds = np.dot(hidden, w2) + b2\n",
    "preds.shape"
   ]
  },
  {
   "cell_type": "code",
   "execution_count": 64,
   "metadata": {
    "hidden": true
   },
   "outputs": [
    {
     "data": {
      "image/png": "[encoded data removed]",
      "text/plain": [
       "<matplotlib.figure.Figure at 0x12d322588>"
      ]
     },
     "metadata": {},
     "output_type": "display_data"
    }
   ],
   "source": [
    "plt.scatter(x, y);\n",
    "plt.scatter(x, preds);"
   ]
  },
  {
   "cell_type": "markdown",
   "metadata": {
    "hidden": true
   },
   "source": [
    "Now this is of course just some random garbage. The goal of the optimization algorithm is to change the weights and biases to get the output closer to the target. Mathematically, we are minimizing a loss function, for example the mean squared error.\n",
    "\n",
    "$$L = \\frac{1}{N_\\mathrm{{samples}}} \\sum_{i=1}^{N_\\mathrm{{samples}}} (\\mathrm{output} - \\mathrm{target})^2$$\n",
    "\n",
    "To minimize this loss we are using stochastic gradient descent. For this we need to compute the gradient of the loss with respect to all weights and biases. Basically, this mean using the chain rule of calculus. The algorithm to do this efficiently is called backpropagation."
   ]
  },
  {
   "cell_type": "code",
   "execution_count": 65,
   "metadata": {
    "collapsed": true,
    "hidden": true
   },
   "outputs": [],
   "source": [
    "def mse(predictions, targets):\n",
    "    return np.mean((predictions - targets) ** 2)"
   ]
  },
  {
   "cell_type": "code",
   "execution_count": 66,
   "metadata": {
    "hidden": true
   },
   "outputs": [
    {
     "data": {
      "text/plain": [
       "21.431198223748574"
      ]
     },
     "execution_count": 66,
     "metadata": {},
     "output_type": "execute_result"
    }
   ],
   "source": [
    "mse(preds, y)"
   ]
  },
  {
   "cell_type": "markdown",
   "metadata": {
    "heading_collapsed": true,
    "hidden": true
   },
   "source": [
    "### Define backpropagation in numpy"
   ]
  },
  {
   "cell_type": "code",
   "execution_count": 67,
   "metadata": {
    "collapsed": true,
    "hidden": true
   },
   "outputs": [],
   "source": [
    "# Some helper function to reset the weights\n",
    "def init_weights(n_hidden):\n",
    "    w1 = np.random.normal(size=(1, n_hidden))   # a matrix\n",
    "    b1 = np.random.normal(size=n_hidden)        # a vector\n",
    "    w2 = np.random.normal(size=(n_hidden, 1))\n",
    "    b2 = np.random.normal(size=1)\n",
    "    return [w1, w2], [b1, b2]"
   ]
  },
  {
   "cell_type": "code",
   "execution_count": 68,
   "metadata": {
    "collapsed": true,
    "hidden": true
   },
   "outputs": [],
   "source": [
    "# First define the forward pass.\n",
    "def forward_pass(x, weights, biases):\n",
    "    hidden = relu(np.dot(x, weights[0]) + biases[0])\n",
    "    return np.dot(hidden, weights[1]) + biases[1]"
   ]
  },
  {
   "cell_type": "code",
   "execution_count": 69,
   "metadata": {
    "collapsed": true,
    "hidden": true
   },
   "outputs": [],
   "source": [
    "# Define the derivative of the loss function and the activation function\n",
    "def dmse(predictions, targets):\n",
    "    return predictions - targets\n",
    "def drelu(z):\n",
    "    return 1. * (z > 0)"
   ]
  },
  {
   "cell_type": "code",
   "execution_count": 70,
   "metadata": {
    "collapsed": true,
    "hidden": true
   },
   "outputs": [],
   "source": [
    "def backprop_and_update(x, y, weights, biases, lr=1e-5):\n",
    "    # Compute the predictions\n",
    "    hidden = relu(np.dot(x, weights[0]) + biases[0])\n",
    "    preds = np.dot(hidden, weights[1]) + biases[1]\n",
    "    \n",
    "    # Compute the loss\n",
    "    loss = mse(preds, y)\n",
    "    \n",
    "    # Compute Ds\n",
    "    delta2 = dmse(preds, y)\n",
    "    dw2 = np.dot(hidden.T, delta2)\n",
    "    db2 = np.sum(delta2, axis=0)\n",
    "    delta1 = np.dot(delta2, weights[1].T)  * drelu(hidden)\n",
    "    dw1 = np.dot(x.T, delta1)\n",
    "    db1 = np.sum(delta1, axis=0)\n",
    "    \n",
    "    # Update parameters\n",
    "    weights[0] -= lr * dw1\n",
    "    biases[0] -= lr * db1\n",
    "    weights[1] -= lr * dw2\n",
    "    biases[1] -= lr * db2\n",
    "    \n",
    "    return loss"
   ]
  },
  {
   "cell_type": "markdown",
   "metadata": {
    "heading_collapsed": true,
    "hidden": true
   },
   "source": [
    "### Train the network"
   ]
  },
  {
   "cell_type": "code",
   "execution_count": 92,
   "metadata": {
    "hidden": true
   },
   "outputs": [],
   "source": [
    "weights, biases = init_weights(n_hidden)"
   ]
  },
  {
   "cell_type": "code",
   "execution_count": 93,
   "metadata": {
    "hidden": true
   },
   "outputs": [
    {
     "data": {
      "application/vnd.jupyter.widget-view+json": {
       "model_id": "b364ce5cfd54462d9334704f52b13ec0",
       "version_major": 2,
       "version_minor": 0
      },
      "text/html": [
       "<p>Failed to display Jupyter Widget of type <code>HBox</code>.</p>\n",
       "<p>\n",
       "  If you're reading this message in the Jupyter Notebook or JupyterLab Notebook, it may mean\n",
       "  that the widgets JavaScript is still loading. If this message persists, it\n",
       "  likely means that the widgets JavaScript library is either not installed or\n",
       "  not enabled. See the <a href=\"https://ipywidgets.readthedocs.io/en/stable/user_install.html\">Jupyter\n",
       "  Widgets Documentation</a> for setup instructions.\n",
       "</p>\n",
       "<p>\n",
       "  If you're reading this message in another frontend (for example, a static\n",
       "  rendering on GitHub or <a href=\"https://nbviewer.jupyter.org/\">NBViewer</a>),\n",
       "  it may mean that your frontend doesn't currently support widgets.\n",
       "</p>\n"
      ],
      "text/plain": [
       "HBox(children=(IntProgress(value=0, max=50000), HTML(value='')))"
      ]
     },
     "metadata": {},
     "output_type": "display_data"
    }
   ],
   "source": [
    "n_steps = 50000\n",
    "saved_preds = []\n",
    "pbar = tqdm(total=n_steps)\n",
    "for i in range(n_steps):\n",
    "    loss = backprop_and_update(x, y, weights, biases, lr=1e-4)\n",
    "    pbar.update(1)\n",
    "    pbar.set_postfix(OrderedDict({'loss': loss}))\n",
    "    if i % 500 == 0:\n",
    "        saved_preds.append(forward_pass(x, weights, biases))\n",
    "pbar.close()"
   ]
  },
  {
   "cell_type": "code",
   "execution_count": 94,
   "metadata": {
    "hidden": true
   },
   "outputs": [
    {
     "data": {
      "text/plain": [
       "(100, 50, 1)"
      ]
     },
     "execution_count": 94,
     "metadata": {},
     "output_type": "execute_result"
    }
   ],
   "source": [
    "saved_preds = np.array(saved_preds)\n",
    "saved_preds.shape"
   ]
  },
  {
   "cell_type": "code",
   "execution_count": 95,
   "metadata": {
    "hidden": true
   },
   "outputs": [],
   "source": [
    "fig, ax = plt.subplots()\n",
    "ax.scatter(x, y)\n",
    "s = ax.scatter(x[:, 0], saved_preds[0, :, 0])\n",
    "ax.set_ylim(0, 2)\n",
    "def animate(i):\n",
    "    y_i = saved_preds[i, :, 0]\n",
    "    s.set_offsets(np.array([x[:, 0], y_i]).T)\n",
    "plt.close();"
   ]
  },
  {
   "cell_type": "code",
   "execution_count": 98,
   "metadata": {
    "collapsed": true,
    "hidden": true
   },
   "outputs": [],
   "source": [
    "ani = animation.FuncAnimation(fig, animate, np.arange(saved_preds.shape[0]),\n",
    "                              interval=100)"
   ]
  },
  {
   "cell_type": "code",
   "execution_count": 99,
   "metadata": {
    "hidden": true
   },
   "outputs": [
    {
     "data": {
      "text/html": [
       "<video width=\"432\" height=\"288\" controls autoplay loop>\n",
       "  <source type=\"video/mp4\" src=\"data:video/mp4;base64,AAAAHGZ0eXBNNFYgAAACAGlzb21pc28yYXZjMQAAAAhmcmVlAACWx21kYXQAAAKgBgX//5zcRem9\n",
       "5tlIt5Ys2CDZI+7veDI2NCAtIGNvcmUgMTM4IC0gSC4yNjQvTVBFRy00IEFWQyBjb2RlYyAtIENv\n",
       "cHlsZWZ0IDIwMDMtMjAxMyAtIGh0dHA6Ly93d3cudmlkZW9sYW4ub3JnL3gyNjQuaHRtbCAtIG9w\n",
       "dGlvbnM6IGNhYmFjPTEgcmVmPTMgZGVibG9jaz0xOjA6MCBhbmFseXNlPTB4MzoweDExMyBtZT1o\n",
       "ZXggc3VibWU9NyBwc3k9MSBwc3lfcmQ9MS4wMDowLjAwIG1peGVkX3JlZj0xIG1lX3JhbmdlPTE2\n",
       "IGNocm9tYV9tZT0xIHRyZWxsaXM9MSA4eDhkY3Q9MSBjcW09MCBkZWFkem9uZT0yMSwxMSBmYXN0\n",
       "X3Bza2lwPTEgY2hyb21hX3FwX29mZnNldD0tMiB0aHJlYWRzPTYgbG9va2FoZWFkX3RocmVhZHM9\n",
       "MSBzbGljZWRfdGhyZWFkcz0wIG5yPTAgZGVjaW1hdGU9MSBpbnRlcmxhY2VkPTAgYmx1cmF5X2Nv\n",
       "bXBhdD0wIGNvbnN0cmFpbmVkX2ludHJhPTAgYmZyYW1lcz0zIGJfcHlyYW1pZD0yIGJfYWRhcHQ9\n",
       "MSBiX2JpYXM9MCBkaXJlY3Q9MSB3ZWlnaHRiPTEgb3Blbl9nb3A9MCB3ZWlnaHRwPTIga2V5aW50\n",
       "PTI1MCBrZXlpbnRfbWluPTEwIHNjZW5lY3V0PTQwIGludHJhX3JlZnJlc2g9MCByY19sb29rYWhl\n",
       "YWQ9NDAgcmM9Y3JmIG1idHJlZT0xIGNyZj0yMy4wIHFjb21wPTAuNjAgcXBtaW49MCBxcG1heD02\n",
       "OSBxcHN0ZXA9NCBpcF9yYXRpbz0xLjQwIGFxPTE6MS4wMACAAAAdMWWIhAAR//73iB8yy2n5Otdy\n",
       "EeetLq0fUO5GcV6kvf4gAAADABa/7/CHc7MBRdA4IFh6ORYf3ChEs4WTiUb6HAvt5ACoktRT/36H\n",
       "iyvfxFw0Rpb24zLCIXQGIUlsGHbL07C4lK3mMZ6GpykxYPTOVyUOu2+X9X5J0U35D/JKxBqCvb+K\n",
       "VyQAAAZI4ySXpC49czCQ6ExFbtwjLCtCt1AKfPyWMRtbQNdE+S2o9RldH1/U7z+Bp5OMlyO5lkgM\n",
       "phwRQvJCzhuw4XDScaeAQNHtNFtpcHFCJDBnkIlUArRaGOmW7SwHSATkesFbxL1VkLZ3+OosseL1\n",
       "y0is2od4nOzb/JnWqpmZ1VYUkMl3Id2+L3OyEdVPjxDh46SlmIsX7eFtLZ72ZHA9cH8jKbRtNm9q\n",
       "szgAAKSANQvh8aX5PS/mgdEhoTUGWelU3pZJcK6m/oggWvqsg1c3/8N6JsykQABCws0Pf7P4TN9m\n",
       "yM6HMuxjuDFembVPJTPYC2MowRnik9QEtjVFePSL/kdICCWbucr72HvmSKM9A4as8yFh87DiibSH\n",
       "NApkxZPcRvScp7y0faWzhz3oimhc39li6U0e1LblOgud8w7GWuoX1aTV60RoX8COIfGYbvZIpXhp\n",
       "pScvi2bm3vvi0v4qfFa6kwWVYXfvwAAAGezR5JGPUPqBU/ONj4VJ+lEDvUVOx1yMea6gQpq0qULB\n",
       "uMcSuKbJWmhGJH3qAnTmZ6unrZY5O6O6nGNQ0h/yL/jgG9ws6M5WzNqidx5sQWwF1AjP3/6Dwcrx\n",
       "CG/l7ptIgwRHuYQuMLMxvj3QYgGSedxKdSXgle6YfnS9cUqw1mn5hi1af3sQrNBRSSagSkjj2SFp\n",
       "ucRIgNHK41H1s1+Dm8WH77tgCjEUZQiS1OG+974r1afNDCVBDnlQ3Fh6WwzZGJm0U2Wx4zdugk9R\n",
       "CatQm6lf+zx7t6p6O+Gf3Js/E38xhwbBOHQjIg+EzKmiob7vAHGJHitRPYhoKxsvK0N8CjbjBd/a\n",
       "YLrgRFcq65q7Jm/SvbFNdwSAUfi///YeRj+iyvOxaMKgc+5sEN11oRHiTTJvy0i95WCWnilcIGc5\n",
       "H7njnwreRXaUBjTAYE96oXSY8a3KiOedBctfJVZ4oGe9KFRi9UTxJwE0aZ77fCzb69lqNc137SLd\n",
       "hMx0aq0dJ1ucQsPZFyqEjV/dgDEySvqrABuCbG6ymHp/g0Oez0TG3i5ajWwT6H2xd6679lajRjJD\n",
       "Yyl8qbx9zxzhGn96KetC3JR0qiP3YpE06HSh0KOBSsudOICCK9gsQajGbD6FwCzTHnu/StpjS1ck\n",
       "5aVledbJYB+u+KgOEO0X/xHR80mYWQdt6QH06iPgGUBfrItDym+ies4w/0W57b9vJjv52qHAk7bU\n",
       "zViKqxcyphkkvJU50h9n0f7v90kAOKnpahBdG5ApwYy6z0V9eMl/tPLBpVj4AriY7o0tQU+lQWMm\n",
       "CPb9qwzKpSR6JDsDFZqZtTUnKf+rkoFJ2/pbBmYlJjR8N7lZIjYItBUVT3HlLyh9ar8q37bh1YjJ\n",
       "BvLw1xU06lXqZcy2zCsQaOYHiIuzU7pI5g5QZyXdYUjcvfV9uNo9OxUgsd7pON/Asvf85Xn6jbvE\n",
       "BckwU1V/4XhA6brpCaHfUQoIkaYx3+VDMdHRVmRdSlXwm15BMuqe86Ow4SsmuyoLU0Xm2tKGefZV\n",
       "JzPnQDfk3ERRFVw5iXSf/HZ11p++xH+Gz0pyYiH+qLgPo1pIsCYTk3lsLtGZgKN1xLZSzBbWmab9\n",
       "7uiAR5mtPwIN1JX3dvk+dEHTWnVuFX/xlb2KqPxMYwAdwXjVTG4YxGOA7zVmIG0wjfV4+M7njjn0\n",
       "vgUpWfQTydemvnsxfuLZn9yJxpsvmVMaqUuuqk3rRoJEXJUp4WgmkXPPbcnC4H3LKzkFjRdUDAw/\n",
       "lwPp8Xc/qFFgLdB8TMI05vZhw1JBiqS7Du+YFPL1V0GHXBaReo/bjaxUl4g3ILFCArR+wIJgSY3r\n",
       "f0ABxREOVR8l6rAn/fV+Fyj4vRs+cPhdXVSoWsMhwUJvitEZ9qeua9qcSZB2aKPw3UDOpiSwdfCU\n",
       "W5oyTC3i1HPP8GQirvwTnt86v9/IPI83JTCKPwH1iW3/akxHw4EZtW6jy4gNj67VJ5ONDtYEScNG\n",
       "dnKYHI07u7iQ1ToclI1Jn9bVSKdptnFj11C9iK/gugRVMtqxZQf0aCscC1/kR2Iit5qrQQAPeo2U\n",
       "IEHf1JXe5Oyg5JKoMIaGgZcf65tQ27Y+UmB+sX+rts/nEjkiJCdAslpQ14Owpb1kbxVRXi9lpZKC\n",
       "nzB1bXI82foHmYEvMt2odc2gdrW20193eaHnEoiW6NXFXaBEkc8SgcMP5gGFAyNdrMVcZ8lYucuW\n",
       "N6XBnrRl/n1mLprNz2M40cLpj1HonbevolRwAAGnRkKIbUbnMpW58N0J8AT/BwqD0bwASDgkPoz6\n",
       "zeE7Jb0lEXAj33t9gDBPEWi0iQ/YKaTsL9M32wDNN0vLrzRgvx2KDWYct2hwmhDU//oUrx05FfCV\n",
       "MZnjJNe6oKyDeAr5ihDcCLzLRNxbOjlgeBTP2zlyUDJzdxtL61eGjaWMIcwKJaONJ/yl0t/2B9T8\n",
       "Cvd78N5eCuDotc1oaUwrimTUnSmMhgTA8xneaNIgma0P8+kBGvcDMrRXLFfQqEkBXz9qGjM/v9UN\n",
       "209hzbC40T7B0l2YoKsC4o5SzSH9lJuC46z+mCtLoXwYg8Pb1Tnj/zfIWCRlksx+H909lpq0iwdE\n",
       "MdH8UuZXaVA5NTDhwli3j3N6hVO+X69ejMErhNBKvU7mHbnLZ6gCI2Bf0eYMEsEum1XYlXMAHkk+\n",
       "WXsZhtcQPbv84noMa9z/BJWgMp8UDG3BHnDVSe283Mwd8MkwRoeCGJu+Zy3CD56tDkSq3Ulkmkw6\n",
       "hXqH3AuK2vvmqNVNKVPxnZnoxWjWe3+QvT2domX/PdzR2d4DSOgYjytb6WDXyUtPI6ug63GN5xb4\n",
       "/sAWYq7yXX6vj8CI/QkVK1hOTBSL2PFTLeSXTR332zrmVkLNZeOWnC2bpgXscFslhReh2F5tkKfc\n",
       "b7zpYImfGpXg1/zQGDZvlla2r7MvZoDfMRUmwsmftwZd1j5xrf8zPmrfCJTKDXyeOoZHZRmug2BG\n",
       "Tj3kkMb11am+zP2O/ou1u2lfU19B+4IRUbJA8tURmsQcCt7iYl/lwt/zhsvaqcP+0HLRpdqEP7Td\n",
       "84UQbnTNgKUhB5qlxugD32f0bpflGmw59atzZaeZVVLDkWEkGMhaOQPdiVtLVIkyD+qYvrkWJyKI\n",
       "crkBfbvv35X6Av51vvmGeEZ7eG146WXUBr+OoQ5EY+PSw0qA4mXOzswh3Q/ZmNJYo2O7LTHH9NN0\n",
       "vvKE5VGt2S6PFKOlyWvzr9YEr+jrBf02OGyJcRLm9LepF5jzgLeoGPUDVKlz/O0pzpq1AXfEVrcx\n",
       "vPodFZGkdJG84nZYg76tbVE7ffx3RYtYFgHZNe43GHDx9tY/PWAEXCHLweSfyK9u7BmtQZwuTnPm\n",
       "jQWXptrBsK7ptIPDEa2i7QsaHEejy4jnruJRCdtJWsEgsAcWfpaf++RRPBsdwIYJFpsDCxJVKtd4\n",
       "j9qmsHTC8bppm4f08xSxAmLva2tgKPyoWB1f0/krAAHggW5BfMigH3lc2oc9rAGAl5qb4M1Ewytp\n",
       "zo08ByE1fAXMuBaj+sjYSQHjh0a/TmxkeCYZ9mpEpPiMV1pcZrhxvhktRDJnv+j97l4+rpdJfSIA\n",
       "XUlcaS24zzrZs5p3/roWaRUAs+ykvIO3luevqHyCZJr9cn7xZOl3yYyA8ivBtgeBOAiUj//uX+nY\n",
       "l0zVrMvhf9yh9Fwt6Tf0T6wJtA+YZscGIrTxxGZV/wTYsqvm5FqkoPXeOZYJSb/VgnglRAWQCdYT\n",
       "u6qHNywHgRBz7hiUhXVCaXNe16cFbv1M0QP+fEHUj3tM1YsdY/sBE/YiJl1HmG0YTd2Hg4jEp1cq\n",
       "SC9vGOnz5ROR0nG5BlpTXzMtMap1kP0fe2DrftkT4Q6ghwWaEsTXCcpahs3l2AZz0HZ7JLUP/8LX\n",
       "WTedCEx3gUwB71LhWnE7Re/MD4jY5akkI4Dz9cepFb0GmUdVjw0FjZX2TKk+RrqGVXI8Po1SYdi/\n",
       "KyyzD5CfaryMpJHyT3QEAg8TBXPSIUW/XTtYsMdODlUF0ujZwFbpncpt5wBTGaagWF0E62bwILAc\n",
       "Ujo9hyN3fyKrEx4OuQtUu9zPSmU/+ydWFrjXzrPsBQow+tq9+2bjtT/yv3OJ0SA9sOMKSnmpAfEm\n",
       "wczjXZ4xkc5NBqNhAOlFsutGlX4E7UEsrk/MYIuQcPI2udbrhc08I3oqhu8otxkvqqjluG2dYanc\n",
       "H/S70dXPEDO52GcdpEz44MV0EPcPTxUpoQKGvD/lOc2d5D0PC0ECqxPxn5/O7bu1Q/S4oYkgP7Kx\n",
       "x5cFaalxBIwz7Rvs8ftUT5fge9sLzvh+JX6/pq+5cmnjBE6ig9cEsC0H/1kUQwioQ41I5tPWxcf9\n",
       "ccW6ilGxMZcb405oWvurMCdfABspKCleEKJjxWypB5iY1RcIh3z8MOc3bSZXBYFYLNiVvZtUHHcm\n",
       "/f8foDIYdObJgWrNXnb6ypX+n+NgkeWK5QMxBo1r0/pvr/121oODEiTzh9vq4tpZ5OGmRgIVQewx\n",
       "qAEk6mvu++DDt+YzhszyoLVGNyCFmmt913Fhme1/a5BhOSfgaSFawQKK4CKqSFckGNxVzTZOF/mv\n",
       "cGXsY37GtAi/pXniWar6bHRo6DkwB1osvCaIJ2+C3B/inWenl4hB/BNEMoIjk+KBPu8k1bV+T+MW\n",
       "A4Ti7xy7Ux9X3pOt7AuCw9GpFpJ1zxP0gPYAhLjzig5U295gRuIgx8LtKRcTkw8q6ytXnNWWKpVV\n",
       "4GHczgFcoELWR/gZheLK0BDApW7YBZBuC2A88cC5ddgKwRF2O7XWJCg+9IbgcEoLparSHKkln0ej\n",
       "FxQ2vkATYbXcy05JvX0PXsRbPlkHwhEPlN0BoS4O7ibP80Sk1AZzsMfnb0aFrp797N1MPkZPvlGE\n",
       "DYr/sdF5/JpO5CitEoDHl7YG0OJSOvVgKrZTBvqd+Mt1eHEnQnOOqvF9f8yLbX2g9JirucHFXEmZ\n",
       "T1776MNalw83Q6IWM1hMaaMlWmkBDqhNfdcEcJLewC9CWyDfDzxSXIQaz8hq1FZuYn+Z0L3J1tHk\n",
       "xi1JULepjTGB+Zim+PCjAx3JCgLRjtcnxyuaLgmZFrhk8en9o7ZAwejGou0HMiI5uVMLHgvHIsoV\n",
       "6n0FOa3Dnled7pIW1uA8TTjrYcZ930086WHw9XYCdTVZv46GrXAN8O939L7JglyR1sEgpZBfrag9\n",
       "KKkA7UZpAaaTQv6onPvqZqbRVXsc//kepqL3YR1bU6GOV1xXpkofxxD8PI6zCqlHszDv+1Q74XVl\n",
       "tVFh6c97vLF8p68gv3kxu6gE0gNXYA8CqC4Jfl5XeiAoSu0HsGKsiHrl94+qwl0O/SV2kXH9sVJh\n",
       "9Zfj4vK7M8wbQOiBrVKWV26/XsSEwcx48rkVfxF6I9w6N1RD630QuduBfPFi41yQmnFyOJBpWhXT\n",
       "5eGlaDKddfzYseeRb3UX5/llZ8a+QQmbvnH/ufTihw7Bwdl4REm58X4861/7NP1F8qT+l9OzIaxj\n",
       "GPTsF7wDA8TB0E2OpXfyjiRfmUK3o4HXy4aiblrdCck3qtOKHAd9IQLIm6fXden1tHKGensqKsti\n",
       "FdB4HfbnkTG5qlFPgz7pJGshBYbT3Y5PGzqmJPLUa0h2M5A26VS5SIhXKpqFtSddL8RfvSnPQ8bY\n",
       "39n6st3cCB8SiBN/zkI0GZIe3K+ExMrE2KJErF+tiHZUlMlRvYZbOt1BXSU8w9KOq9E1Ib+XVB8Z\n",
       "XlN3OQefw18vGtuZ7BBOBXEhC7X881Ibf5sOSdzMticmvUEHW/EhKEXfilnvVYmjdW/jA088fJ4a\n",
       "Hv8GTLBShN7bCYIPiaElw06r1MR4l2ZwkEfFu1q6OQIq7GXkhYXZdVPIyx35DW69U9dkLBNicd+C\n",
       "garmqBXFg8CM02GN9cUpnDCW7x1eZ+AVhJpXP+QFoMtFrThAC3XRX3Vr8WosiuET1Z0pKMou/uKU\n",
       "UwPSKQOuxVzYcU6VSU0hyaI7AQWlIQROsENZi8xAZ7IOWRQGXhjHiIdAVmezZDlByhGr7h9OpPD9\n",
       "B4OE+B4vuIZ2hmRZEkRbyESMMxZIZNXB7unwBfZc9u3tt95D3lyT0s0iXrz53jOVYqbHU3L7rJOi\n",
       "v8RqkqK2sRRgCYG33TMyD/lt52S98JperMIFu1xRLqLge0x9EzPZn29Tj69ZFlr+SAMoxLBadNjS\n",
       "DR23+2GaiHhk3zfGX5Os4t+MiSpl1DoVpMh/UJNr3aisupt45BKy8Q4X7dqQGZjKG+Rf1/p2fqRz\n",
       "misQKnkobfXmDpUN0Lmh1maAHCUxqiW3h2LU6SA3FX7bqhrP9E6X6BwQm5hGr/cNOBhKC6N5LF9I\n",
       "6CcxUDwK034Be4IAZ88NB+gLOLssSvj36SV2evrRomYb9xSidMre3ilIIaTKa3QPXdMkMs8Xdbm6\n",
       "VwygMIFfUDpCUZXArPgnmrULqjKpmIl/7xBfdtxdzNBGquKKyTrI3ZIxqmBa1ppXzFsO221Rw68f\n",
       "Mq2KBGU0BYo1DvI1wQofq31+KSBYwYMKSyXJ68FQtSXyKWK2Tpwsx4eUdT7E6qtyEgZOP+9fZeSZ\n",
       "LEbkxdwJaGgwyD4ELZVkBnvuWzCcA7NFY5luAE0jgt3a8QxuZyS3DhnXFaclxxf3Dx1eyhbqBpqq\n",
       "8xezll/sMVYgzfRTAjCWO8EGn6x8odwdiwziXY2YjYFdwNjVXRtI5xH5ZUk9vq/riv6P+Uz6h6Jp\n",
       "UCwTAbWFMvXWIieSs6b0C3uWJ/es89CLldlZQhNYtI3Udgh40zJlElqwEHMTJH1NrliKD2uJjShb\n",
       "warKITf7rjiKTnfu7OS1yp7vT4bfiND7FwQAbT4Fvgc+O7MM60JXxF11/SWs/sbOAL5HqrW2ug48\n",
       "hpR1pU6YifQRQevfInMTXcb3K/ND6KV9EuEVvymqfyFXeWRmyMYgTMtOyr/0+Yguyq/PfmT0uW46\n",
       "7nMVpAIohEjmQ/bnzP5Kiwot3UVFY7yHz6sJ+GNKpB4gmujR1tErdbCiTBrLPf70uf9hj4yI/lqj\n",
       "cvVuBdw2W4Et6xokWf3ANE7Iteb9XsI3TGLCxF7WK2XkCa5bnbwCN736YvfD4/73O3/E0o8ncsdh\n",
       "jZWCJXuIsVSB8iHbn32XriPktQacbLvK4Va3BQ6MG9KfSp1yKCleps1DuRo6/jkWAkTKdsW787/a\n",
       "t8ja+WKR4lT+JwgVInao81Kyv7mtIhvZ2eb0/3cd6kHcMrb79WNfUuOEGol+fNkN2zR30ruLHLr6\n",
       "Uj70CpP8C31myfYa3Kb7oMS+8b/Ccc/xtaHu7MucOECsh06z/MTHbHPKMO0JiLTMGfqUQp8e/Xeo\n",
       "HajOm49UQn+Kn2/ePf9qhLHvwF6uaN7m0r5f8GfwrzcnoiY0xcZoIPqKj7Xvmld4Y9pjDhzRQDwc\n",
       "4+BHEGgqMg8xUiLcJ5mVzF7CBsJlv7xHoMeNLf5cvzZv0EfSLEEpk0nfDqJP9kc+IZmmIOutQtO4\n",
       "0ZmmwSIiCwpvF3pCBcVGB834UNWSXTzJS4qVZHwbShqjYjEmdCYeuER1kOF5YiB2xBOiphYe9aOJ\n",
       "I1WM4NndC6OxkAal0Zufq6lanlKcYzmvNFcV3+vO0vZDRKeXAvNLxZkg5htdj615kfEgtYgjEEVr\n",
       "j7KbzEaP4nb9U5Uxque+vuhtq3VQwKVW0yPhQhsP9oyJU2uenri14GGuj/UlhcXofg7YfhYLLLil\n",
       "DwYAWA/3i90Lz/C3PDdIe27CQoicnv20D4J8iZH9AAs2RamxyJ+ACFXd9r0yG7sDi5RTJD9iPQfo\n",
       "PnTPXv83q2tMlvWPi58JINNDLoJF9IJdJAD8mAJQ4tZHZLLscZ0Ig4oYuSSQoOcb+Gc/6zXeENgm\n",
       "usbr5j7Vb7hADcxK6CJbK2LvLnfocguZQSOPJMsdMyYx9orPusLqSJ6Ji85Ccq97fgCzBD1ywbl5\n",
       "WqCiZF8IoYDTNJoBytY+b3DolUGU36OkJxKAFtj+LEIrGM44AK/8MPwgzqc9USZUCsvsgUrTernx\n",
       "mj1Uw+sIR3o4/zyeI9wl1hY6V0Ku3F/F36PzzqYA7JWq91KGzJ36ozSFVaOrkJecBEDBkp2UNsST\n",
       "PXK/hrg6i7PsqInIF0qoT2y+gKhmUw82C0gc5mgVXDKkULCM3HemVAQcu/Qbq7PFo3HCNWLfndSj\n",
       "/b5K+UoMQMlg4s7Ji0tgiigKl5LhMJggiB/KLIIJUbTiLjd4oyer8u5KqZvcEw4tlA5iMMv5/a0o\n",
       "4gpJnzSI541DBjYmjjKna+8JTYA1nVYpqRzy0Zj8vxcSTBkKLbb7Xn5ZwhUD59G+4B6bv92UmsSI\n",
       "g48rzTyk8/K5mYhLkqxHtXl7aZHjrpKrwcLC4zDThGDsl4PQEZhPkeGQZdJfSa0KuCRdKro0StmB\n",
       "nuVpQkzn3FfuYj79Bdgu8cXP/poICxyZ/ryuei+fIwbr+P1patNxjoPvXuXSNIVjqkOfu2cZv7Gv\n",
       "shcZgJ6jQ7Y6t7x7GfMVqUPJ37+TKqs4LAzEXfo2IcLmsgjB7ez+CoZxLtbzBJMxq0bapNGUp1Vq\n",
       "ukB1D/waPWB6upsFDjMK9hogdg4IEix0WEpzFxoTk/p8nOUVTQ7mGhHlixqRLL8C8LEHb6OIWNal\n",
       "9kSMaBQE4FjDBtNuNJSs0D6v4tt2zTUJjwLwRupvEV+3IWseeCLA7KkRJ4Y62UP0FPjwLdGP7TK/\n",
       "/14D6QFkVgaTGD1E2v3tAesQVShkj46ebfXerMS2mDWfAFxfXl01zGGevi3brrgsF3YsDHIoW28u\n",
       "vOKSnd+yMrG6mPUEQ7sD9COFq93AnIpHsSnwZi/tbqsSDtirXi52zxoBDBU8Ed/ZS7Oek5oNiq2r\n",
       "aHD7psSBaAmIEcyRV8/FY1gy5TdF52OIH8bevBRKsz4PD+om1A91CjsDVUg1FbquInsRKdfWmW/w\n",
       "+h8WF79V1wPfvREehDRgux3Om3l8v0En5e3BiVlSPn3MjXrVEZIcf+FBsrf9U7t03RyjN7KpqUo2\n",
       "W3ldYjpoc6FMmKHAwo/dptu4JsNlwI+z3OEeDRceG5geCOInTkAHSP4eL+CxLCEshmOtBlzwmCvs\n",
       "e0uz2o0+KQVNa82DWLpuc5lUZ6fIozXCSz2aTkLke7IVhvwUG7ftFrFT13twunWx/bSDnpNqujne\n",
       "pMpDGX8nJuHd70CaG2GIgr8uGfWlr+2yROGAmQ9dcS3azyAkIAO2Jd5Gf/D806rYP8TWKxrSCcl8\n",
       "ttyn+nQD5OM1RMqIloA0JR7CMcW1cfSk1HU9LMEEGpfdqB92B2cZ8123egeyGyQbtfEd5hihH/w0\n",
       "PVYIpFHDztJHtWlx+T+N+uZJ8lFkQvFh7LJdi1VavRJvgyG7GxGJf1cdMvG73/96D+OnuZ3VVy51\n",
       "uWj1E8Q3O3WjdN2Ks8P7YY1rKNurq8v7/K3xP3B/Rj8evNGomryMGh/5HYznpqMcROromlu1ulUm\n",
       "fHLMjsKSmxiVboifc2smCp9uYgv6nAzFDKqW5ZW0XT7qwHzFCVQc80r0wJfpkB8L3vunU+7lX3ar\n",
       "DgnbZSEW2Te8QuKkAKjOMxe4DdOk39TL9sHFMmacM+r8x6WJc9jqgXbpkqkc1iYR21utr3TsRMM4\n",
       "j2dBzcFPZZSSa/GXAvE/u/lbsewrvskbuq9W3YHBHdrjORyAM3gKKrYtfcKoeUi8hUVXvDPniLRw\n",
       "Epb/V2oTfU9swq2U4M7243jISA0yZ+UK8chcmbTrPXSzzsmvmv3R5wa8Wc+3zMAsHqQ/neqXK76b\n",
       "X94QhEHolYmE0+S5C1WTcvU+ETHox/tzIl8kwfstwj0HQnlckS4KgWqGPTkXkwAADepBmiRsQR/+\n",
       "tSqAJofboAQRaPAt6D0K95I05J7x9lSDYxFfMOmtFjuzXp64kHw64tGQ1U/aqVckIoslbXqlqRA4\n",
       "4z1qlN7bXSOeYT3beLMIzVu/B9Zw4L0e0L+vpLyYR6lER8XpVY47T45udL65//D6Xd7mt3kIQdI4\n",
       "HcC1wb3Zf9MvkprBCoJl+CcH+1MXAacx/eRmR35e5OKFDo9eO43l0oHdY4bok754sn9Ux8u3sjeU\n",
       "d6JkaGL5lb25RiXDhbejXVuCbB9as/A9L2lmrNynIdEWr9n/DGF15IkgSdqh8/rEqMJdbrL4hRPm\n",
       "p+3OEXYGgQZGo/LGnQBmOgc5XjEkLihLIy+4l9ZzUHEvtuxrrMpNhaP8YfFPAkGcTW0gGJUNHDE4\n",
       "TW1Y06E4a6hfttzNzELqzh7Zu08hLEN1vCvnzqkrwEx+zCppEQRKaqRc6DmujmOEpaDE3MYNT07K\n",
       "GklxaZ4H2pVegzKEycm2/vI8xP3ait9XONrIjZLXosGj6J+MIXsInE9Krhw9Zz5XJJxOh2HP/MnN\n",
       "/fJ0NYEUOpKihHD8F2ZjfWLOoCWNVCH2/atN4IHAQ2snchGJ0quChX4G+T0XlQfxpjCEQkOrak2x\n",
       "F8kVKD9z0aHpiU9xUZormMxVPcWDfdT/jLBQOZQXkFN+I1a9BDGOUgi7am3AtGoySnSqpCFEZWHa\n",
       "UbJr2pKtH51NL1rWAfTdw5HX5pGvMuSMuGf07Ymvh0jycDgL8+U12U9MuS8crbfc+4eG4NMAfhev\n",
       "mdbVKxGFo870BrK18p0Zmzt8L2QlneLjGRkmgUzE+6dhpLthWbVecQvREDmU4aFLorg2onK4YqJ2\n",
       "QK3rpvB+FR4qrGgAj2FcyV0Q42XpBWFEp9toV8NlI7n25Nf340YrS4lj0pPKtT0a9tw5Dpb7FWo0\n",
       "6MQAFioicpgldfAejyepikNXyXw66u9AR6rQWUpNMzeURUWJBhJGXvMHHqIYBo3q7RjNkX5QiYhX\n",
       "rqXaN15wvKjn5tceLUFyFN1YXcAmRlnDmufo2Tf5eUuz7zyJLn0NbrY4Zaz5ChATBxxJGp2BMrxd\n",
       "7gPDo53vyjbLLrlh1CpUxBVvdJgS/F7M03wArd40x21OhIPMTeas4XIrvRfY0UhExhw2zdXYC3ST\n",
       "ASHOPOHwrNYHYhQQXWj9GSjYm7IkAE78DWbWS+z8kTgwqpCtTKyRmlo6Ly3Mz6EVwaS4vlfOJblW\n",
       "R6bq+qDeQlccr/kd2vJLw0tHtcHKHLBv5zQ/o5cG0Na1mQVLQD1w+vue9HPqG5f4UqQSLpZE5oSd\n",
       "vUnXt1uz2ILfTt/m9ZuVYILhWHj1Tm0kovVjRdQ94uXM9WOmuv8C5psvu5FZWPnWd2cDAWMpg/MB\n",
       "IFKqZZ/jzEB87z8vX7ZYC2rY5HcZECSrdbET/bJun5iUbaL+wSyrq4iG7+9FF+Cd8q5+Df4fjNBd\n",
       "CoYy2NYZ3HYzk0A7DsAmKQSKNgTXlXoJt9jfV3yQngSSz1PMPwZppMLk2SJ/kqPkrch8hE0no6de\n",
       "w66ezl+BxFC5enYcYJzDr9E/bwa5FmloHuDHokdl8BtH1/I1i4RWqB/IyunEV06q2UCm0UrMB4lS\n",
       "E7XWQBFizqYjC/TOjRBwq4I5YjWS35TMQ2RNtiTkjW1AcpZhBa5JKfu/uB8DUTP4X6oGxEOBsF/v\n",
       "FEUgh3cAB0UAMY8SVTc4JCmjLdpXb4CTIb9aArPcTR83PSCdO0f/7Mfo1AU8a3PEzNpoBeZSCK2/\n",
       "rqRPkPAyUiBpKYwkusWilf63Y9OEZkHkuzcZfXUriJHMWdQoiCX2wMl7di2wltVz8QJdLUiIFou0\n",
       "YvwUCtkf0HoC4odWnLcEb08Gu7Gk908lVFn1hA+e7y3o70tJdybCuRsx69a4a/YashFBf8IghmNS\n",
       "nUuWge5xuo39lEVsGE0nGm6b4hVl73VCQBkXp89klD0THEKQpx6qH2/yTaUJhYDbrCg6Nx96wtTu\n",
       "uCmmPinP5MfKu8c97LPFJMbaXfYW0uFMzkRi2MBzg3le/zcDMJmJWMwtCuDIkffCgOtlW5zS8xwI\n",
       "DmAW1F1ktKei7tgmP889CwfGy8YQfFaf9EyrbAplk93+sGucVN9ssHYfQkKu0mcMZ0w/KzuoqCe1\n",
       "FY1YTyanXVxc5wH+TvW5sQ0+KdD2myPwP++j6Ls8FVhZCJRRWpe9JWKA590BQkUtmuaZrqLqiUJ5\n",
       "ZUwQwg7xPQ8nVyAxxPCzUvytozBhgPOk/LgoqeKb5kjuzvCu4CFisCBGVHzMZX7gGfQUDd0CE/0G\n",
       "o8v2ChM+LtCu5d92XDmyXp8FEyTS2iJOVSI5yT05xdPNz/kQkiilyBDXei34mU5IJKmVqiNepD8I\n",
       "dUcCKMeNQsxFNiqI6H8PoYYDinDftve4ZgPjK8wOiu32q7qOD2bT+aS6w3/IahvukscFsswFWNfP\n",
       "rHMQ7uZrdIS/vYGO+Z/9Nna+pvXQ1Hid1QgPCFYSaTlZs5BM3lm2yuFVS3yhjOC1vo46LLEhndUE\n",
       "yYJ27eIMDUozJOlwQ32qMxEh9UeXYLcoFSpgK98yZ5X3TxXt1Kje9IofkXszjuj2bWb58oRh8Tv+\n",
       "SUV/oYxETtNX5S//qb22GXtjVdIgR9WnSo2hv2YP4HBsNeX/kswpvzIn1pnvsgu+XiWlBaqfpq1f\n",
       "7kLX7xksXD7AWsRfmIGYW7Om2baWt9FUfV4Faxbbvkd+zhFF+GW+pA16gl7AdZzi59acFCtcfaPn\n",
       "QyucYHJNRzd2c9kKp9Nw9OAKsYcs68z1v5l787OLqfEuo+YfU8SJ26xlTwQjpGvEmHfhMpuKb19C\n",
       "NvI54SFJ4c7Uzq8p2fpWAgvfi/yjaOjPjCfAA1FfoVmTEDjX7oF4TgNv06soidQ6sO3eNvHL9v/9\n",
       "up8BEkAl4qSXWOUK4sMvJZjk31AIWMGQXLHGIjLIrrBxZaPlBUl3VLLvfSi6mmGqY7JqJY47/niN\n",
       "P20X/IZx6+JuhHfOgGUfcKGeQTxyfLwW0VJTXi5cBv5Mp7Q/pQLsqZshhAld1i13TYMBmHB01WCO\n",
       "M672bJ9eYhKiGWp1dKAc6G3W1+wCAKv5FyfGEbCpLF3fTa8Iwf8wTMM0rsq2En+4aJc0kPhcmrOR\n",
       "WSc1iJ2Ql8oTHJnyJidXifanmoFuSbjbxFUdR/1rI+9ztkEjnRVPTWtWtj67+9cuhMmZsyBVI5fJ\n",
       "CXn9T6jsTOm704OXKIDuVmCvu8qVcdTGD+Bw1ceJOXcvzq7M+LRBD/TMlicouidRgbT2qc0BNCRy\n",
       "92bKZXTVOnRnFZGF/k2/4I+I3aXElxnOFEEbdz+lFL1UCPgs4UkYNzCUbneWQaoFLHqoYdjjRxRY\n",
       "PHkRgV08hdmyvMUpZmAd2VilI0iO3MT2c2qnpAI+cJRNwcEcBAbl9FAJMH7Ex8S7El6Hb+PsIi8x\n",
       "7kNC/GofzHkNdEaw/cCJuxZqWDbxgrNac/rlH2kbMxKIQuwU4JKP93tpmGzCCuHQLmRfVruoBIMi\n",
       "jEJv6zMcpW1HSFy6j9NpwpkwMAIHp3lYHwKw6NsTfTBG7rjExfa4nMQChwIbVBoy8Wb4Jd676buc\n",
       "2Rx5mxhQMMbpSu+34URydvnZBzMUf2OuPtag6IvUuwRQtKzMNhSLx+ozUk5aOF8tspJTmiGoX+eC\n",
       "omNoSPYPy530w/s96Wk7zJAkb8jmJU8Gcub5PtGSRGhvo31eaHcz+ZpQYn//6G/8LV9jwrhCtC/i\n",
       "KTZ397pqW6gBdY2Co2CF38p3z+4AbIJJc9RnNuKtetUcredqxl1Q4ucbdEe7AUZZ6X6llGTarOnC\n",
       "gA1WSoEWr5z75FGf5QaShl71IXNn4BVnmFyi3zN/loEJImeetDSmoW53Bw6IqJgt2lf8M016QbgB\n",
       "xrWx6cXcv1PSRq+0A/Ip/QFCON+GFtYhwZrsempX0ZeAGLaGcsUWc6/Kzs7Qc8FLXNLxI+c1l8OX\n",
       "BHdcnjd76EYefCoPvrUfdl+2NBVu4kgGOdlw38wsm/5VPmjfV+HntA2PipGwukbwMaoG8TeMovC3\n",
       "7SrH9DgscGpI7diBp5fYcygicWLGPbXCzXV9lvMuWtcfo4nXZbjL78TsN4N8dgyROq2PqNO89Gat\n",
       "jDTwWLYth/6M87WHR9YOyohlgScWK6JQwicsWWvRHTrSQzEQt51gzMMpQc6o3kZukDz9rKDEokhd\n",
       "cXJBooYr1Me/n5uhReFyBCsmKxmyPEjQUIVQJHBZSIGFuXOfNdaZenp3lKSplosNnlRBOWnqAhsJ\n",
       "RLKQmcA9X7vxJRcbi0tIj+t6L0mqUyvoAKN8IHbPXEFRbuNyBO5tfHLrEI6M1rK0aLmTHoJS6g9q\n",
       "A/hpyQefRbn1WvajxIcU/PI00tUN7MmRLSJLGd6Pk/WrkdZixSxqyafMNJ30ZHqMskRCBTADoflf\n",
       "mp9bvQtQB8HTn2hPJqT34a/zzK1yWetxYI7mtj0uwyogrMHHgFOdFFY8mVPQend9HlGPTI+P+b0o\n",
       "0KwrrNt88hEPPKJ0qi9NRrTKhvvdCRh/3MBH4iXav8unA8EQUTryMmnsfo8PEb4Fw/3CodudA95O\n",
       "0/wj2A17wqvuPABww2ZJga657xzVQh3vJwEEHGHQQjkHTgneG2mMjJ7tMUwT64dnJaCaMlciQFIh\n",
       "UhvfKl0x+gY+Kp5vFRPQYWlbvRY7fne7Hodo1g/1kemtO4830PIweZdas29jfUBuNgHHqt1v16Xk\n",
       "T832OE6dJYnwB6hdYVdJH3F/FulwAAADFkGeQniHfwB0tCKovJ1NQkHGfTe4gnsstJ+AD+EE22iW\n",
       "rlGr74/bLA/J5MAH2wYRCvCddtkBzZIjfYEtWQob8ij2CV6jehnrJ7qkZMlSNJHjx9Y11cSOiSJM\n",
       "4gXGk/LaCNe8pS+pyogNArvwSfXpnMHf6ZF255UxeVuJ0q5tVkGezHbJZylw3/e2LDXcUZKrOxMn\n",
       "x24BwK2Yl3+ujmW2W2+f5JKM5OhQ53O+XX/QNsLwhDmDI+h7FH5uswUSLNAmEiS6Md5OQBQYSvND\n",
       "L5WoSscWc/Stqh0rpiR0Wo8EKEFb6kBvEdk3GDRbFHEnCEpmIDitbsF9mI2mP0VB2+oXS+VrDsd8\n",
       "Xf6kQ3JGn+5/0D110Pf6rjAwg/zgJTv9144Phi1iAaUj2w0LCO0oDm3Jrslj3LA6xHjhN3zu3vXm\n",
       "x4aZCgYjaWt+NFh8kAifE98RIXiJvRUnmFfkb/gKDeQkvLrObOetajsVWBu3NOkzT/GpSIdnEZSg\n",
       "cAUCSIChMd0eqsn/p4mztkhyeJfACphH65f/wB6JXbcGiKnytwIaLFmOHDsagw4VtuOgiviWqhWl\n",
       "sK24gI+VLE6mfnSL1ff8h//NE8Qvg39vCYsPmVKsnWiho1lEX1irs8dO1sqsYxM3SBtb+kZG6azx\n",
       "VdUYuCmXAVn9mRe4umjdg9Wkjymlc5Zzd7r3T4t0MTJGWf47V4C2IU8PpDn0BNSFYEB9S9Ztsl+5\n",
       "3TAS76/nWsJTASaccOo5SVQ2wkQCLKhxEqFMYjegGlPJw0ecH8tGQquLpDMWKxnXtcpd7tMKjXFu\n",
       "nCY5D+cNZDK1C6Av0OJItfzBH7xsfWNhfgAmubKvkdG0y18jUzgkD4ghuPh5SSg5kxWSUGC+SPp5\n",
       "9ExasllZOQ9LxCjkUl1rAToZ6eSaDB9nNJZSf7/S4IT/RuQSiAOXigU/2z95rDGKTE/hOh8+YEc2\n",
       "nF4QpC1qMmsCkQHw/nIH0+X10eDUm2QQuH6RGOlnU4q2JPTZwoFO6BTIYkI5+xWt6CNTSclRXYkJ\n",
       "m0nkR3xOpBhbW8aKCYX1GcEAAAMnAZ5hdEN/ACjnhAIcu/Iz+gNhQSP6XcAJq9rlrwkdhWNOuLXX\n",
       "0eLFDrmqeKKQqKhbFqCpwSTe1wwOiWKjIqxq11SZMZk3+G7UTSnttb9qlXJB94eUWyOlEs/GdofG\n",
       "eM/aa6rMW0A1M2Q/0PMkx4UBxJO2aZGfY2U1munjXotoRxef/pDeiWFb0PhwkdpiBtJYMNrvMr9i\n",
       "CFeBz1OLVbzlFUqbAWreFd0PHISnmCZ8ATgc0HobivID+lXTcBnC6ndHj4x382AIfQnl5kI5rxmA\n",
       "5QbRoSsew7mMj4itMnJxpCUaX+xTyZ4hGVbThIoQYPHHu2V8rSWwYgBljrBTJqFHExUuHfyA32KM\n",
       "m2UYImLGE0dWT6MtjKsN7dfvfCTgQp+W7DofU0j4OkZneSEE0nldtn8B7miovzYY4gLMScN71l8O\n",
       "oC4SmsWq/e/uMRuzglNNV6VpL6LXQVCVnAfyj0m2qZoFWCSuY4xOPkBuhFCgQk9zUm9NO0wQtTsk\n",
       "IX9v/LCEzHbjce7LLdJAyR2I+qC9mpwx9m24q+dT9KxKXf/eWW3JlHGHiJVV+u1oQJ/giGxp5/cO\n",
       "LZT+33iCvfilvBLqcBbVkzyJHbrOFhV9qKpGSnUesqyNRHreiSmOqIo+kt8VuqgM1RQQLzb3M2Jo\n",
       "9cM8FgEGB2GKP69z3XkWhMeX78BmW+Lrf5zxMlwpykwOLjjHlKFJV1aAWiLHQ1uXawleZCMMjTum\n",
       "Cef1eV0LeICcHlL3C5Iz4HiABTynCI0MedHEExnEmoljX/DyY6uj9wdaA2DaWmFvGSNCRdvZv4Ep\n",
       "DJw5Dxa1mc/1+IkgsMztvRJnTjtZlfciC03JUHAt6H7AJRtGc94BeZI7PWHebrcw/lex4nUEXDPS\n",
       "1FNm3bc1Mhjc5jCtO+047Gfr7ArQpgtnCbL5kVo4bY+c266yItvP352Zc+e2OJVytZcjCRlpfEvo\n",
       "8F1R9rgujmwP1yGAVRvF7IW/1H2mcTPMwszSPMUOSEXAOetXBad2dTj6P1BzeYqzFUW3m99LidKH\n",
       "rCH9ZZjTZKv4hGOvecrG0vi/NImrCaqOIj7n9y2cAAABbgGeY2pDfwAo70J+XOMIUaIAIgE/6tc6\n",
       "gjEyyw7tA1IxrDXl1rMK1pdMqjVuWVbgUYb28H7h0/UbjfmyIQ387g2unMtQZP2QtWZgsyq5miaq\n",
       "RKFNWjiPzIjw3T4ccN121SrHP9y0lgTkOOHmSKkBEBfW5ItR4qIdzg1hOQowCQbcLMS/auiN4EDe\n",
       "HlOkdQa2Cpws+oRkPYSFzq/ZvhZKmOS5Ey6ILjtYyX5YNUon1qjaE1zfx3BFyn1NanVP4eSPpCAD\n",
       "r+ICZRwRi8cZj/eMn6V2pekeg4Ub/wDTvTeQ2NLkaZwy5On8bU6fURbSD1dH1O5LUrZ60Jmkporr\n",
       "sT4r5rzM/OO+xz6DygRnqSjALZItAA+JvlN9T5bXig3iPxVTxKyEhnOJLEFT694qK7tjNaMF/iyr\n",
       "aepNiY+JFNsTsolfwax7mAIJWGxGPSCvYFNgcvIpCVm4v2lT6Q1JqwpUABcdxvf85hjhBH3J9uKG\n",
       "YQAABzdBmmhJqEFomUwIIf/+qlUAAsl/d8ZwBB7ZfuZhH02OBpVGGfCcCM8zK2lD98f0qxUs2Y0Y\n",
       "Fn9xqPi/A3pJMpw5a0GEB/g57x65aPnoV7q+OO6GFTglUc9VaFDFuVBwq6exh0VDYwSVxplanOs8\n",
       "lq8I3yfAWSdlKjl0ND5QvYAsztsAlZY403JQwjsk2ZSnKs8+yKV0csi4g+BtSvxD5qfDgxFiI7K2\n",
       "EGCbOteTvVmhfB1u3nVi828Fv3BNApAYudi/2umVaK+BHwP1jXuY+CqHsC+1ySR5HdbohqgKOyhx\n",
       "qow66vpyXR0iwQxuwvYSswaMhDG0Z28QmgUk6mQCqtl9iF5tr7RMlw/rMCfAciaf/6LQVtWddSPp\n",
       "KmJopUhkxSzHu3I8J/8e8GDeN/bR3JzA15zuL9PhfS5k4WuM3PHKVPWe4nkhK9i1e8HreQEobUxW\n",
       "VV1aBIPKUWa0xgAA07uSK7MehGXwJloUrJvhxhWLw+uitMAkix7u0ndm6hEv3CamBmTGRGTW386I\n",
       "vnaOsIsXLIrH7SunkT/J3RagTY1pAeyPDnGy1uhHD4Q8gs3v24h4FePnYL++dSZdo/fakcNUin2S\n",
       "WmwUwf9hKJkjc7Y9zBSCXlLEU061u+pUJZGmWCKmM8/H5BDImz2hXnt2Ui29t4VWM7vHAvRV3c2k\n",
       "nORm/C5zKXsJhPfuItA8b+0syoSrkLjuKY6om4oquCCkAjW/OYEsft0yF49iOcxWgdCqT1EmX/FR\n",
       "wB3Yvj1RtE4d75Lo9fWLR48cJE5tL8eGBwEo6xWhqXl31a+Q9h3d1BPorkd8jhZvHHeeYhSF2VDT\n",
       "BliJoYPhjuXA4OSASeX0LYeX1LfS7sdCXGECWNGnk1iPkD04x5UVASSCZSnNrrKKflWFQH5GQlSd\n",
       "lL/Y77Uy5BrCnOeN0TVcahmbOb1ZjjSZGatXW7zCGGp5JgRja0LdTy4qo9lphGJU1SrDQK7iAUbX\n",
       "+57Mua13E2NzrFs7ii/mUA0WD2nux30mXTrWPzzM8LgvwzwKKWbLYlZDaz9Bjj5rS1DKT7RKBwf7\n",
       "roDDJYg5BvKJWuJB+uQcDINV/44kd+ROkV2UndcZjVw9rrlwzw5IbHg9gLdpSDKtBv+sj/s7qHrC\n",
       "9kjGwOHRjIjpn+txfLJVaRgL/TxM7YNlAGL9RBG6FnyoKwTm06ZBkr5o2HyCPM2d683iMpAoRRYV\n",
       "ETDrvZRTYxTe8GB6sdaL2hI0WaWSmimkQ8Ic4CK+LAibwebUfyT9kphT7qFS4iZ3Gn4BxB0m+7Dx\n",
       "lDpld2RagauTuV1wgg++FLoUJDnhVjjWlZXCLKlfjyEy/vwl6ypXhrV5R/RZYA7Y01bsdXaqG2IL\n",
       "J/Fsagg+CzV2ZhhFe1cdqtfC1rWsYeZkBC0SYJ0QQ65/4zG7l5MjH2nJGYwKfiF4PCJtM3l/0/1w\n",
       "aKgsJJilj564slPi4qpglNr4cRiV58n5MeY4cRKHXZ8Ye8GKcv8enkMQ4zB7b0PVEFgdUn64sNFs\n",
       "n69sgxlIvifsMtcs3u1fRtUSjYtl8sCYSRcaw6G/GdjKTDSJG/kZKZFkH4wPCiuJ5R0wTTAo15Q+\n",
       "Y3z+PQB9bSooXXDhEMJD4zg7iwtuZnqKV3f/WqThtehpa1dDA7DuluaO2uVwnifuL/nT6rqoTKOX\n",
       "HlrL7aGwPk0xJv3thiJOiJwXd/p/PQaS3Srwtcc48o0KhYjHcM4pcToggnk94k+Bf7Loi0ejpjUI\n",
       "tF+hhGPsQCl5vN8NDrYAe/iXfqCRqtDszEhvv3rtpH1SWtolW6F/jVoGCRhASaaswtgJ/riPbAge\n",
       "xsS0v2+bNwsJAIzZu0FUxE7RtwGCyReuFvVecxPis5+D2PuZFZ4LTvguokKHlp6FP1rTpyLJrmUo\n",
       "ZGwWJ+QwAmjLMMoO6rFEUgIruMVGLyTEUPsYhpQBmMznYDhSiwXDdqsnEHUkxhHqSSQpuq5K2ceY\n",
       "UinXPG7ik4g4aqtsQs/K0S6xTeZA8Tz5sZnATi7O7rvBVsx6v9O1kXXYlcwMogf/plMyXBwG5k0e\n",
       "r9wHmAVqBq6TTYoRAsD11muChBAZ1mTKqJXZd9hGYhoe34RLM47DCPlA5avEqiZOMMZ8KsrMjZFR\n",
       "Cgn43FQDOfOjG874FkbId4Rnn59ws9VhawQacHxH+av9R5OdHZK2QHyc8baNfs9wPBVtkEBTCkuJ\n",
       "H/tSqnIZooctPk2VMLRERp11jgTlGn0dcGiBmT5axPzPzBBRfg2vO6yt/u15xPl99qxQmrjoup1R\n",
       "kh2HXTFapyrgDMjhwwnCmtOL+OCX7qNv0OEv/+Ob3Ye57kUZBIkDOBD0UBG6eIYwQ7dtVLAqa+lC\n",
       "F334G/NOCWb3AG1RqZN+LX30JEDNpC79WvB0FalqeWKYgHBSDtgRiJL44VRSpUOa0DaEl8TjWV8y\n",
       "9O6fanYgBo/whcODselgJCjRDC67OrEIJ4m1FQAAAdpBnoZFESw7/wAcgjT+kYCzR1jWH6g6vKS7\n",
       "5JGF06GVwACYb1bBGMi8hQDf0gLMapcLtywm5OdY9ado6KGOSBx6J0dofFXhPbbhS9OPalhPnMNt\n",
       "eCTu6Xb6wWG6lmm0iQh3BRrlCCMzCJWJcj1lwSABEsIDUgZQBQv39YhDHlDMvEOpqdem+NISFyg+\n",
       "HughxObqV1fDaJO5cI/Za65128ZoLnpMqeA7ekJxQwoOLCijKtJs5THcoe49tG7j8GWfqcFL17NN\n",
       "YUc69pdkjxzYM8GbKJDVHChmMsA8gH6MNLVbKvrvyI1G9N60uE2f6NGkXfbYDQt65Y6asHnfipVk\n",
       "iQNFYi/c4adm9WtCtQRwfrfzslngCdG4Kgqe2hSLs3dmTyOzFTdgyiQfZoRaB1K0l/idXMpQP63+\n",
       "4bgwhJ0VnZ5/pmwENCR1eNk5WBVtMig0gpwQkT9usEFSK9og7c8XpDcvKpdGsXdBhv4pygUFNDx8\n",
       "AwO61BAgTXsRiyODBCc6JAgCtaEErXl+RtmYmWX5WYUxGR5r1hGSEsmSmf80P+P83eRLA550dIPY\n",
       "nXW07s7uifkilYTSXkFrKXn4YWhrRYOYpD3E2tqRHcioCv8bYi3L6TeL6s2ocf5YLmEAAAERAZ6l\n",
       "dEN/ACjnfM1wwmvAFtUMlcLHAB+z7tZZ51dFfIXMmvRarwcLh5JRroOvumOMwfY13NxjLHpf8qSY\n",
       "Mu5MDrab5di5Y5ucIRtCU9W8XZv0V0uQD7YQqrVfW07yP5uVLPdMcl9ZRReFYXBEwNKA7J9iTTvU\n",
       "2aMjqHay/UFbltqg2XXjLKW/a0sdkPft41ahnahs2zDbb//Xs8KHaSAjq5d7Z/NUgI9OEkV+8WKL\n",
       "z8HiNQU5BfNTEqIrNFLGuLOqUcuWCNSLZC6AogHIpVUrekkI1f2BNi7Hae/0B6peY8iNETO5F8Ee\n",
       "PuIT2UWZH+wfwzae1bERfcxhG3XgqiUIAfEhh5MPQvj3gCzhB2zx/rJBAAAA4wGep2pDfwAo70KK\n",
       "ZAMVP+cLmmT0dAIALWVaOn12HkUB/U5GJmtF5JZBsW0UeHJarLn2olr4ofcsxPd6zBjylChkqS17\n",
       "LW09E6gNgotBIS47k+bb4Z3Usg8/CwiET3rAagqfJeGdEyK3mfuC2gj/7G20N39Fx6B5givh/EbM\n",
       "5fqr6ZbkbyS0+Tkur08qTDtBCwVMUnoB8vZg8qGSeAubZ7BpD9nQyVQ84v333+h4PzIqZCMF/7lf\n",
       "rYyDjnJcO/JjVvAj2QvCdF3/3U0FZyYGuZp2QV4ls248rYUATUC740eST+HIAAAEE0GaqUmoQWyZ\n",
       "TAgh//6qVQACyeJvAG2OCDzfhr7lZA2Q0qtgRhr/mbBJWxxrSHw6xees5YLQwf8stdcF2CWJJXhI\n",
       "9khdEEW7rcqCmqSakpCXI/rPTMRPmQ1T2wL3SjTr5mnPtCQMBRxcvBr2zrKXSWUJfnXiNPsj8RGu\n",
       "RxXjJ5A2WJA3aPjLJE/PLzYzH/4Dog3xKg23wQDzaYKGlorF2i+acpR7VHHQm/bHzJZjLaFvhYs2\n",
       "FcuVK6FVNofCM4RICc5H2GP6SB7A/c6ux46o7lbJ5MabJBZp2qbUHNzhKJGQe/DtEtihtbe4xeFe\n",
       "HfX24hJ+ItuaUvaLrKMSAdaxnZQw0Voqw5UB3q0/NJIjkcZFs4YeLWiRi2hi6t/ETcyEEdrVz4Tt\n",
       "bg3AgNz+uuASZv/xuSXRXMPVFIllrNlqHMKzN3baWZ22XN9Nwo6pnleMwfTBmhl0EUWZUChWhBW1\n",
       "VUcsLvGR0Iy4suZmTdAMMWPvft6NFLKQEDKR7JKYYfCjVw/CXLpyYWZbJLPDE31MgPt8tjBEyum7\n",
       "zqjSRXbeM6nql4+HDU07/REJGpfLv8xwHD6GUy+y0Ed9q9PrIo5xCQWVkYCrj/6hV+jJc99edWfI\n",
       "6DpG8LPOPvtpIeH0w3WbAYt9gdy3k7J9kwmIDMMMsMGKkzH2MTytCyESLRBarSS3BqK0tbjhwxVf\n",
       "9xu504shCDorNQWGnQxX5aI8RWEPOSXCUDt2T4SZmcHpbf8PO4/ZaGZmn+hX/q1CXKn/hD14Tfrn\n",
       "lwrIeoD71hZWhBp/mQPoE1C+Tv0gKvvXqpM6aWPLIEVhdrCYX39bHZG2rQfyHvz10w1GPFFu6v3Q\n",
       "dCvBRZSEve44Ht8drTmxnlZPkvgveDVLWag5s8WcpH7fR3yvJxWyeqVfJDURrEODFY7a81V+B8jX\n",
       "s0HEPflpamT2TWhHO5K1M7rBDnYz7twgSTM+UJYxXXgQvJxs4yPxIgJ4wlgJBrOadF6epErP38Gj\n",
       "qmOryvrOPFp6jv9F8HWrZzKriLkyPsHknxiUxhk2k2ejigpoqfAOymUfIC13AwwYy2arVoBYjXO1\n",
       "CzdJf93BGE7Vx0F/oNZJK9IvseDVrcYYQn7smtr6wJYWJ50X9sf7SqHd1l5C6TAptqFFrt3bzl+h\n",
       "ALTVDQZ0B72gUX0qAFJpGjphC1ubSjMZKnB5v4BMvcKjmj9JjcG7/B2I6XKpFCvQH0jPLInFuq8W\n",
       "cteoT8dh4REciYYT5V6TO2JpR6PqfytWhw2tfEZ406JuXz5MIIXmTCxp/vg3rmqNvbBRq1TszZmj\n",
       "OWAUCdkCKCYnQWHLXwtejdnbylZ7ROtchlTO3j/jIVt7o4s39rxt2558sDkqeDAvLaJc6L13oxyo\n",
       "lxjWLVkzZ/qQAAAEAkGayknhClJlMCCP//61KoABZSfpACgJGgD6SA5NQTBD4EPDF0pJOHKdsKMG\n",
       "GN7atF5dpT4yOi0YT6KdeqFr+nKybeB0ov6pARW1N1Kq+nKhzfT5f46XkSCvLJJPWBAiOuvFPqfn\n",
       "8FVHt5bP+PK26H2pmeRNbElOaetZHQtE9H+ThwUPdRnoY7sLOAYggfRud0WFoffVMfig8gAn5WiT\n",
       "tm17ui3YiNE6ZDAWVfgvdNC6X+Y+/BMk/R+CtQ7rr/PoWW1HZN67/N7OznTFP79Fws4jqJ2zvHm/\n",
       "h6kUYIUt2ozLgaa3OSGqH2u+GCYaBdxNJKnozjY3C1WUiJV4WZgh3MhAh+4XVfuuxVPDGdP5rvSi\n",
       "YwiIgr+t5YV/iLyenLoUNAa5C6wtU0sHlnxvae6bwXYAP4fsZPaT+mceehCV8llezy3D6sIKGllG\n",
       "XCr+RE2YrUPSlIkY4lNWcd9PTb4ez8+AV91ot/TmkXlO7bENSK3ZlrT38UABHoado1ZNHshVDEQU\n",
       "rzNqFSuOgHgN6pKkCc5v+IVNbTKEcueaAQ51qDQENlb92XpYyi1YBZmj2F+9Emzk6aObnHwhRG3X\n",
       "j1jE+wx27D3GMev7MHOF6/6JgEcC9AsBTS6lwYdn0aBYw0uTpaiuzQsA4E9LusOCcW9a3RlFeE2/\n",
       "Uz4hapEw73S9W5A8b6NvfXqRcRwhfEIQ6ZlMya2o3nM2twi2fl/SnfMYfXHLzZzMQ8q/NLJtazo4\n",
       "locRGj7ftxDlp09RmXb8YYHTW34PGQAYGzQjSJdT3zkgcwQPulunGPiCsUWz/JV28JYFNb/1259F\n",
       "b+rKDxViWckagEHGSoOPE0EoTXKM+Bza6NWEhPMN3tP8AOHVcBOferHzz/CDY44M8hc9AY5aCJYR\n",
       "8NhnrvsqM5GSU26OmJ/+jroXvLKiyd+/VOpwheXowOrvMrrLcXVh1ANwg4zPDQrON6+OXdAuA+Rz\n",
       "fa7GCB2gOD9h/6L2rDqQKkijdLw7CQ0XZoITgeS10itN9NKYRM27jnX54vduZlIggjasTCKkfdvi\n",
       "fTe7lQsgZ7+yzcymQMsgfIaO2ati1eUgSgnmn/SV4ulNzVnnuOomWipYZx0MPB0RYe9d+77Bc8bb\n",
       "Nv+6Bqp+uackWybMMS84MwmBDZPLiIp/BEP1ElML+yvPkQXijPG9u7OypO1qK2ZsZSEZc8GD5fN9\n",
       "T8Z5s11bHpRcjJ6q9JXAWnBvLQJ/8yFbxvmTreFqpmcxZ/kHnJN9tn0qoLy5czYfhZO2xDOIZ6Re\n",
       "EH/gSpFVKfS0Ki5rCTDH8zwNW9xRxKy8FuMsOEVcOlZayzXppnWRWaJ488BRUhkaVZ5RZnHOTPKQ\n",
       "AVK4FOWOxp3QngJNwQAABotBmu5J4Q6JlMCCP/61KoABZpOKfQCcc452clyqyZnSfGZsgWus7J10\n",
       "s3jTtoFrRLO4fGIbXMpW0iSx8hOeznQZZOQGkkoxKmsHlf++lKSO7eebeB+E9d8Unm9K7bFHE9iG\n",
       "KMyE7OaJ32jxLjCn2XuPcUdby9rS3ZWRW/iCoKi55oyMLxpI1+YsAJhGHE9JPLHh9F4ETAluog4r\n",
       "mgU3+4mdmqT60Qmcf1df7K/rEKZgehsUX2bJREuQ6QJJMrfPXCG1s+iPbESfnOamtlE8O7wSDELd\n",
       "L/5t04KRTQDnE3bhle+YfxR3G3rU9xpIO+LvQqa2nJKVQEGMKM54PrYk9N+QXkzjzieT/fhpK2nj\n",
       "LVyn3+7+RxZNBiqFUQjMT3/tOzZRqsoP2v9fj9rt/gHqE02tnj1vu3CBoLcjzRbn6WxllYfhTGeX\n",
       "aocBfxBH8z24NoP6pv+Bky3BWW/YJC+/2Qt9Z7Yb71Nj5/veL80Tgjk6ExlyKKUnXMoL+0Xkhc4s\n",
       "NHzaPNOJvLu1haZS7fx/adYnwuPfePM7TSv/k5bPEGE/4pVFrcHT3uEiYUKrLtbG0Nv7fgvJn1Qa\n",
       "AxT0cVl77Rac+8QpLnYP3WdDTRNQ993zNnkjLQH3CGlxRiqgkGG/glRib438I+0xW3DRpXg2dlot\n",
       "Rx63Csx6V+NYNmesSyuTe0s74LO9SqHzuew45RU75/GdxO9HJwdNbg5TSJKT0ersOCRwzhy410GS\n",
       "9G+k1PpNZ6cGGBiohAP5bdROEr6plwA05ReVfPkeSilFl+tSYHNUoZmJZCAj9049RbtihFCy910B\n",
       "0X+bWHWk1rhvI5Ht9beZOOW7QGjhUw8GutEHMRxnvm7+iBOYgHTlaGgtaGnrJx5wIwLNm29ATji6\n",
       "Vq56/X/SSScAoYgiYjbtMp3DlkBZAbVs6zRQ/32onWAJcHdJzUIyAtrHzwOyzw7GIppr+elvTfgG\n",
       "m2Q6bR/LOj5zSQ/Ac8aCqBB8CA70S5bQHbkhKbMs/Z0Jfn8RXNkqZWCtBpbrimRkACF1hGTR6DzU\n",
       "PFs45Z4zktbXsQso6xV8PRcS9NOSa3yLggvVbgjl8gRaD+eGSO8RgUW5jsusPMPPofrY/QALeaqi\n",
       "4gfnDNbJ/L+TpP8oHZtSW6Dlj3stSdkSisVc7v7gWselP8lqqNLIqNAPclJuZXOgzdv7yeK3bnY2\n",
       "OWpbHAjjj5sXHqu6lV+54TzkpEO6IlsZas3Y5MgDj0vZOkE46Msph5rqnT9hrSwMN2rvQyqRjzi4\n",
       "1Y5JVmqspL6EN9pnG0wQCQZdo2tqvmUeCPyC/HURaiyydSgVpH6ETu8IPvITHWM0MY87nknmfHnf\n",
       "XFACVsVMccjOocfXksSeiVl5qIjbHHQsadOnxeq9ySd0x/E0hj8xJjkhLHC5cyevDnqpdoLEOZxn\n",
       "m2suGlnNxkGpeAoUtXK1gC4/WP9LKeqvfWq0mDlkC3Gg3BPgdgyF34onAZHGmy3mdALCefsmWdvC\n",
       "uOWwEJCsb9KISh2sz2g8OIiKWia9s4p+go0qwvJD9OKB9KB/PTumKlPH7BoksKVMcXkOcVfGMPSm\n",
       "HFSj1nYFLzP9uxdAkd7g6Cl+y8JCdfT1YLL7PrbqL0tajc/FwRr/47epZrB1199lXCvAcvzDgwBz\n",
       "RvoXdRgseNzKSO0t+oQCwKVNGhdgpwywyYuDEgtjv0w8GlbgTk2+x/h5nIEwPp1S7k8JYXy1TM+y\n",
       "Eg8ZpmXXvWxcmupi1OJAU2Fa2L9ZCRiZcbcRnxSqDJ5qh4vj+XBhO31LtpEVyAHJB9ppAza20XQQ\n",
       "1QteRF1xoSrzWUMJdQo0aeDKJphBsFvmxsk4J99ZIczp8AhG5KXQSw406eMWJYRWhSz7eBGgmyru\n",
       "CU3iFjCj6+1DeVKEHMkFL/JmYs8Kh3KrG5WIEJZigb/T50HdN59OxLq10Ot3yBCazSxv9XpeSADy\n",
       "rve+vb/6nR9qG2VcdxWRk6ZCYkhjHfQcueVHwVtW6TTLs258+iVaBrgmIMFezZiXRF1iqcaz7uBC\n",
       "DQrVrQPexl08v7k7C1p4ZYvwxvcA5GKabV4gXC2bFHzULOF6gNqd/EhTJoCo2qd8uLmF86QFSblc\n",
       "nl92Ug0jlScr4du8R7MClTM9N5Nixrukjoh7wXRUASs41+rzO1SuMGuKSYNlcPDPunaAKbcr1e4J\n",
       "XapoNEv6NAmP4m1YKbLuemgmU+u8FXmxlWLQzGOq+z+mzmpollQ8AAAA5kGfDEURPDv/AByBDhKx\n",
       "fEANt58D3kzh25hM1PBpoSzswFf9X87tDSryg5F0jEAdjxEwcbd/+fUXKSoGFAHE49JNJO80chcC\n",
       "8MXQ2ALekUmukOXT9Fb1SHkCF8PYd6PsF3s6ydrmt1aoRo533vFBDCigLWzibAA+m3jicE1M94jg\n",
       "RJRgOmeK/wLdnJBLNH8xD316gvHqTgVvWG5RUyeAY/bgJG+nd7nzQTRBfIhH7kzUZcGF12+Th7SP\n",
       "vy12wTs2qFkMl/l/rAtHCbxwZ4LBxKIB63pXRQHlKIeTr6umaVhCqWwb8psgAAAARwGfK3RDfwAo\n",
       "53zgR0OIu3KbfN5eRVHE4un+zVBO8dT+HPSU3p+oASp7v6K30bN7fHqD+vkiR+/8dPl3jAJtxcl+\n",
       "Etm4P5dBAAAAVgGfLWpDfwAo70KKWB+ZcAH8udtsTzd97D57bhvxORX9x+AfT6xKyRL1x9SvmZCk\n",
       "eAW13pJtEpv5xVDnpPW1wGWLjRSbtDnsz4k/wj5DMHyLYOmz4v03AAAEBEGbMkmoQWiZTAgj//61\n",
       "KoABW9i605IAApwQHh3jS6XyWPg+1a2lOTRMLk1aQQWkxvgFHIGl5uMderLUsOm3gh68O9RXfCt7\n",
       "vNAMFJb1qWIJQD9sKgKcmgfWboJSyeQCkp9OI81sYDQ51xPobLJmak924pi51GXUo1jXVuE4Dk1T\n",
       "TCHWy0AXhiWSmIk1gP7cyYJu1rW+p5c55fVBZO88RqHWjVgnMfJHg2YBPxu93d1LYQDQUSv65x7W\n",
       "c/uNQcF+xsB7gnwSHejSnjlA7uRrbQCe3d13vFllK6q1TAsq1qUzRY4N3bk5Qug9tckvCKtc6/JY\n",
       "00Uj5xJ7my2Zt3TSkxLo+2v6AJVIGB9z/akcinqEHIrwsG971t23XmGmyGI7RUWdKglPGRytB/mF\n",
       "0JSoPDQl9WZWAzJoOANCC8pmTzTVYy9R43FFLjoTEPyHd+ovRFhY1nBHb5iMiboxOLUSJBgYXNEI\n",
       "Kql8QTcycwQB3w3VHlj0+mIHtrFivjrndS4e/4DgJiPQkKxHrc/IPtiANgDxh5M9vWpN0kRwswAb\n",
       "c4TDR+YxCvXrh9FLOvS2Seoe91l+mljkmKT9DcaHB6DCmOlwZU5MfXP780RPwGwPVU2LtGiJzpB+\n",
       "BrsOQUFZ/fiH1rmVXdizjoymheRw9kLENj5X2ab5+QhL6o9Anl963YJPRP/vuOCJ9Cbcb+FfXME1\n",
       "xenzEJxkYJkxJOXp+UqoeADBmr7ojz8rHawvMlvDcLn4jfsmmQ7r0jau0j1Pheo12FJtkX2clnbI\n",
       "P1be+FHboPQ/eTwlg1jeJgXDkiYA8hJjqYXFJ4873cbsd2jiJ3WVM4F9AxkO9JnriygyP5x6AK0B\n",
       "Q8aZV3YxTQhruIvZ8n1mxIFVTu/vLU3FmB1plO3kLfOZxoQKTWqbvfluSTEKLhxcslr7yT2I5C3A\n",
       "fKltfs59iMZUV4lHearEkqR7rBYMSW2pJzo7wIBT0NHLVk07fL/BH91fpUTCancq32vyPA3TUJFh\n",
       "NS7qnNzR2V/6YoIFCmKHCdwNKgpD4G8NuTICb7k0qpNt5iyyz3HqNHSpZRdaAIib58+y/RlVMBuk\n",
       "hSVye4kCVZD1749zR4Lysg9atMpf8e6+tBCyILzhTWYfhi3olvwb1mAge9uKvHRtmg4pqFB5z/aY\n",
       "FU03EJ01fZ7RE6ZcqUNNzLmNN2veWT33ReP9WeYS76Y4uwl/lZ0NpGJTnfmbow9mfHMfUz6UcYgq\n",
       "KtFWxYIDALroqyvayFho8Gip44yedfmj3Rh2rorZLzXy3/b1Ri6lII8Tlhp4vTig72ky0PRx2uOg\n",
       "Cz6/5jHKxFAACre+rUZAgoCkiqd+uj8X/mInITc+Mq8DZs5SfN/jwbrFXW1JAAAAj0GfUEURLDv/\n",
       "AByCNPvulcpADQo5JPrvsTdA0VTUTzS7OtzkiANbGl7+aCk7oIK5CjdnQO/0JGZT2kz92A9zDzgZ\n",
       "Qh94qbgtHIVKNkME2VKUXO9FDFR4sAyCnAvlc6ZDnr6PmZPhzx/KWjXpwdzAWNt5+CdmnKjSKW6k\n",
       "O8W1ebuB10/bdEuMqANXhJ0V6F4iAAAAMgGfb3RDfwAo53zeI9SYfXZpkAiz1ij/Rdsh0vFUOPX/\n",
       "dxmjaYTmrPEpViMT9txWL+8cAAAANQGfcWpDfwAo70KI+FRlA5Y6NcLNlQF92TG9U7fJrilD5PkJ\n",
       "W3EqJzKEbFfdmdjAgYJHDLcXAAADaEGbdkmoQWyZTAgj//61KoABW9i5zkGYAKn/ZA/Y+P6Fm862\n",
       "X2dR9KHspadx71ntRFpxeXp+AaRXcgsYb3nW4Ge9q52Ikx/FAWz/ea8U7yTQyV5NJmDOp5s4x+3+\n",
       "rVOfkmwAktP+IMCP1lGG4E4An1nkzinPzTyO5EJk3+ud6FjhAW1M0bvvUbS45QiacyAPedlgHu68\n",
       "WgRAaz/HIUmXsZPy+7hd2p0aHTk8NjGjAmuKv0d8qjJO5iRoZN8RWuiQctg0x2Rmz6mZaZKXtIVL\n",
       "SUAh1xk58aZx9/uMZT/XDqxa7c+GeR3J7VYoRPd/EiAuZI7Qy9BdKa9mEDj1BDpEoldv6NUBErT5\n",
       "QeM4kjIhrS4WOw6M7jZdCOChzsBmZ63OawAlcZnlQRRt42HtDL7o+Mn3WlM6qIMZhgaEvCA4jf+U\n",
       "GR6A979biWmFA6oObA64kuMz5L6p5S0z2BzPSwNHOgLzWI9XVCGcCERdWC490CstlfI+whA/Swb7\n",
       "ETiQa07yc0SQf7wZ1zU7sELfMsW7/xc2cd4QGjEn9zBFBY4M+8IFl/a5lProfWme+qWhLRglPFBK\n",
       "wPSVDK/jbsxJNsKB1KSlyoMX/mwjqQZOLrCKCsSNWlkIFTSZZn+3o0sj1/+N5AELKxwiC5k5woXr\n",
       "B3DRaWmy7a34DnH8VSfe2Z5xAbL1qfMU4yYGAstYyAQEoPXjs3dJ75Z+zDqK/ihGse6o1ZOWmgXT\n",
       "qLjbLNdbP01ACjVKnpWt2t3BJ1h6dS51mNm8mUvYjuYQ4ug3jh/0kklCpWnnsSNu2RjTgr/Y+WJ3\n",
       "fQQJHO8HpFfA3Tv2y75K6sQNPLApaQAgAZVWdAMySiQGAQZ2YO0A6h6OBsjYQeYwjF3Uiz+pYH7R\n",
       "sLgpEKKfzfyXRyqpntusPU3zY5rXq5IUU/CR0u2JUzwAbHflrBgaXlWK+uIKoFsGZGsmdU1PXV7z\n",
       "N7KxO28iiyp6lCPaZldMAUK1E8E78YJH18GWjsmCvlTzmzggYvHCxwZiOHECfV6X0bnU7EPHqKS2\n",
       "8UK0oLQ4hrVLeghm0Qlj5PqLRyw1Sr+OGuBchKAk+99jW0VWEvtBhKxtQDk4y5MJDdsgTxtkhzQD\n",
       "0naFHohOB8jD6qFiThYPAPM21cAHzB5ej0IzdhFCjIuxZKXgmOmAAAAAbUGflEUVLDv/AByCNPv8\n",
       "y0AHApUE1rUugrCqIhhWwfTxasan4dSrHUB+qbZAiQN1R1ErpuEs3zW3WC2Hm5csJ1dpWgaKl1nN\n",
       "4t0LI0VDzmOxailvFFgIvHTrRLY9hAf6An2x7tjyfplDnOitSUAAAAAyAZ+zdEN/ACjnfM1ZNS14\n",
       "Cti55JgZ4WvZjx/SMJIfu9cY30RRk8qmrUnu20JShGLfekEAAAAzAZ+1akN/ACjvQoj4VEHjFFqF\n",
       "Ae1ffHwHcM+9oIYk4PDhwJsQzrodWYZwVq6d1lkXMnbAAAAD0kGbukmoQWyZTAgj//61KoABZSfp\n",
       "ACSik2HEE/ZaPlLmMOaUYMP9uG0loIYW5dVYTpY5srOHOUUQfA5h0quwr4mjRCMeeQUCkP5ZgiE7\n",
       "LPZGPsx15v2UG3R86v5EGxwiFDRu6BYoLoF2Gx7n+6j0QloZfIKBq5ZIxKR4g/b/MV+gg7Kx7KXb\n",
       "xuHNAldLobJgXCGyOztx3FvJfN/wGvHkLebFDRfa+e67hfAeFoAUvGxGtfQTlDMLEJuyFmBLeGP5\n",
       "UjEVWW6dGkVdV+7+2tILyxvuu2Bm9B8k3vCZtkYi6ICZ4pscBElenCmvLOH1/nWAjF9dQNbbFPig\n",
       "EjZfwCKMymp+ueOYJmdJHmTh9eq7MrOUM6AkrmxQ3Nsw5eCwuClXbEEBMNRDP7QNdhdScOPdVLSQ\n",
       "zEgf6zhCuBoG3IYAbetGhTi0nGl1MKOxCc27mpLdVH4gfYdEXXRXr4OmAsg2drL1yEZG+ExO658P\n",
       "yb4z9xgBBzXUxaG7gMS45h0qgtF380mW8IF+zxDYcH7LcbZh8eNRoh9doaFAojp6CcwRnBNDonO9\n",
       "SldU1RVSwY+xeaGjqx36/ezekfYYlZ5ftOtddTxogQeDPmPdvwRyXrMcK1/WrqDNuPE1lRDePthp\n",
       "u8Y1Xx0QILzegSh6LAMs13dHrXlZ5YZ6bXCGtQHI01JGSyEmGj0BEzArLIOpPRo55eGiFmbpzfFI\n",
       "BisXuf0TiaeoezvqwLfs2BgjN1oF8YWX2vGpJBrdeQa+l5QQjVVViWKJ4OfjdZHV7qM0OE3Voc/2\n",
       "Yta8GCtJuU9KrtCKXy4G9VcyiAieJjv4FPQbv6N2EbgKI4ThEl7WrI5jRTL/032tsdt/o/cubV69\n",
       "POb4O20rghWWpFQ9D3KJf96pcFiLOmr2Y5Nu1iFSQ8nEyKOvtbCbLiz2td4Bku2Nq38yZRT/nvjE\n",
       "wCVtpqYTSmuRuiC6F1un+HhcELChc5UMmlrUu4Eq9DWDwAJOBsR5Hi3gOr38RV0pmwjfBs8vdeEM\n",
       "QSx1Nnws1dh2aTaM8zJDXz8aHhQ8AkNEoO9uNB+eH62Whg+Pcc4gMEDI48eG+xABa28+DIQiQaIj\n",
       "i2N6aS0+IrtQXQXjmNTFakw6F1Xm565alKrz867muyNA+N3gAO8LBXhRO11DlStDGm5FVUuAmdP3\n",
       "D6E6IZtrApBBDxOTKLRsts1o1dtxlC1ERrOqGP6nywgdS4LVSHaIMIJ8JutdBYCqzsiuyFa6Xv9L\n",
       "KCLMLlJG2wSQQJIR7XdK5JRNAN5ksT95mgJMVsIBaCUugR6bAw7smclFSUAAsQAAAGxBn9hFFSw7\n",
       "/wAcgjT+kX0igV0m7eAEsnM59VPBxui/kIbymWhNWkvyinivKNY4bcWsFRBcAcyKDGMVdbfoY868\n",
       "2GleBJLMWUkYfJurwj9oLyO2UtT3GsIkuFjQzuPZ9qAQpzEc6htQraFJy6EAAAA8AZ/3dEN/ACjn\n",
       "fN4HjBE3PASOv68AU0I+8VWHFKZnU6TSnhVCwUkw9dcQZ81kCLIzyFk8HWXSl0jkvxdAAAAANwGf\n",
       "+WpDfwAo70KKWAYMol6IJz573+FC8C8aqOhz6YwkhmsCvXGI7FM+3WiXRQ0Hg9B0RRoN3qEAAAL8\n",
       "QZv+SahBbJlMCCP//rUqgAIw3UsATVEjQCH430cZLphetysm5A1wivKbbOthIhkTcs+pve3aYeyH\n",
       "Obww+PK8bYlDvtRdphy+2jfCWyDHczkyf3UmOP0NxzSmLId+2TtKJmbs6wmERsiCw8te13ToR+CP\n",
       "Rks0cFraMvxOqyXovVZFzjJOANw/LJE1dYHTUXDdShr5WmLeAawPgnc4OKFFXTKWD9AXTZpA3rF8\n",
       "1SFN842WP8m32IC6ulUwSv5CrqU8fcwOx5B8OyOdObK0FWHwsYrjU7r6qAm5hdTsHUuCLL/sf84F\n",
       "zf4Swav9yOfQv4fkryidgLKfUQy2G0tIiSzXkHAonCxFfS+aG7j6H6MiEw8I3NJiK3V9l5tmkSwV\n",
       "sZf4AluAJAxxMcsgPh7E5fsIUbarA44RJTrYIaQ5Dy4aFNDS37iek9xgHaz8hB6wu75VUHJDD9Ag\n",
       "jPgT8TeKoKN0TdWThUGmvobiJuIOD0Bg8u2GdYG9wC6nhiO8lyXJ8VyJGW5PXLN5C11Rv9seaKFn\n",
       "vlqORte70HJJAomHXdlse/TPvBrUnOnOUaZzP7rT8fufMIQ1T24yeUJhK85Dq0YTkreZgbbAgCHZ\n",
       "0pUoBZMsSRyJLMcoCI0i3EEAvFiP5zLkHy2dAB984eXs1JzQCJx8mu7gMkPrdOm+KXx9iu1e+urM\n",
       "/3AkmsoV6QzRSttkVCGGC+w4NrbpP7ZQrz8PTxtnJamA8mrB7CcsyUrE2m8fed6o+4I9dCLXZRyX\n",
       "dOPz+GXU9WX/+t/hQalqc5VIClQL5BpIAJCbPfYaeMlWEbpSmU5/74b0vOGLYq8t1EbJUnRJNSUF\n",
       "KTW43rOu7zoCxJwIj/acmYTksYVPcYLRjZTVrk6yN/NFOzuCHQv2Ca2OLE3P32g939EC+ynF3FBl\n",
       "tfP2zL7IbrJ0Leb3b96tqSl78mPPLcpj9v1t2S8bqzH1mhHJRafYrUvO4OR6Y6cz3x/O8wfh9Zba\n",
       "jBxMUFxUZp509gFhIZvCju540whB7MAAAABnQZ4cRRUsO/8AHII1BVrtH+4iFKtQLwg4qzLB02wA\n",
       "1E+dnaPyt7Wi9lABLUW8JvJ9rPkG9mms7LH8tJQFVKJyRE/cYs5shQz7uS9Nh3piMcpMocqO5lEm\n",
       "INVf9Ek9AZkEpHa//qvZYQAAAC8Bnjt0Q38AKOd8y1lmvfOOXG7LPzizhTAGL4yhUN6MHeLyEcOE\n",
       "EKgeEOKyzZmPlwAAADABnj1qQ38AKO9Cq56Gagep4mLH7o9O0bOoWAqYnfQLOz7lnc39NB5RWEwF\n",
       "mQhXPZwAAAKdQZoiSahBbJlMCCP//rUqgAFlJ+kAJ4JviossFvDSOuMvFgaljoH4qg9672FsO3/v\n",
       "oyUHeAMcXe/3JQC8RcS/VGVTo8dE95m7wdMpsmnTJV/jUBbRgpaKItxVt4IuyQaPFgfJ2GOpHr3C\n",
       "9hndLBt5J8fWckofNP/7q8U24/Q6zibVHCsEpkvlsI0eZuvLRU5MKtw7E/c78Du9kPBnR8jW+Sb4\n",
       "E4YcsheeD10ueA72o5OrVe5me9drbCVtL5stZlFiG7xlqjcaMEea9m6f9MH5JX5My0pXdF7E2E/m\n",
       "wZKUwRvhMlN2LJANpTInEpZvPnww5wU8X5tdXy/+fo1SFjRcHVlYGa6A/zchQkhKxnLn0HBBBqpz\n",
       "H03IZkQSDk11VMf8I/VX/LxBb9tfaUiuTk5+SErsdsW4vuyRYIQsG9+7N90meNQpaqR2GQtMJlSt\n",
       "xGkPbdwGdMbKZBNKyA6WVQKK7j3ocGSZBfwYsVCVPJCEeA1C6JMSbIxIE1hQ/6hqhcLW03RrZLF5\n",
       "Tcq+cy23EK4yLbR81jJNtf1ve83fBp0jLmMYOsiTnbHPLn+qjSO3S2cTwueZZENMaC4gAgmuz4V9\n",
       "isYTfkO4D9cmBuNaG0mYZOxxcYz3f11xT71laaiDSxxrgYBvj9hN+CZTz+yReEdkLQxS9UCxBuFR\n",
       "zUPMzSOSAV0uV1QFsxb/Q+X4AcMCvtX5CkHt8IWY3CSYQpHxYBc0ieKm8soUTtnt16Kgr+y8u4Y6\n",
       "EKkd/2E6xgkFKpxbJCiSg+B6Pr7nACOil4hW0VmhJVxnCwp8LtmAyIdLeFlxgK4mxTfbi44NVsB8\n",
       "zCagfGoxivCj87qGWeRi5yBc3xuRSdm62H7NH6AeE9Xo8XVXv2hfgXqYSN+DuHIDvQjMAAAATUGe\n",
       "QEUVLDv/AByCNP413EK0WVSUnB4Y7/jzIcRGK0xeGY/O3xe6NQItkAAhZRy/GVpL/TsOZPazXgAk\n",
       "rPywUAbP4M8DeKQaR6h5S/DBAAAANQGef3RDfwAo53zLWWa9uGJ3bS89L2Pn2AN5EABNBd8ax7uV\n",
       "jTk7ihSup0nfZ+W96rGcTEc8AAAAKgGeYWpDfwAo70KKV537kWzki3dsfqGz5PW9RmvMb/g/mdm4\n",
       "KM08tbixcQAABB9BmmZJqEFsmUwII//+tSqAAjDdSwBNfou2onAWUeb0ldVjxjXDWZMTEvz93j+Y\n",
       "knoNTB2Yf/mnXcshlqd0Z0jvZLoNez4FeBNqPGfrHjS1NGL1elOaybAwwlSj1+TqzWcQylDLFEDI\n",
       "3BPwrPkd6bZx6Hr4GuF/N44JfTZbenqWL4JIlUa/PDE3xU1TfTCFVSXwVS8HOm9CHz6HKezLxgmb\n",
       "lfbMEMSwAzKxi+8+HN/hy7fK34q/BdH5DV2Q8/l+w3INHS1BOqWeGMNgeBy5HlKWokHiPHKhEIZF\n",
       "R8LWiSQwxLgej+VrixfCdeEXlu+VxAJdBUkPw1IMK/77Ap/ZJ6lBx/StStorffRugngRnkQNPR83\n",
       "2Rm7S3u7AE8PkhCyo3HuP3XRddTWKL+V6qCwa+/+lAIR8RhPXaN/h1o45/qW+QZUl4TFBro3vzIq\n",
       "LHufzM9OfIEx0/tcQ5RIgmjPSmr8tLG+4WuAVEYgBP5Nk7WEtL69TD4okJZ4xRwivz7HxcGMItIn\n",
       "9Sqy63bpJzY82IuFQMsEhYPJ1Qt7LsWWu9jdAfx+n6/aLpM74mSoBbiUF4L0oOaa9Lap3QbcG0An\n",
       "I9UBrsdVD2yW9s0UMhoOPaL3XwOk77TCxdMEtF2LhBcGQVYHLZK4UFR4kz/Gi+NwkAtrY4CGOQ7S\n",
       "SClV09nqOL/bHyuEYs6SKSqYvDIM/uFotVNVibBOAwxT2LGlqyeFFg6I1MahfWUTKHy1pdZbYN7/\n",
       "fJMhHlIJ+v3t3GGTXh6Aez/M9l/W0LybJi5hoXmXKwqMdbpRKdw+eddVaWGA+2hiP2rvz9DriZY8\n",
       "5sl0t2NU4nKsSVcq9PBIdVtudgyBu7U1j2F0hSVJ3MIzp0uWxBObN19bHSSWlsjZ5j7CrhqbJitS\n",
       "WFVltmUnvJHV2XFvdlQTWZ313Vaxm2lsWspxjoYHSSCeBahXDsAn41xrG5M1+qkLRAE9ezGhY8rR\n",
       "z/gziwnHHe4rhqX2Ns0bbTURQQpy3HSZFj2MnTYqbtkgzlFzrmd+yrxjM4lS2oNmJid/y2cZvU2s\n",
       "K/uu69FV+9klHkLaO/rhweVHLg2bIDifKJfFtN9ZodZv36m0H8UmIe++HQ30Yz4X+V+tZkNaPhlh\n",
       "j9qRgeKIII+m7+19Y5C1CK2X/iTRU+1UEYxQY0dUn5yiidX3vVr9w1Pq6s1z+7oE0WQ80Ki7v7So\n",
       "EnrOsVWppIqhZZJrmZlK+iu+MPEJTY1Y26+43QacVW2xFKQzdW/En0XezIDhLIqcmPsj0gF8ktNf\n",
       "G3U9//R+QVucTpVvJZIJDVoz3purdcUV9gpRlhpUbP+15k4A1xY18H6zfcZMA/ScjNdJh2v1aQfd\n",
       "scONi2Wdib9F4b3y+tSxacqm9sBQ9++gJOyG4ZYw8ZVn+BO5ecYdgAAAAHBBnoRFFSw7/wAcgjUF\n",
       "1g1MDyPNujILyqFQ4YWwJxhTX3+oANTPGooVqYrp/lE/7CO+9knvxomMh18kyBdMvaFY4emvf0Ri\n",
       "u3cZmRf/na502gVn0ExOWaSMtjCoVRG3nmhZ2mI+WWCdVbUJxgFrJAoxAAAANAGeo3RDfwAo530Q\n",
       "smpBaqi4+b7v8F4xjcg4IOF8irAkGF1to2cu6+mTPLyVXhLpUEiCUHEAAAAqAZ6lakN/ACjvQopj\n",
       "+np8u/7biyQuwHGyRmibmeHuoF1qhTP2OQsBDgXxAAACmkGaqkmoQWyZTAgj//61KoACMN1LAE13\n",
       "b5kS4QECnsef0HuTavPsb3lvu2YQgcYiHMQR0OwNXzhrFYrwSFEz8MV8vGN+CYRpD4PlZdQJOugP\n",
       "8im3t+yZ+cEPVk1t2qtCoKvx95cNO3hs2E6V0TLJbs0PHrUP1V7SXgVLPpXdU7YzCTqGNARFO21K\n",
       "FxzEC9WK8OacHsySvjjvtL6aGeQ0TyoyoH4fB2UftKWjLFXKTLA7R7GPCbrvKPFIbY2ldCOd6cx4\n",
       "xjr15M5IiqH6uDDhGjlGImxjiAOUjAyoFZx35pmU5xgDKsGIMqQpUMg1052ealWyKsfUA6ZjjEo+\n",
       "/trLAqEnlwUCTQlfzuunf9gzXtxVIYsVKK20NSbGv4cCnvDsRNdZtityEaP43ST6tEwdzBXCbxCM\n",
       "MT6Y5pM8ohZxWNF8o9kTJxzH4ouF5gwFRYupa16T/CLi5W8hj+Nnk5lYP+wrjm3Xs0a53me5+64o\n",
       "d+Ix7F2xJdU+8yjFhK9cLPNVxkpAXjChCB0bZtm7a1MnmWpU5Z0MlYJcOHrl9hFqnuNjU7jgRZSG\n",
       "FMbH/XVyT9qsm8K6ROudPedjTIy/+tMdVYsTLN+rzXLLq2ApT/pwDsVC+WXfrNjiBvmX9IvLhMl3\n",
       "4JmoOrPnLuKuzfNEVsSHhJZkXRYV+r4u1weFy+V58l+sDo2fi0vERBv3GaxlE3Y/VSzW59cIIOxJ\n",
       "/EsEBFR8PnSifQqe7DQtfMOEqoU202n/AEmiCN7xwjfx2+yPkhk4QFNFTP4Rcc1DUOFGDxrg8Cj4\n",
       "0t8chr/aeWm9OWLzm6DUJ8V7wutBKsghL4hr1wsXN1sPQjl1vB0ezfY97Gp7YDMBLdBJexlnLH37\n",
       "6mtLfOLXafY8uW6JiXQA4QAAAExBnshFFSw7/wAcgjUF1hoF2GCCIAZj1oNJPh6lwzOI1RRvC1/v\n",
       "4gXcIwUNioJRiG8cQo2xQHBAGgnflc9kn1oUPjT/pVatzC+IeHDAAAAAMgGe53RDfwAo530Q4dZS\n",
       "ZhJ0w6rnOy6Z2hCojdD2soBA9EJPPuZpdFQUwLYXR28MrAs4AAAALQGe6WpDfwAo70KKbBKX48YT\n",
       "cXUnreRmFpiJuHTzKTV8aasktTUx0Hb7bmiAIQAAAiNBmu5JqEFsmUwII//+tSqAAjDdSwBNdiHS\n",
       "3E+f23ATaew3AmfvZTTnU3Z5KfX93UKf6hzccwamEv5u6LRKS2ztCeQ8gZ4ItD95t2+nSSNVfbNM\n",
       "E/nVo3MG39+VnLi/6DWqNIAUGxPink+rSI2vshi8eowciJ+d4KQMNAQl+Y+PABLNOtKT9hni6mzT\n",
       "8sRay73TwF6DesT6DShjBssB5OGIP2iE85ll9j06cacCE8cwWRZ0GPCS/L847R+PCfnVVFAblUM/\n",
       "kNwAOLOrF5gR2DtTN2R5TRIcfaYQRwIwc01wAC4uvgoVnHos6bMgvRlBUDQ7SHu8FbRCmI8TErQU\n",
       "pMxO2gkytSZJ9DAhh+zyI88ZtuDzhv1jI5jnixoh4QBas4hfWouGJJlCJ1LkOspbdrLFWj3v/qwi\n",
       "V88ufJWM8oZ49RnPpR97MbNrrZoLEzIZers8+kjf3tA/VpHvtPSt8LrjTjbqerER3GFSbLJE7rPO\n",
       "YeTp2kUALAp9hN92Jxmy87pfRUMVw2EVwIBveV1Xjv48oNa7TdWTOYZ+JNB6g9H5vnHWeU/uwsmH\n",
       "YQSNcvWiCs606KgAijgeMREdnKmzdjppD4Frd9UBulT30l9HHnpEPQShDLfnadlsG9onExlXUrfq\n",
       "Yad/CAqhLs3ZnKcXKRoO3fjdA1JldzdyQxJu3LJiZ0ZDtw49LAOMMcoXdAcTl9EY43nXHF0h3sku\n",
       "Giq02OTUaxTwAAAANkGfDEUVLDv/AByCNQXWDUvbKxPn6fxsl6NMeP1pKqtSTLXyGFpzZZpBKo/G\n",
       "hvjGLk+eO0hTdQAAAC4Bnyt0Q38AKOd9EOGEuWFUnYOONizVGSg19ry/wAlp2rm6LwWyEZ6kSvTD\n",
       "56NDAAAAHwGfLWpDfwAo70KI+FSneEjHDiLNsgZF9YGjzhXaGuEAAAKGQZsySahBbJlMCCP//rUq\n",
       "gAIw24gAJddqeLv9MAWAsWSOV1Ge/gHbGCof1ptsimk54OLZwuAkVESjnlE4jkFE3wYkReznbujj\n",
       "YVdn8oNbIxOrS370TNPUERUizb1gg8uqFoWIW6AdRVI78qnJHzQk2JiA445BM/WUQQ/t004MGuXz\n",
       "B9WP4fPQjnfDJR/fodqI1nQ3OUg1qCXN9YutSTkA6cjb2aCsuy0QQeSCnjwu4XDI7NWWiS61BGcK\n",
       "33wPYk046AbfeYGnlLZrHStDuDBq2BSRzhgdbUDh+soGkOPaTB7UqpxqskjgGna9TLNsUMfjB03Y\n",
       "PYKnmdiUHzbJHx6z4GHP7SkJ6PjaxDw6XyNojVoeBeqmA2MD1QCrm824+nhsMPRBF0zVgXnaxAuP\n",
       "La3WWx/G0ONfciX4tAPVWwcrLT1UMt+tExOM5JpnV0tiNonoXsgC6JQnoe1EKZye0fjzG91gs2/a\n",
       "ubZxMSA56w7XVHvdnnjbObnUI8YjP6Q4dAlrOeJXBqsTKncn4qoXVZbMkvucHbe502PpAB8vdy3A\n",
       "Et4u7p63+/ATQ4bwD1cLg0UQBgdyY+R4JC+H5x+XWbU9k5m0TY5vMwqZwYsu4VzwsE55v1Bn+T6X\n",
       "qvmBOm+CbpttxZnu4KwvF4g9O0pRHJF30iYYLxR111JYF1M8vDQPc1AmcIM2pMXkCAskeZNi0uX+\n",
       "a2BQIsI3LcrZFIMCd4qChrZdDtZgIjQO26ySq8yqk4Gry9LjTjQOU3gidkqhMspfjSX/C6IGhyOB\n",
       "xDZk6Kb5s2Lsc9h9tq0K+V4jcOvE5S8a1HLngMDeDg9PJxUw+IrybhXVr5+wgyRIfDVexsOaaxSQ\n",
       "nsZBGwAAADxBn1BFFSw7/wAcgjT+jeJEuGaFAkl7WG8ScpPVLYL4htSqADjel9BzZ3v3ZkTO96EG\n",
       "c2m3WT55Fmc+i7QAAAArAZ9vdEN/ACjnfOBjkfqJ/Wzb5zG3UC5uBv5tbA8xli1tdN49HKwaq3Fa\n",
       "6AAAACMBn3FqQ38AKO9Cfu9AXBA02UI4UFA2ECZGbMguffRuQLYWDQAAA3RBm3ZJqEFsmUwII//+\n",
       "tSqAAWTf6DpJJALXemdr3tVO0LGExGVbHwa5W1s9uhY0CjO35eUzZYuVYaYSOuOnD8wGySZqPy+F\n",
       "ZAXZrzHEf7rvAu67OqzvqaoL0ddb+pymlFet5zhRB+W53JH9cYyXjsGUaAn4NRI3KKSEBIY5HOIB\n",
       "jT0GVBLfDvNVpOk0ddJZmAK8mZEYtRenLSUxS+ZFCgRxxf1uFXKOHon4ev4ZXfohUAtE5fRBLFYp\n",
       "4mgaveZ9som0JPc2+B6OGewIINlvrTSb/RpsbDXF2WwiyXS6xqrl/P2KsYskExdJQwo2kWTlfxc0\n",
       "KqupVUGbPGR/IaZEGHepDH4xtOzjT1HCaDmx7S3KbcRwBEhuQuNK4KkkCpHL1de1lso/y06Rwu2A\n",
       "o2JSVR+rDtXb2kjM3Uqxsv1c3+uzD2cwqpwGl01T0u1fISuY01Lypywl5CeXUsEAHpRc6Jubfk4N\n",
       "G8uOkyu3auq2RnH8z2m2ZrOHeqhg3ktLk4aKni66nPuXDl1pL/KlN00WK4FJKnhc/aDXSK1Hey46\n",
       "OANlybOZM45zNRWr9HpfNIIWMHsz5XparGGjuRD/o0qKaL5715rUIuNoy13JWPvwP1pDI0hA0Mxi\n",
       "BPIR08KTQEpBurnrr4DGOoWtcF1qjuugK2brajbV3bnGgjulHZHXKzlTX+U93Z8hBReZ//FPvjeY\n",
       "qr34W9+rve+HBB0D+r4BK3mUyiItgHZxl63lbZKaMA74wVdOp4/F0y0U/Hlt0Lp0RmpmTNboMvcE\n",
       "/hQ4uqDhc69f6AVV0iejOt+Qpy/Y5P2Lf2YY9yJCH32hfqXoQ3F9KHytXzJuZ3Xs0Pt5sP6Cg7dQ\n",
       "Ykg68GjV7zivx+okvidBjDuMcQYsunmpEu+8axmtsTGBZfpHDOaLwtUDHjlrynU+JDGrrITUtesi\n",
       "e2YZWyVIrLOS0muwupFwH5T0G4T+evREgL6/sPmk+xqJChDLcJ6L4aG3TmXHaUmD2HT8rFqt6yu3\n",
       "gYpkw5eAVC2o9U55w18DllQXjRZOKBBey1VVoNvNFiR89orUHmefWmb8ZAxN59jUSSEvB1wO1f88\n",
       "JUHX1u4+fOCNERZYfRTJRJiGrfRvoLb6sVB1e/8kI1MIcCZ39PcXXmbRapyW6yWsfD6j83N3r3yb\n",
       "NJGZ1whLkfGckDiMetQFwAAAAEtBn5RFFSw7/wAcgjT+kX7DEwAG3+uSolFCSSPB302WE9MNK8bQ\n",
       "qKPA71N84hurj5VgO3aVBQiVZCi4x4+1fQdMGQPyYS0AMYRHQIAAAAAzAZ+zdEN/ACjnfLQLuC4f\n",
       "EAJEn/z5k54hoDu1v1uAD2sMOzM8AaL4UVq96sADNwFeP9lZAAAAMAGftWpDfwAo70KKZAdjHYUu\n",
       "fvRqQX73dk0/vI+PFfdTCkDGcqMYZWrPPEZK5CyhYAAAA5dBm7pJqEFsmUwII//+tSqAAV2P/JUA\n",
       "FhmBo/4x2A6tkJneaa2SUo+dEifGzydijJNWQO7GNRdoNHxl25U+/2oZIz8BIuFNysGIpx5eGxTX\n",
       "sE8HcV3aVDcvF9uE+alLg93c9qI7EiDlk6ZSZlEMyYq7stVkKpw4lDgk779P0AowTZKQ5h7hDtPn\n",
       "aVJVd1DIVR58j4xWvb9BmM4tqI6hDYT3h/x8Ny3d/yx5nk9Rvgptn+aLPXGHKkTUd4JeqQl1ObVe\n",
       "55L3gSRVY9lkE9iHdCE734P8jzL3+CkdyUw/Tu/eKEaNIrOcQiADn4yYjd5IZnWN2MMw1ZIXc+PX\n",
       "EpSEx5FohH2l+YTPtXf7QfVEl78o2ZJjQzhvpE59k8v+EwformO1jfOdWZiwIZKOoH356wI+gDf1\n",
       "0EWmzw78T0Ho7Y/wQvnubfB4EZducNVIl6Jm0ldpu3S/ESkXg3xh0bGbntQO87FZRujI1ibOODvj\n",
       "89tIUmHpPJ5660U3vhxVZgcQMp7hwIaWmZVG+4CNXtt+Mz59qj0kguNHd+zBNuZ3X3Izuh1FSMfp\n",
       "dIj7K1SU+qk6rz8cNv3dvOYCo2QQ62B/rXtDTHqTtvJLVXDoWClZbykbDfmuqx+AxHN75DGWd3tG\n",
       "aykLiwvUkBxzdHvvoBqgazGUee9Mm2BVc5NbfnSf5kZGquUF2qb0DioaTafDz8kpAM8wlY7rfYIo\n",
       "+XQT75vwbeTWp7JQZEAMUB1333sZbm3PoXvO+eqvNH8H3dLJkjxEhw+vUli1Zyqfzt0QhVzH+tWf\n",
       "0ejvDNr6Fi961pky20NFVvT2w5XMjBagvFe0il76Mx6Z7QHyfzuBl1hOLrmAtNkLtKBMy8xiuutM\n",
       "gDLHM4adI7wEQRhuAjEb6HJ9CGug9+ksaDI0TBeieCqmu3ZRz/svG3hmtscUWveYtITXlAIkW1tx\n",
       "2+hUZhPXMq1vcKuDyodWGk56V1ag6L5x4RKYUiOq/08k9nZwLwdOow2zCC7Xm+dkPUI4a2BaCYcC\n",
       "387ocpSZ3PE0y06QO62HXwTkzweJWTgt8HXJ9+jq+7I/bHc3dAYyum4uTsrNqxmeYf8IzITjvgsI\n",
       "uq9yck7lFIanVJq5ja229xLNGEiqgb3BKMyZOgvTerIKX4MKTyxHwZl1u4uel5l+2po5Ao3P22Hh\n",
       "bd3Ai4OBuvHgXCqWWUk3aIr6ke2jmz6mcvvmKgLvKmiTMkkVFLIAANN7AAAAZ0Gf2EUVLDv/AByC\n",
       "NP4Xz+WpJAl+X+3LvaSYbd5Myn3z6laLWD2ACB0l/ogVngTeTVRx7ZsCwlPupx5IRWH3Udxg/mWe\n",
       "5Y71Yl+sceS5kA91rq/CV/gMW/bjBWsQAEtlvAXv7J/9VYEAAAAtAZ/3dEN/ACjnfM9wssVD36Km\n",
       "w8qd8MEwvIslJAYjPMeYYbWhPdmXPa7nixG9AAAAKgGf+WpDfwAo70KJBBb+66AYLu/lQj9V8uud\n",
       "LdEVPhqtA4nBByUuD63KoQAAAcpBm/5JqEFsmUwII//+tSqAAjDdSwBNLbDulL74OzzWe7ym4CbU\n",
       "uZZZJ2jQc+zyZFuoP5cpIkXTSsCkAOfK8JMUoAjmH0diV1ThsbwwNUp2dAT4h9Z2XAQGHsJxIBDQ\n",
       "9Zp8j1FNJYeqqt7LC+Mp80GWQO5vitWZeZkPR5dTy8NFi5XmM6XMGp0DUY6H8hNo6avLz0ycYt8N\n",
       "5NNjgZXsv/R8ySgQ3fjyuzE8xlxnTUwGtMyGymKAwFyju+vG7rg0App1epJpvfWFMxVxngoC2Qr/\n",
       "Xq8JdzDzQHknUS4RwR1Ylfm+xz8/OYsFinsaQGlnzwCVNfvuWgxGMRKhO606Pg119OBcLkzyQXq5\n",
       "rgskXzdKHee/yoEOkVN5WRe2ETXquce6498n+TiAXbKFX11l2AmTf0X8qyvzWYQT4xwdSxmGHLGw\n",
       "1OIZ2KKOMJxMgMT5mLXH3XoflLeUiPqrX0X5nMhICjuFyrK5BqOiJzA1Xmvw35TGy+J1Y6wCuZpA\n",
       "LeM6Hx7N1c9WRAdIP/kXGDBHlh+ri5kQNOLXdlgLK/w101PsOVkOAOPq5ZWi4WwK8p9ZIUmhReJ1\n",
       "5zQCmqS3aYMBgQHSYHz/cqkWX+AHdAAAADlBnhxFFSw7/wAcgjUF2u0BIPuAiy78hWUEQaAnYOKJ\n",
       "mX27JngADaUagWNOI5/52z6rUwcVrtKoIV0AAAAnAZ47dEN/ACjnfOBjkfjwvZCkLK3J19zK3299\n",
       "zU7kR5W0P0GTsQRBAAAAKQGePWpDfwAo70KtzLHqlJgzGcd/R8TiiVyZ0R+SEk87kHWRCm480DwU\n",
       "AAAC20GaIkmoQWyZTAgj//61KoACMN1LADmSzX9C54GrcAZX1xYRWZl5ARSGvRXvOYxPGgpxjo71\n",
       "/7Ni/JdQ0w/qxObg5f2pHU7r9QgKVPApFe7DAgHvWe6+im0/QLTbYq3d97SlGv2FLVsvTHuEVte5\n",
       "FwU/7yS1Ysz9y1fQxz97VfCdGb8scnqeQZGnTL859B/w/QBTugkiQFEP0vmRlCq9OxnB9xaJZpXZ\n",
       "Oy3FT9DT4SkAsnt6qk7ZpP1r6jcU1gmlQSJUxBOizwfBaGsFk5Hu/OC/QUNcd0K/haPd5zShtQyu\n",
       "R67MjraPyBLfkpTOwpS4ulmHYgEPFQmDWADUFlF8cP090yAX9HmdaIdvUNrz3nw2uCeWcYOpVzcl\n",
       "V+tnUiFwHHbk3Xtxb+8B69MyLjQtRk/XgnpJCXriVlIOeJAsp3MzIfDRaAxdsWYmfZesgtxVF2nQ\n",
       "nftsSk9RL0FJJ+6u/ZXXz8MsZVlq2MKHErS516NfuAD+hB3urCwrtz1thVUSzOj6+egs6l7OZxvD\n",
       "LM9+gtgDUMJyZXyOcvxBr4/pxgmIKzGeyZZ97hPWRnGWosbLJUAPSPoTWnFqkgw/DixGDediomUi\n",
       "xBdaI+Gp+e2XWRUXzxT9UPNNRrhbVMC1jIUtDcNAyNhUuR2lnzd5kdKx9PNIm61ru2GUsI3P3ufM\n",
       "OpXKV1GobKM4LOEuq4dxLf0dCmHNiZkLCU3/PqmElTN2wOsY7bFY+LmU53/aQF8F8yr5pHaTyVl7\n",
       "8Qn683KmA+gnU4pP5marnQbWv7qa3H+kwt30dDK64QXazeJfSlHK2BHXjqc5NDsQNv2lmI9TULIh\n",
       "sp9a9KuN+m2pJouUT+73UMVU7aNWqvrHlmaxXTXAOtb43sFWN5CfCHusOFReYPwZxDeCqJypGeWF\n",
       "9aCh4huRgJYthFipVImWKX9IbdvBNmqSPIIWwLzAwtPtdOU8WJLpj/FamPJ1Ts5vmFXAAAAAWkGe\n",
       "QEUVLDv/AByCNQXWDUvbI85Z0ZqPlmW1ajX7QAnVNaGNS9q6wR4TsqlTqtUmYfePfjRJFb2FdG9h\n",
       "U3VGMcgZFzVIcDF+GNY7F/5adKICaMPmSahPhlBMwQAAADIBnn90Q38AKOd9EOGExu2pzxj16xcG\n",
       "BQAC6UCcMT6vKGo1fCpJZMZPb8h5MTVwRyuMEAAAACYBnmFqQ38AKO9CiJpBbYYJxGv1J2L7NBjq\n",
       "TNPAsjPbqxK6aXkDhQAAAXBBmmZJqEFsmUwII//+tSqAAjDdSwA5Z6mkvXc0NL9qFp795MibIfkn\n",
       "aOexuInl+MD/6uXU+Wjdhm0iNlPDKCf/LEi1hGyKxvoiN3aljoHJeRVsqeWnDtfan9DlNXnyPBHB\n",
       "BixsWvMUbHFu+o4oMPVlVUyFGscqoQ5M3Svj5/eAsxVHDg29Pfoh9RY8O3EAkI8rzVj1YR+gfVMt\n",
       "O9rLss/PzDL5srknToZq+R2DWvCdP2mrDLnVXcARNfzRoBWYK5F/VRP4AiTwhV9SVtLSejEXgexq\n",
       "3ed8vznIekVGIk2KGMbHgbsocnlRbpBW90x3Ec4LclemsEEEaw0ljc1nM3V+4Lanlhcdgs/6Btsh\n",
       "fafy6fHuR5WAWbZQJo86sKQhl7IomLdbQ2qXGcJIh6wrNRk52uQ0VmITufH+xmEgm9dgZriIyU7O\n",
       "A4/zzxfWO1ynUAStqxKNuXcUlOg50InL4AHI9qjGVlHkZsJvzElPegHAuAAAADNBnoRFFSw7/wAc\n",
       "gjUF2usob/SV4PWsak+jlRlosKBaA9lEeVlTUCH3/wpbLFeGAXxp7zkAAAAkAZ6jdEN/ACjnfM1w\n",
       "5HUnPZWP8H19KfQChmIKsuOLe5ABhSMhAAAAHwGepWpDfwAo70KtzMJ+YOpngLYK16IWKAP2igVc\n",
       "9+EAAAMvQZqqSahBbJlMCCP//rUqgAIw3yEAX+885+KtEbARAZ5BmDBQ5MEhFkHkDPJEujJ4N7sE\n",
       "rVqU/vlWUMlrZag5wJdKpwuQpxowPvgUdwX4ySMv7fss6c5JFige2kKIfrz4pRtPgQ27niM6xXH1\n",
       "N88jf/fZmbEizju5luqyTVuwTxF22SCREhZudPHMKgA1X5yq6eabM2Yh+JAmuIYickNtf/5g8ufD\n",
       "V+72NMo3fESqnRuSaJNxinuespJslxtUFso8ZohCOc7wCjyoz3CnBNAWvCADXRwv7jdISvQY7zHx\n",
       "8L5QkL5gBeRQ0rTeTCSIEMt3FARMS1YGnBkZRn0v3M97qM1RmzfokFL3ZxN61NTEVHXDFpnToDgk\n",
       "P6ccDz0nksAIoOsyPLjkl1vT8CGgWyZyAncQTFgFxprl0nmC42tdJ0NT9sETXRE7pfSDGSYLlGIq\n",
       "70KKE9Sj05juExbH4BvasoM3P5YDpgNANM2Di5uDTEyYnTAkgWRzgrsOf1AS0b3aw/4kAT8E7S41\n",
       "emWjut4WZoOmmV2+UWuPd6BWVmS7TG0ggEbgJDxMvh3d6mXXsJDi5Z/LoGNVldShQ1xf3YNL+w8y\n",
       "ZMH0TOJhUcOh+k/e7ZzviuYtQ1nXyNR2BNl82eVudV428D7lV9066qcMKDRZiP3U1bIulL8GYaLQ\n",
       "sZVNYyX3okba03Xa9YqfqAdlckLWaVfY2knUMNEX5A7oEBArnJyNVelYi7OJtbdvhs2qz3zdaiwa\n",
       "Xo+E4KfKVcH7+l28ZT0Dgna/AHQWEwS+uFllQlcx+nLQ4lP09PR4neRTO8LLsNfqVhn3oS+P0ErD\n",
       "c9g4iqI04plTax8RmUk8lLtbPXHh6Sqi+6W3411ajQ0HMW79h/hh38G6DExL5Mafs2ECPHqq0ixK\n",
       "ViGawdcSW1zzkwm/LYF+RYMcOiSZXo8VHJNCblI34Av/3p9o9F5OAYccVBPF3W6EBwQJc3+m9pae\n",
       "uPBDm2vU9EAnmSJG+x2f3cWKNo5KWAaye/Ji+2h/VoCvJlUswpk7OfzdB5OPgwZAaoASuu7Xe2Sy\n",
       "Z2bS9ajo/4IOyQgqhQez5e+Gjxx0hU0AAABQQZ7IRRUsO/8AHII1BdYNS9eICADje26A3sQXjj4i\n",
       "/d17CGLeJMqV/ELYx0kvsQ1SDoCixU0sevr33YypSWXRjaYquI3d4aPGrzboPrLjK0QAAAA9AZ7n\n",
       "dEN/ACjnfRDhhLzzCFPMqk8Le+QtSdSVEAExyDf94BwHbE+KHKxxFSHfV3gMAG5uk8y15ob5Kgz6\n",
       "KgAAADkBnulqQ38AKO9CiQQHWwVwWW9mDQpgIk5hyHtAy4ATSeREODNtKP17DGo/yZWkSsTtnoBx\n",
       "cueJ/FcAAAJzQZruSahBbJlMCCP//rUqgAIw35LACwt5lOHPC6bj/9POBFsZ0i0LS93RSqbKZseK\n",
       "BwriLUubsOAs2QWxwkd0yugDCupVibhPgyH74NtgAmoPeCjwNAy0nua3J4YY+EQB15gP5h4JP/Z3\n",
       "EpK1E5xXOQDOokRzKu1UGGuxo/5hoMJ3oRo+LB8pwAoSIGbymSps6sH6oP89MWcqQn/jTmjZyW4j\n",
       "m0ywsfUZM8iKmW9GqwHxuvM2Xja/Xt8pUEYK7x2DpOpnAIynQ81Xnv1HrA5W1gVI0S0Lg8vnc3GT\n",
       "8mE4DGHv3jrNVzLrAfEz1bSRomChdqkT3tYF3aYzBc06B6OwdEkq/LG+4ul/7n8jSvZahsyl6L/N\n",
       "7Pl+AO3PpuzVpXDBj4NeZ9vcjAp5SInFtZyxgPXLwuJ8Ve6ltlEw8Jm1pq53FiyUyfzaa+uxhkb7\n",
       "OniJcQ1iz8tgdi67b2B+rYSpKdNBL90IfUDSyetyP0ldZZL08Z8hpFZCiyXmvOFl994gE2EAeQ1F\n",
       "ef4eJXRUY2+gjvRmnYqZVkQxM1zKqsG3xCfTMutxDxlwpALmsxnXGa8HvOXyT6HUOhPfA5kknrqH\n",
       "EMbun/wc0lpyK+Vw4whIJco1VrQN7Soy824CBa33f5ZIVwmT9h84bEDY+AWSCezru3R4dZZNKUpQ\n",
       "d3f3YZAwVYweBGj5PGKgSvbWPRJpetCD7BabM9FfS0COurzGaid00KmTFx3/30T+6Y+G4fLab69y\n",
       "xvlJTFC4smg8MZJSKIcoYASNzFCHm3NfbN95kEBV3p/SDzVDUh/Emn8A4XbZc80n2CLF8juwXEX4\n",
       "HUoYk0fCaH04AAAAQkGfDEUVLDv/AByCNP6N8AiJC4zAniyEIh8E/ZSDM1VhAlpGe2OC1Y2pToGF\n",
       "OUzPSpUMQAEM7NTURKALJz7M2DfICgAAAB4Bnyt0Q38AKOd84GO4hScplq8VXEdhSxUtF/T0O1cA\n",
       "AAAsAZ8takN/ACjvQoAbD11CXUc9TEb2S4XY4cMAlnl4sArN36bG+cEaBBnFHTEAAAL0QZsySahB\n",
       "bJlMCCP//rUqgAIx/ipABR51h80wmaYsO/qDIScSbvY3FHXNwlJhnS8ZjFh7TZIn996VitQeuBa8\n",
       "8pDz16afuyqhjOg3MPGhdQAqdS+zGsXBMdFho0MqBNDj4U9Ss2XoSep1KJEp0vUHcAiYkTdVsdzy\n",
       "Rm5HNGajb5knAbteqmg/+cFuqGyhT8nT7esJ7PYadLsclroyUK8wg/nYL4gxravkyLwR4y07eu02\n",
       "q9PC12rnpq3QsvRHx6uBLc/sg+jEaOSEc6oJuoWqOKsizc6krISCXEbw5vN1UUq9n0RDFv0FtK5S\n",
       "DGzk1mb9QE/xFAW2R+TbQeg2sI+/dE1Is2Az12BJPT01/q6QDJk8NDMP+MaOXanwXqvWpfyuoxH1\n",
       "8KzbumeIiOcdVBvGLC+3t4w6q0gJegyp+ADS1CHJolPF/b6JmQJE4aIY63gw1s0tXG78jTTYmMxj\n",
       "v8LELnFGL8oa03nWEXB9TRWz0h/oRXASV1iaPTwZsxBLTbIvUU1vSI9lC2OE1zh2UJ5I23P3ZRRO\n",
       "3JvfXElYu1uE9oup1RZCZAtVZT/ODie6YPrEHjLCBpMjGbF0Y4eesCNWGKK1Ht1vLBkf7cErKO8/\n",
       "EuW5ebc5+RexYvLFh6wxojdAmOnC4r9HHFdp2lSx91qpV1w79LKAf9po7K/HkRW5min67EHI1x1d\n",
       "CNO4Gj+mtjJ1WmgdX23ixWPevwfU+gHB0GOJaeQCnxbAlBxF09MV9UfFkKjhaJAxa669zlMHqjKU\n",
       "GHnZTswn5YXBr5HOLo3iQ38IFqQv/SXNt8r9FiVPM+z5I81Tb0RfAFSPGB7w/gcl/M12ztVCQTe8\n",
       "z1dxM+oT/Fl7U4MHhFPfjy9J61cWiehJ1z2Z7LIk8jv6759i+BeBW+MMhVk1kKO2BYBBKCIL/kbG\n",
       "Ud7IYK7RTspCOG0Xuy3UYTbv1enKMinyy5u7xCx9QLuVZyvIsGfoxxlXC680/jRXhkrcpUfhP2De\n",
       "V3x8l0f3Uz6pAAAAakGfUEUVLDv/AByCNQXWFlMuAG1f0wDwEXw9da1RzThcAN0LQzoRu8ltqJ8T\n",
       "VXMVc01/UBk/a4p0gMlOTFV0AAZrNkegPo7jjBQOist2qG8xV9CxnMuH5lKQASOnzrSasq4/iGbx\n",
       "2QZ4Q6YAAAAkAZ9vdEN/ACjnfRDhy8I46LzqUkJKTK29+Zm4Bg0UWj3VkLWcAAAAKgGfcWpDfwAo\n",
       "70JhittkY6Fkd52kW/TYIR/gFSiWKwTQf2C6igv2SIXM6wAAAa9Bm3ZJqEFsmUwII//+tSqAAjDd\n",
       "SwAhvxRHsXUFu5wL3OjTaG6wD/mcctB6PiVMjnZ99nFS9h0RGTCB0quUiLFcVUXEiYitchq2/dnO\n",
       "SRlF12fcaqylHAvdOffSh/IbjQRElsLrUZh1Hwe0wwQAI870oI2VQ/arnuHRPvnULWjX4whdS9R5\n",
       "fYlVD12LdC2dpbSTVMBNDaZuH+ZHEk/ndH4ZwjBI3Pi0RebkiWVNeeyUVZFFzfmnUzgnlU1BWTak\n",
       "KzJ6cR95hszGoNypCaEF4bgJsWevtVQlwPSg2cXU1FZKHRBj9BZYRdZa42hYxH17FBFLvWgf+RKo\n",
       "ZmYAJaIBQf280dFuajDx+EGhvo5SMMhRm1glfXazLVcnrbTuf/o0HIIOsT2aoXU09IV6HxW0icwA\n",
       "2Jux9rvZGcjIgDlWDwfKiZ7TsCjuNfciPvl8KysF8/bjSRRMuW/RA4aA4u2oh4dB7j9Zj3mw2uWs\n",
       "bg3MOkvfsOWZXxEgA5e2tY7xl8e/y1dm/LU2w27yzbllVOeTyQPWKqrBrW/yaFCXzO8twVp2taUT\n",
       "Zc4FLRA+tl7Dm8WKDwAAADdBn5RFFSw7/wAcgjUF1g1LvK4oXRzJMQfVmYekA0EiAcoLaLoXFolY\n",
       "4/11CjOasogpz8A+KTtMAAAAJwGfs3RDfwAo530Q4YTWzY52D7UqQuwLsq4YHMG1WIwNUuEwdr9B\n",
       "OQAAACQBn7VqQ38AKO9CiPgw6vnDFZV6B2ynkWTRhfScuqIDOAUsXkAAAAF1QZu6SahBbJlMCCP/\n",
       "/rUqgAIw3yEALaRQuoVqWFPCOPrMhAKfoBqnzysRaCaQO49+3HNChLS17v9ozmt7A//HiYP9YaS0\n",
       "c9FVaJwuvO2HFV6bW6Rw5sWEMS2zkDgAGsnrax/p2xu/dlakFddheePE0kwNwqHyKjn3/47opa9N\n",
       "NZer6zHY3XG07yXo3NCtcmFG/WlBDp0LfjZo2cZw9ca5t4fSPmKJCX9NXzpdCmaRu3MWPTHsKG8i\n",
       "fJi8Mv/5MJfMO1bi29rQ2247+Y8OOLYdqpaB+tiuoTxjLla5Z1SKT0D7vAQCJdMmHcSaOhGQjma+\n",
       "q54kvDc8eIxmfADj5WBy0FfkBMzzL4vcvIA7MtISlxc4WCw0RAkR/G79vtOqhb63hoS9QkqTOgiN\n",
       "RHDYPZTTE4+zaDT9HBsKiEh5WLKxusfGxxT0OtLuP0axWtFsNMffysF/WdYeHNU2pegB2aAb565G\n",
       "cUuN8KFySJSWhFeH7xKLxig55QAAADJBn9hFFSw7/wAcgjUF1hnN4IuVGGO3S3mFJOwdBKqS3IK7\n",
       "fZoA52HAtfBA7VuyC/nbQQAAACMBn/d0Q38AKOd9ELKxdYnPYBPIeP9kkh4F8iYaQERgILYL+AAA\n",
       "ACgBn/lqQ38AKO9CiPg4pruD2nxq9+HAjF2x6lkUtOQLcU8jHE7AZAy5AAABSEGb/kmoQWyZTAgh\n",
       "//6qVQAEYF7JOngA3Ex3POVY0/Eijsn1etsdLT0WbYiEp5GHIUoLEgrUzBtlT5JTZ27w8IWN2IXk\n",
       "gb/K807Pt60ifSIuStXSw/z8pliQYnCzpJEK9X+1kT1SlGDIdXYPO2zZgrIzHVTHuEAtiuW/Rbow\n",
       "ZbBPAywUS8JBJqdypO534gfX5l21zaEr3tuj/SpDlduZLgk1K3HaJb6S51cyrPLWsdq5ieG+Vh72\n",
       "8wfzF0NGY4ogBuXW0pHU//QY3L56aM4kHV+/r020uz+KhhqlUux075igOLYOX/dM/49G+w4A6ZJt\n",
       "k3jJPf+HuGL/+gGWC4preAZghC0tjAVfHK6BrrTROzstNzrVbq4GNb1mGhVxUpQdNzlYxgEVNOjn\n",
       "MI4z4HOalU5G0VwiGwnaU2ZWS5+Ge/Nler9FTNfQb0gAAAAvQZ4cRRUsO/8AHII0/kGAs2dTml2A\n",
       "rgwvwRTcsfYrxgeGdztWlLWAlakhJIEBElEAAAAjAZ47dEN/ACjnfM1w5HUogXcUEHjB8u+Uee0j\n",
       "YRRiJoDvjLkAAAAnAZ49akN/ACjvQq3My9V/ToR21UTBFnyraAsi6Twy7wBzi0mAa42YAAAAS0Ga\n",
       "IkmoQWyZTAh3//6plgARA2MgAC5Ih/YdJPJCxDHXKuq7hG+Fei3bLLuyZLxA8jLRDeiuCiZwvOWB\n",
       "FCJSontIoA53Buw5SJZxYAAAAC1BnkBFFSw7/wAcgjUF2udvs5rMpAVWqLqVKlvpIqLrtBeOx6IX\n",
       "OuHP3oK6JaEAAAAjAZ5/dEN/ACjnfOBjkeXhKfXp/3dUwrUukl6nW8UuNrwM0R0AAAAjAZ5hakN/\n",
       "ACjvQq3MbgY1SoKRr9oQyXLaCvAEukWA/gYWYZcAAABGQZpjSahBbJlMCG///qeEAAEu+CEupX4T\n",
       "1n1wAfFREKc+di/ktEno5RiPAzIek90D4xz893Mi1W+QOtA4GPdXBYdhzAI3wAAAB9Ztb292AAAA\n",
       "bG12aGQAAAAAAAAAAAAAAAAAAAPoAAAnEAABAAABAAAAAAAAAAAAAAAAAQAAAAAAAAAAAAAAAAAA\n",
       "AAEAAAAAAAAAAAAAAAAAAEAAAAAAAAAAAAAAAAAAAAAAAAAAAAAAAAAAAAAAAAACAAAHAHRyYWsA\n",
       "AABcdGtoZAAAAAMAAAAAAAAAAAAAAAEAAAAAAAAnEAAAAAAAAAAAAAAAAAAAAAAAAQAAAAAAAAAA\n",
       "AAAAAAAAAAEAAAAAAAAAAAAAAAAAAEAAAAABsAAAASAAAAAAACRlZHRzAAAAHGVsc3QAAAAAAAAA\n",
       "AQAAJxAAAAgAAAEAAAAABnhtZGlhAAAAIG1kaGQAAAAAAAAAAAAAAAAAACgAAAGQAFXEAAAAAAAt\n",
       "aGRscgAAAAAAAAAAdmlkZQAAAAAAAAAAAAAAAFZpZGVvSGFuZGxlcgAAAAYjbWluZgAAABR2bWhk\n",
       "AAAAAQAAAAAAAAAAAAAAJGRpbmYAAAAcZHJlZgAAAAAAAAABAAAADHVybCAAAAABAAAF43N0YmwA\n",
       "AACzc3RzZAAAAAAAAAABAAAAo2F2YzEAAAAAAAAAAQAAAAAAAAAAAAAAAAAAAAABsAEgAEgAAABI\n",
       "AAAAAAAAAAEAAAAAAAAAAAAAAAAAAAAAAAAAAAAAAAAAAAAAAAAAAAAY//8AAAAxYXZjQwFkABX/\n",
       "4QAYZ2QAFazZQbCWhAAAAwAEAAADAFA8WLZYAQAGaOvjyyLAAAAAHHV1aWRraEDyXyRPxbo5pRvP\n",
       "AyPzAAAAAAAAABhzdHRzAAAAAAAAAAEAAABkAAAEAAAAABRzdHNzAAAAAAAAAAEAAAABAAADKGN0\n",
       "dHMAAAAAAAAAYwAAAAEAAAgAAAAAAQAAFAAAAAABAAAIAAAAAAEAAAAAAAAAAQAABAAAAAABAAAU\n",
       "AAAAAAEAAAgAAAAAAQAAAAAAAAABAAAEAAAAAAIAAAgAAAAAAQAAFAAAAAABAAAIAAAAAAEAAAAA\n",
       "AAAAAQAABAAAAAABAAAUAAAAAAEAAAgAAAAAAQAAAAAAAAABAAAEAAAAAAEAABQAAAAAAQAACAAA\n",
       "AAABAAAAAAAAAAEAAAQAAAAAAQAAFAAAAAABAAAIAAAAAAEAAAAAAAAAAQAABAAAAAABAAAUAAAA\n",
       "AAEAAAgAAAAAAQAAAAAAAAABAAAEAAAAAAEAABQAAAAAAQAACAAAAAABAAAAAAAAAAEAAAQAAAAA\n",
       "AQAAFAAAAAABAAAIAAAAAAEAAAAAAAAAAQAABAAAAAABAAAUAAAAAAEAAAgAAAAAAQAAAAAAAAAB\n",
       "AAAEAAAAAAEAABQAAAAAAQAACAAAAAABAAAAAAAAAAEAAAQAAAAAAQAAFAAAAAABAAAIAAAAAAEA\n",
       "AAAAAAAAAQAABAAAAAABAAAUAAAAAAEAAAgAAAAAAQAAAAAAAAABAAAEAAAAAAEAABQAAAAAAQAA\n",
       "CAAAAAABAAAAAAAAAAEAAAQAAAAAAQAAFAAAAAABAAAIAAAAAAEAAAAAAAAAAQAABAAAAAABAAAU\n",
       "AAAAAAEAAAgAAAAAAQAAAAAAAAABAAAEAAAAAAEAABQAAAAAAQAACAAAAAABAAAAAAAAAAEAAAQA\n",
       "AAAAAQAAFAAAAAABAAAIAAAAAAEAAAAAAAAAAQAABAAAAAABAAAUAAAAAAEAAAgAAAAAAQAAAAAA\n",
       "AAABAAAEAAAAAAEAABQAAAAAAQAACAAAAAABAAAAAAAAAAEAAAQAAAAAAQAAFAAAAAABAAAIAAAA\n",
       "AAEAAAAAAAAAAQAABAAAAAABAAAUAAAAAAEAAAgAAAAAAQAAAAAAAAABAAAEAAAAAAEAABQAAAAA\n",
       "AQAACAAAAAABAAAAAAAAAAEAAAQAAAAAAQAAFAAAAAABAAAIAAAAAAEAAAAAAAAAAQAABAAAAAAB\n",
       "AAAIAAAAABxzdHNjAAAAAAAAAAEAAAABAAAAZAAAAAEAAAGkc3RzegAAAAAAAAAAAAAAZAAAH9kA\n",
       "AA3uAAADGgAAAysAAAFyAAAHOwAAAd4AAAEVAAAA5wAABBcAAAQGAAAGjwAAAOoAAABLAAAAWgAA\n",
       "BAgAAACTAAAANgAAADkAAANsAAAAcQAAADYAAAA3AAAD1gAAAHAAAABAAAAAOwAAAwAAAABrAAAA\n",
       "MwAAADQAAAKhAAAAUQAAADkAAAAuAAAEIwAAAHQAAAA4AAAALgAAAp4AAABQAAAANgAAADEAAAIn\n",
       "AAAAOgAAADIAAAAjAAACigAAAEAAAAAvAAAAJwAAA3gAAABPAAAANwAAADQAAAObAAAAawAAADEA\n",
       "AAAuAAABzgAAAD0AAAArAAAALQAAAt8AAABeAAAANgAAACoAAAF0AAAANwAAACgAAAAjAAADMwAA\n",
       "AFQAAABBAAAAPQAAAncAAABGAAAAIgAAADAAAAL4AAAAbgAAACgAAAAuAAABswAAADsAAAArAAAA\n",
       "KAAAAXkAAAA2AAAAJwAAACwAAAFMAAAAMwAAACcAAAArAAAATwAAADEAAAAnAAAAJwAAAEoAAAAU\n",
       "c3RjbwAAAAAAAAABAAAALAAAAGJ1ZHRhAAAAWm1ldGEAAAAAAAAAIWhkbHIAAAAAAAAAAG1kaXJh\n",
       "cHBsAAAAAAAAAAAAAAAALWlsc3QAAAAlqXRvbwAAAB1kYXRhAAAAAQAAAABMYXZmNTcuODMuMTAw\n",
       "\">\n",
       "  Your browser does not support the video tag.\n",
       "</video>"
      ],
      "text/plain": [
       "<IPython.core.display.HTML object>"
      ]
     },
     "execution_count": 99,
     "metadata": {},
     "output_type": "execute_result"
    }
   ],
   "source": [
    "HTML(ani.to_html5_video())"
   ]
  },
  {
   "cell_type": "markdown",
   "metadata": {
    "heading_collapsed": true,
    "hidden": true
   },
   "source": [
    "### Building a neural network in Keras"
   ]
  },
  {
   "cell_type": "code",
   "execution_count": 110,
   "metadata": {
    "hidden": true
   },
   "outputs": [
    {
     "name": "stdout",
     "output_type": "stream",
     "text": [
      "_________________________________________________________________\n",
      "Layer (type)                 Output Shape              Param #   \n",
      "=================================================================\n",
      "dense_5 (Dense)              (None, 200)               400       \n",
      "_________________________________________________________________\n",
      "dense_6 (Dense)              (None, 1)                 201       \n",
      "=================================================================\n",
      "Total params: 601\n",
      "Trainable params: 601\n",
      "Non-trainable params: 0\n",
      "_________________________________________________________________\n"
     ]
    }
   ],
   "source": [
    "network = Sequential([\n",
    "    Dense(n_hidden, input_dim=1, activation='relu'),\n",
    "    Dense(1)\n",
    "])\n",
    "network.summary()"
   ]
  },
  {
   "cell_type": "code",
   "execution_count": 111,
   "metadata": {
    "collapsed": true,
    "hidden": true
   },
   "outputs": [],
   "source": [
    "network.compile(SGD(), 'mse')"
   ]
  },
  {
   "cell_type": "code",
   "execution_count": 112,
   "metadata": {
    "hidden": true
   },
   "outputs": [
    {
     "name": "stdout",
     "output_type": "stream",
     "text": [
      "Epoch 1/10\n",
      "50/50 [==============================] - 0s - loss: 0.6287\n",
      "Epoch 2/10\n",
      "50/50 [==============================] - 0s - loss: 0.5833\n",
      "Epoch 3/10\n",
      "50/50 [==============================] - 0s - loss: 0.5423\n",
      "Epoch 4/10\n",
      "50/50 [==============================] - 0s - loss: 0.5052\n",
      "Epoch 5/10\n",
      "50/50 [==============================] - 0s - loss: 0.4715\n",
      "Epoch 6/10\n",
      "50/50 [==============================] - 0s - loss: 0.4408\n",
      "Epoch 7/10\n",
      "50/50 [==============================] - 0s - loss: 0.4128\n",
      "Epoch 8/10\n",
      "50/50 [==============================] - 0s - loss: 0.3873\n",
      "Epoch 9/10\n",
      "50/50 [==============================] - 0s - loss: 0.3640\n",
      "Epoch 10/10\n",
      "50/50 [==============================] - 0s - loss: 0.3427\n"
     ]
    },
    {
     "data": {
      "text/plain": [
       "<keras.callbacks.History at 0x12dc0fb70>"
      ]
     },
     "execution_count": 112,
     "metadata": {},
     "output_type": "execute_result"
    }
   ],
   "source": [
    "network.fit(x, y, batch_size=x.shape[0], epochs=10)"
   ]
  },
  {
   "cell_type": "markdown",
   "metadata": {
    "collapsed": true
   },
   "source": [
    "## Post-processing: The data\n",
    "\n",
    "In post-processing we want to correct model biases by looking at past forecast/observation pairs. Specifically, if we are looking at probabilistic/ensemble forecasts, we want the forecast to be calibrated. For example, for all cases where the forecasts say that the chance of rain is 40%, it should actually rain in 40% of these cases.\n",
    "\n",
    "For this study we are looking at 48h ensemble forecasts of temperature at around DWD 500 surface stations in Germany. Our forecasts are ECMWF 50 member ensemble forecasts taken from the TIGGE dataset which contain forecasts from 2008 to now upscaled to 40km grid spacing. The forecast data was bilinearly interpolated to the station locations.\n",
    "\n",
    "We will use all of 2015 for training the model and all of 2016 to test how well the model performs."
   ]
  },
  {
   "cell_type": "code",
   "execution_count": 117,
   "metadata": {},
   "outputs": [
    {
     "name": "stdout",
     "output_type": "stream",
     "text": [
      "train set contains 365 days\n",
      "test set contains 366 days\n"
     ]
    }
   ],
   "source": [
    "train_dates = ['2015-01-01', '2016-01-01']\n",
    "test_dates =  ['2016-01-01', '2017-01-01']\n",
    "train_set, test_set = get_train_test_sets(DATA_DIR, train_dates, test_dates)"
   ]
  },
  {
   "cell_type": "markdown",
   "metadata": {},
   "source": [
    "The raw ensemble contains 50 ensemble members. We take the mean and standard deviations of these 50 values which is a good approximation since temperature is normally distributed."
   ]
  },
  {
   "cell_type": "code",
   "execution_count": 118,
   "metadata": {},
   "outputs": [
    {
     "data": {
      "text/plain": [
       "['t2m_fc_mean', 't2m_fc_std']"
      ]
     },
     "execution_count": 118,
     "metadata": {},
     "output_type": "execute_result"
    }
   ],
   "source": [
    "train_set.feature_names"
   ]
  },
  {
   "cell_type": "markdown",
   "metadata": {},
   "source": [
    "In total we have around 500 stations for every day with some missing observation data. In total that makes around 180k samples."
   ]
  },
  {
   "cell_type": "code",
   "execution_count": 119,
   "metadata": {},
   "outputs": [
    {
     "data": {
      "text/plain": [
       "500"
      ]
     },
     "execution_count": 119,
     "metadata": {},
     "output_type": "execute_result"
    }
   ],
   "source": [
    "len(np.unique(train_set.station_ids))"
   ]
  },
  {
   "cell_type": "code",
   "execution_count": 120,
   "metadata": {},
   "outputs": [
    {
     "data": {
      "text/plain": [
       "((180849, 2), (180849,))"
      ]
     },
     "execution_count": 120,
     "metadata": {},
     "output_type": "execute_result"
    }
   ],
   "source": [
    "train_set.features.shape, train_set.targets.shape"
   ]
  },
  {
   "cell_type": "code",
   "execution_count": 121,
   "metadata": {
    "collapsed": true
   },
   "outputs": [],
   "source": [
    "def plot_fc(data_set, idx, distr='pdf'):\n",
    "    fc = data_set.features[idx] * data_set.scale_factors\n",
    "    obs = data_set.targets[idx]\n",
    "    x = np.linspace(fc[0] - 5 * fc[1], fc[0] + 5 * fc[1], 100)\n",
    "    if distr == 'pdf':\n",
    "        y = norm.pdf(x, fc[0], fc[1])\n",
    "    elif distr == 'cdf':\n",
    "        y = norm.cdf(x, fc[0], fc[1])\n",
    "    else:\n",
    "        raise Exception\n",
    "    plt.plot(x, y)\n",
    "    plt.axvline(obs, color='red')\n",
    "    plt.xlabel('Temperature [C]')\n",
    "    plt.show()"
   ]
  },
  {
   "cell_type": "markdown",
   "metadata": {},
   "source": [
    "The goal of post-processing is to produce a sharp but reliable distribution."
   ]
  },
  {
   "cell_type": "code",
   "execution_count": 122,
   "metadata": {},
   "outputs": [
    {
     "data": {
      "image/png": "[encoded data removed]",
      "text/plain": [
       "<matplotlib.figure.Figure at 0x12dd79860>"
      ]
     },
     "metadata": {},
     "output_type": "display_data"
    }
   ],
   "source": [
    "plot_fc(train_set, 1001)"
   ]
  },
  {
   "cell_type": "markdown",
   "metadata": {},
   "source": [
    "To measure the skill of the forecast, we use the CRPS: \n",
    "\n",
    "\n",
    "$$ \\mathrm{crps}(F, y) = \\int_{-\\infty}^{\\infty} [F(t) - H(t-y)]^2\\mathrm{d}t, $$\n",
    "\n",
    "where $F(t)$ is the forecast CDF and $H(t-y)$ is the Heaviside function."
   ]
  },
  {
   "cell_type": "code",
   "execution_count": 123,
   "metadata": {},
   "outputs": [
    {
     "data": {
      "image/png": "[encoded data removed]",
      "text/plain": [
       "<matplotlib.figure.Figure at 0x12dd6cf60>"
      ]
     },
     "metadata": {},
     "output_type": "display_data"
    }
   ],
   "source": [
    "plot_fc(train_set, 1001, 'cdf')"
   ]
  },
  {
   "cell_type": "markdown",
   "metadata": {},
   "source": [
    "For a normal distribution we can easily compute the CRPS from the mean and standard deviation for the raw ensemble, which is the score we want to improve."
   ]
  },
  {
   "cell_type": "code",
   "execution_count": 124,
   "metadata": {},
   "outputs": [
    {
     "data": {
      "text/plain": [
       "1.1518655803868305"
      ]
     },
     "execution_count": 124,
     "metadata": {},
     "output_type": "execute_result"
    }
   ],
   "source": [
    "np.mean(crps_normal(\n",
    "    test_set.features[:, 0] * test_set.scale_factors[0], \n",
    "    test_set.features[:, 1] * test_set.scale_factors[1], \n",
    "    test_set.targets\n",
    "))"
   ]
  },
  {
   "cell_type": "markdown",
   "metadata": {},
   "source": [
    "## Simple postprocessing\n",
    "\n",
    "The most common post-processing technique for this sort of problem is called Ensemble Model Output Statistic (Gneiting et al. 2005). In this technique, the goal is to find a distribution\n",
    "$$ \\mathcal{N}(a + bX, c + dS^2), $$\n",
    "where $X$ is the raw ensemble mean and $S$ is the raw ensemble standard deviation, so that \n",
    "$$ \\min_{a, b, c, d} \\frac{1}{N_{\\mathrm{sample}}} \\sum_{i = 1}^{N_{\\mathrm{sample}}} crps(\\mathcal{N}(a + bX, c + dS^2), y_i)$$\n",
    "The minimum over all samples is found using some optimization algorithm. We can also view this as a network graph\n",
    "\n",
    "![EMOS_Network](EMOS_Network.png)\n",
    "\n",
    "There are two commonly used variant of EMOS: Global EMOS where all stations share the same coefficients and training happens over a rolling window of e.g. 25 days and local EMOS where each station is fit separately with a longer training window (e.g. 1 year).\n",
    "\n",
    "The CRPS scores for 2016 are:\n",
    "- Global EMOS: 1.01\n",
    "- Local EMOS: 0.92\n",
    "\n",
    "This is the benchmark for our networks.\n",
    "\n",
    "Let's start by fitting a very simple fully connected network like this:\n",
    "![fc_network](fc_network.png)"
   ]
  },
  {
   "cell_type": "code",
   "execution_count": 125,
   "metadata": {
    "collapsed": true
   },
   "outputs": [],
   "source": [
    "# Build the network using Keras\n",
    "fc_model = Sequential([\n",
    "    Dense(2, input_dim=2)\n",
    "])"
   ]
  },
  {
   "cell_type": "code",
   "execution_count": 126,
   "metadata": {},
   "outputs": [
    {
     "name": "stdout",
     "output_type": "stream",
     "text": [
      "_________________________________________________________________\n",
      "Layer (type)                 Output Shape              Param #   \n",
      "=================================================================\n",
      "dense_8 (Dense)              (None, 2)                 6         \n",
      "=================================================================\n",
      "Total params: 6\n",
      "Trainable params: 6\n",
      "Non-trainable params: 0\n",
      "_________________________________________________________________\n"
     ]
    }
   ],
   "source": [
    "fc_model.summary()"
   ]
  },
  {
   "cell_type": "code",
   "execution_count": 127,
   "metadata": {
    "collapsed": true
   },
   "outputs": [],
   "source": [
    "fc_model.compile(Adam(0.1), crps_cost_function)"
   ]
  },
  {
   "cell_type": "code",
   "execution_count": 128,
   "metadata": {
    "collapsed": true
   },
   "outputs": [
    {
     "name": "stdout",
     "output_type": "stream",
     "text": [
      "Epoch 1/20\n",
      "180849/180849 [==============================] - 0s - loss: 4.8986     \n",
      "Epoch 2/20\n",
      "180849/180849 [==============================] - 0s - loss: 2.7481     \n",
      "Epoch 3/20\n",
      "180849/180849 [==============================] - 0s - loss: 2.3894     \n",
      "Epoch 4/20\n",
      "180849/180849 [==============================] - 0s - loss: 2.0340     \n",
      "Epoch 5/20\n",
      "180849/180849 [==============================] - 0s - loss: 1.6907     \n",
      "Epoch 6/20\n",
      "180849/180849 [==============================] - 0s - loss: 1.4012     \n",
      "Epoch 7/20\n",
      "180849/180849 [==============================] - 0s - loss: 1.2065     \n",
      "Epoch 8/20\n",
      "180849/180849 [==============================] - 0s - loss: 1.1124     - ETA: 0s - loss: 1\n",
      "Epoch 9/20\n",
      "180849/180849 [==============================] - 0s - loss: 1.0805     \n",
      "Epoch 10/20\n",
      "180849/180849 [==============================] - 0s - loss: 1.0720     \n",
      "Epoch 11/20\n",
      "180849/180849 [==============================] - 0s - loss: 1.0700     \n",
      "Epoch 12/20\n",
      "180849/180849 [==============================] - 0s - loss: 1.0694     \n",
      "Epoch 13/20\n",
      "180849/180849 [==============================] - 0s - loss: 1.0693     \n",
      "Epoch 14/20\n",
      "180849/180849 [==============================] - 0s - loss: 1.0692     \n",
      "Epoch 15/20\n",
      "180849/180849 [==============================] - 0s - loss: 1.0691     \n",
      "Epoch 16/20\n",
      "180849/180849 [==============================] - 0s - loss: 1.0691     \n",
      "Epoch 17/20\n",
      "180849/180849 [==============================] - 0s - loss: 1.0691     \n",
      "Epoch 18/20\n",
      "180849/180849 [==============================] - 0s - loss: 1.0691     \n",
      "Epoch 19/20\n",
      "180849/180849 [==============================] - 0s - loss: 1.0691     \n",
      "Epoch 20/20\n",
      "180849/180849 [==============================] - 0s - loss: 1.0691     \n"
     ]
    },
    {
     "data": {
      "text/plain": [
       "<keras.callbacks.History at 0x12e956be0>"
      ]
     },
     "execution_count": 128,
     "metadata": {},
     "output_type": "execute_result"
    }
   ],
   "source": [
    "fc_model.fit(train_set.features, train_set.targets, epochs=20, batch_size=4096)"
   ]
  },
  {
   "cell_type": "code",
   "execution_count": 129,
   "metadata": {},
   "outputs": [
    {
     "data": {
      "text/plain": [
       "1.0123738136358913"
      ]
     },
     "execution_count": 129,
     "metadata": {},
     "output_type": "execute_result"
    }
   ],
   "source": [
    "# Now display the score for 2016\n",
    "fc_model.evaluate(test_set.features, test_set.targets, 4096, verbose=0)"
   ]
  },
  {
   "cell_type": "markdown",
   "metadata": {},
   "source": [
    "So we basically get the same score as global EMOS, which is what we would expect."
   ]
  },
  {
   "cell_type": "markdown",
   "metadata": {},
   "source": [
    "### Add station information with embeddings\n",
    "\n",
    "The stations probably differ a lot in their post-processing characteristics. So we want to include this somehow. In local EMOS, we wit a separate model for each station, but this takes a long time and doesn't optimally use all the training data.\n",
    "\n",
    "Embeddings are a neural network technique which provide a natural way to include station information. An embedding is a mapping from a discrete object, in our case the station ID, to a vector. The elements of the vector are learned by the network just like the other weights and biases and represent some extra information about each station."
   ]
  },
  {
   "cell_type": "code",
   "execution_count": 130,
   "metadata": {},
   "outputs": [
    {
     "data": {
      "text/plain": [
       "536"
      ]
     },
     "execution_count": 130,
     "metadata": {},
     "output_type": "execute_result"
    }
   ],
   "source": [
    "emb_size = 2\n",
    "max_id = int(np.max([train_set.cont_ids.max(), test_set.cont_ids.max()]))\n",
    "max_id"
   ]
  },
  {
   "cell_type": "code",
   "execution_count": 131,
   "metadata": {
    "collapsed": true
   },
   "outputs": [],
   "source": [
    "features_inp = Input(shape=(2,))\n",
    "id_inp = Input(shape=(1,))\n",
    "emb = Embedding(max_id+1, emb_size)(id_inp)\n",
    "emb = Flatten()(emb)\n",
    "x = Concatenate()([features_inp, emb])\n",
    "outp = Dense(2)(x)\n",
    "emb_model = Model([features_inp, id_inp], outp)"
   ]
  },
  {
   "cell_type": "code",
   "execution_count": 132,
   "metadata": {},
   "outputs": [
    {
     "name": "stdout",
     "output_type": "stream",
     "text": [
      "____________________________________________________________________________________________________\n",
      "Layer (type)                     Output Shape          Param #     Connected to                     \n",
      "====================================================================================================\n",
      "input_2 (InputLayer)             (None, 1)             0                                            \n",
      "____________________________________________________________________________________________________\n",
      "embedding_1 (Embedding)          (None, 1, 2)          1074        input_2[0][0]                    \n",
      "____________________________________________________________________________________________________\n",
      "input_1 (InputLayer)             (None, 2)             0                                            \n",
      "____________________________________________________________________________________________________\n",
      "flatten_1 (Flatten)              (None, 2)             0           embedding_1[0][0]                \n",
      "____________________________________________________________________________________________________\n",
      "concatenate_1 (Concatenate)      (None, 4)             0           input_1[0][0]                    \n",
      "                                                                   flatten_1[0][0]                  \n",
      "____________________________________________________________________________________________________\n",
      "dense_9 (Dense)                  (None, 2)             10          concatenate_1[0][0]              \n",
      "====================================================================================================\n",
      "Total params: 1,084\n",
      "Trainable params: 1,084\n",
      "Non-trainable params: 0\n",
      "____________________________________________________________________________________________________\n"
     ]
    }
   ],
   "source": [
    "emb_model.summary()"
   ]
  },
  {
   "cell_type": "code",
   "execution_count": 133,
   "metadata": {
    "collapsed": true
   },
   "outputs": [],
   "source": [
    "emb_model.compile(Adam(0.1), crps_cost_function)"
   ]
  },
  {
   "cell_type": "code",
   "execution_count": 134,
   "metadata": {
    "collapsed": true
   },
   "outputs": [
    {
     "name": "stdout",
     "output_type": "stream",
     "text": [
      "Epoch 1/20\n",
      "180849/180849 [==============================] - 0s - loss: 4.1722     \n",
      "Epoch 2/20\n",
      "180849/180849 [==============================] - 0s - loss: 2.8650     \n",
      "Epoch 3/20\n",
      "180849/180849 [==============================] - 0s - loss: 2.3855     \n",
      "Epoch 4/20\n",
      "180849/180849 [==============================] - 0s - loss: 1.9166     \n",
      "Epoch 5/20\n",
      "180849/180849 [==============================] - 0s - loss: 1.4990     \n",
      "Epoch 6/20\n",
      "180849/180849 [==============================] - 0s - loss: 1.1939     \n",
      "Epoch 7/20\n",
      "180849/180849 [==============================] - 0s - loss: 1.0355     \n",
      "Epoch 8/20\n",
      "180849/180849 [==============================] - 0s - loss: 0.9836     \n",
      "Epoch 9/20\n",
      "180849/180849 [==============================] - 0s - loss: 0.9722     \n",
      "Epoch 10/20\n",
      "180849/180849 [==============================] - 0s - loss: 0.9699     \n",
      "Epoch 11/20\n",
      "180849/180849 [==============================] - 0s - loss: 0.9695     \n",
      "Epoch 12/20\n",
      "180849/180849 [==============================] - 0s - loss: 0.9696     \n",
      "Epoch 13/20\n",
      "180849/180849 [==============================] - 0s - loss: 0.9696     \n",
      "Epoch 14/20\n",
      "180849/180849 [==============================] - 0s - loss: 0.9693     \n",
      "Epoch 15/20\n",
      "180849/180849 [==============================] - 0s - loss: 0.9697     \n",
      "Epoch 16/20\n",
      "180849/180849 [==============================] - 0s - loss: 0.9692     \n",
      "Epoch 17/20\n",
      "180849/180849 [==============================] - 0s - loss: 0.9693     \n",
      "Epoch 18/20\n",
      "180849/180849 [==============================] - 0s - loss: 0.9692     \n",
      "Epoch 19/20\n",
      "180849/180849 [==============================] - 0s - loss: 0.9692     \n",
      "Epoch 20/20\n",
      "180849/180849 [==============================] - 0s - loss: 0.9693     \n"
     ]
    }
   ],
   "source": [
    "emb_model.fit([train_set.features, train_set.cont_ids], train_set.targets,\n",
    "              epochs=20, batch_size=4096);"
   ]
  },
  {
   "cell_type": "code",
   "execution_count": 135,
   "metadata": {},
   "outputs": [
    {
     "data": {
      "text/plain": [
       "0.91567500920462097"
      ]
     },
     "execution_count": 135,
     "metadata": {},
     "output_type": "execute_result"
    }
   ],
   "source": [
    "emb_model.evaluate([test_set.features, test_set.cont_ids], test_set.targets, 4096, 0)"
   ]
  },
  {
   "cell_type": "markdown",
   "metadata": {},
   "source": [
    "This score is about 1% better than local EMOS and is much faster."
   ]
  },
  {
   "cell_type": "markdown",
   "metadata": {},
   "source": [
    "### What about a neural network?\n",
    "\n",
    "So far the network we used were simple linear networks, nothing neural about them. Let's try adding a hidden layer."
   ]
  },
  {
   "cell_type": "code",
   "execution_count": 136,
   "metadata": {
    "collapsed": true
   },
   "outputs": [],
   "source": [
    "def create_emb_hidden_model(hidden_nodes, n_features=2, activation='relu'):\n",
    "    features_inp = Input(shape=(n_features,))\n",
    "    id_inp = Input(shape=(1,))\n",
    "    emb = Embedding(max_id+1, emb_size)(id_inp)\n",
    "    emb = Flatten()(emb)\n",
    "    x = Concatenate()([features_inp, emb])\n",
    "    for h in hidden_nodes:\n",
    "        x = Dense(h, activation=activation)(x)\n",
    "    outp = Dense(2)(x)\n",
    "    return Model([features_inp, id_inp], outp)"
   ]
  },
  {
   "cell_type": "code",
   "execution_count": 143,
   "metadata": {},
   "outputs": [
    {
     "name": "stdout",
     "output_type": "stream",
     "text": [
      "____________________________________________________________________________________________________\n",
      "Layer (type)                     Output Shape          Param #     Connected to                     \n",
      "====================================================================================================\n",
      "input_8 (InputLayer)             (None, 1)             0                                            \n",
      "____________________________________________________________________________________________________\n",
      "embedding_4 (Embedding)          (None, 1, 2)          1074        input_8[0][0]                    \n",
      "____________________________________________________________________________________________________\n",
      "input_7 (InputLayer)             (None, 2)             0                                            \n",
      "____________________________________________________________________________________________________\n",
      "flatten_4 (Flatten)              (None, 2)             0           embedding_4[0][0]                \n",
      "____________________________________________________________________________________________________\n",
      "concatenate_4 (Concatenate)      (None, 4)             0           input_7[0][0]                    \n",
      "                                                                   flatten_4[0][0]                  \n",
      "____________________________________________________________________________________________________\n",
      "dense_15 (Dense)                 (None, 1024)          5120        concatenate_4[0][0]              \n",
      "____________________________________________________________________________________________________\n",
      "dense_16 (Dense)                 (None, 2)             2050        dense_15[0][0]                   \n",
      "====================================================================================================\n",
      "Total params: 8,244\n",
      "Trainable params: 8,244\n",
      "Non-trainable params: 0\n",
      "____________________________________________________________________________________________________\n"
     ]
    }
   ],
   "source": [
    "neural_net = create_emb_hidden_model([1024])\n",
    "neural_net.summary()"
   ]
  },
  {
   "cell_type": "code",
   "execution_count": 144,
   "metadata": {
    "collapsed": true
   },
   "outputs": [],
   "source": [
    "neural_net.compile(Adam(0.1), crps_cost_function)"
   ]
  },
  {
   "cell_type": "code",
   "execution_count": 145,
   "metadata": {},
   "outputs": [
    {
     "name": "stdout",
     "output_type": "stream",
     "text": [
      "Epoch 1/20\n",
      "180849/180849 [==============================] - 4s - loss: 2.0797     \n",
      "Epoch 2/20\n",
      "180849/180849 [==============================] - 3s - loss: 0.9788     \n",
      "Epoch 3/20\n",
      "180849/180849 [==============================] - 3s - loss: 0.9739     \n",
      "Epoch 4/20\n",
      "180849/180849 [==============================] - 4s - loss: 0.9728     \n",
      "Epoch 5/20\n",
      "180849/180849 [==============================] - 4s - loss: 0.9757     \n",
      "Epoch 6/20\n",
      "180849/180849 [==============================] - 4s - loss: 0.9690     \n",
      "Epoch 7/20\n",
      "180849/180849 [==============================] - 4s - loss: 0.9692     \n",
      "Epoch 8/20\n",
      "180849/180849 [==============================] - 3s - loss: 0.9731     \n",
      "Epoch 9/20\n",
      "180849/180849 [==============================] - 4s - loss: 0.9704     \n",
      "Epoch 10/20\n",
      "180849/180849 [==============================] - 4s - loss: 0.9687     \n",
      "Epoch 11/20\n",
      "180849/180849 [==============================] - 4s - loss: 0.9681     \n",
      "Epoch 12/20\n",
      "180849/180849 [==============================] - 4s - loss: 0.9693     \n",
      "Epoch 13/20\n",
      "180849/180849 [==============================] - 4s - loss: 0.9722     - ETA: \n",
      "Epoch 14/20\n",
      "180849/180849 [==============================] - 4s - loss: 0.9651     \n",
      "Epoch 15/20\n",
      "180849/180849 [==============================] - 4s - loss: 0.9657     \n",
      "Epoch 16/20\n",
      "180849/180849 [==============================] - 4s - loss: 0.9666     \n",
      "Epoch 17/20\n",
      "180849/180849 [==============================] - 4s - loss: 0.9679     \n",
      "Epoch 18/20\n",
      "180849/180849 [==============================] - 4s - loss: 0.9652     \n",
      "Epoch 19/20\n",
      "180849/180849 [==============================] - 4s - loss: 0.9636     \n",
      "Epoch 20/20\n",
      "180849/180849 [==============================] - 4s - loss: 0.9657     \n"
     ]
    },
    {
     "data": {
      "text/plain": [
       "<keras.callbacks.History at 0x1382a64a8>"
      ]
     },
     "execution_count": 145,
     "metadata": {},
     "output_type": "execute_result"
    }
   ],
   "source": [
    "neural_net.fit([train_set.features, train_set.cont_ids], train_set.targets, \n",
    "               epochs=20, batch_size=4096)"
   ]
  },
  {
   "cell_type": "code",
   "execution_count": 146,
   "metadata": {},
   "outputs": [
    {
     "data": {
      "text/plain": [
       "0.94649475925632798"
      ]
     },
     "execution_count": 146,
     "metadata": {},
     "output_type": "execute_result"
    }
   ],
   "source": [
    "neural_net.evaluate([test_set.features, test_set.cont_ids], test_set.targets, 4096, 0)"
   ]
  },
  {
   "cell_type": "markdown",
   "metadata": {},
   "source": [
    "For the simple input that we have, adding non-linearity doesn't help to improve the fit."
   ]
  },
  {
   "cell_type": "markdown",
   "metadata": {},
   "source": [
    "## Adding more variables\n",
    "\n",
    "So far we have only used the temperature forecast as input but really we have a lot more variables from each forecast which might give us more information about the weather situation. \n",
    "\n",
    "In traditional post-processing there are techniques to utilize these auxiliary variables, called boosting techniques. \n",
    "\n",
    "Here are the benchmark scores from Sebastian's boosting experiments:\n",
    "- global boosting: 0.97\n",
    "- local boosting: 0.87\n",
    "\n",
    "As a first attempt we can simply throw in these extra variables to our standard network and see what happens. "
   ]
  },
  {
   "cell_type": "code",
   "execution_count": 148,
   "metadata": {
    "collapsed": true
   },
   "outputs": [],
   "source": [
    "#aux_train_set, aux_test_set = get_train_test_sets(DATA_DIR, train_dates, test_dates,\n",
    "#                                                  aux_dict=aux_dict)\n",
    "with open(DATA_DIR + 'pickled/aux_15_16.pkl', 'rb') as f:\n",
    "    aux_train_set, aux_test_set = pickle.load(f)"
   ]
  },
  {
   "cell_type": "code",
   "execution_count": 149,
   "metadata": {},
   "outputs": [
    {
     "name": "stdout",
     "output_type": "stream",
     "text": [
      "['t2m_fc_mean', 't2m_fc_std', 'orog', 'station_alt', 'station_lat', 'station_lon', 'u_pl500_fc_mean', 'u_pl500_fc_std', 'v_pl500_fc_mean', 'v_pl500_fc_std', 'gh_pl500_fc_mean', 'gh_pl500_fc_std', 'u_pl850_fc_mean', 'u_pl850_fc_std', 'v_pl850_fc_mean', 'v_pl850_fc_std', 'q_pl850_fc_mean', 'q_pl850_fc_std', 'cape_fc_mean', 'cape_fc_std', 'sp_fc_mean', 'sp_fc_std', 'tcc_fc_mean', 'tcc_fc_std', 'sshf_fc_mean', 'sshf_fc_std', 'slhf_fc_mean', 'slhf_fc_std', 'u10_fc_mean', 'u10_fc_std', 'v10_fc_mean', 'v10_fc_std', 'ssr_fc_mean', 'ssr_fc_std', 'str_fc_mean', 'str_fc_std', 'd2m_fc_mean', 'd2m_fc_std', 'sm_fc_mean', 'sm_fc_std']\n"
     ]
    },
    {
     "data": {
      "text/plain": [
       "40"
      ]
     },
     "execution_count": 149,
     "metadata": {},
     "output_type": "execute_result"
    }
   ],
   "source": [
    "print(aux_train_set.feature_names)\n",
    "len(aux_train_set.feature_names)"
   ]
  },
  {
   "cell_type": "markdown",
   "metadata": {},
   "source": [
    "As with temperature, we took the ensemble mean and standard deviation of all auxiliary variables (except for the constants). Now we can build the same network as earlier but with 40 inputs."
   ]
  },
  {
   "cell_type": "markdown",
   "metadata": {},
   "source": [
    "### Simple linear net with auxiliary variables"
   ]
  },
  {
   "cell_type": "code",
   "execution_count": 150,
   "metadata": {},
   "outputs": [
    {
     "name": "stdout",
     "output_type": "stream",
     "text": [
      "_________________________________________________________________\n",
      "Layer (type)                 Output Shape              Param #   \n",
      "=================================================================\n",
      "dense_17 (Dense)             (None, 2)                 82        \n",
      "=================================================================\n",
      "Total params: 82\n",
      "Trainable params: 82\n",
      "Non-trainable params: 0\n",
      "_________________________________________________________________\n"
     ]
    }
   ],
   "source": [
    "aux_fc_model = Sequential([\n",
    "    Dense(2, input_dim=40)\n",
    "])\n",
    "aux_fc_model.compile(Adam(0.1), crps_cost_function)\n",
    "aux_fc_model.summary()"
   ]
  },
  {
   "cell_type": "code",
   "execution_count": 151,
   "metadata": {
    "collapsed": true
   },
   "outputs": [
    {
     "name": "stdout",
     "output_type": "stream",
     "text": [
      "Epoch 1/20\n",
      "180849/180849 [==============================] - 0s - loss: 2.5644     \n",
      "Epoch 2/20\n",
      "180849/180849 [==============================] - 0s - loss: 1.5863     \n",
      "Epoch 3/20\n",
      "180849/180849 [==============================] - 0s - loss: 1.2910     \n",
      "Epoch 4/20\n",
      "180849/180849 [==============================] - 0s - loss: 1.1545     \n",
      "Epoch 5/20\n",
      "180849/180849 [==============================] - 0s - loss: 1.0833     \n",
      "Epoch 6/20\n",
      "180849/180849 [==============================] - 0s - loss: 1.0507     \n",
      "Epoch 7/20\n",
      "180849/180849 [==============================] - 0s - loss: 1.0276     \n",
      "Epoch 8/20\n",
      "180849/180849 [==============================] - 0s - loss: 1.0153     \n",
      "Epoch 9/20\n",
      "180849/180849 [==============================] - 0s - loss: 1.0005     \n",
      "Epoch 10/20\n",
      "180849/180849 [==============================] - 0s - loss: 0.9892     \n",
      "Epoch 11/20\n",
      "180849/180849 [==============================] - 0s - loss: 0.9799     \n",
      "Epoch 12/20\n",
      "180849/180849 [==============================] - 0s - loss: 0.9821     \n",
      "Epoch 13/20\n",
      "180849/180849 [==============================] - 0s - loss: 0.9698     \n",
      "Epoch 14/20\n",
      "180849/180849 [==============================] - 0s - loss: 0.9743     \n",
      "Epoch 15/20\n",
      "180849/180849 [==============================] - 0s - loss: 0.9644     \n",
      "Epoch 16/20\n",
      "180849/180849 [==============================] - 0s - loss: 0.9626     \n",
      "Epoch 17/20\n",
      "180849/180849 [==============================] - 0s - loss: 0.9621     \n",
      "Epoch 18/20\n",
      "180849/180849 [==============================] - 0s - loss: 0.9919     \n",
      "Epoch 19/20\n",
      "180849/180849 [==============================] - 0s - loss: 0.9671     \n",
      "Epoch 20/20\n",
      "180849/180849 [==============================] - 0s - loss: 0.9605     \n"
     ]
    },
    {
     "data": {
      "text/plain": [
       "<keras.callbacks.History at 0x132bff748>"
      ]
     },
     "execution_count": 151,
     "metadata": {},
     "output_type": "execute_result"
    }
   ],
   "source": [
    "aux_fc_model.fit(aux_train_set.features, aux_train_set.targets, epochs=20, batch_size=4096)"
   ]
  },
  {
   "cell_type": "code",
   "execution_count": 152,
   "metadata": {},
   "outputs": [
    {
     "data": {
      "text/plain": [
       "0.95293722502294942"
      ]
     },
     "execution_count": 152,
     "metadata": {},
     "output_type": "execute_result"
    }
   ],
   "source": [
    "aux_fc_model.evaluate(aux_test_set.features, aux_test_set.targets, 4096, 0)"
   ]
  },
  {
   "cell_type": "markdown",
   "metadata": {},
   "source": [
    "So we get a big improvement from 1.01 for only temperature. we are also doing better than global boosting. Next let's include our station embeddings."
   ]
  },
  {
   "cell_type": "markdown",
   "metadata": {},
   "source": [
    "### Auxiliary variables with station embeddings"
   ]
  },
  {
   "cell_type": "code",
   "execution_count": 153,
   "metadata": {},
   "outputs": [
    {
     "name": "stdout",
     "output_type": "stream",
     "text": [
      "____________________________________________________________________________________________________\n",
      "Layer (type)                     Output Shape          Param #     Connected to                     \n",
      "====================================================================================================\n",
      "input_10 (InputLayer)            (None, 1)             0                                            \n",
      "____________________________________________________________________________________________________\n",
      "embedding_5 (Embedding)          (None, 1, 2)          1074        input_10[0][0]                   \n",
      "____________________________________________________________________________________________________\n",
      "input_9 (InputLayer)             (None, 40)            0                                            \n",
      "____________________________________________________________________________________________________\n",
      "flatten_5 (Flatten)              (None, 2)             0           embedding_5[0][0]                \n",
      "____________________________________________________________________________________________________\n",
      "concatenate_5 (Concatenate)      (None, 42)            0           input_9[0][0]                    \n",
      "                                                                   flatten_5[0][0]                  \n",
      "____________________________________________________________________________________________________\n",
      "dense_18 (Dense)                 (None, 2)             86          concatenate_5[0][0]              \n",
      "====================================================================================================\n",
      "Total params: 1,160\n",
      "Trainable params: 1,160\n",
      "Non-trainable params: 0\n",
      "____________________________________________________________________________________________________\n"
     ]
    }
   ],
   "source": [
    "aux_emb_model = create_emb_hidden_model([], n_features=40)\n",
    "aux_emb_model.compile(Adam(0.01), crps_cost_function)\n",
    "aux_emb_model.summary()"
   ]
  },
  {
   "cell_type": "code",
   "execution_count": 154,
   "metadata": {
    "collapsed": true
   },
   "outputs": [
    {
     "name": "stdout",
     "output_type": "stream",
     "text": [
      "Epoch 1/50\n",
      "180849/180849 [==============================] - 1s - loss: 2.8117     \n",
      "Epoch 2/50\n",
      "180849/180849 [==============================] - 1s - loss: 1.9390     \n",
      "Epoch 3/50\n",
      "180849/180849 [==============================] - 0s - loss: 1.6577     \n",
      "Epoch 4/50\n",
      "180849/180849 [==============================] - 1s - loss: 1.4801     \n",
      "Epoch 5/50\n",
      "180849/180849 [==============================] - 1s - loss: 1.3518     \n",
      "Epoch 6/50\n",
      "180849/180849 [==============================] - 1s - loss: 1.2571     \n",
      "Epoch 7/50\n",
      "180849/180849 [==============================] - 1s - loss: 1.1857     \n",
      "Epoch 8/50\n",
      "180849/180849 [==============================] - 1s - loss: 1.1318     \n",
      "Epoch 9/50\n",
      "180849/180849 [==============================] - 0s - loss: 1.0911     \n",
      "Epoch 10/50\n",
      "180849/180849 [==============================] - 1s - loss: 1.0593     \n",
      "Epoch 11/50\n",
      "180849/180849 [==============================] - 1s - loss: 1.0357     \n",
      "Epoch 12/50\n",
      "180849/180849 [==============================] - 1s - loss: 1.0141     \n",
      "Epoch 13/50\n",
      "180849/180849 [==============================] - 1s - loss: 0.9994     \n",
      "Epoch 14/50\n",
      "180849/180849 [==============================] - 1s - loss: 0.9865     \n",
      "Epoch 15/50\n",
      "180849/180849 [==============================] - 0s - loss: 0.9767     \n",
      "Epoch 16/50\n",
      "180849/180849 [==============================] - 1s - loss: 0.9684     \n",
      "Epoch 17/50\n",
      "180849/180849 [==============================] - 1s - loss: 0.9604     \n",
      "Epoch 18/50\n",
      "180849/180849 [==============================] - 1s - loss: 0.9545     \n",
      "Epoch 19/50\n",
      "180849/180849 [==============================] - 1s - loss: 0.9481     \n",
      "Epoch 20/50\n",
      "180849/180849 [==============================] - 1s - loss: 0.9434     \n",
      "Epoch 21/50\n",
      "180849/180849 [==============================] - 1s - loss: 0.9393     \n",
      "Epoch 22/50\n",
      "180849/180849 [==============================] - ETA: 0s - loss: 0.934 - 1s - loss: 0.9339     \n",
      "Epoch 23/50\n",
      "180849/180849 [==============================] - 1s - loss: 0.9294     \n",
      "Epoch 24/50\n",
      "180849/180849 [==============================] - 0s - loss: 0.9272     \n",
      "Epoch 25/50\n",
      "180849/180849 [==============================] - 1s - loss: 0.9239     \n",
      "Epoch 26/50\n",
      "180849/180849 [==============================] - 1s - loss: 0.9213     \n",
      "Epoch 27/50\n",
      "180849/180849 [==============================] - 1s - loss: 0.9197     \n",
      "Epoch 28/50\n",
      "180849/180849 [==============================] - 1s - loss: 0.9175     \n",
      "Epoch 29/50\n",
      "180849/180849 [==============================] - 0s - loss: 0.9166     \n",
      "Epoch 30/50\n",
      "180849/180849 [==============================] - 1s - loss: 0.9155     \n",
      "Epoch 31/50\n",
      "180849/180849 [==============================] - 1s - loss: 0.9138     \n",
      "Epoch 32/50\n",
      "180849/180849 [==============================] - 1s - loss: 0.9136     \n",
      "Epoch 33/50\n",
      "180849/180849 [==============================] - 1s - loss: 0.9129     \n",
      "Epoch 34/50\n",
      "180849/180849 [==============================] - 1s - loss: 0.9115     \n",
      "Epoch 35/50\n",
      "180849/180849 [==============================] - 1s - loss: 0.9119     \n",
      "Epoch 36/50\n",
      "180849/180849 [==============================] - 1s - loss: 0.9105     \n",
      "Epoch 37/50\n",
      "180849/180849 [==============================] - 0s - loss: 0.9107     \n",
      "Epoch 38/50\n",
      "180849/180849 [==============================] - 0s - loss: 0.9098     \n",
      "Epoch 39/50\n",
      "180849/180849 [==============================] - 1s - loss: 0.9099     \n",
      "Epoch 40/50\n",
      "180849/180849 [==============================] - 1s - loss: 0.9097     \n",
      "Epoch 41/50\n",
      "180849/180849 [==============================] - 1s - loss: 0.9097     \n",
      "Epoch 42/50\n",
      "180849/180849 [==============================] - 1s - loss: 0.9089     \n",
      "Epoch 43/50\n",
      "180849/180849 [==============================] - 1s - loss: 0.9089     \n",
      "Epoch 44/50\n",
      "180849/180849 [==============================] - 0s - loss: 0.9085     \n",
      "Epoch 45/50\n",
      "180849/180849 [==============================] - 0s - loss: 0.9082     \n",
      "Epoch 46/50\n",
      "180849/180849 [==============================] - 1s - loss: 0.9091     \n",
      "Epoch 47/50\n",
      "180849/180849 [==============================] - 1s - loss: 0.9084     \n",
      "Epoch 48/50\n",
      "180849/180849 [==============================] - 1s - loss: 0.9082     \n",
      "Epoch 49/50\n",
      "180849/180849 [==============================] - 1s - loss: 0.9079     \n",
      "Epoch 50/50\n",
      "180849/180849 [==============================] - 1s - loss: 0.9080     \n"
     ]
    }
   ],
   "source": [
    "aux_emb_model.fit([aux_train_set.features, aux_train_set.cont_ids], aux_train_set.targets, \n",
    "                   epochs=50, batch_size=1024);"
   ]
  },
  {
   "cell_type": "code",
   "execution_count": 155,
   "metadata": {
    "collapsed": true
   },
   "outputs": [
    {
     "data": {
      "text/plain": [
       "0.87970218412371781"
      ]
     },
     "execution_count": 155,
     "metadata": {},
     "output_type": "execute_result"
    }
   ],
   "source": [
    "aux_emb_model.evaluate([aux_test_set.features, aux_test_set.cont_ids], \n",
    "                       aux_test_set.targets, 4096, 0)"
   ]
  },
  {
   "cell_type": "markdown",
   "metadata": {},
   "source": [
    "This is slightly worse than the local boosting algorithm."
   ]
  },
  {
   "cell_type": "markdown",
   "metadata": {},
   "source": [
    "### Neural network\n",
    "\n",
    "So far we have only used linear networks. Now let's add some non-linearity with one hidden layer."
   ]
  },
  {
   "cell_type": "code",
   "execution_count": 185,
   "metadata": {},
   "outputs": [
    {
     "name": "stdout",
     "output_type": "stream",
     "text": [
      "____________________________________________________________________________________________________\n",
      "Layer (type)                     Output Shape          Param #     Connected to                     \n",
      "====================================================================================================\n",
      "input_30 (InputLayer)            (None, 1)             0                                            \n",
      "____________________________________________________________________________________________________\n",
      "embedding_15 (Embedding)         (None, 1, 2)          1074        input_30[0][0]                   \n",
      "____________________________________________________________________________________________________\n",
      "input_29 (InputLayer)            (None, 40)            0                                            \n",
      "____________________________________________________________________________________________________\n",
      "flatten_15 (Flatten)             (None, 2)             0           embedding_15[0][0]               \n",
      "____________________________________________________________________________________________________\n",
      "concatenate_15 (Concatenate)     (None, 42)            0           input_29[0][0]                   \n",
      "                                                                   flatten_15[0][0]                 \n",
      "____________________________________________________________________________________________________\n",
      "dense_37 (Dense)                 (None, 100)           4300        concatenate_15[0][0]             \n",
      "____________________________________________________________________________________________________\n",
      "dense_38 (Dense)                 (None, 2)             202         dense_37[0][0]                   \n",
      "====================================================================================================\n",
      "Total params: 5,576\n",
      "Trainable params: 5,576\n",
      "Non-trainable params: 0\n",
      "____________________________________________________________________________________________________\n"
     ]
    }
   ],
   "source": [
    "nn_model = create_emb_hidden_model([100], n_features=40)\n",
    "nn_model.compile(Adam(0.005), crps_cost_function)\n",
    "nn_model.summary()"
   ]
  },
  {
   "cell_type": "code",
   "execution_count": 186,
   "metadata": {},
   "outputs": [
    {
     "name": "stdout",
     "output_type": "stream",
     "text": [
      "Epoch 1/50\n",
      "180849/180849 [==============================] - 1s - loss: 3.3185     \n",
      "Epoch 2/50\n",
      "180849/180849 [==============================] - 0s - loss: 1.8750     \n",
      "Epoch 3/50\n",
      "180849/180849 [==============================] - 0s - loss: 1.3878     \n",
      "Epoch 4/50\n",
      "180849/180849 [==============================] - 0s - loss: 1.1402     \n",
      "Epoch 5/50\n",
      "180849/180849 [==============================] - 0s - loss: 1.0404     \n",
      "Epoch 6/50\n",
      "180849/180849 [==============================] - 0s - loss: 0.9977     \n",
      "Epoch 7/50\n",
      "180849/180849 [==============================] - 0s - loss: 0.9738     \n",
      "Epoch 8/50\n",
      "180849/180849 [==============================] - 0s - loss: 0.9531     \n",
      "Epoch 9/50\n",
      "180849/180849 [==============================] - 0s - loss: 0.9426     \n",
      "Epoch 10/50\n",
      "180849/180849 [==============================] - 0s - loss: 0.9402     \n",
      "Epoch 11/50\n",
      "180849/180849 [==============================] - 0s - loss: 0.9278     \n",
      "Epoch 12/50\n",
      "180849/180849 [==============================] - 0s - loss: 0.9200     \n",
      "Epoch 13/50\n",
      "180849/180849 [==============================] - 0s - loss: 0.9129     \n",
      "Epoch 14/50\n",
      "180849/180849 [==============================] - 0s - loss: 0.9121     \n",
      "Epoch 15/50\n",
      "180849/180849 [==============================] - 0s - loss: 0.9022     \n",
      "Epoch 16/50\n",
      "180849/180849 [==============================] - 0s - loss: 0.9063     \n",
      "Epoch 17/50\n",
      "180849/180849 [==============================] - 0s - loss: 0.8935     \n",
      "Epoch 18/50\n",
      "180849/180849 [==============================] - 0s - loss: 0.8823     \n",
      "Epoch 19/50\n",
      "180849/180849 [==============================] - 0s - loss: 0.8815     \n",
      "Epoch 20/50\n",
      "180849/180849 [==============================] - 0s - loss: 0.8747     \n",
      "Epoch 21/50\n",
      "180849/180849 [==============================] - 0s - loss: 0.8679     \n",
      "Epoch 22/50\n",
      "180849/180849 [==============================] - 0s - loss: 0.8637     \n",
      "Epoch 23/50\n",
      "180849/180849 [==============================] - 0s - loss: 0.8529     \n",
      "Epoch 24/50\n",
      "180849/180849 [==============================] - 0s - loss: 0.8590     \n",
      "Epoch 25/50\n",
      "180849/180849 [==============================] - 0s - loss: 0.8517     \n",
      "Epoch 26/50\n",
      "180849/180849 [==============================] - 0s - loss: 0.8505     \n",
      "Epoch 27/50\n",
      "180849/180849 [==============================] - 0s - loss: 0.8535     \n",
      "Epoch 28/50\n",
      "180849/180849 [==============================] - 0s - loss: 0.8476     - ETA: 0s - l\n",
      "Epoch 29/50\n",
      "180849/180849 [==============================] - 0s - loss: 0.8537     \n",
      "Epoch 30/50\n",
      "180849/180849 [==============================] - 0s - loss: 0.8505     \n",
      "Epoch 31/50\n",
      "180849/180849 [==============================] - 0s - loss: 0.8407     \n",
      "Epoch 32/50\n",
      "180849/180849 [==============================] - 0s - loss: 0.8394     \n",
      "Epoch 33/50\n",
      "180849/180849 [==============================] - 0s - loss: 0.8421     \n",
      "Epoch 34/50\n",
      "180849/180849 [==============================] - 0s - loss: 0.8419     \n",
      "Epoch 35/50\n",
      "180849/180849 [==============================] - 0s - loss: 0.8380     \n",
      "Epoch 36/50\n",
      "180849/180849 [==============================] - 0s - loss: 0.8429     \n",
      "Epoch 37/50\n",
      "180849/180849 [==============================] - 0s - loss: 0.8381     \n",
      "Epoch 38/50\n",
      "180849/180849 [==============================] - 0s - loss: 0.8468     \n",
      "Epoch 39/50\n",
      "180849/180849 [==============================] - 0s - loss: 0.8346     \n",
      "Epoch 40/50\n",
      "180849/180849 [==============================] - 0s - loss: 0.8398     \n",
      "Epoch 41/50\n",
      "180849/180849 [==============================] - 0s - loss: 0.8361     \n",
      "Epoch 42/50\n",
      "180849/180849 [==============================] - 0s - loss: 0.8330     - ETA: 0s - \n",
      "Epoch 43/50\n",
      "180849/180849 [==============================] - 0s - loss: 0.8355     \n",
      "Epoch 44/50\n",
      "180849/180849 [==============================] - 0s - loss: 0.8329     \n",
      "Epoch 45/50\n",
      "180849/180849 [==============================] - 0s - loss: 0.8361     \n",
      "Epoch 46/50\n",
      "180849/180849 [==============================] - 0s - loss: 0.8354     \n",
      "Epoch 47/50\n",
      "180849/180849 [==============================] - 0s - loss: 0.8316     \n",
      "Epoch 48/50\n",
      "180849/180849 [==============================] - 0s - loss: 0.8325     \n",
      "Epoch 49/50\n",
      "180849/180849 [==============================] - 0s - loss: 0.8292     \n",
      "Epoch 50/50\n",
      "180849/180849 [==============================] - 0s - loss: 0.8323     \n"
     ]
    }
   ],
   "source": [
    "#nn_model.fit([aux_train_set.features, aux_train_set.cont_ids], aux_train_set.targets, \n",
    "#             epochs=50, batch_size=4096);"
   ]
  },
  {
   "cell_type": "code",
   "execution_count": 188,
   "metadata": {
    "collapsed": true
   },
   "outputs": [],
   "source": [
    "#nn_model.save(DATA_DIR + 'saved_models/nn_model.h5')"
   ]
  },
  {
   "cell_type": "code",
   "execution_count": 192,
   "metadata": {},
   "outputs": [],
   "source": [
    "nn_model = keras.models.load_model(DATA_DIR + 'saved_models/nn_model.h5')"
   ]
  },
  {
   "cell_type": "code",
   "execution_count": 193,
   "metadata": {},
   "outputs": [
    {
     "data": {
      "text/plain": [
       "0.8334972869413183"
      ]
     },
     "execution_count": 193,
     "metadata": {},
     "output_type": "execute_result"
    }
   ],
   "source": [
    "nn_model.evaluate([aux_test_set.features, aux_test_set.cont_ids], \n",
    "                       aux_test_set.targets, 4096, 0)"
   ]
  },
  {
   "cell_type": "markdown",
   "metadata": {},
   "source": [
    "The added non-linearity gives us a another few percent improvement compared to the local boosting algorithm. Why not try increasing the number of hidden layers and nodes?"
   ]
  },
  {
   "cell_type": "markdown",
   "metadata": {},
   "source": [
    "### A more complex neural network"
   ]
  },
  {
   "cell_type": "code",
   "execution_count": 194,
   "metadata": {},
   "outputs": [
    {
     "name": "stdout",
     "output_type": "stream",
     "text": [
      "____________________________________________________________________________________________________\n",
      "Layer (type)                     Output Shape          Param #     Connected to                     \n",
      "====================================================================================================\n",
      "input_32 (InputLayer)            (None, 1)             0                                            \n",
      "____________________________________________________________________________________________________\n",
      "embedding_16 (Embedding)         (None, 1, 2)          1074        input_32[0][0]                   \n",
      "____________________________________________________________________________________________________\n",
      "input_31 (InputLayer)            (None, 40)            0                                            \n",
      "____________________________________________________________________________________________________\n",
      "flatten_16 (Flatten)             (None, 2)             0           embedding_16[0][0]               \n",
      "____________________________________________________________________________________________________\n",
      "concatenate_16 (Concatenate)     (None, 42)            0           input_31[0][0]                   \n",
      "                                                                   flatten_16[0][0]                 \n",
      "____________________________________________________________________________________________________\n",
      "dense_39 (Dense)                 (None, 512)           22016       concatenate_16[0][0]             \n",
      "____________________________________________________________________________________________________\n",
      "dense_40 (Dense)                 (None, 512)           262656      dense_39[0][0]                   \n",
      "____________________________________________________________________________________________________\n",
      "dense_41 (Dense)                 (None, 2)             1026        dense_40[0][0]                   \n",
      "====================================================================================================\n",
      "Total params: 286,772\n",
      "Trainable params: 286,772\n",
      "Non-trainable params: 0\n",
      "____________________________________________________________________________________________________\n"
     ]
    }
   ],
   "source": [
    "better_nn = create_emb_hidden_model([512, 512], 40)\n",
    "better_nn.compile(Adam(0.01), crps_cost_function)\n",
    "better_nn.summary()"
   ]
  },
  {
   "cell_type": "code",
   "execution_count": 195,
   "metadata": {},
   "outputs": [
    {
     "name": "stdout",
     "output_type": "stream",
     "text": [
      "Epoch 1/50\n",
      "180849/180849 [==============================] - 15s - loss: 1.7628    \n",
      "Epoch 2/50\n",
      "180849/180849 [==============================] - 14s - loss: 0.9391    \n",
      "Epoch 3/50\n",
      "180849/180849 [==============================] - 15s - loss: 0.8810    \n",
      "Epoch 4/50\n",
      "180849/180849 [==============================] - 15s - loss: 0.8658    \n",
      "Epoch 5/50\n",
      "180849/180849 [==============================] - 14s - loss: 0.8377    \n",
      "Epoch 6/50\n",
      "180849/180849 [==============================] - 14s - loss: 0.8545    \n",
      "Epoch 7/50\n",
      "180849/180849 [==============================] - 14s - loss: 0.8085    \n",
      "Epoch 8/50\n",
      "180849/180849 [==============================] - 14s - loss: 0.8148    \n",
      "Epoch 9/50\n",
      "180849/180849 [==============================] - 14s - loss: 0.8095    \n",
      "Epoch 10/50\n",
      "180849/180849 [==============================] - 14s - loss: 0.8089    \n",
      "Epoch 11/50\n",
      "180849/180849 [==============================] - 14s - loss: 0.7967    \n",
      "Epoch 12/50\n",
      "180849/180849 [==============================] - 14s - loss: 0.7816    \n",
      "Epoch 13/50\n",
      "180849/180849 [==============================] - 14s - loss: 0.7830    \n",
      "Epoch 14/50\n",
      "180849/180849 [==============================] - 14s - loss: 0.7770    \n",
      "Epoch 15/50\n",
      "180849/180849 [==============================] - 14s - loss: 0.7632    \n",
      "Epoch 16/50\n",
      "180849/180849 [==============================] - 14s - loss: 0.7661    \n",
      "Epoch 17/50\n",
      "180849/180849 [==============================] - 14s - loss: 0.7798    \n",
      "Epoch 18/50\n",
      "180849/180849 [==============================] - 14s - loss: 0.7552    \n",
      "Epoch 19/50\n",
      "180849/180849 [==============================] - 14s - loss: 0.7495    \n",
      "Epoch 20/50\n",
      "180849/180849 [==============================] - 14s - loss: 0.7444    \n",
      "Epoch 21/50\n",
      "180849/180849 [==============================] - 14s - loss: 0.7628    \n",
      "Epoch 22/50\n",
      "180849/180849 [==============================] - 14s - loss: 0.7464    \n",
      "Epoch 23/50\n",
      "180849/180849 [==============================] - 15s - loss: 0.7402    \n",
      "Epoch 24/50\n",
      "180849/180849 [==============================] - 15s - loss: 0.7298    \n",
      "Epoch 25/50\n",
      "180849/180849 [==============================] - 15s - loss: 0.7287    \n",
      "Epoch 26/50\n",
      "180849/180849 [==============================] - 16s - loss: 0.7255    \n",
      "Epoch 27/50\n",
      "180849/180849 [==============================] - 15s - loss: 0.7342    \n",
      "Epoch 28/50\n",
      "180849/180849 [==============================] - 16s - loss: 0.7199    \n",
      "Epoch 29/50\n",
      "180849/180849 [==============================] - 15s - loss: 0.7215    \n",
      "Epoch 30/50\n",
      "180849/180849 [==============================] - 16s - loss: 0.7220    \n",
      "Epoch 31/50\n",
      "180849/180849 [==============================] - 15s - loss: 0.7118    \n",
      "Epoch 32/50\n",
      "180849/180849 [==============================] - 15s - loss: 0.7130    \n",
      "Epoch 33/50\n",
      "180849/180849 [==============================] - 15s - loss: 0.7081    \n",
      "Epoch 34/50\n",
      "180849/180849 [==============================] - 16s - loss: 0.7112    \n",
      "Epoch 35/50\n",
      "180849/180849 [==============================] - 16s - loss: 0.7112    \n",
      "Epoch 36/50\n",
      "180849/180849 [==============================] - 16s - loss: 0.7103    \n",
      "Epoch 37/50\n",
      "180849/180849 [==============================] - 15s - loss: 0.7001    \n",
      "Epoch 38/50\n",
      "180849/180849 [==============================] - 15s - loss: 0.7012    \n",
      "Epoch 39/50\n",
      "180849/180849 [==============================] - 15s - loss: 0.6877    \n",
      "Epoch 40/50\n",
      "180849/180849 [==============================] - 15s - loss: 0.6924    \n",
      "Epoch 41/50\n",
      "180849/180849 [==============================] - 15s - loss: 0.7139    \n",
      "Epoch 42/50\n",
      "180849/180849 [==============================] - 15s - loss: 0.6943    \n",
      "Epoch 43/50\n",
      "180849/180849 [==============================] - 15s - loss: 0.6814    \n",
      "Epoch 44/50\n",
      "180849/180849 [==============================] - 15s - loss: 0.6898    \n",
      "Epoch 45/50\n",
      "180849/180849 [==============================] - 14s - loss: 0.6829    \n",
      "Epoch 46/50\n",
      "180849/180849 [==============================] - 11s - loss: 0.6904    \n",
      "Epoch 47/50\n",
      "180849/180849 [==============================] - 11s - loss: 0.6784    - E\n",
      "Epoch 48/50\n",
      "180849/180849 [==============================] - 11s - loss: 0.6807    - ETA: 9s - ET - ETA: 0s - los\n",
      "Epoch 49/50\n",
      "180849/180849 [==============================] - 11s - loss: 0.6726    - ETA: 3s - loss: 0. - - ETA\n",
      "Epoch 50/50\n",
      "180849/180849 [==============================] - 11s - loss: 0.6767    \n"
     ]
    }
   ],
   "source": [
    "#better_nn.fit([aux_train_set.features, aux_train_set.cont_ids], aux_train_set.targets, \n",
    "#             epochs=50, batch_size=1024);"
   ]
  },
  {
   "cell_type": "code",
   "execution_count": 197,
   "metadata": {
    "collapsed": true
   },
   "outputs": [],
   "source": [
    "#better_nn.save(DATA_DIR + 'saved_models/better_nn.h5')"
   ]
  },
  {
   "cell_type": "code",
   "execution_count": 198,
   "metadata": {
    "collapsed": true
   },
   "outputs": [],
   "source": [
    "better_nn = keras.models.load_model(DATA_DIR + 'saved_models/better_nn.h5')"
   ]
  },
  {
   "cell_type": "code",
   "execution_count": 199,
   "metadata": {},
   "outputs": [
    {
     "data": {
      "text/plain": [
       "0.65239755572675184"
      ]
     },
     "execution_count": 199,
     "metadata": {},
     "output_type": "execute_result"
    }
   ],
   "source": [
    "# Training score\n",
    "better_nn.evaluate([aux_train_set.features, aux_train_set.cont_ids], \n",
    "                       aux_train_set.targets, 4096, 0)"
   ]
  },
  {
   "cell_type": "code",
   "execution_count": 200,
   "metadata": {},
   "outputs": [
    {
     "data": {
      "text/plain": [
       "0.91378149655209406"
      ]
     },
     "execution_count": 200,
     "metadata": {},
     "output_type": "execute_result"
    }
   ],
   "source": [
    "better_nn.evaluate([aux_test_set.features, aux_test_set.cont_ids], \n",
    "                       aux_test_set.targets, 4096, 0)"
   ]
  },
  {
   "cell_type": "markdown",
   "metadata": {
    "heading_collapsed": true
   },
   "source": [
    "### Hmmm, weird..."
   ]
  },
  {
   "cell_type": "markdown",
   "metadata": {
    "hidden": true
   },
   "source": [
    "This is what is called overfitting and is a serious problem in machine learning. The model basically memorizes the training examples and does not generalize to unseen samples.\n",
    "\n",
    "![overfitting](https://i.stack.imgur.com/t0zit.png)\n",
    "\n",
    "The model complexity is limited by the amount of training data!"
   ]
  },
  {
   "cell_type": "markdown",
   "metadata": {},
   "source": [
    "## A longer training period\n",
    "\n",
    "Finally, let's see if our score gets better if we train with a longer training period. "
   ]
  },
  {
   "cell_type": "code",
   "execution_count": 201,
   "metadata": {
    "collapsed": true
   },
   "outputs": [],
   "source": [
    "long_train_dates = ['2008-01-01', '2016-01-01']\n",
    "#long_train_set, long_test_set = get_train_test_sets(DATA_DIR, long_train_dates, test_dates,\n",
    "#                                                  aux_dict=aux_dict)\n",
    "with open(DATA_DIR + 'pickled/aux_08-15_16.pkl', 'rb') as f:\n",
    "    long_train_set, long_test_set = pickle.load(f)"
   ]
  },
  {
   "cell_type": "code",
   "execution_count": 202,
   "metadata": {},
   "outputs": [
    {
     "data": {
      "text/plain": [
       "(1456977, 40)"
      ]
     },
     "execution_count": 202,
     "metadata": {},
     "output_type": "execute_result"
    }
   ],
   "source": [
    "long_train_set.features.shape"
   ]
  },
  {
   "cell_type": "code",
   "execution_count": 203,
   "metadata": {},
   "outputs": [
    {
     "name": "stdout",
     "output_type": "stream",
     "text": [
      "____________________________________________________________________________________________________\n",
      "Layer (type)                     Output Shape          Param #     Connected to                     \n",
      "====================================================================================================\n",
      "input_34 (InputLayer)            (None, 1)             0                                            \n",
      "____________________________________________________________________________________________________\n",
      "embedding_17 (Embedding)         (None, 1, 2)          1074        input_34[0][0]                   \n",
      "____________________________________________________________________________________________________\n",
      "input_33 (InputLayer)            (None, 40)            0                                            \n",
      "____________________________________________________________________________________________________\n",
      "flatten_17 (Flatten)             (None, 2)             0           embedding_17[0][0]               \n",
      "____________________________________________________________________________________________________\n",
      "concatenate_17 (Concatenate)     (None, 42)            0           input_33[0][0]                   \n",
      "                                                                   flatten_17[0][0]                 \n",
      "____________________________________________________________________________________________________\n",
      "dense_42 (Dense)                 (None, 500)           21500       concatenate_17[0][0]             \n",
      "____________________________________________________________________________________________________\n",
      "dense_43 (Dense)                 (None, 2)             1002        dense_42[0][0]                   \n",
      "====================================================================================================\n",
      "Total params: 23,576\n",
      "Trainable params: 23,576\n",
      "Non-trainable params: 0\n",
      "____________________________________________________________________________________________________\n"
     ]
    }
   ],
   "source": [
    "nn_model = create_emb_hidden_model([500], n_features=40)\n",
    "nn_model.compile(Adam(0.002), crps_cost_function)\n",
    "nn_model.summary()"
   ]
  },
  {
   "cell_type": "code",
   "execution_count": 204,
   "metadata": {
    "collapsed": true
   },
   "outputs": [
    {
     "name": "stdout",
     "output_type": "stream",
     "text": [
      "Train on 1165581 samples, validate on 291396 samples\n",
      "Epoch 1/100\n",
      "1165581/1165581 [==============================] - 20s - loss: 1.6362 - val_loss: 0.9121\n",
      "Epoch 2/100\n",
      "1165581/1165581 [==============================] - 19s - loss: 0.9080 - val_loss: 0.8601\n",
      "Epoch 3/100\n",
      "1165581/1165581 [==============================] - 19s - loss: 0.8673 - val_loss: 0.8320\n",
      "Epoch 4/100\n",
      "1165581/1165581 [==============================] - 19s - loss: 0.8557 - val_loss: 0.8250\n",
      "Epoch 5/100\n",
      "1165581/1165581 [==============================] - 19s - loss: 0.8466 - val_loss: 0.8282\n",
      "Epoch 6/100\n",
      "1165581/1165581 [==============================] - 21s - loss: 0.8404 - val_loss: 0.8188\n",
      "Epoch 7/100\n",
      "1165581/1165581 [==============================] - 20s - loss: 0.8360 - val_loss: 0.8159\n",
      "Epoch 8/100\n",
      "1165581/1165581 [==============================] - 19s - loss: 0.8306 - val_loss: 0.8212\n",
      "Epoch 9/100\n",
      "1165581/1165581 [==============================] - 19s - loss: 0.8259 - val_loss: 0.8118\n",
      "Epoch 10/100\n",
      "1165581/1165581 [==============================] - 19s - loss: 0.8228 - val_loss: 0.8131\n",
      "Epoch 11/100\n",
      "1165581/1165581 [==============================] - 19s - loss: 0.8189 - val_loss: 0.8149\n",
      "Epoch 12/100\n",
      "1165581/1165581 [==============================] - 19s - loss: 0.8158 - val_loss: 0.8122\n"
     ]
    }
   ],
   "source": [
    "#nn_model.fit([long_train_set.features, long_train_set.cont_ids], long_train_set.targets, \n",
    "#             epochs=100, batch_size=4096, validation_split=0.2,\n",
    "#             callbacks=[EarlyStopping(patience=2)]);"
   ]
  },
  {
   "cell_type": "code",
   "execution_count": 206,
   "metadata": {
    "collapsed": true
   },
   "outputs": [],
   "source": [
    "#nn_model.save(DATA_DIR + 'saved_models/nn_model_long.h5')"
   ]
  },
  {
   "cell_type": "code",
   "execution_count": 207,
   "metadata": {
    "collapsed": true
   },
   "outputs": [],
   "source": [
    "nn_model = keras.models.load_model(DATA_DIR + 'saved_models/nn_model_long.h5')"
   ]
  },
  {
   "cell_type": "code",
   "execution_count": 208,
   "metadata": {
    "collapsed": true
   },
   "outputs": [
    {
     "data": {
      "text/plain": [
       "0.79868184177597268"
      ]
     },
     "execution_count": 208,
     "metadata": {},
     "output_type": "execute_result"
    }
   ],
   "source": [
    "nn_model.evaluate([long_test_set.features, long_test_set.cont_ids], \n",
    "                       long_test_set.targets, 4096, 0)"
   ]
  },
  {
   "cell_type": "markdown",
   "metadata": {},
   "source": [
    "So we got another 4% improvement with more training data. We do not yet have benchmark scores for the traditional post-processing techniques for the long training period."
   ]
  },
  {
   "cell_type": "markdown",
   "metadata": {
    "heading_collapsed": true
   },
   "source": [
    "## Conclusion\n",
    "\n",
    "Neural network provide a flexible and fast way of post-processing probabilistic NWP forecasts and are even a little better than traditional techniques courtesy of the added non-linearity. \n",
    "\n",
    "This is however an academic dataset with a nicely behaved variable, temperature. Application-driven post-processing poses some extra challenges:\n",
    "- Non-gaussian variables like temperature and wind\n",
    "- Spatial structures"
   ]
  },
  {
   "cell_type": "code",
   "execution_count": null,
   "metadata": {
    "collapsed": true,
    "hidden": true
   },
   "outputs": [],
   "source": []
  }
 ],
 "metadata": {
  "kernelspec": {
   "display_name": "Python 3",
   "language": "python",
   "name": "python3"
  },
  "language_info": {
   "codemirror_mode": {
    "name": "ipython",
    "version": 3
   },
   "file_extension": ".py",
   "mimetype": "text/x-python",
   "name": "python",
   "nbconvert_exporter": "python",
   "pygments_lexer": "ipython3",
   "version": "3.6.2"
  },
  "toc": {
   "nav_menu": {},
   "number_sections": true,
   "sideBar": true,
   "skip_h1_title": true,
   "toc_cell": true,
   "toc_position": {},
   "toc_section_display": "block",
   "toc_window_display": false
  }
 },
 "nbformat": 4,
 "nbformat_minor": 2
}
