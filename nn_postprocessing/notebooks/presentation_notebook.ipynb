{
 "cells": [
  {
   "cell_type": "markdown",
   "metadata": {
    "toc": "true"
   },
   "source": [
    "<h1>Table of Contents<span class=\"tocSkip\"></span></h1>\n",
    "<div class=\"toc\" style=\"margin-top: 1em;\"><ul class=\"toc-item\"><li><span><a href=\"#A-neural-network-in-numpy\" data-toc-modified-id=\"A-neural-network-in-numpy-1\"><span class=\"toc-item-num\">1&nbsp;&nbsp;</span>A neural network in numpy</a></span></li><li><span><a href=\"#Getting-the-data\" data-toc-modified-id=\"Getting-the-data-2\"><span class=\"toc-item-num\">2&nbsp;&nbsp;</span>Getting the data</a></span></li><li><span><a href=\"#Simple-postprocessing\" data-toc-modified-id=\"Simple-postprocessing-3\"><span class=\"toc-item-num\">3&nbsp;&nbsp;</span>Simple postprocessing</a></span><ul class=\"toc-item\"><li><span><a href=\"#Add-station-information-with-embeddings\" data-toc-modified-id=\"Add-station-information-with-embeddings-3.1\"><span class=\"toc-item-num\">3.1&nbsp;&nbsp;</span>Add station information with embeddings</a></span></li><li><span><a href=\"#What-about-a-neural-network?\" data-toc-modified-id=\"What-about-a-neural-network?-3.2\"><span class=\"toc-item-num\">3.2&nbsp;&nbsp;</span>What about a neural network?</a></span></li></ul></li><li><span><a href=\"#Adding-more-variables\" data-toc-modified-id=\"Adding-more-variables-4\"><span class=\"toc-item-num\">4&nbsp;&nbsp;</span>Adding more variables</a></span><ul class=\"toc-item\"><li><span><a href=\"#Simple-linear-net-with-auxiliary-variables\" data-toc-modified-id=\"Simple-linear-net-with-auxiliary-variables-4.1\"><span class=\"toc-item-num\">4.1&nbsp;&nbsp;</span>Simple linear net with auxiliary variables</a></span></li><li><span><a href=\"#Auxiliary-variables-with-station-embeddings\" data-toc-modified-id=\"Auxiliary-variables-with-station-embeddings-4.2\"><span class=\"toc-item-num\">4.2&nbsp;&nbsp;</span>Auxiliary variables with station embeddings</a></span></li><li><span><a href=\"#Neural-network\" data-toc-modified-id=\"Neural-network-4.3\"><span class=\"toc-item-num\">4.3&nbsp;&nbsp;</span>Neural network</a></span></li><li><span><a href=\"#A-more-complex-neural-network\" data-toc-modified-id=\"A-more-complex-neural-network-4.4\"><span class=\"toc-item-num\">4.4&nbsp;&nbsp;</span>A more complex neural network</a></span></li><li><span><a href=\"#Hmmm,-weird...\" data-toc-modified-id=\"Hmmm,-weird...-4.5\"><span class=\"toc-item-num\">4.5&nbsp;&nbsp;</span>Hmmm, weird...</a></span></li></ul></li><li><span><a href=\"#A-longer-training-period\" data-toc-modified-id=\"A-longer-training-period-5\"><span class=\"toc-item-num\">5&nbsp;&nbsp;</span>A longer training period</a></span></li><li><span><a href=\"#Conclusion\" data-toc-modified-id=\"Conclusion-6\"><span class=\"toc-item-num\">6&nbsp;&nbsp;</span>Conclusion</a></span></li></ul></div>"
   ]
  },
  {
   "cell_type": "markdown",
   "metadata": {},
   "source": [
    "# Neural networks for post-processing NWP forecasts"
   ]
  },
  {
   "cell_type": "code",
   "execution_count": 166,
   "metadata": {},
   "outputs": [
    {
     "name": "stdout",
     "output_type": "stream",
     "text": [
      "Anaconda environment: cbrain_gpu\n",
      "Linux 4.4.0-101-generic\n"
     ]
    }
   ],
   "source": [
    "# Imports \n",
    "import numpy as np\n",
    "import sys\n",
    "sys.path.append('../')   # This is where all the python files are!\n",
    "from importlib import reload\n",
    "import utils; reload(utils)\n",
    "from utils import *\n",
    "import keras_models; reload(keras_models)\n",
    "from keras_models import *\n",
    "from losses import crps_cost_function\n",
    "from scipy.stats import norm\n",
    "import matplotlib.pyplot as plt\n",
    "%matplotlib inline\n",
    "import seaborn as sns\n",
    "sns.set_style('dark')\n",
    "sns.set_context('poster')"
   ]
  },
  {
   "cell_type": "code",
   "execution_count": 7,
   "metadata": {},
   "outputs": [],
   "source": [
    "# Basic setup\n",
    "# DATA_DIR = '/Volumes/STICK/data/ppnn_data/'  # Mac\n",
    "DATA_DIR = '/project/meteo/w2w/C7/ppnn_data/'   # LMU"
   ]
  },
  {
   "cell_type": "markdown",
   "metadata": {
    "heading_collapsed": true
   },
   "source": [
    "## A neural network in numpy\n",
    "\n",
    "2 inputs, 1 hidden layer with 5 nodes, 2 outputs"
   ]
  },
  {
   "cell_type": "code",
   "execution_count": 12,
   "metadata": {
    "hidden": true
   },
   "outputs": [
    {
     "data": {
      "text/plain": [
       "((1000, 2), (1000,))"
      ]
     },
     "execution_count": 12,
     "metadata": {},
     "output_type": "execute_result"
    }
   ],
   "source": [
    "# Create some mock data\n",
    "n_samples = 1000\n",
    "features = np.random.rand(n_samples, 2)\n",
    "targets = 10 * features[:, 0] * features[:, 1] + 0.3 * np.random.rand(n_samples) - 0.15\n",
    "features.shape, targets.shape"
   ]
  },
  {
   "cell_type": "code",
   "execution_count": 13,
   "metadata": {
    "hidden": true
   },
   "outputs": [
    {
     "data": {
      "text/plain": [
       "(array([[ 0.87719419,  0.59026528],\n",
       "        [ 0.04778934,  0.33822739],\n",
       "        [ 0.35290574,  0.13613203]]),\n",
       " array([ 5.03090619,  0.14209776,  0.42142432]))"
      ]
     },
     "execution_count": 13,
     "metadata": {},
     "output_type": "execute_result"
    }
   ],
   "source": [
    "features[:3], targets[:3]"
   ]
  },
  {
   "cell_type": "code",
   "execution_count": 85,
   "metadata": {
    "collapsed": true,
    "hidden": true
   },
   "outputs": [],
   "source": [
    "w1 = np.random.rand(2, 5)\n",
    "b1 = np.random.rand(5)"
   ]
  },
  {
   "cell_type": "code",
   "execution_count": 15,
   "metadata": {
    "hidden": true
   },
   "outputs": [
    {
     "data": {
      "text/plain": [
       "(1000, 5)"
      ]
     },
     "execution_count": 15,
     "metadata": {},
     "output_type": "execute_result"
    }
   ],
   "source": [
    "hidden = np.dot(features, w1) + b1\n",
    "hidden.shape"
   ]
  },
  {
   "cell_type": "code",
   "execution_count": 16,
   "metadata": {
    "hidden": true
   },
   "outputs": [],
   "source": [
    "def relu(z):\n",
    "    return np.maximum(0, z)"
   ]
  },
  {
   "cell_type": "code",
   "execution_count": 86,
   "metadata": {
    "hidden": true
   },
   "outputs": [
    {
     "data": {
      "text/plain": [
       "(1000, 5)"
      ]
     },
     "execution_count": 86,
     "metadata": {},
     "output_type": "execute_result"
    }
   ],
   "source": [
    "hidden = relu(hidden)\n",
    "hidden.shape"
   ]
  },
  {
   "cell_type": "code",
   "execution_count": 87,
   "metadata": {
    "collapsed": true,
    "hidden": true
   },
   "outputs": [],
   "source": [
    "w2 = np.random.rand(5, 1)\n",
    "b2 = np.random.rand(1)"
   ]
  },
  {
   "cell_type": "code",
   "execution_count": 19,
   "metadata": {
    "hidden": true
   },
   "outputs": [
    {
     "data": {
      "text/plain": [
       "(1000, 1)"
      ]
     },
     "execution_count": 19,
     "metadata": {},
     "output_type": "execute_result"
    }
   ],
   "source": [
    "output = np.dot(hidden, w2) + b2\n",
    "output.shape"
   ]
  },
  {
   "cell_type": "code",
   "execution_count": 22,
   "metadata": {
    "hidden": true
   },
   "outputs": [
    {
     "data": {
      "text/plain": [
       "array([[ 3.23453558],\n",
       "       [ 2.06376869],\n",
       "       [ 2.31335353]])"
      ]
     },
     "execution_count": 22,
     "metadata": {},
     "output_type": "execute_result"
    }
   ],
   "source": [
    "output[:3]"
   ]
  },
  {
   "cell_type": "code",
   "execution_count": 20,
   "metadata": {
    "collapsed": true,
    "hidden": true
   },
   "outputs": [],
   "source": [
    "def forward_pass(features, weights, biases):\n",
    "    hidden = relu(np.dot(features, weights[0]) + biases[0])\n",
    "    return np.dot(hidden, weights[1]) + biases[1]"
   ]
  },
  {
   "cell_type": "code",
   "execution_count": 23,
   "metadata": {
    "hidden": true
   },
   "outputs": [
    {
     "data": {
      "text/plain": [
       "array([[ 3.23453558],\n",
       "       [ 2.06376869],\n",
       "       [ 2.31335353]])"
      ]
     },
     "execution_count": 23,
     "metadata": {},
     "output_type": "execute_result"
    }
   ],
   "source": [
    "forward_pass(features, [w1, w2], [b1, b2])[:3]"
   ]
  },
  {
   "cell_type": "code",
   "execution_count": 35,
   "metadata": {
    "collapsed": true,
    "hidden": true
   },
   "outputs": [],
   "source": [
    "def loss(predictions, targets):\n",
    "    \"\"\"Mean squared error\"\"\"\n",
    "    return np.abs((np.squeeze(predictions) - targets) ** 2)"
   ]
  },
  {
   "cell_type": "code",
   "execution_count": 36,
   "metadata": {
    "hidden": true
   },
   "outputs": [
    {
     "data": {
      "text/plain": [
       "1.600690458970484"
      ]
     },
     "execution_count": 36,
     "metadata": {},
     "output_type": "execute_result"
    }
   ],
   "source": [
    "loss(output, targets)"
   ]
  },
  {
   "cell_type": "code",
   "execution_count": 38,
   "metadata": {
    "collapsed": true,
    "hidden": true
   },
   "outputs": [],
   "source": [
    "def dloss(predictions, targets):\n",
    "    return np.squeeze(predictions) - targets"
   ]
  },
  {
   "cell_type": "code",
   "execution_count": 78,
   "metadata": {
    "hidden": true
   },
   "outputs": [],
   "source": [
    "def drelu(z):\n",
    "    return 1. * (z > 0)"
   ]
  },
  {
   "cell_type": "code",
   "execution_count": 47,
   "metadata": {
    "hidden": true
   },
   "outputs": [
    {
     "data": {
      "text/plain": [
       "(1000, 1)"
      ]
     },
     "execution_count": 47,
     "metadata": {},
     "output_type": "execute_result"
    }
   ],
   "source": [
    "delta2 = output - targets.reshape(output.shape)\n",
    "delta2.shape"
   ]
  },
  {
   "cell_type": "code",
   "execution_count": 48,
   "metadata": {
    "hidden": true
   },
   "outputs": [
    {
     "data": {
      "text/plain": [
       "(5, 1)"
      ]
     },
     "execution_count": 48,
     "metadata": {},
     "output_type": "execute_result"
    }
   ],
   "source": [
    "dw2 = np.dot(hidden.T, delta2)\n",
    "dw2.shape"
   ]
  },
  {
   "cell_type": "code",
   "execution_count": 49,
   "metadata": {
    "hidden": true
   },
   "outputs": [
    {
     "data": {
      "text/plain": [
       "(1,)"
      ]
     },
     "execution_count": 49,
     "metadata": {},
     "output_type": "execute_result"
    }
   ],
   "source": [
    "db2 = np.sum(delta2, axis=0)\n",
    "db2.shape"
   ]
  },
  {
   "cell_type": "code",
   "execution_count": 55,
   "metadata": {
    "hidden": true
   },
   "outputs": [
    {
     "data": {
      "text/plain": [
       "(1000, 5)"
      ]
     },
     "execution_count": 55,
     "metadata": {},
     "output_type": "execute_result"
    }
   ],
   "source": [
    "delta1 = np.dot(delta2, w2.T)  * drelu(hidden)\n",
    "delta1.shape"
   ]
  },
  {
   "cell_type": "code",
   "execution_count": 57,
   "metadata": {
    "hidden": true
   },
   "outputs": [
    {
     "data": {
      "text/plain": [
       "(2, 5)"
      ]
     },
     "execution_count": 57,
     "metadata": {},
     "output_type": "execute_result"
    }
   ],
   "source": [
    "dw1 = np.dot(features.T, delta1)\n",
    "dw1.shape"
   ]
  },
  {
   "cell_type": "code",
   "execution_count": 58,
   "metadata": {
    "hidden": true
   },
   "outputs": [
    {
     "data": {
      "text/plain": [
       "(5,)"
      ]
     },
     "execution_count": 58,
     "metadata": {},
     "output_type": "execute_result"
    }
   ],
   "source": [
    "db1 = np.sum(delta1, axis=0)\n",
    "db1.shape"
   ]
  },
  {
   "cell_type": "code",
   "execution_count": 114,
   "metadata": {
    "collapsed": true,
    "hidden": true
   },
   "outputs": [],
   "source": [
    "import pdb"
   ]
  },
  {
   "cell_type": "code",
   "execution_count": 131,
   "metadata": {
    "collapsed": true,
    "hidden": true
   },
   "outputs": [],
   "source": [
    "def backward_pass(features, targets, weights, biases, lr=0.0001):\n",
    "    # Forward pass\n",
    "    #pdb.set_trace()\n",
    "    hidden = relu(np.dot(features, weights[0]) + biases[0])\n",
    "    outp = np.dot(hidden, weights[1]) + biases[1]\n",
    "    \n",
    "    # Compute loss\n",
    "    loss = np.mean((np.squeeze(outp) - targets) ** 2)\n",
    "    print('Loss:', loss)\n",
    "    \n",
    "    # Compute Ds\n",
    "    delta2 = outp - targets.reshape(output.shape)\n",
    "    dw2 = np.dot(hidden.T, delta2)\n",
    "    db2 = np.sum(delta2, axis=0)\n",
    "    delta1 = np.dot(delta2, weights[1].T)  * drelu(hidden)\n",
    "    dw1 = np.dot(features.T, delta1)\n",
    "    db1 = np.sum(delta1, axis=0)\n",
    "    \n",
    "    # Update parameters\n",
    "    weights[0] -= lr * dw1\n",
    "    biases[0] -= lr * db1\n",
    "    weights[1] -= lr * dw2\n",
    "    biases[1] -= lr * db2"
   ]
  },
  {
   "cell_type": "code",
   "execution_count": 174,
   "metadata": {
    "collapsed": true,
    "hidden": true
   },
   "outputs": [],
   "source": [
    "w1 = np.random.rand(2, 5)\n",
    "b1 = np.random.rand(5)\n",
    "w2 = np.random.rand(5, 1)\n",
    "b2 = np.random.rand(1)"
   ]
  },
  {
   "cell_type": "code",
   "execution_count": 175,
   "metadata": {
    "hidden": true
   },
   "outputs": [
    {
     "data": {
      "text/plain": [
       "array([[ 0.20578793,  0.78753153,  0.55609003,  0.04458742,  0.22208434],\n",
       "       [ 0.6765867 ,  0.52794629,  0.24290937,  0.3831397 ,  0.96958867]])"
      ]
     },
     "execution_count": 175,
     "metadata": {},
     "output_type": "execute_result"
    }
   ],
   "source": [
    "weights = [w1, w2]\n",
    "biases = [b1, b2]\n",
    "weights[0]"
   ]
  },
  {
   "cell_type": "code",
   "execution_count": 203,
   "metadata": {
    "hidden": true
   },
   "outputs": [
    {
     "name": "stdout",
     "output_type": "stream",
     "text": [
      "Loss: 0.198957801803\n",
      "Loss: 0.198787412709\n",
      "Loss: 0.198621072284\n",
      "Loss: 0.198459425615\n",
      "Loss: 0.198301056583\n",
      "Loss: 0.198143815494\n",
      "Loss: 0.197988257048\n",
      "Loss: 0.197832674504\n",
      "Loss: 0.197679744971\n",
      "Loss: 0.197529295423\n"
     ]
    }
   ],
   "source": [
    "for i in range(10):\n",
    "    backward_pass(features, targets, weights, biases, lr=0.0001)"
   ]
  },
  {
   "cell_type": "code",
   "execution_count": 204,
   "metadata": {
    "hidden": true
   },
   "outputs": [
    {
     "data": {
      "text/plain": [
       "array([[ 5.20619023],\n",
       "       [ 0.07565037],\n",
       "       [ 0.35724453]])"
      ]
     },
     "execution_count": 204,
     "metadata": {},
     "output_type": "execute_result"
    }
   ],
   "source": [
    "forward_pass(features, [w1, w2], [b1, b2])[:3]"
   ]
  },
  {
   "cell_type": "code",
   "execution_count": 205,
   "metadata": {
    "hidden": true
   },
   "outputs": [
    {
     "data": {
      "text/plain": [
       "array([[ 3.23453558],\n",
       "       [ 2.06376869],\n",
       "       [ 2.31335353]])"
      ]
     },
     "execution_count": 205,
     "metadata": {},
     "output_type": "execute_result"
    }
   ],
   "source": [
    "output[:3]"
   ]
  },
  {
   "cell_type": "markdown",
   "metadata": {
    "collapsed": true,
    "heading_collapsed": true
   },
   "source": [
    "## Getting the data\n",
    "\n",
    "Our forecasts are ECMWF forecasts of temperature taken from the TIGGE dataset which contain forecasts from 2008 to now upscaled to 40km grid spacing. Specifically we look at 48h forecasts initialized at 00UTC. \n",
    "\n",
    "The observations are from around 500 DWD surface stations. The forecast data was bilinearly interpolated to the station locations.\n",
    "\n",
    "We will use all of 2015 for training the model and all of 2016 to test how well the model performs."
   ]
  },
  {
   "cell_type": "code",
   "execution_count": 8,
   "metadata": {
    "hidden": true
   },
   "outputs": [
    {
     "name": "stdout",
     "output_type": "stream",
     "text": [
      "train set contains 365 days\n",
      "test set contains 366 days\n"
     ]
    }
   ],
   "source": [
    "train_dates = ['2015-01-01', '2016-01-01']\n",
    "test_dates =  ['2016-01-01', '2017-01-01']\n",
    "train_set, test_set = get_train_test_sets(DATA_DIR, train_dates, test_dates)"
   ]
  },
  {
   "cell_type": "markdown",
   "metadata": {
    "hidden": true
   },
   "source": [
    "The raw ensemble contains 50 ensemble members. We take the mean and standard deviations of these 50 values which is a good approximation since temperature is normally distributed."
   ]
  },
  {
   "cell_type": "code",
   "execution_count": 9,
   "metadata": {
    "hidden": true
   },
   "outputs": [
    {
     "data": {
      "text/plain": [
       "['t2m_fc_mean', 't2m_fc_std']"
      ]
     },
     "execution_count": 9,
     "metadata": {},
     "output_type": "execute_result"
    }
   ],
   "source": [
    "train_set.feature_names"
   ]
  },
  {
   "cell_type": "markdown",
   "metadata": {
    "hidden": true
   },
   "source": [
    "In total we have around 500 stations for every day with some missing observation data. In total that makes around 180k samples."
   ]
  },
  {
   "cell_type": "code",
   "execution_count": 44,
   "metadata": {
    "hidden": true
   },
   "outputs": [
    {
     "data": {
      "text/plain": [
       "500"
      ]
     },
     "execution_count": 44,
     "metadata": {},
     "output_type": "execute_result"
    }
   ],
   "source": [
    "len(np.unique(train_set.station_ids))"
   ]
  },
  {
   "cell_type": "code",
   "execution_count": 11,
   "metadata": {
    "hidden": true
   },
   "outputs": [
    {
     "data": {
      "text/plain": [
       "((180849, 2), (180849,))"
      ]
     },
     "execution_count": 11,
     "metadata": {},
     "output_type": "execute_result"
    }
   ],
   "source": [
    "train_set.features.shape, train_set.targets.shape"
   ]
  },
  {
   "cell_type": "code",
   "execution_count": 48,
   "metadata": {
    "hidden": true
   },
   "outputs": [],
   "source": [
    "def plot_fc(data_set, idx, distr='pdf'):\n",
    "    fc = data_set.features[idx] * data_set.scale_factors\n",
    "    obs = data_set.targets[idx]\n",
    "    x = np.linspace(fc[0] - 5 * fc[1], fc[0] + 5 * fc[1], 100)\n",
    "    if distr == 'pdf':\n",
    "        y = norm.pdf(x, fc[0], fc[1])\n",
    "    elif distr == 'cdf':\n",
    "        y = norm.cdf(x, fc[0], fc[1])\n",
    "    else:\n",
    "        raise Exception\n",
    "    plt.plot(x, y)\n",
    "    plt.axvline(obs, color='red')\n",
    "    plt.xlabel('Temperature [C]')\n",
    "    plt.show()"
   ]
  },
  {
   "cell_type": "markdown",
   "metadata": {
    "hidden": true
   },
   "source": [
    "The goal of post-processing is to produce a sharp but reliable distribution."
   ]
  },
  {
   "cell_type": "code",
   "execution_count": 49,
   "metadata": {
    "hidden": true
   },
   "outputs": [
    {
     "data": {
      "image/png": "[encoded data removed]",
      "text/plain": [
       "<matplotlib.figure.Figure at 0x7faef98a9e80>"
      ]
     },
     "metadata": {},
     "output_type": "display_data"
    }
   ],
   "source": [
    "plot_fc(train_set, 1001)"
   ]
  },
  {
   "cell_type": "markdown",
   "metadata": {
    "hidden": true
   },
   "source": [
    "To measure the skill of the forecast, we use the CRPS: \n",
    "\n",
    "\n",
    "$$ \\mathrm{crps}(F, y) = \\int_{-\\infty}^{\\infty} [F(t) - H(t-y)]^2\\mathrm{d}t, $$\n",
    "\n",
    "where $F(t)$ is the forecast CDF and $H(t-y)$ is the Heaviside function."
   ]
  },
  {
   "cell_type": "code",
   "execution_count": 50,
   "metadata": {
    "hidden": true
   },
   "outputs": [
    {
     "data": {
      "image/png": "[encoded data removed]",
      "text/plain": [
       "<matplotlib.figure.Figure at 0x7faef9355eb8>"
      ]
     },
     "metadata": {},
     "output_type": "display_data"
    }
   ],
   "source": [
    "plot_fc(train_set, 1001, 'cdf')"
   ]
  },
  {
   "cell_type": "markdown",
   "metadata": {
    "hidden": true
   },
   "source": [
    "For a normal distribution we can easily compute the CRPS from the mean and standard deviation for the raw ensemble, which is the score we want to improve."
   ]
  },
  {
   "cell_type": "code",
   "execution_count": 47,
   "metadata": {
    "hidden": true
   },
   "outputs": [
    {
     "data": {
      "text/plain": [
       "1.1518655803872713"
      ]
     },
     "execution_count": 47,
     "metadata": {},
     "output_type": "execute_result"
    }
   ],
   "source": [
    "np.mean(crps_normal(\n",
    "    test_set.features[:, 0] * test_set.scale_factors[0], \n",
    "    test_set.features[:, 1] * test_set.scale_factors[1], \n",
    "    test_set.targets\n",
    "))"
   ]
  },
  {
   "cell_type": "markdown",
   "metadata": {
    "heading_collapsed": true
   },
   "source": [
    "## Simple postprocessing\n",
    "\n",
    "The most common post-processing technique for this sort of problem is called Ensemble Model Output Statistic (Gneiting et al. 2005). In this technique, the goal is to find a distribution\n",
    "$$ \\mathcal{N}(a + bX, c + dS^2), $$\n",
    "where $X$ is the raw ensemble mean and $S$ is the raw ensemble standard deviation, so that \n",
    "$$ \\min_{a, b, c, d} \\frac{1}{N_{\\mathrm{sample}}} \\sum_{i = 1}^{N_{\\mathrm{sample}}} crps(\\mathcal{N}(a + bX, c + dS^2), y_i)$$\n",
    "The minimum over all samples is found using some optimization algorithm. We can also view this as a network graph\n",
    "\n",
    "![EMOS_Network](EMOS_Network.png)\n",
    "\n",
    "There are two commonly used variant of EMOS: Global EMOS where all stations share the same coefficients and training happens over a rolling window of e.g. 25 days and local EMOS where each station is fit separately with a longer training window (e.g. 1 year).\n",
    "\n",
    "The CRPS scores for 2016 are:\n",
    "- Global EMOS: 1.01\n",
    "- Local EMOS: 0.92\n",
    "\n",
    "This is the benchmark for our networks.\n",
    "\n",
    "Let's start by fitting a very simple fully connected network like this:\n",
    "![fc_network](fc_network.png)"
   ]
  },
  {
   "cell_type": "code",
   "execution_count": 59,
   "metadata": {
    "hidden": true
   },
   "outputs": [],
   "source": [
    "# Build the network using Keras\n",
    "fc_model = Sequential([\n",
    "    Dense(2, input_dim=2)\n",
    "])"
   ]
  },
  {
   "cell_type": "code",
   "execution_count": 60,
   "metadata": {
    "hidden": true
   },
   "outputs": [
    {
     "name": "stdout",
     "output_type": "stream",
     "text": [
      "_________________________________________________________________\n",
      "Layer (type)                 Output Shape              Param #   \n",
      "=================================================================\n",
      "dense_3 (Dense)              (None, 2)                 6         \n",
      "=================================================================\n",
      "Total params: 6\n",
      "Trainable params: 6\n",
      "Non-trainable params: 0\n",
      "_________________________________________________________________\n"
     ]
    }
   ],
   "source": [
    "fc_model.summary()"
   ]
  },
  {
   "cell_type": "code",
   "execution_count": 61,
   "metadata": {
    "hidden": true
   },
   "outputs": [],
   "source": [
    "fc_model.compile(Adam(0.1), crps_cost_function)"
   ]
  },
  {
   "cell_type": "code",
   "execution_count": 62,
   "metadata": {
    "hidden": true
   },
   "outputs": [
    {
     "name": "stdout",
     "output_type": "stream",
     "text": [
      "Epoch 1/20\n",
      "180849/180849 [==============================] - 0s - loss: 4.7875     \n",
      "Epoch 2/20\n",
      "180849/180849 [==============================] - 0s - loss: 2.7402     \n",
      "Epoch 3/20\n",
      "180849/180849 [==============================] - 0s - loss: 2.3722     \n",
      "Epoch 4/20\n",
      "180849/180849 [==============================] - 0s - loss: 2.0094     \n",
      "Epoch 5/20\n",
      "180849/180849 [==============================] - 0s - loss: 1.6630     \n",
      "Epoch 6/20\n",
      "180849/180849 [==============================] - 0s - loss: 1.3781     \n",
      "Epoch 7/20\n",
      "180849/180849 [==============================] - 0s - loss: 1.1932     \n",
      "Epoch 8/20\n",
      "180849/180849 [==============================] - 0s - loss: 1.1077     \n",
      "Epoch 9/20\n",
      "180849/180849 [==============================] - 0s - loss: 1.0795     \n",
      "Epoch 10/20\n",
      "180849/180849 [==============================] - 0s - loss: 1.0720     \n",
      "Epoch 11/20\n",
      "180849/180849 [==============================] - 0s - loss: 1.0701     \n",
      "Epoch 12/20\n",
      "180849/180849 [==============================] - 0s - loss: 1.0695     \n",
      "Epoch 13/20\n",
      "180849/180849 [==============================] - 0s - loss: 1.0693     \n",
      "Epoch 14/20\n",
      "180849/180849 [==============================] - 0s - loss: 1.0692     \n",
      "Epoch 15/20\n",
      "180849/180849 [==============================] - 0s - loss: 1.0691     \n",
      "Epoch 16/20\n",
      "180849/180849 [==============================] - 0s - loss: 1.0691     \n",
      "Epoch 17/20\n",
      "180849/180849 [==============================] - 0s - loss: 1.0691     \n",
      "Epoch 18/20\n",
      "180849/180849 [==============================] - 0s - loss: 1.0691     \n",
      "Epoch 19/20\n",
      "180849/180849 [==============================] - 0s - loss: 1.0691     \n",
      "Epoch 20/20\n",
      "180849/180849 [==============================] - 0s - loss: 1.0691     \n"
     ]
    },
    {
     "data": {
      "text/plain": [
       "<keras.callbacks.History at 0x7faef02549b0>"
      ]
     },
     "execution_count": 62,
     "metadata": {},
     "output_type": "execute_result"
    }
   ],
   "source": [
    "fc_model.fit(train_set.features, train_set.targets, epochs=20, batch_size=4096)"
   ]
  },
  {
   "cell_type": "code",
   "execution_count": 65,
   "metadata": {
    "hidden": true
   },
   "outputs": [
    {
     "data": {
      "text/plain": [
       "1.0128482668843812"
      ]
     },
     "execution_count": 65,
     "metadata": {},
     "output_type": "execute_result"
    }
   ],
   "source": [
    "# Now display the score for 2016\n",
    "fc_model.evaluate(test_set.features, test_set.targets, 4096, verbose=0)"
   ]
  },
  {
   "cell_type": "markdown",
   "metadata": {
    "hidden": true
   },
   "source": [
    "So we basically get the same score as global EMOS, which is what we would expect."
   ]
  },
  {
   "cell_type": "markdown",
   "metadata": {
    "heading_collapsed": true,
    "hidden": true
   },
   "source": [
    "### Add station information with embeddings\n",
    "\n",
    "The stations probably differ a lot in their post-processing characteristics. So we want to include this somehow. In local EMOS, we wit a separate model for each station, but this takes a long time and doesn't optimally use all the training data.\n",
    "\n",
    "Embeddings are a neural network technique which provide a natural way to include station information. An embedding is a mapping from a discrete object, in our case the station ID, to a vector. The elements of the vector are learned by the network just like the other weights and biases and represent some extra information about each station."
   ]
  },
  {
   "cell_type": "code",
   "execution_count": 127,
   "metadata": {
    "hidden": true
   },
   "outputs": [
    {
     "data": {
      "text/plain": [
       "536"
      ]
     },
     "execution_count": 127,
     "metadata": {},
     "output_type": "execute_result"
    }
   ],
   "source": [
    "emb_size = 2\n",
    "max_id = int(np.max([train_set.cont_ids.max(), test_set.cont_ids.max()]))\n",
    "max_id"
   ]
  },
  {
   "cell_type": "code",
   "execution_count": 128,
   "metadata": {
    "hidden": true
   },
   "outputs": [],
   "source": [
    "features_inp = Input(shape=(2,))\n",
    "id_inp = Input(shape=(1,))\n",
    "emb = Embedding(max_id+1, emb_size)(id_inp)\n",
    "emb = Flatten()(emb)\n",
    "x = Concatenate()([features_inp, emb])\n",
    "outp = Dense(2)(x)\n",
    "emb_model = Model([features_inp, id_inp], outp)"
   ]
  },
  {
   "cell_type": "code",
   "execution_count": 129,
   "metadata": {
    "hidden": true
   },
   "outputs": [
    {
     "name": "stdout",
     "output_type": "stream",
     "text": [
      "____________________________________________________________________________________________________\n",
      "Layer (type)                     Output Shape          Param #     Connected to                     \n",
      "====================================================================================================\n",
      "input_8 (InputLayer)             (None, 1)             0                                            \n",
      "____________________________________________________________________________________________________\n",
      "embedding_4 (Embedding)          (None, 1, 2)          1074        input_8[0][0]                    \n",
      "____________________________________________________________________________________________________\n",
      "input_7 (InputLayer)             (None, 2)             0                                            \n",
      "____________________________________________________________________________________________________\n",
      "flatten_4 (Flatten)              (None, 2)             0           embedding_4[0][0]                \n",
      "____________________________________________________________________________________________________\n",
      "concatenate_4 (Concatenate)      (None, 4)             0           input_7[0][0]                    \n",
      "                                                                   flatten_4[0][0]                  \n",
      "____________________________________________________________________________________________________\n",
      "dense_7 (Dense)                  (None, 2)             10          concatenate_4[0][0]              \n",
      "====================================================================================================\n",
      "Total params: 1,084\n",
      "Trainable params: 1,084\n",
      "Non-trainable params: 0\n",
      "____________________________________________________________________________________________________\n"
     ]
    }
   ],
   "source": [
    "emb_model.summary()"
   ]
  },
  {
   "cell_type": "code",
   "execution_count": 130,
   "metadata": {
    "hidden": true
   },
   "outputs": [],
   "source": [
    "emb_model.compile(Adam(0.1), crps_cost_function)"
   ]
  },
  {
   "cell_type": "code",
   "execution_count": 131,
   "metadata": {
    "hidden": true
   },
   "outputs": [
    {
     "name": "stdout",
     "output_type": "stream",
     "text": [
      "Epoch 1/20\n",
      "180849/180849 [==============================] - 0s - loss: 4.1737     \n",
      "Epoch 2/20\n",
      "180849/180849 [==============================] - 0s - loss: 2.7637     \n",
      "Epoch 3/20\n",
      "180849/180849 [==============================] - 0s - loss: 2.2830     \n",
      "Epoch 4/20\n",
      "180849/180849 [==============================] - 0s - loss: 1.8283     \n",
      "Epoch 5/20\n",
      "180849/180849 [==============================] - 0s - loss: 1.4332     \n",
      "Epoch 6/20\n",
      "180849/180849 [==============================] - 0s - loss: 1.1565     \n",
      "Epoch 7/20\n",
      "180849/180849 [==============================] - 0s - loss: 1.0219     \n",
      "Epoch 8/20\n",
      "180849/180849 [==============================] - 0s - loss: 0.9802     \n",
      "Epoch 9/20\n",
      "180849/180849 [==============================] - 0s - loss: 0.9714     \n",
      "Epoch 10/20\n",
      "180849/180849 [==============================] - 0s - loss: 0.9697     \n",
      "Epoch 11/20\n",
      "180849/180849 [==============================] - 0s - loss: 0.9695     \n",
      "Epoch 12/20\n",
      "180849/180849 [==============================] - 0s - loss: 0.9694     \n",
      "Epoch 13/20\n",
      "180849/180849 [==============================] - 0s - loss: 0.9694     \n",
      "Epoch 14/20\n",
      "180849/180849 [==============================] - 0s - loss: 0.9694     \n",
      "Epoch 15/20\n",
      "180849/180849 [==============================] - 0s - loss: 0.9692     \n",
      "Epoch 16/20\n",
      "180849/180849 [==============================] - 0s - loss: 0.9692     \n",
      "Epoch 17/20\n",
      "180849/180849 [==============================] - 0s - loss: 0.9692     \n",
      "Epoch 18/20\n",
      "180849/180849 [==============================] - 0s - loss: 0.9693     \n",
      "Epoch 19/20\n",
      "180849/180849 [==============================] - 0s - loss: 0.9694     \n",
      "Epoch 20/20\n",
      "180849/180849 [==============================] - 0s - loss: 0.9693     \n"
     ]
    },
    {
     "data": {
      "text/plain": [
       "<keras.callbacks.History at 0x7faef47f1f98>"
      ]
     },
     "execution_count": 131,
     "metadata": {},
     "output_type": "execute_result"
    }
   ],
   "source": [
    "emb_model.fit([train_set.features, train_set.cont_ids], train_set.targets,\n",
    "              epochs=20, batch_size=4096);"
   ]
  },
  {
   "cell_type": "code",
   "execution_count": 132,
   "metadata": {
    "hidden": true
   },
   "outputs": [
    {
     "data": {
      "text/plain": [
       "0.91235853035206693"
      ]
     },
     "execution_count": 132,
     "metadata": {},
     "output_type": "execute_result"
    }
   ],
   "source": [
    "emb_model.evaluate([test_set.features, test_set.cont_ids], test_set.targets, 4096, 0)"
   ]
  },
  {
   "cell_type": "markdown",
   "metadata": {
    "hidden": true
   },
   "source": [
    "This score is about 1% better than local EMOS and is much faster."
   ]
  },
  {
   "cell_type": "markdown",
   "metadata": {
    "heading_collapsed": true,
    "hidden": true
   },
   "source": [
    "### What about a neural network?\n",
    "\n",
    "So far the network we used were simple linear networks, nothing neural about them. Let's try adding a hidden layer."
   ]
  },
  {
   "cell_type": "code",
   "execution_count": 134,
   "metadata": {
    "hidden": true
   },
   "outputs": [],
   "source": [
    "def create_emb_hidden_model(hidden_nodes, n_features=2, activation='relu'):\n",
    "    features_inp = Input(shape=(n_features,))\n",
    "    id_inp = Input(shape=(1,))\n",
    "    emb = Embedding(max_id+1, emb_size)(id_inp)\n",
    "    emb = Flatten()(emb)\n",
    "    x = Concatenate()([features_inp, emb])\n",
    "    for h in hidden_nodes:\n",
    "        x = Dense(h, activation=activation)(x)\n",
    "    outp = Dense(2)(x)\n",
    "    return Model([features_inp, id_inp], outp)"
   ]
  },
  {
   "cell_type": "code",
   "execution_count": 140,
   "metadata": {
    "hidden": true
   },
   "outputs": [
    {
     "name": "stdout",
     "output_type": "stream",
     "text": [
      "____________________________________________________________________________________________________\n",
      "Layer (type)                     Output Shape          Param #     Connected to                     \n",
      "====================================================================================================\n",
      "input_12 (InputLayer)            (None, 1)             0                                            \n",
      "____________________________________________________________________________________________________\n",
      "embedding_6 (Embedding)          (None, 1, 2)          1074        input_12[0][0]                   \n",
      "____________________________________________________________________________________________________\n",
      "input_11 (InputLayer)            (None, 2)             0                                            \n",
      "____________________________________________________________________________________________________\n",
      "flatten_6 (Flatten)              (None, 2)             0           embedding_6[0][0]                \n",
      "____________________________________________________________________________________________________\n",
      "concatenate_6 (Concatenate)      (None, 4)             0           input_11[0][0]                   \n",
      "                                                                   flatten_6[0][0]                  \n",
      "____________________________________________________________________________________________________\n",
      "dense_10 (Dense)                 (None, 10)            50          concatenate_6[0][0]              \n",
      "____________________________________________________________________________________________________\n",
      "dense_11 (Dense)                 (None, 2)             22          dense_10[0][0]                   \n",
      "====================================================================================================\n",
      "Total params: 1,146\n",
      "Trainable params: 1,146\n",
      "Non-trainable params: 0\n",
      "____________________________________________________________________________________________________\n"
     ]
    }
   ],
   "source": [
    "neural_net = create_emb_hidden_model([10])\n",
    "neural_net.summary()"
   ]
  },
  {
   "cell_type": "code",
   "execution_count": 141,
   "metadata": {
    "hidden": true
   },
   "outputs": [],
   "source": [
    "neural_net.compile(Adam(0.1), crps_cost_function)"
   ]
  },
  {
   "cell_type": "code",
   "execution_count": 142,
   "metadata": {
    "hidden": true
   },
   "outputs": [
    {
     "name": "stdout",
     "output_type": "stream",
     "text": [
      "Epoch 1/20\n",
      "180849/180849 [==============================] - 0s - loss: 3.6254     \n",
      "Epoch 2/20\n",
      "180849/180849 [==============================] - 0s - loss: 1.1819     \n",
      "Epoch 3/20\n",
      "180849/180849 [==============================] - 0s - loss: 1.0104     \n",
      "Epoch 4/20\n",
      "180849/180849 [==============================] - 0s - loss: 0.9840     \n",
      "Epoch 5/20\n",
      "180849/180849 [==============================] - 0s - loss: 0.9788     \n",
      "Epoch 6/20\n",
      "180849/180849 [==============================] - 0s - loss: 0.9762     \n",
      "Epoch 7/20\n",
      "180849/180849 [==============================] - 0s - loss: 0.9744     \n",
      "Epoch 8/20\n",
      "180849/180849 [==============================] - 0s - loss: 0.9733     \n",
      "Epoch 9/20\n",
      "180849/180849 [==============================] - 0s - loss: 0.9718     \n",
      "Epoch 10/20\n",
      "180849/180849 [==============================] - 0s - loss: 0.9692     \n",
      "Epoch 11/20\n",
      "180849/180849 [==============================] - 0s - loss: 0.9681     \n",
      "Epoch 12/20\n",
      "180849/180849 [==============================] - 0s - loss: 0.9691     \n",
      "Epoch 13/20\n",
      "180849/180849 [==============================] - 0s - loss: 0.9697     \n",
      "Epoch 14/20\n",
      "180849/180849 [==============================] - 0s - loss: 0.9674     \n",
      "Epoch 15/20\n",
      "180849/180849 [==============================] - 0s - loss: 0.9682     \n",
      "Epoch 16/20\n",
      "180849/180849 [==============================] - 0s - loss: 0.9678     \n",
      "Epoch 17/20\n",
      "180849/180849 [==============================] - 0s - loss: 0.9678     \n",
      "Epoch 18/20\n",
      "180849/180849 [==============================] - 0s - loss: 0.9673     \n",
      "Epoch 19/20\n",
      "180849/180849 [==============================] - 0s - loss: 0.9674     \n",
      "Epoch 20/20\n",
      "180849/180849 [==============================] - 0s - loss: 0.9668     \n"
     ]
    },
    {
     "data": {
      "text/plain": [
       "<keras.callbacks.History at 0x7fae887cec18>"
      ]
     },
     "execution_count": 142,
     "metadata": {},
     "output_type": "execute_result"
    }
   ],
   "source": [
    "neural_net.fit([train_set.features, train_set.cont_ids], train_set.targets, \n",
    "               epochs=20, batch_size=4096)"
   ]
  },
  {
   "cell_type": "code",
   "execution_count": 143,
   "metadata": {
    "hidden": true
   },
   "outputs": [
    {
     "data": {
      "text/plain": [
       "0.92509797401748739"
      ]
     },
     "execution_count": 143,
     "metadata": {},
     "output_type": "execute_result"
    }
   ],
   "source": [
    "neural_net.evaluate([test_set.features, test_set.cont_ids], test_set.targets, 4096, 0)"
   ]
  },
  {
   "cell_type": "code",
   "execution_count": 154,
   "metadata": {
    "hidden": true
   },
   "outputs": [
    {
     "name": "stdout",
     "output_type": "stream",
     "text": [
      "____________________________________________________________________________________________________\n",
      "Layer (type)                     Output Shape          Param #     Connected to                     \n",
      "====================================================================================================\n",
      "input_22 (InputLayer)            (None, 1)             0                                            \n",
      "____________________________________________________________________________________________________\n",
      "embedding_11 (Embedding)         (None, 1, 2)          1074        input_22[0][0]                   \n",
      "____________________________________________________________________________________________________\n",
      "input_21 (InputLayer)            (None, 2)             0                                            \n",
      "____________________________________________________________________________________________________\n",
      "flatten_11 (Flatten)             (None, 2)             0           embedding_11[0][0]               \n",
      "____________________________________________________________________________________________________\n",
      "concatenate_11 (Concatenate)     (None, 4)             0           input_21[0][0]                   \n",
      "                                                                   flatten_11[0][0]                 \n",
      "____________________________________________________________________________________________________\n",
      "dense_23 (Dense)                 (None, 1024)          5120        concatenate_11[0][0]             \n",
      "____________________________________________________________________________________________________\n",
      "dense_24 (Dense)                 (None, 1024)          1049600     dense_23[0][0]                   \n",
      "____________________________________________________________________________________________________\n",
      "dense_25 (Dense)                 (None, 2)             2050        dense_24[0][0]                   \n",
      "====================================================================================================\n",
      "Total params: 1,057,844\n",
      "Trainable params: 1,057,844\n",
      "Non-trainable params: 0\n",
      "____________________________________________________________________________________________________\n"
     ]
    }
   ],
   "source": [
    "neural_net = create_emb_hidden_model([1024, 1024])\n",
    "neural_net.compile(Adam(0.01), crps_cost_function)\n",
    "neural_net.summary()"
   ]
  },
  {
   "cell_type": "code",
   "execution_count": 155,
   "metadata": {
    "hidden": true
   },
   "outputs": [
    {
     "name": "stdout",
     "output_type": "stream",
     "text": [
      "Epoch 1/20\n",
      "180849/180849 [==============================] - 1s - loss: 1.6733     \n",
      "Epoch 2/20\n",
      "180849/180849 [==============================] - 0s - loss: 0.9787     \n",
      "Epoch 3/20\n",
      "180849/180849 [==============================] - 0s - loss: 0.9740     \n",
      "Epoch 4/20\n",
      "180849/180849 [==============================] - 0s - loss: 0.9719     \n",
      "Epoch 5/20\n",
      "180849/180849 [==============================] - 0s - loss: 0.9663     \n",
      "Epoch 6/20\n",
      "180849/180849 [==============================] - 0s - loss: 0.9646     \n",
      "Epoch 7/20\n",
      "180849/180849 [==============================] - 0s - loss: 0.9606     \n",
      "Epoch 8/20\n",
      "180849/180849 [==============================] - 0s - loss: 0.9655     \n",
      "Epoch 9/20\n",
      "180849/180849 [==============================] - 0s - loss: 0.9639     \n",
      "Epoch 10/20\n",
      "180849/180849 [==============================] - 0s - loss: 0.9670     \n",
      "Epoch 11/20\n",
      "180849/180849 [==============================] - 0s - loss: 0.9572     \n",
      "Epoch 12/20\n",
      "180849/180849 [==============================] - 0s - loss: 0.9599     \n",
      "Epoch 13/20\n",
      "180849/180849 [==============================] - 0s - loss: 0.9605     \n",
      "Epoch 14/20\n",
      "180849/180849 [==============================] - 0s - loss: 0.9738     \n",
      "Epoch 15/20\n",
      "180849/180849 [==============================] - 0s - loss: 0.9674     \n",
      "Epoch 16/20\n",
      "180849/180849 [==============================] - 0s - loss: 0.9579     \n",
      "Epoch 17/20\n",
      "180849/180849 [==============================] - 0s - loss: 0.9600     \n",
      "Epoch 18/20\n",
      "180849/180849 [==============================] - 0s - loss: 0.9583     \n",
      "Epoch 19/20\n",
      "180849/180849 [==============================] - 0s - loss: 0.9692     \n",
      "Epoch 20/20\n",
      "180849/180849 [==============================] - 0s - loss: 0.9608     \n"
     ]
    },
    {
     "data": {
      "text/plain": [
       "<keras.callbacks.History at 0x7fae73cf3dd8>"
      ]
     },
     "execution_count": 155,
     "metadata": {},
     "output_type": "execute_result"
    }
   ],
   "source": [
    "neural_net.fit([train_set.features, train_set.cont_ids], train_set.targets, \n",
    "               epochs=20, batch_size=4096)"
   ]
  },
  {
   "cell_type": "code",
   "execution_count": 152,
   "metadata": {
    "hidden": true
   },
   "outputs": [
    {
     "data": {
      "text/plain": [
       "0.9220620622779756"
      ]
     },
     "execution_count": 152,
     "metadata": {},
     "output_type": "execute_result"
    }
   ],
   "source": [
    "neural_net.evaluate([test_set.features, test_set.cont_ids], test_set.targets, 4096, 0)"
   ]
  },
  {
   "cell_type": "markdown",
   "metadata": {
    "heading_collapsed": true
   },
   "source": [
    "## Adding more variables\n",
    "\n",
    "So far we have only used the temperature forecast as input but really we have a lot more variables from each forecast which might give us more information about the weather situation. \n",
    "\n",
    "In traditional post-processing there are techniques to utilize these auxiliary variables, called boosting techniques. \n",
    "\n",
    "Here are the benchmark scores from Sebastian's boosting experiments:\n",
    "- global boosting: 0.97\n",
    "- local boosting: 0.87\n",
    "\n",
    "As a first attempt we can simply throw in these extra variables to our standard network and see what happens. "
   ]
  },
  {
   "cell_type": "code",
   "execution_count": 156,
   "metadata": {
    "hidden": true
   },
   "outputs": [
    {
     "data": {
      "text/plain": [
       "OrderedDict([('data_aux_geo_interpolated.nc',\n",
       "              ['orog', 'station_alt', 'station_lat', 'station_lon']),\n",
       "             ('data_aux_pl500_interpolated_00UTC.nc',\n",
       "              ['u_pl500_fc', 'v_pl500_fc', 'gh_pl500_fc']),\n",
       "             ('data_aux_pl850_interpolated_00UTC.nc',\n",
       "              ['u_pl850_fc', 'v_pl850_fc', 'q_pl850_fc']),\n",
       "             ('data_aux_surface_interpolated_00UTC.nc',\n",
       "              ['cape_fc', 'sp_fc', 'tcc_fc']),\n",
       "             ('data_aux_surface_more_interpolated_part1_00UTC.nc',\n",
       "              ['sshf_fc', 'slhf_fc', 'u10_fc', 'v10_fc']),\n",
       "             ('data_aux_surface_more_interpolated_part2_00UTC.nc',\n",
       "              ['ssr_fc', 'str_fc', 'd2m_fc', 'sm_fc'])])"
      ]
     },
     "execution_count": 156,
     "metadata": {},
     "output_type": "execute_result"
    }
   ],
   "source": [
    "aux_dict"
   ]
  },
  {
   "cell_type": "code",
   "execution_count": 162,
   "metadata": {
    "hidden": true
   },
   "outputs": [],
   "source": [
    "#aux_train_set, aux_test_set = get_train_test_sets(DATA_DIR, train_dates, test_dates,\n",
    "#                                                  aux_dict=aux_dict)\n",
    "with open(DATA_DIR + 'pickled/aux_15_16.pkl', 'rb') as f:\n",
    "    aux_train_set, aux_test_set = pickle.load(f)"
   ]
  },
  {
   "cell_type": "code",
   "execution_count": 165,
   "metadata": {
    "hidden": true
   },
   "outputs": [
    {
     "name": "stdout",
     "output_type": "stream",
     "text": [
      "['t2m_fc_mean', 't2m_fc_std', 'orog', 'station_alt', 'station_lat', 'station_lon', 'u_pl500_fc_mean', 'u_pl500_fc_std', 'v_pl500_fc_mean', 'v_pl500_fc_std', 'gh_pl500_fc_mean', 'gh_pl500_fc_std', 'u_pl850_fc_mean', 'u_pl850_fc_std', 'v_pl850_fc_mean', 'v_pl850_fc_std', 'q_pl850_fc_mean', 'q_pl850_fc_std', 'cape_fc_mean', 'cape_fc_std', 'sp_fc_mean', 'sp_fc_std', 'tcc_fc_mean', 'tcc_fc_std', 'sshf_fc_mean', 'sshf_fc_std', 'slhf_fc_mean', 'slhf_fc_std', 'u10_fc_mean', 'u10_fc_std', 'v10_fc_mean', 'v10_fc_std', 'ssr_fc_mean', 'ssr_fc_std', 'str_fc_mean', 'str_fc_std', 'd2m_fc_mean', 'd2m_fc_std', 'sm_fc_mean', 'sm_fc_std']\n"
     ]
    },
    {
     "data": {
      "text/plain": [
       "40"
      ]
     },
     "execution_count": 165,
     "metadata": {},
     "output_type": "execute_result"
    }
   ],
   "source": [
    "print(aux_train_set.feature_names)\n",
    "len(aux_train_set.feature_names)"
   ]
  },
  {
   "cell_type": "markdown",
   "metadata": {
    "hidden": true
   },
   "source": [
    "As with temperature, we took the ensemble mean and standard deviation of all auxiliary variables (except for the constants). Now we can build the same network as earlier but with 40 inputs."
   ]
  },
  {
   "cell_type": "markdown",
   "metadata": {
    "heading_collapsed": true,
    "hidden": true
   },
   "source": [
    "### Simple linear net with auxiliary variables"
   ]
  },
  {
   "cell_type": "code",
   "execution_count": 167,
   "metadata": {
    "hidden": true
   },
   "outputs": [
    {
     "name": "stdout",
     "output_type": "stream",
     "text": [
      "_________________________________________________________________\n",
      "Layer (type)                 Output Shape              Param #   \n",
      "=================================================================\n",
      "dense_26 (Dense)             (None, 2)                 82        \n",
      "=================================================================\n",
      "Total params: 82\n",
      "Trainable params: 82\n",
      "Non-trainable params: 0\n",
      "_________________________________________________________________\n"
     ]
    }
   ],
   "source": [
    "aux_fc_model = Sequential([\n",
    "    Dense(2, input_dim=40)\n",
    "])\n",
    "aux_fc_model.compile(Adam(0.1), crps_cost_function)\n",
    "aux_fc_model.summary()"
   ]
  },
  {
   "cell_type": "code",
   "execution_count": 168,
   "metadata": {
    "hidden": true
   },
   "outputs": [
    {
     "name": "stdout",
     "output_type": "stream",
     "text": [
      "Epoch 1/20\n",
      "180849/180849 [==============================] - 0s - loss: 3.9703     \n",
      "Epoch 2/20\n",
      "180849/180849 [==============================] - 0s - loss: 1.7954     \n",
      "Epoch 3/20\n",
      "180849/180849 [==============================] - 0s - loss: 1.4347     \n",
      "Epoch 4/20\n",
      "180849/180849 [==============================] - 0s - loss: 1.2368     \n",
      "Epoch 5/20\n",
      "180849/180849 [==============================] - 0s - loss: 1.1294     \n",
      "Epoch 6/20\n",
      "180849/180849 [==============================] - 0s - loss: 1.0710     \n",
      "Epoch 7/20\n",
      "180849/180849 [==============================] - 0s - loss: 1.0373     \n",
      "Epoch 8/20\n",
      "180849/180849 [==============================] - 0s - loss: 1.0159     \n",
      "Epoch 9/20\n",
      "180849/180849 [==============================] - 0s - loss: 1.0008     \n",
      "Epoch 10/20\n",
      "180849/180849 [==============================] - 0s - loss: 0.9902     \n",
      "Epoch 11/20\n",
      "180849/180849 [==============================] - 0s - loss: 0.9822     \n",
      "Epoch 12/20\n",
      "180849/180849 [==============================] - 0s - loss: 0.9772     \n",
      "Epoch 13/20\n",
      "180849/180849 [==============================] - 0s - loss: 0.9821     \n",
      "Epoch 14/20\n",
      "180849/180849 [==============================] - 0s - loss: 0.9705     \n",
      "Epoch 15/20\n",
      "180849/180849 [==============================] - 0s - loss: 0.9704     \n",
      "Epoch 16/20\n",
      "180849/180849 [==============================] - 0s - loss: 0.9668     \n",
      "Epoch 17/20\n",
      "180849/180849 [==============================] - 0s - loss: 0.9688     \n",
      "Epoch 18/20\n",
      "180849/180849 [==============================] - 0s - loss: 0.9598     \n",
      "Epoch 19/20\n",
      "180849/180849 [==============================] - 0s - loss: 0.9729     \n",
      "Epoch 20/20\n",
      "180849/180849 [==============================] - 0s - loss: 0.9592     \n"
     ]
    },
    {
     "data": {
      "text/plain": [
       "<keras.callbacks.History at 0x7fae7360ee80>"
      ]
     },
     "execution_count": 168,
     "metadata": {},
     "output_type": "execute_result"
    }
   ],
   "source": [
    "aux_fc_model.fit(aux_train_set.features, aux_train_set.targets, epochs=20, batch_size=4096)"
   ]
  },
  {
   "cell_type": "code",
   "execution_count": 170,
   "metadata": {
    "hidden": true
   },
   "outputs": [
    {
     "data": {
      "text/plain": [
       "0.92275059023247719"
      ]
     },
     "execution_count": 170,
     "metadata": {},
     "output_type": "execute_result"
    }
   ],
   "source": [
    "aux_fc_model.evaluate(aux_test_set.features, aux_test_set.targets, 4096, 0)"
   ]
  },
  {
   "cell_type": "markdown",
   "metadata": {
    "hidden": true
   },
   "source": [
    "So we get a big improvement from 1.01 for only temperature. we are also doing better than global boosting. Next let's include our station embeddings."
   ]
  },
  {
   "cell_type": "markdown",
   "metadata": {
    "heading_collapsed": true,
    "hidden": true
   },
   "source": [
    "### Auxiliary variables with station embeddings"
   ]
  },
  {
   "cell_type": "code",
   "execution_count": 189,
   "metadata": {
    "hidden": true
   },
   "outputs": [
    {
     "name": "stdout",
     "output_type": "stream",
     "text": [
      "____________________________________________________________________________________________________\n",
      "Layer (type)                     Output Shape          Param #     Connected to                     \n",
      "====================================================================================================\n",
      "input_34 (InputLayer)            (None, 1)             0                                            \n",
      "____________________________________________________________________________________________________\n",
      "embedding_17 (Embedding)         (None, 1, 2)          1074        input_34[0][0]                   \n",
      "____________________________________________________________________________________________________\n",
      "input_33 (InputLayer)            (None, 40)            0                                            \n",
      "____________________________________________________________________________________________________\n",
      "flatten_17 (Flatten)             (None, 2)             0           embedding_17[0][0]               \n",
      "____________________________________________________________________________________________________\n",
      "concatenate_17 (Concatenate)     (None, 42)            0           input_33[0][0]                   \n",
      "                                                                   flatten_17[0][0]                 \n",
      "____________________________________________________________________________________________________\n",
      "dense_32 (Dense)                 (None, 2)             86          concatenate_17[0][0]             \n",
      "====================================================================================================\n",
      "Total params: 1,160\n",
      "Trainable params: 1,160\n",
      "Non-trainable params: 0\n",
      "____________________________________________________________________________________________________\n"
     ]
    }
   ],
   "source": [
    "aux_emb_model = create_emb_hidden_model([], n_features=40)\n",
    "aux_emb_model.compile(Adam(0.01), crps_cost_function)\n",
    "aux_emb_model.summary()"
   ]
  },
  {
   "cell_type": "code",
   "execution_count": 190,
   "metadata": {
    "hidden": true,
    "scrolled": true
   },
   "outputs": [
    {
     "name": "stdout",
     "output_type": "stream",
     "text": [
      "Epoch 1/50\n",
      "180849/180849 [==============================] - 1s - loss: 2.7484     \n",
      "Epoch 2/50\n",
      "180849/180849 [==============================] - 1s - loss: 1.9120     \n",
      "Epoch 3/50\n",
      "180849/180849 [==============================] - 1s - loss: 1.6414     \n",
      "Epoch 4/50\n",
      "180849/180849 [==============================] - 1s - loss: 1.4628     \n",
      "Epoch 5/50\n",
      "180849/180849 [==============================] - 1s - loss: 1.3345     \n",
      "Epoch 6/50\n",
      "180849/180849 [==============================] - 1s - loss: 1.2397     \n",
      "Epoch 7/50\n",
      "180849/180849 [==============================] - 1s - loss: 1.1709     \n",
      "Epoch 8/50\n",
      "180849/180849 [==============================] - 1s - loss: 1.1164     \n",
      "Epoch 9/50\n",
      "180849/180849 [==============================] - 1s - loss: 1.0768     \n",
      "Epoch 10/50\n",
      "180849/180849 [==============================] - 1s - loss: 1.0460     \n",
      "Epoch 11/50\n",
      "180849/180849 [==============================] - 1s - loss: 1.0223     \n",
      "Epoch 12/50\n",
      "180849/180849 [==============================] - 1s - loss: 1.0044     \n",
      "Epoch 13/50\n",
      "180849/180849 [==============================] - 1s - loss: 0.9897     \n",
      "Epoch 14/50\n",
      "180849/180849 [==============================] - 1s - loss: 0.9792     \n",
      "Epoch 15/50\n",
      "180849/180849 [==============================] - 1s - loss: 0.9698     \n",
      "Epoch 16/50\n",
      "180849/180849 [==============================] - 1s - loss: 0.9618     \n",
      "Epoch 17/50\n",
      "180849/180849 [==============================] - 1s - loss: 0.9543     \n",
      "Epoch 18/50\n",
      "180849/180849 [==============================] - 1s - loss: 0.9491     \n",
      "Epoch 19/50\n",
      "180849/180849 [==============================] - 1s - loss: 0.9429     \n",
      "Epoch 20/50\n",
      "180849/180849 [==============================] - 1s - loss: 0.9386     \n",
      "Epoch 21/50\n",
      "180849/180849 [==============================] - 1s - loss: 0.9348     \n",
      "Epoch 22/50\n",
      "180849/180849 [==============================] - 1s - loss: 0.9312     \n",
      "Epoch 23/50\n",
      "180849/180849 [==============================] - 1s - loss: 0.9272     \n",
      "Epoch 24/50\n",
      "180849/180849 [==============================] - 1s - loss: 0.9241     \n",
      "Epoch 25/50\n",
      "180849/180849 [==============================] - 1s - loss: 0.9219     \n",
      "Epoch 26/50\n",
      "180849/180849 [==============================] - 1s - loss: 0.9192     \n",
      "Epoch 27/50\n",
      "180849/180849 [==============================] - 1s - loss: 0.9179     \n",
      "Epoch 28/50\n",
      "180849/180849 [==============================] - 1s - loss: 0.9161     \n",
      "Epoch 29/50\n",
      "180849/180849 [==============================] - 1s - loss: 0.9152     \n",
      "Epoch 30/50\n",
      "180849/180849 [==============================] - 1s - loss: 0.9140     \n",
      "Epoch 31/50\n",
      "180849/180849 [==============================] - 0s - loss: 0.9130     \n",
      "Epoch 32/50\n",
      "180849/180849 [==============================] - 0s - loss: 0.9124     \n",
      "Epoch 33/50\n",
      "180849/180849 [==============================] - 0s - loss: 0.9114     \n",
      "Epoch 34/50\n",
      "180849/180849 [==============================] - 0s - loss: 0.9113     \n",
      "Epoch 35/50\n",
      "180849/180849 [==============================] - 0s - loss: 0.9106     \n",
      "Epoch 36/50\n",
      "180849/180849 [==============================] - 0s - loss: 0.9109     \n",
      "Epoch 37/50\n",
      "180849/180849 [==============================] - 0s - loss: 0.9094     \n",
      "Epoch 38/50\n",
      "180849/180849 [==============================] - 0s - loss: 0.9099     \n",
      "Epoch 39/50\n",
      "180849/180849 [==============================] - 0s - loss: 0.9094     \n",
      "Epoch 40/50\n",
      "180849/180849 [==============================] - 0s - loss: 0.9090     \n",
      "Epoch 41/50\n",
      "180849/180849 [==============================] - 0s - loss: 0.9091     \n",
      "Epoch 42/50\n",
      "180849/180849 [==============================] - 0s - loss: 0.9091     \n",
      "Epoch 43/50\n",
      "180849/180849 [==============================] - 0s - loss: 0.9083     \n",
      "Epoch 44/50\n",
      "180849/180849 [==============================] - 0s - loss: 0.9100     \n",
      "Epoch 45/50\n",
      "180849/180849 [==============================] - 0s - loss: 0.9083     \n",
      "Epoch 46/50\n",
      "180849/180849 [==============================] - 0s - loss: 0.9092     \n",
      "Epoch 47/50\n",
      "180849/180849 [==============================] - 0s - loss: 0.9082     \n",
      "Epoch 48/50\n",
      "180849/180849 [==============================] - 0s - loss: 0.9082     \n",
      "Epoch 49/50\n",
      "180849/180849 [==============================] - 0s - loss: 0.9092     \n",
      "Epoch 50/50\n",
      "180849/180849 [==============================] - 0s - loss: 0.9080     \n"
     ]
    },
    {
     "data": {
      "text/plain": [
       "<keras.callbacks.History at 0x7fae7366fcc0>"
      ]
     },
     "execution_count": 190,
     "metadata": {},
     "output_type": "execute_result"
    }
   ],
   "source": [
    "aux_emb_model.fit([aux_train_set.features, aux_train_set.cont_ids], aux_train_set.targets, \n",
    "                   epochs=50, batch_size=1024);"
   ]
  },
  {
   "cell_type": "code",
   "execution_count": 191,
   "metadata": {
    "hidden": true
   },
   "outputs": [
    {
     "data": {
      "text/plain": [
       "0.88047864579355228"
      ]
     },
     "execution_count": 191,
     "metadata": {},
     "output_type": "execute_result"
    }
   ],
   "source": [
    "aux_emb_model.evaluate([aux_test_set.features, aux_test_set.cont_ids], \n",
    "                       aux_test_set.targets, 4096, 0)"
   ]
  },
  {
   "cell_type": "markdown",
   "metadata": {
    "hidden": true
   },
   "source": [
    "This is slightly worse than the local boosting algorithm."
   ]
  },
  {
   "cell_type": "markdown",
   "metadata": {
    "heading_collapsed": true,
    "hidden": true
   },
   "source": [
    "### Neural network\n",
    "\n",
    "So far we have only used linear networks. Now let's add some non-linearity with one hidden layer."
   ]
  },
  {
   "cell_type": "code",
   "execution_count": 195,
   "metadata": {
    "hidden": true
   },
   "outputs": [
    {
     "name": "stdout",
     "output_type": "stream",
     "text": [
      "____________________________________________________________________________________________________\n",
      "Layer (type)                     Output Shape          Param #     Connected to                     \n",
      "====================================================================================================\n",
      "input_38 (InputLayer)            (None, 1)             0                                            \n",
      "____________________________________________________________________________________________________\n",
      "embedding_19 (Embedding)         (None, 1, 2)          1074        input_38[0][0]                   \n",
      "____________________________________________________________________________________________________\n",
      "input_37 (InputLayer)            (None, 40)            0                                            \n",
      "____________________________________________________________________________________________________\n",
      "flatten_19 (Flatten)             (None, 2)             0           embedding_19[0][0]               \n",
      "____________________________________________________________________________________________________\n",
      "concatenate_19 (Concatenate)     (None, 42)            0           input_37[0][0]                   \n",
      "                                                                   flatten_19[0][0]                 \n",
      "____________________________________________________________________________________________________\n",
      "dense_35 (Dense)                 (None, 50)            2150        concatenate_19[0][0]             \n",
      "____________________________________________________________________________________________________\n",
      "dense_36 (Dense)                 (None, 2)             102         dense_35[0][0]                   \n",
      "====================================================================================================\n",
      "Total params: 3,326\n",
      "Trainable params: 3,326\n",
      "Non-trainable params: 0\n",
      "____________________________________________________________________________________________________\n"
     ]
    }
   ],
   "source": [
    "nn_model = create_emb_hidden_model([50], n_features=40)\n",
    "nn_model.compile(Adam(0.01), crps_cost_function)\n",
    "nn_model.summary()"
   ]
  },
  {
   "cell_type": "code",
   "execution_count": 196,
   "metadata": {
    "hidden": true,
    "scrolled": true
   },
   "outputs": [
    {
     "name": "stdout",
     "output_type": "stream",
     "text": [
      "Epoch 1/30\n",
      "180849/180849 [==============================] - 1s - loss: 1.6817     \n",
      "Epoch 2/30\n",
      "180849/180849 [==============================] - 1s - loss: 0.9634     \n",
      "Epoch 3/30\n",
      "180849/180849 [==============================] - 1s - loss: 0.9216     \n",
      "Epoch 4/30\n",
      "180849/180849 [==============================] - 1s - loss: 0.8934     \n",
      "Epoch 5/30\n",
      "180849/180849 [==============================] - 1s - loss: 0.8750     \n",
      "Epoch 6/30\n",
      "180849/180849 [==============================] - 1s - loss: 0.8678     \n",
      "Epoch 7/30\n",
      "180849/180849 [==============================] - 1s - loss: 0.8573     \n",
      "Epoch 8/30\n",
      "180849/180849 [==============================] - 1s - loss: 0.8537     - ET\n",
      "Epoch 9/30\n",
      "180849/180849 [==============================] - 1s - loss: 0.8500     \n",
      "Epoch 10/30\n",
      "180849/180849 [==============================] - 1s - loss: 0.8528     \n",
      "Epoch 11/30\n",
      "180849/180849 [==============================] - 1s - loss: 0.8477     \n",
      "Epoch 12/30\n",
      "180849/180849 [==============================] - 1s - loss: 0.8471     \n",
      "Epoch 13/30\n",
      "180849/180849 [==============================] - 1s - loss: 0.8453     \n",
      "Epoch 14/30\n",
      "180849/180849 [==============================] - 1s - loss: 0.8446     \n",
      "Epoch 15/30\n",
      "180849/180849 [==============================] - 1s - loss: 0.8370     \n",
      "Epoch 16/30\n",
      "180849/180849 [==============================] - 1s - loss: 0.8320     \n",
      "Epoch 17/30\n",
      "180849/180849 [==============================] - 1s - loss: 0.8385     \n",
      "Epoch 18/30\n",
      "180849/180849 [==============================] - 1s - loss: 0.8386     \n",
      "Epoch 19/30\n",
      "180849/180849 [==============================] - 1s - loss: 0.8321     \n",
      "Epoch 20/30\n",
      "180849/180849 [==============================] - 1s - loss: 0.8333     \n",
      "Epoch 21/30\n",
      "180849/180849 [==============================] - 1s - loss: 0.8322     \n",
      "Epoch 22/30\n",
      "180849/180849 [==============================] - 1s - loss: 0.8239     \n",
      "Epoch 23/30\n",
      "180849/180849 [==============================] - 1s - loss: 0.8307     \n",
      "Epoch 24/30\n",
      "180849/180849 [==============================] - 1s - loss: 0.8313     \n",
      "Epoch 25/30\n",
      "180849/180849 [==============================] - 1s - loss: 0.8262     \n",
      "Epoch 26/30\n",
      "180849/180849 [==============================] - 1s - loss: 0.8273     \n",
      "Epoch 27/30\n",
      "180849/180849 [==============================] - 1s - loss: 0.8226     \n",
      "Epoch 28/30\n",
      "180849/180849 [==============================] - 1s - loss: 0.8214     \n",
      "Epoch 29/30\n",
      "180849/180849 [==============================] - 1s - loss: 0.8180     \n",
      "Epoch 30/30\n",
      "180849/180849 [==============================] - 1s - loss: 0.8174     \n"
     ]
    }
   ],
   "source": [
    "nn_model.fit([aux_train_set.features, aux_train_set.cont_ids], aux_train_set.targets, \n",
    "             epochs=30, batch_size=1024);"
   ]
  },
  {
   "cell_type": "code",
   "execution_count": 197,
   "metadata": {
    "hidden": true
   },
   "outputs": [
    {
     "data": {
      "text/plain": [
       "0.84089550482280651"
      ]
     },
     "execution_count": 197,
     "metadata": {},
     "output_type": "execute_result"
    }
   ],
   "source": [
    "nn_model.evaluate([aux_test_set.features, aux_test_set.cont_ids], \n",
    "                       aux_test_set.targets, 4096, 0)"
   ]
  },
  {
   "cell_type": "markdown",
   "metadata": {
    "hidden": true
   },
   "source": [
    "The added non-linearity gives us a another few percent improvement compared to the local boosting algorithm. Why not try increasing the number of hidden layers and nodes?"
   ]
  },
  {
   "cell_type": "markdown",
   "metadata": {
    "heading_collapsed": true,
    "hidden": true
   },
   "source": [
    "### A more complex neural network"
   ]
  },
  {
   "cell_type": "code",
   "execution_count": 198,
   "metadata": {
    "hidden": true
   },
   "outputs": [
    {
     "name": "stdout",
     "output_type": "stream",
     "text": [
      "____________________________________________________________________________________________________\n",
      "Layer (type)                     Output Shape          Param #     Connected to                     \n",
      "====================================================================================================\n",
      "input_40 (InputLayer)            (None, 1)             0                                            \n",
      "____________________________________________________________________________________________________\n",
      "embedding_20 (Embedding)         (None, 1, 2)          1074        input_40[0][0]                   \n",
      "____________________________________________________________________________________________________\n",
      "input_39 (InputLayer)            (None, 40)            0                                            \n",
      "____________________________________________________________________________________________________\n",
      "flatten_20 (Flatten)             (None, 2)             0           embedding_20[0][0]               \n",
      "____________________________________________________________________________________________________\n",
      "concatenate_20 (Concatenate)     (None, 42)            0           input_39[0][0]                   \n",
      "                                                                   flatten_20[0][0]                 \n",
      "____________________________________________________________________________________________________\n",
      "dense_37 (Dense)                 (None, 512)           22016       concatenate_20[0][0]             \n",
      "____________________________________________________________________________________________________\n",
      "dense_38 (Dense)                 (None, 512)           262656      dense_37[0][0]                   \n",
      "____________________________________________________________________________________________________\n",
      "dense_39 (Dense)                 (None, 2)             1026        dense_38[0][0]                   \n",
      "====================================================================================================\n",
      "Total params: 286,772\n",
      "Trainable params: 286,772\n",
      "Non-trainable params: 0\n",
      "____________________________________________________________________________________________________\n"
     ]
    }
   ],
   "source": [
    "better_nn = create_emb_hidden_model([512, 512], 40)\n",
    "better_nn.compile(Adam(0.01), crps_cost_function)\n",
    "better_nn.summary()"
   ]
  },
  {
   "cell_type": "code",
   "execution_count": 199,
   "metadata": {
    "hidden": true,
    "scrolled": true
   },
   "outputs": [
    {
     "name": "stdout",
     "output_type": "stream",
     "text": [
      "Epoch 1/50\n",
      "180849/180849 [==============================] - 1s - loss: 1.7381     \n",
      "Epoch 2/50\n",
      "180849/180849 [==============================] - 1s - loss: 0.9359     \n",
      "Epoch 3/50\n",
      "180849/180849 [==============================] - 1s - loss: 0.8731     \n",
      "Epoch 4/50\n",
      "180849/180849 [==============================] - 1s - loss: 0.8575     \n",
      "Epoch 5/50\n",
      "180849/180849 [==============================] - 1s - loss: 0.8410     \n",
      "Epoch 6/50\n",
      "180849/180849 [==============================] - 1s - loss: 0.8214     \n",
      "Epoch 7/50\n",
      "180849/180849 [==============================] - 1s - loss: 0.8282     \n",
      "Epoch 8/50\n",
      "180849/180849 [==============================] - 1s - loss: 0.8021     \n",
      "Epoch 9/50\n",
      "180849/180849 [==============================] - 1s - loss: 0.7969     \n",
      "Epoch 10/50\n",
      "180849/180849 [==============================] - 1s - loss: 0.7876     \n",
      "Epoch 11/50\n",
      "180849/180849 [==============================] - 1s - loss: 0.7910     \n",
      "Epoch 12/50\n",
      "180849/180849 [==============================] - 1s - loss: 0.7872     \n",
      "Epoch 13/50\n",
      "180849/180849 [==============================] - 1s - loss: 0.7740     \n",
      "Epoch 14/50\n",
      "180849/180849 [==============================] - 1s - loss: 0.7700     \n",
      "Epoch 15/50\n",
      "180849/180849 [==============================] - 1s - loss: 0.7667     \n",
      "Epoch 16/50\n",
      "180849/180849 [==============================] - 1s - loss: 0.7572     \n",
      "Epoch 17/50\n",
      "180849/180849 [==============================] - 1s - loss: 0.7500     \n",
      "Epoch 18/50\n",
      "180849/180849 [==============================] - 1s - loss: 0.7432     \n",
      "Epoch 19/50\n",
      "180849/180849 [==============================] - 1s - loss: 0.7480     \n",
      "Epoch 20/50\n",
      "180849/180849 [==============================] - 1s - loss: 0.7349     \n",
      "Epoch 21/50\n",
      "180849/180849 [==============================] - 1s - loss: 0.7381     \n",
      "Epoch 22/50\n",
      "180849/180849 [==============================] - 1s - loss: 0.7287     \n",
      "Epoch 23/50\n",
      "180849/180849 [==============================] - 1s - loss: 0.7263     \n",
      "Epoch 24/50\n",
      "180849/180849 [==============================] - 1s - loss: 0.7146     \n",
      "Epoch 25/50\n",
      "180849/180849 [==============================] - 1s - loss: 0.7172     \n",
      "Epoch 26/50\n",
      "180849/180849 [==============================] - 1s - loss: 0.7183     \n",
      "Epoch 27/50\n",
      "180849/180849 [==============================] - 1s - loss: 0.7012     \n",
      "Epoch 28/50\n",
      "180849/180849 [==============================] - 1s - loss: 0.7071     \n",
      "Epoch 29/50\n",
      "180849/180849 [==============================] - 1s - loss: 0.6941     \n",
      "Epoch 30/50\n",
      "180849/180849 [==============================] - 1s - loss: 0.7038     \n",
      "Epoch 31/50\n",
      "180849/180849 [==============================] - 1s - loss: 0.7010     \n",
      "Epoch 32/50\n",
      "180849/180849 [==============================] - 1s - loss: 0.6919     \n",
      "Epoch 33/50\n",
      "180849/180849 [==============================] - 1s - loss: 0.6917     \n",
      "Epoch 34/50\n",
      "180849/180849 [==============================] - 1s - loss: 0.6983     \n",
      "Epoch 35/50\n",
      "180849/180849 [==============================] - 1s - loss: 0.6778     \n",
      "Epoch 36/50\n",
      "180849/180849 [==============================] - 1s - loss: 0.6861     \n",
      "Epoch 37/50\n",
      "180849/180849 [==============================] - 1s - loss: 0.6795     \n",
      "Epoch 38/50\n",
      "180849/180849 [==============================] - 1s - loss: 0.6751     \n",
      "Epoch 39/50\n",
      "180849/180849 [==============================] - 1s - loss: 0.6734     \n",
      "Epoch 40/50\n",
      "180849/180849 [==============================] - 1s - loss: 0.6732     \n",
      "Epoch 41/50\n",
      "180849/180849 [==============================] - 1s - loss: 0.6699     \n",
      "Epoch 42/50\n",
      "180849/180849 [==============================] - 1s - loss: 0.6679     \n",
      "Epoch 43/50\n",
      "180849/180849 [==============================] - 1s - loss: 0.6660     \n",
      "Epoch 44/50\n",
      "180849/180849 [==============================] - 1s - loss: 0.6704     \n",
      "Epoch 45/50\n",
      "180849/180849 [==============================] - 1s - loss: 0.6589     \n",
      "Epoch 46/50\n",
      "180849/180849 [==============================] - 1s - loss: 0.6562     \n",
      "Epoch 47/50\n",
      "180849/180849 [==============================] - 1s - loss: 0.6575     \n",
      "Epoch 48/50\n",
      "180849/180849 [==============================] - 1s - loss: 0.6550     \n",
      "Epoch 49/50\n",
      "180849/180849 [==============================] - 1s - loss: 0.6552     \n",
      "Epoch 50/50\n",
      "180849/180849 [==============================] - 1s - loss: 0.6532     \n"
     ]
    }
   ],
   "source": [
    "better_nn.fit([aux_train_set.features, aux_train_set.cont_ids], aux_train_set.targets, \n",
    "             epochs=50, batch_size=1024);"
   ]
  },
  {
   "cell_type": "code",
   "execution_count": 200,
   "metadata": {
    "hidden": true
   },
   "outputs": [
    {
     "data": {
      "text/plain": [
       "0.92146556577521399"
      ]
     },
     "execution_count": 200,
     "metadata": {},
     "output_type": "execute_result"
    }
   ],
   "source": [
    "better_nn.evaluate([aux_test_set.features, aux_test_set.cont_ids], \n",
    "                       aux_test_set.targets, 4096, 0)"
   ]
  },
  {
   "cell_type": "markdown",
   "metadata": {
    "heading_collapsed": true,
    "hidden": true
   },
   "source": [
    "### Hmmm, weird..."
   ]
  },
  {
   "cell_type": "markdown",
   "metadata": {
    "hidden": true
   },
   "source": [
    "This is what is called overfitting and is a serious problem in machine learning. The model basically memorizes the training examples and does not generalize to unseen samples.\n",
    "\n",
    "![overfitting](https://i.stack.imgur.com/t0zit.png)\n",
    "\n",
    "The model complexity is limited by the amount of training data!"
   ]
  },
  {
   "cell_type": "markdown",
   "metadata": {
    "heading_collapsed": true
   },
   "source": [
    "## A longer training period\n",
    "\n",
    "Finally, let's see if our score gets better if we train with a longer training period. "
   ]
  },
  {
   "cell_type": "code",
   "execution_count": 201,
   "metadata": {
    "hidden": true
   },
   "outputs": [],
   "source": [
    "long_train_dates = ['2008-01-01', '2016-01-01']\n",
    "#long_train_set, long_test_set = get_train_test_sets(DATA_DIR, long_train_dates, test_dates,\n",
    "#                                                  aux_dict=aux_dict)\n",
    "with open(DATA_DIR + 'pickled/aux_08-15_16.pkl', 'rb') as f:\n",
    "    long_train_set, long_test_set = pickle.load(f)"
   ]
  },
  {
   "cell_type": "code",
   "execution_count": 202,
   "metadata": {
    "hidden": true
   },
   "outputs": [
    {
     "data": {
      "text/plain": [
       "(1456977, 40)"
      ]
     },
     "execution_count": 202,
     "metadata": {},
     "output_type": "execute_result"
    }
   ],
   "source": [
    "long_train_set.features.shape"
   ]
  },
  {
   "cell_type": "code",
   "execution_count": 204,
   "metadata": {
    "hidden": true
   },
   "outputs": [
    {
     "name": "stdout",
     "output_type": "stream",
     "text": [
      "____________________________________________________________________________________________________\n",
      "Layer (type)                     Output Shape          Param #     Connected to                     \n",
      "====================================================================================================\n",
      "input_44 (InputLayer)            (None, 1)             0                                            \n",
      "____________________________________________________________________________________________________\n",
      "embedding_22 (Embedding)         (None, 1, 2)          1074        input_44[0][0]                   \n",
      "____________________________________________________________________________________________________\n",
      "input_43 (InputLayer)            (None, 40)            0                                            \n",
      "____________________________________________________________________________________________________\n",
      "flatten_22 (Flatten)             (None, 2)             0           embedding_22[0][0]               \n",
      "____________________________________________________________________________________________________\n",
      "concatenate_22 (Concatenate)     (None, 42)            0           input_43[0][0]                   \n",
      "                                                                   flatten_22[0][0]                 \n",
      "____________________________________________________________________________________________________\n",
      "dense_42 (Dense)                 (None, 500)           21500       concatenate_22[0][0]             \n",
      "____________________________________________________________________________________________________\n",
      "dense_43 (Dense)                 (None, 2)             1002        dense_42[0][0]                   \n",
      "====================================================================================================\n",
      "Total params: 23,576\n",
      "Trainable params: 23,576\n",
      "Non-trainable params: 0\n",
      "____________________________________________________________________________________________________\n"
     ]
    }
   ],
   "source": [
    "nn_model = create_emb_hidden_model([500], n_features=40)\n",
    "nn_model.compile(Adam(0.002), crps_cost_function)\n",
    "nn_model.summary()"
   ]
  },
  {
   "cell_type": "code",
   "execution_count": 206,
   "metadata": {
    "hidden": true
   },
   "outputs": [
    {
     "name": "stdout",
     "output_type": "stream",
     "text": [
      "Train on 1165581 samples, validate on 291396 samples\n",
      "Epoch 1/100\n",
      "1165581/1165581 [==============================] - 3s - loss: 1.6775 - val_loss: 0.9277\n",
      "Epoch 2/100\n",
      "1165581/1165581 [==============================] - 3s - loss: 0.9151 - val_loss: 0.8581\n",
      "Epoch 3/100\n",
      "1165581/1165581 [==============================] - 3s - loss: 0.8711 - val_loss: 0.8342\n",
      "Epoch 4/100\n",
      "1165581/1165581 [==============================] - 3s - loss: 0.8554 - val_loss: 0.8273\n",
      "Epoch 5/100\n",
      "1165581/1165581 [==============================] - 3s - loss: 0.8495 - val_loss: 0.8234\n",
      "Epoch 6/100\n",
      "1165581/1165581 [==============================] - 3s - loss: 0.8417 - val_loss: 0.8187\n",
      "Epoch 7/100\n",
      "1165581/1165581 [==============================] - 3s - loss: 0.8367 - val_loss: 0.8193\n",
      "Epoch 8/100\n",
      "1165581/1165581 [==============================] - 3s - loss: 0.8328 - val_loss: 0.8156\n",
      "Epoch 9/100\n",
      "1165581/1165581 [==============================] - 3s - loss: 0.8281 - val_loss: 0.8133\n",
      "Epoch 10/100\n",
      "1165581/1165581 [==============================] - 3s - loss: 0.8241 - val_loss: 0.8130\n",
      "Epoch 11/100\n",
      "1165581/1165581 [==============================] - 3s - loss: 0.8206 - val_loss: 0.8114\n",
      "Epoch 12/100\n",
      "1165581/1165581 [==============================] - 3s - loss: 0.8170 - val_loss: 0.8103\n",
      "Epoch 13/100\n",
      "1165581/1165581 [==============================] - 3s - loss: 0.8136 - val_loss: 0.8077\n",
      "Epoch 14/100\n",
      "1165581/1165581 [==============================] - 3s - loss: 0.8091 - val_loss: 0.8082\n",
      "Epoch 15/100\n",
      "1165581/1165581 [==============================] - 3s - loss: 0.8064 - val_loss: 0.8064\n",
      "Epoch 16/100\n",
      "1165581/1165581 [==============================] - 3s - loss: 0.8047 - val_loss: 0.8162\n",
      "Epoch 17/100\n",
      "1165581/1165581 [==============================] - 3s - loss: 0.8014 - val_loss: 0.8049\n",
      "Epoch 18/100\n",
      "1165581/1165581 [==============================] - 3s - loss: 0.7991 - val_loss: 0.8094\n",
      "Epoch 19/100\n",
      "1165581/1165581 [==============================] - 3s - loss: 0.7966 - val_loss: 0.8040\n",
      "Epoch 20/100\n",
      "1165581/1165581 [==============================] - 3s - loss: 0.7947 - val_loss: 0.8053\n",
      "Epoch 21/100\n",
      "1165581/1165581 [==============================] - 3s - loss: 0.7925 - val_loss: 0.8095\n",
      "Epoch 22/100\n",
      "1165581/1165581 [==============================] - 3s - loss: 0.7909 - val_loss: 0.8022\n",
      "Epoch 23/100\n",
      "1165581/1165581 [==============================] - 3s - loss: 0.7891 - val_loss: 0.8029\n",
      "Epoch 24/100\n",
      "1165581/1165581 [==============================] - 3s - loss: 0.7872 - val_loss: 0.8149\n",
      "Epoch 25/100\n",
      "1165581/1165581 [==============================] - 3s - loss: 0.7869 - val_loss: 0.8049\n"
     ]
    }
   ],
   "source": [
    "nn_model.fit([long_train_set.features, long_train_set.cont_ids], long_train_set.targets, \n",
    "             epochs=100, batch_size=4096, validation_split=0.2,\n",
    "             callbacks=[EarlyStopping(patience=2)]);"
   ]
  },
  {
   "cell_type": "code",
   "execution_count": 208,
   "metadata": {
    "hidden": true
   },
   "outputs": [
    {
     "data": {
      "text/plain": [
       "0.78611633710993412"
      ]
     },
     "execution_count": 208,
     "metadata": {},
     "output_type": "execute_result"
    }
   ],
   "source": [
    "nn_model.evaluate([long_test_set.features, long_test_set.cont_ids], \n",
    "                       long_test_set.targets, 4096, 0)"
   ]
  },
  {
   "cell_type": "markdown",
   "metadata": {
    "hidden": true
   },
   "source": [
    "So we got another 4% improvement with more training data. We do not yet have benchmark scores for the traditional post-processing techniques for the long training period."
   ]
  },
  {
   "cell_type": "markdown",
   "metadata": {
    "heading_collapsed": true
   },
   "source": [
    "## Conclusion\n",
    "\n",
    "Neural network provide a flexible and fast way of post-processing probabilistic NWP forecasts and are even a little better than traditional techniques courtesy of the added non-linearity. \n",
    "\n",
    "This is however an academic dataset with a nicely behaved variable, temperature. Application-driven post-processing poses some extra challenges:\n",
    "- Non-gaussian variables like temperature and wind\n",
    "- Spatial structures"
   ]
  },
  {
   "cell_type": "code",
   "execution_count": null,
   "metadata": {
    "hidden": true
   },
   "outputs": [],
   "source": []
  }
 ],
 "metadata": {
  "kernelspec": {
   "display_name": "Python 3",
   "language": "python",
   "name": "python3"
  },
  "language_info": {
   "codemirror_mode": {
    "name": "ipython",
    "version": 3
   },
   "file_extension": ".py",
   "mimetype": "text/x-python",
   "name": "python",
   "nbconvert_exporter": "python",
   "pygments_lexer": "ipython3",
   "version": "3.6.3"
  },
  "toc": {
   "nav_menu": {},
   "number_sections": true,
   "sideBar": true,
   "skip_h1_title": true,
   "toc_cell": true,
   "toc_position": {},
   "toc_section_display": "block",
   "toc_window_display": false
  }
 },
 "nbformat": 4,
 "nbformat_minor": 2
}
