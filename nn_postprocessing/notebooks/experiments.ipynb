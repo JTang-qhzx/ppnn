{
 "cells": [
  {
   "cell_type": "markdown",
   "metadata": {},
   "source": [
    "# Experiments for Paper\n",
    "\n"
   ]
  },
  {
   "cell_type": "code",
   "execution_count": 1,
   "metadata": {},
   "outputs": [],
   "source": [
    "%load_ext autoreload\n",
    "%autoreload 2"
   ]
  },
  {
   "cell_type": "code",
   "execution_count": 2,
   "metadata": {},
   "outputs": [
    {
     "name": "stderr",
     "output_type": "stream",
     "text": [
      "/export/home/srasp/anaconda3/lib/python3.6/site-packages/h5py/__init__.py:36: FutureWarning: Conversion of the second argument of issubdtype from `float` to `np.floating` is deprecated. In future, it will be treated as `np.float64 == np.dtype(float).type`.\n",
      "  from ._conv import register_converters as _register_converters\n",
      "Using TensorFlow backend.\n"
     ]
    }
   ],
   "source": [
    "%matplotlib inline\n",
    "from nn_src.imports import *"
   ]
  },
  {
   "cell_type": "code",
   "execution_count": 3,
   "metadata": {},
   "outputs": [],
   "source": [
    "DATA_DIR = '/scratch/srasp/ppnn_data/'\n",
    "RESULTS_DIR = './tmp'"
   ]
  },
  {
   "cell_type": "code",
   "execution_count": 4,
   "metadata": {},
   "outputs": [],
   "source": [
    "def reset_weights(model):\n",
    "    session = K.get_session()\n",
    "    for layer in model.layers: \n",
    "        if hasattr(layer, 'kernel_initializer'):\n",
    "            layer.kernel.initializer.run(session=session)"
   ]
  },
  {
   "cell_type": "code",
   "execution_count": 5,
   "metadata": {},
   "outputs": [],
   "source": [
    "def ensemble_scores(m, n, x_trn, y_trn, x_test, y_test, **kwargs):\n",
    "    trn_scores, test_scores, preds = [], [], []\n",
    "    for i in tqdm(range(n)):\n",
    "        reset_weights(m)\n",
    "        m.fit(x_trn, y_trn, **kwargs)\n",
    "        trn_scores.append(m.evaluate(x_trn, y_trn, 4096, verbose=0))\n",
    "        test_scores.append(m.evaluate(x_test, y_test, 4096, verbose=0))\n",
    "        preds.append(m.predict(x_test, 4096, verbose=0))\n",
    "    return trn_scores, test_scores, preds"
   ]
  },
  {
   "cell_type": "code",
   "execution_count": 6,
   "metadata": {},
   "outputs": [],
   "source": [
    "def save_ensemble(preds, test_set, exp_name, save=True):\n",
    "    preds = np.array(preds)\n",
    "    preds[:, :, 1] = np.abs(preds[:, :, 1])   # Make sure std is positive\n",
    "    mean_preds = np.mean(preds, 0)\n",
    "    ens_score = crps_normal(mean_preds[:, 0], mean_preds[:, 1], aux_test_set.targets).mean()\n",
    "    print(f'Ensemble test score = {ens_score}')\n",
    "    if save:\n",
    "        results_df = create_results_df(test_set.date_strs, test_set.station_ids, preds[:, 0], preds[:, 1])\n",
    "        results_df.to_csv(f'{RESULTS_DIR}{fxp_name}.csv')"
   ]
  },
  {
   "cell_type": "code",
   "execution_count": 10,
   "metadata": {},
   "outputs": [],
   "source": [
    "def get_datasets(pickled_name, train_dates, test_dates=['2016-01-01', '2017-01-01'], aux=False, reload=False):\n",
    "    pickle_fn = f'{DATA_DIR}pickled/{pickled_name}'\n",
    "    if not os.path.exists(pickle_fn) or reload:\n",
    "        var_dict = aux_dict if aux else None\n",
    "        train_set, test_set = get_train_test_sets(\n",
    "            DATA_DIR,\n",
    "            train_dates,\n",
    "            test_dates,\n",
    "            aux_dict=var_dict,\n",
    "        )\n",
    "        # Save pickled dataset\n",
    "        with open(pickle_fn, 'wb') as f:\n",
    "            pickle.dump((train_set, test_set), f)\n",
    "    else:\n",
    "        with open(pickle_fn, 'rb') as f:\n",
    "            train_set, test_set = pickle.load(f)\n",
    "    return train_set, test_set"
   ]
  },
  {
   "cell_type": "markdown",
   "metadata": {},
   "source": [
    "## Train 2015"
   ]
  },
  {
   "cell_type": "markdown",
   "metadata": {},
   "source": [
    "### Neural net with auxiliary data and station embeddings"
   ]
  },
  {
   "cell_type": "code",
   "execution_count": 29,
   "metadata": {},
   "outputs": [],
   "source": [
    "aux_train_set, aux_test_set = get_datasets('aux_15_16.pkl', ['2015-01-01', '2016-01-01'])"
   ]
  },
  {
   "cell_type": "code",
   "execution_count": 15,
   "metadata": {},
   "outputs": [
    {
     "data": {
      "text/plain": [
       "40"
      ]
     },
     "execution_count": 15,
     "metadata": {},
     "output_type": "execute_result"
    }
   ],
   "source": [
    "n_features = aux_train_set.features.shape[1]; n_features"
   ]
  },
  {
   "cell_type": "code",
   "execution_count": 16,
   "metadata": {},
   "outputs": [
    {
     "data": {
      "text/plain": [
       "536"
      ]
     },
     "execution_count": 16,
     "metadata": {},
     "output_type": "execute_result"
    }
   ],
   "source": [
    "emb_size = 2\n",
    "max_id = int(np.max([aux_train_set.cont_ids.max(), aux_test_set.cont_ids.max()]))\n",
    "max_id"
   ]
  },
  {
   "cell_type": "code",
   "execution_count": 13,
   "metadata": {},
   "outputs": [],
   "source": [
    "emb_model = build_emb_model(n_features, 2, [50], emb_size, max_id, compile=True, lr=0.01)"
   ]
  },
  {
   "cell_type": "code",
   "execution_count": 26,
   "metadata": {},
   "outputs": [
    {
     "name": "stdout",
     "output_type": "stream",
     "text": [
      "__________________________________________________________________________________________________\n",
      "Layer (type)                    Output Shape         Param #     Connected to                     \n",
      "==================================================================================================\n",
      "input_2 (InputLayer)            (None, 1)            0                                            \n",
      "__________________________________________________________________________________________________\n",
      "embedding_1 (Embedding)         (None, 1, 2)         1074        input_2[0][0]                    \n",
      "__________________________________________________________________________________________________\n",
      "input_1 (InputLayer)            (None, 40)           0                                            \n",
      "__________________________________________________________________________________________________\n",
      "flatten_1 (Flatten)             (None, 2)            0           embedding_1[0][0]                \n",
      "__________________________________________________________________________________________________\n",
      "concatenate_1 (Concatenate)     (None, 42)           0           input_1[0][0]                    \n",
      "                                                                 flatten_1[0][0]                  \n",
      "__________________________________________________________________________________________________\n",
      "dense_1 (Dense)                 (None, 50)           2150        concatenate_1[0][0]              \n",
      "__________________________________________________________________________________________________\n",
      "dense_2 (Dense)                 (None, 2)            102         dense_1[0][0]                    \n",
      "==================================================================================================\n",
      "Total params: 3,326\n",
      "Trainable params: 3,326\n",
      "Non-trainable params: 0\n",
      "__________________________________________________________________________________________________\n"
     ]
    }
   ],
   "source": [
    "emb_model.summary()"
   ]
  },
  {
   "cell_type": "code",
   "execution_count": 15,
   "metadata": {},
   "outputs": [
    {
     "data": {
      "application/vnd.jupyter.widget-view+json": {
       "model_id": "2cda729712bb4af4a0cbe2c95f46d04e",
       "version_major": 2,
       "version_minor": 0
      },
      "text/html": [
       "<p>Failed to display Jupyter Widget of type <code>HBox</code>.</p>\n",
       "<p>\n",
       "  If you're reading this message in the Jupyter Notebook or JupyterLab Notebook, it may mean\n",
       "  that the widgets JavaScript is still loading. If this message persists, it\n",
       "  likely means that the widgets JavaScript library is either not installed or\n",
       "  not enabled. See the <a href=\"https://ipywidgets.readthedocs.io/en/stable/user_install.html\">Jupyter\n",
       "  Widgets Documentation</a> for setup instructions.\n",
       "</p>\n",
       "<p>\n",
       "  If you're reading this message in another frontend (for example, a static\n",
       "  rendering on GitHub or <a href=\"https://nbviewer.jupyter.org/\">NBViewer</a>),\n",
       "  it may mean that your frontend doesn't currently support widgets.\n",
       "</p>\n"
      ],
      "text/plain": [
       "HBox(children=(IntProgress(value=0, max=10), HTML(value='')))"
      ]
     },
     "metadata": {},
     "output_type": "display_data"
    },
    {
     "name": "stdout",
     "output_type": "stream",
     "text": [
      "\n"
     ]
    }
   ],
   "source": [
    "trn_scores, test_scores, preds = ensemble_scores(\n",
    "    emb_model, 10,\n",
    "    [aux_train_set.features, aux_train_set.cont_ids], aux_train_set.targets,\n",
    "    [aux_test_set.features, aux_test_set.cont_ids], aux_test_set.targets,\n",
    "    epochs=30, batch_size=1024, verbose=0,\n",
    ")"
   ]
  },
  {
   "cell_type": "code",
   "execution_count": 23,
   "metadata": {
    "scrolled": false
   },
   "outputs": [
    {
     "name": "stdout",
     "output_type": "stream",
     "text": [
      "Ensemble test score = 0.8250201193851816\n"
     ]
    }
   ],
   "source": [
    "save_ensemble(preds, aux_test_set, '', False)"
   ]
  },
  {
   "cell_type": "markdown",
   "metadata": {},
   "source": [
    "## Train 2008-2015"
   ]
  },
  {
   "cell_type": "code",
   "execution_count": 11,
   "metadata": {},
   "outputs": [
    {
     "name": "stdout",
     "output_type": "stream",
     "text": [
      "train set contains 2922 days\n",
      "test set contains 366 days\n"
     ]
    }
   ],
   "source": [
    "aux_train_set, aux_test_set = get_datasets('aux_08_16.pkl', ['2008-01-01', '2016-01-01'], aux=True)"
   ]
  },
  {
   "cell_type": "code",
   "execution_count": 17,
   "metadata": {},
   "outputs": [],
   "source": [
    "emb_model = build_emb_model(n_features, 2, [512], emb_size, max_id, compile=True, lr=0.002)"
   ]
  },
  {
   "cell_type": "code",
   "execution_count": 18,
   "metadata": {},
   "outputs": [
    {
     "name": "stdout",
     "output_type": "stream",
     "text": [
      "__________________________________________________________________________________________________\n",
      "Layer (type)                    Output Shape         Param #     Connected to                     \n",
      "==================================================================================================\n",
      "input_2 (InputLayer)            (None, 1)            0                                            \n",
      "__________________________________________________________________________________________________\n",
      "embedding_1 (Embedding)         (None, 1, 2)         1074        input_2[0][0]                    \n",
      "__________________________________________________________________________________________________\n",
      "input_1 (InputLayer)            (None, 40)           0                                            \n",
      "__________________________________________________________________________________________________\n",
      "flatten_1 (Flatten)             (None, 2)            0           embedding_1[0][0]                \n",
      "__________________________________________________________________________________________________\n",
      "concatenate_1 (Concatenate)     (None, 42)           0           input_1[0][0]                    \n",
      "                                                                 flatten_1[0][0]                  \n",
      "__________________________________________________________________________________________________\n",
      "dense_1 (Dense)                 (None, 512)          22016       concatenate_1[0][0]              \n",
      "__________________________________________________________________________________________________\n",
      "dense_2 (Dense)                 (None, 2)            1026        dense_1[0][0]                    \n",
      "==================================================================================================\n",
      "Total params: 24,116\n",
      "Trainable params: 24,116\n",
      "Non-trainable params: 0\n",
      "__________________________________________________________________________________________________\n"
     ]
    }
   ],
   "source": [
    "emb_model.summary()"
   ]
  },
  {
   "cell_type": "code",
   "execution_count": 27,
   "metadata": {},
   "outputs": [],
   "source": [
    "callbacks = [EarlyStopping(monitor='val_loss',patience=3)]"
   ]
  },
  {
   "cell_type": "code",
   "execution_count": 36,
   "metadata": {
    "scrolled": false
   },
   "outputs": [
    {
     "data": {
      "application/vnd.jupyter.widget-view+json": {
       "model_id": "a32c7ec611e148c28054d508133657b7",
       "version_major": 2,
       "version_minor": 0
      },
      "text/html": [
       "<p>Failed to display Jupyter Widget of type <code>HBox</code>.</p>\n",
       "<p>\n",
       "  If you're reading this message in the Jupyter Notebook or JupyterLab Notebook, it may mean\n",
       "  that the widgets JavaScript is still loading. If this message persists, it\n",
       "  likely means that the widgets JavaScript library is either not installed or\n",
       "  not enabled. See the <a href=\"https://ipywidgets.readthedocs.io/en/stable/user_install.html\">Jupyter\n",
       "  Widgets Documentation</a> for setup instructions.\n",
       "</p>\n",
       "<p>\n",
       "  If you're reading this message in another frontend (for example, a static\n",
       "  rendering on GitHub or <a href=\"https://nbviewer.jupyter.org/\">NBViewer</a>),\n",
       "  it may mean that your frontend doesn't currently support widgets.\n",
       "</p>\n"
      ],
      "text/plain": [
       "HBox(children=(IntProgress(value=0, max=5), HTML(value='')))"
      ]
     },
     "metadata": {},
     "output_type": "display_data"
    },
    {
     "name": "stdout",
     "output_type": "stream",
     "text": [
      "Epoch 1/15\n",
      " 299008/1456977 [=====>........................] - ETA: 4s - loss: 2.3259\n",
      " 348160/1456977 [======>.......................] - ETA: 4s - loss: 2.1492"
     ]
    },
    {
     "name": "stderr",
     "output_type": "stream",
     "text": [
      "Exception in thread Thread-8:\n",
      "Traceback (most recent call last):\n",
      "  File \"/export/home/srasp/anaconda3/lib/python3.6/threading.py\", line 916, in _bootstrap_inner\n",
      "    self.run()\n",
      "  File \"/export/home/srasp/anaconda3/lib/python3.6/site-packages/tqdm/_monitor.py\", line 63, in run\n",
      "    for instance in self.tqdm_cls._instances:\n",
      "  File \"/export/home/srasp/anaconda3/lib/python3.6/_weakrefset.py\", line 60, in __iter__\n",
      "    for itemref in self.data:\n",
      "RuntimeError: Set changed size during iteration\n",
      "\n"
     ]
    },
    {
     "name": "stdout",
     "output_type": "stream",
     "text": [
      "1456977/1456977 [==============================] - 6s 4us/step - loss: 1.1987\n",
      "Epoch 2/15\n",
      "1456977/1456977 [==============================] - 6s 4us/step - loss: 0.8519\n",
      "Epoch 3/15\n",
      "1456977/1456977 [==============================] - 6s 4us/step - loss: 0.8406\n",
      "Epoch 4/15\n",
      "1456977/1456977 [==============================] - 5s 3us/step - loss: 0.8330\n",
      "Epoch 5/15\n",
      "1456977/1456977 [==============================] - 6s 4us/step - loss: 0.8267\n",
      "Epoch 6/15\n",
      "1456977/1456977 [==============================] - 6s 4us/step - loss: 0.8219\n",
      "Epoch 7/15\n",
      "1456977/1456977 [==============================] - 6s 4us/step - loss: 0.8182\n",
      "Epoch 8/15\n",
      "1456977/1456977 [==============================] - 6s 4us/step - loss: 0.8142\n",
      "Epoch 9/15\n",
      "1456977/1456977 [==============================] - 6s 4us/step - loss: 0.8113\n",
      "Epoch 10/15\n",
      "1456977/1456977 [==============================] - 6s 4us/step - loss: 0.8071\n",
      "Epoch 11/15\n",
      "1456977/1456977 [==============================] - 6s 4us/step - loss: 0.8045\n",
      "Epoch 12/15\n",
      "1456977/1456977 [==============================] - 6s 4us/step - loss: 0.8017\n",
      "Epoch 13/15\n",
      "1456977/1456977 [==============================] - 6s 4us/step - loss: 0.7994\n",
      "Epoch 14/15\n",
      "1456977/1456977 [==============================] - 6s 4us/step - loss: 0.7974\n",
      "Epoch 15/15\n",
      "1456977/1456977 [==============================] - 6s 4us/step - loss: 0.7958\n",
      "Epoch 1/15\n",
      "1456977/1456977 [==============================] - 6s 4us/step - loss: 1.2074\n",
      "Epoch 2/15\n",
      "1456977/1456977 [==============================] - 6s 4us/step - loss: 0.8577\n",
      "Epoch 3/15\n",
      "1456977/1456977 [==============================] - 6s 4us/step - loss: 0.8461\n",
      "Epoch 4/15\n",
      "1456977/1456977 [==============================] - 6s 4us/step - loss: 0.8372\n",
      "Epoch 5/15\n",
      "1456977/1456977 [==============================] - 6s 4us/step - loss: 0.8302\n",
      "Epoch 6/15\n",
      "1456977/1456977 [==============================] - 6s 4us/step - loss: 0.8250\n",
      "Epoch 7/15\n",
      "1456977/1456977 [==============================] - 6s 4us/step - loss: 0.8206\n",
      "Epoch 8/15\n",
      "1456977/1456977 [==============================] - 6s 4us/step - loss: 0.8161\n",
      "Epoch 9/15\n",
      "1456977/1456977 [==============================] - 6s 4us/step - loss: 0.8134\n",
      "Epoch 10/15\n",
      "1456977/1456977 [==============================] - 6s 4us/step - loss: 0.8096\n",
      "Epoch 11/15\n",
      "1456977/1456977 [==============================] - 6s 4us/step - loss: 0.8072\n",
      "Epoch 12/15\n",
      "1456977/1456977 [==============================] - 6s 4us/step - loss: 0.8055\n",
      "Epoch 13/15\n",
      "1456977/1456977 [==============================] - 6s 4us/step - loss: 0.8019\n",
      "Epoch 14/15\n",
      "1456977/1456977 [==============================] - 6s 4us/step - loss: 0.7994\n",
      "Epoch 15/15\n",
      "1456977/1456977 [==============================] - 6s 4us/step - loss: 0.7974\n",
      "Epoch 1/15\n",
      "1456977/1456977 [==============================] - 6s 4us/step - loss: 1.1905\n",
      "Epoch 2/15\n",
      "1456977/1456977 [==============================] - 6s 4us/step - loss: 0.8569\n",
      "Epoch 3/15\n",
      "1456977/1456977 [==============================] - 6s 4us/step - loss: 0.8442\n",
      "Epoch 4/15\n",
      "1456977/1456977 [==============================] - 6s 4us/step - loss: 0.8344\n",
      "Epoch 5/15\n",
      "1456977/1456977 [==============================] - 6s 4us/step - loss: 0.8274\n",
      "Epoch 6/15\n",
      "1456977/1456977 [==============================] - 6s 4us/step - loss: 0.8207\n",
      "Epoch 7/15\n",
      "1456977/1456977 [==============================] - 6s 4us/step - loss: 0.8161\n",
      "Epoch 8/15\n",
      "1456977/1456977 [==============================] - 6s 4us/step - loss: 0.8120\n",
      "Epoch 9/15\n",
      "1456977/1456977 [==============================] - 6s 4us/step - loss: 0.8081\n",
      "Epoch 10/15\n",
      "1456977/1456977 [==============================] - 6s 4us/step - loss: 0.8050\n",
      "Epoch 11/15\n",
      "1456977/1456977 [==============================] - 6s 4us/step - loss: 0.8030\n",
      "Epoch 12/15\n",
      "1456977/1456977 [==============================] - 6s 4us/step - loss: 0.7999\n",
      "Epoch 13/15\n",
      "1456977/1456977 [==============================] - 6s 4us/step - loss: 0.7973\n",
      "Epoch 14/15\n",
      "1456977/1456977 [==============================] - 6s 4us/step - loss: 0.7950\n",
      "Epoch 15/15\n",
      "1456977/1456977 [==============================] - 6s 4us/step - loss: 0.7927\n",
      "Epoch 1/15\n",
      "1456977/1456977 [==============================] - 6s 4us/step - loss: 1.2144\n",
      "Epoch 2/15\n",
      "1456977/1456977 [==============================] - 6s 4us/step - loss: 0.8536\n",
      "Epoch 3/15\n",
      "1456977/1456977 [==============================] - 6s 4us/step - loss: 0.8432\n",
      "Epoch 4/15\n",
      "1456977/1456977 [==============================] - 6s 4us/step - loss: 0.8356\n",
      "Epoch 5/15\n",
      "1456977/1456977 [==============================] - 6s 4us/step - loss: 0.8292\n",
      "Epoch 6/15\n",
      "1456977/1456977 [==============================] - 6s 4us/step - loss: 0.8241\n",
      "Epoch 7/15\n",
      "1456977/1456977 [==============================] - 6s 4us/step - loss: 0.8191\n",
      "Epoch 8/15\n",
      "1456977/1456977 [==============================] - 6s 4us/step - loss: 0.8148\n",
      "Epoch 9/15\n",
      "1456977/1456977 [==============================] - 6s 4us/step - loss: 0.8111\n",
      "Epoch 10/15\n",
      "1456977/1456977 [==============================] - 6s 4us/step - loss: 0.8078\n",
      "Epoch 11/15\n",
      "1456977/1456977 [==============================] - 5s 4us/step - loss: 0.8054\n",
      "Epoch 12/15\n",
      "1456977/1456977 [==============================] - 6s 4us/step - loss: 0.8018\n",
      "Epoch 13/15\n",
      "1456977/1456977 [==============================] - 6s 4us/step - loss: 0.7990\n",
      "Epoch 14/15\n",
      "1456977/1456977 [==============================] - 6s 4us/step - loss: 0.7969\n",
      "Epoch 15/15\n",
      "1456977/1456977 [==============================] - 6s 4us/step - loss: 0.7946\n",
      "Epoch 1/15\n",
      "1456977/1456977 [==============================] - 5s 4us/step - loss: 1.1977\n",
      "Epoch 2/15\n",
      "1456977/1456977 [==============================] - 5s 4us/step - loss: 0.8527\n",
      "Epoch 3/15\n",
      "1456977/1456977 [==============================] - 5s 4us/step - loss: 0.8417\n",
      "Epoch 4/15\n",
      "1456977/1456977 [==============================] - 6s 4us/step - loss: 0.8341\n",
      "Epoch 5/15\n",
      "1456977/1456977 [==============================] - 6s 4us/step - loss: 0.8280\n",
      "Epoch 6/15\n",
      "1456977/1456977 [==============================] - 6s 4us/step - loss: 0.8233\n",
      "Epoch 7/15\n",
      "1456977/1456977 [==============================] - 6s 4us/step - loss: 0.8189\n",
      "Epoch 8/15\n",
      "1456977/1456977 [==============================] - 6s 4us/step - loss: 0.8156\n",
      "Epoch 9/15\n",
      "1456977/1456977 [==============================] - 6s 4us/step - loss: 0.8118\n",
      "Epoch 10/15\n",
      "1456977/1456977 [==============================] - 6s 4us/step - loss: 0.8084\n",
      "Epoch 11/15\n",
      "1456977/1456977 [==============================] - 6s 4us/step - loss: 0.8058\n",
      "Epoch 12/15\n",
      "1456977/1456977 [==============================] - 6s 4us/step - loss: 0.8036\n",
      "Epoch 13/15\n",
      "1456977/1456977 [==============================] - 6s 4us/step - loss: 0.8006\n",
      "Epoch 14/15\n",
      "1456977/1456977 [==============================] - 5s 4us/step - loss: 0.7980\n",
      "Epoch 15/15\n",
      "1456977/1456977 [==============================] - 6s 4us/step - loss: 0.7962\n",
      "\n"
     ]
    }
   ],
   "source": [
    "trn_scores, test_scores, preds = ensemble_scores(\n",
    "    emb_model, 5,\n",
    "    [aux_train_set.features, aux_train_set.cont_ids], aux_train_set.targets,\n",
    "    [aux_test_set.features, aux_test_set.cont_ids], aux_test_set.targets,\n",
    "    epochs=15, batch_size=4096, verbose=1, callbacks=None, \n",
    ")"
   ]
  },
  {
   "cell_type": "code",
   "execution_count": 37,
   "metadata": {},
   "outputs": [
    {
     "data": {
      "text/plain": [
       "[0.7845812783046421,\n",
       " 0.785648775726266,\n",
       " 0.7820323736911864,\n",
       " 0.7842717505423521,\n",
       " 0.779894316266704]"
      ]
     },
     "execution_count": 37,
     "metadata": {},
     "output_type": "execute_result"
    }
   ],
   "source": [
    "test_scores"
   ]
  },
  {
   "cell_type": "code",
   "execution_count": 38,
   "metadata": {},
   "outputs": [
    {
     "name": "stdout",
     "output_type": "stream",
     "text": [
      "Ensemble test score = 0.7754476315144285\n"
     ]
    }
   ],
   "source": [
    "save_ensemble(preds, aux_test_set, '', False)"
   ]
  },
  {
   "cell_type": "code",
   "execution_count": null,
   "metadata": {},
   "outputs": [],
   "source": []
  }
 ],
 "metadata": {
  "kernelspec": {
   "display_name": "Python 3",
   "language": "python",
   "name": "python3"
  },
  "language_info": {
   "codemirror_mode": {
    "name": "ipython",
    "version": 3
   },
   "file_extension": ".py",
   "mimetype": "text/x-python",
   "name": "python",
   "nbconvert_exporter": "python",
   "pygments_lexer": "ipython3",
   "version": "3.6.4"
  },
  "toc": {
   "nav_menu": {},
   "number_sections": true,
   "sideBar": true,
   "skip_h1_title": true,
   "title_cell": "Table of Contents",
   "title_sidebar": "Contents",
   "toc_cell": false,
   "toc_position": {},
   "toc_section_display": true,
   "toc_window_display": false
  }
 },
 "nbformat": 4,
 "nbformat_minor": 2
}
