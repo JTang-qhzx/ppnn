{
 "cells": [
  {
   "cell_type": "markdown",
   "metadata": {},
   "source": [
    "# Experiments for Paper\n",
    "\n",
    "This notebook contains all neural network experiments for the paper. The results are saved as CSV files for independent verification."
   ]
  },
  {
   "cell_type": "code",
   "execution_count": 1,
   "metadata": {},
   "outputs": [],
   "source": [
    "%load_ext autoreload\n",
    "%autoreload 2"
   ]
  },
  {
   "cell_type": "code",
   "execution_count": 62,
   "metadata": {},
   "outputs": [],
   "source": [
    "%matplotlib inline\n",
    "from nn_src.imports import *"
   ]
  },
  {
   "cell_type": "code",
   "execution_count": 26,
   "metadata": {},
   "outputs": [],
   "source": [
    "DATA_DIR = '/scratch/srasp/ppnn_data/'\n",
    "RESULTS_DIR = '/export/home/srasp/repositories/ppnn/results/csv_files/'"
   ]
  },
  {
   "cell_type": "code",
   "execution_count": 4,
   "metadata": {},
   "outputs": [],
   "source": [
    "def reset_weights(model):\n",
    "    session = K.get_session()\n",
    "    for layer in model.layers: \n",
    "        if hasattr(layer, 'kernel_initializer'):\n",
    "            layer.kernel.initializer.run(session=session)"
   ]
  },
  {
   "cell_type": "code",
   "execution_count": 5,
   "metadata": {},
   "outputs": [],
   "source": [
    "def ensemble_scores(m, n, x_trn, y_trn, x_test, y_test, **kwargs):\n",
    "    trn_scores, test_scores, preds = [], [], []\n",
    "    for i in tqdm(range(n)):\n",
    "        reset_weights(m)\n",
    "        m.fit(x_trn, y_trn, **kwargs)\n",
    "        trn_scores.append(m.evaluate(x_trn, y_trn, 4096, verbose=0))\n",
    "        test_scores.append(m.evaluate(x_test, y_test, 4096, verbose=0))\n",
    "        preds.append(m.predict(x_test, 4096, verbose=0))\n",
    "    return trn_scores, test_scores, preds"
   ]
  },
  {
   "cell_type": "code",
   "execution_count": 27,
   "metadata": {},
   "outputs": [],
   "source": [
    "def save_ensemble(preds, test_set, exp_name, save=True):\n",
    "    preds = np.array(preds)\n",
    "    preds[:, :, 1] = np.abs(preds[:, :, 1])   # Make sure std is positive\n",
    "    mean_preds = np.mean(preds, 0)\n",
    "    ens_score = crps_normal(mean_preds[:, 0], mean_preds[:, 1], test_set.targets).mean()\n",
    "    print(f'Ensemble test score = {ens_score}')\n",
    "    if save:\n",
    "        results_df = create_results_df(test_set.date_strs, test_set.station_ids, mean_preds[:, 0], mean_preds[:, 1])\n",
    "        print(f'Saved results in {RESULTS_DIR}{exp_name}.csv')\n",
    "        results_df.to_csv(f'{RESULTS_DIR}{exp_name}.csv')"
   ]
  },
  {
   "cell_type": "code",
   "execution_count": 7,
   "metadata": {},
   "outputs": [],
   "source": [
    "def get_datasets(pickled_name, train_dates, test_dates=['2016-01-01', '2017-01-01'], aux=False, reload=False):\n",
    "    pickle_fn = f'{DATA_DIR}pickled/{pickled_name}'\n",
    "    if not os.path.exists(pickle_fn) or reload:\n",
    "        var_dict = aux_dict if aux else None\n",
    "        train_set, test_set = get_train_test_sets(\n",
    "            DATA_DIR,\n",
    "            train_dates,\n",
    "            test_dates,\n",
    "            aux_dict=var_dict,\n",
    "        )\n",
    "        # Save pickled dataset\n",
    "        with open(pickle_fn, 'wb') as f:\n",
    "            pickle.dump((train_set, test_set), f)\n",
    "    else:\n",
    "        with open(pickle_fn, 'rb') as f:\n",
    "            train_set, test_set = pickle.load(f)\n",
    "    return train_set, test_set"
   ]
  },
  {
   "cell_type": "markdown",
   "metadata": {},
   "source": [
    "## Train 2015"
   ]
  },
  {
   "cell_type": "code",
   "execution_count": 8,
   "metadata": {},
   "outputs": [],
   "source": [
    "train_set, test_set = get_datasets('15_16.pkl', ['2015-01-01', '2016-01-01'], aux=False)"
   ]
  },
  {
   "cell_type": "code",
   "execution_count": 9,
   "metadata": {},
   "outputs": [
    {
     "data": {
      "text/plain": [
       "((180849, 2), (180849,))"
      ]
     },
     "execution_count": 9,
     "metadata": {},
     "output_type": "execute_result"
    }
   ],
   "source": [
    "train_set.features.shape, train_set.targets.shape"
   ]
  },
  {
   "cell_type": "code",
   "execution_count": 84,
   "metadata": {},
   "outputs": [],
   "source": [
    "aux_train_set, aux_test_set = get_datasets('aux_15_16.pkl', ['2015-01-01', '2016-01-01'], aux=True)"
   ]
  },
  {
   "cell_type": "code",
   "execution_count": 30,
   "metadata": {},
   "outputs": [
    {
     "data": {
      "text/plain": [
       "40"
      ]
     },
     "execution_count": 30,
     "metadata": {},
     "output_type": "execute_result"
    }
   ],
   "source": [
    "n_features = aux_train_set.features.shape[1]; n_features"
   ]
  },
  {
   "cell_type": "markdown",
   "metadata": {
    "heading_collapsed": true
   },
   "source": [
    "### Fully connected network"
   ]
  },
  {
   "cell_type": "code",
   "execution_count": 10,
   "metadata": {
    "hidden": true
   },
   "outputs": [],
   "source": [
    "fc = build_fc_model(2, 2, compile=True, lr=0.1)"
   ]
  },
  {
   "cell_type": "code",
   "execution_count": 11,
   "metadata": {
    "hidden": true
   },
   "outputs": [
    {
     "name": "stdout",
     "output_type": "stream",
     "text": [
      "_________________________________________________________________\n",
      "Layer (type)                 Output Shape              Param #   \n",
      "=================================================================\n",
      "input_1 (InputLayer)         (None, 2)                 0         \n",
      "_________________________________________________________________\n",
      "dense_1 (Dense)              (None, 2)                 6         \n",
      "=================================================================\n",
      "Total params: 6\n",
      "Trainable params: 6\n",
      "Non-trainable params: 0\n",
      "_________________________________________________________________\n"
     ]
    }
   ],
   "source": [
    "fc.summary()"
   ]
  },
  {
   "cell_type": "code",
   "execution_count": 13,
   "metadata": {
    "hidden": true
   },
   "outputs": [
    {
     "data": {
      "application/vnd.jupyter.widget-view+json": {
       "model_id": "3e3f565879684504a3687e720c6cdc3a",
       "version_major": 2,
       "version_minor": 0
      },
      "text/html": [
       "<p>Failed to display Jupyter Widget of type <code>HBox</code>.</p>\n",
       "<p>\n",
       "  If you're reading this message in the Jupyter Notebook or JupyterLab Notebook, it may mean\n",
       "  that the widgets JavaScript is still loading. If this message persists, it\n",
       "  likely means that the widgets JavaScript library is either not installed or\n",
       "  not enabled. See the <a href=\"https://ipywidgets.readthedocs.io/en/stable/user_install.html\">Jupyter\n",
       "  Widgets Documentation</a> for setup instructions.\n",
       "</p>\n",
       "<p>\n",
       "  If you're reading this message in another frontend (for example, a static\n",
       "  rendering on GitHub or <a href=\"https://nbviewer.jupyter.org/\">NBViewer</a>),\n",
       "  it may mean that your frontend doesn't currently support widgets.\n",
       "</p>\n"
      ],
      "text/plain": [
       "HBox(children=(IntProgress(value=0, max=10), HTML(value='')))"
      ]
     },
     "metadata": {},
     "output_type": "display_data"
    },
    {
     "name": "stdout",
     "output_type": "stream",
     "text": [
      "\n"
     ]
    }
   ],
   "source": [
    "trn_scores, test_scores, preds = ensemble_scores(\n",
    "    fc, 10,\n",
    "    train_set.features, train_set.targets,\n",
    "    test_set.features, test_set.targets,\n",
    "    epochs=30, batch_size=4096, verbose=0,\n",
    ")"
   ]
  },
  {
   "cell_type": "code",
   "execution_count": 17,
   "metadata": {
    "hidden": true
   },
   "outputs": [
    {
     "data": {
      "text/plain": [
       "[1.0129184318453153,\n",
       " 1.0127042319649044,\n",
       " 1.012294478162556,\n",
       " 1.012756661207207,\n",
       " 1.0125142742484778,\n",
       " 1.012048500136013,\n",
       " 1.0122905868857945,\n",
       " 1.0124105413272844,\n",
       " 1.0119452775149462,\n",
       " 1.0123264286334892]"
      ]
     },
     "execution_count": 17,
     "metadata": {},
     "output_type": "execute_result"
    }
   ],
   "source": [
    "test_scores"
   ]
  },
  {
   "cell_type": "code",
   "execution_count": 28,
   "metadata": {
    "hidden": true
   },
   "outputs": [
    {
     "name": "stdout",
     "output_type": "stream",
     "text": [
      "Ensemble test score = 1.012333025444975\n",
      "Saved results in /export/home/srasp/repositories/ppnn/results/csv_files/fc_15.csv\n"
     ]
    }
   ],
   "source": [
    "save_ensemble(preds, test_set, 'fc_15')"
   ]
  },
  {
   "cell_type": "markdown",
   "metadata": {
    "heading_collapsed": true
   },
   "source": [
    "### Fully connected network with auxiliary data"
   ]
  },
  {
   "cell_type": "code",
   "execution_count": 39,
   "metadata": {
    "hidden": true
   },
   "outputs": [],
   "source": [
    "fc_aux = build_fc_model(n_features, 2, compile=True, lr=0.02)"
   ]
  },
  {
   "cell_type": "code",
   "execution_count": 40,
   "metadata": {
    "hidden": true
   },
   "outputs": [
    {
     "name": "stdout",
     "output_type": "stream",
     "text": [
      "_________________________________________________________________\n",
      "Layer (type)                 Output Shape              Param #   \n",
      "=================================================================\n",
      "input_5 (InputLayer)         (None, 40)                0         \n",
      "_________________________________________________________________\n",
      "dense_5 (Dense)              (None, 2)                 82        \n",
      "=================================================================\n",
      "Total params: 82\n",
      "Trainable params: 82\n",
      "Non-trainable params: 0\n",
      "_________________________________________________________________\n"
     ]
    }
   ],
   "source": [
    "fc_aux.summary()"
   ]
  },
  {
   "cell_type": "code",
   "execution_count": 43,
   "metadata": {
    "hidden": true
   },
   "outputs": [
    {
     "data": {
      "application/vnd.jupyter.widget-view+json": {
       "model_id": "647ffd08523a418e848cf466cbfd612f",
       "version_major": 2,
       "version_minor": 0
      },
      "text/html": [
       "<p>Failed to display Jupyter Widget of type <code>HBox</code>.</p>\n",
       "<p>\n",
       "  If you're reading this message in the Jupyter Notebook or JupyterLab Notebook, it may mean\n",
       "  that the widgets JavaScript is still loading. If this message persists, it\n",
       "  likely means that the widgets JavaScript library is either not installed or\n",
       "  not enabled. See the <a href=\"https://ipywidgets.readthedocs.io/en/stable/user_install.html\">Jupyter\n",
       "  Widgets Documentation</a> for setup instructions.\n",
       "</p>\n",
       "<p>\n",
       "  If you're reading this message in another frontend (for example, a static\n",
       "  rendering on GitHub or <a href=\"https://nbviewer.jupyter.org/\">NBViewer</a>),\n",
       "  it may mean that your frontend doesn't currently support widgets.\n",
       "</p>\n"
      ],
      "text/plain": [
       "HBox(children=(IntProgress(value=0, max=10), HTML(value='')))"
      ]
     },
     "metadata": {},
     "output_type": "display_data"
    },
    {
     "name": "stdout",
     "output_type": "stream",
     "text": [
      "\n"
     ]
    }
   ],
   "source": [
    "trn_scores, test_scores, preds = ensemble_scores(\n",
    "    fc_aux, 10,\n",
    "    aux_train_set.features, aux_train_set.targets,\n",
    "    aux_test_set.features, aux_test_set.targets,\n",
    "    epochs=30, batch_size=1024, verbose=0,\n",
    ")"
   ]
  },
  {
   "cell_type": "code",
   "execution_count": 44,
   "metadata": {
    "hidden": true
   },
   "outputs": [
    {
     "data": {
      "text/plain": [
       "[0.9144555258888823,\n",
       " 0.9137016375543812,\n",
       " 0.9182925124955492,\n",
       " 0.9234101901672326,\n",
       " 0.9260401680091928,\n",
       " 0.9197163654858257,\n",
       " 0.9210973829235432,\n",
       " 0.9152023871478893,\n",
       " 0.9193962684983115,\n",
       " 0.9222847539083309]"
      ]
     },
     "execution_count": 44,
     "metadata": {},
     "output_type": "execute_result"
    }
   ],
   "source": [
    "test_scores"
   ]
  },
  {
   "cell_type": "code",
   "execution_count": 45,
   "metadata": {
    "hidden": true
   },
   "outputs": [
    {
     "name": "stdout",
     "output_type": "stream",
     "text": [
      "Ensemble test score = 0.9160690354720558\n",
      "Saved results in /export/home/srasp/repositories/ppnn/results/csv_files/fc_aux_15.csv\n"
     ]
    }
   ],
   "source": [
    "save_ensemble(preds, test_set, 'fc_aux_15')"
   ]
  },
  {
   "cell_type": "markdown",
   "metadata": {
    "heading_collapsed": true
   },
   "source": [
    "### Fully connected network with station embeddings"
   ]
  },
  {
   "cell_type": "code",
   "execution_count": 46,
   "metadata": {
    "hidden": true
   },
   "outputs": [
    {
     "data": {
      "text/plain": [
       "536"
      ]
     },
     "execution_count": 46,
     "metadata": {},
     "output_type": "execute_result"
    }
   ],
   "source": [
    "emb_size = 2\n",
    "max_id = int(np.max([aux_train_set.cont_ids.max(), aux_test_set.cont_ids.max()]))\n",
    "max_id"
   ]
  },
  {
   "cell_type": "code",
   "execution_count": 47,
   "metadata": {
    "hidden": true
   },
   "outputs": [],
   "source": [
    "fc_emb = build_emb_model(2, 2, [], emb_size, max_id, compile=True, lr=0.02)"
   ]
  },
  {
   "cell_type": "code",
   "execution_count": 48,
   "metadata": {
    "hidden": true
   },
   "outputs": [
    {
     "name": "stdout",
     "output_type": "stream",
     "text": [
      "__________________________________________________________________________________________________\n",
      "Layer (type)                    Output Shape         Param #     Connected to                     \n",
      "==================================================================================================\n",
      "input_7 (InputLayer)            (None, 1)            0                                            \n",
      "__________________________________________________________________________________________________\n",
      "embedding_1 (Embedding)         (None, 1, 2)         1074        input_7[0][0]                    \n",
      "__________________________________________________________________________________________________\n",
      "input_6 (InputLayer)            (None, 2)            0                                            \n",
      "__________________________________________________________________________________________________\n",
      "flatten_1 (Flatten)             (None, 2)            0           embedding_1[0][0]                \n",
      "__________________________________________________________________________________________________\n",
      "concatenate_1 (Concatenate)     (None, 4)            0           input_6[0][0]                    \n",
      "                                                                 flatten_1[0][0]                  \n",
      "__________________________________________________________________________________________________\n",
      "dense_6 (Dense)                 (None, 2)            10          concatenate_1[0][0]              \n",
      "==================================================================================================\n",
      "Total params: 1,084\n",
      "Trainable params: 1,084\n",
      "Non-trainable params: 0\n",
      "__________________________________________________________________________________________________\n"
     ]
    }
   ],
   "source": [
    "fc_emb.summary()"
   ]
  },
  {
   "cell_type": "code",
   "execution_count": 49,
   "metadata": {
    "hidden": true
   },
   "outputs": [
    {
     "data": {
      "application/vnd.jupyter.widget-view+json": {
       "model_id": "af218083339442b4bbe90e8c2237e43a",
       "version_major": 2,
       "version_minor": 0
      },
      "text/html": [
       "<p>Failed to display Jupyter Widget of type <code>HBox</code>.</p>\n",
       "<p>\n",
       "  If you're reading this message in the Jupyter Notebook or JupyterLab Notebook, it may mean\n",
       "  that the widgets JavaScript is still loading. If this message persists, it\n",
       "  likely means that the widgets JavaScript library is either not installed or\n",
       "  not enabled. See the <a href=\"https://ipywidgets.readthedocs.io/en/stable/user_install.html\">Jupyter\n",
       "  Widgets Documentation</a> for setup instructions.\n",
       "</p>\n",
       "<p>\n",
       "  If you're reading this message in another frontend (for example, a static\n",
       "  rendering on GitHub or <a href=\"https://nbviewer.jupyter.org/\">NBViewer</a>),\n",
       "  it may mean that your frontend doesn't currently support widgets.\n",
       "</p>\n"
      ],
      "text/plain": [
       "HBox(children=(IntProgress(value=0, max=10), HTML(value='')))"
      ]
     },
     "metadata": {},
     "output_type": "display_data"
    },
    {
     "name": "stdout",
     "output_type": "stream",
     "text": [
      "\n"
     ]
    }
   ],
   "source": [
    "trn_scores, test_scores, preds = ensemble_scores(\n",
    "    fc_emb, 10,\n",
    "    [train_set.features, train_set.cont_ids], train_set.targets,\n",
    "    [test_set.features, test_set.cont_ids], test_set.targets,\n",
    "    epochs=30, batch_size=1024, verbose=0,\n",
    ")"
   ]
  },
  {
   "cell_type": "code",
   "execution_count": 50,
   "metadata": {
    "hidden": true
   },
   "outputs": [
    {
     "data": {
      "text/plain": [
       "[0.9134160970905943,\n",
       " 0.9129536976167542,\n",
       " 0.9134277858473911,\n",
       " 0.9127073982580509,\n",
       " 0.9128624608552308,\n",
       " 0.911282314291106,\n",
       " 0.9149842401850841,\n",
       " 0.916091271955339,\n",
       " 0.9166416135858159,\n",
       " 0.9119918908308128]"
      ]
     },
     "execution_count": 50,
     "metadata": {},
     "output_type": "execute_result"
    }
   ],
   "source": [
    "test_scores"
   ]
  },
  {
   "cell_type": "code",
   "execution_count": 51,
   "metadata": {
    "hidden": true
   },
   "outputs": [
    {
     "name": "stdout",
     "output_type": "stream",
     "text": [
      "Ensemble test score = 0.912276955076594\n",
      "Saved results in /export/home/srasp/repositories/ppnn/results/csv_files/fc_emb_15.csv\n"
     ]
    }
   ],
   "source": [
    "save_ensemble(preds, test_set, 'fc_emb_15')"
   ]
  },
  {
   "cell_type": "markdown",
   "metadata": {
    "heading_collapsed": true
   },
   "source": [
    "### Fully connected network with auxiliary data and station embeddings"
   ]
  },
  {
   "cell_type": "code",
   "execution_count": 52,
   "metadata": {
    "hidden": true
   },
   "outputs": [
    {
     "data": {
      "text/plain": [
       "536"
      ]
     },
     "execution_count": 52,
     "metadata": {},
     "output_type": "execute_result"
    }
   ],
   "source": [
    "emb_size = 2\n",
    "max_id = int(np.max([aux_train_set.cont_ids.max(), aux_test_set.cont_ids.max()]))\n",
    "max_id"
   ]
  },
  {
   "cell_type": "code",
   "execution_count": 53,
   "metadata": {
    "hidden": true
   },
   "outputs": [],
   "source": [
    "fc_aux_emb = build_emb_model(n_features, 2, [], emb_size, max_id, compile=True, lr=0.02)"
   ]
  },
  {
   "cell_type": "code",
   "execution_count": 54,
   "metadata": {
    "hidden": true
   },
   "outputs": [
    {
     "name": "stdout",
     "output_type": "stream",
     "text": [
      "__________________________________________________________________________________________________\n",
      "Layer (type)                    Output Shape         Param #     Connected to                     \n",
      "==================================================================================================\n",
      "input_9 (InputLayer)            (None, 1)            0                                            \n",
      "__________________________________________________________________________________________________\n",
      "embedding_2 (Embedding)         (None, 1, 2)         1074        input_9[0][0]                    \n",
      "__________________________________________________________________________________________________\n",
      "input_8 (InputLayer)            (None, 40)           0                                            \n",
      "__________________________________________________________________________________________________\n",
      "flatten_2 (Flatten)             (None, 2)            0           embedding_2[0][0]                \n",
      "__________________________________________________________________________________________________\n",
      "concatenate_2 (Concatenate)     (None, 42)           0           input_8[0][0]                    \n",
      "                                                                 flatten_2[0][0]                  \n",
      "__________________________________________________________________________________________________\n",
      "dense_7 (Dense)                 (None, 2)            86          concatenate_2[0][0]              \n",
      "==================================================================================================\n",
      "Total params: 1,160\n",
      "Trainable params: 1,160\n",
      "Non-trainable params: 0\n",
      "__________________________________________________________________________________________________\n"
     ]
    }
   ],
   "source": [
    "fc_aux_emb.summary()"
   ]
  },
  {
   "cell_type": "code",
   "execution_count": 55,
   "metadata": {
    "hidden": true
   },
   "outputs": [
    {
     "data": {
      "application/vnd.jupyter.widget-view+json": {
       "model_id": "06c44e57b563429bb2eac96605250c6f",
       "version_major": 2,
       "version_minor": 0
      },
      "text/html": [
       "<p>Failed to display Jupyter Widget of type <code>HBox</code>.</p>\n",
       "<p>\n",
       "  If you're reading this message in the Jupyter Notebook or JupyterLab Notebook, it may mean\n",
       "  that the widgets JavaScript is still loading. If this message persists, it\n",
       "  likely means that the widgets JavaScript library is either not installed or\n",
       "  not enabled. See the <a href=\"https://ipywidgets.readthedocs.io/en/stable/user_install.html\">Jupyter\n",
       "  Widgets Documentation</a> for setup instructions.\n",
       "</p>\n",
       "<p>\n",
       "  If you're reading this message in another frontend (for example, a static\n",
       "  rendering on GitHub or <a href=\"https://nbviewer.jupyter.org/\">NBViewer</a>),\n",
       "  it may mean that your frontend doesn't currently support widgets.\n",
       "</p>\n"
      ],
      "text/plain": [
       "HBox(children=(IntProgress(value=0, max=10), HTML(value='')))"
      ]
     },
     "metadata": {},
     "output_type": "display_data"
    },
    {
     "name": "stdout",
     "output_type": "stream",
     "text": [
      "\n"
     ]
    }
   ],
   "source": [
    "trn_scores, test_scores, preds = ensemble_scores(\n",
    "    fc_aux_emb, 10,\n",
    "    [aux_train_set.features, aux_train_set.cont_ids], aux_train_set.targets,\n",
    "    [aux_test_set.features, aux_test_set.cont_ids], aux_test_set.targets,\n",
    "    epochs=30, batch_size=1024, verbose=0,\n",
    ")"
   ]
  },
  {
   "cell_type": "code",
   "execution_count": 56,
   "metadata": {
    "hidden": true
   },
   "outputs": [
    {
     "data": {
      "text/plain": [
       "[0.8773318712557123,\n",
       " 0.8792898704042933,\n",
       " 0.8791169621657385,\n",
       " 0.8760316709484822,\n",
       " 0.8800153534609878,\n",
       " 0.875850746922459,\n",
       " 0.8776595033971417,\n",
       " 0.8802928969328306,\n",
       " 0.8782212627710079,\n",
       " 0.8756937369251041]"
      ]
     },
     "execution_count": 56,
     "metadata": {},
     "output_type": "execute_result"
    }
   ],
   "source": [
    "test_scores"
   ]
  },
  {
   "cell_type": "code",
   "execution_count": 57,
   "metadata": {
    "hidden": true
   },
   "outputs": [
    {
     "name": "stdout",
     "output_type": "stream",
     "text": [
      "Ensemble test score = 0.8753270056220924\n",
      "Saved results in /export/home/srasp/repositories/ppnn/results/csv_files/fc_aux_emb_15.csv\n"
     ]
    }
   ],
   "source": [
    "save_ensemble(preds, test_set, 'fc_aux_emb_15')"
   ]
  },
  {
   "cell_type": "markdown",
   "metadata": {},
   "source": [
    "### Neural net with auxiliary data and station embeddings"
   ]
  },
  {
   "cell_type": "code",
   "execution_count": 85,
   "metadata": {},
   "outputs": [],
   "source": [
    "nn_aux_emb = build_emb_model(n_features, 2, [50], emb_size, max_id, compile=True, lr=0.01)"
   ]
  },
  {
   "cell_type": "code",
   "execution_count": 86,
   "metadata": {},
   "outputs": [
    {
     "name": "stdout",
     "output_type": "stream",
     "text": [
      "__________________________________________________________________________________________________\n",
      "Layer (type)                    Output Shape         Param #     Connected to                     \n",
      "==================================================================================================\n",
      "input_21 (InputLayer)           (None, 1)            0                                            \n",
      "__________________________________________________________________________________________________\n",
      "embedding_8 (Embedding)         (None, 1, 2)         1074        input_21[0][0]                   \n",
      "__________________________________________________________________________________________________\n",
      "input_20 (InputLayer)           (None, 40)           0                                            \n",
      "__________________________________________________________________________________________________\n",
      "flatten_8 (Flatten)             (None, 2)            0           embedding_8[0][0]                \n",
      "__________________________________________________________________________________________________\n",
      "concatenate_8 (Concatenate)     (None, 42)           0           input_20[0][0]                   \n",
      "                                                                 flatten_8[0][0]                  \n",
      "__________________________________________________________________________________________________\n",
      "dense_18 (Dense)                (None, 50)           2150        concatenate_8[0][0]              \n",
      "__________________________________________________________________________________________________\n",
      "dense_19 (Dense)                (None, 2)            102         dense_18[0][0]                   \n",
      "==================================================================================================\n",
      "Total params: 3,326\n",
      "Trainable params: 3,326\n",
      "Non-trainable params: 0\n",
      "__________________________________________________________________________________________________\n"
     ]
    }
   ],
   "source": [
    "nn_aux_emb.summary()"
   ]
  },
  {
   "cell_type": "code",
   "execution_count": 87,
   "metadata": {},
   "outputs": [
    {
     "data": {
      "application/vnd.jupyter.widget-view+json": {
       "model_id": "1649dc19ca6545cf934d84f0e536e982",
       "version_major": 2,
       "version_minor": 0
      },
      "text/html": [
       "<p>Failed to display Jupyter Widget of type <code>HBox</code>.</p>\n",
       "<p>\n",
       "  If you're reading this message in the Jupyter Notebook or JupyterLab Notebook, it may mean\n",
       "  that the widgets JavaScript is still loading. If this message persists, it\n",
       "  likely means that the widgets JavaScript library is either not installed or\n",
       "  not enabled. See the <a href=\"https://ipywidgets.readthedocs.io/en/stable/user_install.html\">Jupyter\n",
       "  Widgets Documentation</a> for setup instructions.\n",
       "</p>\n",
       "<p>\n",
       "  If you're reading this message in another frontend (for example, a static\n",
       "  rendering on GitHub or <a href=\"https://nbviewer.jupyter.org/\">NBViewer</a>),\n",
       "  it may mean that your frontend doesn't currently support widgets.\n",
       "</p>\n"
      ],
      "text/plain": [
       "HBox(children=(IntProgress(value=0, max=10), HTML(value='')))"
      ]
     },
     "metadata": {},
     "output_type": "display_data"
    },
    {
     "name": "stdout",
     "output_type": "stream",
     "text": [
      "\n"
     ]
    },
    {
     "name": "stderr",
     "output_type": "stream",
     "text": [
      "Exception in thread Thread-15:\n",
      "Traceback (most recent call last):\n",
      "  File \"/export/home/srasp/anaconda3/lib/python3.6/threading.py\", line 916, in _bootstrap_inner\n",
      "    self.run()\n",
      "  File \"/export/home/srasp/anaconda3/lib/python3.6/site-packages/tqdm/_monitor.py\", line 63, in run\n",
      "    for instance in self.tqdm_cls._instances:\n",
      "  File \"/export/home/srasp/anaconda3/lib/python3.6/_weakrefset.py\", line 60, in __iter__\n",
      "    for itemref in self.data:\n",
      "RuntimeError: Set changed size during iteration\n",
      "\n"
     ]
    },
    {
     "name": "stdout",
     "output_type": "stream",
     "text": [
      "\n"
     ]
    }
   ],
   "source": [
    "trn_scores, test_scores, preds = ensemble_scores(\n",
    "    nn_aux_emb, 10,\n",
    "    [aux_train_set.features, aux_train_set.cont_ids], aux_train_set.targets,\n",
    "    [aux_test_set.features, aux_test_set.cont_ids], aux_test_set.targets,\n",
    "    epochs=30, batch_size=1024, verbose=0,\n",
    ")"
   ]
  },
  {
   "cell_type": "code",
   "execution_count": 88,
   "metadata": {},
   "outputs": [
    {
     "data": {
      "text/plain": [
       "([0.8480887064656757,\n",
       "  0.8462630754384166,\n",
       "  0.8614147822296818,\n",
       "  0.8562129028226138,\n",
       "  0.8385955247565634,\n",
       "  0.8429744203315795,\n",
       "  0.8347998716737812,\n",
       "  0.8364794055396216,\n",
       "  0.8505500671043409,\n",
       "  0.8379988821164724],\n",
       " 0.8453377638478747,\n",
       " 0.008406849640801198)"
      ]
     },
     "execution_count": 88,
     "metadata": {},
     "output_type": "execute_result"
    }
   ],
   "source": [
    "test_scores, np.mean(test_scores), np.std(test_scores)"
   ]
  },
  {
   "cell_type": "code",
   "execution_count": 90,
   "metadata": {
    "scrolled": false
   },
   "outputs": [
    {
     "name": "stdout",
     "output_type": "stream",
     "text": [
      "Ensemble test score = 0.817190709085503\n",
      "Saved results in /export/home/srasp/repositories/ppnn/results/csv_files/nn_aux_emb_15.csv\n"
     ]
    }
   ],
   "source": [
    "save_ensemble(preds, aux_test_set, 'nn_aux_emb_15')"
   ]
  },
  {
   "cell_type": "markdown",
   "metadata": {},
   "source": [
    "## Train 2007-2015\n",
    "\n",
    "Note that the first two days of 2007 are missing."
   ]
  },
  {
   "cell_type": "code",
   "execution_count": 81,
   "metadata": {},
   "outputs": [
    {
     "name": "stdout",
     "output_type": "stream",
     "text": [
      "train set contains 3285 days\n",
      "test set contains 366 days\n"
     ]
    }
   ],
   "source": [
    "train_set_long, test_set_long = get_datasets('07_16.pkl', ['2007-01-03', '2016-01-01'], aux=False)"
   ]
  },
  {
   "cell_type": "code",
   "execution_count": 82,
   "metadata": {},
   "outputs": [
    {
     "name": "stdout",
     "output_type": "stream",
     "text": [
      "train set contains 3285 days\n",
      "test set contains 366 days\n"
     ]
    }
   ],
   "source": [
    "aux_train_set_long, aux_test_set_long = get_datasets('aux_07_16.pkl', ['2007-01-03', '2016-01-01'], aux=True)"
   ]
  },
  {
   "cell_type": "markdown",
   "metadata": {},
   "source": [
    "### Fully connected network"
   ]
  },
  {
   "cell_type": "code",
   "execution_count": 10,
   "metadata": {},
   "outputs": [],
   "source": [
    "fc = build_fc_model(2, 2, compile=True, lr=0.1)"
   ]
  },
  {
   "cell_type": "code",
   "execution_count": 11,
   "metadata": {},
   "outputs": [
    {
     "name": "stdout",
     "output_type": "stream",
     "text": [
      "_________________________________________________________________\n",
      "Layer (type)                 Output Shape              Param #   \n",
      "=================================================================\n",
      "input_1 (InputLayer)         (None, 2)                 0         \n",
      "_________________________________________________________________\n",
      "dense_1 (Dense)              (None, 2)                 6         \n",
      "=================================================================\n",
      "Total params: 6\n",
      "Trainable params: 6\n",
      "Non-trainable params: 0\n",
      "_________________________________________________________________\n"
     ]
    }
   ],
   "source": [
    "fc.summary()"
   ]
  },
  {
   "cell_type": "code",
   "execution_count": 13,
   "metadata": {},
   "outputs": [
    {
     "data": {
      "application/vnd.jupyter.widget-view+json": {
       "model_id": "3e3f565879684504a3687e720c6cdc3a",
       "version_major": 2,
       "version_minor": 0
      },
      "text/html": [
       "<p>Failed to display Jupyter Widget of type <code>HBox</code>.</p>\n",
       "<p>\n",
       "  If you're reading this message in the Jupyter Notebook or JupyterLab Notebook, it may mean\n",
       "  that the widgets JavaScript is still loading. If this message persists, it\n",
       "  likely means that the widgets JavaScript library is either not installed or\n",
       "  not enabled. See the <a href=\"https://ipywidgets.readthedocs.io/en/stable/user_install.html\">Jupyter\n",
       "  Widgets Documentation</a> for setup instructions.\n",
       "</p>\n",
       "<p>\n",
       "  If you're reading this message in another frontend (for example, a static\n",
       "  rendering on GitHub or <a href=\"https://nbviewer.jupyter.org/\">NBViewer</a>),\n",
       "  it may mean that your frontend doesn't currently support widgets.\n",
       "</p>\n"
      ],
      "text/plain": [
       "HBox(children=(IntProgress(value=0, max=10), HTML(value='')))"
      ]
     },
     "metadata": {},
     "output_type": "display_data"
    },
    {
     "name": "stdout",
     "output_type": "stream",
     "text": [
      "\n"
     ]
    }
   ],
   "source": [
    "trn_scores, test_scores, preds = ensemble_scores(\n",
    "    fc, 2,\n",
    "    train_set_long.features, train_set_long.targets,\n",
    "    test_set_long.features, test_set_long.targets,\n",
    "    epochs=30, batch_size=4096, verbose=0,\n",
    ")"
   ]
  },
  {
   "cell_type": "code",
   "execution_count": 17,
   "metadata": {},
   "outputs": [
    {
     "data": {
      "text/plain": [
       "[1.0129184318453153,\n",
       " 1.0127042319649044,\n",
       " 1.012294478162556,\n",
       " 1.012756661207207,\n",
       " 1.0125142742484778,\n",
       " 1.012048500136013,\n",
       " 1.0122905868857945,\n",
       " 1.0124105413272844,\n",
       " 1.0119452775149462,\n",
       " 1.0123264286334892]"
      ]
     },
     "execution_count": 17,
     "metadata": {},
     "output_type": "execute_result"
    }
   ],
   "source": [
    "test_scores"
   ]
  },
  {
   "cell_type": "code",
   "execution_count": 28,
   "metadata": {},
   "outputs": [
    {
     "name": "stdout",
     "output_type": "stream",
     "text": [
      "Ensemble test score = 1.012333025444975\n",
      "Saved results in /export/home/srasp/repositories/ppnn/results/csv_files/fc_15.csv\n"
     ]
    }
   ],
   "source": [
    "save_ensemble(preds, test_set, 'fc_07-15')"
   ]
  },
  {
   "cell_type": "markdown",
   "metadata": {},
   "source": [
    "### Neural network with auxiliary data and station embeddings"
   ]
  },
  {
   "cell_type": "code",
   "execution_count": 17,
   "metadata": {},
   "outputs": [],
   "source": [
    "emb_model = build_emb_model(n_features, 2, [512], emb_size, max_id, compile=True, lr=0.002)"
   ]
  },
  {
   "cell_type": "code",
   "execution_count": 18,
   "metadata": {},
   "outputs": [
    {
     "name": "stdout",
     "output_type": "stream",
     "text": [
      "__________________________________________________________________________________________________\n",
      "Layer (type)                    Output Shape         Param #     Connected to                     \n",
      "==================================================================================================\n",
      "input_2 (InputLayer)            (None, 1)            0                                            \n",
      "__________________________________________________________________________________________________\n",
      "embedding_1 (Embedding)         (None, 1, 2)         1074        input_2[0][0]                    \n",
      "__________________________________________________________________________________________________\n",
      "input_1 (InputLayer)            (None, 40)           0                                            \n",
      "__________________________________________________________________________________________________\n",
      "flatten_1 (Flatten)             (None, 2)            0           embedding_1[0][0]                \n",
      "__________________________________________________________________________________________________\n",
      "concatenate_1 (Concatenate)     (None, 42)           0           input_1[0][0]                    \n",
      "                                                                 flatten_1[0][0]                  \n",
      "__________________________________________________________________________________________________\n",
      "dense_1 (Dense)                 (None, 512)          22016       concatenate_1[0][0]              \n",
      "__________________________________________________________________________________________________\n",
      "dense_2 (Dense)                 (None, 2)            1026        dense_1[0][0]                    \n",
      "==================================================================================================\n",
      "Total params: 24,116\n",
      "Trainable params: 24,116\n",
      "Non-trainable params: 0\n",
      "__________________________________________________________________________________________________\n"
     ]
    }
   ],
   "source": [
    "emb_model.summary()"
   ]
  },
  {
   "cell_type": "code",
   "execution_count": 27,
   "metadata": {},
   "outputs": [],
   "source": [
    "callbacks = [EarlyStopping(monitor='val_loss',patience=3)]"
   ]
  },
  {
   "cell_type": "code",
   "execution_count": 36,
   "metadata": {
    "scrolled": false
   },
   "outputs": [
    {
     "data": {
      "application/vnd.jupyter.widget-view+json": {
       "model_id": "a32c7ec611e148c28054d508133657b7",
       "version_major": 2,
       "version_minor": 0
      },
      "text/html": [
       "<p>Failed to display Jupyter Widget of type <code>HBox</code>.</p>\n",
       "<p>\n",
       "  If you're reading this message in the Jupyter Notebook or JupyterLab Notebook, it may mean\n",
       "  that the widgets JavaScript is still loading. If this message persists, it\n",
       "  likely means that the widgets JavaScript library is either not installed or\n",
       "  not enabled. See the <a href=\"https://ipywidgets.readthedocs.io/en/stable/user_install.html\">Jupyter\n",
       "  Widgets Documentation</a> for setup instructions.\n",
       "</p>\n",
       "<p>\n",
       "  If you're reading this message in another frontend (for example, a static\n",
       "  rendering on GitHub or <a href=\"https://nbviewer.jupyter.org/\">NBViewer</a>),\n",
       "  it may mean that your frontend doesn't currently support widgets.\n",
       "</p>\n"
      ],
      "text/plain": [
       "HBox(children=(IntProgress(value=0, max=5), HTML(value='')))"
      ]
     },
     "metadata": {},
     "output_type": "display_data"
    },
    {
     "name": "stdout",
     "output_type": "stream",
     "text": [
      "Epoch 1/15\n",
      " 299008/1456977 [=====>........................] - ETA: 4s - loss: 2.3259\n",
      " 348160/1456977 [======>.......................] - ETA: 4s - loss: 2.1492"
     ]
    },
    {
     "name": "stderr",
     "output_type": "stream",
     "text": [
      "Exception in thread Thread-8:\n",
      "Traceback (most recent call last):\n",
      "  File \"/export/home/srasp/anaconda3/lib/python3.6/threading.py\", line 916, in _bootstrap_inner\n",
      "    self.run()\n",
      "  File \"/export/home/srasp/anaconda3/lib/python3.6/site-packages/tqdm/_monitor.py\", line 63, in run\n",
      "    for instance in self.tqdm_cls._instances:\n",
      "  File \"/export/home/srasp/anaconda3/lib/python3.6/_weakrefset.py\", line 60, in __iter__\n",
      "    for itemref in self.data:\n",
      "RuntimeError: Set changed size during iteration\n",
      "\n"
     ]
    },
    {
     "name": "stdout",
     "output_type": "stream",
     "text": [
      "1456977/1456977 [==============================] - 6s 4us/step - loss: 1.1987\n",
      "Epoch 2/15\n",
      "1456977/1456977 [==============================] - 6s 4us/step - loss: 0.8519\n",
      "Epoch 3/15\n",
      "1456977/1456977 [==============================] - 6s 4us/step - loss: 0.8406\n",
      "Epoch 4/15\n",
      "1456977/1456977 [==============================] - 5s 3us/step - loss: 0.8330\n",
      "Epoch 5/15\n",
      "1456977/1456977 [==============================] - 6s 4us/step - loss: 0.8267\n",
      "Epoch 6/15\n",
      "1456977/1456977 [==============================] - 6s 4us/step - loss: 0.8219\n",
      "Epoch 7/15\n",
      "1456977/1456977 [==============================] - 6s 4us/step - loss: 0.8182\n",
      "Epoch 8/15\n",
      "1456977/1456977 [==============================] - 6s 4us/step - loss: 0.8142\n",
      "Epoch 9/15\n",
      "1456977/1456977 [==============================] - 6s 4us/step - loss: 0.8113\n",
      "Epoch 10/15\n",
      "1456977/1456977 [==============================] - 6s 4us/step - loss: 0.8071\n",
      "Epoch 11/15\n",
      "1456977/1456977 [==============================] - 6s 4us/step - loss: 0.8045\n",
      "Epoch 12/15\n",
      "1456977/1456977 [==============================] - 6s 4us/step - loss: 0.8017\n",
      "Epoch 13/15\n",
      "1456977/1456977 [==============================] - 6s 4us/step - loss: 0.7994\n",
      "Epoch 14/15\n",
      "1456977/1456977 [==============================] - 6s 4us/step - loss: 0.7974\n",
      "Epoch 15/15\n",
      "1456977/1456977 [==============================] - 6s 4us/step - loss: 0.7958\n",
      "Epoch 1/15\n",
      "1456977/1456977 [==============================] - 6s 4us/step - loss: 1.2074\n",
      "Epoch 2/15\n",
      "1456977/1456977 [==============================] - 6s 4us/step - loss: 0.8577\n",
      "Epoch 3/15\n",
      "1456977/1456977 [==============================] - 6s 4us/step - loss: 0.8461\n",
      "Epoch 4/15\n",
      "1456977/1456977 [==============================] - 6s 4us/step - loss: 0.8372\n",
      "Epoch 5/15\n",
      "1456977/1456977 [==============================] - 6s 4us/step - loss: 0.8302\n",
      "Epoch 6/15\n",
      "1456977/1456977 [==============================] - 6s 4us/step - loss: 0.8250\n",
      "Epoch 7/15\n",
      "1456977/1456977 [==============================] - 6s 4us/step - loss: 0.8206\n",
      "Epoch 8/15\n",
      "1456977/1456977 [==============================] - 6s 4us/step - loss: 0.8161\n",
      "Epoch 9/15\n",
      "1456977/1456977 [==============================] - 6s 4us/step - loss: 0.8134\n",
      "Epoch 10/15\n",
      "1456977/1456977 [==============================] - 6s 4us/step - loss: 0.8096\n",
      "Epoch 11/15\n",
      "1456977/1456977 [==============================] - 6s 4us/step - loss: 0.8072\n",
      "Epoch 12/15\n",
      "1456977/1456977 [==============================] - 6s 4us/step - loss: 0.8055\n",
      "Epoch 13/15\n",
      "1456977/1456977 [==============================] - 6s 4us/step - loss: 0.8019\n",
      "Epoch 14/15\n",
      "1456977/1456977 [==============================] - 6s 4us/step - loss: 0.7994\n",
      "Epoch 15/15\n",
      "1456977/1456977 [==============================] - 6s 4us/step - loss: 0.7974\n",
      "Epoch 1/15\n",
      "1456977/1456977 [==============================] - 6s 4us/step - loss: 1.1905\n",
      "Epoch 2/15\n",
      "1456977/1456977 [==============================] - 6s 4us/step - loss: 0.8569\n",
      "Epoch 3/15\n",
      "1456977/1456977 [==============================] - 6s 4us/step - loss: 0.8442\n",
      "Epoch 4/15\n",
      "1456977/1456977 [==============================] - 6s 4us/step - loss: 0.8344\n",
      "Epoch 5/15\n",
      "1456977/1456977 [==============================] - 6s 4us/step - loss: 0.8274\n",
      "Epoch 6/15\n",
      "1456977/1456977 [==============================] - 6s 4us/step - loss: 0.8207\n",
      "Epoch 7/15\n",
      "1456977/1456977 [==============================] - 6s 4us/step - loss: 0.8161\n",
      "Epoch 8/15\n",
      "1456977/1456977 [==============================] - 6s 4us/step - loss: 0.8120\n",
      "Epoch 9/15\n",
      "1456977/1456977 [==============================] - 6s 4us/step - loss: 0.8081\n",
      "Epoch 10/15\n",
      "1456977/1456977 [==============================] - 6s 4us/step - loss: 0.8050\n",
      "Epoch 11/15\n",
      "1456977/1456977 [==============================] - 6s 4us/step - loss: 0.8030\n",
      "Epoch 12/15\n",
      "1456977/1456977 [==============================] - 6s 4us/step - loss: 0.7999\n",
      "Epoch 13/15\n",
      "1456977/1456977 [==============================] - 6s 4us/step - loss: 0.7973\n",
      "Epoch 14/15\n",
      "1456977/1456977 [==============================] - 6s 4us/step - loss: 0.7950\n",
      "Epoch 15/15\n",
      "1456977/1456977 [==============================] - 6s 4us/step - loss: 0.7927\n",
      "Epoch 1/15\n",
      "1456977/1456977 [==============================] - 6s 4us/step - loss: 1.2144\n",
      "Epoch 2/15\n",
      "1456977/1456977 [==============================] - 6s 4us/step - loss: 0.8536\n",
      "Epoch 3/15\n",
      "1456977/1456977 [==============================] - 6s 4us/step - loss: 0.8432\n",
      "Epoch 4/15\n",
      "1456977/1456977 [==============================] - 6s 4us/step - loss: 0.8356\n",
      "Epoch 5/15\n",
      "1456977/1456977 [==============================] - 6s 4us/step - loss: 0.8292\n",
      "Epoch 6/15\n",
      "1456977/1456977 [==============================] - 6s 4us/step - loss: 0.8241\n",
      "Epoch 7/15\n",
      "1456977/1456977 [==============================] - 6s 4us/step - loss: 0.8191\n",
      "Epoch 8/15\n",
      "1456977/1456977 [==============================] - 6s 4us/step - loss: 0.8148\n",
      "Epoch 9/15\n",
      "1456977/1456977 [==============================] - 6s 4us/step - loss: 0.8111\n",
      "Epoch 10/15\n",
      "1456977/1456977 [==============================] - 6s 4us/step - loss: 0.8078\n",
      "Epoch 11/15\n",
      "1456977/1456977 [==============================] - 5s 4us/step - loss: 0.8054\n",
      "Epoch 12/15\n",
      "1456977/1456977 [==============================] - 6s 4us/step - loss: 0.8018\n",
      "Epoch 13/15\n",
      "1456977/1456977 [==============================] - 6s 4us/step - loss: 0.7990\n",
      "Epoch 14/15\n",
      "1456977/1456977 [==============================] - 6s 4us/step - loss: 0.7969\n",
      "Epoch 15/15\n",
      "1456977/1456977 [==============================] - 6s 4us/step - loss: 0.7946\n",
      "Epoch 1/15\n",
      "1456977/1456977 [==============================] - 5s 4us/step - loss: 1.1977\n",
      "Epoch 2/15\n",
      "1456977/1456977 [==============================] - 5s 4us/step - loss: 0.8527\n",
      "Epoch 3/15\n",
      "1456977/1456977 [==============================] - 5s 4us/step - loss: 0.8417\n",
      "Epoch 4/15\n",
      "1456977/1456977 [==============================] - 6s 4us/step - loss: 0.8341\n",
      "Epoch 5/15\n",
      "1456977/1456977 [==============================] - 6s 4us/step - loss: 0.8280\n",
      "Epoch 6/15\n",
      "1456977/1456977 [==============================] - 6s 4us/step - loss: 0.8233\n",
      "Epoch 7/15\n",
      "1456977/1456977 [==============================] - 6s 4us/step - loss: 0.8189\n",
      "Epoch 8/15\n",
      "1456977/1456977 [==============================] - 6s 4us/step - loss: 0.8156\n",
      "Epoch 9/15\n",
      "1456977/1456977 [==============================] - 6s 4us/step - loss: 0.8118\n",
      "Epoch 10/15\n",
      "1456977/1456977 [==============================] - 6s 4us/step - loss: 0.8084\n",
      "Epoch 11/15\n",
      "1456977/1456977 [==============================] - 6s 4us/step - loss: 0.8058\n",
      "Epoch 12/15\n",
      "1456977/1456977 [==============================] - 6s 4us/step - loss: 0.8036\n",
      "Epoch 13/15\n",
      "1456977/1456977 [==============================] - 6s 4us/step - loss: 0.8006\n",
      "Epoch 14/15\n",
      "1456977/1456977 [==============================] - 5s 4us/step - loss: 0.7980\n",
      "Epoch 15/15\n",
      "1456977/1456977 [==============================] - 6s 4us/step - loss: 0.7962\n",
      "\n"
     ]
    }
   ],
   "source": [
    "trn_scores, test_scores, preds = ensemble_scores(\n",
    "    emb_model, 5,\n",
    "    [aux_train_set.features, aux_train_set.cont_ids], aux_train_set.targets,\n",
    "    [aux_test_set.features, aux_test_set.cont_ids], aux_test_set.targets,\n",
    "    epochs=15, batch_size=4096, verbose=1, callbacks=None, \n",
    ")"
   ]
  },
  {
   "cell_type": "code",
   "execution_count": 37,
   "metadata": {},
   "outputs": [
    {
     "data": {
      "text/plain": [
       "[0.7845812783046421,\n",
       " 0.785648775726266,\n",
       " 0.7820323736911864,\n",
       " 0.7842717505423521,\n",
       " 0.779894316266704]"
      ]
     },
     "execution_count": 37,
     "metadata": {},
     "output_type": "execute_result"
    }
   ],
   "source": [
    "test_scores"
   ]
  },
  {
   "cell_type": "code",
   "execution_count": 38,
   "metadata": {},
   "outputs": [
    {
     "name": "stdout",
     "output_type": "stream",
     "text": [
      "Ensemble test score = 0.7754476315144285\n"
     ]
    }
   ],
   "source": [
    "save_ensemble(preds, aux_test_set, '', False)"
   ]
  },
  {
   "cell_type": "code",
   "execution_count": null,
   "metadata": {},
   "outputs": [],
   "source": []
  }
 ],
 "metadata": {
  "kernelspec": {
   "display_name": "Python 3",
   "language": "python",
   "name": "python3"
  },
  "language_info": {
   "codemirror_mode": {
    "name": "ipython",
    "version": 3
   },
   "file_extension": ".py",
   "mimetype": "text/x-python",
   "name": "python",
   "nbconvert_exporter": "python",
   "pygments_lexer": "ipython3",
   "version": "3.6.4"
  },
  "toc": {
   "nav_menu": {},
   "number_sections": true,
   "sideBar": true,
   "skip_h1_title": true,
   "title_cell": "Table of Contents",
   "title_sidebar": "Contents",
   "toc_cell": false,
   "toc_position": {},
   "toc_section_display": true,
   "toc_window_display": false
  }
 },
 "nbformat": 4,
 "nbformat_minor": 2
}
