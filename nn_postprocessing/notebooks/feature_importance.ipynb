{
 "cells": [
  {
   "cell_type": "markdown",
   "metadata": {
    "toc": "true"
   },
   "source": [
    " # Table of Contents\n",
    "<div class=\"toc\" style=\"margin-top: 1em;\"><ul class=\"toc-item\" id=\"toc-level0\"><li><span><a href=\"http://localhost:8888/notebooks/feature_importance.ipynb#Feature-importance-from-from-linear-model\" data-toc-modified-id=\"Feature-importance-from-from-linear-model-1\"><span class=\"toc-item-num\">1&nbsp;&nbsp;</span>Feature importance from from linear model</a></span><ul class=\"toc-item\"><li><span><a href=\"http://localhost:8888/notebooks/feature_importance.ipynb#Train-the-model-and-get-reference-score\" data-toc-modified-id=\"Train-the-model-and-get-reference-score-1.1\"><span class=\"toc-item-num\">1.1&nbsp;&nbsp;</span>Train the model and get reference score</a></span></li><li><span><a href=\"http://localhost:8888/notebooks/feature_importance.ipynb#Get-random-permutation-scores-and-compute-feature-importance\" data-toc-modified-id=\"Get-random-permutation-scores-and-compute-feature-importance-1.2\"><span class=\"toc-item-num\">1.2&nbsp;&nbsp;</span>Get random permutation scores and compute feature importance</a></span></li></ul></li><li><span><a href=\"http://localhost:8888/notebooks/feature_importance.ipynb#With-embeddings\" data-toc-modified-id=\"With-embeddings-2\"><span class=\"toc-item-num\">2&nbsp;&nbsp;</span>With embeddings</a></span><ul class=\"toc-item\"><li><span><a href=\"http://localhost:8888/notebooks/feature_importance.ipynb#Train-the-model\" data-toc-modified-id=\"Train-the-model-2.1\"><span class=\"toc-item-num\">2.1&nbsp;&nbsp;</span>Train the model</a></span></li><li><span><a href=\"http://localhost:8888/notebooks/feature_importance.ipynb#Get-feature-importance\" data-toc-modified-id=\"Get-feature-importance-2.2\"><span class=\"toc-item-num\">2.2&nbsp;&nbsp;</span>Get feature importance</a></span></li></ul></li><li><span><a href=\"http://localhost:8888/notebooks/feature_importance.ipynb#Neural-net-with-hidden-layer-and-embeddings\" data-toc-modified-id=\"Neural-net-with-hidden-layer-and-embeddings-3\"><span class=\"toc-item-num\">3&nbsp;&nbsp;</span>Neural net with hidden layer and embeddings</a></span><ul class=\"toc-item\"><li><span><a href=\"http://localhost:8888/notebooks/feature_importance.ipynb#Train-the-model\" data-toc-modified-id=\"Train-the-model-3.1\"><span class=\"toc-item-num\">3.1&nbsp;&nbsp;</span>Train the model</a></span></li><li><span><a href=\"http://localhost:8888/notebooks/feature_importance.ipynb#Evaluate-feature-importance\" data-toc-modified-id=\"Evaluate-feature-importance-3.2\"><span class=\"toc-item-num\">3.2&nbsp;&nbsp;</span>Evaluate feature importance</a></span></li></ul></li><li><span><a href=\"http://localhost:8888/notebooks/feature_importance.ipynb#Throw-away-&quot;useless&quot;-features\" data-toc-modified-id=\"Throw-away-&quot;useless&quot;-features-4\"><span class=\"toc-item-num\">4&nbsp;&nbsp;</span>Throw away \"useless\" features</a></span></li><li><span><a href=\"http://localhost:8888/notebooks/feature_importance.ipynb#Get-data\" data-toc-modified-id=\"Get-data-5\"><span class=\"toc-item-num\">5&nbsp;&nbsp;</span>Get data</a></span></li><li><span><a href=\"http://localhost:8888/notebooks/feature_importance.ipynb#Build-a-neural-net-with-only-one-output\" data-toc-modified-id=\"Build-a-neural-net-with-only-one-output-6\"><span class=\"toc-item-num\">6&nbsp;&nbsp;</span>Build a neural net with only one output</a></span></li><li><span><a href=\"http://localhost:8888/notebooks/feature_importance.ipynb#BOOOOOST\" data-toc-modified-id=\"BOOOOOST-7\"><span class=\"toc-item-num\">7&nbsp;&nbsp;</span>BOOOOOST</a></span></li><li><span><a href=\"http://localhost:8888/notebooks/feature_importance.ipynb#CRPS-objective-function-for-XGBoost\" data-toc-modified-id=\"CRPS-objective-function-for-XGBoost-8\"><span class=\"toc-item-num\">8&nbsp;&nbsp;</span>CRPS objective function for XGBoost</a></span></li></ul></div>"
   ]
  },
  {
   "cell_type": "markdown",
   "metadata": {},
   "source": [
    "# Feature importance\n",
    "\n",
    "The skill of our models certainly increases with auxiliary variables. Of course we would like to know which of the 38 variables we added actually helped the predictions.\n",
    "\n",
    "Random permutation importance gives us some insight. For this we randomly permute one feature at a time from the test set and evaluate the decrease in skill.\n",
    "\n",
    "**TODO**\n",
    "- Does pruning give more stable validation results? If yes, restructure paper? That would also necessitate rerunning all experiments. \n",
    "    - How do I find out. Run simple fc and \"best\" experiment several times and get variation.\n",
    "    - But before I need to see if hyper-parameters have to be retuned."
   ]
  },
  {
   "cell_type": "code",
   "execution_count": 1,
   "metadata": {
    "collapsed": true
   },
   "outputs": [],
   "source": [
    "%load_ext autoreload\n",
    "%autoreload 2"
   ]
  },
  {
   "cell_type": "code",
   "execution_count": 2,
   "metadata": {},
   "outputs": [
    {
     "name": "stderr",
     "output_type": "stream",
     "text": [
      "Using TensorFlow backend.\n"
     ]
    },
    {
     "name": "stdout",
     "output_type": "stream",
     "text": [
      "Anaconda environment: py36_keras\n",
      "Darwin 17.4.0\n"
     ]
    }
   ],
   "source": [
    "%matplotlib inline\n",
    "from nn_src.imports import *"
   ]
  },
  {
   "cell_type": "code",
   "execution_count": 3,
   "metadata": {
    "collapsed": true
   },
   "outputs": [],
   "source": [
    "DATA_DIR = '/Users/stephanrasp/data/'"
   ]
  },
  {
   "cell_type": "code",
   "execution_count": 6,
   "metadata": {},
   "outputs": [],
   "source": [
    "# Open the dataset with training = 2015 and test = 2016\n",
    "with open(DATA_DIR + 'pickled/aux_15_16.pkl', 'rb') as f:\n",
    "    aux_train_set, aux_test_set = pickle.load(f)"
   ]
  },
  {
   "cell_type": "markdown",
   "metadata": {},
   "source": [
    "## Feature importance from from linear model"
   ]
  },
  {
   "cell_type": "markdown",
   "metadata": {},
   "source": [
    "### Train the model and get reference score"
   ]
  },
  {
   "cell_type": "code",
   "execution_count": 25,
   "metadata": {},
   "outputs": [
    {
     "data": {
      "text/plain": [
       "40"
      ]
     },
     "execution_count": 25,
     "metadata": {},
     "output_type": "execute_result"
    }
   ],
   "source": [
    "n_features = aux_train_set.features.shape[1]; n_features"
   ]
  },
  {
   "cell_type": "code",
   "execution_count": 13,
   "metadata": {},
   "outputs": [],
   "source": [
    "aux_fc_model = build_fc_model(\n",
    "    n_features=n_features,\n",
    "    n_outputs=2,\n",
    "    compile=True,\n",
    "    lr=0.01\n",
    ")"
   ]
  },
  {
   "cell_type": "code",
   "execution_count": 14,
   "metadata": {},
   "outputs": [
    {
     "name": "stdout",
     "output_type": "stream",
     "text": [
      "_________________________________________________________________\n",
      "Layer (type)                 Output Shape              Param #   \n",
      "=================================================================\n",
      "input_2 (InputLayer)         (None, 40)                0         \n",
      "_________________________________________________________________\n",
      "dense_2 (Dense)              (None, 2)                 82        \n",
      "=================================================================\n",
      "Total params: 82\n",
      "Trainable params: 82\n",
      "Non-trainable params: 0\n",
      "_________________________________________________________________\n"
     ]
    }
   ],
   "source": [
    "aux_fc_model.summary()"
   ]
  },
  {
   "cell_type": "code",
   "execution_count": 15,
   "metadata": {},
   "outputs": [
    {
     "data": {
      "text/plain": [
       "<keras.callbacks.History at 0x120d34ef0>"
      ]
     },
     "execution_count": 15,
     "metadata": {},
     "output_type": "execute_result"
    }
   ],
   "source": [
    "aux_fc_model.fit(\n",
    "    aux_train_set.features, aux_train_set.targets, epochs=50, batch_size=1024, verbose=0);"
   ]
  },
  {
   "cell_type": "code",
   "execution_count": 16,
   "metadata": {},
   "outputs": [
    {
     "data": {
      "text/plain": [
       "0.95408068327495887"
      ]
     },
     "execution_count": 16,
     "metadata": {},
     "output_type": "execute_result"
    }
   ],
   "source": [
    "aux_fc_model.evaluate(aux_train_set.features, aux_train_set.targets, 4096, 0)"
   ]
  },
  {
   "cell_type": "code",
   "execution_count": 17,
   "metadata": {},
   "outputs": [
    {
     "data": {
      "text/plain": [
       "0.91562945245394589"
      ]
     },
     "execution_count": 17,
     "metadata": {},
     "output_type": "execute_result"
    }
   ],
   "source": [
    "ref_score = aux_fc_model.evaluate(aux_test_set.features, aux_test_set.targets, 4096, 0); ref_score"
   ]
  },
  {
   "cell_type": "markdown",
   "metadata": {},
   "source": [
    "### Get random permutation scores and compute feature importance"
   ]
  },
  {
   "cell_type": "code",
   "execution_count": 33,
   "metadata": {
    "collapsed": true
   },
   "outputs": [],
   "source": [
    "def eval_shuf(m, idx, emb=False):\n",
    "    x_shuf = aux_test_set.features.copy()\n",
    "    x_shuf[:, idx] = np.random.permutation(x_shuf[:, idx])\n",
    "    x = [x_shuf, aux_test_set.cont_ids] if emb else x_shuf\n",
    "    return m.evaluate(x, aux_test_set.targets, 4096, 0)"
   ]
  },
  {
   "cell_type": "code",
   "execution_count": 34,
   "metadata": {
    "collapsed": true
   },
   "outputs": [],
   "source": [
    "def perm_imp(m):\n",
    "    scores = [eval_shuf(m, i) for i in range(len(aux_test_set.feature_names))]\n",
    "    return np.array(scores) - ref_score"
   ]
  },
  {
   "cell_type": "code",
   "execution_count": 36,
   "metadata": {},
   "outputs": [],
   "source": [
    "fimp = perm_imp(aux_fc_model)"
   ]
  },
  {
   "cell_type": "code",
   "execution_count": 37,
   "metadata": {},
   "outputs": [
    {
     "data": {
      "image/png": "[encoded data removed]",
      "text/plain": [
       "<matplotlib.figure.Figure at 0x11363d6a0>"
      ]
     },
     "metadata": {},
     "output_type": "display_data"
    }
   ],
   "source": [
    "fig, ax = plt.subplots(figsize=(12, 5))\n",
    "sns.barplot(y=fimp, x=aux_test_set.feature_names, ax=ax)\n",
    "plt.xticks(rotation=90);"
   ]
  },
  {
   "cell_type": "code",
   "execution_count": 38,
   "metadata": {},
   "outputs": [
    {
     "data": {
      "image/png": "[encoded data removed]",
      "text/plain": [
       "<matplotlib.figure.Figure at 0x12103cb00>"
      ]
     },
     "metadata": {},
     "output_type": "display_data"
    }
   ],
   "source": [
    "# Do not plot first bar\n",
    "fig, ax = plt.subplots(figsize=(12, 5))\n",
    "sns.barplot(y=fimp[1:], x=aux_test_set.feature_names[1:], ax=ax)\n",
    "plt.xticks(rotation=90);"
   ]
  },
  {
   "cell_type": "markdown",
   "metadata": {},
   "source": [
    "## With embeddings"
   ]
  },
  {
   "cell_type": "markdown",
   "metadata": {},
   "source": [
    "### Train the model"
   ]
  },
  {
   "cell_type": "code",
   "execution_count": 27,
   "metadata": {},
   "outputs": [
    {
     "data": {
      "text/plain": [
       "536"
      ]
     },
     "execution_count": 27,
     "metadata": {},
     "output_type": "execute_result"
    }
   ],
   "source": [
    "emb_size = 2\n",
    "max_id = int(np.max([aux_train_set.cont_ids.max(), aux_test_set.cont_ids.max()]))\n",
    "max_id"
   ]
  },
  {
   "cell_type": "code",
   "execution_count": 28,
   "metadata": {},
   "outputs": [
    {
     "name": "stdout",
     "output_type": "stream",
     "text": [
      "____________________________________________________________________________________________________\n",
      "Layer (type)                     Output Shape          Param #     Connected to                     \n",
      "====================================================================================================\n",
      "input_4 (InputLayer)             (None, 1)             0                                            \n",
      "____________________________________________________________________________________________________\n",
      "embedding_1 (Embedding)          (None, 1, 2)          1074        input_4[0][0]                    \n",
      "____________________________________________________________________________________________________\n",
      "input_3 (InputLayer)             (None, 40)            0                                            \n",
      "____________________________________________________________________________________________________\n",
      "flatten_1 (Flatten)              (None, 2)             0           embedding_1[0][0]                \n",
      "____________________________________________________________________________________________________\n",
      "concatenate_1 (Concatenate)      (None, 42)            0           input_3[0][0]                    \n",
      "                                                                   flatten_1[0][0]                  \n",
      "____________________________________________________________________________________________________\n",
      "dense_3 (Dense)                  (None, 2)             86          concatenate_1[0][0]              \n",
      "====================================================================================================\n",
      "Total params: 1,160\n",
      "Trainable params: 1,160\n",
      "Non-trainable params: 0\n",
      "____________________________________________________________________________________________________\n"
     ]
    }
   ],
   "source": [
    "aux_emb_model = build_emb_model(n_features, 2, [], emb_size, max_id, compile=True, lr=0.01)\n",
    "aux_emb_model.summary()"
   ]
  },
  {
   "cell_type": "code",
   "execution_count": 29,
   "metadata": {
    "collapsed": true
   },
   "outputs": [
    {
     "name": "stdout",
     "output_type": "stream",
     "text": [
      "Epoch 1/50\n",
      "180849/180849 [==============================] - 1s - loss: 3.2274     \n",
      "Epoch 2/50\n",
      "180849/180849 [==============================] - 1s - loss: 2.0904     \n",
      "Epoch 3/50\n",
      "180849/180849 [==============================] - 0s - loss: 1.7208     \n",
      "Epoch 4/50\n",
      "180849/180849 [==============================] - 0s - loss: 1.5229     \n",
      "Epoch 5/50\n",
      "180849/180849 [==============================] - 0s - loss: 1.3816     \n",
      "Epoch 6/50\n",
      "180849/180849 [==============================] - 1s - loss: 1.2773     \n",
      "Epoch 7/50\n",
      "180849/180849 [==============================] - 0s - loss: 1.1991     \n",
      "Epoch 8/50\n",
      "180849/180849 [==============================] - 0s - loss: 1.1383     \n",
      "Epoch 9/50\n",
      "180849/180849 [==============================] - 0s - loss: 1.0941     \n",
      "Epoch 10/50\n",
      "180849/180849 [==============================] - 1s - loss: 1.0594     \n",
      "Epoch 11/50\n",
      "180849/180849 [==============================] - 1s - loss: 1.0324     \n",
      "Epoch 12/50\n",
      "180849/180849 [==============================] - 0s - loss: 1.0127     \n",
      "Epoch 13/50\n",
      "180849/180849 [==============================] - 0s - loss: 0.9970     \n",
      "Epoch 14/50\n",
      "180849/180849 [==============================] - 1s - loss: 0.9844     \n",
      "Epoch 15/50\n",
      "180849/180849 [==============================] - 0s - loss: 0.9737     \n",
      "Epoch 16/50\n",
      "180849/180849 [==============================] - 1s - loss: 0.9652     \n",
      "Epoch 17/50\n",
      "180849/180849 [==============================] - 1s - loss: 0.9576     \n",
      "Epoch 18/50\n",
      "180849/180849 [==============================] - 1s - loss: 0.9513     \n",
      "Epoch 19/50\n",
      "180849/180849 [==============================] - 0s - loss: 0.9455     \n",
      "Epoch 20/50\n",
      "180849/180849 [==============================] - 1s - loss: 0.9401     \n",
      "Epoch 21/50\n",
      "180849/180849 [==============================] - 0s - loss: 0.9358     \n",
      "Epoch 22/50\n",
      "180849/180849 [==============================] - 0s - loss: 0.9313     \n",
      "Epoch 23/50\n",
      "180849/180849 [==============================] - 1s - loss: 0.9280     \n",
      "Epoch 24/50\n",
      "180849/180849 [==============================] - 1s - loss: 0.9244     \n",
      "Epoch 25/50\n",
      "180849/180849 [==============================] - 1s - loss: 0.9227     \n",
      "Epoch 26/50\n",
      "180849/180849 [==============================] - 1s - loss: 0.9202     \n",
      "Epoch 27/50\n",
      "180849/180849 [==============================] - 1s - loss: 0.9186     \n",
      "Epoch 28/50\n",
      "180849/180849 [==============================] - 1s - loss: 0.9173     \n",
      "Epoch 29/50\n",
      "180849/180849 [==============================] - 0s - loss: 0.9145     \n",
      "Epoch 30/50\n",
      "180849/180849 [==============================] - 1s - loss: 0.9139     \n",
      "Epoch 31/50\n",
      "180849/180849 [==============================] - 0s - loss: 0.9127     \n",
      "Epoch 32/50\n",
      "180849/180849 [==============================] - 0s - loss: 0.9125     \n",
      "Epoch 33/50\n",
      "180849/180849 [==============================] - 0s - loss: 0.9121     \n",
      "Epoch 34/50\n",
      "180849/180849 [==============================] - 0s - loss: 0.9108     \n",
      "Epoch 35/50\n",
      "180849/180849 [==============================] - 0s - loss: 0.9102     \n",
      "Epoch 36/50\n",
      "180849/180849 [==============================] - 0s - loss: 0.9107     \n",
      "Epoch 37/50\n",
      "180849/180849 [==============================] - 1s - loss: 0.9097     \n",
      "Epoch 38/50\n",
      "180849/180849 [==============================] - 1s - loss: 0.9093     \n",
      "Epoch 39/50\n",
      "180849/180849 [==============================] - 0s - loss: 0.9096     \n",
      "Epoch 40/50\n",
      "180849/180849 [==============================] - 0s - loss: 0.9087     \n",
      "Epoch 41/50\n",
      "180849/180849 [==============================] - 1s - loss: 0.9087     \n",
      "Epoch 42/50\n",
      "180849/180849 [==============================] - 0s - loss: 0.9083     \n",
      "Epoch 43/50\n",
      "180849/180849 [==============================] - 1s - loss: 0.9089     \n",
      "Epoch 44/50\n",
      "180849/180849 [==============================] - 1s - loss: 0.9088     \n",
      "Epoch 45/50\n",
      "180849/180849 [==============================] - 1s - loss: 0.9089     \n",
      "Epoch 46/50\n",
      "180849/180849 [==============================] - 1s - loss: 0.9085     \n",
      "Epoch 47/50\n",
      "180849/180849 [==============================] - 1s - loss: 0.9082     \n",
      "Epoch 48/50\n",
      "180849/180849 [==============================] - 0s - loss: 0.9079     \n",
      "Epoch 49/50\n",
      "180849/180849 [==============================] - 0s - loss: 0.9087     - ETA: 0\n",
      "Epoch 50/50\n",
      "180849/180849 [==============================] - 0s - loss: 0.9077     \n"
     ]
    }
   ],
   "source": [
    "aux_emb_model.fit([aux_train_set.features, aux_train_set.cont_ids], aux_train_set.targets, \n",
    "                   epochs=50, batch_size=1024, verbose=0);"
   ]
  },
  {
   "cell_type": "code",
   "execution_count": 32,
   "metadata": {},
   "outputs": [
    {
     "data": {
      "text/plain": [
       "0.90725831819159775"
      ]
     },
     "execution_count": 32,
     "metadata": {},
     "output_type": "execute_result"
    }
   ],
   "source": [
    "aux_emb_model.evaluate(\n",
    "    [aux_train_set.features, aux_train_set.cont_ids], aux_train_set.targets, 4096, 0)"
   ]
  },
  {
   "cell_type": "code",
   "execution_count": 30,
   "metadata": {},
   "outputs": [
    {
     "data": {
      "text/plain": [
       "0.88260775372673994"
      ]
     },
     "execution_count": 30,
     "metadata": {},
     "output_type": "execute_result"
    }
   ],
   "source": [
    "emb_ref_score = aux_emb_model.evaluate(\n",
    "    [aux_test_set.features, aux_test_set.cont_ids], aux_test_set.targets, 4096, 0)\n",
    "emb_ref_score"
   ]
  },
  {
   "cell_type": "markdown",
   "metadata": {},
   "source": [
    "### Get feature importance"
   ]
  },
  {
   "cell_type": "code",
   "execution_count": 73,
   "metadata": {
    "collapsed": true
   },
   "outputs": [],
   "source": [
    "def perm_imp_emb(m, ref):\n",
    "    scores = [eval_shuf(m, i, True) for i in range(len(aux_test_set.feature_names))]\n",
    "    ids_shuf = np.random.permutation(aux_test_set.cont_ids)\n",
    "    scores += [m.evaluate([aux_test_set.features, ids_shuf], aux_test_set.targets, 4096, 0)]\n",
    "    return np.array(scores) - ref"
   ]
  },
  {
   "cell_type": "code",
   "execution_count": 74,
   "metadata": {},
   "outputs": [],
   "source": [
    "fimp_emb = perm_imp_emb(aux_emb_model, emb_ref_score)"
   ]
  },
  {
   "cell_type": "code",
   "execution_count": 75,
   "metadata": {},
   "outputs": [
    {
     "data": {
      "image/png": "[encoded data removed]",
      "text/plain": [
       "<matplotlib.figure.Figure at 0x1268022b0>"
      ]
     },
     "metadata": {},
     "output_type": "display_data"
    }
   ],
   "source": [
    "fig, ax = plt.subplots(figsize=(12, 5))\n",
    "sns.barplot(y=fimp_emb, x=aux_test_set.feature_names + ['Embeddings'], ax=ax)\n",
    "plt.xticks(rotation=90);"
   ]
  },
  {
   "cell_type": "code",
   "execution_count": 76,
   "metadata": {},
   "outputs": [
    {
     "data": {
      "image/png": "[encoded data removed]",
      "text/plain": [
       "<matplotlib.figure.Figure at 0x126b083c8>"
      ]
     },
     "metadata": {},
     "output_type": "display_data"
    }
   ],
   "source": [
    "fig, ax = plt.subplots(figsize=(12, 5))\n",
    "sns.barplot(y=fimp_emb[1:], x=aux_test_set.feature_names[1:] + ['Embeddings'], ax=ax)\n",
    "plt.xticks(rotation=90);"
   ]
  },
  {
   "cell_type": "markdown",
   "metadata": {
    "collapsed": true
   },
   "source": [
    "## Neural net with hidden layer and embeddings\n",
    "\n",
    "This is our best configuration for one year of data."
   ]
  },
  {
   "cell_type": "markdown",
   "metadata": {
    "collapsed": true
   },
   "source": [
    "### Train the model"
   ]
  },
  {
   "cell_type": "code",
   "execution_count": 44,
   "metadata": {},
   "outputs": [
    {
     "name": "stdout",
     "output_type": "stream",
     "text": [
      "____________________________________________________________________________________________________\n",
      "Layer (type)                     Output Shape          Param #     Connected to                     \n",
      "====================================================================================================\n",
      "input_6 (InputLayer)             (None, 1)             0                                            \n",
      "____________________________________________________________________________________________________\n",
      "embedding_2 (Embedding)          (None, 1, 2)          1074        input_6[0][0]                    \n",
      "____________________________________________________________________________________________________\n",
      "input_5 (InputLayer)             (None, 40)            0                                            \n",
      "____________________________________________________________________________________________________\n",
      "flatten_2 (Flatten)              (None, 2)             0           embedding_2[0][0]                \n",
      "____________________________________________________________________________________________________\n",
      "concatenate_2 (Concatenate)      (None, 42)            0           input_5[0][0]                    \n",
      "                                                                   flatten_2[0][0]                  \n",
      "____________________________________________________________________________________________________\n",
      "dense_4 (Dense)                  (None, 50)            2150        concatenate_2[0][0]              \n",
      "____________________________________________________________________________________________________\n",
      "dense_5 (Dense)                  (None, 2)             102         dense_4[0][0]                    \n",
      "====================================================================================================\n",
      "Total params: 3,326\n",
      "Trainable params: 3,326\n",
      "Non-trainable params: 0\n",
      "____________________________________________________________________________________________________\n"
     ]
    }
   ],
   "source": [
    "emb_nnet = build_emb_model(n_features, 2, [50], emb_size, max_id, compile=True, lr=0.01)\n",
    "emb_nnet.summary()"
   ]
  },
  {
   "cell_type": "code",
   "execution_count": 45,
   "metadata": {
    "collapsed": true
   },
   "outputs": [],
   "source": [
    "emb_nnet.fit([aux_train_set.features, aux_train_set.cont_ids], aux_train_set.targets, \n",
    "                   epochs=30, batch_size=1024, verbose=0);"
   ]
  },
  {
   "cell_type": "code",
   "execution_count": 46,
   "metadata": {},
   "outputs": [
    {
     "data": {
      "text/plain": [
       "0.81640798948474369"
      ]
     },
     "execution_count": 46,
     "metadata": {},
     "output_type": "execute_result"
    }
   ],
   "source": [
    "emb_nnet.evaluate(\n",
    "    [aux_train_set.features, aux_train_set.cont_ids], aux_train_set.targets, 4096, 0)"
   ]
  },
  {
   "cell_type": "code",
   "execution_count": 47,
   "metadata": {},
   "outputs": [
    {
     "data": {
      "text/plain": [
       "0.85484602477649974"
      ]
     },
     "execution_count": 47,
     "metadata": {},
     "output_type": "execute_result"
    }
   ],
   "source": [
    "emb_nnet_ref = emb_nnet.evaluate(\n",
    "    [aux_test_set.features, aux_test_set.cont_ids], aux_test_set.targets, 4096, 0)\n",
    "emb_nnet_ref"
   ]
  },
  {
   "cell_type": "markdown",
   "metadata": {},
   "source": [
    "### Evaluate feature importance"
   ]
  },
  {
   "cell_type": "code",
   "execution_count": 77,
   "metadata": {
    "collapsed": true
   },
   "outputs": [],
   "source": [
    "fimp_emb_nnet = perm_imp_emb(emb_nnet, emb_nnet_ref)"
   ]
  },
  {
   "cell_type": "code",
   "execution_count": 78,
   "metadata": {},
   "outputs": [
    {
     "data": {
      "image/png": "[encoded data removed]",
      "text/plain": [
       "<matplotlib.figure.Figure at 0x126846cf8>"
      ]
     },
     "metadata": {},
     "output_type": "display_data"
    }
   ],
   "source": [
    "fig, ax = plt.subplots(figsize=(12, 5))\n",
    "sns.barplot(y=fimp_emb_nnet, x=aux_test_set.feature_names + ['Embeddings'], ax=ax)\n",
    "plt.xticks(rotation=90);"
   ]
  },
  {
   "cell_type": "code",
   "execution_count": 79,
   "metadata": {},
   "outputs": [
    {
     "data": {
      "image/png": "[encoded data removed]",
      "text/plain": [
       "<matplotlib.figure.Figure at 0x12a2318d0>"
      ]
     },
     "metadata": {},
     "output_type": "display_data"
    }
   ],
   "source": [
    "fig, ax = plt.subplots(figsize=(12, 5))\n",
    "sns.barplot(y=fimp_emb_nnet[1:], x=aux_test_set.feature_names[1:] + ['Embeddings'], ax=ax)\n",
    "plt.xticks(rotation=90);"
   ]
  },
  {
   "cell_type": "markdown",
   "metadata": {},
   "source": [
    "## Throw away \"useless\" features"
   ]
  },
  {
   "cell_type": "code",
   "execution_count": 80,
   "metadata": {},
   "outputs": [
    {
     "data": {
      "text/plain": [
       "0.010937333383072345"
      ]
     },
     "execution_count": 80,
     "metadata": {},
     "output_type": "execute_result"
    }
   ],
   "source": [
    "fimp_emb_nnet[1]"
   ]
  },
  {
   "cell_type": "code",
   "execution_count": 81,
   "metadata": {
    "collapsed": true
   },
   "outputs": [],
   "source": [
    "# Get only variables with importance > 0.005\n",
    "pos_idxs = fimp_emb_nnet[:-1] > 0.005"
   ]
  },
  {
   "cell_type": "code",
   "execution_count": 82,
   "metadata": {},
   "outputs": [],
   "source": [
    "pruned_train_features = aux_train_set.features[:, pos_idxs]\n",
    "pruned_test_features = aux_test_set.features[:, pos_idxs]"
   ]
  },
  {
   "cell_type": "code",
   "execution_count": 83,
   "metadata": {},
   "outputs": [
    {
     "data": {
      "text/plain": [
       "21"
      ]
     },
     "execution_count": 83,
     "metadata": {},
     "output_type": "execute_result"
    }
   ],
   "source": [
    "n_pruned_features = pruned_test_features.shape[1]; n_pruned_features"
   ]
  },
  {
   "cell_type": "code",
   "execution_count": 84,
   "metadata": {},
   "outputs": [
    {
     "name": "stdout",
     "output_type": "stream",
     "text": [
      "____________________________________________________________________________________________________\n",
      "Layer (type)                     Output Shape          Param #     Connected to                     \n",
      "====================================================================================================\n",
      "input_14 (InputLayer)            (None, 1)             0                                            \n",
      "____________________________________________________________________________________________________\n",
      "embedding_6 (Embedding)          (None, 1, 2)          1074        input_14[0][0]                   \n",
      "____________________________________________________________________________________________________\n",
      "input_13 (InputLayer)            (None, 21)            0                                            \n",
      "____________________________________________________________________________________________________\n",
      "flatten_6 (Flatten)              (None, 2)             0           embedding_6[0][0]                \n",
      "____________________________________________________________________________________________________\n",
      "concatenate_6 (Concatenate)      (None, 23)            0           input_13[0][0]                   \n",
      "                                                                   flatten_6[0][0]                  \n",
      "____________________________________________________________________________________________________\n",
      "dense_12 (Dense)                 (None, 50)            1200        concatenate_6[0][0]              \n",
      "____________________________________________________________________________________________________\n",
      "dense_13 (Dense)                 (None, 2)             102         dense_12[0][0]                   \n",
      "====================================================================================================\n",
      "Total params: 2,376\n",
      "Trainable params: 2,376\n",
      "Non-trainable params: 0\n",
      "____________________________________________________________________________________________________\n"
     ]
    }
   ],
   "source": [
    "pruned_nnet = build_emb_model(n_pruned_features, 2, [50], emb_size, max_id, compile=True, lr=0.01)\n",
    "pruned_nnet.summary()"
   ]
  },
  {
   "cell_type": "code",
   "execution_count": 85,
   "metadata": {},
   "outputs": [
    {
     "name": "stdout",
     "output_type": "stream",
     "text": [
      "Train on 180849 samples, validate on 182218 samples\n",
      "Epoch 1/30\n",
      "180849/180849 [==============================] - 2s - loss: 2.1373 - val_loss: 1.0096\n",
      "Epoch 2/30\n",
      "180849/180849 [==============================] - 1s - loss: 0.9690 - val_loss: 0.9395\n",
      "Epoch 3/30\n",
      "180849/180849 [==============================] - 1s - loss: 0.9211 - val_loss: 0.8913\n",
      "Epoch 4/30\n",
      "180849/180849 [==============================] - 1s - loss: 0.9075 - val_loss: 0.9046\n",
      "Epoch 5/30\n",
      "180849/180849 [==============================] - 1s - loss: 0.8869 - val_loss: 0.8729\n",
      "Epoch 6/30\n",
      "180849/180849 [==============================] - 1s - loss: 0.8744 - val_loss: 0.8932\n",
      "Epoch 7/30\n",
      "180849/180849 [==============================] - 1s - loss: 0.8712 - val_loss: 0.9490\n",
      "Epoch 8/30\n",
      "180849/180849 [==============================] - 1s - loss: 0.8734 - val_loss: 0.8613\n",
      "Epoch 9/30\n",
      "180849/180849 [==============================] - 1s - loss: 0.8678 - val_loss: 0.8692\n",
      "Epoch 10/30\n",
      "180849/180849 [==============================] - 1s - loss: 0.8624 - val_loss: 0.8715\n",
      "Epoch 11/30\n",
      "180849/180849 [==============================] - 1s - loss: 0.8583 - val_loss: 0.8892\n",
      "Epoch 12/30\n",
      "180849/180849 [==============================] - 1s - loss: 0.8596 - val_loss: 0.8722\n",
      "Epoch 13/30\n",
      "180849/180849 [==============================] - 1s - loss: 0.8579 - val_loss: 0.8505\n",
      "Epoch 14/30\n",
      "180849/180849 [==============================] - 1s - loss: 0.8543 - val_loss: 0.8643\n",
      "Epoch 15/30\n",
      "180849/180849 [==============================] - 1s - loss: 0.8543 - val_loss: 0.8545\n",
      "Epoch 16/30\n",
      "180849/180849 [==============================] - 1s - loss: 0.8485 - val_loss: 0.8511\n",
      "Epoch 17/30\n",
      "180849/180849 [==============================] - 1s - loss: 0.8515 - val_loss: 0.8579\n",
      "Epoch 18/30\n",
      "180849/180849 [==============================] - 1s - loss: 0.8456 - val_loss: 0.8700\n",
      "Epoch 19/30\n",
      "180849/180849 [==============================] - 1s - loss: 0.8501 - val_loss: 0.8481\n",
      "Epoch 20/30\n",
      "180849/180849 [==============================] - 1s - loss: 0.8464 - val_loss: 0.8458\n",
      "Epoch 21/30\n",
      "180849/180849 [==============================] - 1s - loss: 0.8422 - val_loss: 0.8444\n",
      "Epoch 22/30\n",
      "180849/180849 [==============================] - 1s - loss: 0.8420 - val_loss: 0.8455\n",
      "Epoch 23/30\n",
      "180849/180849 [==============================] - 1s - loss: 0.8410 - val_loss: 0.8583\n",
      "Epoch 24/30\n",
      "180849/180849 [==============================] - 1s - loss: 0.8499 - val_loss: 0.8710\n",
      "Epoch 25/30\n",
      "180849/180849 [==============================] - 1s - loss: 0.8366 - val_loss: 0.8405\n",
      "Epoch 26/30\n",
      "180849/180849 [==============================] - 1s - loss: 0.8370 - val_loss: 0.8434\n",
      "Epoch 27/30\n",
      "180849/180849 [==============================] - 1s - loss: 0.8410 - val_loss: 0.8413\n",
      "Epoch 28/30\n",
      "180849/180849 [==============================] - 1s - loss: 0.8345 - val_loss: 0.9010\n",
      "Epoch 29/30\n",
      "180849/180849 [==============================] - 1s - loss: 0.8381 - val_loss: 0.8923\n",
      "Epoch 30/30\n",
      "180849/180849 [==============================] - 1s - loss: 0.8368 - val_loss: 0.8371\n"
     ]
    },
    {
     "data": {
      "text/plain": [
       "<keras.callbacks.History at 0x1307cd278>"
      ]
     },
     "execution_count": 85,
     "metadata": {},
     "output_type": "execute_result"
    }
   ],
   "source": [
    "pruned_nnet.fit(\n",
    "    [pruned_train_features, aux_train_set.cont_ids], aux_train_set.targets, \n",
    "    epochs=30, batch_size=1024,\n",
    "    validation_data=([pruned_test_features, aux_test_set.cont_ids], aux_test_set.targets)\n",
    ")"
   ]
  },
  {
   "cell_type": "code",
   "execution_count": 86,
   "metadata": {},
   "outputs": [
    {
     "name": "stdout",
     "output_type": "stream",
     "text": [
      "Train on 180849 samples, validate on 182218 samples\n",
      "Epoch 1/10\n",
      "180849/180849 [==============================] - 1s - loss: 0.8326 - val_loss: 0.8427\n",
      "Epoch 2/10\n",
      "180849/180849 [==============================] - 1s - loss: 0.8284 - val_loss: 0.8463\n",
      "Epoch 3/10\n",
      "180849/180849 [==============================] - 1s - loss: 0.8357 - val_loss: 0.8386\n",
      "Epoch 4/10\n",
      "180849/180849 [==============================] - 1s - loss: 0.8286 - val_loss: 0.8475\n",
      "Epoch 5/10\n",
      "180849/180849 [==============================] - 1s - loss: 0.8272 - val_loss: 0.8477\n",
      "Epoch 6/10\n",
      "180849/180849 [==============================] - 1s - loss: 0.8290 - val_loss: 0.8472\n",
      "Epoch 7/10\n",
      "180849/180849 [==============================] - 1s - loss: 0.8295 - val_loss: 0.8605\n",
      "Epoch 8/10\n",
      "180849/180849 [==============================] - 1s - loss: 0.8270 - val_loss: 0.8532\n",
      "Epoch 9/10\n",
      "180849/180849 [==============================] - 1s - loss: 0.8217 - val_loss: 0.8429\n",
      "Epoch 10/10\n",
      "180849/180849 [==============================] - 1s - loss: 0.8299 - val_loss: 0.8480\n"
     ]
    },
    {
     "data": {
      "text/plain": [
       "<keras.callbacks.History at 0x130972be0>"
      ]
     },
     "execution_count": 86,
     "metadata": {},
     "output_type": "execute_result"
    }
   ],
   "source": [
    "pruned_nnet.optimizer.lr=0.001\n",
    "pruned_nnet.fit(\n",
    "    [pruned_train_features, aux_train_set.cont_ids], aux_train_set.targets, \n",
    "    epochs=10, batch_size=1024,\n",
    "    validation_data=([pruned_test_features, aux_test_set.cont_ids], aux_test_set.targets)\n",
    ")"
   ]
  },
  {
   "cell_type": "code",
   "execution_count": 63,
   "metadata": {},
   "outputs": [
    {
     "data": {
      "text/plain": [
       "0.85985403252518833"
      ]
     },
     "execution_count": 63,
     "metadata": {},
     "output_type": "execute_result"
    }
   ],
   "source": [
    "pruned_nnet.evaluate(\n",
    "    [pruned_test_features, aux_test_set.cont_ids], aux_test_set.targets, 4096, 0)"
   ]
  },
  {
   "cell_type": "code",
   "execution_count": 88,
   "metadata": {
    "collapsed": true
   },
   "outputs": [],
   "source": [
    "from keras.regularizers import l2"
   ]
  },
  {
   "cell_type": "code",
   "execution_count": 98,
   "metadata": {
    "collapsed": true
   },
   "outputs": [],
   "source": [
    "from keras.layers import *"
   ]
  },
  {
   "cell_type": "code",
   "execution_count": 99,
   "metadata": {},
   "outputs": [
    {
     "name": "stderr",
     "output_type": "stream",
     "text": [
      "/Users/stephanrasp/anaconda/envs/py36_keras/lib/python3.6/site-packages/keras/activations.py:103: UserWarning: Do not pass a layer instance (such as LeakyReLU) as the activation argument of another layer. Instead, advanced activation layers should be used just like any other layer in a model.\n",
      "  ).format(identifier=identifier.__class__.__name__))\n"
     ]
    }
   ],
   "source": [
    "# Try l2 regularization\n",
    "features_in = Input(shape=(n_pruned_features,))\n",
    "id_in = Input(shape=(1,))\n",
    "emb = Embedding(max_id + 1, emb_size)(id_in)\n",
    "emb = Flatten()(emb)\n",
    "x = Concatenate()([features_in, emb])\n",
    "for h in [100, 100]:\n",
    "    x = Dense(h, activation=LeakyReLU(0.2), kernel_regularizer=l2(1e-4))(x)\n",
    "x = Dense(2, activation='linear')(x)\n",
    "model = Model(inputs=[features_in, id_in], outputs=x)\n",
    "model.compile(optimizer=Adam(0.01), loss=crps_cost_function)"
   ]
  },
  {
   "cell_type": "code",
   "execution_count": 100,
   "metadata": {},
   "outputs": [
    {
     "name": "stdout",
     "output_type": "stream",
     "text": [
      "____________________________________________________________________________________________________\n",
      "Layer (type)                     Output Shape          Param #     Connected to                     \n",
      "====================================================================================================\n",
      "input_24 (InputLayer)            (None, 1)             0                                            \n",
      "____________________________________________________________________________________________________\n",
      "embedding_11 (Embedding)         (None, 1, 2)          1074        input_24[0][0]                   \n",
      "____________________________________________________________________________________________________\n",
      "input_23 (InputLayer)            (None, 21)            0                                            \n",
      "____________________________________________________________________________________________________\n",
      "flatten_11 (Flatten)             (None, 2)             0           embedding_11[0][0]               \n",
      "____________________________________________________________________________________________________\n",
      "concatenate_11 (Concatenate)     (None, 23)            0           input_23[0][0]                   \n",
      "                                                                   flatten_11[0][0]                 \n",
      "____________________________________________________________________________________________________\n",
      "dense_21 (Dense)                 (None, 100)           2400        concatenate_11[0][0]             \n",
      "____________________________________________________________________________________________________\n",
      "dense_22 (Dense)                 (None, 100)           10100       dense_21[0][0]                   \n",
      "____________________________________________________________________________________________________\n",
      "dense_23 (Dense)                 (None, 2)             202         dense_22[0][0]                   \n",
      "====================================================================================================\n",
      "Total params: 13,776\n",
      "Trainable params: 13,776\n",
      "Non-trainable params: 0\n",
      "____________________________________________________________________________________________________\n"
     ]
    }
   ],
   "source": [
    "model.summary()"
   ]
  },
  {
   "cell_type": "code",
   "execution_count": 101,
   "metadata": {},
   "outputs": [
    {
     "name": "stdout",
     "output_type": "stream",
     "text": [
      "Train on 180849 samples, validate on 182218 samples\n",
      "Epoch 1/30\n",
      "180849/180849 [==============================] - 4s - loss: 1.6503 - val_loss: 1.0414\n",
      "Epoch 2/30\n",
      "180849/180849 [==============================] - 3s - loss: 0.9765 - val_loss: 0.9647\n",
      "Epoch 3/30\n",
      "180849/180849 [==============================] - 3s - loss: 0.9408 - val_loss: 0.8907\n",
      "Epoch 4/30\n",
      "180849/180849 [==============================] - 3s - loss: 0.9038 - val_loss: 0.8743\n",
      "Epoch 5/30\n",
      "180849/180849 [==============================] - 3s - loss: 0.8971 - val_loss: 0.8951\n",
      "Epoch 6/30\n",
      "180849/180849 [==============================] - 3s - loss: 0.8897 - val_loss: 0.9592\n",
      "Epoch 7/30\n",
      "180849/180849 [==============================] - 3s - loss: 0.8859 - val_loss: 0.8776\n",
      "Epoch 8/30\n",
      "180849/180849 [==============================] - 3s - loss: 0.8763 - val_loss: 0.8579\n",
      "Epoch 9/30\n",
      "180849/180849 [==============================] - 3s - loss: 0.8701 - val_loss: 0.9948\n",
      "Epoch 10/30\n",
      "180849/180849 [==============================] - 3s - loss: 0.8720 - val_loss: 0.8740\n",
      "Epoch 11/30\n",
      "180849/180849 [==============================] - 3s - loss: 0.8591 - val_loss: 0.8549\n",
      "Epoch 12/30\n",
      "180849/180849 [==============================] - 3s - loss: 0.8638 - val_loss: 0.9398\n",
      "Epoch 13/30\n",
      "180849/180849 [==============================] - 3s - loss: 0.8622 - val_loss: 0.8762\n",
      "Epoch 14/30\n",
      "180849/180849 [==============================] - 3s - loss: 0.8635 - val_loss: 0.8586\n",
      "Epoch 15/30\n",
      "180849/180849 [==============================] - 3s - loss: 0.8531 - val_loss: 0.8683\n",
      "Epoch 16/30\n",
      "180849/180849 [==============================] - 3s - loss: 0.8592 - val_loss: 0.8607\n",
      "Epoch 17/30\n",
      "180849/180849 [==============================] - 3s - loss: 0.8512 - val_loss: 0.8894\n",
      "Epoch 18/30\n",
      "180849/180849 [==============================] - 3s - loss: 0.8581 - val_loss: 0.9049\n",
      "Epoch 19/30\n",
      "180849/180849 [==============================] - 3s - loss: 0.8443 - val_loss: 0.8590\n",
      "Epoch 20/30\n",
      "180849/180849 [==============================] - 3s - loss: 0.8480 - val_loss: 0.8802\n",
      "Epoch 21/30\n",
      "180849/180849 [==============================] - 3s - loss: 0.8529 - val_loss: 0.8811\n",
      "Epoch 22/30\n",
      "180849/180849 [==============================] - 3s - loss: 0.8426 - val_loss: 0.8636\n",
      "Epoch 23/30\n",
      "180849/180849 [==============================] - 3s - loss: 0.8448 - val_loss: 0.8678\n",
      "Epoch 24/30\n",
      "180849/180849 [==============================] - 3s - loss: 0.8416 - val_loss: 1.1102\n",
      "Epoch 25/30\n",
      "180849/180849 [==============================] - 3s - loss: 0.8461 - val_loss: 0.8601\n",
      "Epoch 26/30\n",
      "180849/180849 [==============================] - 3s - loss: 0.8406 - val_loss: 0.9121\n",
      "Epoch 27/30\n",
      "180849/180849 [==============================] - 3s - loss: 0.8368 - val_loss: 0.8615\n",
      "Epoch 28/30\n",
      "180849/180849 [==============================] - 3s - loss: 0.8265 - val_loss: 0.9092\n",
      "Epoch 29/30\n",
      "180849/180849 [==============================] - 3s - loss: 0.8398 - val_loss: 0.8992\n",
      "Epoch 30/30\n",
      "180849/180849 [==============================] - 3s - loss: 0.8311 - val_loss: 0.8652\n"
     ]
    },
    {
     "data": {
      "text/plain": [
       "<keras.callbacks.History at 0x13514a9e8>"
      ]
     },
     "execution_count": 101,
     "metadata": {},
     "output_type": "execute_result"
    }
   ],
   "source": [
    "model.fit(\n",
    "    [pruned_train_features, aux_train_set.cont_ids], aux_train_set.targets, \n",
    "    epochs=30, batch_size=1024,\n",
    "    validation_data=([pruned_test_features, aux_test_set.cont_ids], aux_test_set.targets)\n",
    ")"
   ]
  },
  {
   "cell_type": "markdown",
   "metadata": {},
   "source": [
    "# Old stuff"
   ]
  },
  {
   "cell_type": "markdown",
   "metadata": {},
   "source": [
    "# XGBoost "
   ]
  },
  {
   "cell_type": "markdown",
   "metadata": {},
   "source": [
    "## Get data\n",
    "\n",
    "As usual."
   ]
  },
  {
   "cell_type": "code",
   "execution_count": 1,
   "metadata": {},
   "outputs": [
    {
     "name": "stderr",
     "output_type": "stream",
     "text": [
      "Using Theano backend.\n"
     ]
    }
   ],
   "source": [
    "from importlib import reload\n",
    "import utils; reload(utils)\n",
    "from utils import *\n",
    "from datetime import datetime\n",
    "%matplotlib inline\n",
    "import matplotlib.pyplot as plt\n",
    "from collections import OrderedDict\n",
    "import seaborn as sns\n",
    "\n",
    "import keras\n",
    "from keras.layers import Input, Dense, merge, Embedding, Flatten, Dropout\n",
    "from keras.layers.merge import Concatenate\n",
    "from keras.models import Model\n",
    "import keras.backend as K\n",
    "from keras.callbacks import EarlyStopping\n",
    "from keras.optimizers import SGD, Adam\n",
    "from crps_loss import crps_cost_function"
   ]
  },
  {
   "cell_type": "code",
   "execution_count": 2,
   "metadata": {
    "collapsed": true
   },
   "outputs": [],
   "source": [
    "# Basic setup\n",
    "DATA_DIR = '/Volumes/STICK/data/ppnn_data/'  # Mac\n",
    "# DATA_DIR = '/project/meteo/w2w/C7/ppnn_data/'   # LMU\n",
    "results_dir = '../results/'"
   ]
  },
  {
   "cell_type": "code",
   "execution_count": 3,
   "metadata": {
    "collapsed": true
   },
   "outputs": [],
   "source": [
    "aux_dict = OrderedDict()\n",
    "aux_dict['data_aux_geo_interpolated.nc'] = ['orog', \n",
    "                                            'station_alt', \n",
    "                                            'station_lat', \n",
    "                                            'station_lon']\n",
    "aux_dict['data_aux_pl500_interpolated_00UTC.nc'] = ['u_pl500_fc',\n",
    "                                                    'v_pl500_fc',\n",
    "                                                    'gh_pl500_fc']\n",
    "aux_dict['data_aux_pl850_interpolated_00UTC.nc'] = ['u_pl850_fc',\n",
    "                                                    'v_pl850_fc',\n",
    "                                                    'q_pl850_fc']\n",
    "aux_dict['data_aux_surface_interpolated_00UTC.nc'] = ['cape_fc',\n",
    "                                                      'sp_fc',\n",
    "                                                      'tcc_fc']"
   ]
  },
  {
   "cell_type": "code",
   "execution_count": 4,
   "metadata": {},
   "outputs": [
    {
     "name": "stdout",
     "output_type": "stream",
     "text": [
      "train set contains 365 days\n",
      "test set contains 366 days\n"
     ]
    }
   ],
   "source": [
    "train_dates = ['2015-01-01', '2016-01-01']\n",
    "test_dates =  ['2016-01-01', '2017-01-01']\n",
    "train_set, test_set = get_train_test_sets(DATA_DIR, train_dates, test_dates,\n",
    "                                          aux_dict=aux_dict)"
   ]
  },
  {
   "cell_type": "markdown",
   "metadata": {},
   "source": [
    "## Build a neural net with only one output"
   ]
  },
  {
   "cell_type": "code",
   "execution_count": 5,
   "metadata": {
    "collapsed": true
   },
   "outputs": [],
   "source": [
    "def build_hidden_model(hidden_nodes, feature_size=2, out_size=1):\n",
    "    inp = Input(shape=(feature_size,))\n",
    "    x = Dense(hidden_nodes, activation='relu')(inp)\n",
    "    x = Dense(out_size, activation='linear')(x)\n",
    "    return Model(inputs=inp, outputs=x)"
   ]
  },
  {
   "cell_type": "code",
   "execution_count": 6,
   "metadata": {
    "collapsed": true
   },
   "outputs": [],
   "source": [
    "hidden_model = build_hidden_model(50, train_set.features.shape[1], 1)"
   ]
  },
  {
   "cell_type": "code",
   "execution_count": 7,
   "metadata": {},
   "outputs": [
    {
     "name": "stdout",
     "output_type": "stream",
     "text": [
      "_________________________________________________________________\n",
      "Layer (type)                 Output Shape              Param #   \n",
      "=================================================================\n",
      "input_1 (InputLayer)         (None, 24)                0         \n",
      "_________________________________________________________________\n",
      "dense_1 (Dense)              (None, 50)                1250      \n",
      "_________________________________________________________________\n",
      "dense_2 (Dense)              (None, 1)                 51        \n",
      "=================================================================\n",
      "Total params: 1,301\n",
      "Trainable params: 1,301\n",
      "Non-trainable params: 0\n",
      "_________________________________________________________________\n"
     ]
    }
   ],
   "source": [
    "hidden_model.summary()"
   ]
  },
  {
   "cell_type": "code",
   "execution_count": 8,
   "metadata": {
    "collapsed": true
   },
   "outputs": [],
   "source": [
    "hidden_model.compile(optimizer=Adam(0.001), loss='mse')"
   ]
  },
  {
   "cell_type": "code",
   "execution_count": 12,
   "metadata": {},
   "outputs": [
    {
     "name": "stdout",
     "output_type": "stream",
     "text": [
      "Train on 180849 samples, validate on 182218 samples\n",
      "Epoch 1/10\n",
      "180849/180849 [==============================] - 0s - loss: 3.1179 - val_loss: 3.0431\n",
      "Epoch 2/10\n",
      "180849/180849 [==============================] - 0s - loss: 3.1144 - val_loss: 3.0329\n",
      "Epoch 3/10\n",
      "180849/180849 [==============================] - 0s - loss: 3.1122 - val_loss: 3.0200\n",
      "Epoch 4/10\n",
      "180849/180849 [==============================] - 0s - loss: 3.1124 - val_loss: 3.0128\n",
      "Epoch 5/10\n",
      "180849/180849 [==============================] - 0s - loss: 3.1065 - val_loss: 3.0284\n",
      "Epoch 6/10\n",
      "180849/180849 [==============================] - 0s - loss: 3.1107 - val_loss: 3.0086\n",
      "Epoch 7/10\n",
      "180849/180849 [==============================] - 0s - loss: 3.1036 - val_loss: 3.0295\n",
      "Epoch 8/10\n",
      "180849/180849 [==============================] - 0s - loss: 3.1004 - val_loss: 3.0848\n",
      "Epoch 9/10\n",
      "180849/180849 [==============================] - 0s - loss: 3.0990 - val_loss: 3.0544\n",
      "Epoch 10/10\n",
      "180849/180849 [==============================] - 0s - loss: 3.0936 - val_loss: 3.0648\n"
     ]
    },
    {
     "data": {
      "text/plain": [
       "<keras.callbacks.History at 0x125da69b0>"
      ]
     },
     "execution_count": 12,
     "metadata": {},
     "output_type": "execute_result"
    }
   ],
   "source": [
    "hidden_model.fit(train_set.features, train_set.targets, epochs=10, batch_size=1024,\n",
    "             validation_data=[test_set.features, test_set.targets])"
   ]
  },
  {
   "cell_type": "code",
   "execution_count": 13,
   "metadata": {},
   "outputs": [
    {
     "name": "stdout",
     "output_type": "stream",
     "text": [
      "174528/182218 [===========================>..] - ETA: 0s"
     ]
    },
    {
     "data": {
      "text/plain": [
       "1.7506607542837958"
      ]
     },
     "execution_count": 13,
     "metadata": {},
     "output_type": "execute_result"
    }
   ],
   "source": [
    "np.sqrt(hidden_model.evaluate(test_set.features, test_set.targets))"
   ]
  },
  {
   "cell_type": "code",
   "execution_count": 14,
   "metadata": {
    "collapsed": true
   },
   "outputs": [],
   "source": [
    "def build_linear_model(feature_size=2, out_size=1):\n",
    "    inp = Input(shape=(feature_size,))\n",
    "    x = Dense(out_size, activation='linear')(inp)\n",
    "    return Model(inputs=inp, outputs=x)"
   ]
  },
  {
   "cell_type": "code",
   "execution_count": 15,
   "metadata": {
    "collapsed": true
   },
   "outputs": [],
   "source": [
    "linear_model = build_linear_model(train_set.features.shape[1], 1)"
   ]
  },
  {
   "cell_type": "code",
   "execution_count": 16,
   "metadata": {},
   "outputs": [
    {
     "name": "stdout",
     "output_type": "stream",
     "text": [
      "_________________________________________________________________\n",
      "Layer (type)                 Output Shape              Param #   \n",
      "=================================================================\n",
      "input_2 (InputLayer)         (None, 24)                0         \n",
      "_________________________________________________________________\n",
      "dense_3 (Dense)              (None, 1)                 25        \n",
      "=================================================================\n",
      "Total params: 25\n",
      "Trainable params: 25\n",
      "Non-trainable params: 0\n",
      "_________________________________________________________________\n"
     ]
    }
   ],
   "source": [
    "linear_model.summary()"
   ]
  },
  {
   "cell_type": "code",
   "execution_count": 17,
   "metadata": {
    "collapsed": true
   },
   "outputs": [],
   "source": [
    "linear_model.compile(optimizer=Adam(0.01), loss='mse')"
   ]
  },
  {
   "cell_type": "code",
   "execution_count": 23,
   "metadata": {},
   "outputs": [
    {
     "name": "stdout",
     "output_type": "stream",
     "text": [
      "Train on 180849 samples, validate on 182218 samples\n",
      "Epoch 1/10\n",
      "180849/180849 [==============================] - 0s - loss: 3.2332 - val_loss: 3.0629\n",
      "Epoch 2/10\n",
      "180849/180849 [==============================] - 0s - loss: 3.2321 - val_loss: 3.0679\n",
      "Epoch 3/10\n",
      "180849/180849 [==============================] - 0s - loss: 3.2323 - val_loss: 3.0533\n",
      "Epoch 4/10\n",
      "180849/180849 [==============================] - 0s - loss: 3.2319 - val_loss: 3.0630\n",
      "Epoch 5/10\n",
      "180849/180849 [==============================] - 0s - loss: 3.2315 - val_loss: 3.0760\n",
      "Epoch 6/10\n",
      "180849/180849 [==============================] - 0s - loss: 3.2320 - val_loss: 3.0539\n",
      "Epoch 7/10\n",
      "180849/180849 [==============================] - 0s - loss: 3.2317 - val_loss: 3.0487\n",
      "Epoch 8/10\n",
      "180849/180849 [==============================] - 0s - loss: 3.2318 - val_loss: 3.0560\n",
      "Epoch 9/10\n",
      "180849/180849 [==============================] - 0s - loss: 3.2316 - val_loss: 3.0580\n",
      "Epoch 10/10\n",
      "180849/180849 [==============================] - 0s - loss: 3.2312 - val_loss: 3.0507\n"
     ]
    },
    {
     "data": {
      "text/plain": [
       "<keras.callbacks.History at 0x127258da0>"
      ]
     },
     "execution_count": 23,
     "metadata": {},
     "output_type": "execute_result"
    }
   ],
   "source": [
    "linear_model.fit(train_set.features, train_set.targets, epochs=10, batch_size=1024,\n",
    "             validation_data=[test_set.features, test_set.targets])"
   ]
  },
  {
   "cell_type": "code",
   "execution_count": 24,
   "metadata": {
    "collapsed": true
   },
   "outputs": [],
   "source": [
    "w = linear_model.layers[1].get_weights()[0]"
   ]
  },
  {
   "cell_type": "code",
   "execution_count": 25,
   "metadata": {},
   "outputs": [
    {
     "data": {
      "text/plain": [
       "(24, 1)"
      ]
     },
     "execution_count": 25,
     "metadata": {},
     "output_type": "execute_result"
    }
   ],
   "source": [
    "w.shape"
   ]
  },
  {
   "cell_type": "code",
   "execution_count": 26,
   "metadata": {},
   "outputs": [
    {
     "data": {
      "text/plain": [
       "<matplotlib.axes._subplots.AxesSubplot at 0x1272538d0>"
      ]
     },
     "execution_count": 26,
     "metadata": {},
     "output_type": "execute_result"
    },
    {
     "data": {
      "image/png": "[encoded data removed]",
      "text/plain": [
       "<matplotlib.figure.Figure at 0x127253e10>"
      ]
     },
     "metadata": {},
     "output_type": "display_data"
    }
   ],
   "source": [
    "sns.barplot(y=train_set.feature_names, x=np.abs(w[:, 0]))"
   ]
  },
  {
   "cell_type": "code",
   "execution_count": 27,
   "metadata": {
    "collapsed": true
   },
   "outputs": [],
   "source": [
    "linear_model = build_linear_model(train_set.features.shape[1], 2)\n",
    "linear_model.compile(optimizer=Adam(0.01), loss=crps_cost_function)"
   ]
  },
  {
   "cell_type": "code",
   "execution_count": 31,
   "metadata": {},
   "outputs": [
    {
     "name": "stdout",
     "output_type": "stream",
     "text": [
      "Train on 180849 samples, validate on 182218 samples\n",
      "Epoch 1/10\n",
      "180849/180849 [==============================] - 0s - loss: 0.9751 - val_loss: 0.9555\n",
      "Epoch 2/10\n",
      "180849/180849 [==============================] - 0s - loss: 0.9738 - val_loss: 0.9508\n",
      "Epoch 3/10\n",
      "180849/180849 [==============================] - 0s - loss: 0.9728 - val_loss: 0.9496\n",
      "Epoch 4/10\n",
      "180849/180849 [==============================] - 0s - loss: 0.9723 - val_loss: 0.9471\n",
      "Epoch 5/10\n",
      "180849/180849 [==============================] - 0s - loss: 0.9716 - val_loss: 0.9515\n",
      "Epoch 6/10\n",
      "180849/180849 [==============================] - 0s - loss: 0.9713 - val_loss: 0.9435\n",
      "Epoch 7/10\n",
      "180849/180849 [==============================] - 0s - loss: 0.9711 - val_loss: 0.9444ss: 0\n",
      "Epoch 8/10\n",
      "180849/180849 [==============================] - 0s - loss: 0.9707 - val_loss: 0.9439\n",
      "Epoch 9/10\n",
      "180849/180849 [==============================] - 0s - loss: 0.9705 - val_loss: 0.9425\n",
      "Epoch 10/10\n",
      "180849/180849 [==============================] - 0s - loss: 0.9705 - val_loss: 0.9427\n"
     ]
    },
    {
     "data": {
      "text/plain": [
       "<keras.callbacks.History at 0x12708a198>"
      ]
     },
     "execution_count": 31,
     "metadata": {},
     "output_type": "execute_result"
    }
   ],
   "source": [
    "linear_model.fit(train_set.features, train_set.targets, epochs=10, batch_size=1024,\n",
    "             validation_data=[test_set.features, test_set.targets])"
   ]
  },
  {
   "cell_type": "code",
   "execution_count": 36,
   "metadata": {
    "collapsed": true
   },
   "outputs": [],
   "source": [
    "preds = linear_model.predict(test_set.features)\n",
    "results_df = create_results_df(test_set.date_strs, test_set.station_ids,\n",
    "                               preds[:, 0], preds[:, 1])\n",
    "results_df.to_csv(results_dir + 'fc_network_aux_train_2015_pred_2016.csv')"
   ]
  },
  {
   "cell_type": "code",
   "execution_count": 32,
   "metadata": {},
   "outputs": [
    {
     "data": {
      "text/plain": [
       "(24, 2)"
      ]
     },
     "execution_count": 32,
     "metadata": {},
     "output_type": "execute_result"
    }
   ],
   "source": [
    "w = linear_model.layers[1].get_weights()[0]\n",
    "w.shape"
   ]
  },
  {
   "cell_type": "code",
   "execution_count": 33,
   "metadata": {},
   "outputs": [
    {
     "data": {
      "text/plain": [
       "array([[ 21.55556107,  -0.70024198],\n",
       "       [ -0.7106874 ,  -2.65330625],\n",
       "       [  3.9828589 ,  -0.43749264],\n",
       "       [-10.15917397,  -1.56758964],\n",
       "       [ -0.55702108,   0.18167441],\n",
       "       [ -1.12517023,  -0.26317564],\n",
       "       [  0.18476054,  -0.13982216],\n",
       "       [ -0.07289345,   0.68600416],\n",
       "       [ -0.71506745,   0.07589541],\n",
       "       [  0.46722719,   0.60490781],\n",
       "       [  1.52971852,  -1.34756672],\n",
       "       [ -1.14905655,   0.4754779 ],\n",
       "       [  0.87684828,   0.14090069],\n",
       "       [  0.43111378,  -0.75561202],\n",
       "       [  0.49245536,  -0.56652683],\n",
       "       [ -0.05685833,   0.14790827],\n",
       "       [  3.03324747,   1.41057789],\n",
       "       [  0.56196392,  -0.11340396],\n",
       "       [ -0.41695151,   0.07533995],\n",
       "       [  1.43556952,  -0.47592199],\n",
       "       [ -0.12202962,  -0.23491184],\n",
       "       [  0.24239618,   0.16700497],\n",
       "       [  0.54675311,   0.60206783],\n",
       "       [  0.27723232,  -0.11335158]], dtype=float32)"
      ]
     },
     "execution_count": 33,
     "metadata": {},
     "output_type": "execute_result"
    }
   ],
   "source": [
    "w"
   ]
  },
  {
   "cell_type": "code",
   "execution_count": 34,
   "metadata": {},
   "outputs": [
    {
     "data": {
      "text/plain": [
       "<matplotlib.axes._subplots.AxesSubplot at 0x12796a940>"
      ]
     },
     "execution_count": 34,
     "metadata": {},
     "output_type": "execute_result"
    },
    {
     "data": {
      "image/png": "[encoded data removed]",
      "text/plain": [
       "<matplotlib.figure.Figure at 0x127902080>"
      ]
     },
     "metadata": {},
     "output_type": "display_data"
    }
   ],
   "source": [
    "sns.barplot(y=train_set.feature_names, x=np.abs(w[:, 0]))"
   ]
  },
  {
   "cell_type": "code",
   "execution_count": 35,
   "metadata": {},
   "outputs": [
    {
     "data": {
      "text/plain": [
       "<matplotlib.axes._subplots.AxesSubplot at 0x1282ab198>"
      ]
     },
     "execution_count": 35,
     "metadata": {},
     "output_type": "execute_result"
    },
    {
     "data": {
      "image/png": "[encoded data removed]",
      "text/plain": [
       "<matplotlib.figure.Figure at 0x1282d3780>"
      ]
     },
     "metadata": {},
     "output_type": "display_data"
    }
   ],
   "source": [
    "sns.barplot(y=train_set.feature_names, x=np.abs(w[:, 1]))"
   ]
  },
  {
   "cell_type": "markdown",
   "metadata": {},
   "source": [
    "## BOOOOOST"
   ]
  },
  {
   "cell_type": "code",
   "execution_count": 18,
   "metadata": {},
   "outputs": [
    {
     "name": "stderr",
     "output_type": "stream",
     "text": [
      "/Users/stephanrasp/anaconda/envs/py36_keras/lib/python3.6/site-packages/sklearn/cross_validation.py:41: DeprecationWarning: This module was deprecated in version 0.18 in favor of the model_selection module into which all the refactored classes and functions are moved. Also note that the interface of the new CV iterators are different from that of this module. This module will be removed in 0.20.\n",
      "  \"This module will be removed in 0.20.\", DeprecationWarning)\n"
     ]
    }
   ],
   "source": [
    "import xgboost as xgb"
   ]
  },
  {
   "cell_type": "code",
   "execution_count": 48,
   "metadata": {
    "collapsed": true
   },
   "outputs": [],
   "source": [
    "dtrain = xgb.DMatrix(train_set.features, train_set.targets, \n",
    "                     feature_names=train_set.feature_names)\n",
    "dtest = xgb.DMatrix(test_set.features, test_set.targets, \n",
    "                     feature_names=test_set.feature_names)"
   ]
  },
  {
   "cell_type": "code",
   "execution_count": 51,
   "metadata": {
    "collapsed": true
   },
   "outputs": [],
   "source": [
    "our_params={\n",
    "            'eta':0.3,\n",
    "            'subsample':0.8,\n",
    "            'objective':'reg:linear',\n",
    "            'eval_metric': 'rmse',\n",
    "            }\n",
    "watchlist  = [(dtest,'eval'), (dtrain,'train')]"
   ]
  },
  {
   "cell_type": "code",
   "execution_count": 56,
   "metadata": {},
   "outputs": [
    {
     "name": "stdout",
     "output_type": "stream",
     "text": [
      "[0]\teval-rmse:6.91028\ttrain-rmse:6.92588\n",
      "[1]\teval-rmse:5.02271\ttrain-rmse:5.02794\n",
      "[2]\teval-rmse:3.76052\ttrain-rmse:3.75562\n",
      "[3]\teval-rmse:2.94882\ttrain-rmse:2.92686\n",
      "[4]\teval-rmse:2.44828\ttrain-rmse:2.40732\n",
      "[5]\teval-rmse:2.14258\ttrain-rmse:2.09606\n",
      "[6]\teval-rmse:1.97091\ttrain-rmse:1.91422\n",
      "[7]\teval-rmse:1.87266\ttrain-rmse:1.80578\n",
      "[8]\teval-rmse:1.82303\ttrain-rmse:1.74007\n",
      "[9]\teval-rmse:1.79319\ttrain-rmse:1.69971\n",
      "[10]\teval-rmse:1.77206\ttrain-rmse:1.66983\n",
      "[11]\teval-rmse:1.76417\ttrain-rmse:1.65135\n",
      "[12]\teval-rmse:1.75511\ttrain-rmse:1.63448\n",
      "[13]\teval-rmse:1.75209\ttrain-rmse:1.62086\n",
      "[14]\teval-rmse:1.74149\ttrain-rmse:1.60532\n",
      "[15]\teval-rmse:1.7372\ttrain-rmse:1.59292\n",
      "[16]\teval-rmse:1.73616\ttrain-rmse:1.58469\n",
      "[17]\teval-rmse:1.7337\ttrain-rmse:1.57744\n",
      "[18]\teval-rmse:1.73108\ttrain-rmse:1.5722\n",
      "[19]\teval-rmse:1.73003\ttrain-rmse:1.56726\n",
      "[20]\teval-rmse:1.73132\ttrain-rmse:1.55851\n",
      "[21]\teval-rmse:1.72977\ttrain-rmse:1.55354\n",
      "[22]\teval-rmse:1.72867\ttrain-rmse:1.54978\n",
      "[23]\teval-rmse:1.72383\ttrain-rmse:1.53983\n",
      "[24]\teval-rmse:1.72443\ttrain-rmse:1.53179\n",
      "[25]\teval-rmse:1.72417\ttrain-rmse:1.52763\n",
      "[26]\teval-rmse:1.72288\ttrain-rmse:1.52507\n",
      "[27]\teval-rmse:1.71845\ttrain-rmse:1.51596\n",
      "[28]\teval-rmse:1.71774\ttrain-rmse:1.51107\n",
      "[29]\teval-rmse:1.71647\ttrain-rmse:1.50751\n"
     ]
    }
   ],
   "source": [
    "bst=xgb.train(our_params, dtrain, 30, watchlist)"
   ]
  },
  {
   "cell_type": "code",
   "execution_count": 57,
   "metadata": {},
   "outputs": [
    {
     "data": {
      "text/plain": [
       "<matplotlib.axes._subplots.AxesSubplot at 0x13371fba8>"
      ]
     },
     "execution_count": 57,
     "metadata": {},
     "output_type": "execute_result"
    },
    {
     "data": {
      "image/png": "[encoded data removed]",
      "text/plain": [
       "<matplotlib.figure.Figure at 0x12f99b2e8>"
      ]
     },
     "metadata": {},
     "output_type": "display_data"
    }
   ],
   "source": [
    "xgb.plot_importance(bst)"
   ]
  },
  {
   "cell_type": "markdown",
   "metadata": {},
   "source": [
    "## CRPS objective function for XGBoost"
   ]
  },
  {
   "cell_type": "code",
   "execution_count": 58,
   "metadata": {
    "collapsed": true
   },
   "outputs": [],
   "source": [
    "# Doesn't work I think unless I do the binning stuff..."
   ]
  },
  {
   "cell_type": "code",
   "execution_count": null,
   "metadata": {
    "collapsed": true
   },
   "outputs": [],
   "source": []
  }
 ],
 "metadata": {
  "kernelspec": {
   "display_name": "Python 3",
   "language": "python",
   "name": "python3"
  },
  "language_info": {
   "codemirror_mode": {
    "name": "ipython",
    "version": 3
   },
   "file_extension": ".py",
   "mimetype": "text/x-python",
   "name": "python",
   "nbconvert_exporter": "python",
   "pygments_lexer": "ipython3",
   "version": "3.6.2"
  },
  "toc": {
   "nav_menu": {},
   "number_sections": true,
   "sideBar": true,
   "skip_h1_title": true,
   "toc_cell": true,
   "toc_position": {},
   "toc_section_display": "block",
   "toc_window_display": false
  }
 },
 "nbformat": 4,
 "nbformat_minor": 2
}
