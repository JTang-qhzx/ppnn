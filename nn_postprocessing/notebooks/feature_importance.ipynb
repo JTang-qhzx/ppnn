{
 "cells": [
  {
   "cell_type": "markdown",
   "metadata": {
    "toc": "true"
   },
   "source": [
    "<h1>Table of Contents<span class=\"tocSkip\"></span></h1>\n",
    "<div class=\"toc\"><ul class=\"toc-item\"><li><span><a href=\"#Feature-importance-from-from-linear-model\" data-toc-modified-id=\"Feature-importance-from-from-linear-model-1\"><span class=\"toc-item-num\">1&nbsp;&nbsp;</span>Feature importance from from linear model</a></span><ul class=\"toc-item\"><li><span><a href=\"#Train-the-model-and-get-reference-score\" data-toc-modified-id=\"Train-the-model-and-get-reference-score-1.1\"><span class=\"toc-item-num\">1.1&nbsp;&nbsp;</span>Train the model and get reference score</a></span></li><li><span><a href=\"#Get-random-permutation-scores-and-compute-feature-importance\" data-toc-modified-id=\"Get-random-permutation-scores-and-compute-feature-importance-1.2\"><span class=\"toc-item-num\">1.2&nbsp;&nbsp;</span>Get random permutation scores and compute feature importance</a></span></li><li><span><a href=\"#Trim-features\" data-toc-modified-id=\"Trim-features-1.3\"><span class=\"toc-item-num\">1.3&nbsp;&nbsp;</span>Trim features</a></span></li></ul></li><li><span><a href=\"#With-embeddings\" data-toc-modified-id=\"With-embeddings-2\"><span class=\"toc-item-num\">2&nbsp;&nbsp;</span>With embeddings</a></span><ul class=\"toc-item\"><li><span><a href=\"#Train-the-model\" data-toc-modified-id=\"Train-the-model-2.1\"><span class=\"toc-item-num\">2.1&nbsp;&nbsp;</span>Train the model</a></span></li><li><span><a href=\"#Get-feature-importance\" data-toc-modified-id=\"Get-feature-importance-2.2\"><span class=\"toc-item-num\">2.2&nbsp;&nbsp;</span>Get feature importance</a></span></li></ul></li><li><span><a href=\"#Neural-net-with-hidden-layer-and-embeddings\" data-toc-modified-id=\"Neural-net-with-hidden-layer-and-embeddings-3\"><span class=\"toc-item-num\">3&nbsp;&nbsp;</span>Neural net with hidden layer and embeddings</a></span><ul class=\"toc-item\"><li><span><a href=\"#Train-the-model\" data-toc-modified-id=\"Train-the-model-3.1\"><span class=\"toc-item-num\">3.1&nbsp;&nbsp;</span>Train the model</a></span></li><li><span><a href=\"#Evaluate-feature-importance\" data-toc-modified-id=\"Evaluate-feature-importance-3.2\"><span class=\"toc-item-num\">3.2&nbsp;&nbsp;</span>Evaluate feature importance</a></span></li></ul></li><li><span><a href=\"#Throw-away-&quot;useless&quot;-features\" data-toc-modified-id=\"Throw-away-&quot;useless&quot;-features-4\"><span class=\"toc-item-num\">4&nbsp;&nbsp;</span>Throw away \"useless\" features</a></span></li></ul></div>"
   ]
  },
  {
   "cell_type": "markdown",
   "metadata": {},
   "source": [
    "# Feature importance\n",
    "\n",
    "The skill of our models certainly increases with auxiliary variables. Of course we would like to know which of the 38 variables we added actually helped the predictions.\n",
    "\n",
    "Random permutation importance gives us some insight. For this we randomly permute one feature at a time from the test set and evaluate the decrease in skill.\n",
    "\n",
    "**TODO**\n",
    "- Does pruning give more stable validation results? If yes, restructure paper? That would also necessitate rerunning all experiments. \n",
    "    - How do I find out. Run simple fc and \"best\" experiment several times and get variation.\n",
    "    - But before I need to see if hyper-parameters have to be retuned."
   ]
  },
  {
   "cell_type": "code",
   "execution_count": 1,
   "metadata": {},
   "outputs": [],
   "source": [
    "%load_ext autoreload\n",
    "%autoreload 2"
   ]
  },
  {
   "cell_type": "code",
   "execution_count": 2,
   "metadata": {},
   "outputs": [
    {
     "name": "stderr",
     "output_type": "stream",
     "text": [
      "/export/home/srasp/anaconda3/lib/python3.6/site-packages/h5py/__init__.py:36: FutureWarning: Conversion of the second argument of issubdtype from `float` to `np.floating` is deprecated. In future, it will be treated as `np.float64 == np.dtype(float).type`.\n",
      "  from ._conv import register_converters as _register_converters\n",
      "Using TensorFlow backend.\n"
     ]
    }
   ],
   "source": [
    "%matplotlib inline\n",
    "from nn_src.imports import *\n",
    "from copy import deepcopy"
   ]
  },
  {
   "cell_type": "code",
   "execution_count": 3,
   "metadata": {},
   "outputs": [],
   "source": [
    "#DATA_DIR = '/Users/stephanrasp/data/'\n",
    "DATA_DIR = '/scratch/srasp/'"
   ]
  },
  {
   "cell_type": "code",
   "execution_count": 4,
   "metadata": {},
   "outputs": [],
   "source": [
    "# Open the dataset with training = 2015 and test = 2016\n",
    "with open(DATA_DIR + 'pickled/aux_15_16.pkl', 'rb') as f:\n",
    "    aux_train_set, aux_test_set = pickle.load(f)"
   ]
  },
  {
   "cell_type": "markdown",
   "metadata": {
    "heading_collapsed": true
   },
   "source": [
    "## Feature importance from from linear model"
   ]
  },
  {
   "cell_type": "markdown",
   "metadata": {
    "heading_collapsed": true,
    "hidden": true
   },
   "source": [
    "### Train the model and get reference score"
   ]
  },
  {
   "cell_type": "code",
   "execution_count": 6,
   "metadata": {
    "hidden": true
   },
   "outputs": [
    {
     "data": {
      "text/plain": [
       "40"
      ]
     },
     "execution_count": 6,
     "metadata": {},
     "output_type": "execute_result"
    }
   ],
   "source": [
    "n_features = aux_train_set.features.shape[1]; n_features"
   ]
  },
  {
   "cell_type": "code",
   "execution_count": 5,
   "metadata": {
    "collapsed": true,
    "hidden": true
   },
   "outputs": [],
   "source": [
    "aux_fc_model = build_fc_model(\n",
    "    n_features=n_features,\n",
    "    n_outputs=2,\n",
    "    compile=True,\n",
    "    lr=0.01\n",
    ")"
   ]
  },
  {
   "cell_type": "code",
   "execution_count": 6,
   "metadata": {
    "hidden": true
   },
   "outputs": [
    {
     "name": "stdout",
     "output_type": "stream",
     "text": [
      "_________________________________________________________________\n",
      "Layer (type)                 Output Shape              Param #   \n",
      "=================================================================\n",
      "input_1 (InputLayer)         (None, 40)                0         \n",
      "_________________________________________________________________\n",
      "dense_1 (Dense)              (None, 2)                 82        \n",
      "=================================================================\n",
      "Total params: 82\n",
      "Trainable params: 82\n",
      "Non-trainable params: 0\n",
      "_________________________________________________________________\n"
     ]
    }
   ],
   "source": [
    "aux_fc_model.summary()"
   ]
  },
  {
   "cell_type": "code",
   "execution_count": 10,
   "metadata": {
    "hidden": true
   },
   "outputs": [],
   "source": [
    "def reset_weights(model):\n",
    "    session = K.get_session()\n",
    "    for layer in model.layers: \n",
    "        if hasattr(layer, 'kernel_initializer'):\n",
    "            layer.kernel.initializer.run(session=session)"
   ]
  },
  {
   "cell_type": "code",
   "execution_count": 11,
   "metadata": {
    "hidden": true
   },
   "outputs": [],
   "source": [
    "def avg_score(m, n, x_trn, y_trn, x_test, y_test, **kwargs):\n",
    "    trn_scores, test_scores = [], []\n",
    "    for i in tqdm(range(n)):\n",
    "        reset_weights(m)\n",
    "        m.fit(x_trn, y_trn, **kwargs)\n",
    "        trn_scores.append(m.evaluate(x_trn, y_trn, 4096, verbose=0))\n",
    "        test_scores.append(m.evaluate(x_test, y_test, 4096, verbose=0))\n",
    "    return trn_scores, test_scores"
   ]
  },
  {
   "cell_type": "code",
   "execution_count": 19,
   "metadata": {
    "hidden": true
   },
   "outputs": [
    {
     "name": "stderr",
     "output_type": "stream",
     "text": [
      "Widget Javascript not detected.  It may not be installed or enabled properly.\n"
     ]
    },
    {
     "data": {
      "application/vnd.jupyter.widget-view+json": {
       "model_id": "4066ac2a98f0494bbb9609471c958e70"
      }
     },
     "metadata": {},
     "output_type": "display_data"
    },
    {
     "name": "stdout",
     "output_type": "stream",
     "text": [
      "180849/180849 [==============================] - 0s 1us/step\n",
      "182218/182218 [==============================] - 0s 1us/step\n",
      "180849/180849 [==============================] - 0s 1us/step\n",
      "182218/182218 [==============================] - 0s 1us/step\n",
      "180849/180849 [==============================] - 0s 1us/step\n",
      "182218/182218 [==============================] - 0s 1us/step\n",
      "180849/180849 [==============================] - 0s 1us/step\n",
      "182218/182218 [==============================] - 0s 1us/step\n",
      "180849/180849 [==============================] - 0s 1us/step\n",
      "182218/182218 [==============================] - 0s 1us/step\n",
      "\n"
     ]
    }
   ],
   "source": [
    "trn_scores, test_scores = avg_score(\n",
    "    aux_fc_model, 5,\n",
    "    aux_train_set.features, aux_train_set.targets,\n",
    "    aux_test_set.features, aux_test_set.targets,\n",
    "    epochs=50, batch_size=1024, verbose=0,\n",
    ")"
   ]
  },
  {
   "cell_type": "code",
   "execution_count": 20,
   "metadata": {
    "hidden": true
   },
   "outputs": [
    {
     "data": {
      "text/plain": [
       "(0.95444036184238856, 0.0018284824173285352)"
      ]
     },
     "execution_count": 20,
     "metadata": {},
     "output_type": "execute_result"
    }
   ],
   "source": [
    "np.mean(trn_scores), np.std(trn_scores)"
   ]
  },
  {
   "cell_type": "code",
   "execution_count": 21,
   "metadata": {
    "hidden": true
   },
   "outputs": [
    {
     "data": {
      "text/plain": [
       "(0.91991713276001952, 0.0038565126885794746)"
      ]
     },
     "execution_count": 21,
     "metadata": {},
     "output_type": "execute_result"
    }
   ],
   "source": [
    "np.mean(test_scores), np.std(test_scores)"
   ]
  },
  {
   "cell_type": "code",
   "execution_count": 23,
   "metadata": {
    "hidden": true
   },
   "outputs": [
    {
     "data": {
      "text/plain": [
       "0.92050457876984615"
      ]
     },
     "execution_count": 23,
     "metadata": {},
     "output_type": "execute_result"
    }
   ],
   "source": [
    "# Get the reference score from the last model we trained\n",
    "# For feature importance small differences are not that crucial\n",
    "ref_score = aux_fc_model.evaluate(aux_test_set.features, aux_test_set.targets, 4096, 0); ref_score"
   ]
  },
  {
   "cell_type": "markdown",
   "metadata": {
    "heading_collapsed": true,
    "hidden": true
   },
   "source": [
    "### Get random permutation scores and compute feature importance"
   ]
  },
  {
   "cell_type": "code",
   "execution_count": 22,
   "metadata": {
    "hidden": true
   },
   "outputs": [],
   "source": [
    "def eval_shuf(m, idx, emb=False):\n",
    "    x_shuf = aux_test_set.features.copy()\n",
    "    x_shuf[:, idx] = np.random.permutation(x_shuf[:, idx])\n",
    "    x = [x_shuf, aux_test_set.cont_ids] if emb else x_shuf\n",
    "    return m.evaluate(x, aux_test_set.targets, 4096, 0)"
   ]
  },
  {
   "cell_type": "code",
   "execution_count": 23,
   "metadata": {
    "hidden": true
   },
   "outputs": [],
   "source": [
    "def perm_imp(m):\n",
    "    scores = [eval_shuf(m, i) for i in range(len(aux_test_set.feature_names))]\n",
    "    return np.array(scores) - ref_score"
   ]
  },
  {
   "cell_type": "code",
   "execution_count": 26,
   "metadata": {
    "collapsed": true,
    "hidden": true
   },
   "outputs": [],
   "source": [
    "fimp = perm_imp(aux_fc_model)"
   ]
  },
  {
   "cell_type": "code",
   "execution_count": 27,
   "metadata": {
    "hidden": true
   },
   "outputs": [
    {
     "data": {
      "image/png": "[encoded data removed]",
      "text/plain": [
       "<matplotlib.figure.Figure at 0x11178ea20>"
      ]
     },
     "metadata": {},
     "output_type": "display_data"
    }
   ],
   "source": [
    "fimp_tmp = fimp.copy(); fimp_tmp[0] /= 20\n",
    "with plt.style.context(('seaborn-darkgrid')):\n",
    "    fig, ax = plt.subplots(figsize=(5, 12))\n",
    "    sns.barplot(x=fimp_tmp, y=aux_test_set.feature_names, ax=ax)\n",
    "    #plt.xticks(rotation=90);"
   ]
  },
  {
   "cell_type": "code",
   "execution_count": 28,
   "metadata": {
    "hidden": true
   },
   "outputs": [
    {
     "data": {
      "image/png": "[encoded data removed]",
      "text/plain": [
       "<matplotlib.figure.Figure at 0x12be31a20>"
      ]
     },
     "metadata": {},
     "output_type": "display_data"
    }
   ],
   "source": [
    "# Do not plot first bar\n",
    "fig, ax = plt.subplots(figsize=(12, 5))\n",
    "sns.barplot(y=fimp[1:], x=aux_test_set.feature_names[1:], ax=ax)\n",
    "plt.xticks(rotation=90);"
   ]
  },
  {
   "cell_type": "markdown",
   "metadata": {
    "heading_collapsed": true,
    "hidden": true
   },
   "source": [
    "### Trim features\n",
    "\n",
    "Throw away features that do now contribute much. Let's say with an importance of less than 0.005"
   ]
  },
  {
   "cell_type": "code",
   "execution_count": 29,
   "metadata": {
    "collapsed": true,
    "hidden": true
   },
   "outputs": [],
   "source": [
    "thresh = 0.005"
   ]
  },
  {
   "cell_type": "code",
   "execution_count": 30,
   "metadata": {
    "hidden": true
   },
   "outputs": [],
   "source": [
    "def trim_features(cond):\n",
    "    return aux_train_set.features[:, cond], aux_test_set.features[:, cond]"
   ]
  },
  {
   "cell_type": "code",
   "execution_count": 31,
   "metadata": {
    "hidden": true
   },
   "outputs": [
    {
     "data": {
      "text/plain": [
       "(180849, 14)"
      ]
     },
     "execution_count": 31,
     "metadata": {},
     "output_type": "execute_result"
    }
   ],
   "source": [
    "x_trn_trim, x_test_trim = trim_features(fimp > thresh)\n",
    "x_trn_trim.shape"
   ]
  },
  {
   "cell_type": "markdown",
   "metadata": {
    "hidden": true
   },
   "source": [
    "This leaves 14 out of the 40 features."
   ]
  },
  {
   "cell_type": "code",
   "execution_count": 32,
   "metadata": {
    "collapsed": true,
    "hidden": true
   },
   "outputs": [],
   "source": [
    "aux_fc_model_trim = build_fc_model(\n",
    "    n_features=14,\n",
    "    n_outputs=2,\n",
    "    compile=True,\n",
    "    lr=0.01\n",
    ")"
   ]
  },
  {
   "cell_type": "code",
   "execution_count": 33,
   "metadata": {
    "hidden": true
   },
   "outputs": [
    {
     "name": "stdout",
     "output_type": "stream",
     "text": [
      "_________________________________________________________________\n",
      "Layer (type)                 Output Shape              Param #   \n",
      "=================================================================\n",
      "input_2 (InputLayer)         (None, 14)                0         \n",
      "_________________________________________________________________\n",
      "dense_2 (Dense)              (None, 2)                 30        \n",
      "=================================================================\n",
      "Total params: 30\n",
      "Trainable params: 30\n",
      "Non-trainable params: 0\n",
      "_________________________________________________________________\n"
     ]
    }
   ],
   "source": [
    "aux_fc_model_trim.summary()"
   ]
  },
  {
   "cell_type": "code",
   "execution_count": 34,
   "metadata": {
    "hidden": true,
    "scrolled": true
   },
   "outputs": [
    {
     "name": "stderr",
     "output_type": "stream",
     "text": [
      "Widget Javascript not detected.  It may not be installed or enabled properly.\n"
     ]
    },
    {
     "data": {
      "application/vnd.jupyter.widget-view+json": {
       "model_id": "608905a77d204c51b0dff1e806489b72"
      }
     },
     "metadata": {},
     "output_type": "display_data"
    },
    {
     "name": "stdout",
     "output_type": "stream",
     "text": [
      "180849/180849 [==============================] - 0s 1us/step\n",
      "182218/182218 [==============================] - 0s 1us/step\n",
      "180849/180849 [==============================] - 0s 1us/step\n",
      "182218/182218 [==============================] - 0s 1us/step\n",
      "180849/180849 [==============================] - 0s 1us/step\n",
      "182218/182218 [==============================] - 0s 1us/step\n",
      "180849/180849 [==============================] - 0s 1us/step\n",
      "182218/182218 [==============================] - 0s 1us/step\n",
      "180849/180849 [==============================] - 0s 1us/step\n",
      "182218/182218 [==============================] - 0s 1us/step\n",
      "\n"
     ]
    }
   ],
   "source": [
    "trn_scores, test_scores = avg_score(\n",
    "    aux_fc_model_trim, 5,\n",
    "    x_trn_trim, aux_train_set.targets,\n",
    "    x_test_trim, aux_test_set.targets,\n",
    "    epochs=50, batch_size=1024, verbose=0,\n",
    ")"
   ]
  },
  {
   "cell_type": "code",
   "execution_count": 35,
   "metadata": {
    "hidden": true
   },
   "outputs": [
    {
     "data": {
      "text/plain": [
       "(0.96429037735451895, 0.00090936288930071297)"
      ]
     },
     "execution_count": 35,
     "metadata": {},
     "output_type": "execute_result"
    }
   ],
   "source": [
    "np.mean(trn_scores), np.std(trn_scores)"
   ]
  },
  {
   "cell_type": "code",
   "execution_count": 36,
   "metadata": {
    "hidden": true
   },
   "outputs": [
    {
     "data": {
      "text/plain": [
       "(0.91769490035665791, 0.0017434400075674911)"
      ]
     },
     "execution_count": 36,
     "metadata": {},
     "output_type": "execute_result"
    }
   ],
   "source": [
    "np.mean(test_scores), np.std(test_scores)"
   ]
  },
  {
   "cell_type": "markdown",
   "metadata": {
    "heading_collapsed": true
   },
   "source": [
    "## With embeddings"
   ]
  },
  {
   "cell_type": "markdown",
   "metadata": {
    "hidden": true
   },
   "source": [
    "### Train the model"
   ]
  },
  {
   "cell_type": "code",
   "execution_count": 7,
   "metadata": {
    "hidden": true
   },
   "outputs": [
    {
     "data": {
      "text/plain": [
       "536"
      ]
     },
     "execution_count": 7,
     "metadata": {},
     "output_type": "execute_result"
    }
   ],
   "source": [
    "emb_size = 2\n",
    "max_id = int(np.max([aux_train_set.cont_ids.max(), aux_test_set.cont_ids.max()]))\n",
    "max_id"
   ]
  },
  {
   "cell_type": "code",
   "execution_count": 28,
   "metadata": {
    "hidden": true
   },
   "outputs": [
    {
     "name": "stdout",
     "output_type": "stream",
     "text": [
      "____________________________________________________________________________________________________\n",
      "Layer (type)                     Output Shape          Param #     Connected to                     \n",
      "====================================================================================================\n",
      "input_4 (InputLayer)             (None, 1)             0                                            \n",
      "____________________________________________________________________________________________________\n",
      "embedding_1 (Embedding)          (None, 1, 2)          1074        input_4[0][0]                    \n",
      "____________________________________________________________________________________________________\n",
      "input_3 (InputLayer)             (None, 40)            0                                            \n",
      "____________________________________________________________________________________________________\n",
      "flatten_1 (Flatten)              (None, 2)             0           embedding_1[0][0]                \n",
      "____________________________________________________________________________________________________\n",
      "concatenate_1 (Concatenate)      (None, 42)            0           input_3[0][0]                    \n",
      "                                                                   flatten_1[0][0]                  \n",
      "____________________________________________________________________________________________________\n",
      "dense_3 (Dense)                  (None, 2)             86          concatenate_1[0][0]              \n",
      "====================================================================================================\n",
      "Total params: 1,160\n",
      "Trainable params: 1,160\n",
      "Non-trainable params: 0\n",
      "____________________________________________________________________________________________________\n"
     ]
    }
   ],
   "source": [
    "aux_emb_model = build_emb_model(n_features, 2, [], emb_size, max_id, compile=True, lr=0.01)\n",
    "aux_emb_model.summary()"
   ]
  },
  {
   "cell_type": "code",
   "execution_count": 29,
   "metadata": {
    "collapsed": true,
    "hidden": true
   },
   "outputs": [
    {
     "name": "stdout",
     "output_type": "stream",
     "text": [
      "Epoch 1/50\n",
      "180849/180849 [==============================] - 1s - loss: 3.2274     \n",
      "Epoch 2/50\n",
      "180849/180849 [==============================] - 1s - loss: 2.0904     \n",
      "Epoch 3/50\n",
      "180849/180849 [==============================] - 0s - loss: 1.7208     \n",
      "Epoch 4/50\n",
      "180849/180849 [==============================] - 0s - loss: 1.5229     \n",
      "Epoch 5/50\n",
      "180849/180849 [==============================] - 0s - loss: 1.3816     \n",
      "Epoch 6/50\n",
      "180849/180849 [==============================] - 1s - loss: 1.2773     \n",
      "Epoch 7/50\n",
      "180849/180849 [==============================] - 0s - loss: 1.1991     \n",
      "Epoch 8/50\n",
      "180849/180849 [==============================] - 0s - loss: 1.1383     \n",
      "Epoch 9/50\n",
      "180849/180849 [==============================] - 0s - loss: 1.0941     \n",
      "Epoch 10/50\n",
      "180849/180849 [==============================] - 1s - loss: 1.0594     \n",
      "Epoch 11/50\n",
      "180849/180849 [==============================] - 1s - loss: 1.0324     \n",
      "Epoch 12/50\n",
      "180849/180849 [==============================] - 0s - loss: 1.0127     \n",
      "Epoch 13/50\n",
      "180849/180849 [==============================] - 0s - loss: 0.9970     \n",
      "Epoch 14/50\n",
      "180849/180849 [==============================] - 1s - loss: 0.9844     \n",
      "Epoch 15/50\n",
      "180849/180849 [==============================] - 0s - loss: 0.9737     \n",
      "Epoch 16/50\n",
      "180849/180849 [==============================] - 1s - loss: 0.9652     \n",
      "Epoch 17/50\n",
      "180849/180849 [==============================] - 1s - loss: 0.9576     \n",
      "Epoch 18/50\n",
      "180849/180849 [==============================] - 1s - loss: 0.9513     \n",
      "Epoch 19/50\n",
      "180849/180849 [==============================] - 0s - loss: 0.9455     \n",
      "Epoch 20/50\n",
      "180849/180849 [==============================] - 1s - loss: 0.9401     \n",
      "Epoch 21/50\n",
      "180849/180849 [==============================] - 0s - loss: 0.9358     \n",
      "Epoch 22/50\n",
      "180849/180849 [==============================] - 0s - loss: 0.9313     \n",
      "Epoch 23/50\n",
      "180849/180849 [==============================] - 1s - loss: 0.9280     \n",
      "Epoch 24/50\n",
      "180849/180849 [==============================] - 1s - loss: 0.9244     \n",
      "Epoch 25/50\n",
      "180849/180849 [==============================] - 1s - loss: 0.9227     \n",
      "Epoch 26/50\n",
      "180849/180849 [==============================] - 1s - loss: 0.9202     \n",
      "Epoch 27/50\n",
      "180849/180849 [==============================] - 1s - loss: 0.9186     \n",
      "Epoch 28/50\n",
      "180849/180849 [==============================] - 1s - loss: 0.9173     \n",
      "Epoch 29/50\n",
      "180849/180849 [==============================] - 0s - loss: 0.9145     \n",
      "Epoch 30/50\n",
      "180849/180849 [==============================] - 1s - loss: 0.9139     \n",
      "Epoch 31/50\n",
      "180849/180849 [==============================] - 0s - loss: 0.9127     \n",
      "Epoch 32/50\n",
      "180849/180849 [==============================] - 0s - loss: 0.9125     \n",
      "Epoch 33/50\n",
      "180849/180849 [==============================] - 0s - loss: 0.9121     \n",
      "Epoch 34/50\n",
      "180849/180849 [==============================] - 0s - loss: 0.9108     \n",
      "Epoch 35/50\n",
      "180849/180849 [==============================] - 0s - loss: 0.9102     \n",
      "Epoch 36/50\n",
      "180849/180849 [==============================] - 0s - loss: 0.9107     \n",
      "Epoch 37/50\n",
      "180849/180849 [==============================] - 1s - loss: 0.9097     \n",
      "Epoch 38/50\n",
      "180849/180849 [==============================] - 1s - loss: 0.9093     \n",
      "Epoch 39/50\n",
      "180849/180849 [==============================] - 0s - loss: 0.9096     \n",
      "Epoch 40/50\n",
      "180849/180849 [==============================] - 0s - loss: 0.9087     \n",
      "Epoch 41/50\n",
      "180849/180849 [==============================] - 1s - loss: 0.9087     \n",
      "Epoch 42/50\n",
      "180849/180849 [==============================] - 0s - loss: 0.9083     \n",
      "Epoch 43/50\n",
      "180849/180849 [==============================] - 1s - loss: 0.9089     \n",
      "Epoch 44/50\n",
      "180849/180849 [==============================] - 1s - loss: 0.9088     \n",
      "Epoch 45/50\n",
      "180849/180849 [==============================] - 1s - loss: 0.9089     \n",
      "Epoch 46/50\n",
      "180849/180849 [==============================] - 1s - loss: 0.9085     \n",
      "Epoch 47/50\n",
      "180849/180849 [==============================] - 1s - loss: 0.9082     \n",
      "Epoch 48/50\n",
      "180849/180849 [==============================] - 0s - loss: 0.9079     \n",
      "Epoch 49/50\n",
      "180849/180849 [==============================] - 0s - loss: 0.9087     - ETA: 0\n",
      "Epoch 50/50\n",
      "180849/180849 [==============================] - 0s - loss: 0.9077     \n"
     ]
    }
   ],
   "source": [
    "aux_emb_model.fit([aux_train_set.features, aux_train_set.cont_ids], aux_train_set.targets, \n",
    "                   epochs=50, batch_size=1024, verbose=0);"
   ]
  },
  {
   "cell_type": "code",
   "execution_count": 32,
   "metadata": {
    "hidden": true
   },
   "outputs": [
    {
     "data": {
      "text/plain": [
       "0.90725831819159775"
      ]
     },
     "execution_count": 32,
     "metadata": {},
     "output_type": "execute_result"
    }
   ],
   "source": [
    "aux_emb_model.evaluate(\n",
    "    [aux_train_set.features, aux_train_set.cont_ids], aux_train_set.targets, 4096, 0)"
   ]
  },
  {
   "cell_type": "code",
   "execution_count": 30,
   "metadata": {
    "hidden": true
   },
   "outputs": [
    {
     "data": {
      "text/plain": [
       "0.88260775372673994"
      ]
     },
     "execution_count": 30,
     "metadata": {},
     "output_type": "execute_result"
    }
   ],
   "source": [
    "emb_ref_score = aux_emb_model.evaluate(\n",
    "    [aux_test_set.features, aux_test_set.cont_ids], aux_test_set.targets, 4096, 0)\n",
    "emb_ref_score"
   ]
  },
  {
   "cell_type": "markdown",
   "metadata": {
    "heading_collapsed": true,
    "hidden": true
   },
   "source": [
    "### Get feature importance"
   ]
  },
  {
   "cell_type": "code",
   "execution_count": 20,
   "metadata": {
    "hidden": true
   },
   "outputs": [],
   "source": [
    "def perm_imp_emb(m, ref):\n",
    "    scores = [eval_shuf(m, i, True) for i in range(len(aux_test_set.feature_names))]\n",
    "    ids_shuf = np.random.permutation(aux_test_set.cont_ids)\n",
    "    scores += [m.evaluate([aux_test_set.features, ids_shuf], aux_test_set.targets, 4096, 0)]\n",
    "    return np.array(scores) - ref"
   ]
  },
  {
   "cell_type": "code",
   "execution_count": 74,
   "metadata": {
    "collapsed": true,
    "hidden": true
   },
   "outputs": [],
   "source": [
    "fimp_emb = perm_imp_emb(aux_emb_model, emb_ref_score)"
   ]
  },
  {
   "cell_type": "code",
   "execution_count": 75,
   "metadata": {
    "hidden": true
   },
   "outputs": [
    {
     "data": {
      "image/png": "[encoded data removed]",
      "text/plain": [
       "<matplotlib.figure.Figure at 0x1268022b0>"
      ]
     },
     "metadata": {},
     "output_type": "display_data"
    }
   ],
   "source": [
    "fig, ax = plt.subplots(figsize=(12, 5))\n",
    "sns.barplot(y=fimp_emb, x=aux_test_set.feature_names + ['Embeddings'], ax=ax)\n",
    "plt.xticks(rotation=90);"
   ]
  },
  {
   "cell_type": "code",
   "execution_count": 76,
   "metadata": {
    "hidden": true
   },
   "outputs": [
    {
     "data": {
      "image/png": "[encoded data removed]",
      "text/plain": [
       "<matplotlib.figure.Figure at 0x126b083c8>"
      ]
     },
     "metadata": {},
     "output_type": "display_data"
    }
   ],
   "source": [
    "fig, ax = plt.subplots(figsize=(12, 5))\n",
    "sns.barplot(y=fimp_emb[1:], x=aux_test_set.feature_names[1:] + ['Embeddings'], ax=ax)\n",
    "plt.xticks(rotation=90);"
   ]
  },
  {
   "cell_type": "markdown",
   "metadata": {
    "collapsed": true
   },
   "source": [
    "## Neural net with hidden layer and embeddings\n",
    "\n",
    "This is our best configuration for one year of data."
   ]
  },
  {
   "cell_type": "markdown",
   "metadata": {
    "collapsed": true
   },
   "source": [
    "### Train the model"
   ]
  },
  {
   "cell_type": "code",
   "execution_count": 8,
   "metadata": {},
   "outputs": [
    {
     "name": "stdout",
     "output_type": "stream",
     "text": [
      "__________________________________________________________________________________________________\n",
      "Layer (type)                    Output Shape         Param #     Connected to                     \n",
      "==================================================================================================\n",
      "input_2 (InputLayer)            (None, 1)            0                                            \n",
      "__________________________________________________________________________________________________\n",
      "embedding_1 (Embedding)         (None, 1, 2)         1074        input_2[0][0]                    \n",
      "__________________________________________________________________________________________________\n",
      "input_1 (InputLayer)            (None, 40)           0                                            \n",
      "__________________________________________________________________________________________________\n",
      "flatten_1 (Flatten)             (None, 2)            0           embedding_1[0][0]                \n",
      "__________________________________________________________________________________________________\n",
      "concatenate_1 (Concatenate)     (None, 42)           0           input_1[0][0]                    \n",
      "                                                                 flatten_1[0][0]                  \n",
      "__________________________________________________________________________________________________\n",
      "dense_1 (Dense)                 (None, 50)           2150        concatenate_1[0][0]              \n",
      "__________________________________________________________________________________________________\n",
      "dense_2 (Dense)                 (None, 2)            102         dense_1[0][0]                    \n",
      "==================================================================================================\n",
      "Total params: 3,326\n",
      "Trainable params: 3,326\n",
      "Non-trainable params: 0\n",
      "__________________________________________________________________________________________________\n"
     ]
    }
   ],
   "source": [
    "emb_nnet = build_emb_model(n_features, 2, [50], emb_size, max_id, compile=True, lr=0.01)\n",
    "emb_nnet.summary()"
   ]
  },
  {
   "cell_type": "code",
   "execution_count": 13,
   "metadata": {},
   "outputs": [
    {
     "data": {
      "application/vnd.jupyter.widget-view+json": {
       "model_id": "130ed4e35f31492c8c6463063743d622",
       "version_major": 2,
       "version_minor": 0
      },
      "text/html": [
       "<p>Failed to display Jupyter Widget of type <code>HBox</code>.</p>\n",
       "<p>\n",
       "  If you're reading this message in the Jupyter Notebook or JupyterLab Notebook, it may mean\n",
       "  that the widgets JavaScript is still loading. If this message persists, it\n",
       "  likely means that the widgets JavaScript library is either not installed or\n",
       "  not enabled. See the <a href=\"https://ipywidgets.readthedocs.io/en/stable/user_install.html\">Jupyter\n",
       "  Widgets Documentation</a> for setup instructions.\n",
       "</p>\n",
       "<p>\n",
       "  If you're reading this message in another frontend (for example, a static\n",
       "  rendering on GitHub or <a href=\"https://nbviewer.jupyter.org/\">NBViewer</a>),\n",
       "  it may mean that your frontend doesn't currently support widgets.\n",
       "</p>\n"
      ],
      "text/plain": [
       "HBox(children=(IntProgress(value=0, max=5), HTML(value='')))"
      ]
     },
     "metadata": {},
     "output_type": "display_data"
    },
    {
     "name": "stdout",
     "output_type": "stream",
     "text": [
      "\n"
     ]
    },
    {
     "name": "stderr",
     "output_type": "stream",
     "text": [
      "Exception in thread Thread-4:\n",
      "Traceback (most recent call last):\n",
      "  File \"/export/home/srasp/anaconda3/lib/python3.6/threading.py\", line 916, in _bootstrap_inner\n",
      "    self.run()\n",
      "  File \"/export/home/srasp/anaconda3/lib/python3.6/site-packages/tqdm/_monitor.py\", line 63, in run\n",
      "    for instance in self.tqdm_cls._instances:\n",
      "  File \"/export/home/srasp/anaconda3/lib/python3.6/_weakrefset.py\", line 60, in __iter__\n",
      "    for itemref in self.data:\n",
      "RuntimeError: Set changed size during iteration\n",
      "\n"
     ]
    },
    {
     "name": "stdout",
     "output_type": "stream",
     "text": [
      "\n"
     ]
    }
   ],
   "source": [
    "trn_scores, test_scores = avg_score(\n",
    "    emb_nnet, 5,\n",
    "    [aux_train_set.features, aux_train_set.cont_ids], aux_train_set.targets,\n",
    "    [aux_test_set.features, aux_test_set.cont_ids], aux_test_set.targets,\n",
    "    epochs=30, batch_size=1024, verbose=0,\n",
    ")"
   ]
  },
  {
   "cell_type": "code",
   "execution_count": 14,
   "metadata": {},
   "outputs": [
    {
     "data": {
      "text/plain": [
       "(0.8048421494658188, 0.006882311234578515)"
      ]
     },
     "execution_count": 14,
     "metadata": {},
     "output_type": "execute_result"
    }
   ],
   "source": [
    "np.mean(trn_scores), np.std(trn_scores, ddof=1)"
   ]
  },
  {
   "cell_type": "code",
   "execution_count": 15,
   "metadata": {},
   "outputs": [
    {
     "data": {
      "text/plain": [
       "(0.8461985445005311, 0.009921560872393933)"
      ]
     },
     "execution_count": 15,
     "metadata": {},
     "output_type": "execute_result"
    }
   ],
   "source": [
    "np.mean(test_scores), np.std(test_scores, ddof=1)"
   ]
  },
  {
   "cell_type": "code",
   "execution_count": 16,
   "metadata": {},
   "outputs": [
    {
     "data": {
      "text/plain": [
       "[0.8489252888564541,\n",
       " 0.8551584273996414,\n",
       " 0.8354040066417301,\n",
       " 0.8360284346828363,\n",
       " 0.8554765649219941]"
      ]
     },
     "execution_count": 16,
     "metadata": {},
     "output_type": "execute_result"
    }
   ],
   "source": [
    "test_scores"
   ]
  },
  {
   "cell_type": "code",
   "execution_count": 17,
   "metadata": {},
   "outputs": [
    {
     "data": {
      "text/plain": [
       "0.8554765649219941"
      ]
     },
     "execution_count": 17,
     "metadata": {},
     "output_type": "execute_result"
    }
   ],
   "source": [
    "emb_nnet_ref = emb_nnet.evaluate(\n",
    "    [aux_test_set.features, aux_test_set.cont_ids], aux_test_set.targets, 4096, 0)\n",
    "emb_nnet_ref"
   ]
  },
  {
   "cell_type": "markdown",
   "metadata": {},
   "source": [
    "### Evaluate feature importance"
   ]
  },
  {
   "cell_type": "code",
   "execution_count": 24,
   "metadata": {},
   "outputs": [],
   "source": [
    "fimp_emb_nnet = perm_imp_emb(emb_nnet, emb_nnet_ref)"
   ]
  },
  {
   "cell_type": "code",
   "execution_count": 25,
   "metadata": {},
   "outputs": [
    {
     "data": {
      "image/png": "[encoded data removed]",
      "text/plain": [
       "<Figure size 864x360 with 1 Axes>"
      ]
     },
     "metadata": {},
     "output_type": "display_data"
    }
   ],
   "source": [
    "fig, ax = plt.subplots(figsize=(12, 5))\n",
    "sns.barplot(y=fimp_emb_nnet, x=aux_test_set.feature_names + ['Embeddings'], ax=ax)\n",
    "plt.xticks(rotation=90);"
   ]
  },
  {
   "cell_type": "code",
   "execution_count": 26,
   "metadata": {},
   "outputs": [
    {
     "data": {
      "image/png": "[encoded data removed]",
      "text/plain": [
       "<Figure size 864x360 with 1 Axes>"
      ]
     },
     "metadata": {},
     "output_type": "display_data"
    }
   ],
   "source": [
    "fig, ax = plt.subplots(figsize=(12, 5))\n",
    "sns.barplot(y=fimp_emb_nnet[1:], x=aux_test_set.feature_names[1:] + ['Embeddings'], ax=ax)\n",
    "plt.xticks(rotation=90);"
   ]
  },
  {
   "cell_type": "markdown",
   "metadata": {},
   "source": [
    "## Throw away \"useless\" features"
   ]
  },
  {
   "cell_type": "code",
   "execution_count": 27,
   "metadata": {},
   "outputs": [
    {
     "data": {
      "text/plain": [
       "0.010961926426723334"
      ]
     },
     "execution_count": 27,
     "metadata": {},
     "output_type": "execute_result"
    }
   ],
   "source": [
    "# We don't want to throw away the temperature std\n",
    "fimp_emb_nnet[1]"
   ]
  },
  {
   "cell_type": "code",
   "execution_count": 39,
   "metadata": {},
   "outputs": [],
   "source": [
    "thresh = 0.01"
   ]
  },
  {
   "cell_type": "code",
   "execution_count": 40,
   "metadata": {},
   "outputs": [
    {
     "data": {
      "text/plain": [
       "(180849, 15)"
      ]
     },
     "execution_count": 40,
     "metadata": {},
     "output_type": "execute_result"
    }
   ],
   "source": [
    "x_trn_trim, x_test_trim = trim_features(fimp_emb_nnet[:-1] > thresh)\n",
    "x_trn_trim.shape"
   ]
  },
  {
   "cell_type": "code",
   "execution_count": 41,
   "metadata": {},
   "outputs": [
    {
     "name": "stdout",
     "output_type": "stream",
     "text": [
      "__________________________________________________________________________________________________\n",
      "Layer (type)                    Output Shape         Param #     Connected to                     \n",
      "==================================================================================================\n",
      "input_6 (InputLayer)            (None, 1)            0                                            \n",
      "__________________________________________________________________________________________________\n",
      "embedding_3 (Embedding)         (None, 1, 2)         1074        input_6[0][0]                    \n",
      "__________________________________________________________________________________________________\n",
      "input_5 (InputLayer)            (None, 15)           0                                            \n",
      "__________________________________________________________________________________________________\n",
      "flatten_3 (Flatten)             (None, 2)            0           embedding_3[0][0]                \n",
      "__________________________________________________________________________________________________\n",
      "concatenate_3 (Concatenate)     (None, 17)           0           input_5[0][0]                    \n",
      "                                                                 flatten_3[0][0]                  \n",
      "__________________________________________________________________________________________________\n",
      "dense_5 (Dense)                 (None, 50)           900         concatenate_3[0][0]              \n",
      "__________________________________________________________________________________________________\n",
      "dense_6 (Dense)                 (None, 2)            102         dense_5[0][0]                    \n",
      "==================================================================================================\n",
      "Total params: 2,076\n",
      "Trainable params: 2,076\n",
      "Non-trainable params: 0\n",
      "__________________________________________________________________________________________________\n"
     ]
    }
   ],
   "source": [
    "nnet_trim = build_emb_model(x_trn_trim.shape[1], 2, [50], emb_size, max_id, compile=True, lr=0.01)\n",
    "nnet_trim.summary()"
   ]
  },
  {
   "cell_type": "code",
   "execution_count": 42,
   "metadata": {},
   "outputs": [
    {
     "data": {
      "application/vnd.jupyter.widget-view+json": {
       "model_id": "c945675edf994681bcaf71d60831b796",
       "version_major": 2,
       "version_minor": 0
      },
      "text/html": [
       "<p>Failed to display Jupyter Widget of type <code>HBox</code>.</p>\n",
       "<p>\n",
       "  If you're reading this message in the Jupyter Notebook or JupyterLab Notebook, it may mean\n",
       "  that the widgets JavaScript is still loading. If this message persists, it\n",
       "  likely means that the widgets JavaScript library is either not installed or\n",
       "  not enabled. See the <a href=\"https://ipywidgets.readthedocs.io/en/stable/user_install.html\">Jupyter\n",
       "  Widgets Documentation</a> for setup instructions.\n",
       "</p>\n",
       "<p>\n",
       "  If you're reading this message in another frontend (for example, a static\n",
       "  rendering on GitHub or <a href=\"https://nbviewer.jupyter.org/\">NBViewer</a>),\n",
       "  it may mean that your frontend doesn't currently support widgets.\n",
       "</p>\n"
      ],
      "text/plain": [
       "HBox(children=(IntProgress(value=0, max=5), HTML(value='')))"
      ]
     },
     "metadata": {},
     "output_type": "display_data"
    },
    {
     "name": "stdout",
     "output_type": "stream",
     "text": [
      "\n"
     ]
    }
   ],
   "source": [
    "trn_scores, test_scores = avg_score(\n",
    "    nnet_trim, 5,\n",
    "    [x_trn_trim, aux_train_set.cont_ids], aux_train_set.targets,\n",
    "    [x_test_trim, aux_test_set.cont_ids], aux_test_set.targets,\n",
    "    epochs=30, batch_size=1024, verbose=0,\n",
    ")"
   ]
  },
  {
   "cell_type": "code",
   "execution_count": 43,
   "metadata": {},
   "outputs": [
    {
     "data": {
      "text/plain": [
       "(0.8358143159014677, 0.008994054448238335)"
      ]
     },
     "execution_count": 43,
     "metadata": {},
     "output_type": "execute_result"
    }
   ],
   "source": [
    "np.mean(trn_scores), np.std(trn_scores, ddof=1)"
   ]
  },
  {
   "cell_type": "code",
   "execution_count": 44,
   "metadata": {},
   "outputs": [
    {
     "data": {
      "text/plain": [
       "(0.8594396585043468, 0.017255493172556334)"
      ]
     },
     "execution_count": 44,
     "metadata": {},
     "output_type": "execute_result"
    }
   ],
   "source": [
    "np.mean(test_scores), np.std(test_scores, ddof=1)"
   ]
  },
  {
   "cell_type": "code",
   "execution_count": 45,
   "metadata": {},
   "outputs": [
    {
     "data": {
      "text/plain": [
       "[0.8450825292741015,\n",
       " 0.8435096814131838,\n",
       " 0.8731180189532733,\n",
       " 0.8534945738306554,\n",
       " 0.88199348905052]"
      ]
     },
     "execution_count": 45,
     "metadata": {},
     "output_type": "execute_result"
    }
   ],
   "source": [
    "test_scores"
   ]
  },
  {
   "cell_type": "code",
   "execution_count": null,
   "metadata": {},
   "outputs": [],
   "source": []
  }
 ],
 "metadata": {
  "kernelspec": {
   "display_name": "Python 3",
   "language": "python",
   "name": "python3"
  },
  "language_info": {
   "codemirror_mode": {
    "name": "ipython",
    "version": 3
   },
   "file_extension": ".py",
   "mimetype": "text/x-python",
   "name": "python",
   "nbconvert_exporter": "python",
   "pygments_lexer": "ipython3",
   "version": "3.6.4"
  },
  "toc": {
   "nav_menu": {},
   "number_sections": true,
   "sideBar": true,
   "skip_h1_title": true,
   "title_cell": "Table of Contents",
   "title_sidebar": "Contents",
   "toc_cell": true,
   "toc_position": {},
   "toc_section_display": "block",
   "toc_window_display": false
  }
 },
 "nbformat": 4,
 "nbformat_minor": 2
}
