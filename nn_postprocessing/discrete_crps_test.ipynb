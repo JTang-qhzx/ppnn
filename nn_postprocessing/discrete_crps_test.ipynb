{
 "cells": [
  {
   "cell_type": "markdown",
   "metadata": {
    "toc": "true"
   },
   "source": [
    " # Table of Contents\n",
    "<div class=\"toc\" style=\"margin-top: 1em;\"><ul class=\"toc-item\" id=\"toc-level0\"></ul></div>"
   ]
  },
  {
   "cell_type": "code",
   "execution_count": 3,
   "metadata": {},
   "outputs": [
    {
     "name": "stderr",
     "output_type": "stream",
     "text": [
      "Using TensorFlow backend.\n"
     ]
    }
   ],
   "source": [
    "from utils import crps_normal"
   ]
  },
  {
   "cell_type": "code",
   "execution_count": 4,
   "metadata": {
    "collapsed": true
   },
   "outputs": [],
   "source": [
    "mean = 1\n",
    "sigma = 3\n",
    "obs = 2"
   ]
  },
  {
   "cell_type": "code",
   "execution_count": 5,
   "metadata": {},
   "outputs": [
    {
     "data": {
      "text/plain": [
       "0.83284793515116295"
      ]
     },
     "execution_count": 5,
     "metadata": {},
     "output_type": "execute_result"
    }
   ],
   "source": [
    "crps_normal(mean, sigma, obs)"
   ]
  },
  {
   "cell_type": "code",
   "execution_count": 6,
   "metadata": {
    "collapsed": true
   },
   "outputs": [],
   "source": [
    "from scipy.stats import norm"
   ]
  },
  {
   "cell_type": "code",
   "execution_count": 11,
   "metadata": {
    "collapsed": true
   },
   "outputs": [],
   "source": [
    "import matplotlib.pyplot as plt\n",
    "%matplotlib inline"
   ]
  },
  {
   "cell_type": "code",
   "execution_count": 8,
   "metadata": {
    "collapsed": true
   },
   "outputs": [],
   "source": [
    "import numpy as np"
   ]
  },
  {
   "cell_type": "code",
   "execution_count": 13,
   "metadata": {},
   "outputs": [
    {
     "data": {
      "text/plain": [
       "<matplotlib.lines.Line2D at 0x11bb125f8>"
      ]
     },
     "execution_count": 13,
     "metadata": {},
     "output_type": "execute_result"
    },
    {
     "data": {
      "image/png": "[encoded data removed]",
      "text/plain": [
       "<matplotlib.figure.Figure at 0x11b8d88d0>"
      ]
     },
     "metadata": {},
     "output_type": "display_data"
    }
   ],
   "source": [
    "x = np.linspace(-10, 10, 100)\n",
    "plt.plot(x, norm.pdf(x, mean, sigma))\n",
    "plt.axvline(obs)"
   ]
  },
  {
   "cell_type": "code",
   "execution_count": 14,
   "metadata": {},
   "outputs": [
    {
     "data": {
      "text/plain": [
       "<matplotlib.lines.Line2D at 0x11bea4e10>"
      ]
     },
     "execution_count": 14,
     "metadata": {},
     "output_type": "execute_result"
    },
    {
     "data": {
      "image/png": "[encoded data removed]",
      "text/plain": [
       "<matplotlib.figure.Figure at 0x11bea4d30>"
      ]
     },
     "metadata": {},
     "output_type": "display_data"
    }
   ],
   "source": [
    "plt.plot(x, norm.cdf(x, mean, sigma))\n",
    "plt.axvline(obs)"
   ]
  },
  {
   "cell_type": "code",
   "execution_count": 15,
   "metadata": {},
   "outputs": [
    {
     "data": {
      "text/plain": [
       "array([-10,  -9,  -8,  -7,  -6,  -5,  -4,  -3,  -2,  -1,   0,   1,   2,\n",
       "         3,   4,   5,   6,   7,   8,   9,  10])"
      ]
     },
     "execution_count": 15,
     "metadata": {},
     "output_type": "execute_result"
    }
   ],
   "source": [
    "bins = np.arange(-10, 11)\n",
    "bins"
   ]
  },
  {
   "cell_type": "code",
   "execution_count": 16,
   "metadata": {
    "collapsed": true
   },
   "outputs": [],
   "source": [
    "from scipy.stats import binned_statistic"
   ]
  },
  {
   "cell_type": "code",
   "execution_count": 18,
   "metadata": {},
   "outputs": [
    {
     "data": {
      "text/plain": [
       "array([ 0.00027361,  0.00084067,  0.00230843,  0.00566494,  0.01242418,\n",
       "        0.02435222,  0.04265903,  0.06678636,  0.0934483 ,  0.11685937,\n",
       "        0.13060667,  0.13046003,  0.11646618,  0.09292485,  0.0662632 ,\n",
       "        0.04222987,  0.02405312,  0.01224403,  0.00557026,  0.00226476])"
      ]
     },
     "execution_count": 18,
     "metadata": {},
     "output_type": "execute_result"
    }
   ],
   "source": [
    "discrete_pdf = binned_statistic(x, norm.pdf(x, mean, sigma), bins=bins)[0]\n",
    "discrete_pdf"
   ]
  },
  {
   "cell_type": "code",
   "execution_count": 19,
   "metadata": {},
   "outputs": [
    {
     "data": {
      "text/plain": [
       "<matplotlib.lines.Line2D at 0x11fb8ab00>"
      ]
     },
     "execution_count": 19,
     "metadata": {},
     "output_type": "execute_result"
    },
    {
     "data": {
      "image/png": "[encoded data removed]",
      "text/plain": [
       "<matplotlib.figure.Figure at 0x11f8c9048>"
      ]
     },
     "metadata": {},
     "output_type": "display_data"
    }
   ],
   "source": [
    "plt.bar(bins[:-1], discrete_pdf)\n",
    "plt.axvline(obs)"
   ]
  },
  {
   "cell_type": "code",
   "execution_count": 20,
   "metadata": {},
   "outputs": [
    {
     "data": {
      "text/plain": [
       "array([  2.18868160e-04,   7.33855671e-04,   2.21518074e-03,\n",
       "         6.02693689e-03,   1.48015893e-02,   3.28722022e-02,\n",
       "         6.61658285e-02,   1.21044127e-01,   2.01971698e-01,\n",
       "         3.08742533e-01,   4.34771928e-01,   5.67865119e-01,\n",
       "         6.93614298e-01,   7.99910861e-01,   8.80299806e-01,\n",
       "         9.34691631e-01,   9.67616736e-01,   9.85447581e-01,\n",
       "         9.94086548e-01,   9.97831012e-01])"
      ]
     },
     "execution_count": 20,
     "metadata": {},
     "output_type": "execute_result"
    }
   ],
   "source": [
    "discrete_cdf = binned_statistic(x, norm.cdf(x, mean, sigma), bins=bins)[0]\n",
    "discrete_cdf"
   ]
  },
  {
   "cell_type": "code",
   "execution_count": 31,
   "metadata": {},
   "outputs": [
    {
     "data": {
      "text/plain": [
       "<matplotlib.lines.Line2D at 0x120364518>"
      ]
     },
     "execution_count": 31,
     "metadata": {},
     "output_type": "execute_result"
    },
    {
     "data": {
      "image/png": "[encoded data removed]",
      "text/plain": [
       "<matplotlib.figure.Figure at 0x11fb37550>"
      ]
     },
     "metadata": {},
     "output_type": "display_data"
    }
   ],
   "source": [
    "plt.bar(bins[:-1], discrete_cdf)\n",
    "plt.bar(bins[:-1], np.asarray(bins[:-1] > obs, dtype='float'), color='g', zorder=0.1)\n",
    "plt.axvline(obs)"
   ]
  },
  {
   "cell_type": "code",
   "execution_count": 24,
   "metadata": {},
   "outputs": [
    {
     "data": {
      "text/plain": [
       "(array([  2.73605201e-04,   1.11428006e-03,   3.42270989e-03,\n",
       "          9.08764703e-03,   2.15118273e-02,   4.58640472e-02,\n",
       "          8.85230742e-02,   1.55309436e-01,   2.48757734e-01,\n",
       "          3.65617100e-01,   4.96223769e-01,   6.26683795e-01,\n",
       "          7.43149975e-01,   8.36074828e-01,   9.02338032e-01,\n",
       "          9.44567898e-01,   9.68621016e-01,   9.80865051e-01,\n",
       "          9.86435315e-01,   9.88700070e-01]),\n",
       " array([  2.18868160e-04,   7.33855671e-04,   2.21518074e-03,\n",
       "          6.02693689e-03,   1.48015893e-02,   3.28722022e-02,\n",
       "          6.61658285e-02,   1.21044127e-01,   2.01971698e-01,\n",
       "          3.08742533e-01,   4.34771928e-01,   5.67865119e-01,\n",
       "          6.93614298e-01,   7.99910861e-01,   8.80299806e-01,\n",
       "          9.34691631e-01,   9.67616736e-01,   9.85447581e-01,\n",
       "          9.94086548e-01,   9.97831012e-01]))"
      ]
     },
     "execution_count": 24,
     "metadata": {},
     "output_type": "execute_result"
    }
   ],
   "source": [
    "np.cumsum(discrete_pdf), discrete_cdf"
   ]
  },
  {
   "cell_type": "code",
   "execution_count": 27,
   "metadata": {},
   "outputs": [
    {
     "data": {
      "text/plain": [
       "array([  2.18868160e-04,   7.33855671e-04,   2.21518074e-03,\n",
       "         6.02693689e-03,   1.48015893e-02,   3.28722022e-02,\n",
       "         6.61658285e-02,   1.21044127e-01,   2.01971698e-01,\n",
       "         3.08742533e-01,   4.34771928e-01,   5.67865119e-01,\n",
       "         6.93614298e-01,  -2.00089139e-01,  -1.19700194e-01,\n",
       "        -6.53083690e-02,  -3.23832638e-02,  -1.45524189e-02,\n",
       "        -5.91345226e-03,  -2.16898819e-03])"
      ]
     },
     "execution_count": 27,
     "metadata": {},
     "output_type": "execute_result"
    }
   ],
   "source": [
    "discrete_cdf - np.asarray(bins[:-1] > obs, dtype='float')"
   ]
  },
  {
   "cell_type": "code",
   "execution_count": 29,
   "metadata": {},
   "outputs": [
    {
     "data": {
      "text/plain": [
       "0.060450646164963498"
      ]
     },
     "execution_count": 29,
     "metadata": {},
     "output_type": "execute_result"
    }
   ],
   "source": [
    "np.mean((discrete_cdf - np.asarray(bins[:-1] > obs, dtype='float'))**2)"
   ]
  },
  {
   "cell_type": "code",
   "execution_count": null,
   "metadata": {
    "collapsed": true
   },
   "outputs": [],
   "source": []
  }
 ],
 "metadata": {
  "kernelspec": {
   "display_name": "Python 3",
   "language": "python",
   "name": "python3"
  },
  "language_info": {
   "codemirror_mode": {
    "name": "ipython",
    "version": 3
   },
   "file_extension": ".py",
   "mimetype": "text/x-python",
   "name": "python",
   "nbconvert_exporter": "python",
   "pygments_lexer": "ipython3",
   "version": "3.6.2"
  },
  "toc": {
   "nav_menu": {},
   "number_sections": true,
   "sideBar": true,
   "skip_h1_title": true,
   "toc_cell": true,
   "toc_position": {},
   "toc_section_display": "block",
   "toc_window_display": false
  }
 },
 "nbformat": 4,
 "nbformat_minor": 2
}
