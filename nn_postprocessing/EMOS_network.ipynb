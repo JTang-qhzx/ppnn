{
 "cells": [
  {
   "cell_type": "markdown",
   "metadata": {
    "toc": "true"
   },
   "source": [
    " # Table of Contents\n",
    "<div class=\"toc\" style=\"margin-top: 1em;\"><ul class=\"toc-item\" id=\"toc-level0\"><li><span><a href=\"http://localhost:8888/notebooks/EMOS_network.ipynb#Theano-Implementation\" data-toc-modified-id=\"Theano-Implementation-1\"><span class=\"toc-item-num\">1&nbsp;&nbsp;</span>Theano Implementation</a></span><ul class=\"toc-item\"><li><span><a href=\"http://localhost:8888/notebooks/EMOS_network.ipynb#Train-for-a-single-day\" data-toc-modified-id=\"Train-for-a-single-day-1.1\"><span class=\"toc-item-num\">1.1&nbsp;&nbsp;</span>Train for a single day</a></span></li><li><span><a href=\"http://localhost:8888/notebooks/EMOS_network.ipynb#Train-for-one-year\" data-toc-modified-id=\"Train-for-one-year-1.2\"><span class=\"toc-item-num\">1.2&nbsp;&nbsp;</span>Train for one year</a></span></li></ul></li><li><span><a href=\"http://localhost:8888/notebooks/EMOS_network.ipynb#Keras-implementation\" data-toc-modified-id=\"Keras-implementation-2\"><span class=\"toc-item-num\">2&nbsp;&nbsp;</span>Keras implementation</a></span><ul class=\"toc-item\"><li><span><a href=\"http://localhost:8888/notebooks/EMOS_network.ipynb#Predict-for-one-day\" data-toc-modified-id=\"Predict-for-one-day-2.1\"><span class=\"toc-item-num\">2.1&nbsp;&nbsp;</span>Predict for one day</a></span></li><li><span><a href=\"http://localhost:8888/notebooks/EMOS_network.ipynb#Predict-for-one-year\" data-toc-modified-id=\"Predict-for-one-year-2.2\"><span class=\"toc-item-num\">2.2&nbsp;&nbsp;</span>Predict for one year</a></span></li></ul></li><li><span><a href=\"http://localhost:8888/notebooks/EMOS_network.ipynb#Fully-connected-model\" data-toc-modified-id=\"Fully-connected-model-3\"><span class=\"toc-item-num\">3&nbsp;&nbsp;</span>Fully connected model</a></span><ul class=\"toc-item\"><li><span><a href=\"http://localhost:8888/notebooks/EMOS_network.ipynb#For-one-day\" data-toc-modified-id=\"For-one-day-3.1\"><span class=\"toc-item-num\">3.1&nbsp;&nbsp;</span>For one day</a></span></li><li><span><a href=\"http://localhost:8888/notebooks/EMOS_network.ipynb#Train-for-the-entire-period\" data-toc-modified-id=\"Train-for-the-entire-period-3.2\"><span class=\"toc-item-num\">3.2&nbsp;&nbsp;</span>Train for the entire period</a></span></li></ul></li></ul></div>"
   ]
  },
  {
   "cell_type": "markdown",
   "metadata": {},
   "source": [
    "# EMOS Network"
   ]
  },
  {
   "cell_type": "code",
   "execution_count": 286,
   "metadata": {},
   "outputs": [],
   "source": [
    "# Imports\n",
    "from importlib import reload\n",
    "import emos_network_theano; reload(emos_network_theano)\n",
    "from  emos_network_theano import EMOS_Network, crps_cost_function\n",
    "import utils; reload(utils)\n",
    "from utils import *\n",
    "from datetime import datetime\n",
    "%matplotlib inline\n",
    "import matplotlib.pyplot as plt"
   ]
  },
  {
   "cell_type": "code",
   "execution_count": 152,
   "metadata": {
    "collapsed": true
   },
   "outputs": [],
   "source": [
    "# Basic setup\n",
    "DATA_DIR = '/Users/stephanrasp/repositories/ppnn/data/'  # Mac\n",
    "fn = 'data_interpolated.nc'\n",
    "window_size = 25\n",
    "fclt = 48\n",
    "utc = 0"
   ]
  },
  {
   "cell_type": "markdown",
   "metadata": {},
   "source": [
    "## Theano Implementation"
   ]
  },
  {
   "cell_type": "markdown",
   "metadata": {},
   "source": [
    "### Train for a single day"
   ]
  },
  {
   "cell_type": "code",
   "execution_count": 149,
   "metadata": {
    "collapsed": true
   },
   "outputs": [],
   "source": [
    "# Get the full dataset for 00UTC\n",
    "tobs_full, tfc_full, dates = load_nc_data(DATA_DIR + fn, utc=utc)"
   ]
  },
  {
   "cell_type": "code",
   "execution_count": 224,
   "metadata": {},
   "outputs": [
    {
     "data": {
      "text/plain": [
       "3071"
      ]
     },
     "execution_count": 224,
     "metadata": {},
     "output_type": "execute_result"
    }
   ],
   "source": [
    "# Just pick a day\n",
    "date_idx = np.where(dates == datetime(2015, 6, 1, 0, 0))[0][0]\n",
    "date_idx"
   ]
  },
  {
   "cell_type": "code",
   "execution_count": 225,
   "metadata": {
    "collapsed": true
   },
   "outputs": [],
   "source": [
    "# Get the data slice for this particular date\n",
    "tfc_mean_train, tfc_std_train, tobs_train, \\\n",
    "    tfc_mean_test, tfc_std_test, tobs_test = \\\n",
    "        get_train_test_data(tobs_full, tfc_full, date_idx, \n",
    "                            window_size, fclt)"
   ]
  },
  {
   "cell_type": "code",
   "execution_count": 226,
   "metadata": {},
   "outputs": [],
   "source": [
    "# Define some model parameters\n",
    "lr = np.asarray(0.1, dtype='float32')   # The learning rate\n",
    "early_stopping_delta = 1e-4   # How much the CRPS must improve before stopping\n",
    "steps_max = 1000   # How many steps to fit at max"
   ]
  },
  {
   "cell_type": "code",
   "execution_count": 243,
   "metadata": {},
   "outputs": [],
   "source": [
    "# Set up the theano model\n",
    "model_theano = EMOS_Network()"
   ]
  },
  {
   "cell_type": "code",
   "execution_count": 244,
   "metadata": {},
   "outputs": [
    {
     "data": {
      "text/plain": [
       "(array(1.1621002564583596), array(0.9137559142044587))"
      ]
     },
     "execution_count": 244,
     "metadata": {},
     "output_type": "execute_result"
    }
   ],
   "source": [
    "# Train the model for some steps\n",
    "model_theano.fit(tfc_mean_train, tfc_std_train, tobs_train, steps_max, \n",
    "          (tfc_mean_test, tfc_std_test, tobs_test), lr=lr, \n",
    "          early_stopping_delta=early_stopping_delta)\n",
    "# Output is the training CRPS and the test CRPS"
   ]
  },
  {
   "cell_type": "markdown",
   "metadata": {},
   "source": [
    "### Train for one year"
   ]
  },
  {
   "cell_type": "code",
   "execution_count": 295,
   "metadata": {},
   "outputs": [
    {
     "data": {
      "text/plain": [
       "(363, 728)"
      ]
     },
     "execution_count": 295,
     "metadata": {},
     "output_type": "execute_result"
    }
   ],
   "source": [
    "# Get start and stop indices\n",
    "date_idx_start = np.where(dates == datetime(2008, 1, 1, 0, 0))[0][0]\n",
    "date_idx_stop = np.where(dates == datetime(2008, 12, 31, 0, 0))[0][0]\n",
    "date_idx_start, date_idx_stop"
   ]
  },
  {
   "cell_type": "code",
   "execution_count": 296,
   "metadata": {
    "collapsed": true
   },
   "outputs": [],
   "source": [
    "model_theano = EMOS_Network()"
   ]
  },
  {
   "cell_type": "code",
   "execution_count": 297,
   "metadata": {},
   "outputs": [
    {
     "name": "stdout",
     "output_type": "stream",
     "text": [
      "400\n",
      "500\n",
      "600\n",
      "700\n",
      "Time: 23.44 s\n"
     ]
    }
   ],
   "source": [
    "train_crps_list, valid_crps_list = loop_over_days(\n",
    "    model_theano,\n",
    "    tobs_full, \n",
    "    tfc_full, \n",
    "    date_idx_start, date_idx_stop, \n",
    "    window_size=window_size,\n",
    "    fclt=fclt,     \n",
    "    epochs_max=steps_max, \n",
    "    early_stopping_delta=early_stopping_delta, \n",
    "    lr=lr,\n",
    "    model_type='EMOS_Network_theano')"
   ]
  },
  {
   "cell_type": "code",
   "execution_count": 298,
   "metadata": {},
   "outputs": [
    {
     "data": {
      "text/plain": [
       "1.0636229038525002"
      ]
     },
     "execution_count": 298,
     "metadata": {},
     "output_type": "execute_result"
    }
   ],
   "source": [
    "# Let's see what the mean prediction CRPS is\n",
    "np.mean(valid_crps_list)"
   ]
  },
  {
   "cell_type": "markdown",
   "metadata": {},
   "source": [
    "The standard EMOS global score (in `standard_postprocessing/emos_global.R`) is 1.0654. So we are doing a little better even, but this might just be chance."
   ]
  },
  {
   "cell_type": "markdown",
   "metadata": {},
   "source": [
    "## Keras implementation\n",
    "\n",
    "First, let's build the same model in Keras."
   ]
  },
  {
   "cell_type": "code",
   "execution_count": 200,
   "metadata": {},
   "outputs": [],
   "source": [
    "# import the keras modules\n",
    "# Note that the cost function only works with the theano backend\n",
    "import keras\n",
    "from keras.layers import Input, Dense\n",
    "from keras.models import Model\n",
    "import keras.backend as K\n",
    "from keras.callbacks import EarlyStopping\n",
    "from keras.optimizers import SGD"
   ]
  },
  {
   "cell_type": "code",
   "execution_count": 187,
   "metadata": {},
   "outputs": [],
   "source": [
    "# Let's build the model with Keras' functional API\n",
    "# This is quite a bit easier and shorter than in theano \n",
    "# But it did take me some time to figure out the cost function, etc.\n",
    "def build_EMOS_Network_keras():\n",
    "    mean_in = Input(shape=(1,))\n",
    "    std_in = Input(shape=(1,))\n",
    "    mean_out = Dense(1, activation='linear')(mean_in)\n",
    "    std_out = Dense(1, activation='linear')(std_in)\n",
    "    x = keras.layers.concatenate([mean_out, std_out], axis=1)\n",
    "    return Model(inputs=[mean_in, std_in], outputs=x)"
   ]
  },
  {
   "cell_type": "code",
   "execution_count": 245,
   "metadata": {},
   "outputs": [],
   "source": [
    "model_keras = build_EMOS_Network_keras()"
   ]
  },
  {
   "cell_type": "code",
   "execution_count": 246,
   "metadata": {},
   "outputs": [
    {
     "name": "stdout",
     "output_type": "stream",
     "text": [
      "____________________________________________________________________________________________________\n",
      "Layer (type)                     Output Shape          Param #     Connected to                     \n",
      "====================================================================================================\n",
      "input_41 (InputLayer)            (None, 1)             0                                            \n",
      "____________________________________________________________________________________________________\n",
      "input_42 (InputLayer)            (None, 1)             0                                            \n",
      "____________________________________________________________________________________________________\n",
      "dense_41 (Dense)                 (None, 1)             2           input_41[0][0]                   \n",
      "____________________________________________________________________________________________________\n",
      "dense_42 (Dense)                 (None, 1)             2           input_42[0][0]                   \n",
      "____________________________________________________________________________________________________\n",
      "concatenate_15 (Concatenate)     (None, 2)             0           dense_41[0][0]                   \n",
      "                                                                   dense_42[0][0]                   \n",
      "====================================================================================================\n",
      "Total params: 4\n",
      "Trainable params: 4\n",
      "Non-trainable params: 0\n",
      "____________________________________________________________________________________________________\n"
     ]
    }
   ],
   "source": [
    "model_keras.summary()"
   ]
  },
  {
   "cell_type": "code",
   "execution_count": 247,
   "metadata": {
    "collapsed": true
   },
   "outputs": [],
   "source": [
    "# Compile the model with SGD initilalizer\n",
    "opt = SGD(lr=0.1)  \n",
    "model_keras.compile(optimizer=opt, loss=crps_cost_function, \n",
    "              metrics=[crps_cost_function])"
   ]
  },
  {
   "cell_type": "markdown",
   "metadata": {
    "heading_collapsed": true
   },
   "source": [
    "### Predict for one day"
   ]
  },
  {
   "cell_type": "code",
   "execution_count": 248,
   "metadata": {
    "collapsed": true,
    "hidden": true
   },
   "outputs": [],
   "source": [
    "# This way we have the gradient descent on the whole training set just as in theano\n",
    "batch_size = tfc_mean_train.shape[0]   "
   ]
  },
  {
   "cell_type": "code",
   "execution_count": 249,
   "metadata": {
    "hidden": true
   },
   "outputs": [],
   "source": [
    "h = model_keras.fit([tfc_mean_train, tfc_std_train], tobs_train, epochs=steps_max, batch_size=batch_size,\n",
    "          validation_data=[[tfc_mean_test, tfc_std_test], tobs_test], verbose=0,\n",
    "          callbacks=[EarlyStopping(monitor='loss', min_delta=early_stopping_delta,\n",
    "                                  patience=2)])"
   ]
  },
  {
   "cell_type": "code",
   "execution_count": 250,
   "metadata": {
    "hidden": true
   },
   "outputs": [
    {
     "name": "stdout",
     "output_type": "stream",
     "text": [
      "\r",
      "   64/12343 [..............................] - ETA: 0s"
     ]
    },
    {
     "data": {
      "text/plain": [
       "[1.2517586752240233, 1.2517586752240233]"
      ]
     },
     "execution_count": 250,
     "metadata": {},
     "output_type": "execute_result"
    }
   ],
   "source": [
    "model_keras.evaluate([tfc_mean_train, tfc_std_train], tobs_train, batch_size=64)"
   ]
  },
  {
   "cell_type": "code",
   "execution_count": 251,
   "metadata": {
    "hidden": true
   },
   "outputs": [
    {
     "name": "stdout",
     "output_type": "stream",
     "text": [
      "\r",
      " 64/495 [==>...........................] - ETA: 0s"
     ]
    },
    {
     "data": {
      "text/plain": [
       "[1.0580770378143314, 1.0580770378143314]"
      ]
     },
     "execution_count": 251,
     "metadata": {},
     "output_type": "execute_result"
    }
   ],
   "source": [
    "model_keras.evaluate([tfc_mean_test, tfc_std_test], tobs_test, batch_size=64)"
   ]
  },
  {
   "cell_type": "markdown",
   "metadata": {
    "hidden": true
   },
   "source": [
    "Se we get slightly better results than with the theano model above. This might be due to the differences in the early stopping algorithm."
   ]
  },
  {
   "cell_type": "code",
   "execution_count": 252,
   "metadata": {
    "hidden": true
   },
   "outputs": [
    {
     "data": {
      "text/plain": [
       "1000"
      ]
     },
     "execution_count": 252,
     "metadata": {},
     "output_type": "execute_result"
    }
   ],
   "source": [
    "len(h.history['loss'])"
   ]
  },
  {
   "cell_type": "code",
   "execution_count": 253,
   "metadata": {
    "hidden": true
   },
   "outputs": [],
   "source": [
    "# But I did notice something interesting looking at the history\n",
    "valid_loss = h.history['val_loss']\n",
    "train_loss = h.history['loss']"
   ]
  },
  {
   "cell_type": "code",
   "execution_count": 261,
   "metadata": {
    "hidden": true
   },
   "outputs": [
    {
     "data": {
      "image/png": "[encoded data removed]",
      "text/plain": [
       "<matplotlib.figure.Figure at 0x11ee0a128>"
      ]
     },
     "metadata": {},
     "output_type": "display_data"
    }
   ],
   "source": [
    "plt.plot(valid_loss, label='valid_loss')\n",
    "plt.plot(train_loss, label='train_loss')\n",
    "plt.legend()\n",
    "plt.ylim(0, 2)\n",
    "plt.show()"
   ]
  },
  {
   "cell_type": "markdown",
   "metadata": {
    "hidden": true
   },
   "source": [
    "So this means we are overfitting a little. How could we avoid this. Let's pick a much longer training window."
   ]
  },
  {
   "cell_type": "code",
   "execution_count": 255,
   "metadata": {
    "hidden": true
   },
   "outputs": [],
   "source": [
    "# One year\n",
    "tfc_mean_train, tfc_std_train, tobs_train, \\\n",
    "    tfc_mean_test, tfc_std_test, tobs_test = \\\n",
    "        get_train_test_data(tobs_full, tfc_full, date_idx, \n",
    "                            356, fclt)"
   ]
  },
  {
   "cell_type": "code",
   "execution_count": 256,
   "metadata": {
    "collapsed": true,
    "hidden": true
   },
   "outputs": [],
   "source": [
    "batch_size = tfc_mean_train.shape[0]  "
   ]
  },
  {
   "cell_type": "code",
   "execution_count": 257,
   "metadata": {
    "collapsed": true,
    "hidden": true
   },
   "outputs": [],
   "source": [
    "model = build_EMOS_Network_keras()\n",
    "opt = SGD(lr=0.1)  \n",
    "model.compile(optimizer=opt, loss=crps_cost_function, \n",
    "              metrics=[crps_cost_function])"
   ]
  },
  {
   "cell_type": "code",
   "execution_count": 258,
   "metadata": {
    "collapsed": true,
    "hidden": true
   },
   "outputs": [],
   "source": [
    "h = model.fit([tfc_mean_train, tfc_std_train], tobs_train, epochs=steps_max, batch_size=batch_size,\n",
    "          validation_data=[[tfc_mean_test, tfc_std_test], tobs_test], verbose=0,\n",
    "          callbacks=[EarlyStopping(monitor='loss', min_delta=early_stopping_delta,\n",
    "                                  patience=2)])"
   ]
  },
  {
   "cell_type": "code",
   "execution_count": 259,
   "metadata": {
    "hidden": true
   },
   "outputs": [
    {
     "name": "stdout",
     "output_type": "stream",
     "text": [
      "\r",
      " 64/495 [==>...........................] - ETA: 0s"
     ]
    },
    {
     "data": {
      "text/plain": [
       "[1.0561385891911841, 1.0561385891911841]"
      ]
     },
     "execution_count": 259,
     "metadata": {},
     "output_type": "execute_result"
    }
   ],
   "source": [
    "model.evaluate([tfc_mean_test, tfc_std_test], tobs_test, batch_size=64)"
   ]
  },
  {
   "cell_type": "markdown",
   "metadata": {
    "hidden": true
   },
   "source": [
    "Doesn't seem to change much. Which means that either we have compensating errors or the seasonal information doesn't mean much. Here are some ideas:\n",
    "- Create an actual validation data set from the training data and use it for early stopping"
   ]
  },
  {
   "cell_type": "code",
   "execution_count": null,
   "metadata": {
    "collapsed": true,
    "hidden": true
   },
   "outputs": [],
   "source": []
  },
  {
   "cell_type": "markdown",
   "metadata": {},
   "source": [
    "### Predict for one year"
   ]
  },
  {
   "cell_type": "code",
   "execution_count": 299,
   "metadata": {
    "collapsed": true
   },
   "outputs": [],
   "source": [
    "model_keras = build_EMOS_Network_keras()\n",
    "opt = SGD(lr=0.1)  \n",
    "model_keras.compile(optimizer=opt, loss=crps_cost_function, \n",
    "              metrics=[crps_cost_function])"
   ]
  },
  {
   "cell_type": "code",
   "execution_count": 300,
   "metadata": {
    "scrolled": true
   },
   "outputs": [
    {
     "name": "stdout",
     "output_type": "stream",
     "text": [
      "400\n",
      "500\n",
      "600\n",
      "700\n",
      "Time: 174.61 s\n"
     ]
    }
   ],
   "source": [
    "train_crps_list, valid_crps_list = loop_over_days(\n",
    "    model_keras,\n",
    "    tobs_full, \n",
    "    tfc_full, \n",
    "    date_idx_start, date_idx_stop, \n",
    "    window_size=window_size,\n",
    "    fclt=fclt,     \n",
    "    epochs_max=steps_max, \n",
    "    early_stopping_delta=early_stopping_delta, \n",
    "    lr=lr,\n",
    "    model_type='EMOS_Network_keras',\n",
    "    verbose=0)"
   ]
  },
  {
   "cell_type": "markdown",
   "metadata": {},
   "source": [
    "So the keras implementation is quite a bit slower than the pure theano version. Maybe this is due to the overhead with calling fit many many times. Which one to keep??"
   ]
  },
  {
   "cell_type": "code",
   "execution_count": 301,
   "metadata": {},
   "outputs": [
    {
     "data": {
      "text/plain": [
       "1.0640120236008785"
      ]
     },
     "execution_count": 301,
     "metadata": {},
     "output_type": "execute_result"
    }
   ],
   "source": [
    "np.mean(valid_crps_list)"
   ]
  },
  {
   "cell_type": "code",
   "execution_count": 292,
   "metadata": {},
   "outputs": [
    {
     "data": {
      "text/plain": [
       "[1.0597541030445485,\n",
       " 1.0666123334458606,\n",
       " 1.061671031131364,\n",
       " 1.0744410428044657,\n",
       " 1.0880578167143964,\n",
       " 1.0970980964955366]"
      ]
     },
     "execution_count": 292,
     "metadata": {},
     "output_type": "execute_result"
    }
   ],
   "source": [
    "train_crps_list"
   ]
  },
  {
   "cell_type": "markdown",
   "metadata": {},
   "source": [
    "## Fully connected model"
   ]
  },
  {
   "cell_type": "markdown",
   "metadata": {},
   "source": [
    "### For one day"
   ]
  },
  {
   "cell_type": "code",
   "execution_count": 302,
   "metadata": {
    "collapsed": true
   },
   "outputs": [],
   "source": [
    "def build_fc_model():\n",
    "    inp = Input(shape=(2,))\n",
    "    x = Dense(2, activation='linear')(inp)\n",
    "    return Model(inputs=inp, outputs=x)"
   ]
  },
  {
   "cell_type": "code",
   "execution_count": 327,
   "metadata": {
    "collapsed": true
   },
   "outputs": [],
   "source": [
    "fc_model = build_fc_model()"
   ]
  },
  {
   "cell_type": "code",
   "execution_count": 328,
   "metadata": {},
   "outputs": [
    {
     "name": "stdout",
     "output_type": "stream",
     "text": [
      "_________________________________________________________________\n",
      "Layer (type)                 Output Shape              Param #   \n",
      "=================================================================\n",
      "input_66 (InputLayer)        (None, 2)                 0         \n",
      "_________________________________________________________________\n",
      "dense_66 (Dense)             (None, 2)                 6         \n",
      "=================================================================\n",
      "Total params: 6\n",
      "Trainable params: 6\n",
      "Non-trainable params: 0\n",
      "_________________________________________________________________\n"
     ]
    }
   ],
   "source": [
    "fc_model.summary()"
   ]
  },
  {
   "cell_type": "code",
   "execution_count": 329,
   "metadata": {
    "collapsed": true
   },
   "outputs": [],
   "source": [
    "from keras.optimizers import Adam\n",
    "opt = Adam(lr=0.01)\n",
    "fc_model.compile(optimizer=opt, loss=crps_cost_function, metrics=[crps_cost_function])"
   ]
  },
  {
   "cell_type": "code",
   "execution_count": 330,
   "metadata": {},
   "outputs": [
    {
     "data": {
      "text/plain": [
       "(176948, 2)"
      ]
     },
     "execution_count": 330,
     "metadata": {},
     "output_type": "execute_result"
    }
   ],
   "source": [
    "# Now we need to merge the input to a 2D vector\n",
    "in_train = np.column_stack([tfc_mean_train, tfc_std_train])\n",
    "in_test = np.column_stack([tfc_mean_test, tfc_std_test])\n",
    "in_train.shape"
   ]
  },
  {
   "cell_type": "code",
   "execution_count": 331,
   "metadata": {
    "collapsed": true
   },
   "outputs": [],
   "source": [
    "batch_size = in_train.shape[0]  "
   ]
  },
  {
   "cell_type": "code",
   "execution_count": 332,
   "metadata": {},
   "outputs": [
    {
     "name": "stdout",
     "output_type": "stream",
     "text": [
      "Train on 176948 samples, validate on 495 samples\n",
      "Epoch 1/400\n",
      "176948/176948 [==============================] - 0s - loss: 7.9917 - crps_cost_function: 7.9917 - val_loss: 13.9206 - val_crps_cost_function: 13.9206\n",
      "Epoch 2/400\n",
      "176948/176948 [==============================] - 0s - loss: 7.9740 - crps_cost_function: 7.9740 - val_loss: 13.8900 - val_crps_cost_function: 13.8900\n",
      "Epoch 3/400\n",
      "176948/176948 [==============================] - 0s - loss: 7.9563 - crps_cost_function: 7.9563 - val_loss: 13.8593 - val_crps_cost_function: 13.8593\n",
      "Epoch 4/400\n",
      "176948/176948 [==============================] - 0s - loss: 7.9386 - crps_cost_function: 7.9386 - val_loss: 13.8287 - val_crps_cost_function: 13.8287\n",
      "Epoch 5/400\n",
      "176948/176948 [==============================] - 0s - loss: 7.9208 - crps_cost_function: 7.9208 - val_loss: 13.7981 - val_crps_cost_function: 13.7981\n",
      "Epoch 6/400\n",
      "176948/176948 [==============================] - 0s - loss: 7.9031 - crps_cost_function: 7.9031 - val_loss: 13.7674 - val_crps_cost_function: 13.7674\n",
      "Epoch 7/400\n",
      "176948/176948 [==============================] - 0s - loss: 7.8853 - crps_cost_function: 7.8853 - val_loss: 13.7368 - val_crps_cost_function: 13.7368\n",
      "Epoch 8/400\n",
      "176948/176948 [==============================] - 0s - loss: 7.8675 - crps_cost_function: 7.8675 - val_loss: 13.7061 - val_crps_cost_function: 13.7061\n",
      "Epoch 9/400\n",
      "176948/176948 [==============================] - 0s - loss: 7.8497 - crps_cost_function: 7.8497 - val_loss: 13.6754 - val_crps_cost_function: 13.6754\n",
      "Epoch 10/400\n",
      "176948/176948 [==============================] - 0s - loss: 7.8319 - crps_cost_function: 7.8319 - val_loss: 13.6447 - val_crps_cost_function: 13.6447\n",
      "Epoch 11/400\n",
      "176948/176948 [==============================] - 0s - loss: 7.8141 - crps_cost_function: 7.8141 - val_loss: 13.6140 - val_crps_cost_function: 13.6140\n",
      "Epoch 12/400\n",
      "176948/176948 [==============================] - 0s - loss: 7.7963 - crps_cost_function: 7.7963 - val_loss: 13.5833 - val_crps_cost_function: 13.5833\n",
      "Epoch 13/400\n",
      "176948/176948 [==============================] - 0s - loss: 7.7785 - crps_cost_function: 7.7785 - val_loss: 13.5525 - val_crps_cost_function: 13.5525\n",
      "Epoch 14/400\n",
      "176948/176948 [==============================] - 0s - loss: 7.7607 - crps_cost_function: 7.7607 - val_loss: 13.5218 - val_crps_cost_function: 13.5218\n",
      "Epoch 15/400\n",
      "176948/176948 [==============================] - 0s - loss: 7.7429 - crps_cost_function: 7.7429 - val_loss: 13.4910 - val_crps_cost_function: 13.4910\n",
      "Epoch 16/400\n",
      "176948/176948 [==============================] - 0s - loss: 7.7251 - crps_cost_function: 7.7251 - val_loss: 13.4602 - val_crps_cost_function: 13.4602\n",
      "Epoch 17/400\n",
      "176948/176948 [==============================] - 0s - loss: 7.7072 - crps_cost_function: 7.7072 - val_loss: 13.4295 - val_crps_cost_function: 13.4295\n",
      "Epoch 18/400\n",
      "176948/176948 [==============================] - 0s - loss: 7.6894 - crps_cost_function: 7.6894 - val_loss: 13.3986 - val_crps_cost_function: 13.3986\n",
      "Epoch 19/400\n",
      "176948/176948 [==============================] - 0s - loss: 7.6715 - crps_cost_function: 7.6715 - val_loss: 13.3678 - val_crps_cost_function: 13.3678\n",
      "Epoch 20/400\n",
      "176948/176948 [==============================] - 0s - loss: 7.6537 - crps_cost_function: 7.6537 - val_loss: 13.3370 - val_crps_cost_function: 13.3370\n",
      "Epoch 21/400\n",
      "176948/176948 [==============================] - 0s - loss: 7.6359 - crps_cost_function: 7.6359 - val_loss: 13.3061 - val_crps_cost_function: 13.3061\n",
      "Epoch 22/400\n",
      "176948/176948 [==============================] - 0s - loss: 7.6180 - crps_cost_function: 7.6180 - val_loss: 13.2752 - val_crps_cost_function: 13.2752\n",
      "Epoch 23/400\n",
      "176948/176948 [==============================] - 0s - loss: 7.6002 - crps_cost_function: 7.6002 - val_loss: 13.2444 - val_crps_cost_function: 13.2444\n",
      "Epoch 24/400\n",
      "176948/176948 [==============================] - 0s - loss: 7.5824 - crps_cost_function: 7.5824 - val_loss: 13.2135 - val_crps_cost_function: 13.2135\n",
      "Epoch 25/400\n",
      "176948/176948 [==============================] - 0s - loss: 7.5645 - crps_cost_function: 7.5645 - val_loss: 13.1825 - val_crps_cost_function: 13.1825\n",
      "Epoch 26/400\n",
      "176948/176948 [==============================] - 0s - loss: 7.5467 - crps_cost_function: 7.5467 - val_loss: 13.1516 - val_crps_cost_function: 13.1516\n",
      "Epoch 27/400\n",
      "176948/176948 [==============================] - 0s - loss: 7.5288 - crps_cost_function: 7.5288 - val_loss: 13.1207 - val_crps_cost_function: 13.1207\n",
      "Epoch 28/400\n",
      "176948/176948 [==============================] - 0s - loss: 7.5110 - crps_cost_function: 7.5110 - val_loss: 13.0897 - val_crps_cost_function: 13.0897\n",
      "Epoch 29/400\n",
      "176948/176948 [==============================] - 0s - loss: 7.4932 - crps_cost_function: 7.4932 - val_loss: 13.0588 - val_crps_cost_function: 13.0588\n",
      "Epoch 30/400\n",
      "176948/176948 [==============================] - 0s - loss: 7.4753 - crps_cost_function: 7.4753 - val_loss: 13.0278 - val_crps_cost_function: 13.0278\n",
      "Epoch 31/400\n",
      "176948/176948 [==============================] - 0s - loss: 7.4575 - crps_cost_function: 7.4575 - val_loss: 12.9968 - val_crps_cost_function: 12.9968\n",
      "Epoch 32/400\n",
      "176948/176948 [==============================] - 0s - loss: 7.4397 - crps_cost_function: 7.4397 - val_loss: 12.9659 - val_crps_cost_function: 12.9659\n",
      "Epoch 33/400\n",
      "176948/176948 [==============================] - 0s - loss: 7.4219 - crps_cost_function: 7.4219 - val_loss: 12.9349 - val_crps_cost_function: 12.9349\n",
      "Epoch 34/400\n",
      "176948/176948 [==============================] - 0s - loss: 7.4041 - crps_cost_function: 7.4041 - val_loss: 12.9039 - val_crps_cost_function: 12.9039\n",
      "Epoch 35/400\n",
      "176948/176948 [==============================] - 0s - loss: 7.3863 - crps_cost_function: 7.3863 - val_loss: 12.8729 - val_crps_cost_function: 12.8729\n",
      "Epoch 36/400\n",
      "176948/176948 [==============================] - 0s - loss: 7.3685 - crps_cost_function: 7.3685 - val_loss: 12.8419 - val_crps_cost_function: 12.8419\n",
      "Epoch 37/400\n",
      "176948/176948 [==============================] - 0s - loss: 7.3507 - crps_cost_function: 7.3507 - val_loss: 12.8108 - val_crps_cost_function: 12.8108\n",
      "Epoch 38/400\n",
      "176948/176948 [==============================] - 0s - loss: 7.3329 - crps_cost_function: 7.3329 - val_loss: 12.7798 - val_crps_cost_function: 12.7798\n",
      "Epoch 39/400\n",
      "176948/176948 [==============================] - 0s - loss: 7.3151 - crps_cost_function: 7.3151 - val_loss: 12.7488 - val_crps_cost_function: 12.7488\n",
      "Epoch 40/400\n",
      "176948/176948 [==============================] - 0s - loss: 7.2973 - crps_cost_function: 7.2973 - val_loss: 12.7177 - val_crps_cost_function: 12.7177\n",
      "Epoch 41/400\n",
      "176948/176948 [==============================] - 0s - loss: 7.2796 - crps_cost_function: 7.2796 - val_loss: 12.6867 - val_crps_cost_function: 12.6867\n",
      "Epoch 42/400\n",
      "176948/176948 [==============================] - 0s - loss: 7.2618 - crps_cost_function: 7.2618 - val_loss: 12.6557 - val_crps_cost_function: 12.6557\n",
      "Epoch 43/400\n",
      "176948/176948 [==============================] - 0s - loss: 7.2441 - crps_cost_function: 7.2441 - val_loss: 12.6246 - val_crps_cost_function: 12.6246\n",
      "Epoch 44/400\n",
      "176948/176948 [==============================] - 0s - loss: 7.2264 - crps_cost_function: 7.2264 - val_loss: 12.5936 - val_crps_cost_function: 12.5936\n",
      "Epoch 45/400\n",
      "176948/176948 [==============================] - 0s - loss: 7.2086 - crps_cost_function: 7.2086 - val_loss: 12.5625 - val_crps_cost_function: 12.5625\n",
      "Epoch 46/400\n",
      "176948/176948 [==============================] - 0s - loss: 7.1909 - crps_cost_function: 7.1909 - val_loss: 12.5315 - val_crps_cost_function: 12.5315\n",
      "Epoch 47/400\n",
      "176948/176948 [==============================] - 0s - loss: 7.1732 - crps_cost_function: 7.1732 - val_loss: 12.5004 - val_crps_cost_function: 12.5004\n",
      "Epoch 48/400\n",
      "176948/176948 [==============================] - 0s - loss: 7.1555 - crps_cost_function: 7.1555 - val_loss: 12.4694 - val_crps_cost_function: 12.4694\n",
      "Epoch 49/400\n",
      "176948/176948 [==============================] - 0s - loss: 7.1378 - crps_cost_function: 7.1378 - val_loss: 12.4383 - val_crps_cost_function: 12.4383\n",
      "Epoch 50/400\n",
      "176948/176948 [==============================] - 0s - loss: 7.1202 - crps_cost_function: 7.1202 - val_loss: 12.4073 - val_crps_cost_function: 12.4073\n",
      "Epoch 51/400\n"
     ]
    },
    {
     "name": "stdout",
     "output_type": "stream",
     "text": [
      "176948/176948 [==============================] - 0s - loss: 7.1025 - crps_cost_function: 7.1025 - val_loss: 12.3762 - val_crps_cost_function: 12.3762\n",
      "Epoch 52/400\n",
      "176948/176948 [==============================] - 0s - loss: 7.0849 - crps_cost_function: 7.0849 - val_loss: 12.3452 - val_crps_cost_function: 12.3452\n",
      "Epoch 53/400\n",
      "176948/176948 [==============================] - 0s - loss: 7.0672 - crps_cost_function: 7.0672 - val_loss: 12.3141 - val_crps_cost_function: 12.3141\n",
      "Epoch 54/400\n",
      "176948/176948 [==============================] - 0s - loss: 7.0496 - crps_cost_function: 7.0496 - val_loss: 12.2831 - val_crps_cost_function: 12.2831\n",
      "Epoch 55/400\n",
      "176948/176948 [==============================] - 0s - loss: 7.0320 - crps_cost_function: 7.0320 - val_loss: 12.2521 - val_crps_cost_function: 12.2521\n",
      "Epoch 56/400\n",
      "176948/176948 [==============================] - 0s - loss: 7.0144 - crps_cost_function: 7.0144 - val_loss: 12.2210 - val_crps_cost_function: 12.2210\n",
      "Epoch 57/400\n",
      "176948/176948 [==============================] - 0s - loss: 6.9968 - crps_cost_function: 6.9968 - val_loss: 12.1900 - val_crps_cost_function: 12.1900\n",
      "Epoch 58/400\n",
      "176948/176948 [==============================] - 0s - loss: 6.9793 - crps_cost_function: 6.9793 - val_loss: 12.1590 - val_crps_cost_function: 12.1590\n",
      "Epoch 59/400\n",
      "176948/176948 [==============================] - 0s - loss: 6.9617 - crps_cost_function: 6.9617 - val_loss: 12.1280 - val_crps_cost_function: 12.1280\n",
      "Epoch 60/400\n",
      "176948/176948 [==============================] - 0s - loss: 6.9442 - crps_cost_function: 6.9442 - val_loss: 12.0970 - val_crps_cost_function: 12.0970\n",
      "Epoch 61/400\n",
      "176948/176948 [==============================] - 0s - loss: 6.9267 - crps_cost_function: 6.9267 - val_loss: 12.0660 - val_crps_cost_function: 12.0660\n",
      "Epoch 62/400\n",
      "176948/176948 [==============================] - 0s - loss: 6.9092 - crps_cost_function: 6.9092 - val_loss: 12.0351 - val_crps_cost_function: 12.0351\n",
      "Epoch 63/400\n",
      "176948/176948 [==============================] - 0s - loss: 6.8917 - crps_cost_function: 6.8917 - val_loss: 12.0041 - val_crps_cost_function: 12.0041\n",
      "Epoch 64/400\n",
      "176948/176948 [==============================] - 0s - loss: 6.8742 - crps_cost_function: 6.8742 - val_loss: 11.9731 - val_crps_cost_function: 11.9731\n",
      "Epoch 65/400\n",
      "176948/176948 [==============================] - 0s - loss: 6.8567 - crps_cost_function: 6.8567 - val_loss: 11.9422 - val_crps_cost_function: 11.9422\n",
      "Epoch 66/400\n",
      "176948/176948 [==============================] - 0s - loss: 6.8393 - crps_cost_function: 6.8393 - val_loss: 11.9112 - val_crps_cost_function: 11.9112\n",
      "Epoch 67/400\n",
      "176948/176948 [==============================] - 0s - loss: 6.8218 - crps_cost_function: 6.8218 - val_loss: 11.8803 - val_crps_cost_function: 11.8803\n",
      "Epoch 68/400\n",
      "176948/176948 [==============================] - 0s - loss: 6.8044 - crps_cost_function: 6.8044 - val_loss: 11.8494 - val_crps_cost_function: 11.8494\n",
      "Epoch 69/400\n",
      "176948/176948 [==============================] - 0s - loss: 6.7870 - crps_cost_function: 6.7870 - val_loss: 11.8185 - val_crps_cost_function: 11.8185\n",
      "Epoch 70/400\n",
      "176948/176948 [==============================] - 0s - loss: 6.7696 - crps_cost_function: 6.7696 - val_loss: 11.7876 - val_crps_cost_function: 11.7876\n",
      "Epoch 71/400\n",
      "176948/176948 [==============================] - 0s - loss: 6.7522 - crps_cost_function: 6.7522 - val_loss: 11.7567 - val_crps_cost_function: 11.7567\n",
      "Epoch 72/400\n",
      "176948/176948 [==============================] - 0s - loss: 6.7349 - crps_cost_function: 6.7349 - val_loss: 11.7259 - val_crps_cost_function: 11.7259\n",
      "Epoch 73/400\n",
      "176948/176948 [==============================] - 0s - loss: 6.7175 - crps_cost_function: 6.7175 - val_loss: 11.6950 - val_crps_cost_function: 11.6950\n",
      "Epoch 74/400\n",
      "176948/176948 [==============================] - 0s - loss: 6.7002 - crps_cost_function: 6.7002 - val_loss: 11.6642 - val_crps_cost_function: 11.6642\n",
      "Epoch 75/400\n",
      "176948/176948 [==============================] - 0s - loss: 6.6829 - crps_cost_function: 6.6829 - val_loss: 11.6334 - val_crps_cost_function: 11.6334\n",
      "Epoch 76/400\n",
      "176948/176948 [==============================] - 0s - loss: 6.6656 - crps_cost_function: 6.6656 - val_loss: 11.6026 - val_crps_cost_function: 11.6026\n",
      "Epoch 77/400\n",
      "176948/176948 [==============================] - 0s - loss: 6.6483 - crps_cost_function: 6.6483 - val_loss: 11.5718 - val_crps_cost_function: 11.5718\n",
      "Epoch 78/400\n",
      "176948/176948 [==============================] - 0s - loss: 6.6311 - crps_cost_function: 6.6311 - val_loss: 11.5410 - val_crps_cost_function: 11.5410\n",
      "Epoch 79/400\n",
      "176948/176948 [==============================] - 0s - loss: 6.6138 - crps_cost_function: 6.6138 - val_loss: 11.5103 - val_crps_cost_function: 11.5103\n",
      "Epoch 80/400\n",
      "176948/176948 [==============================] - 0s - loss: 6.5966 - crps_cost_function: 6.5966 - val_loss: 11.4795 - val_crps_cost_function: 11.4795\n",
      "Epoch 81/400\n",
      "176948/176948 [==============================] - 0s - loss: 6.5794 - crps_cost_function: 6.5794 - val_loss: 11.4488 - val_crps_cost_function: 11.4488\n",
      "Epoch 82/400\n",
      "176948/176948 [==============================] - 0s - loss: 6.5622 - crps_cost_function: 6.5622 - val_loss: 11.4181 - val_crps_cost_function: 11.4181\n",
      "Epoch 83/400\n",
      "176948/176948 [==============================] - 0s - loss: 6.5451 - crps_cost_function: 6.5451 - val_loss: 11.3874 - val_crps_cost_function: 11.3874\n",
      "Epoch 84/400\n",
      "176948/176948 [==============================] - 0s - loss: 6.5279 - crps_cost_function: 6.5279 - val_loss: 11.3568 - val_crps_cost_function: 11.3568\n",
      "Epoch 85/400\n",
      "176948/176948 [==============================] - 0s - loss: 6.5108 - crps_cost_function: 6.5108 - val_loss: 11.3261 - val_crps_cost_function: 11.3261\n",
      "Epoch 86/400\n",
      "176948/176948 [==============================] - 0s - loss: 6.4937 - crps_cost_function: 6.4937 - val_loss: 11.2955 - val_crps_cost_function: 11.2955\n",
      "Epoch 87/400\n",
      "176948/176948 [==============================] - 0s - loss: 6.4766 - crps_cost_function: 6.4766 - val_loss: 11.2649 - val_crps_cost_function: 11.2649\n",
      "Epoch 88/400\n",
      "176948/176948 [==============================] - 0s - loss: 6.4595 - crps_cost_function: 6.4595 - val_loss: 11.2343 - val_crps_cost_function: 11.2343\n",
      "Epoch 89/400\n",
      "176948/176948 [==============================] - 0s - loss: 6.4424 - crps_cost_function: 6.4424 - val_loss: 11.2037 - val_crps_cost_function: 11.2037\n",
      "Epoch 90/400\n",
      "176948/176948 [==============================] - 0s - loss: 6.4254 - crps_cost_function: 6.4254 - val_loss: 11.1732 - val_crps_cost_function: 11.1732\n",
      "Epoch 91/400\n",
      "176948/176948 [==============================] - 0s - loss: 6.4083 - crps_cost_function: 6.4083 - val_loss: 11.1427 - val_crps_cost_function: 11.1427\n",
      "Epoch 92/400\n",
      "176948/176948 [==============================] - 0s - loss: 6.3913 - crps_cost_function: 6.3913 - val_loss: 11.1121 - val_crps_cost_function: 11.1121\n",
      "Epoch 93/400\n",
      "176948/176948 [==============================] - 0s - loss: 6.3743 - crps_cost_function: 6.3743 - val_loss: 11.0816 - val_crps_cost_function: 11.0816\n",
      "Epoch 94/400\n",
      "176948/176948 [==============================] - 0s - loss: 6.3574 - crps_cost_function: 6.3574 - val_loss: 11.0512 - val_crps_cost_function: 11.0512\n",
      "Epoch 95/400\n",
      "176948/176948 [==============================] - 0s - loss: 6.3404 - crps_cost_function: 6.3404 - val_loss: 11.0207 - val_crps_cost_function: 11.0207\n",
      "Epoch 96/400\n",
      "176948/176948 [==============================] - 0s - loss: 6.3235 - crps_cost_function: 6.3235 - val_loss: 10.9903 - val_crps_cost_function: 10.9903\n",
      "Epoch 97/400\n",
      "176948/176948 [==============================] - 0s - loss: 6.3066 - crps_cost_function: 6.3066 - val_loss: 10.9598 - val_crps_cost_function: 10.9598\n",
      "Epoch 98/400\n",
      "176948/176948 [==============================] - 0s - loss: 6.2896 - crps_cost_function: 6.2896 - val_loss: 10.9294 - val_crps_cost_function: 10.9294\n",
      "Epoch 99/400\n",
      "176948/176948 [==============================] - 0s - loss: 6.2728 - crps_cost_function: 6.2728 - val_loss: 10.8991 - val_crps_cost_function: 10.8991\n",
      "Epoch 100/400\n",
      "176948/176948 [==============================] - 0s - loss: 6.2559 - crps_cost_function: 6.2559 - val_loss: 10.8687 - val_crps_cost_function: 10.8687\n",
      "Epoch 101/400\n"
     ]
    },
    {
     "name": "stdout",
     "output_type": "stream",
     "text": [
      "176948/176948 [==============================] - 0s - loss: 6.2391 - crps_cost_function: 6.2391 - val_loss: 10.8383 - val_crps_cost_function: 10.8383\n",
      "Epoch 102/400\n",
      "176948/176948 [==============================] - 0s - loss: 6.2222 - crps_cost_function: 6.2222 - val_loss: 10.8080 - val_crps_cost_function: 10.8080\n",
      "Epoch 103/400\n",
      "176948/176948 [==============================] - 0s - loss: 6.2054 - crps_cost_function: 6.2054 - val_loss: 10.7777 - val_crps_cost_function: 10.7777\n",
      "Epoch 104/400\n",
      "176948/176948 [==============================] - 0s - loss: 6.1886 - crps_cost_function: 6.1886 - val_loss: 10.7474 - val_crps_cost_function: 10.7474\n",
      "Epoch 105/400\n",
      "176948/176948 [==============================] - 0s - loss: 6.1719 - crps_cost_function: 6.1719 - val_loss: 10.7172 - val_crps_cost_function: 10.7172\n",
      "Epoch 106/400\n",
      "176948/176948 [==============================] - 0s - loss: 6.1551 - crps_cost_function: 6.1551 - val_loss: 10.6870 - val_crps_cost_function: 10.6870\n",
      "Epoch 107/400\n",
      "176948/176948 [==============================] - 0s - loss: 6.1384 - crps_cost_function: 6.1384 - val_loss: 10.6568 - val_crps_cost_function: 10.6568\n",
      "Epoch 108/400\n",
      "176948/176948 [==============================] - 0s - loss: 6.1216 - crps_cost_function: 6.1216 - val_loss: 10.6266 - val_crps_cost_function: 10.6266\n",
      "Epoch 109/400\n",
      "176948/176948 [==============================] - 0s - loss: 6.1049 - crps_cost_function: 6.1049 - val_loss: 10.5964 - val_crps_cost_function: 10.5964\n",
      "Epoch 110/400\n",
      "176948/176948 [==============================] - 0s - loss: 6.0883 - crps_cost_function: 6.0883 - val_loss: 10.5663 - val_crps_cost_function: 10.5663\n",
      "Epoch 111/400\n",
      "176948/176948 [==============================] - 0s - loss: 6.0716 - crps_cost_function: 6.0716 - val_loss: 10.5362 - val_crps_cost_function: 10.5362\n",
      "Epoch 112/400\n",
      "176948/176948 [==============================] - 0s - loss: 6.0550 - crps_cost_function: 6.0550 - val_loss: 10.5061 - val_crps_cost_function: 10.5061\n",
      "Epoch 113/400\n",
      "176948/176948 [==============================] - 0s - loss: 6.0383 - crps_cost_function: 6.0383 - val_loss: 10.4761 - val_crps_cost_function: 10.4761\n",
      "Epoch 114/400\n",
      "176948/176948 [==============================] - 0s - loss: 6.0217 - crps_cost_function: 6.0217 - val_loss: 10.4461 - val_crps_cost_function: 10.4461\n",
      "Epoch 115/400\n",
      "176948/176948 [==============================] - 0s - loss: 6.0051 - crps_cost_function: 6.0051 - val_loss: 10.4161 - val_crps_cost_function: 10.4161\n",
      "Epoch 116/400\n",
      "176948/176948 [==============================] - 0s - loss: 5.9886 - crps_cost_function: 5.9886 - val_loss: 10.3861 - val_crps_cost_function: 10.3861\n",
      "Epoch 117/400\n",
      "176948/176948 [==============================] - 0s - loss: 5.9720 - crps_cost_function: 5.9720 - val_loss: 10.3561 - val_crps_cost_function: 10.3561\n",
      "Epoch 118/400\n",
      "176948/176948 [==============================] - 0s - loss: 5.9555 - crps_cost_function: 5.9555 - val_loss: 10.3262 - val_crps_cost_function: 10.3262\n",
      "Epoch 119/400\n",
      "176948/176948 [==============================] - 0s - loss: 5.9390 - crps_cost_function: 5.9390 - val_loss: 10.2962 - val_crps_cost_function: 10.2962\n",
      "Epoch 120/400\n",
      "176948/176948 [==============================] - 0s - loss: 5.9225 - crps_cost_function: 5.9225 - val_loss: 10.2664 - val_crps_cost_function: 10.2664\n",
      "Epoch 121/400\n",
      "176948/176948 [==============================] - 0s - loss: 5.9060 - crps_cost_function: 5.9060 - val_loss: 10.2365 - val_crps_cost_function: 10.2365\n",
      "Epoch 122/400\n",
      "176948/176948 [==============================] - 0s - loss: 5.8895 - crps_cost_function: 5.8895 - val_loss: 10.2067 - val_crps_cost_function: 10.2067\n",
      "Epoch 123/400\n",
      "176948/176948 [==============================] - 0s - loss: 5.8731 - crps_cost_function: 5.8731 - val_loss: 10.1769 - val_crps_cost_function: 10.1769\n",
      "Epoch 124/400\n",
      "176948/176948 [==============================] - 0s - loss: 5.8567 - crps_cost_function: 5.8567 - val_loss: 10.1471 - val_crps_cost_function: 10.1471\n",
      "Epoch 125/400\n",
      "176948/176948 [==============================] - 0s - loss: 5.8403 - crps_cost_function: 5.8403 - val_loss: 10.1173 - val_crps_cost_function: 10.1173\n",
      "Epoch 126/400\n",
      "176948/176948 [==============================] - 0s - loss: 5.8239 - crps_cost_function: 5.8239 - val_loss: 10.0876 - val_crps_cost_function: 10.0876\n",
      "Epoch 127/400\n",
      "176948/176948 [==============================] - 0s - loss: 5.8075 - crps_cost_function: 5.8075 - val_loss: 10.0579 - val_crps_cost_function: 10.0579\n",
      "Epoch 128/400\n",
      "176948/176948 [==============================] - 0s - loss: 5.7912 - crps_cost_function: 5.7912 - val_loss: 10.0283 - val_crps_cost_function: 10.0283\n",
      "Epoch 129/400\n",
      "176948/176948 [==============================] - 0s - loss: 5.7749 - crps_cost_function: 5.7749 - val_loss: 9.9987 - val_crps_cost_function: 9.9987\n",
      "Epoch 130/400\n",
      "176948/176948 [==============================] - 0s - loss: 5.7586 - crps_cost_function: 5.7586 - val_loss: 9.9691 - val_crps_cost_function: 9.9691\n",
      "Epoch 131/400\n",
      "176948/176948 [==============================] - 0s - loss: 5.7423 - crps_cost_function: 5.7423 - val_loss: 9.9395 - val_crps_cost_function: 9.9395\n",
      "Epoch 132/400\n",
      "176948/176948 [==============================] - 0s - loss: 5.7260 - crps_cost_function: 5.7260 - val_loss: 9.9100 - val_crps_cost_function: 9.9100\n",
      "Epoch 133/400\n",
      "176948/176948 [==============================] - 0s - loss: 5.7098 - crps_cost_function: 5.7098 - val_loss: 9.8805 - val_crps_cost_function: 9.8805\n",
      "Epoch 134/400\n",
      "176948/176948 [==============================] - 0s - loss: 5.6936 - crps_cost_function: 5.6936 - val_loss: 9.8510 - val_crps_cost_function: 9.8510\n",
      "Epoch 135/400\n",
      "176948/176948 [==============================] - 0s - loss: 5.6774 - crps_cost_function: 5.6774 - val_loss: 9.8216 - val_crps_cost_function: 9.8216\n",
      "Epoch 136/400\n",
      "176948/176948 [==============================] - 0s - loss: 5.6612 - crps_cost_function: 5.6612 - val_loss: 9.7922 - val_crps_cost_function: 9.7922\n",
      "Epoch 137/400\n",
      "176948/176948 [==============================] - 0s - loss: 5.6450 - crps_cost_function: 5.6450 - val_loss: 9.7628 - val_crps_cost_function: 9.7628\n",
      "Epoch 138/400\n",
      "176948/176948 [==============================] - 0s - loss: 5.6289 - crps_cost_function: 5.6289 - val_loss: 9.7335 - val_crps_cost_function: 9.7335\n",
      "Epoch 139/400\n",
      "176948/176948 [==============================] - 0s - loss: 5.6128 - crps_cost_function: 5.6128 - val_loss: 9.7042 - val_crps_cost_function: 9.7042\n",
      "Epoch 140/400\n",
      "176948/176948 [==============================] - 0s - loss: 5.5967 - crps_cost_function: 5.5967 - val_loss: 9.6749 - val_crps_cost_function: 9.6749\n",
      "Epoch 141/400\n",
      "176948/176948 [==============================] - 0s - loss: 5.5806 - crps_cost_function: 5.5806 - val_loss: 9.6457 - val_crps_cost_function: 9.6457\n",
      "Epoch 142/400\n",
      "176948/176948 [==============================] - 0s - loss: 5.5645 - crps_cost_function: 5.5645 - val_loss: 9.6165 - val_crps_cost_function: 9.6165\n",
      "Epoch 143/400\n",
      "176948/176948 [==============================] - 0s - loss: 5.5485 - crps_cost_function: 5.5485 - val_loss: 9.5873 - val_crps_cost_function: 9.5873\n",
      "Epoch 144/400\n",
      "176948/176948 [==============================] - 0s - loss: 5.5325 - crps_cost_function: 5.5325 - val_loss: 9.5582 - val_crps_cost_function: 9.5582\n",
      "Epoch 145/400\n",
      "176948/176948 [==============================] - 0s - loss: 5.5165 - crps_cost_function: 5.5165 - val_loss: 9.5291 - val_crps_cost_function: 9.5291\n",
      "Epoch 146/400\n",
      "176948/176948 [==============================] - 0s - loss: 5.5005 - crps_cost_function: 5.5005 - val_loss: 9.5000 - val_crps_cost_function: 9.5000\n",
      "Epoch 147/400\n",
      "176948/176948 [==============================] - 0s - loss: 5.4846 - crps_cost_function: 5.4846 - val_loss: 9.4710 - val_crps_cost_function: 9.4710\n",
      "Epoch 148/400\n",
      "176948/176948 [==============================] - 0s - loss: 5.4686 - crps_cost_function: 5.4686 - val_loss: 9.4421 - val_crps_cost_function: 9.4421\n",
      "Epoch 149/400\n",
      "176948/176948 [==============================] - 0s - loss: 5.4527 - crps_cost_function: 5.4527 - val_loss: 9.4131 - val_crps_cost_function: 9.4131\n",
      "Epoch 150/400\n",
      "176948/176948 [==============================] - 0s - loss: 5.4369 - crps_cost_function: 5.4369 - val_loss: 9.3842 - val_crps_cost_function: 9.3842\n",
      "Epoch 151/400\n"
     ]
    },
    {
     "name": "stdout",
     "output_type": "stream",
     "text": [
      "176948/176948 [==============================] - 0s - loss: 5.4210 - crps_cost_function: 5.4210 - val_loss: 9.3554 - val_crps_cost_function: 9.3554\n",
      "Epoch 152/400\n",
      "176948/176948 [==============================] - 0s - loss: 5.4052 - crps_cost_function: 5.4052 - val_loss: 9.3266 - val_crps_cost_function: 9.3266\n",
      "Epoch 153/400\n",
      "176948/176948 [==============================] - 0s - loss: 5.3894 - crps_cost_function: 5.3894 - val_loss: 9.2978 - val_crps_cost_function: 9.2978\n",
      "Epoch 154/400\n",
      "176948/176948 [==============================] - 0s - loss: 5.3736 - crps_cost_function: 5.3736 - val_loss: 9.2690 - val_crps_cost_function: 9.2690\n",
      "Epoch 155/400\n",
      "176948/176948 [==============================] - 0s - loss: 5.3578 - crps_cost_function: 5.3578 - val_loss: 9.2404 - val_crps_cost_function: 9.2404\n",
      "Epoch 156/400\n",
      "176948/176948 [==============================] - 0s - loss: 5.3421 - crps_cost_function: 5.3421 - val_loss: 9.2117 - val_crps_cost_function: 9.2117\n",
      "Epoch 157/400\n",
      "176948/176948 [==============================] - 0s - loss: 5.3264 - crps_cost_function: 5.3264 - val_loss: 9.1831 - val_crps_cost_function: 9.1831\n",
      "Epoch 158/400\n",
      "176948/176948 [==============================] - 0s - loss: 5.3107 - crps_cost_function: 5.3107 - val_loss: 9.1546 - val_crps_cost_function: 9.1546\n",
      "Epoch 159/400\n",
      "176948/176948 [==============================] - 0s - loss: 5.2950 - crps_cost_function: 5.2950 - val_loss: 9.1260 - val_crps_cost_function: 9.1260\n",
      "Epoch 160/400\n",
      "176948/176948 [==============================] - 0s - loss: 5.2794 - crps_cost_function: 5.2794 - val_loss: 9.0976 - val_crps_cost_function: 9.0976\n",
      "Epoch 161/400\n",
      "176948/176948 [==============================] - 0s - loss: 5.2637 - crps_cost_function: 5.2637 - val_loss: 9.0691 - val_crps_cost_function: 9.0691\n",
      "Epoch 162/400\n",
      "176948/176948 [==============================] - 0s - loss: 5.2481 - crps_cost_function: 5.2481 - val_loss: 9.0408 - val_crps_cost_function: 9.0408\n",
      "Epoch 163/400\n",
      "176948/176948 [==============================] - 0s - loss: 5.2326 - crps_cost_function: 5.2326 - val_loss: 9.0124 - val_crps_cost_function: 9.0124\n",
      "Epoch 164/400\n",
      "176948/176948 [==============================] - 0s - loss: 5.2170 - crps_cost_function: 5.2170 - val_loss: 8.9842 - val_crps_cost_function: 8.9842\n",
      "Epoch 165/400\n",
      "176948/176948 [==============================] - 0s - loss: 5.2015 - crps_cost_function: 5.2015 - val_loss: 8.9559 - val_crps_cost_function: 8.9559\n",
      "Epoch 166/400\n",
      "176948/176948 [==============================] - 0s - loss: 5.1860 - crps_cost_function: 5.1860 - val_loss: 8.9277 - val_crps_cost_function: 8.9277\n",
      "Epoch 167/400\n",
      "176948/176948 [==============================] - 0s - loss: 5.1706 - crps_cost_function: 5.1706 - val_loss: 8.8996 - val_crps_cost_function: 8.8996\n",
      "Epoch 168/400\n",
      "176948/176948 [==============================] - 0s - loss: 5.1551 - crps_cost_function: 5.1551 - val_loss: 8.8715 - val_crps_cost_function: 8.8715\n",
      "Epoch 169/400\n",
      "176948/176948 [==============================] - 0s - loss: 5.1397 - crps_cost_function: 5.1397 - val_loss: 8.8435 - val_crps_cost_function: 8.8435\n",
      "Epoch 170/400\n",
      "176948/176948 [==============================] - 0s - loss: 5.1243 - crps_cost_function: 5.1243 - val_loss: 8.8155 - val_crps_cost_function: 8.8155\n",
      "Epoch 171/400\n",
      "176948/176948 [==============================] - 0s - loss: 5.1090 - crps_cost_function: 5.1090 - val_loss: 8.7876 - val_crps_cost_function: 8.7876\n",
      "Epoch 172/400\n",
      "176948/176948 [==============================] - 0s - loss: 5.0937 - crps_cost_function: 5.0937 - val_loss: 8.7597 - val_crps_cost_function: 8.7597\n",
      "Epoch 173/400\n",
      "176948/176948 [==============================] - 0s - loss: 5.0784 - crps_cost_function: 5.0784 - val_loss: 8.7319 - val_crps_cost_function: 8.7319\n",
      "Epoch 174/400\n",
      "176948/176948 [==============================] - 0s - loss: 5.0631 - crps_cost_function: 5.0631 - val_loss: 8.7041 - val_crps_cost_function: 8.7041\n",
      "Epoch 175/400\n",
      "176948/176948 [==============================] - 0s - loss: 5.0478 - crps_cost_function: 5.0478 - val_loss: 8.6764 - val_crps_cost_function: 8.6764\n",
      "Epoch 176/400\n",
      "176948/176948 [==============================] - 0s - loss: 5.0326 - crps_cost_function: 5.0326 - val_loss: 8.6488 - val_crps_cost_function: 8.6488\n",
      "Epoch 177/400\n",
      "176948/176948 [==============================] - 0s - loss: 5.0174 - crps_cost_function: 5.0174 - val_loss: 8.6212 - val_crps_cost_function: 8.6212\n",
      "Epoch 178/400\n",
      "176948/176948 [==============================] - 0s - loss: 5.0023 - crps_cost_function: 5.0023 - val_loss: 8.5937 - val_crps_cost_function: 8.5937\n",
      "Epoch 179/400\n",
      "176948/176948 [==============================] - 0s - loss: 4.9872 - crps_cost_function: 4.9872 - val_loss: 8.5662 - val_crps_cost_function: 8.5662\n",
      "Epoch 180/400\n",
      "176948/176948 [==============================] - 0s - loss: 4.9721 - crps_cost_function: 4.9721 - val_loss: 8.5388 - val_crps_cost_function: 8.5388\n",
      "Epoch 181/400\n",
      "176948/176948 [==============================] - 0s - loss: 4.9570 - crps_cost_function: 4.9570 - val_loss: 8.5114 - val_crps_cost_function: 8.5114\n",
      "Epoch 182/400\n",
      "176948/176948 [==============================] - 0s - loss: 4.9420 - crps_cost_function: 4.9420 - val_loss: 8.4841 - val_crps_cost_function: 8.4841\n",
      "Epoch 183/400\n",
      "176948/176948 [==============================] - 0s - loss: 4.9270 - crps_cost_function: 4.9270 - val_loss: 8.4569 - val_crps_cost_function: 8.4569\n",
      "Epoch 184/400\n",
      "176948/176948 [==============================] - 0s - loss: 4.9121 - crps_cost_function: 4.9121 - val_loss: 8.4298 - val_crps_cost_function: 8.4298\n",
      "Epoch 185/400\n",
      "176948/176948 [==============================] - 0s - loss: 4.8971 - crps_cost_function: 4.8971 - val_loss: 8.4027 - val_crps_cost_function: 8.4027\n",
      "Epoch 186/400\n",
      "176948/176948 [==============================] - 0s - loss: 4.8822 - crps_cost_function: 4.8822 - val_loss: 8.3756 - val_crps_cost_function: 8.3756\n",
      "Epoch 187/400\n",
      "176948/176948 [==============================] - 0s - loss: 4.8674 - crps_cost_function: 4.8674 - val_loss: 8.3487 - val_crps_cost_function: 8.3487\n",
      "Epoch 188/400\n",
      "176948/176948 [==============================] - 0s - loss: 4.8526 - crps_cost_function: 4.8526 - val_loss: 8.3218 - val_crps_cost_function: 8.3218\n",
      "Epoch 189/400\n",
      "176948/176948 [==============================] - 0s - loss: 4.8378 - crps_cost_function: 4.8378 - val_loss: 8.2950 - val_crps_cost_function: 8.2950\n",
      "Epoch 190/400\n",
      "176948/176948 [==============================] - 0s - loss: 4.8230 - crps_cost_function: 4.8230 - val_loss: 8.2682 - val_crps_cost_function: 8.2682\n",
      "Epoch 191/400\n",
      "176948/176948 [==============================] - 0s - loss: 4.8083 - crps_cost_function: 4.8083 - val_loss: 8.2416 - val_crps_cost_function: 8.2416\n",
      "Epoch 192/400\n",
      "176948/176948 [==============================] - 0s - loss: 4.7936 - crps_cost_function: 4.7936 - val_loss: 8.2149 - val_crps_cost_function: 8.2149\n",
      "Epoch 193/400\n",
      "176948/176948 [==============================] - 0s - loss: 4.7790 - crps_cost_function: 4.7790 - val_loss: 8.1884 - val_crps_cost_function: 8.1884\n",
      "Epoch 194/400\n",
      "176948/176948 [==============================] - 0s - loss: 4.7644 - crps_cost_function: 4.7644 - val_loss: 8.1620 - val_crps_cost_function: 8.1620\n",
      "Epoch 195/400\n",
      "176948/176948 [==============================] - 0s - loss: 4.7499 - crps_cost_function: 4.7499 - val_loss: 8.1356 - val_crps_cost_function: 8.1356\n",
      "Epoch 196/400\n",
      "176948/176948 [==============================] - 0s - loss: 4.7353 - crps_cost_function: 4.7353 - val_loss: 8.1093 - val_crps_cost_function: 8.1093\n",
      "Epoch 197/400\n",
      "176948/176948 [==============================] - 0s - loss: 4.7209 - crps_cost_function: 4.7209 - val_loss: 8.0830 - val_crps_cost_function: 8.0830\n",
      "Epoch 198/400\n",
      "176948/176948 [==============================] - 0s - loss: 4.7064 - crps_cost_function: 4.7064 - val_loss: 8.0569 - val_crps_cost_function: 8.0569\n",
      "Epoch 199/400\n",
      "176948/176948 [==============================] - 0s - loss: 4.6920 - crps_cost_function: 4.6920 - val_loss: 8.0308 - val_crps_cost_function: 8.0308\n",
      "Epoch 200/400\n",
      "176948/176948 [==============================] - 0s - loss: 4.6777 - crps_cost_function: 4.6777 - val_loss: 8.0048 - val_crps_cost_function: 8.0048\n",
      "Epoch 201/400\n"
     ]
    },
    {
     "name": "stdout",
     "output_type": "stream",
     "text": [
      "176948/176948 [==============================] - 0s - loss: 4.6634 - crps_cost_function: 4.6634 - val_loss: 7.9789 - val_crps_cost_function: 7.9789\n",
      "Epoch 202/400\n",
      "176948/176948 [==============================] - 0s - loss: 4.6491 - crps_cost_function: 4.6491 - val_loss: 7.9531 - val_crps_cost_function: 7.9531\n",
      "Epoch 203/400\n",
      "176948/176948 [==============================] - 0s - loss: 4.6349 - crps_cost_function: 4.6349 - val_loss: 7.9274 - val_crps_cost_function: 7.9274\n",
      "Epoch 204/400\n",
      "176948/176948 [==============================] - 0s - loss: 4.6207 - crps_cost_function: 4.6207 - val_loss: 7.9017 - val_crps_cost_function: 7.9017\n",
      "Epoch 205/400\n",
      "176948/176948 [==============================] - 0s - loss: 4.6066 - crps_cost_function: 4.6066 - val_loss: 7.8761 - val_crps_cost_function: 7.8761\n",
      "Epoch 206/400\n",
      "176948/176948 [==============================] - 0s - loss: 4.5925 - crps_cost_function: 4.5925 - val_loss: 7.8507 - val_crps_cost_function: 7.8507\n",
      "Epoch 207/400\n",
      "176948/176948 [==============================] - 0s - loss: 4.5784 - crps_cost_function: 4.5784 - val_loss: 7.8253 - val_crps_cost_function: 7.8253\n",
      "Epoch 208/400\n",
      "176948/176948 [==============================] - 0s - loss: 4.5644 - crps_cost_function: 4.5644 - val_loss: 7.7999 - val_crps_cost_function: 7.7999\n",
      "Epoch 209/400\n",
      "176948/176948 [==============================] - 0s - loss: 4.5505 - crps_cost_function: 4.5505 - val_loss: 7.7747 - val_crps_cost_function: 7.7747\n",
      "Epoch 210/400\n",
      "176948/176948 [==============================] - 0s - loss: 4.5365 - crps_cost_function: 4.5365 - val_loss: 7.7496 - val_crps_cost_function: 7.7496\n",
      "Epoch 211/400\n",
      "176948/176948 [==============================] - 0s - loss: 4.5227 - crps_cost_function: 4.5227 - val_loss: 7.7245 - val_crps_cost_function: 7.7245\n",
      "Epoch 212/400\n",
      "176948/176948 [==============================] - 0s - loss: 4.5089 - crps_cost_function: 4.5089 - val_loss: 7.6996 - val_crps_cost_function: 7.6996\n",
      "Epoch 213/400\n",
      "176948/176948 [==============================] - 0s - loss: 4.4951 - crps_cost_function: 4.4951 - val_loss: 7.6747 - val_crps_cost_function: 7.6747\n",
      "Epoch 214/400\n",
      "176948/176948 [==============================] - 0s - loss: 4.4814 - crps_cost_function: 4.4814 - val_loss: 7.6500 - val_crps_cost_function: 7.6500\n",
      "Epoch 215/400\n",
      "176948/176948 [==============================] - 0s - loss: 4.4677 - crps_cost_function: 4.4677 - val_loss: 7.6253 - val_crps_cost_function: 7.6253\n",
      "Epoch 216/400\n",
      "176948/176948 [==============================] - 0s - loss: 4.4541 - crps_cost_function: 4.4541 - val_loss: 7.6007 - val_crps_cost_function: 7.6007\n",
      "Epoch 217/400\n",
      "176948/176948 [==============================] - 0s - loss: 4.4405 - crps_cost_function: 4.4405 - val_loss: 7.5762 - val_crps_cost_function: 7.5762\n",
      "Epoch 218/400\n",
      "176948/176948 [==============================] - 0s - loss: 4.4270 - crps_cost_function: 4.4270 - val_loss: 7.5519 - val_crps_cost_function: 7.5519\n",
      "Epoch 219/400\n",
      "176948/176948 [==============================] - 0s - loss: 4.4135 - crps_cost_function: 4.4135 - val_loss: 7.5276 - val_crps_cost_function: 7.5276\n",
      "Epoch 220/400\n",
      "176948/176948 [==============================] - 0s - loss: 4.4001 - crps_cost_function: 4.4001 - val_loss: 7.5034 - val_crps_cost_function: 7.5034\n",
      "Epoch 221/400\n",
      "176948/176948 [==============================] - 0s - loss: 4.3868 - crps_cost_function: 4.3868 - val_loss: 7.4793 - val_crps_cost_function: 7.4793\n",
      "Epoch 222/400\n",
      "176948/176948 [==============================] - 0s - loss: 4.3735 - crps_cost_function: 4.3735 - val_loss: 7.4553 - val_crps_cost_function: 7.4553\n",
      "Epoch 223/400\n",
      "176948/176948 [==============================] - 0s - loss: 4.3602 - crps_cost_function: 4.3602 - val_loss: 7.4314 - val_crps_cost_function: 7.4314\n",
      "Epoch 224/400\n",
      "176948/176948 [==============================] - 0s - loss: 4.3470 - crps_cost_function: 4.3470 - val_loss: 7.4076 - val_crps_cost_function: 7.4076\n",
      "Epoch 225/400\n",
      "176948/176948 [==============================] - 0s - loss: 4.3338 - crps_cost_function: 4.3338 - val_loss: 7.3839 - val_crps_cost_function: 7.3839\n",
      "Epoch 226/400\n",
      "176948/176948 [==============================] - 0s - loss: 4.3207 - crps_cost_function: 4.3207 - val_loss: 7.3603 - val_crps_cost_function: 7.3603\n",
      "Epoch 227/400\n",
      "176948/176948 [==============================] - 0s - loss: 4.3077 - crps_cost_function: 4.3077 - val_loss: 7.3368 - val_crps_cost_function: 7.3368\n",
      "Epoch 228/400\n",
      "176948/176948 [==============================] - 0s - loss: 4.2947 - crps_cost_function: 4.2947 - val_loss: 7.3134 - val_crps_cost_function: 7.3134\n",
      "Epoch 229/400\n",
      "176948/176948 [==============================] - 0s - loss: 4.2818 - crps_cost_function: 4.2818 - val_loss: 7.2901 - val_crps_cost_function: 7.2901\n",
      "Epoch 230/400\n",
      "176948/176948 [==============================] - 0s - loss: 4.2689 - crps_cost_function: 4.2689 - val_loss: 7.2670 - val_crps_cost_function: 7.2670\n",
      "Epoch 231/400\n",
      "176948/176948 [==============================] - 0s - loss: 4.2560 - crps_cost_function: 4.2560 - val_loss: 7.2439 - val_crps_cost_function: 7.2439\n",
      "Epoch 232/400\n",
      "176948/176948 [==============================] - 0s - loss: 4.2433 - crps_cost_function: 4.2433 - val_loss: 7.2209 - val_crps_cost_function: 7.2209\n",
      "Epoch 233/400\n",
      "176948/176948 [==============================] - 0s - loss: 4.2305 - crps_cost_function: 4.2305 - val_loss: 7.1980 - val_crps_cost_function: 7.1980\n",
      "Epoch 234/400\n",
      "176948/176948 [==============================] - 0s - loss: 4.2179 - crps_cost_function: 4.2179 - val_loss: 7.1753 - val_crps_cost_function: 7.1753\n",
      "Epoch 235/400\n",
      "176948/176948 [==============================] - 0s - loss: 4.2053 - crps_cost_function: 4.2053 - val_loss: 7.1526 - val_crps_cost_function: 7.1526\n",
      "Epoch 236/400\n",
      "176948/176948 [==============================] - 0s - loss: 4.1927 - crps_cost_function: 4.1927 - val_loss: 7.1300 - val_crps_cost_function: 7.1300\n",
      "Epoch 237/400\n",
      "176948/176948 [==============================] - 0s - loss: 4.1803 - crps_cost_function: 4.1803 - val_loss: 7.1076 - val_crps_cost_function: 7.1076\n",
      "Epoch 238/400\n",
      "176948/176948 [==============================] - 0s - loss: 4.1678 - crps_cost_function: 4.1678 - val_loss: 7.0852 - val_crps_cost_function: 7.0852\n",
      "Epoch 239/400\n",
      "176948/176948 [==============================] - 0s - loss: 4.1554 - crps_cost_function: 4.1554 - val_loss: 7.0630 - val_crps_cost_function: 7.0630\n",
      "Epoch 240/400\n",
      "176948/176948 [==============================] - 0s - loss: 4.1431 - crps_cost_function: 4.1431 - val_loss: 7.0409 - val_crps_cost_function: 7.0409\n",
      "Epoch 241/400\n",
      "176948/176948 [==============================] - 0s - loss: 4.1309 - crps_cost_function: 4.1309 - val_loss: 7.0188 - val_crps_cost_function: 7.0188\n",
      "Epoch 242/400\n",
      "176948/176948 [==============================] - 0s - loss: 4.1187 - crps_cost_function: 4.1187 - val_loss: 6.9969 - val_crps_cost_function: 6.9969\n",
      "Epoch 243/400\n",
      "176948/176948 [==============================] - 0s - loss: 4.1065 - crps_cost_function: 4.1065 - val_loss: 6.9751 - val_crps_cost_function: 6.9751\n",
      "Epoch 244/400\n",
      "176948/176948 [==============================] - 0s - loss: 4.0944 - crps_cost_function: 4.0944 - val_loss: 6.9534 - val_crps_cost_function: 6.9534\n",
      "Epoch 245/400\n",
      "176948/176948 [==============================] - 0s - loss: 4.0824 - crps_cost_function: 4.0824 - val_loss: 6.9318 - val_crps_cost_function: 6.9318\n",
      "Epoch 246/400\n",
      "176948/176948 [==============================] - 0s - loss: 4.0704 - crps_cost_function: 4.0704 - val_loss: 6.9103 - val_crps_cost_function: 6.9103\n",
      "Epoch 247/400\n",
      "176948/176948 [==============================] - 0s - loss: 4.0585 - crps_cost_function: 4.0585 - val_loss: 6.8889 - val_crps_cost_function: 6.8889\n",
      "Epoch 248/400\n",
      "176948/176948 [==============================] - 0s - loss: 4.0467 - crps_cost_function: 4.0467 - val_loss: 6.8676 - val_crps_cost_function: 6.8676\n",
      "Epoch 249/400\n",
      "176948/176948 [==============================] - 0s - loss: 4.0349 - crps_cost_function: 4.0349 - val_loss: 6.8465 - val_crps_cost_function: 6.8465\n",
      "Epoch 250/400\n",
      "176948/176948 [==============================] - 0s - loss: 4.0231 - crps_cost_function: 4.0231 - val_loss: 6.8254 - val_crps_cost_function: 6.8254\n",
      "Epoch 251/400\n"
     ]
    },
    {
     "name": "stdout",
     "output_type": "stream",
     "text": [
      "176948/176948 [==============================] - 0s - loss: 4.0115 - crps_cost_function: 4.0115 - val_loss: 6.8044 - val_crps_cost_function: 6.8044\n",
      "Epoch 252/400\n",
      "176948/176948 [==============================] - 0s - loss: 3.9998 - crps_cost_function: 3.9998 - val_loss: 6.7836 - val_crps_cost_function: 6.7836\n",
      "Epoch 253/400\n",
      "176948/176948 [==============================] - 0s - loss: 3.9883 - crps_cost_function: 3.9883 - val_loss: 6.7628 - val_crps_cost_function: 6.7628\n",
      "Epoch 254/400\n",
      "176948/176948 [==============================] - 0s - loss: 3.9768 - crps_cost_function: 3.9768 - val_loss: 6.7422 - val_crps_cost_function: 6.7422\n",
      "Epoch 255/400\n",
      "176948/176948 [==============================] - 0s - loss: 3.9653 - crps_cost_function: 3.9653 - val_loss: 6.7216 - val_crps_cost_function: 6.7216\n",
      "Epoch 256/400\n",
      "176948/176948 [==============================] - 0s - loss: 3.9539 - crps_cost_function: 3.9539 - val_loss: 6.7012 - val_crps_cost_function: 6.7012\n",
      "Epoch 257/400\n",
      "176948/176948 [==============================] - 0s - loss: 3.9426 - crps_cost_function: 3.9426 - val_loss: 6.6809 - val_crps_cost_function: 6.6809\n",
      "Epoch 258/400\n",
      "176948/176948 [==============================] - 0s - loss: 3.9313 - crps_cost_function: 3.9313 - val_loss: 6.6607 - val_crps_cost_function: 6.6607\n",
      "Epoch 259/400\n",
      "176948/176948 [==============================] - 0s - loss: 3.9201 - crps_cost_function: 3.9201 - val_loss: 6.6406 - val_crps_cost_function: 6.6406\n",
      "Epoch 260/400\n",
      "176948/176948 [==============================] - 0s - loss: 3.9089 - crps_cost_function: 3.9089 - val_loss: 6.6206 - val_crps_cost_function: 6.6206\n",
      "Epoch 261/400\n",
      "176948/176948 [==============================] - 0s - loss: 3.8978 - crps_cost_function: 3.8978 - val_loss: 6.6007 - val_crps_cost_function: 6.6007\n",
      "Epoch 262/400\n",
      "176948/176948 [==============================] - 0s - loss: 3.8868 - crps_cost_function: 3.8868 - val_loss: 6.5809 - val_crps_cost_function: 6.5809\n",
      "Epoch 263/400\n",
      "176948/176948 [==============================] - 0s - loss: 3.8758 - crps_cost_function: 3.8758 - val_loss: 6.5612 - val_crps_cost_function: 6.5612\n",
      "Epoch 264/400\n",
      "176948/176948 [==============================] - 0s - loss: 3.8649 - crps_cost_function: 3.8649 - val_loss: 6.5416 - val_crps_cost_function: 6.5416\n",
      "Epoch 265/400\n",
      "176948/176948 [==============================] - 0s - loss: 3.8540 - crps_cost_function: 3.8540 - val_loss: 6.5221 - val_crps_cost_function: 6.5221\n",
      "Epoch 266/400\n",
      "176948/176948 [==============================] - 0s - loss: 3.8432 - crps_cost_function: 3.8432 - val_loss: 6.5027 - val_crps_cost_function: 6.5027\n",
      "Epoch 267/400\n",
      "176948/176948 [==============================] - 0s - loss: 3.8324 - crps_cost_function: 3.8324 - val_loss: 6.4834 - val_crps_cost_function: 6.4834\n",
      "Epoch 268/400\n",
      "176948/176948 [==============================] - 0s - loss: 3.8217 - crps_cost_function: 3.8217 - val_loss: 6.4643 - val_crps_cost_function: 6.4643\n",
      "Epoch 269/400\n",
      "176948/176948 [==============================] - 0s - loss: 3.8111 - crps_cost_function: 3.8111 - val_loss: 6.4452 - val_crps_cost_function: 6.4452\n",
      "Epoch 270/400\n",
      "176948/176948 [==============================] - 0s - loss: 3.8005 - crps_cost_function: 3.8005 - val_loss: 6.4262 - val_crps_cost_function: 6.4262\n",
      "Epoch 271/400\n",
      "176948/176948 [==============================] - 0s - loss: 3.7900 - crps_cost_function: 3.7900 - val_loss: 6.4073 - val_crps_cost_function: 6.4073\n",
      "Epoch 272/400\n",
      "176948/176948 [==============================] - 0s - loss: 3.7795 - crps_cost_function: 3.7795 - val_loss: 6.3886 - val_crps_cost_function: 6.3886\n",
      "Epoch 273/400\n",
      "176948/176948 [==============================] - 0s - loss: 3.7691 - crps_cost_function: 3.7691 - val_loss: 6.3699 - val_crps_cost_function: 6.3699\n",
      "Epoch 274/400\n",
      "176948/176948 [==============================] - 0s - loss: 3.7587 - crps_cost_function: 3.7587 - val_loss: 6.3513 - val_crps_cost_function: 6.3513\n",
      "Epoch 275/400\n",
      "176948/176948 [==============================] - 0s - loss: 3.7484 - crps_cost_function: 3.7484 - val_loss: 6.3328 - val_crps_cost_function: 6.3328\n",
      "Epoch 276/400\n",
      "176948/176948 [==============================] - 0s - loss: 3.7381 - crps_cost_function: 3.7381 - val_loss: 6.3145 - val_crps_cost_function: 6.3145\n",
      "Epoch 277/400\n",
      "176948/176948 [==============================] - 0s - loss: 3.7279 - crps_cost_function: 3.7279 - val_loss: 6.2962 - val_crps_cost_function: 6.2962\n",
      "Epoch 278/400\n",
      "176948/176948 [==============================] - 0s - loss: 3.7178 - crps_cost_function: 3.7178 - val_loss: 6.2780 - val_crps_cost_function: 6.2780\n",
      "Epoch 279/400\n",
      "176948/176948 [==============================] - 0s - loss: 3.7077 - crps_cost_function: 3.7077 - val_loss: 6.2599 - val_crps_cost_function: 6.2599\n",
      "Epoch 280/400\n",
      "176948/176948 [==============================] - 0s - loss: 3.6976 - crps_cost_function: 3.6976 - val_loss: 6.2419 - val_crps_cost_function: 6.2419\n",
      "Epoch 281/400\n",
      "176948/176948 [==============================] - 0s - loss: 3.6876 - crps_cost_function: 3.6876 - val_loss: 6.2240 - val_crps_cost_function: 6.2240\n",
      "Epoch 282/400\n",
      "176948/176948 [==============================] - 0s - loss: 3.6777 - crps_cost_function: 3.6777 - val_loss: 6.2062 - val_crps_cost_function: 6.2062\n",
      "Epoch 283/400\n",
      "176948/176948 [==============================] - 0s - loss: 3.6678 - crps_cost_function: 3.6678 - val_loss: 6.1885 - val_crps_cost_function: 6.1885\n",
      "Epoch 284/400\n",
      "176948/176948 [==============================] - 0s - loss: 3.6580 - crps_cost_function: 3.6580 - val_loss: 6.1709 - val_crps_cost_function: 6.1709\n",
      "Epoch 285/400\n",
      "176948/176948 [==============================] - 0s - loss: 3.6482 - crps_cost_function: 3.6482 - val_loss: 6.1534 - val_crps_cost_function: 6.1534\n",
      "Epoch 286/400\n",
      "176948/176948 [==============================] - 0s - loss: 3.6385 - crps_cost_function: 3.6385 - val_loss: 6.1360 - val_crps_cost_function: 6.1360\n",
      "Epoch 287/400\n",
      "176948/176948 [==============================] - 0s - loss: 3.6288 - crps_cost_function: 3.6288 - val_loss: 6.1187 - val_crps_cost_function: 6.1187\n",
      "Epoch 288/400\n",
      "176948/176948 [==============================] - 0s - loss: 3.6192 - crps_cost_function: 3.6192 - val_loss: 6.1015 - val_crps_cost_function: 6.1015\n",
      "Epoch 289/400\n",
      "176948/176948 [==============================] - 0s - loss: 3.6096 - crps_cost_function: 3.6096 - val_loss: 6.0843 - val_crps_cost_function: 6.0843\n",
      "Epoch 290/400\n",
      "176948/176948 [==============================] - 0s - loss: 3.6001 - crps_cost_function: 3.6001 - val_loss: 6.0673 - val_crps_cost_function: 6.0673\n",
      "Epoch 291/400\n",
      "176948/176948 [==============================] - 0s - loss: 3.5907 - crps_cost_function: 3.5907 - val_loss: 6.0503 - val_crps_cost_function: 6.0503\n",
      "Epoch 292/400\n",
      "176948/176948 [==============================] - 0s - loss: 3.5812 - crps_cost_function: 3.5812 - val_loss: 6.0335 - val_crps_cost_function: 6.0335\n",
      "Epoch 293/400\n",
      "176948/176948 [==============================] - 0s - loss: 3.5719 - crps_cost_function: 3.5719 - val_loss: 6.0167 - val_crps_cost_function: 6.0167\n",
      "Epoch 294/400\n",
      "176948/176948 [==============================] - 0s - loss: 3.5626 - crps_cost_function: 3.5626 - val_loss: 6.0000 - val_crps_cost_function: 6.0000\n",
      "Epoch 295/400\n",
      "176948/176948 [==============================] - 0s - loss: 3.5533 - crps_cost_function: 3.5533 - val_loss: 5.9834 - val_crps_cost_function: 5.9834\n",
      "Epoch 296/400\n",
      "176948/176948 [==============================] - 0s - loss: 3.5441 - crps_cost_function: 3.5441 - val_loss: 5.9669 - val_crps_cost_function: 5.9669\n",
      "Epoch 297/400\n",
      "176948/176948 [==============================] - 0s - loss: 3.5350 - crps_cost_function: 3.5350 - val_loss: 5.9505 - val_crps_cost_function: 5.9505\n",
      "Epoch 298/400\n",
      "176948/176948 [==============================] - 0s - loss: 3.5258 - crps_cost_function: 3.5258 - val_loss: 5.9341 - val_crps_cost_function: 5.9341\n",
      "Epoch 299/400\n",
      "176948/176948 [==============================] - 0s - loss: 3.5168 - crps_cost_function: 3.5168 - val_loss: 5.9179 - val_crps_cost_function: 5.9179\n",
      "Epoch 300/400\n",
      "176948/176948 [==============================] - 0s - loss: 3.5078 - crps_cost_function: 3.5078 - val_loss: 5.9017 - val_crps_cost_function: 5.9017\n",
      "Epoch 301/400\n"
     ]
    },
    {
     "name": "stdout",
     "output_type": "stream",
     "text": [
      "176948/176948 [==============================] - 0s - loss: 3.4988 - crps_cost_function: 3.4988 - val_loss: 5.8857 - val_crps_cost_function: 5.8857\n",
      "Epoch 302/400\n",
      "176948/176948 [==============================] - 0s - loss: 3.4899 - crps_cost_function: 3.4899 - val_loss: 5.8697 - val_crps_cost_function: 5.8697\n",
      "Epoch 303/400\n",
      "176948/176948 [==============================] - 0s - loss: 3.4810 - crps_cost_function: 3.4810 - val_loss: 5.8538 - val_crps_cost_function: 5.8538\n",
      "Epoch 304/400\n",
      "176948/176948 [==============================] - 0s - loss: 3.4722 - crps_cost_function: 3.4722 - val_loss: 5.8380 - val_crps_cost_function: 5.8380\n",
      "Epoch 305/400\n",
      "176948/176948 [==============================] - 0s - loss: 3.4635 - crps_cost_function: 3.4635 - val_loss: 5.8222 - val_crps_cost_function: 5.8222\n",
      "Epoch 306/400\n",
      "176948/176948 [==============================] - 0s - loss: 3.4547 - crps_cost_function: 3.4547 - val_loss: 5.8066 - val_crps_cost_function: 5.8066\n",
      "Epoch 307/400\n",
      "176948/176948 [==============================] - 0s - loss: 3.4461 - crps_cost_function: 3.4461 - val_loss: 5.7910 - val_crps_cost_function: 5.7910\n",
      "Epoch 308/400\n",
      "176948/176948 [==============================] - 0s - loss: 3.4374 - crps_cost_function: 3.4374 - val_loss: 5.7755 - val_crps_cost_function: 5.7755\n",
      "Epoch 309/400\n",
      "176948/176948 [==============================] - 0s - loss: 3.4289 - crps_cost_function: 3.4289 - val_loss: 5.7601 - val_crps_cost_function: 5.7601\n",
      "Epoch 310/400\n",
      "176948/176948 [==============================] - 0s - loss: 3.4203 - crps_cost_function: 3.4203 - val_loss: 5.7448 - val_crps_cost_function: 5.7448\n",
      "Epoch 311/400\n",
      "176948/176948 [==============================] - 0s - loss: 3.4118 - crps_cost_function: 3.4118 - val_loss: 5.7295 - val_crps_cost_function: 5.7295\n",
      "Epoch 312/400\n",
      "176948/176948 [==============================] - 0s - loss: 3.4034 - crps_cost_function: 3.4034 - val_loss: 5.7143 - val_crps_cost_function: 5.7143\n",
      "Epoch 313/400\n",
      "176948/176948 [==============================] - 0s - loss: 3.3950 - crps_cost_function: 3.3950 - val_loss: 5.6992 - val_crps_cost_function: 5.6992\n",
      "Epoch 314/400\n",
      "176948/176948 [==============================] - 0s - loss: 3.3867 - crps_cost_function: 3.3867 - val_loss: 5.6842 - val_crps_cost_function: 5.6842\n",
      "Epoch 315/400\n",
      "176948/176948 [==============================] - 0s - loss: 3.3784 - crps_cost_function: 3.3784 - val_loss: 5.6693 - val_crps_cost_function: 5.6693\n",
      "Epoch 316/400\n",
      "176948/176948 [==============================] - 0s - loss: 3.3701 - crps_cost_function: 3.3701 - val_loss: 5.6544 - val_crps_cost_function: 5.6544\n",
      "Epoch 317/400\n",
      "176948/176948 [==============================] - 0s - loss: 3.3619 - crps_cost_function: 3.3619 - val_loss: 5.6397 - val_crps_cost_function: 5.6397\n",
      "Epoch 318/400\n",
      "176948/176948 [==============================] - 0s - loss: 3.3537 - crps_cost_function: 3.3537 - val_loss: 5.6250 - val_crps_cost_function: 5.6250\n",
      "Epoch 319/400\n",
      "176948/176948 [==============================] - 0s - loss: 3.3456 - crps_cost_function: 3.3456 - val_loss: 5.6103 - val_crps_cost_function: 5.6103\n",
      "Epoch 320/400\n",
      "176948/176948 [==============================] - 0s - loss: 3.3375 - crps_cost_function: 3.3375 - val_loss: 5.5958 - val_crps_cost_function: 5.5958\n",
      "Epoch 321/400\n",
      "176948/176948 [==============================] - 0s - loss: 3.3295 - crps_cost_function: 3.3295 - val_loss: 5.5813 - val_crps_cost_function: 5.5813\n",
      "Epoch 322/400\n",
      "176948/176948 [==============================] - 0s - loss: 3.3215 - crps_cost_function: 3.3215 - val_loss: 5.5669 - val_crps_cost_function: 5.5669\n",
      "Epoch 323/400\n",
      "176948/176948 [==============================] - 0s - loss: 3.3135 - crps_cost_function: 3.3135 - val_loss: 5.5526 - val_crps_cost_function: 5.5526\n",
      "Epoch 324/400\n",
      "176948/176948 [==============================] - 0s - loss: 3.3056 - crps_cost_function: 3.3056 - val_loss: 5.5383 - val_crps_cost_function: 5.5383\n",
      "Epoch 325/400\n",
      "176948/176948 [==============================] - 0s - loss: 3.2977 - crps_cost_function: 3.2977 - val_loss: 5.5241 - val_crps_cost_function: 5.5241\n",
      "Epoch 326/400\n",
      "176948/176948 [==============================] - 0s - loss: 3.2899 - crps_cost_function: 3.2899 - val_loss: 5.5100 - val_crps_cost_function: 5.5100\n",
      "Epoch 327/400\n",
      "176948/176948 [==============================] - 0s - loss: 3.2821 - crps_cost_function: 3.2821 - val_loss: 5.4960 - val_crps_cost_function: 5.4960\n",
      "Epoch 328/400\n",
      "176948/176948 [==============================] - 0s - loss: 3.2743 - crps_cost_function: 3.2743 - val_loss: 5.4820 - val_crps_cost_function: 5.4820\n",
      "Epoch 329/400\n",
      "176948/176948 [==============================] - 0s - loss: 3.2666 - crps_cost_function: 3.2666 - val_loss: 5.4681 - val_crps_cost_function: 5.4681\n",
      "Epoch 330/400\n",
      "176948/176948 [==============================] - 0s - loss: 3.2590 - crps_cost_function: 3.2590 - val_loss: 5.4543 - val_crps_cost_function: 5.4543\n",
      "Epoch 331/400\n",
      "176948/176948 [==============================] - 0s - loss: 3.2513 - crps_cost_function: 3.2513 - val_loss: 5.4405 - val_crps_cost_function: 5.4405\n",
      "Epoch 332/400\n",
      "176948/176948 [==============================] - 0s - loss: 3.2437 - crps_cost_function: 3.2437 - val_loss: 5.4268 - val_crps_cost_function: 5.4268\n",
      "Epoch 333/400\n",
      "176948/176948 [==============================] - 0s - loss: 3.2362 - crps_cost_function: 3.2362 - val_loss: 5.4132 - val_crps_cost_function: 5.4132\n",
      "Epoch 334/400\n",
      "176948/176948 [==============================] - 0s - loss: 3.2287 - crps_cost_function: 3.2287 - val_loss: 5.3996 - val_crps_cost_function: 5.3996\n",
      "Epoch 335/400\n",
      "176948/176948 [==============================] - 0s - loss: 3.2212 - crps_cost_function: 3.2212 - val_loss: 5.3861 - val_crps_cost_function: 5.3861\n",
      "Epoch 336/400\n",
      "176948/176948 [==============================] - 0s - loss: 3.2138 - crps_cost_function: 3.2138 - val_loss: 5.3727 - val_crps_cost_function: 5.3727\n",
      "Epoch 337/400\n",
      "176948/176948 [==============================] - 0s - loss: 3.2064 - crps_cost_function: 3.2064 - val_loss: 5.3593 - val_crps_cost_function: 5.3593\n",
      "Epoch 338/400\n",
      "176948/176948 [==============================] - 0s - loss: 3.1990 - crps_cost_function: 3.1990 - val_loss: 5.3460 - val_crps_cost_function: 5.3460\n",
      "Epoch 339/400\n",
      "176948/176948 [==============================] - 0s - loss: 3.1917 - crps_cost_function: 3.1917 - val_loss: 5.3328 - val_crps_cost_function: 5.3328\n",
      "Epoch 340/400\n",
      "176948/176948 [==============================] - 0s - loss: 3.1844 - crps_cost_function: 3.1844 - val_loss: 5.3196 - val_crps_cost_function: 5.3196\n",
      "Epoch 341/400\n",
      "176948/176948 [==============================] - 0s - loss: 3.1772 - crps_cost_function: 3.1772 - val_loss: 5.3065 - val_crps_cost_function: 5.3065\n",
      "Epoch 342/400\n",
      "176948/176948 [==============================] - 0s - loss: 3.1700 - crps_cost_function: 3.1700 - val_loss: 5.2935 - val_crps_cost_function: 5.2935\n",
      "Epoch 343/400\n",
      "176948/176948 [==============================] - 0s - loss: 3.1628 - crps_cost_function: 3.1628 - val_loss: 5.2805 - val_crps_cost_function: 5.2805\n",
      "Epoch 344/400\n",
      "176948/176948 [==============================] - 0s - loss: 3.1557 - crps_cost_function: 3.1557 - val_loss: 5.2676 - val_crps_cost_function: 5.2676\n",
      "Epoch 345/400\n",
      "176948/176948 [==============================] - 0s - loss: 3.1486 - crps_cost_function: 3.1486 - val_loss: 5.2548 - val_crps_cost_function: 5.2548\n",
      "Epoch 346/400\n",
      "176948/176948 [==============================] - 0s - loss: 3.1415 - crps_cost_function: 3.1415 - val_loss: 5.2420 - val_crps_cost_function: 5.2420\n",
      "Epoch 347/400\n",
      "176948/176948 [==============================] - 0s - loss: 3.1345 - crps_cost_function: 3.1345 - val_loss: 5.2292 - val_crps_cost_function: 5.2292\n",
      "Epoch 348/400\n",
      "176948/176948 [==============================] - 0s - loss: 3.1275 - crps_cost_function: 3.1275 - val_loss: 5.2166 - val_crps_cost_function: 5.2166\n",
      "Epoch 349/400\n",
      "176948/176948 [==============================] - 0s - loss: 3.1205 - crps_cost_function: 3.1205 - val_loss: 5.2040 - val_crps_cost_function: 5.2040\n",
      "Epoch 350/400\n",
      "176948/176948 [==============================] - 0s - loss: 3.1136 - crps_cost_function: 3.1136 - val_loss: 5.1914 - val_crps_cost_function: 5.1914\n",
      "Epoch 351/400\n"
     ]
    },
    {
     "name": "stdout",
     "output_type": "stream",
     "text": [
      "176948/176948 [==============================] - 0s - loss: 3.1067 - crps_cost_function: 3.1067 - val_loss: 5.1789 - val_crps_cost_function: 5.1789\n",
      "Epoch 352/400\n",
      "176948/176948 [==============================] - 0s - loss: 3.0998 - crps_cost_function: 3.0998 - val_loss: 5.1665 - val_crps_cost_function: 5.1665\n",
      "Epoch 353/400\n",
      "176948/176948 [==============================] - 0s - loss: 3.0930 - crps_cost_function: 3.0930 - val_loss: 5.1541 - val_crps_cost_function: 5.1541\n",
      "Epoch 354/400\n",
      "176948/176948 [==============================] - 0s - loss: 3.0862 - crps_cost_function: 3.0862 - val_loss: 5.1418 - val_crps_cost_function: 5.1418\n",
      "Epoch 355/400\n",
      "176948/176948 [==============================] - 0s - loss: 3.0795 - crps_cost_function: 3.0795 - val_loss: 5.1296 - val_crps_cost_function: 5.1296\n",
      "Epoch 356/400\n",
      "176948/176948 [==============================] - 0s - loss: 3.0728 - crps_cost_function: 3.0728 - val_loss: 5.1174 - val_crps_cost_function: 5.1174\n",
      "Epoch 357/400\n",
      "176948/176948 [==============================] - 0s - loss: 3.0661 - crps_cost_function: 3.0661 - val_loss: 5.1052 - val_crps_cost_function: 5.1052\n",
      "Epoch 358/400\n",
      "176948/176948 [==============================] - 0s - loss: 3.0594 - crps_cost_function: 3.0594 - val_loss: 5.0931 - val_crps_cost_function: 5.0931\n",
      "Epoch 359/400\n",
      "176948/176948 [==============================] - 0s - loss: 3.0528 - crps_cost_function: 3.0528 - val_loss: 5.0811 - val_crps_cost_function: 5.0811\n",
      "Epoch 360/400\n",
      "176948/176948 [==============================] - 0s - loss: 3.0462 - crps_cost_function: 3.0462 - val_loss: 5.0691 - val_crps_cost_function: 5.0691\n",
      "Epoch 361/400\n",
      "176948/176948 [==============================] - 0s - loss: 3.0396 - crps_cost_function: 3.0396 - val_loss: 5.0572 - val_crps_cost_function: 5.0572\n",
      "Epoch 362/400\n",
      "176948/176948 [==============================] - 0s - loss: 3.0331 - crps_cost_function: 3.0331 - val_loss: 5.0453 - val_crps_cost_function: 5.0453\n",
      "Epoch 363/400\n",
      "176948/176948 [==============================] - 0s - loss: 3.0266 - crps_cost_function: 3.0266 - val_loss: 5.0335 - val_crps_cost_function: 5.0335\n",
      "Epoch 364/400\n",
      "176948/176948 [==============================] - 0s - loss: 3.0201 - crps_cost_function: 3.0201 - val_loss: 5.0217 - val_crps_cost_function: 5.0217\n",
      "Epoch 365/400\n",
      "176948/176948 [==============================] - 0s - loss: 3.0137 - crps_cost_function: 3.0137 - val_loss: 5.0100 - val_crps_cost_function: 5.0100\n",
      "Epoch 366/400\n",
      "176948/176948 [==============================] - 0s - loss: 3.0073 - crps_cost_function: 3.0073 - val_loss: 4.9984 - val_crps_cost_function: 4.9984\n",
      "Epoch 367/400\n",
      "176948/176948 [==============================] - 0s - loss: 3.0009 - crps_cost_function: 3.0009 - val_loss: 4.9868 - val_crps_cost_function: 4.9868\n",
      "Epoch 368/400\n",
      "176948/176948 [==============================] - 0s - loss: 2.9946 - crps_cost_function: 2.9946 - val_loss: 4.9752 - val_crps_cost_function: 4.9752\n",
      "Epoch 369/400\n",
      "176948/176948 [==============================] - 0s - loss: 2.9883 - crps_cost_function: 2.9883 - val_loss: 4.9637 - val_crps_cost_function: 4.9637\n",
      "Epoch 370/400\n",
      "176948/176948 [==============================] - 0s - loss: 2.9820 - crps_cost_function: 2.9820 - val_loss: 4.9523 - val_crps_cost_function: 4.9523\n",
      "Epoch 371/400\n",
      "176948/176948 [==============================] - 0s - loss: 2.9757 - crps_cost_function: 2.9757 - val_loss: 4.9409 - val_crps_cost_function: 4.9409\n",
      "Epoch 372/400\n",
      "176948/176948 [==============================] - 0s - loss: 2.9695 - crps_cost_function: 2.9695 - val_loss: 4.9295 - val_crps_cost_function: 4.9295\n",
      "Epoch 373/400\n",
      "176948/176948 [==============================] - 0s - loss: 2.9633 - crps_cost_function: 2.9633 - val_loss: 4.9182 - val_crps_cost_function: 4.9182\n",
      "Epoch 374/400\n",
      "176948/176948 [==============================] - 0s - loss: 2.9571 - crps_cost_function: 2.9571 - val_loss: 4.9070 - val_crps_cost_function: 4.9070\n",
      "Epoch 375/400\n",
      "176948/176948 [==============================] - 0s - loss: 2.9510 - crps_cost_function: 2.9510 - val_loss: 4.8958 - val_crps_cost_function: 4.8958\n",
      "Epoch 376/400\n",
      "176948/176948 [==============================] - 0s - loss: 2.9449 - crps_cost_function: 2.9449 - val_loss: 4.8846 - val_crps_cost_function: 4.8846\n",
      "Epoch 377/400\n",
      "176948/176948 [==============================] - 0s - loss: 2.9388 - crps_cost_function: 2.9388 - val_loss: 4.8735 - val_crps_cost_function: 4.8735\n",
      "Epoch 378/400\n",
      "176948/176948 [==============================] - 0s - loss: 2.9327 - crps_cost_function: 2.9327 - val_loss: 4.8624 - val_crps_cost_function: 4.8624\n",
      "Epoch 379/400\n",
      "176948/176948 [==============================] - 0s - loss: 2.9267 - crps_cost_function: 2.9267 - val_loss: 4.8514 - val_crps_cost_function: 4.8514\n",
      "Epoch 380/400\n",
      "176948/176948 [==============================] - 0s - loss: 2.9207 - crps_cost_function: 2.9207 - val_loss: 4.8405 - val_crps_cost_function: 4.8405\n",
      "Epoch 381/400\n",
      "176948/176948 [==============================] - 0s - loss: 2.9147 - crps_cost_function: 2.9147 - val_loss: 4.8295 - val_crps_cost_function: 4.8295\n",
      "Epoch 382/400\n",
      "176948/176948 [==============================] - 0s - loss: 2.9087 - crps_cost_function: 2.9087 - val_loss: 4.8187 - val_crps_cost_function: 4.8187\n",
      "Epoch 383/400\n",
      "176948/176948 [==============================] - 0s - loss: 2.9028 - crps_cost_function: 2.9028 - val_loss: 4.8078 - val_crps_cost_function: 4.8078\n",
      "Epoch 384/400\n",
      "176948/176948 [==============================] - 0s - loss: 2.8969 - crps_cost_function: 2.8969 - val_loss: 4.7971 - val_crps_cost_function: 4.7971\n",
      "Epoch 385/400\n",
      "176948/176948 [==============================] - 0s - loss: 2.8911 - crps_cost_function: 2.8911 - val_loss: 4.7863 - val_crps_cost_function: 4.7863\n",
      "Epoch 386/400\n",
      "176948/176948 [==============================] - 0s - loss: 2.8852 - crps_cost_function: 2.8852 - val_loss: 4.7756 - val_crps_cost_function: 4.7756\n",
      "Epoch 387/400\n",
      "176948/176948 [==============================] - 0s - loss: 2.8794 - crps_cost_function: 2.8794 - val_loss: 4.7650 - val_crps_cost_function: 4.7650\n",
      "Epoch 388/400\n",
      "176948/176948 [==============================] - 0s - loss: 2.8736 - crps_cost_function: 2.8736 - val_loss: 4.7544 - val_crps_cost_function: 4.7544\n",
      "Epoch 389/400\n",
      "176948/176948 [==============================] - 0s - loss: 2.8678 - crps_cost_function: 2.8678 - val_loss: 4.7438 - val_crps_cost_function: 4.7438\n",
      "Epoch 390/400\n",
      "176948/176948 [==============================] - 0s - loss: 2.8621 - crps_cost_function: 2.8621 - val_loss: 4.7333 - val_crps_cost_function: 4.7333\n",
      "Epoch 391/400\n",
      "176948/176948 [==============================] - 0s - loss: 2.8564 - crps_cost_function: 2.8564 - val_loss: 4.7228 - val_crps_cost_function: 4.7228\n",
      "Epoch 392/400\n",
      "176948/176948 [==============================] - 0s - loss: 2.8507 - crps_cost_function: 2.8507 - val_loss: 4.7124 - val_crps_cost_function: 4.7124\n",
      "Epoch 393/400\n",
      "176948/176948 [==============================] - 0s - loss: 2.8450 - crps_cost_function: 2.8450 - val_loss: 4.7020 - val_crps_cost_function: 4.7020\n",
      "Epoch 394/400\n",
      "176948/176948 [==============================] - 0s - loss: 2.8394 - crps_cost_function: 2.8394 - val_loss: 4.6917 - val_crps_cost_function: 4.6917\n",
      "Epoch 395/400\n",
      "176948/176948 [==============================] - 0s - loss: 2.8338 - crps_cost_function: 2.8338 - val_loss: 4.6814 - val_crps_cost_function: 4.6814\n",
      "Epoch 396/400\n",
      "176948/176948 [==============================] - 0s - loss: 2.8282 - crps_cost_function: 2.8282 - val_loss: 4.6711 - val_crps_cost_function: 4.6711\n",
      "Epoch 397/400\n",
      "176948/176948 [==============================] - 0s - loss: 2.8226 - crps_cost_function: 2.8226 - val_loss: 4.6609 - val_crps_cost_function: 4.6609\n",
      "Epoch 398/400\n",
      "176948/176948 [==============================] - 0s - loss: 2.8171 - crps_cost_function: 2.8171 - val_loss: 4.6507 - val_crps_cost_function: 4.6507\n",
      "Epoch 399/400\n",
      "176948/176948 [==============================] - 0s - loss: 2.8115 - crps_cost_function: 2.8115 - val_loss: 4.6406 - val_crps_cost_function: 4.6406\n",
      "Epoch 400/400\n",
      "176948/176948 [==============================] - 0s - loss: 2.8060 - crps_cost_function: 2.8060 - val_loss: 4.6305 - val_crps_cost_function: 4.6305\n"
     ]
    }
   ],
   "source": [
    "h = fc_model.fit(in_train, tobs_train, epochs=400, batch_size=batch_size,\n",
    "          validation_data=[in_test, tobs_test], verbose=1,\n",
    "          callbacks=[EarlyStopping(monitor='loss', min_delta=early_stopping_delta,\n",
    "                                  patience=2)])"
   ]
  },
  {
   "cell_type": "code",
   "execution_count": 309,
   "metadata": {},
   "outputs": [
    {
     "name": "stdout",
     "output_type": "stream",
     "text": [
      "159680/176948 [==========================>...] - ETA: 0s"
     ]
    },
    {
     "data": {
      "text/plain": [
       "[nan, nan]"
      ]
     },
     "execution_count": 309,
     "metadata": {},
     "output_type": "execute_result"
    }
   ],
   "source": [
    "fc_model.evaluate(in_train, tobs_train, batch_size=64)"
   ]
  },
  {
   "cell_type": "code",
   "execution_count": 310,
   "metadata": {},
   "outputs": [
    {
     "name": "stdout",
     "output_type": "stream",
     "text": [
      "\r",
      " 64/495 [==>...........................] - ETA: 0s"
     ]
    },
    {
     "data": {
      "text/plain": [
       "[nan, nan]"
      ]
     },
     "execution_count": 310,
     "metadata": {},
     "output_type": "execute_result"
    }
   ],
   "source": [
    "fc_model.evaluate(in_test, tobs_test, batch_size=64)"
   ]
  },
  {
   "cell_type": "code",
   "execution_count": 333,
   "metadata": {},
   "outputs": [
    {
     "data": {
      "text/plain": [
       "[array([[ 2.85753322, -3.69811082],\n",
       "        [-0.41836253, -0.72421235]], dtype=float32),\n",
       " array([ 3.77459455, -3.75732446], dtype=float32)]"
      ]
     },
     "execution_count": 333,
     "metadata": {},
     "output_type": "execute_result"
    }
   ],
   "source": [
    "fc_model.layers[-1].get_weights()"
   ]
  },
  {
   "cell_type": "markdown",
   "metadata": {},
   "source": [
    "### Train for the entire period"
   ]
  },
  {
   "cell_type": "code",
   "execution_count": null,
   "metadata": {
    "collapsed": true
   },
   "outputs": [],
   "source": [
    "fc_model = build_fc_model()\n",
    "opt = SGD(lr=0.1)  \n",
    "fc_model.compile(optimizer=opt, loss=crps_cost_function, \n",
    "                 metrics=[crps_cost_function])"
   ]
  },
  {
   "cell_type": "code",
   "execution_count": null,
   "metadata": {
    "collapsed": true
   },
   "outputs": [],
   "source": [
    "train_crps_list, valid_crps_list = loop_over_days(\n",
    "    fc_model,\n",
    "    tobs_full, \n",
    "    tfc_full, \n",
    "    date_idx_start, date_idx_stop, \n",
    "    window_size=window_size,\n",
    "    fclt=fclt,     \n",
    "    epochs_max=steps_max, \n",
    "    early_stopping_delta=early_stopping_delta, \n",
    "    lr=lr,\n",
    "    model_type='fc_model',\n",
    "    verbose=0)"
   ]
  },
  {
   "cell_type": "code",
   "execution_count": null,
   "metadata": {
    "collapsed": true
   },
   "outputs": [],
   "source": [
    "np.mean(valid_crps_list)"
   ]
  }
 ],
 "metadata": {
  "kernelspec": {
   "display_name": "Python 3",
   "language": "python",
   "name": "python3"
  },
  "language_info": {
   "codemirror_mode": {
    "name": "ipython",
    "version": 3
   },
   "file_extension": ".py",
   "mimetype": "text/x-python",
   "name": "python",
   "nbconvert_exporter": "python",
   "pygments_lexer": "ipython3",
   "version": "3.6.2"
  },
  "toc": {
   "nav_menu": {},
   "number_sections": true,
   "sideBar": true,
   "skip_h1_title": true,
   "toc_cell": true,
   "toc_position": {},
   "toc_section_display": "block",
   "toc_window_display": false
  }
 },
 "nbformat": 4,
 "nbformat_minor": 2
}
