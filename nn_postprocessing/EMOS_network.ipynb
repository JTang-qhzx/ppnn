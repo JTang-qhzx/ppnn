{
 "cells": [
  {
   "cell_type": "markdown",
   "metadata": {
    "toc": "true"
   },
   "source": [
    " # Table of Contents\n",
    "<div class=\"toc\" style=\"margin-top: 1em;\"><ul class=\"toc-item\" id=\"toc-level0\"><li><span><a href=\"http://localhost:8888/notebooks/EMOS_network.ipynb#Theano-Implementation\" data-toc-modified-id=\"Theano-Implementation-1\"><span class=\"toc-item-num\">1&nbsp;&nbsp;</span>Theano Implementation</a></span><ul class=\"toc-item\"><li><span><a href=\"http://localhost:8888/notebooks/EMOS_network.ipynb#Train-for-a-single-day\" data-toc-modified-id=\"Train-for-a-single-day-1.1\"><span class=\"toc-item-num\">1.1&nbsp;&nbsp;</span>Train for a single day</a></span></li><li><span><a href=\"http://localhost:8888/notebooks/EMOS_network.ipynb#Train-for-full-period\" data-toc-modified-id=\"Train-for-full-period-1.2\"><span class=\"toc-item-num\">1.2&nbsp;&nbsp;</span>Train for full period</a></span></li></ul></li><li><span><a href=\"http://localhost:8888/notebooks/EMOS_network.ipynb#Keras-implementation\" data-toc-modified-id=\"Keras-implementation-2\"><span class=\"toc-item-num\">2&nbsp;&nbsp;</span>Keras implementation</a></span><ul class=\"toc-item\"><li><span><a href=\"http://localhost:8888/notebooks/EMOS_network.ipynb#Predict-for-one-day\" data-toc-modified-id=\"Predict-for-one-day-2.1\"><span class=\"toc-item-num\">2.1&nbsp;&nbsp;</span>Predict for one day</a></span></li><li><span><a href=\"http://localhost:8888/notebooks/EMOS_network.ipynb#Predict-for-the-whole-period\" data-toc-modified-id=\"Predict-for-the-whole-period-2.2\"><span class=\"toc-item-num\">2.2&nbsp;&nbsp;</span>Predict for the whole period</a></span></li></ul></li></ul></div>"
   ]
  },
  {
   "cell_type": "markdown",
   "metadata": {},
   "source": [
    "# EMOS Network"
   ]
  },
  {
   "cell_type": "code",
   "execution_count": 264,
   "metadata": {},
   "outputs": [],
   "source": [
    "# Imports\n",
    "from importlib import reload\n",
    "import emos_network_theano; reload(emos_network_theano)\n",
    "from  emos_network_theano import EMOS_Network, crps_cost_function\n",
    "import utils; reload(utils)\n",
    "from utils import *\n",
    "from datetime import datetime\n",
    "%matplotlib inline\n",
    "import matplotlib.pyplot as plt"
   ]
  },
  {
   "cell_type": "code",
   "execution_count": 152,
   "metadata": {
    "collapsed": true
   },
   "outputs": [],
   "source": [
    "# Basic setup\n",
    "DATA_DIR = '/Users/stephanrasp/repositories/ppnn/data/'  # Mac\n",
    "fn = 'data_interpolated.nc'\n",
    "window_size = 25\n",
    "fclt = 48\n",
    "utc = 0"
   ]
  },
  {
   "cell_type": "markdown",
   "metadata": {},
   "source": [
    "## Theano Implementation"
   ]
  },
  {
   "cell_type": "markdown",
   "metadata": {},
   "source": [
    "### Train for a single day"
   ]
  },
  {
   "cell_type": "code",
   "execution_count": 149,
   "metadata": {
    "collapsed": true
   },
   "outputs": [],
   "source": [
    "# Get the full dataset for 00UTC\n",
    "tobs_full, tfc_full, dates = load_nc_data(DATA_DIR + fn, utc=utc)"
   ]
  },
  {
   "cell_type": "code",
   "execution_count": 224,
   "metadata": {},
   "outputs": [
    {
     "data": {
      "text/plain": [
       "3071"
      ]
     },
     "execution_count": 224,
     "metadata": {},
     "output_type": "execute_result"
    }
   ],
   "source": [
    "# Just pick a day\n",
    "date_idx = np.where(dates == datetime(2015, 6, 1, 0, 0))[0][0]\n",
    "date_idx"
   ]
  },
  {
   "cell_type": "code",
   "execution_count": 225,
   "metadata": {
    "collapsed": true
   },
   "outputs": [],
   "source": [
    "# Get the data slice for this particular date\n",
    "tfc_mean_train, tfc_std_train, tobs_train, \\\n",
    "    tfc_mean_test, tfc_std_test, tobs_test = \\\n",
    "        get_train_test_data(tobs_full, tfc_full, date_idx, \n",
    "                            window_size, fclt)"
   ]
  },
  {
   "cell_type": "code",
   "execution_count": 226,
   "metadata": {},
   "outputs": [],
   "source": [
    "# Define some model parameters\n",
    "lr = np.asarray(0.1, dtype='float32')   # The learning rate\n",
    "early_stopping_delta = 1e-4   # How much the CRPS must improve before stopping\n",
    "steps_max = 1000   # How many steps to fit at max"
   ]
  },
  {
   "cell_type": "code",
   "execution_count": 243,
   "metadata": {},
   "outputs": [],
   "source": [
    "# Set up the theano model\n",
    "model_theano = EMOS_Network()"
   ]
  },
  {
   "cell_type": "code",
   "execution_count": 244,
   "metadata": {},
   "outputs": [
    {
     "data": {
      "text/plain": [
       "(array(1.1621002564583596), array(0.9137559142044587))"
      ]
     },
     "execution_count": 244,
     "metadata": {},
     "output_type": "execute_result"
    }
   ],
   "source": [
    "# Train the model for some steps\n",
    "model_theano.fit(tfc_mean_train, tfc_std_train, tobs_train, steps_max, \n",
    "          (tfc_mean_test, tfc_std_test, tobs_test), lr=lr, \n",
    "          early_stopping_delta=early_stopping_delta)\n",
    "# Output is the training CRPS and the test CRPS"
   ]
  },
  {
   "cell_type": "markdown",
   "metadata": {},
   "source": [
    "### Train for full period"
   ]
  },
  {
   "cell_type": "code",
   "execution_count": 180,
   "metadata": {},
   "outputs": [
    {
     "data": {
      "text/plain": [
       "(363, 3650)"
      ]
     },
     "execution_count": 180,
     "metadata": {},
     "output_type": "execute_result"
    }
   ],
   "source": [
    "# Get start and stop indices\n",
    "date_idx_start = np.where(dates == datetime(2008, 1, 1, 0, 0))[0][0]\n",
    "date_idx_stop = np.where(dates == datetime(2016, 12, 31, 0, 0))[0][0]\n",
    "date_idx_start, date_idx_stop"
   ]
  },
  {
   "cell_type": "code",
   "execution_count": 181,
   "metadata": {
    "collapsed": true
   },
   "outputs": [],
   "source": [
    "model_theano = EMOS_Network()"
   ]
  },
  {
   "cell_type": "code",
   "execution_count": 182,
   "metadata": {
    "collapsed": true
   },
   "outputs": [
    {
     "name": "stdout",
     "output_type": "stream",
     "text": [
      "400\n",
      "500\n",
      "600\n",
      "700\n",
      "800\n",
      "900\n",
      "1000\n",
      "1100\n",
      "1200\n",
      "1300\n",
      "1400\n",
      "1500\n",
      "1600\n",
      "1700\n",
      "1800\n",
      "1900\n",
      "2000\n",
      "2100\n",
      "2200\n",
      "2300\n",
      "2400\n",
      "2500\n",
      "2600\n",
      "2700\n",
      "2800\n",
      "2900\n",
      "3000\n",
      "3100\n",
      "3200\n",
      "3300\n",
      "3400\n",
      "3500\n",
      "3600\n",
      "Time: 207.37 s\n"
     ]
    }
   ],
   "source": [
    "train_crps_list, valid_crps_list = loop_over_days(\n",
    "    model_theano,\n",
    "    tobs_full, \n",
    "    tfc_full, \n",
    "    date_idx_start, date_idx_stop, \n",
    "    window_size=window_size,\n",
    "    fclt=fclt,     \n",
    "    epochs_max=steps_max, \n",
    "    early_stopping_delta=early_stopping_delta, \n",
    "    lr=lr,\n",
    "    model_type='EMOS_Network_theano')"
   ]
  },
  {
   "cell_type": "code",
   "execution_count": 183,
   "metadata": {},
   "outputs": [
    {
     "data": {
      "text/plain": [
       "1.0558042002237267"
      ]
     },
     "execution_count": 183,
     "metadata": {},
     "output_type": "execute_result"
    }
   ],
   "source": [
    "# Let's see what the mean prediction CRPS is\n",
    "np.mean(valid_crps_list)"
   ]
  },
  {
   "cell_type": "markdown",
   "metadata": {},
   "source": [
    "The standard EMOS global score (in `standard_postprocessing/emos_global.R`) is 1.0654. So we are doing a little better even, but this might just be chance."
   ]
  },
  {
   "cell_type": "markdown",
   "metadata": {},
   "source": [
    "## Keras implementation\n",
    "\n",
    "First, let's build the same model in Keras."
   ]
  },
  {
   "cell_type": "code",
   "execution_count": 200,
   "metadata": {},
   "outputs": [],
   "source": [
    "# import the keras modules\n",
    "# Note that the cost function only works with the theano backend\n",
    "import keras\n",
    "from keras.layers import Input, Dense\n",
    "from keras.models import Model\n",
    "import keras.backend as K\n",
    "from keras.callbacks import EarlyStopping\n",
    "from keras.optimizers import SGD"
   ]
  },
  {
   "cell_type": "code",
   "execution_count": 187,
   "metadata": {},
   "outputs": [],
   "source": [
    "# Let's build the model with Keras' functional API\n",
    "# This is quite a bit easier and shorter than in theano \n",
    "# But it did take me some time to figure out the cost function, etc.\n",
    "def build_EMOS_Network_keras():\n",
    "    mean_in = Input(shape=(1,))\n",
    "    std_in = Input(shape=(1,))\n",
    "    mean_out = Dense(1, activation='linear')(mean_in)\n",
    "    std_out = Dense(1, activation='linear')(std_in)\n",
    "    x = keras.layers.concatenate([mean_out, std_out], axis=1)\n",
    "    return Model(inputs=[mean_in, std_in], outputs=x)"
   ]
  },
  {
   "cell_type": "code",
   "execution_count": 245,
   "metadata": {},
   "outputs": [],
   "source": [
    "model_keras = build_EMOS_Network_keras()"
   ]
  },
  {
   "cell_type": "code",
   "execution_count": 246,
   "metadata": {},
   "outputs": [
    {
     "name": "stdout",
     "output_type": "stream",
     "text": [
      "____________________________________________________________________________________________________\n",
      "Layer (type)                     Output Shape          Param #     Connected to                     \n",
      "====================================================================================================\n",
      "input_41 (InputLayer)            (None, 1)             0                                            \n",
      "____________________________________________________________________________________________________\n",
      "input_42 (InputLayer)            (None, 1)             0                                            \n",
      "____________________________________________________________________________________________________\n",
      "dense_41 (Dense)                 (None, 1)             2           input_41[0][0]                   \n",
      "____________________________________________________________________________________________________\n",
      "dense_42 (Dense)                 (None, 1)             2           input_42[0][0]                   \n",
      "____________________________________________________________________________________________________\n",
      "concatenate_15 (Concatenate)     (None, 2)             0           dense_41[0][0]                   \n",
      "                                                                   dense_42[0][0]                   \n",
      "====================================================================================================\n",
      "Total params: 4\n",
      "Trainable params: 4\n",
      "Non-trainable params: 0\n",
      "____________________________________________________________________________________________________\n"
     ]
    }
   ],
   "source": [
    "model_keras.summary()"
   ]
  },
  {
   "cell_type": "code",
   "execution_count": 247,
   "metadata": {
    "collapsed": true
   },
   "outputs": [],
   "source": [
    "# Compile the model with SGD initilalizer\n",
    "opt = SGD(lr=0.1)  \n",
    "model_keras.compile(optimizer=opt, loss=crps_cost_function, \n",
    "              metrics=[crps_cost_function])"
   ]
  },
  {
   "cell_type": "markdown",
   "metadata": {},
   "source": [
    "### Predict for one day"
   ]
  },
  {
   "cell_type": "code",
   "execution_count": 248,
   "metadata": {
    "collapsed": true
   },
   "outputs": [],
   "source": [
    "# This way we have the gradient descent on the whole training set just as in theano\n",
    "batch_size = tfc_mean_train.shape[0]   "
   ]
  },
  {
   "cell_type": "code",
   "execution_count": 249,
   "metadata": {},
   "outputs": [],
   "source": [
    "h = model_keras.fit([tfc_mean_train, tfc_std_train], tobs_train, epochs=steps_max, batch_size=batch_size,\n",
    "          validation_data=[[tfc_mean_test, tfc_std_test], tobs_test], verbose=0,\n",
    "          callbacks=[EarlyStopping(monitor='loss', min_delta=early_stopping_delta,\n",
    "                                  patience=2)])"
   ]
  },
  {
   "cell_type": "code",
   "execution_count": 250,
   "metadata": {},
   "outputs": [
    {
     "name": "stdout",
     "output_type": "stream",
     "text": [
      "\r",
      "   64/12343 [..............................] - ETA: 0s"
     ]
    },
    {
     "data": {
      "text/plain": [
       "[1.2517586752240233, 1.2517586752240233]"
      ]
     },
     "execution_count": 250,
     "metadata": {},
     "output_type": "execute_result"
    }
   ],
   "source": [
    "model_keras.evaluate([tfc_mean_train, tfc_std_train], tobs_train, batch_size=64)"
   ]
  },
  {
   "cell_type": "code",
   "execution_count": 251,
   "metadata": {},
   "outputs": [
    {
     "name": "stdout",
     "output_type": "stream",
     "text": [
      "\r",
      " 64/495 [==>...........................] - ETA: 0s"
     ]
    },
    {
     "data": {
      "text/plain": [
       "[1.0580770378143314, 1.0580770378143314]"
      ]
     },
     "execution_count": 251,
     "metadata": {},
     "output_type": "execute_result"
    }
   ],
   "source": [
    "model_keras.evaluate([tfc_mean_test, tfc_std_test], tobs_test, batch_size=64)"
   ]
  },
  {
   "cell_type": "markdown",
   "metadata": {},
   "source": [
    "Se we get slightly better results than with the theano model above. This might be due to the differences in the early stopping algorithm."
   ]
  },
  {
   "cell_type": "code",
   "execution_count": 252,
   "metadata": {},
   "outputs": [
    {
     "data": {
      "text/plain": [
       "1000"
      ]
     },
     "execution_count": 252,
     "metadata": {},
     "output_type": "execute_result"
    }
   ],
   "source": [
    "len(h.history['loss'])"
   ]
  },
  {
   "cell_type": "code",
   "execution_count": 253,
   "metadata": {},
   "outputs": [],
   "source": [
    "# But I did notice something interesting looking at the history\n",
    "valid_loss = h.history['val_loss']\n",
    "train_loss = h.history['loss']"
   ]
  },
  {
   "cell_type": "code",
   "execution_count": 261,
   "metadata": {},
   "outputs": [
    {
     "data": {
      "image/png": "[encoded data removed]",
      "text/plain": [
       "<matplotlib.figure.Figure at 0x11ee0a128>"
      ]
     },
     "metadata": {},
     "output_type": "display_data"
    }
   ],
   "source": [
    "plt.plot(valid_loss, label='valid_loss')\n",
    "plt.plot(train_loss, label='train_loss')\n",
    "plt.legend()\n",
    "plt.ylim(0, 2)\n",
    "plt.show()"
   ]
  },
  {
   "cell_type": "markdown",
   "metadata": {},
   "source": [
    "So this means we are overfitting a little. How could we avoid this. Let's pick a much longer training window."
   ]
  },
  {
   "cell_type": "code",
   "execution_count": 255,
   "metadata": {},
   "outputs": [],
   "source": [
    "# One year\n",
    "tfc_mean_train, tfc_std_train, tobs_train, \\\n",
    "    tfc_mean_test, tfc_std_test, tobs_test = \\\n",
    "        get_train_test_data(tobs_full, tfc_full, date_idx, \n",
    "                            356, fclt)"
   ]
  },
  {
   "cell_type": "code",
   "execution_count": 256,
   "metadata": {
    "collapsed": true
   },
   "outputs": [],
   "source": [
    "batch_size = tfc_mean_train.shape[0]  "
   ]
  },
  {
   "cell_type": "code",
   "execution_count": 257,
   "metadata": {
    "collapsed": true
   },
   "outputs": [],
   "source": [
    "model = build_EMOS_Network_keras()\n",
    "opt = SGD(lr=0.1)  \n",
    "model.compile(optimizer=opt, loss=crps_cost_function, \n",
    "              metrics=[crps_cost_function])"
   ]
  },
  {
   "cell_type": "code",
   "execution_count": 258,
   "metadata": {
    "collapsed": true
   },
   "outputs": [],
   "source": [
    "h = model.fit([tfc_mean_train, tfc_std_train], tobs_train, epochs=steps_max, batch_size=batch_size,\n",
    "          validation_data=[[tfc_mean_test, tfc_std_test], tobs_test], verbose=0,\n",
    "          callbacks=[EarlyStopping(monitor='loss', min_delta=early_stopping_delta,\n",
    "                                  patience=2)])"
   ]
  },
  {
   "cell_type": "code",
   "execution_count": 259,
   "metadata": {},
   "outputs": [
    {
     "name": "stdout",
     "output_type": "stream",
     "text": [
      "\r",
      " 64/495 [==>...........................] - ETA: 0s"
     ]
    },
    {
     "data": {
      "text/plain": [
       "[1.0561385891911841, 1.0561385891911841]"
      ]
     },
     "execution_count": 259,
     "metadata": {},
     "output_type": "execute_result"
    }
   ],
   "source": [
    "model.evaluate([tfc_mean_test, tfc_std_test], tobs_test, batch_size=64)"
   ]
  },
  {
   "cell_type": "markdown",
   "metadata": {},
   "source": [
    "Doesn't seem to change much. Which means that either we have compensating errors or the seasonal information doesn't mean much. Here are some ideas:\n",
    "- Create an actual validation data set from the training data and use it for early stopping"
   ]
  },
  {
   "cell_type": "code",
   "execution_count": null,
   "metadata": {
    "collapsed": true
   },
   "outputs": [],
   "source": []
  },
  {
   "cell_type": "markdown",
   "metadata": {},
   "source": [
    "### Predict for the whole period"
   ]
  },
  {
   "cell_type": "code",
   "execution_count": 265,
   "metadata": {
    "collapsed": true
   },
   "outputs": [],
   "source": [
    "model_keras = build_EMOS_Network_keras()\n",
    "opt = SGD(lr=0.1)  \n",
    "model_keras.compile(optimizer=opt, loss=crps_cost_function, \n",
    "              metrics=[crps_cost_function])"
   ]
  },
  {
   "cell_type": "code",
   "execution_count": 266,
   "metadata": {},
   "outputs": [
    {
     "name": "stdout",
     "output_type": "stream",
     "text": [
      "400\n",
      "500\n",
      "600\n",
      "700\n",
      "800\n",
      "900\n",
      "1000\n",
      "1100\n",
      "1200\n",
      "1300\n",
      "1400\n",
      "1500\n",
      "1600\n",
      "1700\n",
      "1800\n",
      "1900\n",
      "2000\n",
      "2100\n",
      "2200\n",
      "2300\n",
      "2400\n",
      "2500\n",
      "2600\n",
      "2700\n",
      "2800\n",
      "2900\n",
      "3000\n",
      "3100\n",
      "3200\n",
      "3300\n",
      "3400\n",
      "3500\n",
      "3600\n",
      "Time: 291.84 s\n"
     ]
    }
   ],
   "source": [
    "train_crps_list, valid_crps_list = loop_over_days(\n",
    "    model_keras,\n",
    "    tobs_full, \n",
    "    tfc_full, \n",
    "    date_idx_start, date_idx_stop, \n",
    "    window_size=window_size,\n",
    "    fclt=fclt,     \n",
    "    epochs_max=steps_max, \n",
    "    early_stopping_delta=early_stopping_delta, \n",
    "    lr=lr,\n",
    "    model_type='EMOS_Network_keras')"
   ]
  },
  {
   "cell_type": "markdown",
   "metadata": {},
   "source": [
    "So the keras implementation is quite a bit slower than the pure theano version. Maybe this is due to the overhead with calling fit many many times. Which one to keep??"
   ]
  },
  {
   "cell_type": "code",
   "execution_count": 269,
   "metadata": {},
   "outputs": [
    {
     "data": {
      "text/plain": [
       "[[1.0596537571248619, 1.0596537571248619],\n",
       " [1.0665201209369861, 1.0665201209369861],\n",
       " [1.0615908925508049, 1.0615908925508049],\n",
       " [1.0743945832622437, 1.0743945832622437],\n",
       " [1.0879961302893177, 1.0879961302893177],\n",
       " [nan, nan],\n",
       " [nan, nan],\n",
       " [nan, nan],\n",
       " [nan, nan],\n",
       " [nan, nan],\n",
       " [nan, nan],\n",
       " [nan, nan],\n",
       " [nan, nan],\n",
       " [nan, nan],\n",
       " [nan, nan],\n",
       " [nan, nan],\n",
       " [nan, nan],\n",
       " [nan, nan],\n",
       " [nan, nan],\n",
       " [nan, nan],\n",
       " [nan, nan],\n",
       " [nan, nan],\n",
       " [nan, nan],\n",
       " [nan, nan],\n",
       " [nan, nan],\n",
       " [nan, nan],\n",
       " [nan, nan],\n",
       " [nan, nan],\n",
       " [nan, nan],\n",
       " [nan, nan],\n",
       " [nan, nan],\n",
       " [nan, nan],\n",
       " [nan, nan],\n",
       " [nan, nan],\n",
       " [nan, nan],\n",
       " [nan, nan],\n",
       " [nan, nan],\n",
       " [nan, nan],\n",
       " [nan, nan],\n",
       " [nan, nan],\n",
       " [nan, nan],\n",
       " [nan, nan],\n",
       " [nan, nan],\n",
       " [nan, nan],\n",
       " [nan, nan],\n",
       " [nan, nan],\n",
       " [nan, nan],\n",
       " [nan, nan],\n",
       " [nan, nan],\n",
       " [nan, nan],\n",
       " [nan, nan],\n",
       " [nan, nan],\n",
       " [nan, nan],\n",
       " [nan, nan],\n",
       " [nan, nan],\n",
       " [nan, nan],\n",
       " [nan, nan],\n",
       " [nan, nan],\n",
       " [nan, nan],\n",
       " [nan, nan],\n",
       " [nan, nan],\n",
       " [nan, nan],\n",
       " [nan, nan],\n",
       " [nan, nan],\n",
       " [nan, nan],\n",
       " [nan, nan],\n",
       " [nan, nan],\n",
       " [nan, nan],\n",
       " [nan, nan],\n",
       " [nan, nan],\n",
       " [nan, nan],\n",
       " [nan, nan],\n",
       " [nan, nan],\n",
       " [nan, nan],\n",
       " [nan, nan],\n",
       " [nan, nan],\n",
       " [nan, nan],\n",
       " [nan, nan],\n",
       " [nan, nan],\n",
       " [nan, nan],\n",
       " [nan, nan],\n",
       " [nan, nan],\n",
       " [nan, nan],\n",
       " [nan, nan],\n",
       " [nan, nan],\n",
       " [nan, nan],\n",
       " [nan, nan],\n",
       " [nan, nan],\n",
       " [nan, nan],\n",
       " [nan, nan],\n",
       " [nan, nan],\n",
       " [nan, nan],\n",
       " [nan, nan],\n",
       " [nan, nan],\n",
       " [nan, nan],\n",
       " [nan, nan],\n",
       " [nan, nan],\n",
       " [nan, nan],\n",
       " [nan, nan],\n",
       " [nan, nan],\n",
       " [nan, nan],\n",
       " [nan, nan],\n",
       " [nan, nan],\n",
       " [nan, nan],\n",
       " [nan, nan],\n",
       " [nan, nan],\n",
       " [nan, nan],\n",
       " [nan, nan],\n",
       " [nan, nan],\n",
       " [nan, nan],\n",
       " [nan, nan],\n",
       " [nan, nan],\n",
       " [nan, nan],\n",
       " [nan, nan],\n",
       " [nan, nan],\n",
       " [nan, nan],\n",
       " [nan, nan],\n",
       " [nan, nan],\n",
       " [nan, nan],\n",
       " [nan, nan],\n",
       " [nan, nan],\n",
       " [nan, nan],\n",
       " [nan, nan],\n",
       " [nan, nan],\n",
       " [nan, nan],\n",
       " [nan, nan],\n",
       " [nan, nan],\n",
       " [nan, nan],\n",
       " [nan, nan],\n",
       " [nan, nan],\n",
       " [nan, nan],\n",
       " [nan, nan],\n",
       " [nan, nan],\n",
       " [nan, nan],\n",
       " [nan, nan],\n",
       " [nan, nan],\n",
       " [nan, nan],\n",
       " [nan, nan],\n",
       " [nan, nan],\n",
       " [nan, nan],\n",
       " [nan, nan],\n",
       " [nan, nan],\n",
       " [nan, nan],\n",
       " [nan, nan],\n",
       " [nan, nan],\n",
       " [nan, nan],\n",
       " [nan, nan],\n",
       " [nan, nan],\n",
       " [nan, nan],\n",
       " [nan, nan],\n",
       " [nan, nan],\n",
       " [nan, nan],\n",
       " [nan, nan],\n",
       " [nan, nan],\n",
       " [nan, nan],\n",
       " [nan, nan],\n",
       " [nan, nan],\n",
       " [nan, nan],\n",
       " [nan, nan],\n",
       " [nan, nan],\n",
       " [nan, nan],\n",
       " [nan, nan],\n",
       " [nan, nan],\n",
       " [nan, nan],\n",
       " [nan, nan],\n",
       " [nan, nan],\n",
       " [nan, nan],\n",
       " [nan, nan],\n",
       " [nan, nan],\n",
       " [nan, nan],\n",
       " [nan, nan],\n",
       " [nan, nan],\n",
       " [nan, nan],\n",
       " [nan, nan],\n",
       " [nan, nan],\n",
       " [nan, nan],\n",
       " [nan, nan],\n",
       " [nan, nan],\n",
       " [nan, nan],\n",
       " [nan, nan],\n",
       " [nan, nan],\n",
       " [nan, nan],\n",
       " [nan, nan],\n",
       " [nan, nan],\n",
       " [nan, nan],\n",
       " [nan, nan],\n",
       " [nan, nan],\n",
       " [nan, nan],\n",
       " [nan, nan],\n",
       " [nan, nan],\n",
       " [nan, nan],\n",
       " [nan, nan],\n",
       " [nan, nan],\n",
       " [nan, nan],\n",
       " [nan, nan],\n",
       " [nan, nan],\n",
       " [nan, nan],\n",
       " [nan, nan],\n",
       " [nan, nan],\n",
       " [nan, nan],\n",
       " [nan, nan],\n",
       " [nan, nan],\n",
       " [nan, nan],\n",
       " [nan, nan],\n",
       " [nan, nan],\n",
       " [nan, nan],\n",
       " [nan, nan],\n",
       " [nan, nan],\n",
       " [nan, nan],\n",
       " [nan, nan],\n",
       " [nan, nan],\n",
       " [nan, nan],\n",
       " [nan, nan],\n",
       " [nan, nan],\n",
       " [nan, nan],\n",
       " [nan, nan],\n",
       " [nan, nan],\n",
       " [nan, nan],\n",
       " [nan, nan],\n",
       " [nan, nan],\n",
       " [nan, nan],\n",
       " [nan, nan],\n",
       " [nan, nan],\n",
       " [nan, nan],\n",
       " [nan, nan],\n",
       " [nan, nan],\n",
       " [nan, nan],\n",
       " [nan, nan],\n",
       " [nan, nan],\n",
       " [nan, nan],\n",
       " [nan, nan],\n",
       " [nan, nan],\n",
       " [nan, nan],\n",
       " [nan, nan],\n",
       " [nan, nan],\n",
       " [nan, nan],\n",
       " [nan, nan],\n",
       " [nan, nan],\n",
       " [nan, nan],\n",
       " [nan, nan],\n",
       " [nan, nan],\n",
       " [nan, nan],\n",
       " [nan, nan],\n",
       " [nan, nan],\n",
       " [nan, nan],\n",
       " [nan, nan],\n",
       " [nan, nan],\n",
       " [nan, nan],\n",
       " [nan, nan],\n",
       " [nan, nan],\n",
       " [nan, nan],\n",
       " [nan, nan],\n",
       " [nan, nan],\n",
       " [nan, nan],\n",
       " [nan, nan],\n",
       " [nan, nan],\n",
       " [nan, nan],\n",
       " [nan, nan],\n",
       " [nan, nan],\n",
       " [nan, nan],\n",
       " [nan, nan],\n",
       " [nan, nan],\n",
       " [nan, nan],\n",
       " [nan, nan],\n",
       " [nan, nan],\n",
       " [nan, nan],\n",
       " [nan, nan],\n",
       " [nan, nan],\n",
       " [nan, nan],\n",
       " [nan, nan],\n",
       " [nan, nan],\n",
       " [nan, nan],\n",
       " [nan, nan],\n",
       " [nan, nan],\n",
       " [nan, nan],\n",
       " [nan, nan],\n",
       " [nan, nan],\n",
       " [nan, nan],\n",
       " [nan, nan],\n",
       " [nan, nan],\n",
       " [nan, nan],\n",
       " [nan, nan],\n",
       " [nan, nan],\n",
       " [nan, nan],\n",
       " [nan, nan],\n",
       " [nan, nan],\n",
       " [nan, nan],\n",
       " [nan, nan],\n",
       " [nan, nan],\n",
       " [nan, nan],\n",
       " [nan, nan],\n",
       " [nan, nan],\n",
       " [nan, nan],\n",
       " [nan, nan],\n",
       " [nan, nan],\n",
       " [nan, nan],\n",
       " [nan, nan],\n",
       " [nan, nan],\n",
       " [nan, nan],\n",
       " [nan, nan],\n",
       " [nan, nan],\n",
       " [nan, nan],\n",
       " [nan, nan],\n",
       " [nan, nan],\n",
       " [nan, nan],\n",
       " [nan, nan],\n",
       " [nan, nan],\n",
       " [nan, nan],\n",
       " [nan, nan],\n",
       " [nan, nan],\n",
       " [nan, nan],\n",
       " [nan, nan],\n",
       " [nan, nan],\n",
       " [nan, nan],\n",
       " [nan, nan],\n",
       " [nan, nan],\n",
       " [nan, nan],\n",
       " [nan, nan],\n",
       " [nan, nan],\n",
       " [nan, nan],\n",
       " [nan, nan],\n",
       " [nan, nan],\n",
       " [nan, nan],\n",
       " [nan, nan],\n",
       " [nan, nan],\n",
       " [nan, nan],\n",
       " [nan, nan],\n",
       " [nan, nan],\n",
       " [nan, nan],\n",
       " [nan, nan],\n",
       " [nan, nan],\n",
       " [nan, nan],\n",
       " [nan, nan],\n",
       " [nan, nan],\n",
       " [nan, nan],\n",
       " [nan, nan],\n",
       " [nan, nan],\n",
       " [nan, nan],\n",
       " [nan, nan],\n",
       " [nan, nan],\n",
       " [nan, nan],\n",
       " [nan, nan],\n",
       " [nan, nan],\n",
       " [nan, nan],\n",
       " [nan, nan],\n",
       " [nan, nan],\n",
       " [nan, nan],\n",
       " [nan, nan],\n",
       " [nan, nan],\n",
       " [nan, nan],\n",
       " [nan, nan],\n",
       " [nan, nan],\n",
       " [nan, nan],\n",
       " [nan, nan],\n",
       " [nan, nan],\n",
       " [nan, nan],\n",
       " [nan, nan],\n",
       " [nan, nan],\n",
       " [nan, nan],\n",
       " [nan, nan],\n",
       " [nan, nan],\n",
       " [nan, nan],\n",
       " [nan, nan],\n",
       " [nan, nan],\n",
       " [nan, nan],\n",
       " [nan, nan],\n",
       " [nan, nan],\n",
       " [nan, nan],\n",
       " [nan, nan],\n",
       " [nan, nan],\n",
       " [nan, nan],\n",
       " [nan, nan],\n",
       " [nan, nan],\n",
       " [nan, nan],\n",
       " [nan, nan],\n",
       " [nan, nan],\n",
       " [nan, nan],\n",
       " [nan, nan],\n",
       " [nan, nan],\n",
       " [nan, nan],\n",
       " [nan, nan],\n",
       " [nan, nan],\n",
       " [nan, nan],\n",
       " [nan, nan],\n",
       " [nan, nan],\n",
       " [nan, nan],\n",
       " [nan, nan],\n",
       " [nan, nan],\n",
       " [nan, nan],\n",
       " [nan, nan],\n",
       " [nan, nan],\n",
       " [nan, nan],\n",
       " [nan, nan],\n",
       " [nan, nan],\n",
       " [nan, nan],\n",
       " [nan, nan],\n",
       " [nan, nan],\n",
       " [nan, nan],\n",
       " [nan, nan],\n",
       " [nan, nan],\n",
       " [nan, nan],\n",
       " [nan, nan],\n",
       " [nan, nan],\n",
       " [nan, nan],\n",
       " [nan, nan],\n",
       " [nan, nan],\n",
       " [nan, nan],\n",
       " [nan, nan],\n",
       " [nan, nan],\n",
       " [nan, nan],\n",
       " [nan, nan],\n",
       " [nan, nan],\n",
       " [nan, nan],\n",
       " [nan, nan],\n",
       " [nan, nan],\n",
       " [nan, nan],\n",
       " [nan, nan],\n",
       " [nan, nan],\n",
       " [nan, nan],\n",
       " [nan, nan],\n",
       " [nan, nan],\n",
       " [nan, nan],\n",
       " [nan, nan],\n",
       " [nan, nan],\n",
       " [nan, nan],\n",
       " [nan, nan],\n",
       " [nan, nan],\n",
       " [nan, nan],\n",
       " [nan, nan],\n",
       " [nan, nan],\n",
       " [nan, nan],\n",
       " [nan, nan],\n",
       " [nan, nan],\n",
       " [nan, nan],\n",
       " [nan, nan],\n",
       " [nan, nan],\n",
       " [nan, nan],\n",
       " [nan, nan],\n",
       " [nan, nan],\n",
       " [nan, nan],\n",
       " [nan, nan],\n",
       " [nan, nan],\n",
       " [nan, nan],\n",
       " [nan, nan],\n",
       " [nan, nan],\n",
       " [nan, nan],\n",
       " [nan, nan],\n",
       " [nan, nan],\n",
       " [nan, nan],\n",
       " [nan, nan],\n",
       " [nan, nan],\n",
       " [nan, nan],\n",
       " [nan, nan],\n",
       " [nan, nan],\n",
       " [nan, nan],\n",
       " [nan, nan],\n",
       " [nan, nan],\n",
       " [nan, nan],\n",
       " [nan, nan],\n",
       " [nan, nan],\n",
       " [nan, nan],\n",
       " [nan, nan],\n",
       " [nan, nan],\n",
       " [nan, nan],\n",
       " [nan, nan],\n",
       " [nan, nan],\n",
       " [nan, nan],\n",
       " [nan, nan],\n",
       " [nan, nan],\n",
       " [nan, nan],\n",
       " [nan, nan],\n",
       " [nan, nan],\n",
       " [nan, nan],\n",
       " [nan, nan],\n",
       " [nan, nan],\n",
       " [nan, nan],\n",
       " [nan, nan],\n",
       " [nan, nan],\n",
       " [nan, nan],\n",
       " [nan, nan],\n",
       " [nan, nan],\n",
       " [nan, nan],\n",
       " [nan, nan],\n",
       " [nan, nan],\n",
       " [nan, nan],\n",
       " [nan, nan],\n",
       " [nan, nan],\n",
       " [nan, nan],\n",
       " [nan, nan],\n",
       " [nan, nan],\n",
       " [nan, nan],\n",
       " [nan, nan],\n",
       " [nan, nan],\n",
       " [nan, nan],\n",
       " [nan, nan],\n",
       " [nan, nan],\n",
       " [nan, nan],\n",
       " [nan, nan],\n",
       " [nan, nan],\n",
       " [nan, nan],\n",
       " [nan, nan],\n",
       " [nan, nan],\n",
       " [nan, nan],\n",
       " [nan, nan],\n",
       " [nan, nan],\n",
       " [nan, nan],\n",
       " [nan, nan],\n",
       " [nan, nan],\n",
       " [nan, nan],\n",
       " [nan, nan],\n",
       " [nan, nan],\n",
       " [nan, nan],\n",
       " [nan, nan],\n",
       " [nan, nan],\n",
       " [nan, nan],\n",
       " [nan, nan],\n",
       " [nan, nan],\n",
       " [nan, nan],\n",
       " [nan, nan],\n",
       " [nan, nan],\n",
       " [nan, nan],\n",
       " [nan, nan],\n",
       " [nan, nan],\n",
       " [nan, nan],\n",
       " [nan, nan],\n",
       " [nan, nan],\n",
       " [nan, nan],\n",
       " [nan, nan],\n",
       " [nan, nan],\n",
       " [nan, nan],\n",
       " [nan, nan],\n",
       " [nan, nan],\n",
       " [nan, nan],\n",
       " [nan, nan],\n",
       " [nan, nan],\n",
       " [nan, nan],\n",
       " [nan, nan],\n",
       " [nan, nan],\n",
       " [nan, nan],\n",
       " [nan, nan],\n",
       " [nan, nan],\n",
       " [nan, nan],\n",
       " [nan, nan],\n",
       " [nan, nan],\n",
       " [nan, nan],\n",
       " [nan, nan],\n",
       " [nan, nan],\n",
       " [nan, nan],\n",
       " [nan, nan],\n",
       " [nan, nan],\n",
       " [nan, nan],\n",
       " [nan, nan],\n",
       " [nan, nan],\n",
       " [nan, nan],\n",
       " [nan, nan],\n",
       " [nan, nan],\n",
       " [nan, nan],\n",
       " [nan, nan],\n",
       " [nan, nan],\n",
       " [nan, nan],\n",
       " [nan, nan],\n",
       " [nan, nan],\n",
       " [nan, nan],\n",
       " [nan, nan],\n",
       " [nan, nan],\n",
       " [nan, nan],\n",
       " [nan, nan],\n",
       " [nan, nan],\n",
       " [nan, nan],\n",
       " [nan, nan],\n",
       " [nan, nan],\n",
       " [nan, nan],\n",
       " [nan, nan],\n",
       " [nan, nan],\n",
       " [nan, nan],\n",
       " [nan, nan],\n",
       " [nan, nan],\n",
       " [nan, nan],\n",
       " [nan, nan],\n",
       " [nan, nan],\n",
       " [nan, nan],\n",
       " [nan, nan],\n",
       " [nan, nan],\n",
       " [nan, nan],\n",
       " [nan, nan],\n",
       " [nan, nan],\n",
       " [nan, nan],\n",
       " [nan, nan],\n",
       " [nan, nan],\n",
       " [nan, nan],\n",
       " [nan, nan],\n",
       " [nan, nan],\n",
       " [nan, nan],\n",
       " [nan, nan],\n",
       " [nan, nan],\n",
       " [nan, nan],\n",
       " [nan, nan],\n",
       " [nan, nan],\n",
       " [nan, nan],\n",
       " [nan, nan],\n",
       " [nan, nan],\n",
       " [nan, nan],\n",
       " [nan, nan],\n",
       " [nan, nan],\n",
       " [nan, nan],\n",
       " [nan, nan],\n",
       " [nan, nan],\n",
       " [nan, nan],\n",
       " [nan, nan],\n",
       " [nan, nan],\n",
       " [nan, nan],\n",
       " [nan, nan],\n",
       " [nan, nan],\n",
       " [nan, nan],\n",
       " [nan, nan],\n",
       " [nan, nan],\n",
       " [nan, nan],\n",
       " [nan, nan],\n",
       " [nan, nan],\n",
       " [nan, nan],\n",
       " [nan, nan],\n",
       " [nan, nan],\n",
       " [nan, nan],\n",
       " [nan, nan],\n",
       " [nan, nan],\n",
       " [nan, nan],\n",
       " [nan, nan],\n",
       " [nan, nan],\n",
       " [nan, nan],\n",
       " [nan, nan],\n",
       " [nan, nan],\n",
       " [nan, nan],\n",
       " [nan, nan],\n",
       " [nan, nan],\n",
       " [nan, nan],\n",
       " [nan, nan],\n",
       " [nan, nan],\n",
       " [nan, nan],\n",
       " [nan, nan],\n",
       " [nan, nan],\n",
       " [nan, nan],\n",
       " [nan, nan],\n",
       " [nan, nan],\n",
       " [nan, nan],\n",
       " [nan, nan],\n",
       " [nan, nan],\n",
       " [nan, nan],\n",
       " [nan, nan],\n",
       " [nan, nan],\n",
       " [nan, nan],\n",
       " [nan, nan],\n",
       " [nan, nan],\n",
       " [nan, nan],\n",
       " [nan, nan],\n",
       " [nan, nan],\n",
       " [nan, nan],\n",
       " [nan, nan],\n",
       " [nan, nan],\n",
       " [nan, nan],\n",
       " [nan, nan],\n",
       " [nan, nan],\n",
       " [nan, nan],\n",
       " [nan, nan],\n",
       " [nan, nan],\n",
       " [nan, nan],\n",
       " [nan, nan],\n",
       " [nan, nan],\n",
       " [nan, nan],\n",
       " [nan, nan],\n",
       " [nan, nan],\n",
       " [nan, nan],\n",
       " [nan, nan],\n",
       " [nan, nan],\n",
       " [nan, nan],\n",
       " [nan, nan],\n",
       " [nan, nan],\n",
       " [nan, nan],\n",
       " [nan, nan],\n",
       " [nan, nan],\n",
       " [nan, nan],\n",
       " [nan, nan],\n",
       " [nan, nan],\n",
       " [nan, nan],\n",
       " [nan, nan],\n",
       " [nan, nan],\n",
       " [nan, nan],\n",
       " [nan, nan],\n",
       " [nan, nan],\n",
       " [nan, nan],\n",
       " [nan, nan],\n",
       " [nan, nan],\n",
       " [nan, nan],\n",
       " [nan, nan],\n",
       " [nan, nan],\n",
       " [nan, nan],\n",
       " [nan, nan],\n",
       " [nan, nan],\n",
       " [nan, nan],\n",
       " [nan, nan],\n",
       " [nan, nan],\n",
       " [nan, nan],\n",
       " [nan, nan],\n",
       " [nan, nan],\n",
       " [nan, nan],\n",
       " [nan, nan],\n",
       " [nan, nan],\n",
       " [nan, nan],\n",
       " [nan, nan],\n",
       " [nan, nan],\n",
       " [nan, nan],\n",
       " [nan, nan],\n",
       " [nan, nan],\n",
       " [nan, nan],\n",
       " [nan, nan],\n",
       " [nan, nan],\n",
       " [nan, nan],\n",
       " [nan, nan],\n",
       " [nan, nan],\n",
       " [nan, nan],\n",
       " [nan, nan],\n",
       " [nan, nan],\n",
       " [nan, nan],\n",
       " [nan, nan],\n",
       " [nan, nan],\n",
       " [nan, nan],\n",
       " [nan, nan],\n",
       " [nan, nan],\n",
       " [nan, nan],\n",
       " [nan, nan],\n",
       " [nan, nan],\n",
       " [nan, nan],\n",
       " [nan, nan],\n",
       " [nan, nan],\n",
       " [nan, nan],\n",
       " [nan, nan],\n",
       " [nan, nan],\n",
       " [nan, nan],\n",
       " [nan, nan],\n",
       " [nan, nan],\n",
       " [nan, nan],\n",
       " [nan, nan],\n",
       " [nan, nan],\n",
       " [nan, nan],\n",
       " [nan, nan],\n",
       " [nan, nan],\n",
       " [nan, nan],\n",
       " [nan, nan],\n",
       " [nan, nan],\n",
       " [nan, nan],\n",
       " [nan, nan],\n",
       " [nan, nan],\n",
       " [nan, nan],\n",
       " [nan, nan],\n",
       " [nan, nan],\n",
       " [nan, nan],\n",
       " [nan, nan],\n",
       " [nan, nan],\n",
       " [nan, nan],\n",
       " [nan, nan],\n",
       " [nan, nan],\n",
       " [nan, nan],\n",
       " [nan, nan],\n",
       " [nan, nan],\n",
       " [nan, nan],\n",
       " [nan, nan],\n",
       " [nan, nan],\n",
       " [nan, nan],\n",
       " [nan, nan],\n",
       " [nan, nan],\n",
       " [nan, nan],\n",
       " [nan, nan],\n",
       " [nan, nan],\n",
       " [nan, nan],\n",
       " [nan, nan],\n",
       " [nan, nan],\n",
       " [nan, nan],\n",
       " [nan, nan],\n",
       " [nan, nan],\n",
       " [nan, nan],\n",
       " [nan, nan],\n",
       " [nan, nan],\n",
       " [nan, nan],\n",
       " [nan, nan],\n",
       " [nan, nan],\n",
       " [nan, nan],\n",
       " [nan, nan],\n",
       " [nan, nan],\n",
       " [nan, nan],\n",
       " [nan, nan],\n",
       " [nan, nan],\n",
       " [nan, nan],\n",
       " [nan, nan],\n",
       " [nan, nan],\n",
       " [nan, nan],\n",
       " [nan, nan],\n",
       " [nan, nan],\n",
       " [nan, nan],\n",
       " [nan, nan],\n",
       " [nan, nan],\n",
       " [nan, nan],\n",
       " [nan, nan],\n",
       " [nan, nan],\n",
       " [nan, nan],\n",
       " [nan, nan],\n",
       " [nan, nan],\n",
       " [nan, nan],\n",
       " [nan, nan],\n",
       " [nan, nan],\n",
       " [nan, nan],\n",
       " [nan, nan],\n",
       " [nan, nan],\n",
       " [nan, nan],\n",
       " [nan, nan],\n",
       " [nan, nan],\n",
       " [nan, nan],\n",
       " [nan, nan],\n",
       " [nan, nan],\n",
       " [nan, nan],\n",
       " [nan, nan],\n",
       " [nan, nan],\n",
       " [nan, nan],\n",
       " [nan, nan],\n",
       " [nan, nan],\n",
       " [nan, nan],\n",
       " [nan, nan],\n",
       " [nan, nan],\n",
       " [nan, nan],\n",
       " [nan, nan],\n",
       " [nan, nan],\n",
       " [nan, nan],\n",
       " [nan, nan],\n",
       " [nan, nan],\n",
       " [nan, nan],\n",
       " [nan, nan],\n",
       " [nan, nan],\n",
       " [nan, nan],\n",
       " [nan, nan],\n",
       " [nan, nan],\n",
       " [nan, nan],\n",
       " [nan, nan],\n",
       " [nan, nan],\n",
       " [nan, nan],\n",
       " [nan, nan],\n",
       " [nan, nan],\n",
       " [nan, nan],\n",
       " [nan, nan],\n",
       " [nan, nan],\n",
       " [nan, nan],\n",
       " [nan, nan],\n",
       " [nan, nan],\n",
       " [nan, nan],\n",
       " [nan, nan],\n",
       " [nan, nan],\n",
       " [nan, nan],\n",
       " [nan, nan],\n",
       " [nan, nan],\n",
       " [nan, nan],\n",
       " [nan, nan],\n",
       " [nan, nan],\n",
       " [nan, nan],\n",
       " [nan, nan],\n",
       " [nan, nan],\n",
       " [nan, nan],\n",
       " [nan, nan],\n",
       " [nan, nan],\n",
       " [nan, nan],\n",
       " [nan, nan],\n",
       " [nan, nan],\n",
       " [nan, nan],\n",
       " [nan, nan],\n",
       " [nan, nan],\n",
       " [nan, nan],\n",
       " [nan, nan],\n",
       " [nan, nan],\n",
       " [nan, nan],\n",
       " [nan, nan],\n",
       " [nan, nan],\n",
       " [nan, nan],\n",
       " [nan, nan],\n",
       " [nan, nan],\n",
       " [nan, nan],\n",
       " [nan, nan],\n",
       " [nan, nan],\n",
       " [nan, nan],\n",
       " [nan, nan],\n",
       " [nan, nan],\n",
       " [nan, nan],\n",
       " [nan, nan],\n",
       " [nan, nan],\n",
       " [nan, nan],\n",
       " [nan, nan],\n",
       " [nan, nan],\n",
       " [nan, nan],\n",
       " [nan, nan],\n",
       " [nan, nan],\n",
       " [nan, nan],\n",
       " [nan, nan],\n",
       " [nan, nan],\n",
       " [nan, nan],\n",
       " [nan, nan],\n",
       " [nan, nan],\n",
       " [nan, nan],\n",
       " [nan, nan],\n",
       " [nan, nan],\n",
       " [nan, nan],\n",
       " [nan, nan],\n",
       " [nan, nan],\n",
       " [nan, nan],\n",
       " [nan, nan],\n",
       " [nan, nan],\n",
       " [nan, nan],\n",
       " [nan, nan],\n",
       " [nan, nan],\n",
       " [nan, nan],\n",
       " [nan, nan],\n",
       " [nan, nan],\n",
       " [nan, nan],\n",
       " [nan, nan],\n",
       " [nan, nan],\n",
       " [nan, nan],\n",
       " [nan, nan],\n",
       " [nan, nan],\n",
       " [nan, nan],\n",
       " [nan, nan],\n",
       " [nan, nan],\n",
       " [nan, nan],\n",
       " [nan, nan],\n",
       " [nan, nan],\n",
       " [nan, nan],\n",
       " [nan, nan],\n",
       " [nan, nan],\n",
       " [nan, nan],\n",
       " [nan, nan],\n",
       " [nan, nan],\n",
       " [nan, nan],\n",
       " [nan, nan],\n",
       " [nan, nan],\n",
       " [nan, nan],\n",
       " [nan, nan],\n",
       " [nan, nan],\n",
       " [nan, nan],\n",
       " [nan, nan],\n",
       " [nan, nan],\n",
       " [nan, nan],\n",
       " [nan, nan],\n",
       " [nan, nan],\n",
       " [nan, nan],\n",
       " [nan, nan],\n",
       " [nan, nan],\n",
       " [nan, nan],\n",
       " [nan, nan],\n",
       " [nan, nan],\n",
       " [nan, nan],\n",
       " [nan, nan],\n",
       " [nan, nan],\n",
       " [nan, nan],\n",
       " [nan, nan],\n",
       " [nan, nan],\n",
       " [nan, nan],\n",
       " [nan, nan],\n",
       " [nan, nan],\n",
       " [nan, nan],\n",
       " [nan, nan],\n",
       " [nan, nan],\n",
       " [nan, nan],\n",
       " [nan, nan],\n",
       " [nan, nan],\n",
       " [nan, nan],\n",
       " [nan, nan],\n",
       " [nan, nan],\n",
       " [nan, nan],\n",
       " [nan, nan],\n",
       " [nan, nan],\n",
       " [nan, nan],\n",
       " [nan, nan],\n",
       " [nan, nan],\n",
       " [nan, nan],\n",
       " [nan, nan],\n",
       " [nan, nan],\n",
       " [nan, nan],\n",
       " [nan, nan],\n",
       " [nan, nan],\n",
       " [nan, nan],\n",
       " [nan, nan],\n",
       " [nan, nan],\n",
       " [nan, nan],\n",
       " [nan, nan],\n",
       " [nan, nan],\n",
       " [nan, nan],\n",
       " [nan, nan],\n",
       " [nan, nan],\n",
       " [nan, nan],\n",
       " [nan, nan],\n",
       " [nan, nan],\n",
       " [nan, nan],\n",
       " [nan, nan],\n",
       " [nan, nan],\n",
       " [nan, nan],\n",
       " [nan, nan],\n",
       " [nan, nan],\n",
       " ...]"
      ]
     },
     "execution_count": 269,
     "metadata": {},
     "output_type": "execute_result"
    }
   ],
   "source": [
    "train_crps_list"
   ]
  },
  {
   "cell_type": "code",
   "execution_count": 96,
   "metadata": {
    "collapsed": true
   },
   "outputs": [],
   "source": [
    "def fc_model():\n",
    "    inp = Input(shape=(2,))\n",
    "    x = Dense(2, activation='linear')(inp)\n",
    "    return Model(inputs=inp, outputs=x)"
   ]
  },
  {
   "cell_type": "code",
   "execution_count": 97,
   "metadata": {},
   "outputs": [
    {
     "name": "stdout",
     "output_type": "stream",
     "text": [
      "_________________________________________________________________\n",
      "Layer (type)                 Output Shape              Param #   \n",
      "=================================================================\n",
      "input_22 (InputLayer)        (None, 2)                 0         \n",
      "_________________________________________________________________\n",
      "dense_22 (Dense)             (None, 2)                 6         \n",
      "=================================================================\n",
      "Total params: 6\n",
      "Trainable params: 6\n",
      "Non-trainable params: 0\n",
      "_________________________________________________________________\n"
     ]
    }
   ],
   "source": [
    "model.summary()"
   ]
  },
  {
   "cell_type": "code",
   "execution_count": 108,
   "metadata": {
    "collapsed": true
   },
   "outputs": [],
   "source": [
    "opt = Adam(lr=0.001)\n",
    "model.compile(optimizer=opt, loss=crps_cost_function, metrics=[crps_cost_function])"
   ]
  },
  {
   "cell_type": "code",
   "execution_count": 109,
   "metadata": {},
   "outputs": [
    {
     "data": {
      "text/plain": [
       "(25190, 2)"
      ]
     },
     "execution_count": 109,
     "metadata": {},
     "output_type": "execute_result"
    }
   ],
   "source": [
    "in_train = np.column_stack([tfc_mean_train, tfc_std_train])\n",
    "in_train.shape"
   ]
  },
  {
   "cell_type": "code",
   "execution_count": 110,
   "metadata": {
    "collapsed": true
   },
   "outputs": [],
   "source": [
    "in_test = np.column_stack([tfc_mean_test, tfc_std_test])"
   ]
  },
  {
   "cell_type": "code",
   "execution_count": 111,
   "metadata": {},
   "outputs": [
    {
     "data": {
      "text/plain": [
       "<keras.callbacks.History at 0x1272660b8>"
      ]
     },
     "execution_count": 111,
     "metadata": {},
     "output_type": "execute_result"
    }
   ],
   "source": [
    "model.fit(in_train, tobs_train, epochs=1000, batch_size=25190, verbose=0)"
   ]
  },
  {
   "cell_type": "code",
   "execution_count": 112,
   "metadata": {},
   "outputs": [
    {
     "name": "stdout",
     "output_type": "stream",
     "text": [
      "Train on 25190 samples, validate on 506 samples\n",
      "Epoch 1/1\n",
      "25190/25190 [==============================] - 0s - loss: 1.2329 - crps_cost_function: 1.2329 - val_loss: 1.1481 - val_crps_cost_function: 1.1481\n"
     ]
    },
    {
     "data": {
      "text/plain": [
       "<keras.callbacks.History at 0x126b4a940>"
      ]
     },
     "execution_count": 112,
     "metadata": {},
     "output_type": "execute_result"
    }
   ],
   "source": [
    "model.fit(in_train, tobs_train, epochs=1, batch_size=25190,\n",
    "          validation_data=[in_test, tobs_test], verbose=1)"
   ]
  },
  {
   "cell_type": "code",
   "execution_count": null,
   "metadata": {
    "collapsed": true
   },
   "outputs": [],
   "source": []
  }
 ],
 "metadata": {
  "kernelspec": {
   "display_name": "Python 3",
   "language": "python",
   "name": "python3"
  },
  "language_info": {
   "codemirror_mode": {
    "name": "ipython",
    "version": 3
   },
   "file_extension": ".py",
   "mimetype": "text/x-python",
   "name": "python",
   "nbconvert_exporter": "python",
   "pygments_lexer": "ipython3",
   "version": "3.6.2"
  },
  "toc": {
   "nav_menu": {},
   "number_sections": true,
   "sideBar": true,
   "skip_h1_title": true,
   "toc_cell": true,
   "toc_position": {},
   "toc_section_display": "block",
   "toc_window_display": false
  }
 },
 "nbformat": 4,
 "nbformat_minor": 2
}
