{
 "cells": [
  {
   "cell_type": "markdown",
   "metadata": {
    "toc": "true"
   },
   "source": [
    " # Table of Contents\n",
    "<div class=\"toc\" style=\"margin-top: 1em;\"><ul class=\"toc-item\" id=\"toc-level0\"><li><span><a href=\"http://localhost:8888/notebooks/nn_postprocessing/categorical.ipynb#Convert-targets-to-categorical\" data-toc-modified-id=\"Convert-targets-to-categorical-1\"><span class=\"toc-item-num\">1&nbsp;&nbsp;</span>Convert targets to categorical</a></span><ul class=\"toc-item\"><li><span><a href=\"http://localhost:8888/notebooks/nn_postprocessing/categorical.ipynb#Assign-observations-to-bins,-part-1:-Always-to-the-left\" data-toc-modified-id=\"Assign-observations-to-bins,-part-1:-Always-to-the-left-1.1\"><span class=\"toc-item-num\">1.1&nbsp;&nbsp;</span>Assign observations to bins, part 1: Always to the left</a></span></li><li><span><a href=\"http://localhost:8888/notebooks/nn_postprocessing/categorical.ipynb#Assign-observations-to-bins,-part-2:-Nearest-edge\" data-toc-modified-id=\"Assign-observations-to-bins,-part-2:-Nearest-edge-1.2\"><span class=\"toc-item-num\">1.2&nbsp;&nbsp;</span>Assign observations to bins, part 2: Nearest edge</a></span></li><li><span><a href=\"http://localhost:8888/notebooks/nn_postprocessing/categorical.ipynb#Bin-size-tuning\" data-toc-modified-id=\"Bin-size-tuning-1.3\"><span class=\"toc-item-num\">1.3&nbsp;&nbsp;</span>Bin size tuning</a></span></li></ul></li><li><span><a href=\"http://localhost:8888/notebooks/nn_postprocessing/categorical.ipynb#Full-ensemble-features\" data-toc-modified-id=\"Full-ensemble-features-2\"><span class=\"toc-item-num\">2&nbsp;&nbsp;</span>Full ensemble features</a></span><ul class=\"toc-item\"><li><span><a href=\"http://localhost:8888/notebooks/nn_postprocessing/categorical.ipynb#With-convolution\" data-toc-modified-id=\"With-convolution-2.1\"><span class=\"toc-item-num\">2.1&nbsp;&nbsp;</span>With convolution</a></span></li><li><span><a href=\"http://localhost:8888/notebooks/nn_postprocessing/categorical.ipynb#Full-ensemble-with-mean-and-std-output\" data-toc-modified-id=\"Full-ensemble-with-mean-and-std-output-2.2\"><span class=\"toc-item-num\">2.2&nbsp;&nbsp;</span>Full ensemble with mean and std output</a></span></li></ul></li><li><span><a href=\"http://localhost:8888/notebooks/nn_postprocessing/categorical.ipynb#With-station-embeddings\" data-toc-modified-id=\"With-station-embeddings-3\"><span class=\"toc-item-num\">3&nbsp;&nbsp;</span>With station embeddings</a></span><ul class=\"toc-item\"><li><span><a href=\"http://localhost:8888/notebooks/nn_postprocessing/categorical.ipynb#testing-a-convolution-layer\" data-toc-modified-id=\"testing-a-convolution-layer-3.1\"><span class=\"toc-item-num\">3.1&nbsp;&nbsp;</span>testing a convolution layer</a></span></li></ul></li><li><span><a href=\"http://localhost:8888/notebooks/nn_postprocessing/categorical.ipynb#Auxiliary-data\" data-toc-modified-id=\"Auxiliary-data-4\"><span class=\"toc-item-num\">4&nbsp;&nbsp;</span>Auxiliary data</a></span><ul class=\"toc-item\"><li><span><a href=\"http://localhost:8888/notebooks/nn_postprocessing/categorical.ipynb#Mean-and-std\" data-toc-modified-id=\"Mean-and-std-4.1\"><span class=\"toc-item-num\">4.1&nbsp;&nbsp;</span>Mean and std</a></span></li><li><span><a href=\"http://localhost:8888/notebooks/nn_postprocessing/categorical.ipynb#Full-ensemble\" data-toc-modified-id=\"Full-ensemble-4.2\"><span class=\"toc-item-num\">4.2&nbsp;&nbsp;</span>Full ensemble</a></span></li></ul></li></ul></div>"
   ]
  },
  {
   "cell_type": "markdown",
   "metadata": {},
   "source": [
    "# Categorical/binned output \n",
    "\n",
    "Here we will use categorical output instead of the mean and standard deviation.\n"
   ]
  },
  {
   "cell_type": "code",
   "execution_count": 211,
   "metadata": {},
   "outputs": [
    {
     "name": "stdout",
     "output_type": "stream",
     "text": [
      "Anaconda environment: cbrain\n",
      "Linux 4.4.0-97-generic\n"
     ]
    }
   ],
   "source": [
    "# Imports\n",
    "from importlib import reload\n",
    "import utils; reload(utils)\n",
    "from utils import *\n",
    "import crps_loss; reload(crps_loss)\n",
    "from crps_loss import maybe_correct_cat_crps, approx_crps_cat, crps_cost_function\n",
    "import numpy as np\n",
    "import matplotlib.pyplot as plt\n",
    "%matplotlib inline\n",
    "from collections import OrderedDict\n",
    "\n",
    "import keras\n",
    "from keras.layers import Input, Dense, merge, Embedding, Flatten, Dropout\n",
    "from keras.layers.merge import Concatenate\n",
    "from keras.models import Model\n",
    "import keras.backend as K\n",
    "from keras.callbacks import EarlyStopping\n",
    "from keras.optimizers import SGD, Adam\n",
    "from scipy.stats import binned_statistic"
   ]
  },
  {
   "cell_type": "code",
   "execution_count": 43,
   "metadata": {
    "collapsed": true
   },
   "outputs": [],
   "source": [
    "# Setup\n",
    "# DATA_DIR = '/Volumes/STICK/data/ppnn_data/'  # Mac\n",
    "DATA_DIR = '/project/meteo/w2w/C7/ppnn_data/'   # LMU\n",
    "fclt = 48"
   ]
  },
  {
   "cell_type": "markdown",
   "metadata": {},
   "source": [
    "## Convert targets to categorical\n",
    "\n",
    "We will one-hot-encode the target array"
   ]
  },
  {
   "cell_type": "code",
   "execution_count": 4,
   "metadata": {},
   "outputs": [
    {
     "name": "stdout",
     "output_type": "stream",
     "text": [
      "train set contains 365 days\n",
      "test set contains 366 days\n"
     ]
    }
   ],
   "source": [
    "train_dates = ['2015-01-01', '2016-01-01']\n",
    "test_dates =  ['2016-01-01', '2017-01-01']\n",
    "train_set, test_set = get_train_test_sets(DATA_DIR, train_dates, test_dates)"
   ]
  },
  {
   "cell_type": "code",
   "execution_count": 8,
   "metadata": {},
   "outputs": [
    {
     "data": {
      "text/plain": [
       "(131,)"
      ]
     },
     "execution_count": 8,
     "metadata": {},
     "output_type": "execute_result"
    }
   ],
   "source": [
    "# Define the bins\n",
    "bin_width = 0.5\n",
    "bin_edges = np.arange(-30, 35 + bin_width, bin_width)\n",
    "bin_edges.shape"
   ]
  },
  {
   "cell_type": "markdown",
   "metadata": {},
   "source": [
    "### Assign observations to bins, part 1: Always to the left"
   ]
  },
  {
   "cell_type": "code",
   "execution_count": 9,
   "metadata": {
    "collapsed": true
   },
   "outputs": [],
   "source": [
    "def convert_targets(targets, bin_edges):\n",
    "    bin_idxs = binned_statistic(targets, targets, bins=bin_edges)[-1]\n",
    "    return keras.utils.to_categorical(bin_idxs, num_classes=bin_edges.shape[0]-1)"
   ]
  },
  {
   "cell_type": "code",
   "execution_count": 10,
   "metadata": {
    "collapsed": true
   },
   "outputs": [],
   "source": [
    "train_cat_targets = convert_targets(train_set.targets, bin_edges)\n",
    "test_cat_targets = convert_targets(test_set.targets, bin_edges)"
   ]
  },
  {
   "cell_type": "code",
   "execution_count": 15,
   "metadata": {},
   "outputs": [
    {
     "name": "stdout",
     "output_type": "stream",
     "text": [
      "Obs: 4.3\n"
     ]
    },
    {
     "data": {
      "image/png": "[encoded data removed]",
      "text/plain": [
       "<matplotlib.figure.Figure at 0x7fa529b0ada0>"
      ]
     },
     "metadata": {},
     "output_type": "display_data"
    }
   ],
   "source": [
    "print('Obs:', test_set.targets[0])\n",
    "plt.bar(bin_edges[:-1] + 0.25, test_cat_targets[0], width=0.5, zorder=0.1)\n",
    "plt.axvline(test_set.targets[0], c='r')\n",
    "plt.show()"
   ]
  },
  {
   "cell_type": "code",
   "execution_count": 103,
   "metadata": {
    "collapsed": true
   },
   "outputs": [],
   "source": [
    "def build_cat_model(n_features, hidden_nodes, n_bins):\n",
    "    inp = Input(shape=(n_features,))\n",
    "    x = Dense(hidden_nodes[0], activation='relu')(inp)\n",
    "    if len(hidden_nodes) > 1:\n",
    "        for h in hidden_nodes[1:]:\n",
    "            x = Dense(h, activation='relu')(x)\n",
    "    x = Dense(n_bins, activation='softmax')(x)\n",
    "    return Model(inputs=inp, outputs=x)"
   ]
  },
  {
   "cell_type": "code",
   "execution_count": 46,
   "metadata": {
    "collapsed": true
   },
   "outputs": [],
   "source": [
    "model = build_cat_model(2, 50, bin_edges.shape[0]-1)"
   ]
  },
  {
   "cell_type": "code",
   "execution_count": 18,
   "metadata": {
    "collapsed": true
   },
   "outputs": [],
   "source": [
    "model.compile(optimizer=Adam(0.01), loss=approx_crps)"
   ]
  },
  {
   "cell_type": "code",
   "execution_count": 19,
   "metadata": {},
   "outputs": [
    {
     "name": "stdout",
     "output_type": "stream",
     "text": [
      "_________________________________________________________________\n",
      "Layer (type)                 Output Shape              Param #   \n",
      "=================================================================\n",
      "input_1 (InputLayer)         (None, 2)                 0         \n",
      "_________________________________________________________________\n",
      "dense_1 (Dense)              (None, 50)                150       \n",
      "_________________________________________________________________\n",
      "dense_2 (Dense)              (None, 50)                2550      \n",
      "_________________________________________________________________\n",
      "dense_3 (Dense)              (None, 130)               6630      \n",
      "=================================================================\n",
      "Total params: 9,330\n",
      "Trainable params: 9,330\n",
      "Non-trainable params: 0\n",
      "_________________________________________________________________\n"
     ]
    }
   ],
   "source": [
    "model.summary()"
   ]
  },
  {
   "cell_type": "code",
   "execution_count": 22,
   "metadata": {},
   "outputs": [
    {
     "name": "stdout",
     "output_type": "stream",
     "text": [
      "Train on 180849 samples, validate on 182218 samples\n",
      "Epoch 1/5\n",
      "180849/180849 [==============================] - 2s - loss: 1.1393 - val_loss: 1.0635\n",
      "Epoch 2/5\n",
      "180849/180849 [==============================] - 2s - loss: 1.1401 - val_loss: 1.0704\n",
      "Epoch 3/5\n",
      "180849/180849 [==============================] - 2s - loss: 1.1401 - val_loss: 1.0587\n",
      "Epoch 4/5\n",
      "180849/180849 [==============================] - 2s - loss: 1.1417 - val_loss: 1.0665\n",
      "Epoch 5/5\n",
      "180849/180849 [==============================] - 2s - loss: 1.1387 - val_loss: 1.0673\n"
     ]
    },
    {
     "data": {
      "text/plain": [
       "<keras.callbacks.History at 0x7f9b4f3c5588>"
      ]
     },
     "execution_count": 22,
     "metadata": {},
     "output_type": "execute_result"
    }
   ],
   "source": [
    "model.fit(train_set.features, train_cat_targets, epochs=5, batch_size=4096,\n",
    "          validation_data=[test_set.features, test_cat_targets])"
   ]
  },
  {
   "cell_type": "code",
   "execution_count": 23,
   "metadata": {
    "collapsed": true
   },
   "outputs": [],
   "source": [
    "preds = model.predict(test_set.features)"
   ]
  },
  {
   "cell_type": "code",
   "execution_count": 26,
   "metadata": {},
   "outputs": [
    {
     "data": {
      "text/plain": [
       "1.1011249457749939"
      ]
     },
     "execution_count": 26,
     "metadata": {},
     "output_type": "execute_result"
    }
   ],
   "source": [
    "# Get correct CRPS\n",
    "maybe_correct_cat_crps(preds, test_set.targets, bin_edges)"
   ]
  },
  {
   "cell_type": "code",
   "execution_count": 106,
   "metadata": {},
   "outputs": [
    {
     "data": {
      "image/png": "[encoded data removed]",
      "text/plain": [
       "<matplotlib.figure.Figure at 0x12c925e10>"
      ]
     },
     "metadata": {},
     "output_type": "display_data"
    }
   ],
   "source": [
    "i = 40001\n",
    "plt.bar(bin_edges[:-1] + 0.25, preds[i], width=0.5, alpha=0.8)\n",
    "plt.bar(bin_edges[:-1] + 0.25, test_cat_targets[i], width=0.5, zorder=0.1)\n",
    "plt.axvline(test_set.targets[i], c='r')\n",
    "plt.show()"
   ]
  },
  {
   "cell_type": "markdown",
   "metadata": {
    "collapsed": true
   },
   "source": [
    "### Assign observations to bins, part 2: Nearest edge"
   ]
  },
  {
   "cell_type": "code",
   "execution_count": 22,
   "metadata": {
    "collapsed": true
   },
   "outputs": [],
   "source": [
    "def convert_targets_nearest(targets, bin_edges):\n",
    "    mat_bin_edges = np.repeat(np.atleast_2d(bin_edges), targets.shape[0], axis=0).T\n",
    "    bin_idxs = np.argmin(np.abs(mat_bin_edges - targets),axis=0)\n",
    "    return keras.utils.to_categorical(bin_idxs, num_classes=bin_edges.shape[0]-1)"
   ]
  },
  {
   "cell_type": "code",
   "execution_count": 23,
   "metadata": {
    "collapsed": true
   },
   "outputs": [],
   "source": [
    "train_cat_targets_nearest = convert_targets_nearest(train_set.targets, bin_edges)\n",
    "test_cat_targets_nearest = convert_targets_nearest(test_set.targets, bin_edges)"
   ]
  },
  {
   "cell_type": "code",
   "execution_count": 229,
   "metadata": {
    "collapsed": true
   },
   "outputs": [],
   "source": [
    "model = build_cat_model(2, [50], bin_edges.shape[0]-1)"
   ]
  },
  {
   "cell_type": "code",
   "execution_count": 234,
   "metadata": {},
   "outputs": [],
   "source": [
    "model.compile(optimizer=Adam(0.0001), loss=approx_crps)"
   ]
  },
  {
   "cell_type": "code",
   "execution_count": 235,
   "metadata": {},
   "outputs": [
    {
     "name": "stdout",
     "output_type": "stream",
     "text": [
      "Train on 180849 samples, validate on 182218 samples\n",
      "Epoch 1/5\n",
      "180849/180849 [==============================] - 3s - loss: 1.1734 - val_loss: 1.1389\n",
      "Epoch 2/5\n",
      "180849/180849 [==============================] - 3s - loss: 1.1727 - val_loss: 1.1382\n",
      "Epoch 3/5\n",
      "180849/180849 [==============================] - 3s - loss: 1.1720 - val_loss: 1.1369\n",
      "Epoch 4/5\n",
      "180849/180849 [==============================] - 3s - loss: 1.1714 - val_loss: 1.1367\n",
      "Epoch 5/5\n",
      "180849/180849 [==============================] - 3s - loss: 1.1708 - val_loss: 1.1353\n"
     ]
    },
    {
     "data": {
      "text/plain": [
       "<keras.callbacks.History at 0x7fa48c885b00>"
      ]
     },
     "execution_count": 235,
     "metadata": {},
     "output_type": "execute_result"
    }
   ],
   "source": [
    "model.fit(train_set.features, train_cat_targets_nearest, epochs=5, batch_size=1024,\n",
    "          validation_data=[test_set.features, test_cat_targets_nearest])"
   ]
  },
  {
   "cell_type": "code",
   "execution_count": 236,
   "metadata": {
    "collapsed": true
   },
   "outputs": [],
   "source": [
    "preds = model.predict(test_set.features)"
   ]
  },
  {
   "cell_type": "code",
   "execution_count": 237,
   "metadata": {},
   "outputs": [
    {
     "data": {
      "text/plain": [
       "1.1311971355100863"
      ]
     },
     "execution_count": 237,
     "metadata": {},
     "output_type": "execute_result"
    }
   ],
   "source": [
    "maybe_correct_cat_crps(preds, test_set.targets, bin_edges)"
   ]
  },
  {
   "cell_type": "code",
   "execution_count": 240,
   "metadata": {},
   "outputs": [
    {
     "data": {
      "image/png": "[encoded data removed]",
      "text/plain": [
       "<matplotlib.figure.Figure at 0x7fa46f8799b0>"
      ]
     },
     "metadata": {},
     "output_type": "display_data"
    }
   ],
   "source": [
    "i = 10\n",
    "plt.bar(bin_edges[:-1] + 0.25, preds[i], width=0.5, alpha=0.8)\n",
    "plt.bar(bin_edges[:-1] + 0.25, test_cat_targets_nearest[i], width=0.5, zorder=0.1)\n",
    "plt.axvline(test_set.targets[i], c='r')\n",
    "plt.show()"
   ]
  },
  {
   "cell_type": "markdown",
   "metadata": {},
   "source": [
    "### Bin size tuning"
   ]
  },
  {
   "cell_type": "code",
   "execution_count": 241,
   "metadata": {
    "collapsed": true
   },
   "outputs": [],
   "source": [
    "wide_bin_width = 1.5\n",
    "wide_bin_edges = np.arange(-30, 35 + wide_bin_width, wide_bin_width)"
   ]
  },
  {
   "cell_type": "code",
   "execution_count": 242,
   "metadata": {
    "collapsed": true
   },
   "outputs": [],
   "source": [
    "wide_train_cat_targets = convert_targets_nearest(train_set.targets, wide_bin_edges)\n",
    "wide_test_cat_targets = convert_targets_nearest(test_set.targets, wide_bin_edges)"
   ]
  },
  {
   "cell_type": "code",
   "execution_count": 243,
   "metadata": {
    "collapsed": true
   },
   "outputs": [],
   "source": [
    "model = build_cat_model(2, [50], wide_bin_edges.shape[0]-1)"
   ]
  },
  {
   "cell_type": "code",
   "execution_count": 244,
   "metadata": {},
   "outputs": [
    {
     "name": "stdout",
     "output_type": "stream",
     "text": [
      "_________________________________________________________________\n",
      "Layer (type)                 Output Shape              Param #   \n",
      "=================================================================\n",
      "input_38 (InputLayer)        (None, 2)                 0         \n",
      "_________________________________________________________________\n",
      "dense_61 (Dense)             (None, 50)                150       \n",
      "_________________________________________________________________\n",
      "dense_62 (Dense)             (None, 44)                2244      \n",
      "=================================================================\n",
      "Total params: 2,394\n",
      "Trainable params: 2,394\n",
      "Non-trainable params: 0\n",
      "_________________________________________________________________\n"
     ]
    }
   ],
   "source": [
    "model.summary()"
   ]
  },
  {
   "cell_type": "code",
   "execution_count": 253,
   "metadata": {
    "collapsed": true
   },
   "outputs": [],
   "source": [
    "model.compile(optimizer=Adam(0.0001), loss=approx_crps)"
   ]
  },
  {
   "cell_type": "code",
   "execution_count": 254,
   "metadata": {},
   "outputs": [
    {
     "name": "stdout",
     "output_type": "stream",
     "text": [
      "Train on 180849 samples, validate on 182218 samples\n",
      "Epoch 1/5\n",
      "180849/180849 [==============================] - 2s - loss: 0.4007 - val_loss: 0.3866\n",
      "Epoch 2/5\n",
      "180849/180849 [==============================] - 2s - loss: 0.4000 - val_loss: 0.3857\n",
      "Epoch 3/5\n",
      "180849/180849 [==============================] - 2s - loss: 0.3994 - val_loss: 0.3850\n",
      "Epoch 4/5\n",
      "180849/180849 [==============================] - 2s - loss: 0.3988 - val_loss: 0.3844\n",
      "Epoch 5/5\n",
      "180849/180849 [==============================] - 2s - loss: 0.3983 - val_loss: 0.3841\n"
     ]
    },
    {
     "data": {
      "text/plain": [
       "<keras.callbacks.History at 0x7fa46e695b00>"
      ]
     },
     "execution_count": 254,
     "metadata": {},
     "output_type": "execute_result"
    }
   ],
   "source": [
    "model.fit(train_set.features, wide_train_cat_targets, epochs=5, batch_size=1024,\n",
    "          validation_data=[test_set.features, wide_test_cat_targets])"
   ]
  },
  {
   "cell_type": "code",
   "execution_count": 255,
   "metadata": {
    "collapsed": true
   },
   "outputs": [],
   "source": [
    "preds = model.predict(test_set.features)"
   ]
  },
  {
   "cell_type": "code",
   "execution_count": 256,
   "metadata": {},
   "outputs": [
    {
     "data": {
      "image/png": "[encoded data removed]",
      "text/plain": [
       "<matplotlib.figure.Figure at 0x7fa46e63a128>"
      ]
     },
     "metadata": {},
     "output_type": "display_data"
    }
   ],
   "source": [
    "i = 10\n",
    "plt.bar(wide_bin_edges[:-1] + 0.75, preds[i], width=1.5, alpha=0.8)\n",
    "plt.bar(wide_bin_edges[:-1] + 0.75, wide_test_cat_targets[i], width=1.5, zorder=0.1)\n",
    "plt.axvline(test_set.targets[i], c='r')\n",
    "plt.show()"
   ]
  },
  {
   "cell_type": "code",
   "execution_count": 257,
   "metadata": {},
   "outputs": [
    {
     "data": {
      "text/plain": [
       "1.2046557611208457"
      ]
     },
     "execution_count": 257,
     "metadata": {},
     "output_type": "execute_result"
    }
   ],
   "source": [
    "maybe_correct_cat_crps(preds, test_set.targets, wide_bin_edges)"
   ]
  },
  {
   "cell_type": "markdown",
   "metadata": {},
   "source": [
    "## Full ensemble features"
   ]
  },
  {
   "cell_type": "code",
   "execution_count": 62,
   "metadata": {},
   "outputs": [
    {
     "name": "stdout",
     "output_type": "stream",
     "text": [
      "train set contains 365 days\n",
      "test set contains 366 days\n"
     ]
    }
   ],
   "source": [
    "train_set_full_ens, test_set_full_ens = get_train_test_sets(DATA_DIR, train_dates, test_dates,\n",
    "                                                            full_ensemble_t=True)"
   ]
  },
  {
   "cell_type": "code",
   "execution_count": 64,
   "metadata": {},
   "outputs": [
    {
     "data": {
      "text/plain": [
       "(180849, 50)"
      ]
     },
     "execution_count": 64,
     "metadata": {},
     "output_type": "execute_result"
    }
   ],
   "source": [
    "train_set_full_ens.features.shape"
   ]
  },
  {
   "cell_type": "code",
   "execution_count": 181,
   "metadata": {},
   "outputs": [],
   "source": [
    "model = build_cat_model(50, [50], bin_edges.shape[0]-1)"
   ]
  },
  {
   "cell_type": "code",
   "execution_count": 182,
   "metadata": {},
   "outputs": [
    {
     "name": "stdout",
     "output_type": "stream",
     "text": [
      "_________________________________________________________________\n",
      "Layer (type)                 Output Shape              Param #   \n",
      "=================================================================\n",
      "input_31 (InputLayer)        (None, 50)                0         \n",
      "_________________________________________________________________\n",
      "dense_49 (Dense)             (None, 50)                2550      \n",
      "_________________________________________________________________\n",
      "dense_50 (Dense)             (None, 130)               6630      \n",
      "=================================================================\n",
      "Total params: 9,180\n",
      "Trainable params: 9,180\n",
      "Non-trainable params: 0\n",
      "_________________________________________________________________\n"
     ]
    }
   ],
   "source": [
    "model.summary()"
   ]
  },
  {
   "cell_type": "code",
   "execution_count": 185,
   "metadata": {},
   "outputs": [],
   "source": [
    "model.compile(optimizer=Adam(0.0001), loss=approx_crps)"
   ]
  },
  {
   "cell_type": "code",
   "execution_count": 186,
   "metadata": {},
   "outputs": [
    {
     "name": "stdout",
     "output_type": "stream",
     "text": [
      "Train on 180849 samples, validate on 182218 samples\n",
      "Epoch 1/10\n",
      "180849/180849 [==============================] - 3s - loss: 1.1662 - val_loss: 1.1399\n",
      "Epoch 2/10\n",
      "180849/180849 [==============================] - 3s - loss: 1.1656 - val_loss: 1.1393\n",
      "Epoch 3/10\n",
      "180849/180849 [==============================] - 3s - loss: 1.1651 - val_loss: 1.1394\n",
      "Epoch 4/10\n",
      "180849/180849 [==============================] - 3s - loss: 1.1646 - val_loss: 1.1383\n",
      "Epoch 5/10\n",
      "180849/180849 [==============================] - 3s - loss: 1.1641 - val_loss: 1.1380\n",
      "Epoch 6/10\n",
      "180849/180849 [==============================] - 3s - loss: 1.1637 - val_loss: 1.1378\n",
      "Epoch 7/10\n",
      "180849/180849 [==============================] - 3s - loss: 1.1632 - val_loss: 1.1371\n",
      "Epoch 8/10\n",
      "180849/180849 [==============================] - 3s - loss: 1.1628 - val_loss: 1.1367\n",
      "Epoch 9/10\n",
      "180849/180849 [==============================] - 3s - loss: 1.1625 - val_loss: 1.1362\n",
      "Epoch 10/10\n",
      "180849/180849 [==============================] - 3s - loss: 1.1621 - val_loss: 1.1369\n"
     ]
    },
    {
     "data": {
      "text/plain": [
       "<keras.callbacks.History at 0x7fa48caabef0>"
      ]
     },
     "execution_count": 186,
     "metadata": {},
     "output_type": "execute_result"
    }
   ],
   "source": [
    "model.fit(train_set_full_ens.features, train_cat_targets_nearest, epochs=10, batch_size=1024,\n",
    "          validation_data=[test_set_full_ens.features, test_cat_targets_nearest])"
   ]
  },
  {
   "cell_type": "code",
   "execution_count": 187,
   "metadata": {
    "collapsed": true
   },
   "outputs": [],
   "source": [
    "preds = model.predict(test_set_full_ens.features)"
   ]
  },
  {
   "cell_type": "code",
   "execution_count": 188,
   "metadata": {},
   "outputs": [
    {
     "data": {
      "text/plain": [
       "1.1306173910191841"
      ]
     },
     "execution_count": 188,
     "metadata": {},
     "output_type": "execute_result"
    }
   ],
   "source": [
    "maybe_correct_cat_crps(preds, test_set.targets, bin_edges)"
   ]
  },
  {
   "cell_type": "code",
   "execution_count": 189,
   "metadata": {},
   "outputs": [
    {
     "data": {
      "image/png": "[encoded data removed]",
      "text/plain": [
       "<matplotlib.figure.Figure at 0x7fa48c986a90>"
      ]
     },
     "metadata": {},
     "output_type": "display_data"
    }
   ],
   "source": [
    "i = 10\n",
    "plt.bar(bin_edges[:-1] + 0.25, preds[i], width=0.5, alpha=0.8)\n",
    "plt.bar(bin_edges[:-1] + 0.25, test_cat_targets[i], width=0.5, zorder=0.1)\n",
    "plt.axvline(test_set.targets[i], c='r')\n",
    "plt.show()"
   ]
  },
  {
   "cell_type": "markdown",
   "metadata": {},
   "source": [
    "### With convolution"
   ]
  },
  {
   "cell_type": "code",
   "execution_count": 190,
   "metadata": {
    "collapsed": true
   },
   "outputs": [],
   "source": [
    "def build_cat_conv_model(hidden_nodes, feature_size, n_bins, maps):\n",
    "    features_in = Input(shape=(feature_size, 1))\n",
    "    conv = Conv1D(maps, feature_size)(features_in)\n",
    "    conv = Flatten()(conv)\n",
    "    x = Dense(hidden_nodes, activation='relu')(conv)\n",
    "    x = Dense(n_bins, activation='softmax')(x)\n",
    "    model = Model(inputs=features_in, outputs=x)\n",
    "    return model"
   ]
  },
  {
   "cell_type": "code",
   "execution_count": 200,
   "metadata": {
    "collapsed": true
   },
   "outputs": [],
   "source": [
    "model = build_cat_conv_model(50, 50, bin_edges.shape[0]-1, 10)"
   ]
  },
  {
   "cell_type": "code",
   "execution_count": 201,
   "metadata": {},
   "outputs": [
    {
     "name": "stdout",
     "output_type": "stream",
     "text": [
      "_________________________________________________________________\n",
      "Layer (type)                 Output Shape              Param #   \n",
      "=================================================================\n",
      "input_34 (InputLayer)        (None, 50, 1)             0         \n",
      "_________________________________________________________________\n",
      "conv1d_8 (Conv1D)            (None, 1, 10)             510       \n",
      "_________________________________________________________________\n",
      "flatten_13 (Flatten)         (None, 10)                0         \n",
      "_________________________________________________________________\n",
      "dense_55 (Dense)             (None, 50)                550       \n",
      "_________________________________________________________________\n",
      "dense_56 (Dense)             (None, 130)               6630      \n",
      "=================================================================\n",
      "Total params: 7,690\n",
      "Trainable params: 7,690\n",
      "Non-trainable params: 0\n",
      "_________________________________________________________________\n"
     ]
    }
   ],
   "source": [
    "model.summary()"
   ]
  },
  {
   "cell_type": "code",
   "execution_count": 204,
   "metadata": {
    "collapsed": true
   },
   "outputs": [],
   "source": [
    "model.compile(optimizer=Adam(0.0001), loss=approx_crps)"
   ]
  },
  {
   "cell_type": "code",
   "execution_count": 205,
   "metadata": {},
   "outputs": [
    {
     "name": "stdout",
     "output_type": "stream",
     "text": [
      "Train on 180849 samples, validate on 182218 samples\n",
      "Epoch 1/10\n",
      "180849/180849 [==============================] - 4s - loss: 1.1959 - val_loss: 1.1233\n",
      "Epoch 2/10\n",
      "180849/180849 [==============================] - 3s - loss: 1.1956 - val_loss: 1.1215\n",
      "Epoch 3/10\n",
      "180849/180849 [==============================] - 3s - loss: 1.1956 - val_loss: 1.1217\n",
      "Epoch 4/10\n",
      "180849/180849 [==============================] - 3s - loss: 1.1956 - val_loss: 1.1225\n",
      "Epoch 5/10\n",
      "180849/180849 [==============================] - 3s - loss: 1.1934 - val_loss: 1.1185\n",
      "Epoch 6/10\n",
      "180849/180849 [==============================] - 3s - loss: 1.1890 - val_loss: 1.1168\n",
      "Epoch 7/10\n",
      "180849/180849 [==============================] - 3s - loss: 1.1887 - val_loss: 1.1178\n",
      "Epoch 8/10\n",
      "180849/180849 [==============================] - 3s - loss: 1.1885 - val_loss: 1.1171\n",
      "Epoch 9/10\n",
      "180849/180849 [==============================] - 3s - loss: 1.1884 - val_loss: 1.1167\n",
      "Epoch 10/10\n",
      "180849/180849 [==============================] - 3s - loss: 1.1883 - val_loss: 1.1171\n"
     ]
    },
    {
     "data": {
      "text/plain": [
       "<keras.callbacks.History at 0x7fa47cdf3ac8>"
      ]
     },
     "execution_count": 205,
     "metadata": {},
     "output_type": "execute_result"
    }
   ],
   "source": [
    "model.fit(np.atleast_3d(train_set_full_ens.features), train_cat_targets_nearest, \n",
    "          epochs=10, batch_size=1024,\n",
    "          validation_data=[np.atleast_3d(test_set_full_ens.features), test_cat_targets_nearest])"
   ]
  },
  {
   "cell_type": "code",
   "execution_count": null,
   "metadata": {
    "collapsed": true
   },
   "outputs": [],
   "source": []
  },
  {
   "cell_type": "markdown",
   "metadata": {},
   "source": [
    "### Full ensemble with mean and std output"
   ]
  },
  {
   "cell_type": "code",
   "execution_count": 113,
   "metadata": {
    "collapsed": true
   },
   "outputs": [],
   "source": [
    "def build_hidden_model(hidden_nodes, feature_size=2):\n",
    "    inp = Input(shape=(feature_size,))\n",
    "    x = Dense(hidden_nodes, activation='relu')(inp)\n",
    "    x = Dense(2, activation='linear')(x)\n",
    "    return Model(inputs=inp, outputs=x)"
   ]
  },
  {
   "cell_type": "code",
   "execution_count": 114,
   "metadata": {},
   "outputs": [],
   "source": [
    "model = build_hidden_model(50, 50)\n",
    "model.compile(optimizer=Adam(0.01), loss=crps_cost_function)"
   ]
  },
  {
   "cell_type": "code",
   "execution_count": 115,
   "metadata": {},
   "outputs": [
    {
     "name": "stdout",
     "output_type": "stream",
     "text": [
      "Train on 180849 samples, validate on 182218 samples\n",
      "Epoch 1/5\n",
      "180849/180849 [==============================] - 1s - loss: 1.4411 - val_loss: 1.0460\n",
      "Epoch 2/5\n",
      "180849/180849 [==============================] - 1s - loss: 1.0766 - val_loss: 1.0239\n",
      "Epoch 3/5\n",
      "180849/180849 [==============================] - 1s - loss: 1.0731 - val_loss: 1.0242\n",
      "Epoch 4/5\n",
      "180849/180849 [==============================] - 1s - loss: 1.0711 - val_loss: 1.0422\n",
      "Epoch 5/5\n",
      "180849/180849 [==============================] - 1s - loss: 1.0709 - val_loss: 1.0318\n"
     ]
    },
    {
     "data": {
      "text/plain": [
       "<keras.callbacks.History at 0x7fa4a4530978>"
      ]
     },
     "execution_count": 115,
     "metadata": {},
     "output_type": "execute_result"
    }
   ],
   "source": [
    "model.fit(train_set_full_ens.features, train_set_full_ens.targets, epochs=5, \n",
    "                 batch_size=1024,\n",
    "                 validation_data=[test_set_full_ens.features, test_set_full_ens.targets])"
   ]
  },
  {
   "cell_type": "code",
   "execution_count": 116,
   "metadata": {
    "collapsed": true
   },
   "outputs": [],
   "source": [
    "preds = model.predict(test_set_full_ens.features)"
   ]
  },
  {
   "cell_type": "code",
   "execution_count": 118,
   "metadata": {},
   "outputs": [
    {
     "data": {
      "text/plain": [
       "(array([ 2.14922285, -1.70540333], dtype=float32), -0.60000002)"
      ]
     },
     "execution_count": 118,
     "metadata": {},
     "output_type": "execute_result"
    }
   ],
   "source": [
    "preds[10], test_set_full_ens.targets[10]"
   ]
  },
  {
   "cell_type": "markdown",
   "metadata": {},
   "source": [
    "## With station embeddings"
   ]
  },
  {
   "cell_type": "code",
   "execution_count": 124,
   "metadata": {
    "collapsed": true
   },
   "outputs": [],
   "source": [
    "def build_cat_emb_model(hidden_nodes, emb_size, max_id, feature_size, n_bins):\n",
    "    features_in = Input(shape=(feature_size,))\n",
    "    id_in = Input(shape=(1,))\n",
    "    emb = Embedding(max_id + 1, emb_size)(id_in)\n",
    "    emb = Flatten()(emb)\n",
    "    x = Concatenate()([features_in, emb])\n",
    "    x = Dense(hidden_nodes, activation='relu')(x)\n",
    "    x = Dense(n_bins, activation='softmax')(x)\n",
    "    model = Model(inputs=[features_in, id_in], outputs=x)\n",
    "    return model"
   ]
  },
  {
   "cell_type": "code",
   "execution_count": 125,
   "metadata": {},
   "outputs": [
    {
     "data": {
      "text/plain": [
       "536"
      ]
     },
     "execution_count": 125,
     "metadata": {},
     "output_type": "execute_result"
    }
   ],
   "source": [
    "emb_size = 5\n",
    "max_id = int(np.max([train_set.cont_ids.max(), test_set.cont_ids.max()]))\n",
    "max_id"
   ]
  },
  {
   "cell_type": "code",
   "execution_count": 135,
   "metadata": {
    "collapsed": true
   },
   "outputs": [],
   "source": [
    "model = build_cat_emb_model(100, emb_size, max_id, 2, bin_edges.shape[0]-1)"
   ]
  },
  {
   "cell_type": "code",
   "execution_count": 147,
   "metadata": {
    "collapsed": true
   },
   "outputs": [],
   "source": [
    "model.compile(optimizer=Adam(0.00001), loss=approx_crps)"
   ]
  },
  {
   "cell_type": "code",
   "execution_count": 148,
   "metadata": {},
   "outputs": [
    {
     "name": "stdout",
     "output_type": "stream",
     "text": [
      "Train on 180849 samples, validate on 182218 samples\n",
      "Epoch 1/10\n",
      "180849/180849 [==============================] - 3s - loss: 0.9701 - val_loss: 0.9442\n",
      "Epoch 2/10\n",
      "180849/180849 [==============================] - 2s - loss: 0.9701 - val_loss: 0.9441\n",
      "Epoch 3/10\n",
      "180849/180849 [==============================] - 2s - loss: 0.9701 - val_loss: 0.9440\n",
      "Epoch 4/10\n",
      "180849/180849 [==============================] - 2s - loss: 0.9700 - val_loss: 0.9440\n",
      "Epoch 5/10\n",
      "180849/180849 [==============================] - 2s - loss: 0.9700 - val_loss: 0.9439\n",
      "Epoch 6/10\n",
      "180849/180849 [==============================] - 2s - loss: 0.9700 - val_loss: 0.9439\n",
      "Epoch 7/10\n",
      "180849/180849 [==============================] - 2s - loss: 0.9700 - val_loss: 0.9438\n",
      "Epoch 8/10\n",
      "180849/180849 [==============================] - 2s - loss: 0.9700 - val_loss: 0.9438\n",
      "Epoch 9/10\n",
      "180849/180849 [==============================] - 2s - loss: 0.9700 - val_loss: 0.9437\n",
      "Epoch 10/10\n",
      "180849/180849 [==============================] - 2s - loss: 0.9700 - val_loss: 0.9437\n"
     ]
    },
    {
     "data": {
      "text/plain": [
       "<keras.callbacks.History at 0x7fa49d4cff28>"
      ]
     },
     "execution_count": 148,
     "metadata": {},
     "output_type": "execute_result"
    }
   ],
   "source": [
    "model.fit([train_set.features, train_set.cont_ids], train_cat_targets_nearest, \n",
    "              epochs=10, batch_size=4096, \n",
    "              validation_data=[[test_set.features, test_set.cont_ids], test_cat_targets_nearest])"
   ]
  },
  {
   "cell_type": "code",
   "execution_count": 149,
   "metadata": {
    "collapsed": true
   },
   "outputs": [],
   "source": [
    "preds = model.predict([test_set.features, test_set.cont_ids])"
   ]
  },
  {
   "cell_type": "code",
   "execution_count": 150,
   "metadata": {},
   "outputs": [
    {
     "data": {
      "text/plain": [
       "0.95332045387173248"
      ]
     },
     "execution_count": 150,
     "metadata": {},
     "output_type": "execute_result"
    }
   ],
   "source": [
    "maybe_correct_cat_crps(preds, test_set.targets, bin_edges)"
   ]
  },
  {
   "cell_type": "code",
   "execution_count": 151,
   "metadata": {},
   "outputs": [
    {
     "data": {
      "image/png": "[encoded data removed]",
      "text/plain": [
       "<matplotlib.figure.Figure at 0x7fa49d53d4e0>"
      ]
     },
     "metadata": {},
     "output_type": "display_data"
    }
   ],
   "source": [
    "i = 10\n",
    "plt.bar(bin_edges[:-1] + 0.25, preds[i], width=0.5, alpha=0.8)\n",
    "plt.bar(bin_edges[:-1] + 0.25, test_cat_targets[i], width=0.5, zorder=0.1)\n",
    "plt.axvline(test_set.targets[i], c='r')\n",
    "plt.show()"
   ]
  },
  {
   "cell_type": "markdown",
   "metadata": {},
   "source": [
    "### testing a convolution layer"
   ]
  },
  {
   "cell_type": "code",
   "execution_count": 153,
   "metadata": {},
   "outputs": [],
   "source": [
    "from keras.layers import Conv1D"
   ]
  },
  {
   "cell_type": "code",
   "execution_count": 158,
   "metadata": {
    "collapsed": true
   },
   "outputs": [],
   "source": [
    "def build_cat_emb_conv_model(hidden_nodes, emb_size, max_id, feature_size, n_bins, maps):\n",
    "    features_in = Input(shape=(feature_size, 1))\n",
    "    id_in = Input(shape=(1,))\n",
    "    emb = Embedding(max_id + 1, emb_size)(id_in)\n",
    "    emb = Flatten()(emb)\n",
    "    conv = Conv1D(maps, feature_size)(features_in)\n",
    "    conv = Flatten()(conv)\n",
    "    x = Concatenate()([conv, emb])\n",
    "    x = Dense(hidden_nodes, activation='relu')(x)\n",
    "    x = Dense(n_bins, activation='softmax')(x)\n",
    "    model = Model(inputs=[features_in, id_in], outputs=x)\n",
    "    return model"
   ]
  },
  {
   "cell_type": "code",
   "execution_count": 161,
   "metadata": {},
   "outputs": [],
   "source": [
    "model = build_cat_emb_conv_model(100, emb_size, max_id, 50, bin_edges.shape[0]-1, 2)"
   ]
  },
  {
   "cell_type": "code",
   "execution_count": 162,
   "metadata": {},
   "outputs": [
    {
     "name": "stdout",
     "output_type": "stream",
     "text": [
      "____________________________________________________________________________________________________\n",
      "Layer (type)                     Output Shape          Param #     Connected to                     \n",
      "====================================================================================================\n",
      "input_27 (InputLayer)            (None, 50, 1)         0                                            \n",
      "____________________________________________________________________________________________________\n",
      "input_28 (InputLayer)            (None, 1)             0                                            \n",
      "____________________________________________________________________________________________________\n",
      "conv1d_4 (Conv1D)                (None, 1, 2)          102         input_27[0][0]                   \n",
      "____________________________________________________________________________________________________\n",
      "embedding_7 (Embedding)          (None, 1, 5)          2685        input_28[0][0]                   \n",
      "____________________________________________________________________________________________________\n",
      "flatten_9 (Flatten)              (None, 2)             0           conv1d_4[0][0]                   \n",
      "____________________________________________________________________________________________________\n",
      "flatten_8 (Flatten)              (None, 5)             0           embedding_7[0][0]                \n",
      "____________________________________________________________________________________________________\n",
      "concatenate_5 (Concatenate)      (None, 7)             0           flatten_9[0][0]                  \n",
      "                                                                   flatten_8[0][0]                  \n",
      "____________________________________________________________________________________________________\n",
      "dense_43 (Dense)                 (None, 100)           800         concatenate_5[0][0]              \n",
      "____________________________________________________________________________________________________\n",
      "dense_44 (Dense)                 (None, 130)           13130       dense_43[0][0]                   \n",
      "====================================================================================================\n",
      "Total params: 16,717\n",
      "Trainable params: 16,717\n",
      "Non-trainable params: 0\n",
      "____________________________________________________________________________________________________\n"
     ]
    }
   ],
   "source": [
    "model.summary()"
   ]
  },
  {
   "cell_type": "code",
   "execution_count": 166,
   "metadata": {
    "collapsed": true
   },
   "outputs": [],
   "source": [
    "model.compile(optimizer=Adam(0.0001), loss=approx_crps)"
   ]
  },
  {
   "cell_type": "code",
   "execution_count": 167,
   "metadata": {},
   "outputs": [
    {
     "name": "stdout",
     "output_type": "stream",
     "text": [
      "Train on 180849 samples, validate on 182218 samples\n",
      "Epoch 1/10\n",
      "180849/180849 [==============================] - 3s - loss: 1.1204 - val_loss: 1.0730\n",
      "Epoch 2/10\n",
      "180849/180849 [==============================] - 2s - loss: 1.1179 - val_loss: 1.0703\n",
      "Epoch 3/10\n",
      "180849/180849 [==============================] - 2s - loss: 1.1158 - val_loss: 1.0683\n",
      "Epoch 4/10\n",
      "180849/180849 [==============================] - 2s - loss: 1.1138 - val_loss: 1.0658\n",
      "Epoch 5/10\n",
      "180849/180849 [==============================] - 2s - loss: 1.1119 - val_loss: 1.0634\n",
      "Epoch 6/10\n",
      "180849/180849 [==============================] - 2s - loss: 1.1102 - val_loss: 1.0619\n",
      "Epoch 7/10\n",
      "180849/180849 [==============================] - 2s - loss: 1.1086 - val_loss: 1.0601\n",
      "Epoch 8/10\n",
      "180849/180849 [==============================] - 2s - loss: 1.1071 - val_loss: 1.0581\n",
      "Epoch 9/10\n",
      "180849/180849 [==============================] - 2s - loss: 1.1057 - val_loss: 1.0567\n",
      "Epoch 10/10\n",
      "180849/180849 [==============================] - 2s - loss: 1.1044 - val_loss: 1.0546\n"
     ]
    },
    {
     "data": {
      "text/plain": [
       "<keras.callbacks.History at 0x7fa4940734e0>"
      ]
     },
     "execution_count": 167,
     "metadata": {},
     "output_type": "execute_result"
    }
   ],
   "source": [
    "model.fit([np.atleast_3d(train_set_full_ens.features), train_set_full_ens.cont_ids], \n",
    "          train_cat_targets_nearest, \n",
    "          epochs=10, batch_size=4096, \n",
    "          validation_data=[[np.atleast_3d(test_set_full_ens.features), test_set_full_ens.cont_ids], \n",
    "                           test_cat_targets_nearest])"
   ]
  },
  {
   "cell_type": "markdown",
   "metadata": {},
   "source": [
    "## Auxiliary data"
   ]
  },
  {
   "cell_type": "markdown",
   "metadata": {},
   "source": [
    "### Mean and std"
   ]
  },
  {
   "cell_type": "code",
   "execution_count": 208,
   "metadata": {},
   "outputs": [],
   "source": [
    "aux_dict = OrderedDict()\n",
    "aux_dict['data_aux_geo_interpolated.nc'] = ['orog', \n",
    "                                            'station_alt', \n",
    "                                            'station_lat', \n",
    "                                            'station_lon']\n",
    "aux_dict['data_aux_pl500_interpolated_00UTC.nc'] = ['u_pl500_fc',\n",
    "                                                    'v_pl500_fc',\n",
    "                                                    'gh_pl500_fc']\n",
    "aux_dict['data_aux_pl850_interpolated_00UTC.nc'] = ['u_pl850_fc',\n",
    "                                                    'v_pl850_fc',\n",
    "                                                    'q_pl850_fc']\n",
    "aux_dict['data_aux_surface_interpolated_00UTC.nc'] = ['cape_fc',\n",
    "                                                      'sp_fc',\n",
    "                                                      'tcc_fc']"
   ]
  },
  {
   "cell_type": "code",
   "execution_count": 212,
   "metadata": {},
   "outputs": [
    {
     "name": "stdout",
     "output_type": "stream",
     "text": [
      "train set contains 365 days\n",
      "test set contains 366 days\n"
     ]
    }
   ],
   "source": [
    "train_set_aux, test_set_aux = get_train_test_sets(DATA_DIR, train_dates, test_dates,\n",
    "                                                  aux_dict=aux_dict)"
   ]
  },
  {
   "cell_type": "code",
   "execution_count": 214,
   "metadata": {},
   "outputs": [],
   "source": [
    "model = build_cat_model(train_set_aux.features.shape[1], [50], bin_edges.shape[0]-1)"
   ]
  },
  {
   "cell_type": "code",
   "execution_count": 215,
   "metadata": {},
   "outputs": [
    {
     "name": "stdout",
     "output_type": "stream",
     "text": [
      "_________________________________________________________________\n",
      "Layer (type)                 Output Shape              Param #   \n",
      "=================================================================\n",
      "input_36 (InputLayer)        (None, 24)                0         \n",
      "_________________________________________________________________\n",
      "dense_57 (Dense)             (None, 50)                1250      \n",
      "_________________________________________________________________\n",
      "dense_58 (Dense)             (None, 130)               6630      \n",
      "=================================================================\n",
      "Total params: 7,880\n",
      "Trainable params: 7,880\n",
      "Non-trainable params: 0\n",
      "_________________________________________________________________\n"
     ]
    }
   ],
   "source": [
    "model.summary()"
   ]
  },
  {
   "cell_type": "code",
   "execution_count": 223,
   "metadata": {
    "collapsed": true
   },
   "outputs": [],
   "source": [
    "model.compile(optimizer=Adam(0.0001), loss=approx_crps)"
   ]
  },
  {
   "cell_type": "code",
   "execution_count": 224,
   "metadata": {},
   "outputs": [
    {
     "name": "stdout",
     "output_type": "stream",
     "text": [
      "Train on 180849 samples, validate on 182218 samples\n",
      "Epoch 1/5\n",
      "180849/180849 [==============================] - 3s - loss: 1.0580 - val_loss: 1.0450\n",
      "Epoch 2/5\n",
      "180849/180849 [==============================] - 3s - loss: 1.0578 - val_loss: 1.0457\n",
      "Epoch 3/5\n",
      "180849/180849 [==============================] - 3s - loss: 1.0576 - val_loss: 1.0456\n",
      "Epoch 4/5\n",
      "180849/180849 [==============================] - 3s - loss: 1.0575 - val_loss: 1.0435\n",
      "Epoch 5/5\n",
      "180849/180849 [==============================] - 3s - loss: 1.0573 - val_loss: 1.0438\n"
     ]
    },
    {
     "data": {
      "text/plain": [
       "<keras.callbacks.History at 0x7fa47c186e10>"
      ]
     },
     "execution_count": 224,
     "metadata": {},
     "output_type": "execute_result"
    }
   ],
   "source": [
    "model.fit(train_set_aux.features, train_cat_targets_nearest, epochs=5, batch_size=1024,\n",
    "          validation_data=[test_set_aux.features, test_cat_targets_nearest])"
   ]
  },
  {
   "cell_type": "code",
   "execution_count": 267,
   "metadata": {
    "collapsed": true
   },
   "outputs": [],
   "source": [
    "model = build_cat_emb_model(100, emb_size, max_id, train_set_aux.features.shape[1], \n",
    "                            bin_edges.shape[0]-1)"
   ]
  },
  {
   "cell_type": "code",
   "execution_count": 268,
   "metadata": {},
   "outputs": [
    {
     "name": "stdout",
     "output_type": "stream",
     "text": [
      "____________________________________________________________________________________________________\n",
      "Layer (type)                     Output Shape          Param #     Connected to                     \n",
      "====================================================================================================\n",
      "input_44 (InputLayer)            (None, 1)             0                                            \n",
      "____________________________________________________________________________________________________\n",
      "embedding_10 (Embedding)         (None, 1, 5)          2685        input_44[0][0]                   \n",
      "____________________________________________________________________________________________________\n",
      "input_43 (InputLayer)            (None, 24)            0                                            \n",
      "____________________________________________________________________________________________________\n",
      "flatten_16 (Flatten)             (None, 5)             0           embedding_10[0][0]               \n",
      "____________________________________________________________________________________________________\n",
      "concatenate_8 (Concatenate)      (None, 29)            0           input_43[0][0]                   \n",
      "                                                                   flatten_16[0][0]                 \n",
      "____________________________________________________________________________________________________\n",
      "dense_67 (Dense)                 (None, 100)           3000        concatenate_8[0][0]              \n",
      "____________________________________________________________________________________________________\n",
      "dense_68 (Dense)                 (None, 130)           13130       dense_67[0][0]                   \n",
      "====================================================================================================\n",
      "Total params: 18,815\n",
      "Trainable params: 18,815\n",
      "Non-trainable params: 0\n",
      "____________________________________________________________________________________________________\n"
     ]
    }
   ],
   "source": [
    "model.summary()"
   ]
  },
  {
   "cell_type": "code",
   "execution_count": 274,
   "metadata": {
    "collapsed": true
   },
   "outputs": [],
   "source": [
    "model.compile(optimizer=Adam(0.00001), loss=approx_crps)"
   ]
  },
  {
   "cell_type": "code",
   "execution_count": 275,
   "metadata": {},
   "outputs": [
    {
     "name": "stdout",
     "output_type": "stream",
     "text": [
      "Train on 180849 samples, validate on 182218 samples\n",
      "Epoch 1/10\n",
      "180849/180849 [==============================] - 3s - loss: 0.9672 - val_loss: 0.9603\n",
      "Epoch 2/10\n",
      "180849/180849 [==============================] - 2s - loss: 0.9665 - val_loss: 0.9605\n",
      "Epoch 3/10\n",
      "180849/180849 [==============================] - 2s - loss: 0.9662 - val_loss: 0.9607\n",
      "Epoch 4/10\n",
      "180849/180849 [==============================] - 2s - loss: 0.9661 - val_loss: 0.9608\n",
      "Epoch 5/10\n",
      "180849/180849 [==============================] - 2s - loss: 0.9661 - val_loss: 0.9610\n",
      "Epoch 6/10\n",
      "180849/180849 [==============================] - 2s - loss: 0.9660 - val_loss: 0.9610\n",
      "Epoch 7/10\n",
      "180849/180849 [==============================] - 2s - loss: 0.9660 - val_loss: 0.9611\n",
      "Epoch 8/10\n",
      "180849/180849 [==============================] - 2s - loss: 0.9660 - val_loss: 0.9610\n",
      "Epoch 9/10\n",
      "180849/180849 [==============================] - 2s - loss: 0.9659 - val_loss: 0.9609\n",
      "Epoch 10/10\n",
      "180849/180849 [==============================] - 2s - loss: 0.9659 - val_loss: 0.9609\n"
     ]
    },
    {
     "data": {
      "text/plain": [
       "<keras.callbacks.History at 0x7fa46f6fbcf8>"
      ]
     },
     "execution_count": 275,
     "metadata": {},
     "output_type": "execute_result"
    }
   ],
   "source": [
    "model.fit([train_set_aux.features, train_set_aux.cont_ids], train_cat_targets_nearest, \n",
    "              epochs=10, batch_size=4096, \n",
    "              validation_data=[[test_set_aux.features, test_set_aux.cont_ids], \n",
    "                               test_cat_targets_nearest])"
   ]
  },
  {
   "cell_type": "markdown",
   "metadata": {},
   "source": [
    "### Full ensemble"
   ]
  },
  {
   "cell_type": "code",
   "execution_count": 226,
   "metadata": {},
   "outputs": [
    {
     "name": "stdout",
     "output_type": "stream",
     "text": [
      "train set contains 365 days\n",
      "test set contains 366 days\n"
     ]
    }
   ],
   "source": [
    "train_set_aux_ens, test_set_aux_ens = get_train_test_sets(DATA_DIR, train_dates, test_dates,\n",
    "                                                          aux_dict=aux_dict, \n",
    "                                                          full_ensemble_t=True)"
   ]
  },
  {
   "cell_type": "code",
   "execution_count": 276,
   "metadata": {},
   "outputs": [
    {
     "data": {
      "text/plain": [
       "(180849, 72)"
      ]
     },
     "execution_count": 276,
     "metadata": {},
     "output_type": "execute_result"
    }
   ],
   "source": [
    "train_set_aux_ens.features.shape"
   ]
  },
  {
   "cell_type": "code",
   "execution_count": 280,
   "metadata": {
    "collapsed": true
   },
   "outputs": [],
   "source": [
    "model = build_cat_emb_model(100, emb_size, max_id, train_set_aux_ens.features.shape[1], \n",
    "                            bin_edges.shape[0]-1)"
   ]
  },
  {
   "cell_type": "code",
   "execution_count": 285,
   "metadata": {
    "collapsed": true
   },
   "outputs": [],
   "source": [
    "model.compile(optimizer=Adam(0.0001), loss=approx_crps)"
   ]
  },
  {
   "cell_type": "code",
   "execution_count": 286,
   "metadata": {},
   "outputs": [
    {
     "name": "stdout",
     "output_type": "stream",
     "text": [
      "Train on 180849 samples, validate on 182218 samples\n",
      "Epoch 1/10\n",
      "180849/180849 [==============================] - 3s - loss: 0.9205 - val_loss: 0.9256\n",
      "Epoch 2/10\n",
      "180849/180849 [==============================] - 2s - loss: 0.9202 - val_loss: 0.9257\n",
      "Epoch 3/10\n",
      "180849/180849 [==============================] - 2s - loss: 0.9201 - val_loss: 0.9260\n",
      "Epoch 4/10\n",
      "180849/180849 [==============================] - 2s - loss: 0.9199 - val_loss: 0.9251\n",
      "Epoch 5/10\n",
      "180849/180849 [==============================] - 2s - loss: 0.9197 - val_loss: 0.9258\n",
      "Epoch 6/10\n",
      "180849/180849 [==============================] - 2s - loss: 0.9195 - val_loss: 0.9262\n",
      "Epoch 7/10\n",
      "180849/180849 [==============================] - 2s - loss: 0.9194 - val_loss: 0.9250\n",
      "Epoch 8/10\n",
      "180849/180849 [==============================] - 2s - loss: 0.9193 - val_loss: 0.9260\n",
      "Epoch 9/10\n",
      "180849/180849 [==============================] - 2s - loss: 0.9191 - val_loss: 0.9249\n",
      "Epoch 10/10\n",
      "180849/180849 [==============================] - 2s - loss: 0.9190 - val_loss: 0.9256\n"
     ]
    },
    {
     "data": {
      "text/plain": [
       "<keras.callbacks.History at 0x7fa46d45cc18>"
      ]
     },
     "execution_count": 286,
     "metadata": {},
     "output_type": "execute_result"
    }
   ],
   "source": [
    "model.fit([train_set_aux_ens.features, train_set_aux_ens.cont_ids], train_cat_targets_nearest, \n",
    "              epochs=10, batch_size=4096, \n",
    "              validation_data=[[test_set_aux_ens.features, test_set_aux_ens.cont_ids], \n",
    "                               test_cat_targets_nearest])"
   ]
  },
  {
   "cell_type": "code",
   "execution_count": 287,
   "metadata": {
    "collapsed": true
   },
   "outputs": [],
   "source": [
    "preds = model.predict([test_set_aux_ens.features, test_set_aux_ens.cont_ids])"
   ]
  },
  {
   "cell_type": "code",
   "execution_count": 288,
   "metadata": {},
   "outputs": [
    {
     "data": {
      "text/plain": [
       "0.92655730152299154"
      ]
     },
     "execution_count": 288,
     "metadata": {},
     "output_type": "execute_result"
    }
   ],
   "source": [
    "maybe_correct_cat_crps(preds, test_set_aux_ens.targets, bin_edges)"
   ]
  },
  {
   "cell_type": "code",
   "execution_count": null,
   "metadata": {
    "collapsed": true
   },
   "outputs": [],
   "source": []
  }
 ],
 "metadata": {
  "kernelspec": {
   "display_name": "Python 3",
   "language": "python",
   "name": "python3"
  },
  "toc": {
   "nav_menu": {},
   "number_sections": true,
   "sideBar": true,
   "skip_h1_title": true,
   "toc_cell": true,
   "toc_position": {},
   "toc_section_display": "block",
   "toc_window_display": false
  }
 },
 "nbformat": 4,
 "nbformat_minor": 2
}
