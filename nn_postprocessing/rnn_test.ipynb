{
 "cells": [
  {
   "cell_type": "markdown",
   "metadata": {
    "toc": "true"
   },
   "source": [
    " # Table of Contents\n",
    "<div class=\"toc\" style=\"margin-top: 1em;\"><ul class=\"toc-item\" id=\"toc-level0\"><li><span><a href=\"http://localhost:8888/notebooks/rnn_test.ipynb#Set-up-data\" data-toc-modified-id=\"Set-up-data-1\"><span class=\"toc-item-num\">1&nbsp;&nbsp;</span>Set up data</a></span></li><li><span><a href=\"http://localhost:8888/notebooks/rnn_test.ipynb#Build-model\" data-toc-modified-id=\"Build-model-2\"><span class=\"toc-item-num\">2&nbsp;&nbsp;</span>Build model</a></span></li></ul></div>"
   ]
  },
  {
   "cell_type": "code",
   "execution_count": 102,
   "metadata": {},
   "outputs": [],
   "source": [
    "# Imports\n",
    "from importlib import reload\n",
    "import crps_loss; reload(crps_loss)\n",
    "from crps_loss import crps_cost_function, crps_cost_function_seq\n",
    "import utils; reload(utils)\n",
    "from utils import *\n",
    "import matplotlib.pyplot as plt\n",
    "%matplotlib inline\n",
    "\n",
    "import keras\n",
    "from keras.layers import Input, Dense, merge, Embedding, Flatten, Dropout, \\\n",
    "    SimpleRNN, LSTM, TimeDistributed, GRU\n",
    "from keras.layers.merge import Concatenate\n",
    "from keras.models import Model, Sequential\n",
    "import keras.backend as K\n",
    "from keras.callbacks import EarlyStopping\n",
    "from keras.optimizers import SGD, Adam"
   ]
  },
  {
   "cell_type": "code",
   "execution_count": 6,
   "metadata": {},
   "outputs": [
    {
     "data": {
      "text/plain": [
       "'tensorflow'"
      ]
     },
     "execution_count": 6,
     "metadata": {},
     "output_type": "execute_result"
    }
   ],
   "source": [
    "keras.backend.backend()"
   ]
  },
  {
   "cell_type": "code",
   "execution_count": 7,
   "metadata": {
    "collapsed": true
   },
   "outputs": [],
   "source": [
    "# Basic setup\n",
    "DATA_DIR = '/Volumes/STICK/data/ppnn_data/'  # Mac\n",
    "# DATA_DIR = '/project/meteo/w2w/C7/ppnn_data/'   # LMU\n",
    "results_dir = '../results/'\n",
    "window_size = 25   # Days in rolling window\n",
    "fclt = 48   # Forecast lead time in hours"
   ]
  },
  {
   "cell_type": "markdown",
   "metadata": {},
   "source": [
    "## Set up data"
   ]
  },
  {
   "cell_type": "code",
   "execution_count": 8,
   "metadata": {},
   "outputs": [
    {
     "name": "stdout",
     "output_type": "stream",
     "text": [
      "train set contains 365 days\n",
      "test set contains 366 days\n"
     ]
    }
   ],
   "source": [
    "\n",
    "train_dates = ['2015-01-01', '2016-01-01']\n",
    "test_dates =  ['2016-01-01', '2017-01-01']\n",
    "train_set, test_set = get_train_test_sets(DATA_DIR, train_dates, test_dates)"
   ]
  },
  {
   "cell_type": "code",
   "execution_count": 9,
   "metadata": {},
   "outputs": [
    {
     "data": {
      "text/plain": [
       "(180849, 2)"
      ]
     },
     "execution_count": 9,
     "metadata": {},
     "output_type": "execute_result"
    }
   ],
   "source": [
    "train_set.features.shape"
   ]
  },
  {
   "cell_type": "code",
   "execution_count": 10,
   "metadata": {
    "collapsed": true
   },
   "outputs": [],
   "source": [
    "targets, features, dates, station_id, feature_names = load_raw_data(DATA_DIR)"
   ]
  },
  {
   "cell_type": "code",
   "execution_count": 11,
   "metadata": {},
   "outputs": [
    {
     "data": {
      "text/plain": [
       "((3653, 537), (2, 3653, 537))"
      ]
     },
     "execution_count": 11,
     "metadata": {},
     "output_type": "execute_result"
    }
   ],
   "source": [
    "targets.shape, features.shape"
   ]
  },
  {
   "cell_type": "code",
   "execution_count": 12,
   "metadata": {
    "collapsed": true
   },
   "outputs": [],
   "source": [
    "train_dates_idxs = [return_date_idx(dates, train_dates[0]),\n",
    "                            return_date_idx(dates, train_dates[1])]\n",
    "test_dates_idxs = [return_date_idx(dates, test_dates[0]),\n",
    "                           return_date_idx(dates, test_dates[1])]"
   ]
  },
  {
   "cell_type": "code",
   "execution_count": 13,
   "metadata": {},
   "outputs": [
    {
     "data": {
      "text/plain": [
       "[2920, 3285]"
      ]
     },
     "execution_count": 13,
     "metadata": {},
     "output_type": "execute_result"
    }
   ],
   "source": [
    "train_dates_idxs"
   ]
  },
  {
   "cell_type": "code",
   "execution_count": null,
   "metadata": {
    "collapsed": true
   },
   "outputs": [],
   "source": []
  },
  {
   "cell_type": "code",
   "execution_count": 60,
   "metadata": {
    "collapsed": true
   },
   "outputs": [],
   "source": [
    "x_train = features[:, train_dates_idxs[0]:train_dates_idxs[1]]\n",
    "y_train = targets[train_dates_idxs[0]:train_dates_idxs[1]]"
   ]
  },
  {
   "cell_type": "code",
   "execution_count": 61,
   "metadata": {},
   "outputs": [
    {
     "data": {
      "text/plain": [
       "((2, 365, 537), (365, 537))"
      ]
     },
     "execution_count": 61,
     "metadata": {},
     "output_type": "execute_result"
    }
   ],
   "source": [
    "x_train.shape, y_train.shape"
   ]
  },
  {
   "cell_type": "code",
   "execution_count": 62,
   "metadata": {
    "collapsed": true
   },
   "outputs": [],
   "source": [
    "x_test = features[:, test_dates_idxs[0]:test_dates_idxs[1]]\n",
    "y_test = targets[test_dates_idxs[0]:test_dates_idxs[1]]"
   ]
  },
  {
   "cell_type": "code",
   "execution_count": 63,
   "metadata": {},
   "outputs": [
    {
     "data": {
      "text/plain": [
       "((2, 366, 537), (366, 537))"
      ]
     },
     "execution_count": 63,
     "metadata": {},
     "output_type": "execute_result"
    }
   ],
   "source": [
    "x_test.shape, y_test.shape"
   ]
  },
  {
   "cell_type": "code",
   "execution_count": 67,
   "metadata": {
    "collapsed": true
   },
   "outputs": [],
   "source": [
    "def prep_seq_data(x, y, seq_len):\n",
    "    # Stack sequences [seq, feature, day, station]\n",
    "    x_seq = np.stack([x[:, i:-(seq_len-i)] for i in range(seq_len)])\n",
    "    y_seq = np.stack([y[i:-(seq_len-i)] for i in range(1, seq_len)] + [y[seq_len:]])\n",
    "    \n",
    "    # Ravel arrays [seq, feature, instance]\n",
    "    x_seq = np.reshape(x_seq, (seq_len, 2, -1))\n",
    "    y_seq = np.reshape(y_seq, (seq_len, -1))\n",
    "    \n",
    "    # Roll arrays[sample, time step, feature]\n",
    "    x_seq = np.rollaxis(x_seq, 2, 0)\n",
    "    y_seq = np.rollaxis(y_seq, 1, 0)\n",
    "    y_seq = np.atleast_3d(y_seq)\n",
    "    \n",
    "    # Remove nans\n",
    "    mask = np.isfinite(np.sum(y_seq, axis=(1,2)))\n",
    "    x_seq = x_seq[mask]\n",
    "    y_seq = y_seq[mask]\n",
    "    \n",
    "    return x_seq, y_seq"
   ]
  },
  {
   "cell_type": "code",
   "execution_count": 68,
   "metadata": {
    "collapsed": true
   },
   "outputs": [],
   "source": [
    "# Reshape them\n",
    "seq_len = 5"
   ]
  },
  {
   "cell_type": "code",
   "execution_count": 69,
   "metadata": {
    "collapsed": true
   },
   "outputs": [],
   "source": [
    "x_seq_train, y_seq_train = prep_seq_data(x_train, y_train, seq_len)"
   ]
  },
  {
   "cell_type": "code",
   "execution_count": 70,
   "metadata": {},
   "outputs": [],
   "source": [
    "x_seq_test, y_seq_test = prep_seq_data(x_test, y_test, seq_len)"
   ]
  },
  {
   "cell_type": "code",
   "execution_count": 71,
   "metadata": {},
   "outputs": [
    {
     "data": {
      "text/plain": [
       "((177473, 5, 2), (177473, 5, 1))"
      ]
     },
     "execution_count": 71,
     "metadata": {},
     "output_type": "execute_result"
    }
   ],
   "source": [
    "x_seq_train.shape, y_seq_train.shape"
   ]
  },
  {
   "cell_type": "markdown",
   "metadata": {},
   "source": [
    "## Build model"
   ]
  },
  {
   "cell_type": "code",
   "execution_count": 81,
   "metadata": {
    "collapsed": true
   },
   "outputs": [],
   "source": [
    "batch_size = 64\n",
    "hidden_nodes = 100"
   ]
  },
  {
   "cell_type": "code",
   "execution_count": 82,
   "metadata": {},
   "outputs": [],
   "source": [
    "inp = Input(shape=(seq_len, 2, )) # time step, feature\n",
    "x = LSTM(hidden_nodes, return_sequences=True)(inp)\n",
    "x = TimeDistributed(Dense(2, activation='linear'))(x)\n",
    "rnn_model = Model(inputs=inp, outputs=x)"
   ]
  },
  {
   "cell_type": "code",
   "execution_count": 83,
   "metadata": {},
   "outputs": [
    {
     "name": "stdout",
     "output_type": "stream",
     "text": [
      "_________________________________________________________________\n",
      "Layer (type)                 Output Shape              Param #   \n",
      "=================================================================\n",
      "input_4 (InputLayer)         (None, 5, 2)              0         \n",
      "_________________________________________________________________\n",
      "lstm_3 (LSTM)                (None, 5, 100)            41200     \n",
      "_________________________________________________________________\n",
      "time_distributed_3 (TimeDist (None, 5, 2)              202       \n",
      "=================================================================\n",
      "Total params: 41,402\n",
      "Trainable params: 41,402\n",
      "Non-trainable params: 0\n",
      "_________________________________________________________________\n"
     ]
    }
   ],
   "source": [
    "rnn_model.summary()"
   ]
  },
  {
   "cell_type": "code",
   "execution_count": 84,
   "metadata": {
    "collapsed": true
   },
   "outputs": [],
   "source": [
    "rnn_model.compile(optimizer=Adam(0.001), loss=crps_cost_function_seq)"
   ]
  },
  {
   "cell_type": "code",
   "execution_count": 87,
   "metadata": {},
   "outputs": [
    {
     "name": "stdout",
     "output_type": "stream",
     "text": [
      "Train on 177473 samples, validate on 178978 samples\n",
      "Epoch 1/1\n",
      "177473/177473 [==============================] - 51s - loss: 1.7016 - val_loss: 1.6561\n"
     ]
    },
    {
     "data": {
      "text/plain": [
       "<keras.callbacks.History at 0x123329518>"
      ]
     },
     "execution_count": 87,
     "metadata": {},
     "output_type": "execute_result"
    }
   ],
   "source": [
    "rnn_model.fit(x_seq_train, y_seq_train, epochs=1, batch_size=1024,\n",
    "              validation_data=(x_seq_test, y_seq_test))"
   ]
  },
  {
   "cell_type": "code",
   "execution_count": 103,
   "metadata": {
    "collapsed": true
   },
   "outputs": [],
   "source": [
    "inp = Input(shape=(seq_len, 2, )) # time step, feature\n",
    "x = GRU(hidden_nodes)(inp)\n",
    "x = Dense(2, activation='linear')(x)\n",
    "rnn_model2 = Model(inputs=inp, outputs=x)"
   ]
  },
  {
   "cell_type": "code",
   "execution_count": 104,
   "metadata": {},
   "outputs": [],
   "source": [
    "rnn_model2.compile(optimizer=Adam(0.001), loss=crps_cost_function)"
   ]
  },
  {
   "cell_type": "code",
   "execution_count": 105,
   "metadata": {},
   "outputs": [
    {
     "name": "stdout",
     "output_type": "stream",
     "text": [
      "_________________________________________________________________\n",
      "Layer (type)                 Output Shape              Param #   \n",
      "=================================================================\n",
      "input_7 (InputLayer)         (None, 5, 2)              0         \n",
      "_________________________________________________________________\n",
      "gru_1 (GRU)                  (None, 100)               30900     \n",
      "_________________________________________________________________\n",
      "dense_6 (Dense)              (None, 2)                 202       \n",
      "=================================================================\n",
      "Total params: 31,102\n",
      "Trainable params: 31,102\n",
      "Non-trainable params: 0\n",
      "_________________________________________________________________\n"
     ]
    }
   ],
   "source": [
    "rnn_model2.summary()"
   ]
  },
  {
   "cell_type": "code",
   "execution_count": null,
   "metadata": {},
   "outputs": [
    {
     "name": "stdout",
     "output_type": "stream",
     "text": [
      "Train on 177473 samples, validate on 178978 samples\n",
      "Epoch 1/1\n",
      "177152/177473 [============================>.] - ETA: 0s - loss: 2.6584"
     ]
    }
   ],
   "source": [
    "rnn_model2.fit(x_seq_train, y_seq_train[:,-1], epochs=5, batch_size=1024,\n",
    "              validation_data=(x_seq_test, y_seq_test[:,-1]))"
   ]
  },
  {
   "cell_type": "code",
   "execution_count": null,
   "metadata": {
    "collapsed": true
   },
   "outputs": [],
   "source": []
  }
 ],
 "metadata": {
  "kernelspec": {
   "display_name": "Python 3",
   "language": "python",
   "name": "python3"
  },
  "language_info": {
   "codemirror_mode": {
    "name": "ipython",
    "version": 3
   },
   "file_extension": ".py",
   "mimetype": "text/x-python",
   "name": "python",
   "nbconvert_exporter": "python",
   "pygments_lexer": "ipython3",
   "version": "3.6.2"
  },
  "toc": {
   "nav_menu": {},
   "number_sections": true,
   "sideBar": true,
   "skip_h1_title": true,
   "toc_cell": true,
   "toc_position": {},
   "toc_section_display": "block",
   "toc_window_display": false
  }
 },
 "nbformat": 4,
 "nbformat_minor": 2
}
