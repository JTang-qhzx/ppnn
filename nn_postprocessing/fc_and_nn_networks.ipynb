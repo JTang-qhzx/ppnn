{
 "cells": [
  {
   "cell_type": "markdown",
   "metadata": {
    "toc": "true"
   },
   "source": [
    " # Table of Contents\n",
    "<div class=\"toc\" style=\"margin-top: 1em;\"><ul class=\"toc-item\" id=\"toc-level0\"><li><span><a href=\"http://localhost:8888/notebooks/fc_and_nn_networks.ipynb#Fully-connected-linear-network\" data-toc-modified-id=\"Fully-connected-linear-network-1\"><span class=\"toc-item-num\">1&nbsp;&nbsp;</span>Fully connected linear network</a></span><ul class=\"toc-item\"><li><span><a href=\"http://localhost:8888/notebooks/fc_and_nn_networks.ipynb#Get-temperature-data\" data-toc-modified-id=\"Get-temperature-data-1.1\"><span class=\"toc-item-num\">1.1&nbsp;&nbsp;</span>Get temperature data</a></span></li><li><span><a href=\"http://localhost:8888/notebooks/fc_and_nn_networks.ipynb#Build-fully-connected-model\" data-toc-modified-id=\"Build-fully-connected-model-1.2\"><span class=\"toc-item-num\">1.2&nbsp;&nbsp;</span>Build fully connected model</a></span></li><li><span><a href=\"http://localhost:8888/notebooks/fc_and_nn_networks.ipynb#Predict-for-one-day\" data-toc-modified-id=\"Predict-for-one-day-1.3\"><span class=\"toc-item-num\">1.3&nbsp;&nbsp;</span>Predict for one day</a></span></li><li><span><a href=\"http://localhost:8888/notebooks/fc_and_nn_networks.ipynb#Post-processing-with-rolling-window-for-2016\" data-toc-modified-id=\"Post-processing-with-rolling-window-for-2016-1.4\"><span class=\"toc-item-num\">1.4&nbsp;&nbsp;</span>Post processing with rolling window for 2016</a></span></li><li><span><a href=\"http://localhost:8888/notebooks/fc_and_nn_networks.ipynb#Train-2015,-predict-2016\" data-toc-modified-id=\"Train-2015,-predict-2016-1.5\"><span class=\"toc-item-num\">1.5&nbsp;&nbsp;</span>Train 2015, predict 2016</a></span></li></ul></li><li><span><a href=\"http://localhost:8888/notebooks/fc_and_nn_networks.ipynb#Neural-network-with-one-hidden-layer\" data-toc-modified-id=\"Neural-network-with-one-hidden-layer-2\"><span class=\"toc-item-num\">2&nbsp;&nbsp;</span>Neural network with one hidden layer</a></span><ul class=\"toc-item\"><li><span><a href=\"http://localhost:8888/notebooks/fc_and_nn_networks.ipynb#Build-network\" data-toc-modified-id=\"Build-network-2.1\"><span class=\"toc-item-num\">2.1&nbsp;&nbsp;</span>Build network</a></span></li><li><span><a href=\"http://localhost:8888/notebooks/fc_and_nn_networks.ipynb#Train-2015,-predict-2016\" data-toc-modified-id=\"Train-2015,-predict-2016-2.2\"><span class=\"toc-item-num\">2.2&nbsp;&nbsp;</span>Train 2015, predict 2016</a></span></li><li><span><a href=\"http://localhost:8888/notebooks/fc_and_nn_networks.ipynb#Making-the-hidden-model-more-complex\" data-toc-modified-id=\"Making-the-hidden-model-more-complex-2.3\"><span class=\"toc-item-num\">2.3&nbsp;&nbsp;</span>Making the hidden model more complex</a></span></li></ul></li><li><span><a href=\"http://localhost:8888/notebooks/fc_and_nn_networks.ipynb#Add-station-embeddings\" data-toc-modified-id=\"Add-station-embeddings-3\"><span class=\"toc-item-num\">3&nbsp;&nbsp;</span>Add station embeddings</a></span><ul class=\"toc-item\"><li><span><a href=\"http://localhost:8888/notebooks/fc_and_nn_networks.ipynb#Build-linear-embedding-model\" data-toc-modified-id=\"Build-linear-embedding-model-3.1\"><span class=\"toc-item-num\">3.1&nbsp;&nbsp;</span>Build linear embedding model</a></span></li><li><span><a href=\"http://localhost:8888/notebooks/fc_and_nn_networks.ipynb#Train-2015,-predict-2016\" data-toc-modified-id=\"Train-2015,-predict-2016-3.2\"><span class=\"toc-item-num\">3.2&nbsp;&nbsp;</span>Train 2015, predict 2016</a></span></li><li><span><a href=\"http://localhost:8888/notebooks/fc_and_nn_networks.ipynb#Embedding-size-hyper-parameter-tuning\" data-toc-modified-id=\"Embedding-size-hyper-parameter-tuning-3.3\"><span class=\"toc-item-num\">3.3&nbsp;&nbsp;</span>Embedding size hyper-parameter tuning</a></span></li></ul></li><li><span><a href=\"http://localhost:8888/notebooks/fc_and_nn_networks.ipynb#Adding-auxiliary-variables\" data-toc-modified-id=\"Adding-auxiliary-variables-4\"><span class=\"toc-item-num\">4&nbsp;&nbsp;</span>Adding auxiliary variables</a></span><ul class=\"toc-item\"><li><span><a href=\"http://localhost:8888/notebooks/fc_and_nn_networks.ipynb#Load-extended-dataset\" data-toc-modified-id=\"Load-extended-dataset-4.1\"><span class=\"toc-item-num\">4.1&nbsp;&nbsp;</span>Load extended dataset</a></span></li><li><span><a href=\"http://localhost:8888/notebooks/fc_and_nn_networks.ipynb#Linear-model\" data-toc-modified-id=\"Linear-model-4.2\"><span class=\"toc-item-num\">4.2&nbsp;&nbsp;</span>Linear model</a></span></li><li><span><a href=\"http://localhost:8888/notebooks/fc_and_nn_networks.ipynb#Hidden-model\" data-toc-modified-id=\"Hidden-model-4.3\"><span class=\"toc-item-num\">4.3&nbsp;&nbsp;</span>Hidden model</a></span></li></ul></li><li><span><a href=\"http://localhost:8888/notebooks/fc_and_nn_networks.ipynb#Additional-variables-with-the-embedding-model\" data-toc-modified-id=\"Additional-variables-with-the-embedding-model-5\"><span class=\"toc-item-num\">5&nbsp;&nbsp;</span>Additional variables with the embedding model</a></span><ul class=\"toc-item\"><li><span><a href=\"http://localhost:8888/notebooks/fc_and_nn_networks.ipynb#Linear-model-with-embeddings\" data-toc-modified-id=\"Linear-model-with-embeddings-5.1\"><span class=\"toc-item-num\">5.1&nbsp;&nbsp;</span>Linear model with embeddings</a></span></li><li><span><a href=\"http://localhost:8888/notebooks/fc_and_nn_networks.ipynb#Hidden-model-with-embeddings\" data-toc-modified-id=\"Hidden-model-with-embeddings-5.2\"><span class=\"toc-item-num\">5.2&nbsp;&nbsp;</span>Hidden model with embeddings</a></span></li></ul></li></ul></div>"
   ]
  },
  {
   "cell_type": "markdown",
   "metadata": {},
   "source": [
    "# Fully connected and neural networks\n",
    "\n",
    "In this notebook we will expand the simple EMOS linear network to fully connected non-linear neural nets. Furthermore, we will also use auxiliary data."
   ]
  },
  {
   "cell_type": "code",
   "execution_count": 37,
   "metadata": {},
   "outputs": [
    {
     "name": "stdout",
     "output_type": "stream",
     "text": [
      "Anaconda environment: py36_keras\n",
      "Darwin 17.2.0\n"
     ]
    }
   ],
   "source": [
    "# Imports\n",
    "from importlib import reload\n",
    "import emos_network_theano; reload(emos_network_theano)\n",
    "from  emos_network_theano import EMOS_Network\n",
    "from losses import crps_cost_function\n",
    "import utils; reload(utils)\n",
    "from utils import *\n",
    "import keras_models; reload(keras_models)\n",
    "from keras_models import *\n",
    "from collections import OrderedDict"
   ]
  },
  {
   "cell_type": "code",
   "execution_count": 3,
   "metadata": {
    "collapsed": true
   },
   "outputs": [],
   "source": [
    "# Basic setup\n",
    "DATA_DIR = '/Volumes/STICK/data/ppnn_data/'  # Mac\n",
    "# DATA_DIR = '/project/meteo/w2w/C7/ppnn_data/'   # LMU\n",
    "results_dir = '../results/'\n",
    "window_size = 25   # Days in rolling window\n",
    "fclt = 48   # Forecast lead time in hours"
   ]
  },
  {
   "cell_type": "markdown",
   "metadata": {
    "heading_collapsed": true
   },
   "source": [
    "## Fully connected linear network\n",
    "\n",
    "As a first step, we can build a linear model which also connects the means and standard deviations."
   ]
  },
  {
   "cell_type": "markdown",
   "metadata": {
    "heading_collapsed": true,
    "hidden": true
   },
   "source": [
    "### Get temperature data\n",
    "\n",
    "This follows the steps in the EMOS Network data"
   ]
  },
  {
   "cell_type": "code",
   "execution_count": 4,
   "metadata": {
    "hidden": true
   },
   "outputs": [
    {
     "name": "stdout",
     "output_type": "stream",
     "text": [
      "train set contains 25 days\n",
      "test set contains 1 days\n"
     ]
    }
   ],
   "source": [
    "date_str = '2011-02-14'\n",
    "train_set, test_set = get_train_test_sets(DATA_DIR, predict_date=date_str,\n",
    "                                          fclt=fclt, window_size=window_size)"
   ]
  },
  {
   "cell_type": "markdown",
   "metadata": {
    "hidden": true
   },
   "source": [
    "### Build fully connected model"
   ]
  },
  {
   "cell_type": "code",
   "execution_count": 6,
   "metadata": {
    "collapsed": true,
    "hidden": true
   },
   "outputs": [],
   "source": [
    "fc_model = build_fc_model(2, 2, compile=True)"
   ]
  },
  {
   "cell_type": "code",
   "execution_count": 7,
   "metadata": {
    "hidden": true
   },
   "outputs": [
    {
     "name": "stdout",
     "output_type": "stream",
     "text": [
      "_________________________________________________________________\n",
      "Layer (type)                 Output Shape              Param #   \n",
      "=================================================================\n",
      "input_1 (InputLayer)         (None, 2)                 0         \n",
      "_________________________________________________________________\n",
      "dense_1 (Dense)              (None, 2)                 6         \n",
      "=================================================================\n",
      "Total params: 6\n",
      "Trainable params: 6\n",
      "Non-trainable params: 0\n",
      "_________________________________________________________________\n"
     ]
    }
   ],
   "source": [
    "fc_model.summary()"
   ]
  },
  {
   "cell_type": "markdown",
   "metadata": {
    "hidden": true
   },
   "source": [
    "Now we have 6 parameters instead of 4 with the standard EMOS Network."
   ]
  },
  {
   "cell_type": "markdown",
   "metadata": {
    "heading_collapsed": true,
    "hidden": true
   },
   "source": [
    "### Predict for one day"
   ]
  },
  {
   "cell_type": "code",
   "execution_count": 8,
   "metadata": {
    "collapsed": true,
    "hidden": true
   },
   "outputs": [],
   "source": [
    "# Define some parameters\n",
    "early_stopping_delta = 1e-4   # How much the CRPS must improve before stopping\n",
    "steps_max = 1000   # How many steps to fit at max\n",
    "batch_size = train_set.features.shape[0]"
   ]
  },
  {
   "cell_type": "code",
   "execution_count": 9,
   "metadata": {
    "hidden": true
   },
   "outputs": [],
   "source": [
    "fc_model.fit(train_set.features, train_set.targets, epochs=steps_max, \n",
    "             batch_size=batch_size,\n",
    "             validation_data=[test_set.features, test_set.targets], \n",
    "             verbose=0,\n",
    "             callbacks=[EarlyStopping(monitor='loss', \n",
    "                                      min_delta=early_stopping_delta,\n",
    "                                      patience=2)]);"
   ]
  },
  {
   "cell_type": "code",
   "execution_count": 10,
   "metadata": {
    "hidden": true
   },
   "outputs": [
    {
     "data": {
      "text/plain": [
       "(1.1270655771548999, 0.76711642082605846)"
      ]
     },
     "execution_count": 10,
     "metadata": {},
     "output_type": "execute_result"
    }
   ],
   "source": [
    "# Get train and test CRPS\n",
    "(fc_model.evaluate(train_set.features, train_set.targets, batch_size, verbose=0), \n",
    " fc_model.evaluate(test_set.features, test_set.targets, batch_size, verbose=0))"
   ]
  },
  {
   "cell_type": "markdown",
   "metadata": {
    "hidden": true
   },
   "source": [
    "For this particular day we get a score that is slightly better than the standard EMOS network."
   ]
  },
  {
   "cell_type": "markdown",
   "metadata": {
    "hidden": true
   },
   "source": [
    "### Post processing with rolling window for 2016\n",
    "\n",
    "As with the EMOS models let's do a rolling window global post-processing for 2016."
   ]
  },
  {
   "cell_type": "code",
   "execution_count": 11,
   "metadata": {
    "collapsed": true,
    "hidden": true
   },
   "outputs": [],
   "source": [
    "date_str_start = '2016-01-01'\n",
    "date_str_stop = '2017-01-01'"
   ]
  },
  {
   "cell_type": "code",
   "execution_count": 12,
   "metadata": {
    "collapsed": true,
    "hidden": true
   },
   "outputs": [],
   "source": [
    "fc_model = build_fc_model(2, 2, compile=True, optimizer='sgd')"
   ]
  },
  {
   "cell_type": "code",
   "execution_count": 15,
   "metadata": {
    "hidden": true
   },
   "outputs": [
    {
     "name": "stderr",
     "output_type": "stream",
     "text": [
      "\n",
      "  0%|          | 0/366 [00:00<?, ?it/s]\u001b[A\n",
      "100%|██████████| 366/366 [08:33<00:00,  1.09s/it]\n"
     ]
    }
   ],
   "source": [
    "# Use the loop function in utils\n",
    "train_crps_list, valid_crps_list, results_df = loop_over_days(\n",
    "    DATA_DIR,\n",
    "    fc_model,\n",
    "    date_str_start, date_str_stop, \n",
    "    window_size=window_size,\n",
    "    fclt=fclt,     \n",
    "    epochs_max=steps_max, \n",
    "    early_stopping_delta=early_stopping_delta, \n",
    "    lr=0.1,   \n",
    "    verbose=0)"
   ]
  },
  {
   "cell_type": "code",
   "execution_count": 16,
   "metadata": {
    "hidden": true
   },
   "outputs": [
    {
     "data": {
      "text/plain": [
       "(0.98830469069443005, 1.0057136710506112)"
      ]
     },
     "execution_count": 16,
     "metadata": {},
     "output_type": "execute_result"
    }
   ],
   "source": [
    "np.mean(train_crps_list), np.mean(valid_crps_list)"
   ]
  },
  {
   "cell_type": "markdown",
   "metadata": {
    "hidden": true
   },
   "source": [
    "So we get a slightly better training score and a slightly worse test score. This is a sign of overfitting. But the differences are small."
   ]
  },
  {
   "cell_type": "code",
   "execution_count": 17,
   "metadata": {
    "collapsed": true,
    "hidden": true
   },
   "outputs": [],
   "source": [
    "results_df.to_csv(results_dir + 'fc_network_rolling_window.csv')"
   ]
  },
  {
   "cell_type": "markdown",
   "metadata": {
    "hidden": true
   },
   "source": [
    "### Train 2015, predict 2016"
   ]
  },
  {
   "cell_type": "code",
   "execution_count": 18,
   "metadata": {
    "hidden": true
   },
   "outputs": [
    {
     "name": "stdout",
     "output_type": "stream",
     "text": [
      "train set contains 365 days\n",
      "test set contains 366 days\n"
     ]
    }
   ],
   "source": [
    "train_dates = ['2015-01-01', '2016-01-01']\n",
    "test_dates =  ['2016-01-01', '2017-01-01']\n",
    "train_set, test_set = get_train_test_sets(DATA_DIR, train_dates, test_dates)"
   ]
  },
  {
   "cell_type": "code",
   "execution_count": 19,
   "metadata": {
    "collapsed": true,
    "hidden": true
   },
   "outputs": [],
   "source": [
    "fc_model = build_fc_model(2, 2, compile=True)"
   ]
  },
  {
   "cell_type": "code",
   "execution_count": 25,
   "metadata": {
    "hidden": true
   },
   "outputs": [],
   "source": [
    "fc_model.compile(keras.optimizers.Adam(0.001), loss=crps_cost_function)"
   ]
  },
  {
   "cell_type": "code",
   "execution_count": 26,
   "metadata": {
    "hidden": true
   },
   "outputs": [
    {
     "name": "stdout",
     "output_type": "stream",
     "text": [
      "Train on 180849 samples, validate on 182218 samples\n",
      "Epoch 1/10\n",
      "180849/180849 [==============================] - 0s - loss: 1.0702 - val_loss: 1.0127\n",
      "Epoch 2/10\n",
      "180849/180849 [==============================] - 0s - loss: 1.0700 - val_loss: 1.0127\n",
      "Epoch 3/10\n",
      "180849/180849 [==============================] - 0s - loss: 1.0698 - val_loss: 1.0124ss: 1.\n",
      "Epoch 4/10\n",
      "180849/180849 [==============================] - 0s - loss: 1.0697 - val_loss: 1.0125\n",
      "Epoch 5/10\n",
      "180849/180849 [==============================] - 0s - loss: 1.0696 - val_loss: 1.0123\n",
      "Epoch 6/10\n",
      "180849/180849 [==============================] - 0s - loss: 1.0695 - val_loss: 1.0122\n",
      "Epoch 7/10\n",
      "180849/180849 [==============================] - 0s - loss: 1.0694 - val_loss: 1.0123\n",
      "Epoch 8/10\n",
      "180849/180849 [==============================] - 0s - loss: 1.0694 - val_loss: 1.0122\n",
      "Epoch 9/10\n",
      "180849/180849 [==============================] - 0s - loss: 1.0693 - val_loss: 1.0122\n",
      "Epoch 10/10\n",
      "180849/180849 [==============================] - 0s - loss: 1.0693 - val_loss: 1.0122\n"
     ]
    },
    {
     "data": {
      "text/plain": [
       "<keras.callbacks.History at 0x122b17198>"
      ]
     },
     "execution_count": 26,
     "metadata": {},
     "output_type": "execute_result"
    }
   ],
   "source": [
    "# Note: I am running this cell several times (40)\n",
    "fc_model.fit(train_set.features, train_set.targets, epochs=10, batch_size=1024,\n",
    "             validation_data=[test_set.features, test_set.targets])"
   ]
  },
  {
   "cell_type": "markdown",
   "metadata": {
    "hidden": true
   },
   "source": [
    "Very similar to the standard EMOS Network. This indicates that there is not much additional information in the two extra connections we added."
   ]
  },
  {
   "cell_type": "code",
   "execution_count": 27,
   "metadata": {
    "hidden": true
   },
   "outputs": [],
   "source": [
    "preds = fc_model.predict(test_set.features)\n",
    "results_df = create_results_df(test_set.date_strs, test_set.station_ids,\n",
    "                               preds[:, 0], preds[:, 1])\n",
    "results_df.to_csv(results_dir + 'fc_network_train_2015_pred_2016.csv')"
   ]
  },
  {
   "cell_type": "markdown",
   "metadata": {},
   "source": [
    "## Neural network with one hidden layer\n",
    "\n",
    "Now we will build the first neural network with a hidden layer and a non-linear activation function. We will restrict ourselves to testing the 2015 training, 2016 prediction case."
   ]
  },
  {
   "cell_type": "markdown",
   "metadata": {},
   "source": [
    "### Build network"
   ]
  },
  {
   "cell_type": "code",
   "execution_count": 48,
   "metadata": {},
   "outputs": [],
   "source": [
    "hidden_model = build_hidden_model(2, 2, hidden_nodes=10, compile=True)"
   ]
  },
  {
   "cell_type": "code",
   "execution_count": 49,
   "metadata": {},
   "outputs": [
    {
     "name": "stdout",
     "output_type": "stream",
     "text": [
      "_________________________________________________________________\n",
      "Layer (type)                 Output Shape              Param #   \n",
      "=================================================================\n",
      "input_7 (InputLayer)         (None, 2)                 0         \n",
      "_________________________________________________________________\n",
      "dense_10 (Dense)             (None, 10)                30        \n",
      "_________________________________________________________________\n",
      "dense_11 (Dense)             (None, 2)                 22        \n",
      "=================================================================\n",
      "Total params: 52\n",
      "Trainable params: 52\n",
      "Non-trainable params: 0\n",
      "_________________________________________________________________\n"
     ]
    }
   ],
   "source": [
    "hidden_model.summary()"
   ]
  },
  {
   "cell_type": "markdown",
   "metadata": {
    "heading_collapsed": true
   },
   "source": [
    "### Train 2015, predict 2016"
   ]
  },
  {
   "cell_type": "code",
   "execution_count": 34,
   "metadata": {
    "hidden": true
   },
   "outputs": [],
   "source": [
    "hidden_model.compile(keras.optimizers.Adam(0.0001), loss=crps_cost_function)"
   ]
  },
  {
   "cell_type": "code",
   "execution_count": 50,
   "metadata": {
    "hidden": true
   },
   "outputs": [
    {
     "name": "stdout",
     "output_type": "stream",
     "text": [
      "Train on 180849 samples, validate on 182218 samples\n",
      "Epoch 1/10\n",
      "180849/180849 [==============================] - 0s - loss: 4.1429 - val_loss: 1.4222\n",
      "Epoch 2/10\n",
      "180849/180849 [==============================] - 0s - loss: 1.1146 - val_loss: 1.0142\n",
      "Epoch 3/10\n",
      "180849/180849 [==============================] - 0s - loss: 1.0724 - val_loss: 1.0159\n",
      "Epoch 4/10\n",
      "180849/180849 [==============================] - 0s - loss: 1.0716 - val_loss: 1.0158\n",
      "Epoch 5/10\n",
      "180849/180849 [==============================] - 0s - loss: 1.0718 - val_loss: 1.0135\n",
      "Epoch 6/10\n",
      "180849/180849 [==============================] - 0s - loss: 1.0715 - val_loss: 1.0147\n",
      "Epoch 7/10\n",
      "180849/180849 [==============================] - 0s - loss: 1.0714 - val_loss: 1.0136\n",
      "Epoch 8/10\n",
      "180849/180849 [==============================] - 0s - loss: 1.0710 - val_loss: 1.0144\n",
      "Epoch 9/10\n",
      "180849/180849 [==============================] - 0s - loss: 1.0710 - val_loss: 1.0139\n",
      "Epoch 10/10\n",
      "180849/180849 [==============================] - 0s - loss: 1.0712 - val_loss: 1.0161\n"
     ]
    },
    {
     "data": {
      "text/plain": [
       "<keras.callbacks.History at 0x1157c4470>"
      ]
     },
     "execution_count": 50,
     "metadata": {},
     "output_type": "execute_result"
    }
   ],
   "source": [
    "# We can use the same data from above!\n",
    "# Note I am running this cell several times\n",
    "hidden_model.fit(train_set.features, train_set.targets, epochs=10, batch_size=1024,\n",
    "                 validation_data=[test_set.features, test_set.targets])"
   ]
  },
  {
   "cell_type": "markdown",
   "metadata": {
    "hidden": true
   },
   "source": [
    "Again, the results are pretty similar. This indicates that for the given data, the added nonlinearity is not important."
   ]
  },
  {
   "cell_type": "code",
   "execution_count": 36,
   "metadata": {
    "collapsed": true,
    "hidden": true
   },
   "outputs": [],
   "source": [
    "preds = hidden_model.predict(test_set.features)\n",
    "results_df = create_results_df(test_set.date_strs, test_set.station_ids,\n",
    "                               preds[:, 0], preds[:, 1])\n",
    "results_df.to_csv(results_dir + 'hidden_nn_train_2015_pred_2016.csv')"
   ]
  },
  {
   "cell_type": "markdown",
   "metadata": {
    "heading_collapsed": true
   },
   "source": [
    "### Making the hidden model more complex\n",
    "\n",
    "Let's see what happens if we make the model more complex"
   ]
  },
  {
   "cell_type": "code",
   "execution_count": 54,
   "metadata": {
    "collapsed": true,
    "hidden": true
   },
   "outputs": [],
   "source": [
    "hidden_model = build_hidden_model(2, 2, hidden_nodes=[100, 100, 100], compile=True)"
   ]
  },
  {
   "cell_type": "code",
   "execution_count": 59,
   "metadata": {
    "hidden": true
   },
   "outputs": [
    {
     "name": "stdout",
     "output_type": "stream",
     "text": [
      "_________________________________________________________________\n",
      "Layer (type)                 Output Shape              Param #   \n",
      "=================================================================\n",
      "input_9 (InputLayer)         (None, 2)                 0         \n",
      "_________________________________________________________________\n",
      "dense_15 (Dense)             (None, 100)               300       \n",
      "_________________________________________________________________\n",
      "dense_16 (Dense)             (None, 100)               10100     \n",
      "_________________________________________________________________\n",
      "dense_17 (Dense)             (None, 100)               10100     \n",
      "_________________________________________________________________\n",
      "dense_18 (Dense)             (None, 2)                 202       \n",
      "=================================================================\n",
      "Total params: 20,702\n",
      "Trainable params: 20,702\n",
      "Non-trainable params: 0\n",
      "_________________________________________________________________\n"
     ]
    }
   ],
   "source": [
    "hidden_model.summary()"
   ]
  },
  {
   "cell_type": "code",
   "execution_count": 56,
   "metadata": {
    "collapsed": true,
    "hidden": true
   },
   "outputs": [],
   "source": [
    "hidden_model.compile(keras.optimizers.Adam(0.0001), loss=crps_cost_function)"
   ]
  },
  {
   "cell_type": "code",
   "execution_count": 58,
   "metadata": {
    "hidden": true
   },
   "outputs": [
    {
     "name": "stdout",
     "output_type": "stream",
     "text": [
      "Train on 180849 samples, validate on 182218 samples\n",
      "Epoch 1/10\n",
      "180849/180849 [==============================] - 2s - loss: 1.0570 - val_loss: 1.0217\n",
      "Epoch 2/10\n",
      "180849/180849 [==============================] - 2s - loss: 1.0570 - val_loss: 1.0224\n",
      "Epoch 3/10\n",
      "180849/180849 [==============================] - 2s - loss: 1.0570 - val_loss: 1.0221\n",
      "Epoch 4/10\n",
      "180849/180849 [==============================] - 2s - loss: 1.0571 - val_loss: 1.0223\n",
      "Epoch 5/10\n",
      "180849/180849 [==============================] - 2s - loss: 1.0570 - val_loss: 1.0221\n",
      "Epoch 6/10\n",
      "180849/180849 [==============================] - 2s - loss: 1.0570 - val_loss: 1.0221\n",
      "Epoch 7/10\n",
      "180849/180849 [==============================] - 2s - loss: 1.0570 - val_loss: 1.0223\n",
      "Epoch 8/10\n",
      "180849/180849 [==============================] - 2s - loss: 1.0570 - val_loss: 1.0223\n",
      "Epoch 9/10\n",
      "180849/180849 [==============================] - 2s - loss: 1.0569 - val_loss: 1.0219\n",
      "Epoch 10/10\n",
      "180849/180849 [==============================] - 2s - loss: 1.0569 - val_loss: 1.0221\n"
     ]
    },
    {
     "data": {
      "text/plain": [
       "<keras.callbacks.History at 0x118c75860>"
      ]
     },
     "execution_count": 58,
     "metadata": {},
     "output_type": "execute_result"
    }
   ],
   "source": [
    "hidden_model.fit(train_set.features, train_set.targets, epochs=10, batch_size=4096,\n",
    "                 validation_data=[test_set.features, test_set.targets])"
   ]
  },
  {
   "cell_type": "markdown",
   "metadata": {
    "hidden": true
   },
   "source": [
    "So we can see that even for a model with 20,000 parameters then training score only goes down a few percent. For a simple bias and spread correction, a linear model seems fully sufficient."
   ]
  },
  {
   "cell_type": "markdown",
   "metadata": {},
   "source": [
    "## Add station embeddings\n",
    "\n",
    "Next we will add a station embedding. Here we are giving every station additional parameters which the model can learn."
   ]
  },
  {
   "cell_type": "markdown",
   "metadata": {},
   "source": [
    "### Build linear embedding model\n",
    "\n",
    "Let's build a linear embedding model. I tried out hidden layers, but they seem to make the validation score worse!"
   ]
  },
  {
   "cell_type": "code",
   "execution_count": 86,
   "metadata": {},
   "outputs": [
    {
     "data": {
      "text/plain": [
       "536"
      ]
     },
     "execution_count": 86,
     "metadata": {},
     "output_type": "execute_result"
    }
   ],
   "source": [
    "emb_size = 3\n",
    "max_id = int(np.max([train_set.cont_ids.max(), test_set.cont_ids.max()]))\n",
    "max_id"
   ]
  },
  {
   "cell_type": "code",
   "execution_count": 87,
   "metadata": {
    "collapsed": true
   },
   "outputs": [],
   "source": [
    "emb_model = build_emb_model(2, 2, [], emb_size, max_id, compile=True,\n",
    "                            lr=0.01)"
   ]
  },
  {
   "cell_type": "code",
   "execution_count": 88,
   "metadata": {},
   "outputs": [
    {
     "name": "stdout",
     "output_type": "stream",
     "text": [
      "____________________________________________________________________________________________________\n",
      "Layer (type)                     Output Shape          Param #     Connected to                     \n",
      "====================================================================================================\n",
      "input_21 (InputLayer)            (None, 1)             0                                            \n",
      "____________________________________________________________________________________________________\n",
      "embedding_6 (Embedding)          (None, 1, 3)          1611        input_21[0][0]                   \n",
      "____________________________________________________________________________________________________\n",
      "input_20 (InputLayer)            (None, 2)             0                                            \n",
      "____________________________________________________________________________________________________\n",
      "flatten_6 (Flatten)              (None, 3)             0           embedding_6[0][0]                \n",
      "____________________________________________________________________________________________________\n",
      "concatenate_6 (Concatenate)      (None, 5)             0           input_20[0][0]                   \n",
      "                                                                   flatten_6[0][0]                  \n",
      "____________________________________________________________________________________________________\n",
      "dense_26 (Dense)                 (None, 2)             12          concatenate_6[0][0]              \n",
      "====================================================================================================\n",
      "Total params: 1,623\n",
      "Trainable params: 1,623\n",
      "Non-trainable params: 0\n",
      "____________________________________________________________________________________________________\n"
     ]
    }
   ],
   "source": [
    "emb_model.summary()"
   ]
  },
  {
   "cell_type": "markdown",
   "metadata": {
    "heading_collapsed": true
   },
   "source": [
    "### Train 2015, predict 2016"
   ]
  },
  {
   "cell_type": "code",
   "execution_count": 92,
   "metadata": {
    "hidden": true
   },
   "outputs": [
    {
     "name": "stdout",
     "output_type": "stream",
     "text": [
      "Train on 180849 samples, validate on 182218 samples\n",
      "Epoch 1/10\n",
      "180849/180849 [==============================] - 0s - loss: 0.9690 - val_loss: 0.9132\n",
      "Epoch 2/10\n",
      "180849/180849 [==============================] - 0s - loss: 0.9691 - val_loss: 0.9129\n",
      "Epoch 3/10\n",
      "180849/180849 [==============================] - 0s - loss: 0.9690 - val_loss: 0.9129\n",
      "Epoch 4/10\n",
      "180849/180849 [==============================] - 0s - loss: 0.9690 - val_loss: 0.9136\n",
      "Epoch 5/10\n",
      "180849/180849 [==============================] - 0s - loss: 0.9691 - val_loss: 0.9132\n",
      "Epoch 6/10\n",
      "180849/180849 [==============================] - 0s - loss: 0.9689 - val_loss: 0.9139\n",
      "Epoch 7/10\n",
      "180849/180849 [==============================] - 0s - loss: 0.9689 - val_loss: 0.9131\n",
      "Epoch 8/10\n",
      "180849/180849 [==============================] - 0s - loss: 0.9690 - val_loss: 0.9138\n",
      "Epoch 9/10\n",
      "180849/180849 [==============================] - 0s - loss: 0.9689 - val_loss: 0.9128\n",
      "Epoch 10/10\n",
      "180849/180849 [==============================] - 0s - loss: 0.9690 - val_loss: 0.9134\n"
     ]
    },
    {
     "data": {
      "text/plain": [
       "<keras.callbacks.History at 0x11b9b5c50>"
      ]
     },
     "execution_count": 92,
     "metadata": {},
     "output_type": "execute_result"
    }
   ],
   "source": [
    "# Ran this for 40 epochs\n",
    "emb_model.fit([train_set.features, train_set.cont_ids], train_set.targets, \n",
    "              epochs=10, batch_size=1024, \n",
    "              validation_data=[[test_set.features, test_set.cont_ids], test_set.targets])"
   ]
  },
  {
   "cell_type": "code",
   "execution_count": 93,
   "metadata": {
    "collapsed": true,
    "hidden": true
   },
   "outputs": [],
   "source": [
    "preds = emb_model.predict([test_set.features, test_set.cont_ids])\n",
    "results_df = create_results_df(test_set.date_strs, test_set.station_ids,\n",
    "                               preds[:, 0], preds[:, 1])\n",
    "results_df.to_csv(results_dir + 'embedding_fc_train_2015_pred_2016.csv')"
   ]
  },
  {
   "cell_type": "markdown",
   "metadata": {
    "heading_collapsed": true
   },
   "source": [
    "### Embedding size hyper-parameter tuning\n",
    "\n",
    "Since embeddings appear to work very well, we will test the impact of the embedding size before building more complex models. Of course, a larger embedding size might be useful when adding more variables, but this should give us some feeling."
   ]
  },
  {
   "cell_type": "code",
   "execution_count": 94,
   "metadata": {
    "collapsed": true,
    "hidden": true
   },
   "outputs": [],
   "source": [
    "def build_and_run_emb_model(emb_size):\n",
    "    emb_model = build_emb_model(2, 2, [], emb_size, max_id, compile=True)\n",
    "    emb_model.fit([train_set.features, train_set.cont_ids], train_set.targets, \n",
    "                  epochs=40,batch_size=1024, verbose=0,\n",
    "                  validation_data=[[test_set.features, test_set.cont_ids], test_set.targets])\n",
    "    print(emb_model.evaluate([train_set.features, train_set.cont_ids], train_set.targets, verbose=0),\n",
    "          emb_model.evaluate([test_set.features, test_set.cont_ids], test_set.targets, verbose=0))"
   ]
  },
  {
   "cell_type": "code",
   "execution_count": 95,
   "metadata": {
    "hidden": true
   },
   "outputs": [
    {
     "name": "stdout",
     "output_type": "stream",
     "text": [
      "1\n",
      "0.975157575805 0.918841918992\n",
      "2\n",
      "0.96694133538 0.913661904937\n",
      "3\n",
      "0.967165116694 0.912928815584\n",
      "5\n",
      "0.967104299998 0.914134442874\n",
      "10\n",
      "0.968233569106 0.915652121524\n",
      "20\n",
      "0.969342381379 0.912989628939\n"
     ]
    }
   ],
   "source": [
    "for emb_size in [1, 2, 3, 5, 10, 20]:\n",
    "    print(emb_size)\n",
    "    build_and_run_emb_model(emb_size)"
   ]
  },
  {
   "cell_type": "markdown",
   "metadata": {
    "hidden": true
   },
   "source": [
    "Note that there is some variability. In our first experiment above with an embedding size of 5 we got a better score than here. For this very simple network an embedding size of three seems sufficient."
   ]
  },
  {
   "cell_type": "markdown",
   "metadata": {
    "heading_collapsed": true
   },
   "source": [
    "## Adding auxiliary variables\n",
    "\n",
    "Now we can try adding additional variables."
   ]
  },
  {
   "cell_type": "markdown",
   "metadata": {
    "hidden": true
   },
   "source": [
    "### Load extended dataset\n",
    "\n",
    "Using the function defined in utils."
   ]
  },
  {
   "cell_type": "code",
   "execution_count": 104,
   "metadata": {
    "collapsed": true,
    "hidden": true
   },
   "outputs": [],
   "source": [
    "# The prepare_data function takes an ordered dict as an input\n",
    "aux_dict = OrderedDict()\n",
    "aux_dict['data_aux_geo_interpolated.nc'] = ['orog', \n",
    "                                            'station_alt', \n",
    "                                            'station_lat', \n",
    "                                            'station_lon']\n",
    "aux_dict['data_aux_pl500_interpolated_00UTC.nc'] = ['u_pl500_fc',\n",
    "                                                    'v_pl500_fc',\n",
    "                                                    'gh_pl500_fc']\n",
    "aux_dict['data_aux_pl850_interpolated_00UTC.nc'] = ['u_pl850_fc',\n",
    "                                                    'v_pl850_fc',\n",
    "                                                    'q_pl850_fc']\n",
    "aux_dict['data_aux_surface_interpolated_00UTC.nc'] = ['cape_fc',\n",
    "                                                      'sp_fc',\n",
    "                                                      'tcc_fc']"
   ]
  },
  {
   "cell_type": "code",
   "execution_count": 105,
   "metadata": {
    "hidden": true
   },
   "outputs": [
    {
     "name": "stdout",
     "output_type": "stream",
     "text": [
      "train set contains 365 days\n",
      "test set contains 366 days\n"
     ]
    }
   ],
   "source": [
    "train_set, test_set = get_train_test_sets(DATA_DIR, train_dates, test_dates,\n",
    "                                         aux_dict=aux_dict)"
   ]
  },
  {
   "cell_type": "code",
   "execution_count": 106,
   "metadata": {
    "hidden": true
   },
   "outputs": [
    {
     "data": {
      "text/plain": [
       "(180849, 24)"
      ]
     },
     "execution_count": 106,
     "metadata": {},
     "output_type": "execute_result"
    }
   ],
   "source": [
    "train_set.features.shape"
   ]
  },
  {
   "cell_type": "markdown",
   "metadata": {
    "hidden": true
   },
   "source": [
    "### Linear model"
   ]
  },
  {
   "cell_type": "code",
   "execution_count": 109,
   "metadata": {
    "collapsed": true,
    "hidden": true
   },
   "outputs": [],
   "source": [
    "fc_model = build_fc_model(train_set.features.shape[1], 2, compile=True, \n",
    "                          lr=0.01)"
   ]
  },
  {
   "cell_type": "code",
   "execution_count": 115,
   "metadata": {
    "hidden": true
   },
   "outputs": [
    {
     "name": "stdout",
     "output_type": "stream",
     "text": [
      "Train on 180849 samples, validate on 182218 samples\n",
      "Epoch 1/10\n",
      "180849/180849 [==============================] - 0s - loss: 0.9701 - val_loss: 0.9389\n",
      "Epoch 2/10\n",
      "180849/180849 [==============================] - 0s - loss: 0.9699 - val_loss: 0.9395\n",
      "Epoch 3/10\n",
      "180849/180849 [==============================] - 0s - loss: 0.9699 - val_loss: 0.9405\n",
      "Epoch 4/10\n",
      "180849/180849 [==============================] - 0s - loss: 0.9700 - val_loss: 0.9385\n",
      "Epoch 5/10\n",
      "180849/180849 [==============================] - 0s - loss: 0.9702 - val_loss: 0.9380\n",
      "Epoch 6/10\n",
      "180849/180849 [==============================] - 0s - loss: 0.9699 - val_loss: 0.9385\n",
      "Epoch 7/10\n",
      "180849/180849 [==============================] - 0s - loss: 0.9699 - val_loss: 0.9384\n",
      "Epoch 8/10\n",
      "180849/180849 [==============================] - 0s - loss: 0.9699 - val_loss: 0.9400\n",
      "Epoch 9/10\n",
      "180849/180849 [==============================] - 0s - loss: 0.9698 - val_loss: 0.9388\n",
      "Epoch 10/10\n",
      "180849/180849 [==============================] - 0s - loss: 0.9699 - val_loss: 0.9382\n"
     ]
    },
    {
     "data": {
      "text/plain": [
       "<keras.callbacks.History at 0x11c21d5c0>"
      ]
     },
     "execution_count": 115,
     "metadata": {},
     "output_type": "execute_result"
    }
   ],
   "source": [
    "# Note that I am running this cell multiple times\n",
    "fc_model.fit(train_set.features, train_set.targets, epochs=10, batch_size=1024,\n",
    "             validation_data=[test_set.features, test_set.targets])"
   ]
  },
  {
   "cell_type": "markdown",
   "metadata": {
    "hidden": true
   },
   "source": [
    "### Hidden model"
   ]
  },
  {
   "cell_type": "code",
   "execution_count": 154,
   "metadata": {
    "collapsed": true,
    "hidden": true
   },
   "outputs": [],
   "source": [
    "hidden_model = build_hidden_model(train_set.features.shape[1], 2, \n",
    "                                  hidden_nodes=[50], compile=True)"
   ]
  },
  {
   "cell_type": "code",
   "execution_count": 155,
   "metadata": {
    "hidden": true
   },
   "outputs": [
    {
     "name": "stdout",
     "output_type": "stream",
     "text": [
      "_________________________________________________________________\n",
      "Layer (type)                 Output Shape              Param #   \n",
      "=================================================================\n",
      "input_49 (InputLayer)        (None, 24)                0         \n",
      "_________________________________________________________________\n",
      "dense_60 (Dense)             (None, 50)                1250      \n",
      "_________________________________________________________________\n",
      "dense_61 (Dense)             (None, 2)                 102       \n",
      "=================================================================\n",
      "Total params: 1,352\n",
      "Trainable params: 1,352\n",
      "Non-trainable params: 0\n",
      "_________________________________________________________________\n"
     ]
    }
   ],
   "source": [
    "hidden_model.summary()"
   ]
  },
  {
   "cell_type": "code",
   "execution_count": 157,
   "metadata": {
    "hidden": true
   },
   "outputs": [
    {
     "name": "stdout",
     "output_type": "stream",
     "text": [
      "Train on 180849 samples, validate on 182218 samples\n",
      "Epoch 1/10\n",
      "180849/180849 [==============================] - 0s - loss: 0.9388 - val_loss: 0.9402\n",
      "Epoch 2/10\n",
      "180849/180849 [==============================] - 0s - loss: 0.9348 - val_loss: 0.9332\n",
      "Epoch 3/10\n",
      "180849/180849 [==============================] - 0s - loss: 0.9346 - val_loss: 0.9367\n",
      "Epoch 4/10\n",
      "180849/180849 [==============================] - 0s - loss: 0.9295 - val_loss: 0.9418\n",
      "Epoch 5/10\n",
      "180849/180849 [==============================] - 0s - loss: 0.9292 - val_loss: 0.9356\n",
      "Epoch 6/10\n",
      "180849/180849 [==============================] - 0s - loss: 0.9275 - val_loss: 0.9392\n",
      "Epoch 7/10\n",
      "180849/180849 [==============================] - 0s - loss: 0.9253 - val_loss: 0.9365\n",
      "Epoch 8/10\n",
      "180849/180849 [==============================] - 0s - loss: 0.9251 - val_loss: 0.9378\n",
      "Epoch 9/10\n",
      "180849/180849 [==============================] - 0s - loss: 0.9239 - val_loss: 0.9441\n",
      "Epoch 10/10\n",
      "180849/180849 [==============================] - 0s - loss: 0.9232 - val_loss: 0.9310\n"
     ]
    },
    {
     "data": {
      "text/plain": [
       "<keras.callbacks.History at 0x1264243c8>"
      ]
     },
     "execution_count": 157,
     "metadata": {},
     "output_type": "execute_result"
    }
   ],
   "source": [
    "# Note that I am running this cell multiple times\n",
    "hidden_model.fit(train_set.features, train_set.targets, epochs=10, batch_size=1024,\n",
    "             validation_data=[test_set.features, test_set.targets])"
   ]
  },
  {
   "cell_type": "markdown",
   "metadata": {
    "hidden": true
   },
   "source": [
    "So we see a definite improvement using auxiliary variables. Again, the hidden layer does not seem to improve things a lot compared to the simple linear model."
   ]
  },
  {
   "cell_type": "markdown",
   "metadata": {},
   "source": [
    "## Additional variables with the embedding model"
   ]
  },
  {
   "cell_type": "markdown",
   "metadata": {},
   "source": [
    "### Linear model with embeddings"
   ]
  },
  {
   "cell_type": "code",
   "execution_count": 221,
   "metadata": {
    "collapsed": true
   },
   "outputs": [],
   "source": [
    "emb_model = build_emb_model(train_set.features.shape[1], 2, [], 3, max_id, \n",
    "                            compile=True, lr=0.01)"
   ]
  },
  {
   "cell_type": "code",
   "execution_count": 222,
   "metadata": {},
   "outputs": [
    {
     "name": "stdout",
     "output_type": "stream",
     "text": [
      "____________________________________________________________________________________________________\n",
      "Layer (type)                     Output Shape          Param #     Connected to                     \n",
      "====================================================================================================\n",
      "input_63 (InputLayer)            (None, 1)             0                                            \n",
      "____________________________________________________________________________________________________\n",
      "embedding_14 (Embedding)         (None, 1, 3)          1611        input_63[0][0]                   \n",
      "____________________________________________________________________________________________________\n",
      "input_62 (InputLayer)            (None, 24)            0                                            \n",
      "____________________________________________________________________________________________________\n",
      "flatten_14 (Flatten)             (None, 3)             0           embedding_14[0][0]               \n",
      "____________________________________________________________________________________________________\n",
      "concatenate_14 (Concatenate)     (None, 27)            0           input_62[0][0]                   \n",
      "                                                                   flatten_14[0][0]                 \n",
      "____________________________________________________________________________________________________\n",
      "dense_89 (Dense)                 (None, 2)             56          concatenate_14[0][0]             \n",
      "====================================================================================================\n",
      "Total params: 1,667\n",
      "Trainable params: 1,667\n",
      "Non-trainable params: 0\n",
      "____________________________________________________________________________________________________\n"
     ]
    }
   ],
   "source": [
    "emb_model.summary()"
   ]
  },
  {
   "cell_type": "code",
   "execution_count": 227,
   "metadata": {
    "collapsed": true
   },
   "outputs": [],
   "source": [
    "emb_model.optimizer.lr=0.001"
   ]
  },
  {
   "cell_type": "code",
   "execution_count": 228,
   "metadata": {},
   "outputs": [
    {
     "name": "stdout",
     "output_type": "stream",
     "text": [
      "Train on 180849 samples, validate on 182218 samples\n",
      "Epoch 1/10\n",
      "180849/180849 [==============================] - 0s - loss: 0.9232 - val_loss: 0.9010\n",
      "Epoch 2/10\n",
      "180849/180849 [==============================] - 0s - loss: 0.9232 - val_loss: 0.9007\n",
      "Epoch 3/10\n",
      "180849/180849 [==============================] - 0s - loss: 0.9232 - val_loss: 0.8998\n",
      "Epoch 4/10\n",
      "180849/180849 [==============================] - 0s - loss: 0.9231 - val_loss: 0.8984\n",
      "Epoch 5/10\n",
      "180849/180849 [==============================] - 0s - loss: 0.9231 - val_loss: 0.8988\n",
      "Epoch 6/10\n",
      "180849/180849 [==============================] - 0s - loss: 0.9231 - val_loss: 0.9002\n",
      "Epoch 7/10\n",
      "180849/180849 [==============================] - 0s - loss: 0.9232 - val_loss: 0.9003\n",
      "Epoch 8/10\n",
      "180849/180849 [==============================] - 0s - loss: 0.9229 - val_loss: 0.8992\n",
      "Epoch 9/10\n",
      "180849/180849 [==============================] - 0s - loss: 0.9228 - val_loss: 0.9003\n",
      "Epoch 10/10\n",
      "180849/180849 [==============================] - 0s - loss: 0.9229 - val_loss: 0.8974\n"
     ]
    },
    {
     "data": {
      "text/plain": [
       "<keras.callbacks.History at 0x12e3dd240>"
      ]
     },
     "execution_count": 228,
     "metadata": {},
     "output_type": "execute_result"
    }
   ],
   "source": [
    "# Again I am running this multiple times\n",
    "emb_model.fit([train_set.features, train_set.cont_ids], train_set.targets, epochs=10, \n",
    "              batch_size=1024, \n",
    "              validation_data=[[test_set.features, test_set.cont_ids], test_set.targets])"
   ]
  },
  {
   "cell_type": "markdown",
   "metadata": {},
   "source": [
    "### Hidden model with embeddings"
   ]
  },
  {
   "cell_type": "code",
   "execution_count": 238,
   "metadata": {
    "collapsed": true
   },
   "outputs": [],
   "source": [
    "emb_model = build_emb_model(train_set.features.shape[1], 2, [50], 3, max_id, \n",
    "                            compile=True, lr=0.01)"
   ]
  },
  {
   "cell_type": "code",
   "execution_count": 241,
   "metadata": {},
   "outputs": [
    {
     "name": "stdout",
     "output_type": "stream",
     "text": [
      "Train on 180849 samples, validate on 182218 samples\n",
      "Epoch 1/10\n",
      "180849/180849 [==============================] - 0s - loss: 0.8499 - val_loss: 0.8564\n",
      "Epoch 2/10\n",
      "180849/180849 [==============================] - 0s - loss: 0.8489 - val_loss: 0.8651\n",
      "Epoch 3/10\n",
      "180849/180849 [==============================] - 0s - loss: 0.8489 - val_loss: 0.8563\n",
      "Epoch 4/10\n",
      "180849/180849 [==============================] - 0s - loss: 0.8478 - val_loss: 0.8567\n",
      "Epoch 5/10\n",
      "180849/180849 [==============================] - 0s - loss: 0.8452 - val_loss: 0.8750\n",
      "Epoch 6/10\n",
      "180849/180849 [==============================] - 0s - loss: 0.8447 - val_loss: 0.8586\n",
      "Epoch 7/10\n",
      "180849/180849 [==============================] - 0s - loss: 0.8424 - val_loss: 0.8588\n",
      "Epoch 8/10\n",
      "180849/180849 [==============================] - 0s - loss: 0.8430 - val_loss: 0.8582\n",
      "Epoch 9/10\n",
      "180849/180849 [==============================] - 0s - loss: 0.8405 - val_loss: 0.8563\n",
      "Epoch 10/10\n",
      "180849/180849 [==============================] - 0s - loss: 0.8447 - val_loss: 0.8590\n"
     ]
    },
    {
     "data": {
      "text/plain": [
       "<keras.callbacks.History at 0x13926bcc0>"
      ]
     },
     "execution_count": 241,
     "metadata": {},
     "output_type": "execute_result"
    }
   ],
   "source": [
    "# Again I am running this multiple times\n",
    "emb_model.fit([train_set.features, train_set.cont_ids], train_set.targets, epochs=10, \n",
    "              batch_size=4096, \n",
    "              validation_data=[[test_set.features, test_set.cont_ids], test_set.targets])"
   ]
  },
  {
   "cell_type": "markdown",
   "metadata": {},
   "source": [
    "This is our best score so far. Here the non-linearity seems to make a difference compared to the simple linear model. But we do get some overfitting. Let's try out some techniques. Fewer or more hidden nodes does not seem to change all that much."
   ]
  },
  {
   "cell_type": "code",
   "execution_count": 282,
   "metadata": {},
   "outputs": [],
   "source": [
    "features_in = Input(shape=(train_set.features.shape[1],))\n",
    "id_in = Input(shape=(1,))\n",
    "emb = Embedding(max_id + 1, 3)(id_in)\n",
    "emb = Flatten()(emb)\n",
    "x = Concatenate()([features_in, emb])\n",
    "x = Dense(500, activation='relu')(x)\n",
    "x = Dropout(0.2)(x)\n",
    "x = Dense(500, activation='relu')(x)\n",
    "x = Dropout(0.2)(x)\n",
    "x = Dense(2, activation='linear')(x)\n",
    "test_model = Model(inputs=[features_in, id_in], outputs=x)"
   ]
  },
  {
   "cell_type": "code",
   "execution_count": 283,
   "metadata": {
    "collapsed": true
   },
   "outputs": [],
   "source": [
    "test_model.compile(keras.optimizers.Adam(0.01), loss=crps_cost_function)"
   ]
  },
  {
   "cell_type": "code",
   "execution_count": 284,
   "metadata": {},
   "outputs": [
    {
     "name": "stdout",
     "output_type": "stream",
     "text": [
      "Train on 180849 samples, validate on 182218 samples\n",
      "Epoch 1/10\n",
      "180849/180849 [==============================] - 23s - loss: 2.1206 - val_loss: 1.0429\n",
      "Epoch 2/10\n",
      "180849/180849 [==============================] - 23s - loss: 1.0434 - val_loss: 0.9575\n",
      "Epoch 3/10\n",
      "180849/180849 [==============================] - 23s - loss: 0.9874 - val_loss: 0.9012\n",
      "Epoch 4/10\n",
      "180849/180849 [==============================] - 23s - loss: 0.9452 - val_loss: 0.8874\n",
      "Epoch 5/10\n",
      "180849/180849 [==============================] - 23s - loss: 0.9475 - val_loss: 0.8880\n",
      "Epoch 6/10\n",
      "180849/180849 [==============================] - 24s - loss: 0.9239 - val_loss: 0.8826\n",
      "Epoch 7/10\n",
      "180849/180849 [==============================] - 24s - loss: 0.9135 - val_loss: 0.8776\n",
      "Epoch 8/10\n",
      "180849/180849 [==============================] - 23s - loss: 0.9017 - val_loss: 0.8788\n",
      "Epoch 9/10\n",
      "180849/180849 [==============================] - 23s - loss: 0.9066 - val_loss: 0.8656\n",
      "Epoch 10/10\n",
      "180849/180849 [==============================] - 23s - loss: 0.8863 - val_loss: 0.8729\n"
     ]
    },
    {
     "data": {
      "text/plain": [
       "<keras.callbacks.History at 0x1412691d0>"
      ]
     },
     "execution_count": 284,
     "metadata": {},
     "output_type": "execute_result"
    }
   ],
   "source": [
    "test_model.fit([train_set.features, train_set.cont_ids], train_set.targets, epochs=10, \n",
    "              batch_size=4096, \n",
    "              validation_data=[[test_set.features, test_set.cont_ids], test_set.targets])"
   ]
  },
  {
   "cell_type": "code",
   "execution_count": null,
   "metadata": {
    "collapsed": true
   },
   "outputs": [],
   "source": []
  },
  {
   "cell_type": "code",
   "execution_count": 113,
   "metadata": {
    "collapsed": true
   },
   "outputs": [],
   "source": [
    "preds = emb_model.predict([test_set.features, test_set.cont_ids])\n",
    "results_df = create_results_df(test_set.date_strs, test_set.station_ids,\n",
    "                               preds[:, 0], preds[:, 1])\n",
    "results_df.to_csv(results_dir + 'embedding_nn_aux_train_2015_pred_2016.csv')"
   ]
  },
  {
   "cell_type": "code",
   "execution_count": null,
   "metadata": {
    "collapsed": true
   },
   "outputs": [],
   "source": []
  },
  {
   "cell_type": "code",
   "execution_count": null,
   "metadata": {
    "collapsed": true
   },
   "outputs": [],
   "source": []
  },
  {
   "cell_type": "code",
   "execution_count": null,
   "metadata": {
    "collapsed": true
   },
   "outputs": [],
   "source": []
  }
 ],
 "metadata": {
  "kernelspec": {
   "display_name": "Python 3",
   "language": "python",
   "name": "python3"
  },
  "language_info": {
   "codemirror_mode": {
    "name": "ipython",
    "version": 3
   },
   "file_extension": ".py",
   "mimetype": "text/x-python",
   "name": "python",
   "nbconvert_exporter": "python",
   "pygments_lexer": "ipython3",
   "version": "3.6.2"
  },
  "toc": {
   "nav_menu": {},
   "number_sections": true,
   "sideBar": true,
   "skip_h1_title": true,
   "toc_cell": true,
   "toc_position": {},
   "toc_section_display": "block",
   "toc_window_display": false
  }
 },
 "nbformat": 4,
 "nbformat_minor": 2
}
