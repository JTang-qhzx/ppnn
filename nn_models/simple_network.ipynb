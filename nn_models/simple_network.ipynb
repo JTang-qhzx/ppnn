{
 "cells": [
  {
   "cell_type": "markdown",
   "metadata": {},
   "source": [
    "# Simple network to minimize CRPS\n",
    "\n",
    "**Steps (to be updated)**\n",
    "1. Compute CRPS for raw ensemble and try to reproduce Sebastians results; first probably the monthly data, since this is much easier (maybe in data_io notebook)\n",
    "2. Set up network structure (first here, then probably in separate module)\n",
    "3. Try feeding some data to the model and sanity-check the output\n",
    "4. Run the network on the full dataset."
   ]
  }
 ],
 "metadata": {
  "kernelspec": {
   "display_name": "Python 3",
   "language": "python",
   "name": "python3"
  },
  "language_info": {
   "codemirror_mode": {
    "name": "ipython",
    "version": 3
   },
   "file_extension": ".py",
   "mimetype": "text/x-python",
   "name": "python",
   "nbconvert_exporter": "python",
   "pygments_lexer": "ipython3",
   "version": "3.4.5"
  }
 },
 "nbformat": 4,
 "nbformat_minor": 2
}
