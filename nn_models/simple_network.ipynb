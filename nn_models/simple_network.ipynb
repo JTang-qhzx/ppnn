{
 "cells": [
  {
   "cell_type": "markdown",
   "metadata": {},
   "source": [
    "# Simple network to minimize CRPS\n"
   ]
  },
  {
   "cell_type": "markdown",
   "metadata": {},
   "source": [
    "The EMOS analog is a simple network like this:\n",
    "\n",
    "![title](EMOS_network.png)\n",
    "\n",
    "In this notebook we will build this simple network in theano and use the CRPS as a cost function. "
   ]
  },
  {
   "cell_type": "code",
   "execution_count": 9,
   "metadata": {},
   "outputs": [
    {
     "data": {
      "text/plain": [
       "<mtrand.RandomState at 0x10e59c948>"
      ]
     },
     "execution_count": 9,
     "metadata": {},
     "output_type": "execute_result"
    }
   ],
   "source": [
    "# First, let's import the libraries we need\n",
    "import theano\n",
    "import theano.tensor as T\n",
    "import numpy as np\n",
    "from importlib import reload   # So that we can reload utils\n",
    "import utils; reload(utils)   # This contains our own functions\n",
    "\n",
    "# Let's make this notebook reproducible by defining the random seed\n",
    "np.random.RandomState(42)   # I don't even like the hitchhiker..."
   ]
  },
  {
   "cell_type": "markdown",
   "metadata": {},
   "source": [
    "I followed this tutorial to figure out the theano basics: http://www.marekrei.com/blog/theano-tutorial/\n",
    "\n",
    "We will now attempt to build a simplle class for our model following: https://github.com/marekrei/theano-tutorial/blob/master/classifier.py\n",
    "\n",
    "So the first step is to create a class and initialize the network architecture. theano allocates a graph. This means that we first plot out the computations which will be done in the future. "
   ]
  },
  {
   "cell_type": "code",
   "execution_count": 2,
   "metadata": {
    "collapsed": true
   },
   "outputs": [],
   "source": [
    "class EMOS_Network(object):\n",
    "    def __init__(self):\n",
    "        \"\"\"\n",
    "        This function is called once an object of this class is created.\n",
    "        \"\"\"\n",
    "        # Before we start with the network, let's define\n",
    "        # the learning rate as an input so we can vary it\n",
    "        lr = T.fscalar('lr')\n",
    "        \n",
    "        # First let's define the input to the network\n",
    "        # This is the ensemble mean (meanx), \n",
    "        # the ensemble stadnard deviation (stdx) and\n",
    "        # the corresponding observation (target)\n",
    "        # In theano we use tensors to describe these variables.\n",
    "        # T.fvector allocates a float32 1D vector\n",
    "        meanx = T.fvector('meanx')   # The name helps with debugging\n",
    "        stdx = T.fvector('stdx')\n",
    "        target = T.fvector('target')\n",
    "        \n",
    "        # Next we allocate the weights (a, b, c, d) as shared\n",
    "        # variables and initialize some value for them.\n",
    "        # For now we will just draw a random variable from N(0, 1)\n",
    "        a = theano.shared(np.random.randn(), 'a')\n",
    "        b = theano.shared(np.random.randn(), 'b')\n",
    "        c = theano.shared(np.random.randn(), 'c')\n",
    "        d = theano.shared(np.random.randn(), 'd')\n",
    "        \n",
    "        # Now that we have the input and the weights, \n",
    "        # we can set up the network.\n",
    "        mu = a + meanx * b\n",
    "        sigma = c + stdx * d\n",
    "        \n",
    "        # Now comes the cost function.\n",
    "        # To stop sigma from becoming negative we first have to \n",
    "        # convert it the the variance and then take the square\n",
    "        # root again. (I learned from experience...)\n",
    "        # This part of the code is inspired by Kai Polsterer's code!\n",
    "        var = T.sqr(sigma)\n",
    "        # The following three variables are just for convenience\n",
    "        loc = (target - mu) / T.sqrt(var)\n",
    "        phi = 1.0 / np.sqrt(2.0 * np.pi) * T.exp(-T.square(loc) / 2.0)\n",
    "        Phi = 0.5 * (1.0 + T.erf(loc / np.sqrt(2.0)))\n",
    "        # First we will compute the crps for each input/target pair\n",
    "        crps =  T.sqrt(var) * (loc * (2. * Phi - 1.) + 2 * phi - 1. / np.sqrt(np.pi))\n",
    "        # Then we take the mean. The cost is now a scalar\n",
    "        mean_crps = T.mean(crps)\n",
    "        \n",
    "        # Now compute the gradients of the cost function \n",
    "        # with respect to the four weights/parameters\n",
    "        params = [a, b, c, d]   # Let's put them in a list for convenience\n",
    "        gradients = theano.tensor.grad(mean_crps, params)\n",
    "        \n",
    "        # For gradient descent we now need to subtract the gradients\n",
    "        # from our parameters to minimize the cost function\n",
    "        # In theano we want to define a list of tuples containing\n",
    "        # the old parameter and the updated parameter.\n",
    "        updates = [(p, p - lr * g) for p, g in zip(params, gradients)]\n",
    "        \n",
    "        # So far no actual computations have been done. Now we will\n",
    "        # define a Theano function, which takes input, does some \n",
    "        # calculations and returns some output. In our case, we use \n",
    "        # meanx, stdx and the target as an input plus the required \n",
    "        # learning rate and return the mean_crps\n",
    "        # as an output. Then we tell the function to apply the update\n",
    "        # every time it is called. This is the training\n",
    "        self.train = theano.function([meanx, stdx, target, lr], \n",
    "                                     mean_crps, updates=updates)\n",
    "        # Furthermore, we define a method for simply making a prediction\n",
    "        # and returning the predicted values of mu and sigma\n",
    "        # along with the mean_crps without updating the parameters\n",
    "        self.predict = theano.function([meanx, stdx, target],\n",
    "                                       [mu, sigma, mean_crps])"
   ]
  },
  {
   "cell_type": "markdown",
   "metadata": {},
   "source": [
    "Now we can use the functions defined in utils.py to prepare the data for our network. Since something apparently went wrong. We need to check properly what we are doing here..."
   ]
  },
  {
   "cell_type": "code",
   "execution_count": 4,
   "metadata": {
    "collapsed": true
   },
   "outputs": [],
   "source": [
    "# DATA_DIR = '/project/meteo/w2w/C7/ppnn_data/'   # At LMU\n",
    "DATA_DIR = '/Users/stephanrasp/repositories/ppnn/data/'  # Mac\n",
    "fn = 'data_interpolated.nc'"
   ]
  },
  {
   "cell_type": "code",
   "execution_count": 7,
   "metadata": {},
   "outputs": [],
   "source": [
    "# Let's load the full dataset for 00 UTC\n",
    "from utils import load_nc_data\n",
    "tobs_full, tfc_full, dates = load_nc_data(DATA_DIR + fn, utc=0)"
   ]
  },
  {
   "cell_type": "code",
   "execution_count": 46,
   "metadata": {
    "collapsed": true
   },
   "outputs": [],
   "source": [
    "# Now let's load the data for a particular date\n",
    "from datetime import datetime\n",
    "# First the start of 2008 where we know the network produces good results\n",
    "date_idx = np.where(dates == datetime(2008, 1, 1, 0, 0))[0][0]"
   ]
  },
  {
   "cell_type": "code",
   "execution_count": 47,
   "metadata": {},
   "outputs": [
    {
     "data": {
      "text/plain": [
       "363"
      ]
     },
     "execution_count": 47,
     "metadata": {},
     "output_type": "execute_result"
    }
   ],
   "source": [
    "date_idx"
   ]
  },
  {
   "cell_type": "code",
   "execution_count": 48,
   "metadata": {},
   "outputs": [],
   "source": [
    "# Get the rolling data\n",
    "from utils import get_rolling_slice\n",
    "window_size = 50\n",
    "tobs_roll, tfc_roll = get_rolling_slice(tobs_full, tfc_full, date_idx, \n",
    "                                        window_size=50)"
   ]
  },
  {
   "cell_type": "code",
   "execution_count": 49,
   "metadata": {},
   "outputs": [
    {
     "data": {
      "text/plain": [
       "(50, 537)"
      ]
     },
     "execution_count": 49,
     "metadata": {},
     "output_type": "execute_result"
    }
   ],
   "source": [
    "# Let's have a look\n",
    "tobs_roll.shape"
   ]
  },
  {
   "cell_type": "code",
   "execution_count": 50,
   "metadata": {},
   "outputs": [
    {
     "data": {
      "text/plain": [
       "masked_array(data =\n",
       " [[3.700000047683716 4.800000190734863 -- ..., -- -- --]\n",
       " [9.100000381469727 4.800000190734863 -- ..., -- -- --]\n",
       " [2.9000000953674316 2.799999952316284 -- ..., -- -- --]\n",
       " ..., \n",
       " [2.5999999046325684 3.200000047683716 -- ..., -- -- --]\n",
       " [6.5 6.599999904632568 -- ..., -- -- --]\n",
       " [5.699999809265137 5.199999809265137 -- ..., -- -- --]],\n",
       "             mask =\n",
       " [[False False  True ...,  True  True  True]\n",
       " [False False  True ...,  True  True  True]\n",
       " [False False  True ...,  True  True  True]\n",
       " ..., \n",
       " [False False  True ...,  True  True  True]\n",
       " [False False  True ...,  True  True  True]\n",
       " [False False  True ...,  True  True  True]],\n",
       "       fill_value = nan)"
      ]
     },
     "execution_count": 50,
     "metadata": {},
     "output_type": "execute_result"
    }
   ],
   "source": [
    "tobs_roll"
   ]
  },
  {
   "cell_type": "code",
   "execution_count": 51,
   "metadata": {},
   "outputs": [
    {
     "data": {
      "text/plain": [
       "(50, 50, 537)"
      ]
     },
     "execution_count": 51,
     "metadata": {},
     "output_type": "execute_result"
    }
   ],
   "source": [
    "tfc_roll.shape"
   ]
  },
  {
   "cell_type": "code",
   "execution_count": 52,
   "metadata": {},
   "outputs": [
    {
     "data": {
      "text/plain": [
       "masked_array(data =\n",
       " [[[4.4863667488098145 5.930790901184082 0.6952639818191528 ...,\n",
       "   2.151733636856079 0.748621940612793 -1.0581520795822144]\n",
       "  [3.573096752166748 5.414275169372559 0.49229979515075684 ...,\n",
       "   1.5874178409576416 0.4867839813232422 -1.1763743162155151]\n",
       "  [3.2853031158447266 4.290738105773926 0.2042846530675888 ...,\n",
       "   0.8929295539855957 0.4049934446811676 -1.1366537809371948]\n",
       "  ..., \n",
       "  [3.09186053276062 5.528171539306641 0.31807267665863037 ...,\n",
       "   1.6881364583969116 0.35872882604599 -1.5075303316116333]\n",
       "  [4.235722064971924 5.636447429656982 0.36778688430786133 ...,\n",
       "   2.190711259841919 0.22722069919109344 -1.63046395778656]\n",
       "  [4.143649101257324 5.2011518478393555 0.7157855033874512 ...,\n",
       "   1.704045057296753 0.6392019391059875 -0.939346194267273]]\n",
       "\n",
       " [[3.3514764308929443 3.576864719390869 0.12304132431745529 ...,\n",
       "   0.3106367886066437 0.1293289065361023 -1.2349233627319336]\n",
       "  [8.388317108154297 2.5149099826812744 4.569783687591553 ...,\n",
       "   1.6657108068466187 3.3095500469207764 1.5878010988235474]\n",
       "  [5.988711833953857 3.952920913696289 2.108957529067993 ...,\n",
       "   1.6097506284713745 1.4749457836151123 0.1584286093711853]\n",
       "  ..., \n",
       "  [7.982883453369141 5.832729816436768 4.463179588317871 ...,\n",
       "   4.634300708770752 4.931338787078857 2.3058176040649414]\n",
       "  [7.788930892944336 3.837509870529175 4.6208109855651855 ...,\n",
       "   1.8825958967208862 3.6106858253479004 1.7253202199935913]\n",
       "  [4.304317474365234 3.8008997440338135 1.001053810119629 ...,\n",
       "   0.9812064170837402 0.7011911273002625 -0.7036186456680298]]\n",
       "\n",
       " [[2.3621771335601807 3.099113941192627 2.481947422027588 ...,\n",
       "   1.4260668754577637 1.8419886827468872 0.6736844182014465]\n",
       "  [2.486109495162964 3.070362091064453 1.8198885917663574 ...,\n",
       "   0.9562580585479736 1.170333981513977 0.005858194548636675]\n",
       "  [3.0238053798675537 3.025637149810791 2.9176323413848877 ...,\n",
       "   1.1550108194351196 2.3243136405944824 1.0231561660766602]\n",
       "  ..., \n",
       "  [3.0203869342803955 3.077472686767578 2.1587462425231934 ...,\n",
       "   1.3148881196975708 1.6146836280822754 0.42156583070755005]\n",
       "  [2.6406784057617188 3.387939929962158 1.5603303909301758 ...,\n",
       "   1.3719451427459717 1.2235368490219116 0.0844467505812645]\n",
       "  [2.4705758094787598 2.274273157119751 2.6171352863311768 ...,\n",
       "   1.3431379795074463 2.2105510234832764 1.0285258293151855]]\n",
       "\n",
       " ..., \n",
       " [[3.1039044857025146 2.8464109897613525 -2.4128458499908447 ...,\n",
       "   -0.7198278307914734 -3.433295488357544 -5.391120433807373]\n",
       "  [2.2953357696533203 2.3770928382873535 -3.186647891998291 ...,\n",
       "   -3.09671950340271 -4.155522346496582 -7.3025054931640625]\n",
       "  [2.7974491119384766 2.5908775329589844 -3.9864838123321533 ...,\n",
       "   -2.1129889488220215 -4.492561340332031 -8.183035850524902]\n",
       "  ..., \n",
       "  [1.4045296907424927 2.506513833999634 -3.794724941253662 ...,\n",
       "   -2.920689344406128 -4.303775310516357 -7.2174787521362305]\n",
       "  [2.4755489826202393 2.228394031524658 -3.677234172821045 ...,\n",
       "   -3.0186550617218018 -4.303028106689453 -5.904457092285156]\n",
       "  [3.0521323680877686 2.8124983310699463 -3.6721131801605225 ...,\n",
       "   0.27430814504623413 -5.244819641113281 -8.483381271362305]]\n",
       "\n",
       " [[4.4145402908325195 5.461815357208252 -2.785320281982422 ...,\n",
       "   0.7215885519981384 -3.5397422313690186 -6.695036888122559]\n",
       "  [4.909140110015869 6.131800651550293 -2.5791068077087402 ...,\n",
       "   1.0693845748901367 -2.5603902339935303 -4.483880996704102]\n",
       "  [5.159893989562988 7.408174514770508 -2.2593252658843994 ...,\n",
       "   1.637308955192566 -2.1999869346618652 -3.8483614921569824]\n",
       "  ..., \n",
       "  [4.947722911834717 5.998691558837891 -3.072223663330078 ...,\n",
       "   0.9611271023750305 -2.9121994972229004 -5.350111961364746]\n",
       "  [5.041064739227295 6.485055446624756 -3.007373809814453 ...,\n",
       "   1.4341413974761963 -3.6450042724609375 -7.044599533081055]\n",
       "  [5.162445545196533 6.1253838539123535 -2.8803582191467285 ...,\n",
       "   1.9811809062957764 -2.561894178390503 -5.173754692077637]]\n",
       "\n",
       " [[1.6525522470474243 3.027338743209839 -4.83048677444458 ...,\n",
       "   0.6751090288162231 -3.6523349285125732 -5.92773962020874]\n",
       "  [2.359720230102539 3.543717384338379 -4.220642566680908 ...,\n",
       "   0.5960668325424194 -3.110403537750244 -5.5690226554870605]\n",
       "  [1.02228581905365 2.6604433059692383 -3.784860849380493 ...,\n",
       "   0.2804611921310425 -3.193093776702881 -4.630982875823975]\n",
       "  ..., \n",
       "  [2.0923569202423096 3.2306904792785645 -4.684576988220215 ...,\n",
       "   0.5007815361022949 -3.4903197288513184 -6.113251209259033]\n",
       "  [1.5802587270736694 3.2674195766448975 -4.57720422744751 ...,\n",
       "   0.3278079032897949 -3.41371488571167 -2.934645414352417]\n",
       "  [1.305545449256897 3.2366859912872314 -3.9991960525512695 ...,\n",
       "   0.29260122776031494 -3.158984899520874 -6.5568108558654785]]],\n",
       "             mask =\n",
       " [[[False False False ..., False False False]\n",
       "  [False False False ..., False False False]\n",
       "  [False False False ..., False False False]\n",
       "  ..., \n",
       "  [False False False ..., False False False]\n",
       "  [False False False ..., False False False]\n",
       "  [False False False ..., False False False]]\n",
       "\n",
       " [[False False False ..., False False False]\n",
       "  [False False False ..., False False False]\n",
       "  [False False False ..., False False False]\n",
       "  ..., \n",
       "  [False False False ..., False False False]\n",
       "  [False False False ..., False False False]\n",
       "  [False False False ..., False False False]]\n",
       "\n",
       " [[False False False ..., False False False]\n",
       "  [False False False ..., False False False]\n",
       "  [False False False ..., False False False]\n",
       "  ..., \n",
       "  [False False False ..., False False False]\n",
       "  [False False False ..., False False False]\n",
       "  [False False False ..., False False False]]\n",
       "\n",
       " ..., \n",
       " [[False False False ..., False False False]\n",
       "  [False False False ..., False False False]\n",
       "  [False False False ..., False False False]\n",
       "  ..., \n",
       "  [False False False ..., False False False]\n",
       "  [False False False ..., False False False]\n",
       "  [False False False ..., False False False]]\n",
       "\n",
       " [[False False False ..., False False False]\n",
       "  [False False False ..., False False False]\n",
       "  [False False False ..., False False False]\n",
       "  ..., \n",
       "  [False False False ..., False False False]\n",
       "  [False False False ..., False False False]\n",
       "  [False False False ..., False False False]]\n",
       "\n",
       " [[False False False ..., False False False]\n",
       "  [False False False ..., False False False]\n",
       "  [False False False ..., False False False]\n",
       "  ..., \n",
       "  [False False False ..., False False False]\n",
       "  [False False False ..., False False False]\n",
       "  [False False False ..., False False False]]],\n",
       "       fill_value = nan)"
      ]
     },
     "execution_count": 52,
     "metadata": {},
     "output_type": "execute_result"
    }
   ],
   "source": [
    "tfc_roll"
   ]
  },
  {
   "cell_type": "code",
   "execution_count": 53,
   "metadata": {},
   "outputs": [
    {
     "name": "stdout",
     "output_type": "stream",
     "text": [
      "NaNs / Full = 2815 / 26850\n"
     ]
    }
   ],
   "source": [
    "# Now prep the data\n",
    "from utils import prep_data\n",
    "tobs_prep, tfc_mean, tfc_std = prep_data(tobs_roll, tfc_roll, verbose=True)"
   ]
  },
  {
   "cell_type": "code",
   "execution_count": 54,
   "metadata": {},
   "outputs": [
    {
     "data": {
      "text/plain": [
       "array([ 3.70000005,  4.80000019,  2.9000001 , ...,  4.30000019,\n",
       "       -0.5       ,  0.30000001], dtype=float32)"
      ]
     },
     "execution_count": 54,
     "metadata": {},
     "output_type": "execute_result"
    }
   ],
   "source": [
    "tobs_prep"
   ]
  },
  {
   "cell_type": "code",
   "execution_count": 55,
   "metadata": {},
   "outputs": [
    {
     "data": {
      "text/plain": [
       "array([ 4.06999922,  5.2897644 ,  0.53366452, ...,  2.19174147,\n",
       "       -1.81171703,  0.61144823], dtype=float32)"
      ]
     },
     "execution_count": 55,
     "metadata": {},
     "output_type": "execute_result"
    }
   ],
   "source": [
    "tfc_mean"
   ]
  },
  {
   "cell_type": "code",
   "execution_count": 56,
   "metadata": {},
   "outputs": [
    {
     "data": {
      "text/plain": [
       "array([ 0.76223564,  0.64724141,  0.27164799, ...,  0.39645424,\n",
       "        0.90396494,  0.40675566], dtype=float32)"
      ]
     },
     "execution_count": 56,
     "metadata": {},
     "output_type": "execute_result"
    }
   ],
   "source": [
    "tfc_std"
   ]
  },
  {
   "cell_type": "code",
   "execution_count": 57,
   "metadata": {
    "collapsed": true
   },
   "outputs": [],
   "source": [
    "# Now let's initialize the model\n",
    "model = EMOS_Network()"
   ]
  },
  {
   "cell_type": "code",
   "execution_count": 58,
   "metadata": {},
   "outputs": [
    {
     "name": "stdout",
     "output_type": "stream",
     "text": [
      "Step 0; mean_crps = 5.253\n",
      "Step 20; mean_crps = 1.042\n",
      "Step 40; mean_crps = 0.990\n",
      "Step 60; mean_crps = 0.978\n",
      "Step 80; mean_crps = 0.975\n",
      "Step 100; mean_crps = 0.974\n",
      "Step 120; mean_crps = 0.973\n",
      "Step 140; mean_crps = 0.973\n",
      "Step 160; mean_crps = 0.972\n",
      "Step 180; mean_crps = 0.972\n"
     ]
    }
   ],
   "source": [
    "# And train it\n",
    "lr = np.asarray(0.1, dtype='float32')\n",
    "for i in range(200):\n",
    "    cost = model.train(tfc_mean, tfc_std, tobs_prep, lr)\n",
    "    if i%20 == 0: print('Step %i; mean_crps = %.3f' % (i, cost))"
   ]
  },
  {
   "cell_type": "markdown",
   "metadata": {},
   "source": [
    "Now let's make a prediction for the date we picked"
   ]
  },
  {
   "cell_type": "code",
   "execution_count": 59,
   "metadata": {},
   "outputs": [
    {
     "name": "stdout",
     "output_type": "stream",
     "text": [
      "NaNs / Full = 58 / 537\n"
     ]
    }
   ],
   "source": [
    "tobs_date, tfc_date = (tobs_full[date_idx], tfc_full[date_idx])\n",
    "tobs_date, tfc_mean_date, tfc_std_date = prep_data(tobs_date, tfc_date, verbose=True)"
   ]
  },
  {
   "cell_type": "code",
   "execution_count": 60,
   "metadata": {},
   "outputs": [
    {
     "data": {
      "text/plain": [
       "array(0.9191101353672251)"
      ]
     },
     "execution_count": 60,
     "metadata": {},
     "output_type": "execute_result"
    }
   ],
   "source": [
    "model.predict(tfc_mean_date, tfc_std_date, tobs_date)[2]"
   ]
  },
  {
   "cell_type": "code",
   "execution_count": 61,
   "metadata": {},
   "outputs": [
    {
     "data": {
      "text/plain": [
       "545"
      ]
     },
     "execution_count": 61,
     "metadata": {},
     "output_type": "execute_result"
    }
   ],
   "source": [
    "# All looks good, but now let's have a look at a different date\n",
    "date_idx = np.where(dates == datetime(2008, 7, 1, 0, 0))[0][0]\n",
    "date_idx"
   ]
  },
  {
   "cell_type": "code",
   "execution_count": 62,
   "metadata": {},
   "outputs": [
    {
     "name": "stdout",
     "output_type": "stream",
     "text": [
      "NaNs / Full = 2034 / 26850\n"
     ]
    }
   ],
   "source": [
    "tobs_roll, tfc_roll = get_rolling_slice(tobs_full, tfc_full, date_idx, \n",
    "                                        window_size=50)\n",
    "tobs_prep, tfc_mean, tfc_std = prep_data(tobs_roll, tfc_roll, verbose=True)"
   ]
  },
  {
   "cell_type": "code",
   "execution_count": 63,
   "metadata": {},
   "outputs": [
    {
     "name": "stdout",
     "output_type": "stream",
     "text": [
      "Step 0; mean_crps = 19.984\n",
      "Step 20; mean_crps = 7.045\n",
      "Step 40; mean_crps = 5.576\n",
      "Step 60; mean_crps = 4.503\n",
      "Step 80; mean_crps = 3.878\n",
      "Step 100; mean_crps = 3.562\n",
      "Step 120; mean_crps = 3.415\n",
      "Step 140; mean_crps = 3.350\n",
      "Step 160; mean_crps = 3.322\n",
      "Step 180; mean_crps = 3.310\n"
     ]
    }
   ],
   "source": [
    "model = EMOS_Network()\n",
    "lr = np.asarray(0.1, dtype='float32')\n",
    "for i in range(200):\n",
    "    cost = model.train(tfc_mean, tfc_std, tobs_prep, lr)\n",
    "    if i%20 == 0: print('Step %i; mean_crps = %.3f' % (i, cost))"
   ]
  },
  {
   "cell_type": "code",
   "execution_count": 70,
   "metadata": {},
   "outputs": [
    {
     "name": "stdout",
     "output_type": "stream",
     "text": [
      "Step 0; mean_crps = 3.281\n",
      "Step 200; mean_crps = 3.280\n",
      "Step 400; mean_crps = 3.280\n",
      "Step 600; mean_crps = 3.279\n",
      "Step 800; mean_crps = 3.279\n",
      "Step 1000; mean_crps = 3.279\n",
      "Step 1200; mean_crps = 3.279\n",
      "Step 1400; mean_crps = 3.278\n",
      "Step 1600; mean_crps = 3.278\n",
      "Step 1800; mean_crps = 3.278\n"
     ]
    }
   ],
   "source": [
    "# Alright, damn, what is going on... Let's train some more\n",
    "for i in range(2000):\n",
    "    cost = model.train(tfc_mean, tfc_std, tobs_prep, lr)\n",
    "    if i%200 == 0: print('Step %i; mean_crps = %.3f' % (i, cost))"
   ]
  },
  {
   "cell_type": "code",
   "execution_count": 71,
   "metadata": {},
   "outputs": [
    {
     "name": "stdout",
     "output_type": "stream",
     "text": [
      "NaNs / Full = 38 / 537\n"
     ]
    }
   ],
   "source": [
    "tobs_date, tfc_date = (tobs_full[date_idx], tfc_full[date_idx])\n",
    "tobs_date, tfc_mean_date, tfc_std_date = prep_data(tobs_date, tfc_date, verbose=True)"
   ]
  },
  {
   "cell_type": "code",
   "execution_count": 72,
   "metadata": {},
   "outputs": [
    {
     "data": {
      "text/plain": [
       "array([ 13.69999981,  10.5       ,  13.10000038,  12.10000038,\n",
       "        10.        ,  15.80000019,  11.80000019,  14.89999962,\n",
       "        13.39999962,  12.69999981,  13.69999981,  12.        ,\n",
       "        10.80000019,  14.60000038,  11.30000019,  12.80000019,\n",
       "        15.60000038,  11.60000038,  14.30000019,  15.69999981,\n",
       "        16.10000038,  12.89999962,  12.69999981,  10.60000038,\n",
       "         9.39999962,  11.80000019,  10.80000019,  12.80000019,\n",
       "        16.5       ,  14.30000019,  12.        ,  18.39999962,\n",
       "        11.10000038,  17.89999962,  11.80000019,  11.80000019,\n",
       "         9.        ,  15.5       ,  12.80000019,  13.39999962,\n",
       "        14.39999962,  11.39999962,  15.80000019,  16.29999924,\n",
       "        13.        ,  12.30000019,  11.80000019,  10.69999981,\n",
       "        12.19999981,  11.5       ,  10.19999981,  13.        ,\n",
       "        12.39999962,  14.10000038,   9.30000019,  10.69999981,\n",
       "        12.30000019,  16.39999962,  14.5       ,  13.89999962,\n",
       "        11.69999981,  10.        ,  13.        ,  15.30000019,\n",
       "        15.19999981,  10.89999962,  14.39999962,  11.10000038,\n",
       "        13.5       ,  10.89999962,  13.10000038,  12.5       ,\n",
       "        14.89999962,  12.39999962,  10.5       ,  14.39999962,\n",
       "         8.19999981,  11.10000038,  14.69999981,  12.10000038,\n",
       "        13.30000019,  10.80000019,  14.30000019,  13.30000019,\n",
       "        16.89999962,  10.60000038,  11.89999962,  13.19999981,\n",
       "        11.19999981,  10.10000038,  15.89999962,  15.80000019,\n",
       "        15.        ,  18.39999962,  13.69999981,  15.39999962,\n",
       "        10.89999962,  14.10000038,  13.80000019,  11.39999962,\n",
       "        10.19999981,  16.        ,  11.80000019,  15.19999981,\n",
       "        10.60000038,  12.80000019,  10.80000019,  10.10000038,\n",
       "        13.39999962,  14.89999962,  17.29999924,  10.5       ,\n",
       "        15.19999981,  11.89999962,  13.30000019,   9.80000019,\n",
       "         9.10000038,  14.19999981,  15.69999981,  15.80000019,\n",
       "        15.39999962,  16.5       ,   9.80000019,  14.10000038,\n",
       "        13.10000038,   9.80000019,  11.69999981,  13.30000019,\n",
       "        11.69999981,  11.5       ,  16.79999924,  16.5       ,\n",
       "         9.        ,  12.30000019,  15.80000019,  13.80000019,\n",
       "         8.5       ,  11.89999962,  14.80000019,  10.69999981,\n",
       "        11.69999981,  12.89999962,  10.60000038,  11.39999962,\n",
       "        13.        ,  17.29999924,  14.39999962,   8.60000038,\n",
       "        14.        ,  16.39999962,  11.19999981,  14.5       ,\n",
       "        11.19999981,  12.10000038,  15.5       ,  12.30000019,\n",
       "        10.19999981,  12.69999981,  16.79999924,  10.39999962,\n",
       "        11.10000038,   9.69999981,  14.69999981,  11.30000019,\n",
       "        15.39999962,  11.5       ,   9.5       ,  10.39999962,\n",
       "        12.89999962,  13.5       ,  13.19999981,  14.        ,\n",
       "        13.89999962,   9.89999962,  16.60000038,  13.69999981,\n",
       "        15.80000019,  14.69999981,  11.19999981,  13.        ,\n",
       "        12.60000038,  13.69999981,  12.89999962,  15.        ,\n",
       "        14.        ,   9.30000019,  12.89999962,  15.69999981,\n",
       "        10.19999981,  12.5       ,   9.5       ,  15.19999981,\n",
       "        12.39999962,  13.80000019,  20.20000076,  10.89999962,\n",
       "        14.        ,  10.80000019,  11.        ,  16.70000076,\n",
       "        15.89999962,  15.60000038,  10.        ,  16.5       ,\n",
       "        15.89999962,   9.30000019,  13.69999981,  10.89999962,\n",
       "        14.80000019,  11.10000038,  10.60000038,  13.5       ,\n",
       "        14.        ,  13.80000019,  14.        ,  14.30000019,\n",
       "        10.60000038,  11.30000019,  13.60000038,  10.        ,\n",
       "        11.80000019,  11.5       ,  10.19999981,   9.80000019,\n",
       "        10.5       ,  13.10000038,  12.39999962,  17.39999962,\n",
       "        13.19999981,  10.30000019,  13.30000019,  10.5       ,\n",
       "        14.60000038,  11.69999981,  10.60000038,  10.80000019,\n",
       "        14.30000019,  10.30000019,  12.60000038,  16.10000038,\n",
       "        13.80000019,  13.19999981,  17.20000076,  14.10000038,\n",
       "        12.10000038,  13.69999981,  13.19999981,  10.60000038,\n",
       "        12.89999962,  13.19999981,  10.89999962,  17.        ,\n",
       "        16.10000038,   9.80000019,  15.        ,  14.89999962,\n",
       "        14.30000019,  14.        ,  10.60000038,  12.39999962,\n",
       "        13.39999962,  12.19999981,  10.80000019,  12.        ,\n",
       "        11.69999981,  10.39999962,  14.80000019,  11.30000019,\n",
       "        13.80000019,  13.        ,  14.60000038,  10.89999962,\n",
       "        12.60000038,  10.39999962,  13.10000038,  16.10000038,\n",
       "        13.89999962,  14.80000019,  16.70000076,  15.69999981,\n",
       "        11.10000038,  11.60000038,  14.80000019,  14.        ,\n",
       "        10.        ,  14.39999962,  15.89999962,   9.80000019,\n",
       "        10.        ,  14.30000019,  13.60000038,  14.80000019,\n",
       "        11.30000019,  15.89999962,  13.80000019,  12.5       ,\n",
       "        12.89999962,   9.19999981,   7.69999981,  11.        ,\n",
       "        17.60000038,  14.10000038,  13.19999981,  13.60000038,\n",
       "        14.80000019,  14.10000038,  19.70000076,  14.80000019,\n",
       "        15.30000019,  14.19999981,  11.69999981,  13.19999981,\n",
       "        12.30000019,  13.5       ,  15.39999962,  17.5       ,\n",
       "        13.10000038,  15.5       ,  13.19999981,  12.80000019,\n",
       "        16.39999962,  13.10000038,  12.89999962,   8.60000038,\n",
       "        13.5       ,  11.10000038,  10.30000019,  11.39999962,\n",
       "        12.19999981,  11.80000019,   9.69999981,  10.89999962,\n",
       "        12.69999981,  14.        ,  10.89999962,  12.69999981,\n",
       "        10.60000038,  10.19999981,  12.19999981,  14.        ,\n",
       "        17.79999924,  13.30000019,  10.69999981,  11.69999981,\n",
       "        14.30000019,  10.39999962,  10.5       ,   9.89999962,\n",
       "         9.5       ,  16.20000076,   9.69999981,  14.19999981,\n",
       "        19.29999924,  17.10000038,  15.69999981,  11.10000038,\n",
       "        10.        ,  10.19999981,   8.69999981,  13.89999962,\n",
       "        15.60000038,  10.30000019,  12.80000019,   8.89999962,\n",
       "        13.39999962,  13.69999981,  12.89999962,  15.89999962,\n",
       "        11.39999962,  11.5       ,  10.5       ,  12.39999962,\n",
       "        16.70000076,  11.5       ,  15.30000019,  16.        ,\n",
       "        13.5       ,  12.80000019,   9.69999981,  15.        ,\n",
       "        12.39999962,  11.39999962,  11.10000038,  12.60000038,\n",
       "        14.30000019,  14.5       ,  19.        ,  14.60000038,\n",
       "        14.        ,  11.30000019,  12.19999981,  12.89999962,\n",
       "        15.5       ,  14.80000019,  13.10000038,  14.5       ,\n",
       "        12.5       ,  12.10000038,  11.19999981,   9.5       ,\n",
       "        15.5       ,  14.39999962,  15.89999962,  14.39999962,\n",
       "        12.60000038,  11.10000038,  16.        ,  10.80000019,\n",
       "        13.69999981,  12.19999981,   5.0999999 ,  12.10000038,\n",
       "        13.        ,  11.60000038,  11.89999962,  10.80000019,\n",
       "        14.80000019,  13.89999962,  14.39999962,  10.        ,\n",
       "        14.        ,  11.39999962,   9.10000038,   9.39999962,\n",
       "         7.30000019,  12.80000019,  11.39999962,   8.69999981,\n",
       "         9.80000019,  11.89999962,  11.5       ,  10.        ,\n",
       "         9.89999962,  13.        ,  19.5       ,  17.70000076,\n",
       "        14.30000019,  14.10000038,  17.5       ,  12.10000038,\n",
       "        10.19999981,  12.19999981,  10.10000038,  11.69999981,\n",
       "        14.10000038,  12.39999962,   9.80000019,  10.89999962,\n",
       "        16.10000038,  11.80000019,  11.39999962,  10.69999981,\n",
       "        14.5       ,  16.20000076,  12.80000019,  13.10000038,\n",
       "        15.39999962,  10.19999981,  13.60000038,  11.30000019,\n",
       "        15.30000019,  10.5       ,  12.30000019,   9.89999962,\n",
       "        13.10000038,  14.10000038,   7.0999999 ,  13.89999962,\n",
       "         9.80000019,  11.19999981,  10.69999981,  11.5       ,\n",
       "        12.        ,  16.5       ,  10.10000038,  11.19999981,\n",
       "        10.60000038,  12.60000038,  12.5       ,  14.60000038,\n",
       "        13.        ,  11.69999981,  10.60000038,  13.19999981,\n",
       "        14.19999981,   9.60000038,  10.89999962,  14.        ,\n",
       "        11.10000038,  12.80000019,  15.19999981,  11.30000019,\n",
       "        11.5       ,  13.        ,  18.70000076,  12.60000038,\n",
       "        11.10000038,  11.5       ,   8.89999962], dtype=float32)"
      ]
     },
     "execution_count": 72,
     "metadata": {},
     "output_type": "execute_result"
    }
   ],
   "source": [
    "tobs_date"
   ]
  },
  {
   "cell_type": "code",
   "execution_count": 73,
   "metadata": {},
   "outputs": [
    {
     "data": {
      "text/plain": [
       "array([ 13.55058384,  13.03383064,  15.32144451,  12.84568214,\n",
       "        13.87557888,  14.59155369,  14.05849934,  14.96709251,\n",
       "        14.6340065 ,  14.05369377,  14.14020348,  13.56742954,\n",
       "        14.44900417,  15.7801199 ,  13.38423443,  13.63572502,\n",
       "        13.22556114,  13.32018757,  14.69623566,  14.3553772 ,\n",
       "        14.542593  ,  13.77421188,  13.53638077,  14.80587673,\n",
       "        14.75620079,  14.67786217,  13.67139626,  13.75500011,\n",
       "        14.41230679,  13.52021122,  12.62384796,  14.87437248,\n",
       "        13.76992035,  14.22496414,  14.07009506,  14.310112  ,\n",
       "        14.34304428,  14.17605209,  14.37809944,  14.18314171,\n",
       "        14.28602314,  14.05560017,  13.48828983,  13.45237446,\n",
       "        13.67435932,  13.61546612,  12.00461292,  13.10882854,\n",
       "        13.46009541,  13.02416706,  13.24192715,  13.19213963,\n",
       "        12.92817402,  12.80327606,  12.19948006,  13.22296429,\n",
       "        14.06164837,  14.30908966,  13.45488071,  13.61418724,\n",
       "        14.22168922,  13.22879505,  12.99536896,  13.57299519,\n",
       "        13.35919666,  13.48666477,  13.99110985,  15.02744102,\n",
       "        13.14917469,  13.97665024,  14.30220699,  13.52052021,\n",
       "        15.0180788 ,  12.99067116,  13.47283173,  14.39396954,\n",
       "        14.17939472,  15.02137184,  14.50905895,  14.39278316,\n",
       "        14.3470726 ,  14.42144775,  14.94987583,  13.61739254,\n",
       "        14.39835548,  13.65300179,  14.77721214,  13.820508  ,\n",
       "        11.76127911,  13.39284039,  14.16036415,  14.36012459,\n",
       "        14.89169407,  13.89325905,  14.56863499,  15.10684967,\n",
       "        11.68258762,  14.07051182,  13.86763191,  14.55048466,\n",
       "        13.75007057,  13.59548569,  13.49917507,  15.60692978,\n",
       "        12.46722317,  14.32449436,  13.37063026,  13.07878399,\n",
       "        13.63923359,  14.2410574 ,  14.39721966,  11.574893  ,\n",
       "        13.86240101,  14.46995354,  14.5647459 ,  13.49065685,\n",
       "        13.98142815,  10.89008808,  14.20804691,  14.8115263 ,\n",
       "        13.33806896,  14.17574978,  14.3772974 ,  14.07065964,\n",
       "        13.46341515,  14.31573963,  11.77462292,  14.46991253,\n",
       "        14.44307137,  13.00968266,  13.88602638,  14.67575932,\n",
       "        11.82146072,  14.78241444,  15.65203381,  13.2032156 ,\n",
       "        13.621768  ,  14.61032009,  13.45336819,  13.54871368,\n",
       "        14.31053829,  12.9712925 ,  11.33429337,  11.53477764,\n",
       "        13.21174335,  14.46202183,  13.17913914,  13.3928957 ,\n",
       "        13.6743021 ,  14.75843239,  13.86165142,  15.06078339,\n",
       "        13.82300568,  14.27896214,  15.6293087 ,  13.37149429,\n",
       "        14.39559174,  13.79190159,  12.6821804 ,  11.36487675,\n",
       "        13.29707718,  14.79812241,  13.33009052,  14.40493488,\n",
       "        13.45767784,  13.84654808,  11.06889725,  11.49831009,\n",
       "        14.09208965,  13.80765152,  14.04681396,  14.57772732,\n",
       "        13.0301218 ,  13.26164436,  14.81431675,  14.67425537,\n",
       "        12.96378708,  12.21811771,  12.06235313,  13.65102768,\n",
       "        14.16505337,  13.4858036 ,  13.55383587,  13.86924362,\n",
       "        14.14835167,  15.13184834,  12.90623093,  13.8359251 ,\n",
       "        14.70293713,  13.47333527,  13.72668552,  14.9818449 ,\n",
       "        14.4125309 ,  11.91762733,  13.61360359,  13.96504402,\n",
       "        14.13008785,  13.869524  ,  13.27239895,  14.29159451,\n",
       "        13.69233513,  13.9612999 ,  14.73194122,  13.63208485,\n",
       "        14.14064789,  12.21665668,  13.88121128,  14.26508999,\n",
       "        14.37029076,  13.53490925,  13.3802681 ,  14.17475128,\n",
       "        12.88057137,  14.47514439,  14.59339333,  12.55969715,\n",
       "        14.35485077,  14.12375355,  13.79196548,  14.13289833,\n",
       "        13.32537937,  12.78629398,  14.9239645 ,  11.87257004,\n",
       "        13.26163864,  13.50205803,  13.98027134,  14.30555916,\n",
       "        13.26452065,  13.96633339,  13.90113735,  13.36746311,\n",
       "        13.29195595,  13.17565632,  14.09664059,  13.7747488 ,\n",
       "        13.85972309,  14.33621788,  13.73145866,  13.76261139,\n",
       "        15.06794548,  14.25032997,  14.09873009,  14.13307381,\n",
       "        10.92985439,  13.88791275,  13.41569424,  14.30474854,\n",
       "        14.49288082,  15.0214529 ,  14.13502884,  14.4489994 ,\n",
       "        13.71712875,  15.03225803,  13.52115631,  14.91889668,\n",
       "        13.97792625,  13.45508099,  13.63017845,  14.18886185,\n",
       "        14.29821777,  13.40398693,  13.89277077,  13.87039757,\n",
       "        13.56640911,  13.44449234,  13.62800407,  12.96962643,\n",
       "        14.29332066,  13.60927582,  14.07034874,  13.15486526,\n",
       "        13.36619186,  14.07897377,  13.9251833 ,  11.80153275,\n",
       "        10.55867577,  14.14138412,  14.09249783,  13.96816254,\n",
       "        13.11056137,  14.46694565,  13.26379108,  14.20783234,\n",
       "        13.66702366,  11.74267864,  14.61531258,  12.52797127,\n",
       "        13.1351738 ,  14.53058147,  13.76470184,  14.40601826,\n",
       "        13.81416702,  14.06775379,  14.39137459,  15.60363865,\n",
       "        13.42502975,  13.8164587 ,  11.30007839,  13.14502239,\n",
       "        13.32600594,  14.9419117 ,  13.34766483,  14.06396484,\n",
       "        14.39103794,  12.8247776 ,  14.49969959,  13.78884506,\n",
       "        13.33664227,  14.02575684,  12.4630661 ,  14.31250477,\n",
       "        13.69813728,  13.84212112,  14.31794453,  14.59092999,\n",
       "        13.81078339,  14.3357029 ,  14.89617634,  13.93771839,\n",
       "        13.48934841,  13.95776749,  14.0048027 ,  13.23724461,\n",
       "        14.12116241,  11.57453632,  13.2948637 ,  14.04695034,\n",
       "        14.06462288,  13.1117363 ,  13.42273712,  14.68957043,\n",
       "        13.24058151,  14.34094715,  14.15660667,  12.93258286,\n",
       "        13.78404522,  13.69270515,  13.35027981,  13.79647923,\n",
       "        12.46059799,  14.81112671,  12.44494629,  13.49598598,\n",
       "        14.07989407,  14.64726543,  12.38619614,  11.62914753,\n",
       "        13.26391315,  13.71633816,  11.8909483 ,  15.28554058,\n",
       "        14.01666164,  14.07395744,  13.88609123,  13.8631897 ,\n",
       "        13.9955759 ,  13.26493454,  12.54273319,  14.12990952,\n",
       "        13.58918476,  13.33972454,  13.63828754,  13.7801342 ,\n",
       "        13.17433357,  13.20369148,  13.5728817 ,  14.16951752,\n",
       "        14.49191666,  14.37003708,  12.54510498,  13.62328339,\n",
       "        13.66135979,  13.61522675,  13.94983673,  14.82908821,\n",
       "        13.98527145,  14.56679726,  11.36463356,  13.77774811,\n",
       "        14.17030907,  14.66553974,  13.15039539,  13.50305653,\n",
       "        13.70027065,  14.0257864 ,  14.93074703,  13.37848663,\n",
       "        14.49459362,  12.33384514,  13.70151615,  13.24915981,\n",
       "        14.63572311,  13.19699478,  14.01786423,  14.49196243,\n",
       "        14.00943565,  14.57781506,  13.71516037,  13.53687763,\n",
       "        14.03627777,  14.80680084,  13.47876263,  13.21111488,\n",
       "        13.55391121,  13.52467728,  14.14056015,  13.68686676,\n",
       "        14.14716721,  14.07536411,  10.61635208,  13.61897564,\n",
       "        14.63563442,  13.0335598 ,  14.18848419,  13.17445087,\n",
       "        15.18501663,  13.67254353,  14.87316608,  12.07757187,\n",
       "        12.08414268,  12.08069801,  11.43994427,  13.51638889,\n",
       "        14.53928852,  13.8962059 ,  14.08190441,  12.05549812,\n",
       "        14.79633808,  15.34315395,  13.79359627,  14.39330578,\n",
       "        14.66932392,  13.62349129,  13.38717365,  13.96792316,\n",
       "        13.80429459,  13.72885227,  13.88061237,  14.34577656,\n",
       "        14.39737225,  13.34727764,  14.22862434,  14.2623558 ,\n",
       "        13.81770611,  13.88019562,  15.25980568,  13.78705215,\n",
       "        14.13054943,  13.39419842,  13.42364788,  13.46569347,\n",
       "        14.39360237,  13.53570461,  15.33469009,  13.2786026 ,\n",
       "        13.06083012,  13.86248684,  13.7288208 ,  12.55020714,\n",
       "        14.51558113,  13.89053917,  13.65867233,  13.72794724,\n",
       "        14.02522373,  13.92543983,  13.50265026,  14.73257828,\n",
       "        13.51125336,  14.4540062 ,  14.0927515 ,  14.375453  ,\n",
       "        13.97366238,  14.24860382,  14.2614975 ,  12.76748371,\n",
       "        13.89933491,  13.26790237,  15.53172398,  13.24729633,\n",
       "        12.64064407,  13.48101521,  13.99871063,  14.08694553,\n",
       "        12.70872307,  11.0841713 ,  13.99597454,  14.02244282,\n",
       "        13.14461899,  13.53600597,  14.53391647,  14.08799076,\n",
       "        13.53912926,  13.54861355,  15.63170815,  14.17925262,\n",
       "        13.39497566,  13.67275906,  13.47727203], dtype=float32)"
      ]
     },
     "execution_count": 73,
     "metadata": {},
     "output_type": "execute_result"
    }
   ],
   "source": [
    "tfc_mean_date"
   ]
  },
  {
   "cell_type": "code",
   "execution_count": 74,
   "metadata": {
    "scrolled": true
   },
   "outputs": [
    {
     "data": {
      "text/plain": [
       "array([ 1.70061159,  1.14917564,  1.12986577,  1.55695093,  1.37357807,\n",
       "        0.64940375,  1.59135628,  1.12673903,  1.25207162,  1.39302695,\n",
       "        1.3668983 ,  0.89800829,  0.45620793,  0.54176003,  1.75458217,\n",
       "        1.69035089,  1.3375448 ,  1.57698131,  1.17310965,  1.040084  ,\n",
       "        0.98054296,  1.51025367,  1.52172983,  0.44596279,  1.09719491,\n",
       "        1.43011582,  1.56818604,  1.72134137,  1.50899816,  1.65289152,\n",
       "        1.30033076,  1.1372509 ,  1.52225709,  0.93075961,  0.9225933 ,\n",
       "        0.91717589,  0.96548647,  0.9471159 ,  0.96936679,  0.89200014,\n",
       "        0.93811178,  1.43886626,  1.3372165 ,  0.95314622,  1.43382144,\n",
       "        1.88220882,  0.9588148 ,  0.52009684,  1.76376235,  1.60354531,\n",
       "        1.64389217,  1.43532515,  1.15344298,  0.95488369,  1.02703035,\n",
       "        1.62149298,  1.52000153,  0.90466559,  1.52055228,  1.52880919,\n",
       "        1.25854743,  1.58807254,  1.39813066,  1.55942667,  1.33753324,\n",
       "        1.62702012,  1.33480549,  1.22687137,  0.66574359,  1.58592486,\n",
       "        1.45896852,  1.17962301,  0.61039132,  1.51626611,  1.57592559,\n",
       "        1.26066923,  1.51745725,  1.32359684,  1.4759599 ,  1.53228271,\n",
       "        1.53610706,  1.02183032,  1.29347968,  1.63655651,  1.31116986,\n",
       "        1.52850342,  1.12545276,  1.34078789,  0.73750615,  1.44549835,\n",
       "        0.9144333 ,  0.93670511,  0.51733536,  0.91470701,  1.36292386,\n",
       "        1.10921526,  0.56886941,  1.64954829,  1.44498944,  1.20287693,\n",
       "        1.73083317,  1.76238048,  1.72778869,  1.12166011,  1.23193705,\n",
       "        0.89984405,  1.55952013,  1.5789057 ,  1.5938412 ,  1.46740675,\n",
       "        0.94083565,  0.81614375,  0.99071306,  1.22286999,  1.14198399,\n",
       "        1.63110828,  0.94982231,  1.37631524,  1.34528458,  1.13718462,\n",
       "        1.36774361,  0.98006505,  0.87621796,  1.75208867,  1.56504488,\n",
       "        1.19854522,  0.47668773,  1.40990424,  1.54399383,  0.61296976,\n",
       "        1.43875861,  1.15588224,  0.87864035,  0.37923655,  0.35164028,\n",
       "        1.63580215,  0.45989117,  1.35699797,  1.63424826,  0.80537593,\n",
       "        1.71818578,  1.40595591,  0.96475941,  1.08871078,  1.5348562 ,\n",
       "        1.18465316,  1.64292586,  1.61507082,  1.0212878 ,  1.42612875,\n",
       "        1.61644006,  0.62813765,  1.18834603,  1.21044993,  0.53107667,\n",
       "        1.76834345,  1.44439435,  1.37626338,  1.28817391,  0.58894962,\n",
       "        0.49547213,  1.24462616,  1.3572489 ,  1.53065157,  1.7699877 ,\n",
       "        1.14788115,  0.74409372,  0.55750406,  1.80115271,  1.5979166 ,\n",
       "        1.41494954,  1.15033782,  1.27254975,  1.78325415,  1.23861694,\n",
       "        1.24227405,  1.1760844 ,  1.16683137,  0.46102664,  1.42029238,\n",
       "        0.51669896,  1.63698411,  1.50499928,  1.46536207,  1.30779457,\n",
       "        1.39825833,  1.18168402,  0.90742546,  1.501719  ,  1.7881043 ,\n",
       "        1.47063768,  1.08680189,  1.47599101,  1.32080841,  1.06546342,\n",
       "        1.3490144 ,  1.36343157,  0.67222196,  0.50948286,  0.96180439,\n",
       "        1.23622823,  1.22890007,  1.16288912,  1.13100624,  1.17837822,\n",
       "        0.46707389,  1.50966215,  1.56098366,  1.61935306,  1.85421813,\n",
       "        0.77821726,  0.88710237,  0.42286235,  1.4766041 ,  1.02646375,\n",
       "        1.37632775,  1.45150721,  1.56402588,  0.56102186,  1.30632329,\n",
       "        1.62339485,  1.26571274,  1.16507995,  0.7047143 ,  0.93424767,\n",
       "        1.89411318,  1.215608  ,  1.36902583,  1.48978531,  0.96225691,\n",
       "        1.33495295,  1.52890861,  1.69359016,  0.65965861,  1.31273866,\n",
       "        1.5584594 ,  1.3976084 ,  1.52049971,  1.49795151,  0.94215953,\n",
       "        1.26746249,  1.50182331,  1.50718069,  1.51695049,  1.35257673,\n",
       "        1.53077316,  1.61580837,  1.53845632,  1.32308424,  1.19460201,\n",
       "        0.9755246 ,  1.24893343,  1.12218738,  1.3309269 ,  1.59025884,\n",
       "        1.10371578,  1.18314266,  1.76264417,  0.77329648,  1.23638082,\n",
       "        1.19926357,  1.81264067,  1.04783058,  0.72529769,  1.4590888 ,\n",
       "        1.72790849,  1.46871579,  1.4620899 ,  1.22934902,  1.71896422,\n",
       "        0.82155412,  0.74031234,  1.64521027,  1.37614369,  1.43827701,\n",
       "        1.26410711,  1.24738908,  1.39978659,  1.44465721,  1.42940259,\n",
       "        1.03467703,  1.47300005,  1.58186436,  1.8595655 ,  1.52879727,\n",
       "        1.22511697,  1.20455706,  0.53256822,  1.05642939,  1.25998652,\n",
       "        0.96369874,  1.04555643,  1.48693728,  1.42968833,  0.90183133,\n",
       "        0.42097607,  1.50088465,  1.71656287,  0.861157  ,  1.62796032,\n",
       "        1.06772339,  1.2473042 ,  1.88525021,  1.17375815,  0.99479926,\n",
       "        1.51129246,  0.95419788,  1.02231646,  1.3401556 ,  0.4503158 ,\n",
       "        1.14759064,  1.25671637,  1.4131937 ,  0.91495872,  1.25033116,\n",
       "        1.19577062,  0.98889071,  1.34005558,  1.16978371,  1.55208671,\n",
       "        1.65152848,  0.49915221,  1.56068695,  1.61389208,  1.38872123,\n",
       "        0.53927201,  1.70350301,  1.29672301,  1.27320969,  1.6180501 ,\n",
       "        1.4285233 ,  1.40230381,  1.75368571,  1.31698012,  1.28553629,\n",
       "        0.62486225,  0.73929489,  1.63324296,  1.79671681,  0.95116895,\n",
       "        1.25009298,  1.14411139,  1.24867857,  1.65665936,  1.27761698,\n",
       "        1.11749434,  0.85346609,  1.00655496,  1.618384  ,  1.28060162,\n",
       "        0.436836  ,  1.26698112,  1.24196398,  1.26230359,  1.191167  ,\n",
       "        1.44958854,  1.79647005,  0.57237303,  1.06272388,  1.27565396,\n",
       "        1.09925282,  1.44436586,  1.48859525,  0.46008208,  1.14529467,\n",
       "        1.15722001,  0.67140412,  1.36584771,  1.33305645,  0.51221496,\n",
       "        1.18017578,  1.45227087,  1.2189368 ,  1.23236442,  0.88390642,\n",
       "        1.33429253,  1.30085242,  1.47797585,  0.68164235,  1.46851802,\n",
       "        1.34739792,  1.49599767,  0.69922733,  1.68294716,  1.39724576,\n",
       "        1.84459805,  1.23065412,  1.08413398,  1.2044667 ,  1.30015683,\n",
       "        1.86676395,  1.54868221,  0.5999487 ,  1.30283749,  1.4174403 ,\n",
       "        1.08312714,  1.08245456,  1.22939599,  1.02945852,  0.67542386,\n",
       "        0.93224716,  1.34237647,  1.57262397,  1.5895083 ,  1.7903806 ,\n",
       "        1.81525075,  0.91956729,  0.84379345,  1.86874294,  1.45700133,\n",
       "        1.31044781,  1.58876204,  1.34307921,  1.25116098,  0.77068949,\n",
       "        1.12473512,  1.08538914,  1.35602295,  1.45081627,  0.41511706,\n",
       "        1.27606273,  1.08639193,  0.54719299,  0.81590134,  1.47997439,\n",
       "        0.84021139,  1.28186059,  0.52385467,  1.09600031,  1.09532392,\n",
       "        1.42243087,  1.49663377,  0.40817213,  0.97709453,  1.12067127,\n",
       "        1.40136552,  1.45033479,  1.30739462,  0.94764757,  1.46955836,\n",
       "        0.88048464,  1.40514421,  1.22359359,  0.83295083,  1.22820032,\n",
       "        1.48527956,  0.34341976,  1.41648281,  1.56990826,  1.75264406,\n",
       "        1.79228735,  1.54646027,  1.19340956,  1.64441276,  1.02828193,\n",
       "        1.67807794,  1.28059924,  1.62229419,  1.54834747,  0.46432859,\n",
       "        1.17936039,  1.72367752,  1.54482877,  1.95331514,  1.26066411,\n",
       "        1.52966499,  1.54312074,  1.38551998,  0.78037369,  1.46169424,\n",
       "        1.6435225 ,  1.27720189,  1.29700565,  1.41264474,  0.67809099,\n",
       "        1.56177509,  0.90990192,  1.55365276,  1.1716001 ,  1.75232732,\n",
       "        1.15175557,  1.72392654,  1.53167498,  1.81632626,  1.20187831,\n",
       "        0.66986513,  1.30819511,  1.3900609 ,  1.1990068 ,  1.62016821,\n",
       "        1.41368008,  1.55913675,  1.86779547,  1.87368178,  1.06836915,\n",
       "        1.40521753,  1.88894165,  1.53200018,  1.24043441], dtype=float32)"
      ]
     },
     "execution_count": 74,
     "metadata": {},
     "output_type": "execute_result"
    }
   ],
   "source": [
    "tfc_std_date"
   ]
  },
  {
   "cell_type": "code",
   "execution_count": 76,
   "metadata": {},
   "outputs": [
    {
     "data": {
      "text/plain": [
       "1.507651808286554"
      ]
     },
     "execution_count": 76,
     "metadata": {},
     "output_type": "execute_result"
    }
   ],
   "source": [
    "from utils import crps_normal\n",
    "crps_normal(tfc_mean_date, tfc_std_date, tobs_date).mean()"
   ]
  },
  {
   "cell_type": "code",
   "execution_count": 77,
   "metadata": {
    "collapsed": true
   },
   "outputs": [],
   "source": [
    "mu, sigma, crps_train = model.predict(tfc_mean_date, tfc_std_date, tobs_date)"
   ]
  },
  {
   "cell_type": "code",
   "execution_count": 79,
   "metadata": {},
   "outputs": [
    {
     "data": {
      "text/plain": [
       "array([-6.97302431, -6.53895411, -6.52375408, -6.85993989, -6.71559549,\n",
       "       -6.14555197, -6.88702252, -6.52129283, -6.61995006, -6.73090493,\n",
       "       -6.71033742, -6.34124436, -5.99347529, -6.06081877, -7.01550797,\n",
       "       -6.96494746, -6.68723142, -6.87570707, -6.55779409, -6.45308117,\n",
       "       -6.40621263, -6.82318152, -6.83221513, -5.98541069, -6.49803678,\n",
       "       -6.76009994, -6.86878377, -6.98934203, -6.82219323, -6.93546081,\n",
       "       -6.65793789, -6.52956739, -6.83263017, -6.367025  , -6.36059678,\n",
       "       -6.3563324 , -6.39436071, -6.37990008, -6.39741516, -6.33651497,\n",
       "       -6.37281236, -6.76698796, -6.68697299, -6.38464692, -6.76301687,\n",
       "       -7.11597101, -6.38910902, -6.0437663 , -7.02273428, -6.89661728,\n",
       "       -6.92837686, -6.76420053, -6.5423132 , -6.3860146 , -6.44280581,\n",
       "       -6.91074504, -6.83085468, -6.34648475, -6.83128821, -6.83778775,\n",
       "       -6.62504758, -6.88443769, -6.73492239, -6.8618887 , -6.68722232,\n",
       "       -6.9150958 , -6.68507513, -6.60011335, -6.15841409, -6.88274711,\n",
       "       -6.78281173, -6.56292116, -6.11484281, -6.82791429, -6.87487605,\n",
       "       -6.62671778, -6.82885191, -6.67625209, -6.79618672, -6.84052197,\n",
       "       -6.84353237, -6.43871253, -6.65254497, -6.92260249, -6.66647003,\n",
       "       -6.83754705, -6.52028032, -6.68978426, -6.21490295, -6.7722085 ,\n",
       "       -6.35417353, -6.37170509, -6.04159256, -6.35438898, -6.70720889,\n",
       "       -6.50749876, -6.08215828, -6.93282915, -6.77180791, -6.5812258 ,\n",
       "       -6.99681363, -7.02164652, -6.99441712, -6.51729489, -6.60410086,\n",
       "       -6.34268941, -6.86196227, -6.87722189, -6.88897856, -6.78945399,\n",
       "       -6.3749565 , -6.27680359, -6.41421817, -6.59696361, -6.5332931 ,\n",
       "       -6.91831385, -6.38203046, -6.71775009, -6.69332389, -6.52951522,\n",
       "       -6.71100282, -6.40583644, -6.32409181, -7.01354518, -6.86631116,\n",
       "       -6.57781603, -6.00959624, -6.74419012, -6.84974054, -6.11687246,\n",
       "       -6.76690323, -6.5442333 , -6.32599863, -5.93288623, -5.91116346,\n",
       "       -6.92200869, -5.9963746 , -6.70254424, -6.92078552, -6.26832756,\n",
       "       -6.98685807, -6.74108214, -6.3937884 , -6.49135839, -6.84254773,\n",
       "       -6.56688072, -6.92761621, -6.90568974, -6.43828548, -6.75696146,\n",
       "       -6.90676756, -6.12881207, -6.56978761, -6.58718699, -6.05240922,\n",
       "       -7.02634035, -6.77133947, -6.71770927, -6.64836846, -6.09796469,\n",
       "       -6.02438263, -6.61408927, -6.70274177, -6.839238  , -7.02763464,\n",
       "       -6.53793513, -6.22008844, -6.07321189, -7.0521666 , -6.89218657,\n",
       "       -6.74816159, -6.53986893, -6.63606969, -7.0380775 , -6.60935903,\n",
       "       -6.61223777, -6.5601357 , -6.55285206, -5.9972684 , -6.75236728,\n",
       "       -6.04109161, -6.92293908, -6.81904546, -6.7878445 , -6.66381313,\n",
       "       -6.73502289, -6.56454351, -6.34865722, -6.81646334, -7.04189536,\n",
       "       -6.79199726, -6.48985577, -6.79621121, -6.67405715, -6.47305892,\n",
       "       -6.69625987, -6.70760854, -6.16351363, -6.03541136, -6.39146232,\n",
       "       -6.60747872, -6.60171027, -6.54974886, -6.52465182, -6.56194132,\n",
       "       -6.00202857, -6.8227159 , -6.86311431, -6.90906056, -7.09393775,\n",
       "       -6.24694925, -6.33265962, -5.96722687, -6.79669381, -6.4423598 ,\n",
       "       -6.71775994, -6.77693846, -6.86550904, -6.07598098, -6.66265499,\n",
       "       -6.91224211, -6.63068785, -6.5514734 , -6.18909041, -6.36977068,\n",
       "       -7.12534168, -6.59124723, -6.71201213, -6.80706958, -6.39181852,\n",
       "       -6.68519121, -6.83786601, -6.9674973 , -6.15362422, -6.66770493,\n",
       "       -6.86112731, -6.73451129, -6.83124682, -6.81349771, -6.37599861,\n",
       "       -6.63206519, -6.81654545, -6.82076258, -6.82845301, -6.69906401,\n",
       "       -6.83933371, -6.90627032, -6.84538161, -6.67584859, -6.57471209,\n",
       "       -6.40226237, -6.61747979, -6.51770994, -6.68202205, -6.88615866,\n",
       "       -6.50316977, -6.56569171, -7.02185409, -6.24307579, -6.60759883,\n",
       "       -6.5783815 , -7.0612095 , -6.45917899, -6.2052929 , -6.78290641,\n",
       "       -6.99451143, -6.79048442, -6.78526876, -6.60206366, -6.98747083,\n",
       "       -6.28106244, -6.21711188, -6.92941441, -6.71761506, -6.76652412,\n",
       "       -6.62942395, -6.61626413, -6.73622588, -6.77154638, -6.75953851,\n",
       "       -6.44882499, -6.79385683, -6.87955083, -7.09814701, -6.83777836,\n",
       "       -6.59873234, -6.58254834, -6.05358331, -6.46594765, -6.62618038,\n",
       "       -6.39295349, -6.45738886, -6.80482771, -6.75976344, -6.34425372,\n",
       "       -5.96574206, -6.81580657, -6.98558057, -6.31223638, -6.91583589,\n",
       "       -6.47483788, -6.61619732, -7.11836507, -6.55830456, -6.41743467,\n",
       "       -6.82399922, -6.38547476, -6.4390952 , -6.68928655, -5.98883722,\n",
       "       -6.53770645, -6.62360624, -6.74677947, -6.35458712, -6.61858004,\n",
       "       -6.57563197, -6.41278368, -6.68920782, -6.55517603, -6.85611096,\n",
       "       -6.93438788, -6.02727946, -6.86288075, -6.90476188, -6.72751563,\n",
       "       -6.05886029, -6.97530033, -6.655098  , -6.63658918, -6.90803492,\n",
       "       -6.75884637, -6.73820734, -7.01480232, -6.67104366, -6.64629222,\n",
       "       -6.1262338 , -6.21631098, -6.91999419, -7.04867482, -6.38309049,\n",
       "       -6.61839255, -6.53496772, -6.61727917, -6.93842673, -6.64005843,\n",
       "       -6.51401575, -6.30618238, -6.42668833, -6.90829776, -6.64240783,\n",
       "       -5.97822642, -6.63168628, -6.6119937 , -6.62800429, -6.57200817,\n",
       "       -6.77542815, -7.04848058, -6.08491621, -6.47090244, -6.63851321,\n",
       "       -6.49965669, -6.77131705, -6.8061328 , -5.99652488, -6.53589915,\n",
       "       -6.54528634, -6.16286986, -6.70951043, -6.68369835, -6.03756197,\n",
       "       -6.56335629, -6.77753958, -6.59386754, -6.60443727, -6.33014389,\n",
       "       -6.68467135, -6.65834852, -6.7977736 , -6.17092902, -6.79032874,\n",
       "       -6.69498744, -6.81195972, -6.18477127, -6.95911951, -6.73422583,\n",
       "       -7.08636518, -6.60309099, -6.4877557 , -6.58247721, -6.65780098,\n",
       "       -7.10381336, -6.85343106, -6.10662277, -6.65991109, -6.75012223,\n",
       "       -6.48696315, -6.48643372, -6.60210063, -6.44471718, -6.16603405,\n",
       "       -6.36819595, -6.69103473, -6.87227714, -6.88556786, -7.04368719,\n",
       "       -7.06326406, -6.35821482, -6.29856843, -7.10537116, -6.78126323,\n",
       "       -6.66590166, -6.88498044, -6.6915879 , -6.61923324, -6.24102366,\n",
       "       -6.51971542, -6.48874371, -6.70177674, -6.77639458, -5.96113006,\n",
       "       -6.63883498, -6.48953307, -6.0650954 , -6.27661278, -6.79934678,\n",
       "       -6.29574876, -6.64339885, -6.04672433, -6.49709644, -6.49656401,\n",
       "       -6.75405063, -6.81246043, -5.95566327, -6.40349816, -6.51651651,\n",
       "       -6.73746875, -6.77601557, -6.6634983 , -6.38031859, -6.79114766,\n",
       "       -6.32745039, -6.7404432 , -6.5975332 , -6.29003351, -6.60115944,\n",
       "       -6.80352281, -5.90469257, -6.74936853, -6.87013943, -7.01398237,\n",
       "       -7.04518811, -6.85168203, -6.57377343, -6.92878664, -6.443791  ,\n",
       "       -6.95528664, -6.64240595, -6.91137572, -6.85316757, -5.99986757,\n",
       "       -6.56271444, -6.99118096, -6.85039778, -7.17194329, -6.62671375,\n",
       "       -6.8384614 , -6.84905328, -6.72499573, -6.24864671, -6.78495731,\n",
       "       -6.92808587, -6.63973169, -6.65532049, -6.74634735, -6.16813351,\n",
       "       -6.8637373 , -6.35060659, -6.8573437 , -6.55660583, -7.01373304,\n",
       "       -6.54098494, -6.99137699, -6.84004359, -7.06411066, -6.58043972,\n",
       "       -6.16165842, -6.66412842, -6.72857017, -6.57817937, -6.90970222,\n",
       "       -6.74716232, -6.86166049, -7.10462534, -7.10925883, -6.4753462 ,\n",
       "       -6.74050091, -7.12127084, -6.84029958, -6.61078967])"
      ]
     },
     "execution_count": 79,
     "metadata": {},
     "output_type": "execute_result"
    }
   ],
   "source": [
    "sigma"
   ]
  },
  {
   "cell_type": "code",
   "execution_count": 80,
   "metadata": {
    "collapsed": true
   },
   "outputs": [],
   "source": [
    "# Feature scaling....??\n",
    "# So I have two questions: shy is sigma negative"
   ]
  },
  {
   "cell_type": "code",
   "execution_count": 84,
   "metadata": {},
   "outputs": [],
   "source": [
    "tfc_mean_mean = tfc_mean.mean()\n",
    "tfc_mean_std = tfc_mean.std()\n",
    "tfc_std_mean = tfc_std.mean()\n",
    "tfc_std_std = tfc_std.std()"
   ]
  },
  {
   "cell_type": "code",
   "execution_count": 85,
   "metadata": {},
   "outputs": [],
   "source": [
    "tfc_mean_scaled = (tfc_mean - tfc_mean_mean) / tfc_mean_std\n",
    "tfc_std_scaled = (tfc_std - tfc_std_mean) / tfc_std_std"
   ]
  },
  {
   "cell_type": "code",
   "execution_count": 88,
   "metadata": {},
   "outputs": [
    {
     "name": "stdout",
     "output_type": "stream",
     "text": [
      "Step 0; mean_crps = 13.086\n",
      "Step 20; mean_crps = 10.460\n",
      "Step 40; mean_crps = 7.921\n",
      "Step 60; mean_crps = 5.769\n",
      "Step 80; mean_crps = 4.220\n",
      "Step 100; mean_crps = 3.188\n",
      "Step 120; mean_crps = 2.512\n",
      "Step 140; mean_crps = 2.068\n",
      "Step 160; mean_crps = 1.773\n",
      "Step 180; mean_crps = 1.576\n"
     ]
    }
   ],
   "source": [
    "model = EMOS_Network()\n",
    "lr = np.asarray(0.1, dtype='float32')\n",
    "for i in range(200):\n",
    "    cost = model.train(tfc_mean_scaled, tfc_std_scaled, tobs_prep, lr)\n",
    "    if i%20 == 0: print('Step %i; mean_crps = %.3f' % (i, cost))"
   ]
  },
  {
   "cell_type": "code",
   "execution_count": 99,
   "metadata": {},
   "outputs": [
    {
     "name": "stdout",
     "output_type": "stream",
     "text": [
      "Step 0; mean_crps = 1.127\n",
      "Step 20; mean_crps = 1.127\n",
      "Step 40; mean_crps = 1.127\n",
      "Step 60; mean_crps = 1.127\n",
      "Step 80; mean_crps = 1.127\n",
      "Step 100; mean_crps = 1.127\n",
      "Step 120; mean_crps = 1.127\n",
      "Step 140; mean_crps = 1.127\n",
      "Step 160; mean_crps = 1.127\n",
      "Step 180; mean_crps = 1.127\n"
     ]
    }
   ],
   "source": [
    "for i in range(200):\n",
    "    cost = model.train(tfc_mean_scaled, tfc_std_scaled, tobs_prep, lr)\n",
    "    if i%20 == 0: print('Step %i; mean_crps = %.3f' % (i, cost))"
   ]
  },
  {
   "cell_type": "code",
   "execution_count": 94,
   "metadata": {
    "collapsed": true
   },
   "outputs": [],
   "source": [
    "# Aha! Now we need to use the same scaling on the predict data\n",
    "tfc_mean_date_scaled = (tfc_mean_date - tfc_mean_mean) / tfc_mean_std\n",
    "tfc_std_date_scaled = (tfc_std_date - tfc_std_mean) / tfc_std_std"
   ]
  },
  {
   "cell_type": "code",
   "execution_count": 95,
   "metadata": {
    "collapsed": true
   },
   "outputs": [],
   "source": [
    "mu, sigma, crps_train = model.predict(\n",
    "    tfc_mean_date_scaled, tfc_std_date_scaled, tobs_date)"
   ]
  },
  {
   "cell_type": "code",
   "execution_count": 96,
   "metadata": {},
   "outputs": [
    {
     "data": {
      "text/plain": [
       "array(1.271120912561181)"
      ]
     },
     "execution_count": 96,
     "metadata": {},
     "output_type": "execute_result"
    }
   ],
   "source": [
    "crps_train"
   ]
  },
  {
   "cell_type": "code",
   "execution_count": 97,
   "metadata": {},
   "outputs": [
    {
     "data": {
      "text/plain": [
       "array([ 2.63704995,  2.3778328 ,  2.36875567,  2.56951843,  2.48331913,\n",
       "        2.14290172,  2.58569157,  2.36728587,  2.42620179,  2.49246159,\n",
       "        2.48017913,  2.2597649 ,  2.05208489,  2.09230093,  2.66242024,\n",
       "        2.63222662,  2.46638073,  2.57893423,  2.38908362,  2.32655137,\n",
       "        2.29856252,  2.54756714,  2.5529618 ,  2.04726888,  2.35339787,\n",
       "        2.5098962 ,  2.57479979,  2.64679453,  2.54697695,  2.61461785,\n",
       "        2.44888729,  2.37222726,  2.55320966,  2.27516053,  2.27132174,\n",
       "        2.26877514,  2.29148481,  2.28284924,  2.29330886,  2.25694061,\n",
       "        2.27861662,  2.51400959,  2.4662264 ,  2.28568395,  2.51163813,\n",
       "        2.72241454,  2.28834862,  2.08211757,  2.66673566,  2.59142134,\n",
       "        2.61038748,  2.51234498,  2.37983877,  2.2865007 ,  2.32041516,\n",
       "        2.59985815,  2.55214939,  2.26289434,  2.55240826,  2.55628965,\n",
       "        2.42924591,  2.58414795,  2.49486074,  2.5706822 ,  2.46637531,\n",
       "        2.60245632,  2.46509305,  2.41435574,  2.1505827 ,  2.5831384 ,\n",
       "        2.52345919,  2.3921454 ,  2.12456289,  2.55039344,  2.57843797,\n",
       "        2.43024334,  2.55095337,  2.45982413,  2.53144643,  2.55792248,\n",
       "        2.5597202 ,  2.31797074,  2.44566675,  2.60693915,  2.45398249,\n",
       "        2.55614593,  2.36668123,  2.46790524,  2.1843166 ,  2.51712717,\n",
       "        2.26748591,  2.27795537,  2.08081946,  2.26761458,  2.47831084,\n",
       "        2.35904836,  2.10504441,  2.61304628,  2.51688795,  2.40307652,\n",
       "        2.65125639,  2.66608604,  2.64982527,  2.36489839,  2.416737  ,\n",
       "        2.26062785,  2.57072616,  2.57983885,  2.58685967,  2.5274258 ,\n",
       "        2.27989704,  2.2212823 ,  2.30334325,  2.41247478,  2.37445217,\n",
       "        2.60437805,  2.28412146,  2.48460582,  2.47001903,  2.3721961 ,\n",
       "        2.48057648,  2.29833786,  2.24952178,  2.6612481 ,  2.57332321,\n",
       "        2.40104028,  2.06171196,  2.50039522,  2.56342758,  2.12577496,\n",
       "        2.51395899,  2.38098541,  2.25066049,  2.01590242,  2.00293008,\n",
       "        2.60658455,  2.0538163 ,  2.47552522,  2.60585407,  2.2162206 ,\n",
       "        2.64531115,  2.4985392 ,  2.29114304,  2.34940968,  2.55913222,\n",
       "        2.39450995,  2.60993322,  2.59683923,  2.31771572,  2.50802198,\n",
       "        2.59748288,  2.13290502,  2.39624588,  2.40663641,  2.08727893,\n",
       "        2.66888909,  2.51660821,  2.48458143,  2.44317263,  2.11448365,\n",
       "        2.07054207,  2.42270186,  2.47564318,  2.55715572,  2.66966202,\n",
       "        2.37722429,  2.18741326,  2.09970183,  2.68431198,  2.58877544,\n",
       "        2.50276689,  2.37837911,  2.43582808,  2.67589827,  2.41987706,\n",
       "        2.42159617,  2.39048198,  2.38613235,  2.05435004,  2.50527844,\n",
       "        2.08052031,  2.60714015,  2.54509717,  2.52646465,  2.45239585,\n",
       "        2.49492074,  2.39311423,  2.26419169,  2.54355518,  2.67817823,\n",
       "        2.52894459,  2.34851236,  2.53146106,  2.45851335,  2.33848165,\n",
       "        2.47177233,  2.4785495 ,  2.15362803,  2.07712819,  2.28975396,\n",
       "        2.41875418,  2.41530938,  2.38427919,  2.36929179,  2.39156025,\n",
       "        2.05719272,  2.54728908,  2.57141411,  2.59885219,  2.70925679,\n",
       "        2.20345394,  2.25463828,  2.03640991,  2.53174926,  2.32014881,\n",
       "        2.48461169,  2.51995179,  2.57284418,  2.10135546,  2.45170424,\n",
       "        2.60075216,  2.43261417,  2.38530905,  2.16890191,  2.27680019,\n",
       "        2.72801052,  2.4090611 ,  2.48117923,  2.53794544,  2.28996667,\n",
       "        2.46516237,  2.5563364 ,  2.63374935,  2.14772229,  2.45471994,\n",
       "        2.57022752,  2.49461522,  2.55238356,  2.54178418,  2.28051937,\n",
       "        2.43343669,  2.54360421,  2.5461226 ,  2.55071516,  2.47344689,\n",
       "        2.55721286,  2.59718595,  2.56082452,  2.45958316,  2.39918667,\n",
       "        2.29620351,  2.42472661,  2.36514624,  2.46326981,  2.58517571,\n",
       "        2.35646318,  2.3937999 ,  2.66621002,  2.20114079,  2.41882592,\n",
       "        2.40137797,  2.68971219,  2.33019286,  2.17857769,  2.52351574,\n",
       "        2.64988157,  2.52804116,  2.52492647,  2.41552043,  2.64567709,\n",
       "        2.22382559,  2.18563572,  2.61100706,  2.48452518,  2.51373259,\n",
       "        2.4318594 ,  2.42400064,  2.49563914,  2.51673177,  2.50956093,\n",
       "        2.32400968,  2.53005507,  2.58122964,  2.71177047,  2.55628403,\n",
       "        2.41353104,  2.40386631,  2.08798007,  2.33423495,  2.4299224 ,\n",
       "        2.29064445,  2.32912383,  2.53660665,  2.50969525,  2.26156202,\n",
       "        2.0355232 ,  2.54316298,  2.64454827,  2.24244197,  2.60289827,\n",
       "        2.339544  ,  2.42396075,  2.72384424,  2.38938846,  2.30526407,\n",
       "        2.54805545,  2.28617832,  2.31819926,  2.46760801,  2.04931514,\n",
       "        2.37708773,  2.42838518,  2.50194151,  2.2677329 ,  2.42538364,\n",
       "        2.39973601,  2.3024866 ,  2.467561  ,  2.38752017,  2.56723188,\n",
       "        2.61397713,  2.07227198,  2.57127464,  2.59628513,  2.49043758,\n",
       "        2.09113136,  2.63840914,  2.44719136,  2.43613831,  2.59823973,\n",
       "        2.5091476 ,  2.49682243,  2.66199884,  2.45671377,  2.44193275,\n",
       "        2.13136534,  2.18515745,  2.60538153,  2.68222674,  2.28475449,\n",
       "        2.42527168,  2.37545222,  2.4246068 ,  2.61638903,  2.43821006,\n",
       "        2.36294016,  2.23882666,  2.31079015,  2.59839667,  2.43961307,\n",
       "        2.0429786 ,  2.43321041,  2.42145043,  2.43101161,  2.39757195,\n",
       "        2.51904988,  2.68211075,  2.10669138,  2.33719385,  2.43728729,\n",
       "        2.35436525,  2.51659482,  2.53738602,  2.05390603,  2.37600845,\n",
       "        2.38161426,  2.15324358,  2.47968526,  2.46427087,  2.07841249,\n",
       "        2.39240524,  2.52031077,  2.41062588,  2.4169379 ,  2.25313594,\n",
       "        2.46485191,  2.44913251,  2.53239409,  2.15805633,  2.52794819,\n",
       "        2.47101246,  2.54086571,  2.16632262,  2.62874629,  2.49444476,\n",
       "        2.70473461,  2.41613392,  2.34725824,  2.40382384,  2.44880552,\n",
       "        2.71515427,  2.5656315 ,  2.11965407,  2.45006564,  2.50393774,\n",
       "        2.34678495,  2.34646878,  2.41554251,  2.32155658,  2.15513317,\n",
       "        2.27585979,  2.46865199,  2.57688597,  2.58482289,  2.67924826,\n",
       "        2.69093914,  2.26989928,  2.23427977,  2.71608456,  2.52253446,\n",
       "        2.45364307,  2.58447209,  2.46898232,  2.42577371,  2.19991531,\n",
       "        2.36634388,  2.34784826,  2.47506688,  2.519627  ,  2.03276903,\n",
       "        2.43747945,  2.34831964,  2.09485483,  2.22116834,  2.53333356,\n",
       "        2.23259593,  2.4402049 ,  2.08388404,  2.35283632,  2.35251836,\n",
       "        2.5062837 ,  2.54116474,  2.02950438,  2.29694149,  2.36443356,\n",
       "        2.49638135,  2.51940068,  2.45220785,  2.28309917,  2.52843721,\n",
       "        2.25152744,  2.49815764,  2.41281494,  2.22918291,  2.41498044,\n",
       "        2.53582739,  1.9990658 ,  2.50348765,  2.57560935,  2.6615092 ,\n",
       "        2.68014458,  2.56458703,  2.39862613,  2.61063219,  2.32100349,\n",
       "        2.6264574 ,  2.43961195,  2.60023475,  2.56547413,  2.05590221,\n",
       "        2.39202194,  2.64789269,  2.5638201 ,  2.75583994,  2.43024091,\n",
       "        2.55669194,  2.56301717,  2.48893274,  2.20446763,  2.52474048,\n",
       "        2.61021369,  2.43801494,  2.44732424,  2.50168345,  2.15638693,\n",
       "        2.57178615,  2.26535582,  2.56796804,  2.38837402,  2.66136028,\n",
       "        2.37904557,  2.64800976,  2.55763681,  2.69144471,  2.40260709,\n",
       "        2.15252014,  2.45258414,  2.49106732,  2.40125726,  2.59923539,\n",
       "        2.50217014,  2.57054594,  2.71563916,  2.71840618,  2.33984755,\n",
       "        2.4981921 ,  2.72557948,  2.55778967,  2.42073141])"
      ]
     },
     "execution_count": 97,
     "metadata": {},
     "output_type": "execute_result"
    }
   ],
   "source": [
    "sigma"
   ]
  },
  {
   "cell_type": "markdown",
   "metadata": {},
   "source": [
    "## Summary of my exploration\n",
    "\n",
    "So I forgot a basic rule in ML: NORMALIZE YOUR INPUT DATA! \n",
    "\n",
    "But I also saw that 200 steps might not be enough, since this takes almost no time, I can increase it to 500 steps, or do an automatic stop when the CRPS stops going down. "
   ]
  },
  {
   "cell_type": "code",
   "execution_count": 3,
   "metadata": {
    "collapsed": true
   },
   "outputs": [],
   "source": [
    "# Let's define some input arrays\n",
    "nb_data = 100  # Number of data\n",
    "# It is important that the input has the same type (float32) as the Theano tensors\n",
    "in_meanx = np.asarray(np.random.randn(nb_data) + 3, dtype='float32')   # Random with mean 3 and std 1\n",
    "in_stdx = np.asarray(2 * np.random.randn(nb_data) + 1, dtype='float32')\n",
    "in_target = np.asarray(1.5 * np.random.randn(nb_data) + 2, dtype='float32')"
   ]
  },
  {
   "cell_type": "code",
   "execution_count": 4,
   "metadata": {
    "collapsed": true
   },
   "outputs": [],
   "source": [
    "# Let's create a perfect training set, where we should get perfect results\n",
    "in_meanx = np.ones(nb_data, dtype='float32') * 3\n",
    "in_stdx = np.ones(nb_data, dtype='float32') * 3\n",
    "in_target = np.ones(nb_data, dtype='float32') * 2"
   ]
  },
  {
   "cell_type": "markdown",
   "metadata": {},
   "source": [
    "Now we have set up our model and created some simple test data. Let's now initialize the network and train it!"
   ]
  },
  {
   "cell_type": "code",
   "execution_count": 5,
   "metadata": {
    "collapsed": true,
    "scrolled": false
   },
   "outputs": [],
   "source": [
    "# Initialize the network\n",
    "model = EMOS_Network()"
   ]
  },
  {
   "cell_type": "code",
   "execution_count": 6,
   "metadata": {
    "scrolled": true
   },
   "outputs": [
    {
     "name": "stdout",
     "output_type": "stream",
     "text": [
      "Step 0; mean_crps = 2.790\n",
      "Step 10; mean_crps = 2.722\n",
      "Step 20; mean_crps = 2.656\n",
      "Step 30; mean_crps = 2.592\n",
      "Step 40; mean_crps = 2.531\n",
      "Step 50; mean_crps = 2.472\n",
      "Step 60; mean_crps = 2.415\n",
      "Step 70; mean_crps = 2.359\n",
      "Step 80; mean_crps = 2.306\n",
      "Step 90; mean_crps = 2.254\n",
      "Step 100; mean_crps = 2.204\n",
      "Step 110; mean_crps = 2.156\n",
      "Step 120; mean_crps = 2.109\n",
      "Step 130; mean_crps = 2.064\n",
      "Step 140; mean_crps = 2.020\n",
      "Step 150; mean_crps = 1.978\n",
      "Step 160; mean_crps = 1.937\n",
      "Step 170; mean_crps = 1.897\n",
      "Step 180; mean_crps = 1.859\n",
      "Step 190; mean_crps = 1.822\n",
      "Step 200; mean_crps = 1.786\n",
      "Step 210; mean_crps = 1.751\n",
      "Step 220; mean_crps = 1.717\n",
      "Step 230; mean_crps = 1.684\n",
      "Step 240; mean_crps = 1.653\n",
      "Step 250; mean_crps = 1.622\n",
      "Step 260; mean_crps = 1.592\n",
      "Step 270; mean_crps = 1.563\n",
      "Step 280; mean_crps = 1.534\n",
      "Step 290; mean_crps = 1.507\n",
      "Step 300; mean_crps = 1.480\n",
      "Step 310; mean_crps = 1.455\n",
      "Step 320; mean_crps = 1.429\n",
      "Step 330; mean_crps = 1.405\n",
      "Step 340; mean_crps = 1.381\n",
      "Step 350; mean_crps = 1.358\n",
      "Step 360; mean_crps = 1.336\n",
      "Step 370; mean_crps = 1.314\n",
      "Step 380; mean_crps = 1.293\n",
      "Step 390; mean_crps = 1.272\n",
      "Step 400; mean_crps = 1.252\n",
      "Step 410; mean_crps = 1.232\n",
      "Step 420; mean_crps = 1.213\n",
      "Step 430; mean_crps = 1.194\n",
      "Step 440; mean_crps = 1.176\n",
      "Step 450; mean_crps = 1.158\n",
      "Step 460; mean_crps = 1.141\n",
      "Step 470; mean_crps = 1.124\n",
      "Step 480; mean_crps = 1.108\n",
      "Step 490; mean_crps = 1.092\n"
     ]
    }
   ],
   "source": [
    "# Let's run over the data a few times and print out the crps every few steps\n",
    "# Note that this is simply gradient descent, not stochastic, since\n",
    "# we are giving the algorithm all the data for each update/\n",
    "lr = np.asarray(0.001, dtype='float32')\n",
    "for i in range(500):\n",
    "    cost = model.train(in_meanx, in_stdx, in_target, lr)\n",
    "    if i%10 == 0: print('Step %i; mean_crps = %.3f' % (i, cost))"
   ]
  },
  {
   "cell_type": "code",
   "execution_count": 7,
   "metadata": {
    "collapsed": true
   },
   "outputs": [],
   "source": [
    "preds = model.predict(in_meanx, in_stdx, in_target)"
   ]
  },
  {
   "cell_type": "code",
   "execution_count": 8,
   "metadata": {},
   "outputs": [
    {
     "data": {
      "text/plain": [
       "array([ 0.41526058,  0.41526058,  0.41526058,  0.41526058,  0.41526058])"
      ]
     },
     "execution_count": 8,
     "metadata": {},
     "output_type": "execute_result"
    }
   ],
   "source": [
    "preds[0][:5]"
   ]
  },
  {
   "cell_type": "markdown",
   "metadata": {},
   "source": [
    "Good so far, we are able to reduce the CRPS and also get the correct predictions where possible. So now we can actually start thinking about real data!"
   ]
  },
  {
   "cell_type": "markdown",
   "metadata": {
    "collapsed": true
   },
   "source": [
    "Now let's load some real data."
   ]
  },
  {
   "cell_type": "code",
   "execution_count": 9,
   "metadata": {
    "collapsed": true
   },
   "outputs": [],
   "source": [
    "# Copy this from the python_data_handling notebook. \n",
    "# Eventually this function will go in a separate file\n",
    "from netCDF4 import Dataset\n",
    "# Define directory where interpolated files are stored.\n",
    "# DATA_DIR = '/project/meteo/w2w/C7/ppnn_data/'   # At LMU\n",
    "DATA_DIR = '/Users/stephanrasp/repositories/ppnn/data/'  # Mac\n",
    "# Define file name\n",
    "fn = 'data_interpolated.nc'"
   ]
  },
  {
   "cell_type": "code",
   "execution_count": 10,
   "metadata": {
    "collapsed": true
   },
   "outputs": [],
   "source": [
    "rg = Dataset(DATA_DIR + 'data_interpolated.nc')"
   ]
  },
  {
   "cell_type": "code",
   "execution_count": 11,
   "metadata": {
    "collapsed": true
   },
   "outputs": [],
   "source": [
    "from netCDF4 import num2date\n",
    "def get_data_slice(rg, month, utc=0):\n",
    "    # Get array of datetime objects\n",
    "    dates = num2date(rg.variables['time'][:],\n",
    "                     units='seconds since 1970-01-01 00:00 UTC')\n",
    "    # Extract months and hours\n",
    "    months = np.array([d.month for d in list(dates)])\n",
    "    hours = np.array([d.hour for d in list(dates)])\n",
    "    \n",
    "    # for now I need to include the Kelvin fix\n",
    "    tfc = rg.variables['t2m_fc'][:]\n",
    "    idx = np.where(np.mean(tfc, axis=(1, 2)) > 100)[0][0]\n",
    "    tfc[idx:] = tfc[idx:] - 273.15\n",
    "    \n",
    "    # Extract the requested data\n",
    "    tobs = rg.variables['t2m_obs'][(months == 1) & (hours == 0)]\n",
    "    tfc = tfc[(months == 1) & (hours == 0)]\n",
    "    return tobs, tfc"
   ]
  },
  {
   "cell_type": "code",
   "execution_count": 12,
   "metadata": {
    "collapsed": true
   },
   "outputs": [],
   "source": [
    "# Let's load the data for all of Jan for 00UTC init\n",
    "tobs, tfc = get_data_slice(rg, 1, 0)"
   ]
  },
  {
   "cell_type": "code",
   "execution_count": 13,
   "metadata": {
    "collapsed": true
   },
   "outputs": [],
   "source": [
    "# Now we have to compute the mean and std for the ensemble\n",
    "tfc_mean = np.mean(tfc, axis=1, dtype='float32')\n",
    "tfc_std = np.std(tfc, axis=1, ddof=1, dtype='float32')"
   ]
  },
  {
   "cell_type": "code",
   "execution_count": 14,
   "metadata": {},
   "outputs": [
    {
     "data": {
      "text/plain": [
       "(310, 537)"
      ]
     },
     "execution_count": 14,
     "metadata": {},
     "output_type": "execute_result"
    }
   ],
   "source": [
    "tfc_mean.shape"
   ]
  },
  {
   "cell_type": "code",
   "execution_count": 15,
   "metadata": {},
   "outputs": [
    {
     "data": {
      "text/plain": [
       "(310, 537)"
      ]
     },
     "execution_count": 15,
     "metadata": {},
     "output_type": "execute_result"
    }
   ],
   "source": [
    "tobs.shape"
   ]
  },
  {
   "cell_type": "code",
   "execution_count": 17,
   "metadata": {
    "collapsed": true
   },
   "outputs": [],
   "source": [
    "# Flatten to 1D\n",
    "tobs = np.ravel(np.asarray(tobs, dtype='float32'))\n",
    "tfc_mean = np.ravel(tfc_mean)\n",
    "tfc_std = np.ravel(tfc_std)"
   ]
  },
  {
   "cell_type": "code",
   "execution_count": 18,
   "metadata": {},
   "outputs": [
    {
     "data": {
      "text/plain": [
       "(166470,)"
      ]
     },
     "execution_count": 18,
     "metadata": {},
     "output_type": "execute_result"
    }
   ],
   "source": [
    "tobs.shape"
   ]
  },
  {
   "cell_type": "code",
   "execution_count": 20,
   "metadata": {},
   "outputs": [
    {
     "data": {
      "text/plain": [
       "14361"
      ]
     },
     "execution_count": 20,
     "metadata": {},
     "output_type": "execute_result"
    }
   ],
   "source": [
    "np.isnan(tobs).sum()"
   ]
  },
  {
   "cell_type": "code",
   "execution_count": 21,
   "metadata": {
    "collapsed": true
   },
   "outputs": [],
   "source": [
    "# Filter out nans\n",
    "mask = np.isfinite(tobs)\n",
    "tobs = tobs[mask]\n",
    "tfc_mean = tfc_mean[mask]\n",
    "tfc_std = tfc_std[mask]"
   ]
  },
  {
   "cell_type": "markdown",
   "metadata": {},
   "source": [
    "Now we have the 1D arrays we need. Time to feed them to the learning network and learn."
   ]
  },
  {
   "cell_type": "code",
   "execution_count": 36,
   "metadata": {
    "collapsed": true
   },
   "outputs": [],
   "source": [
    "# Initialize the network\n",
    "model = EMOS_Network()"
   ]
  },
  {
   "cell_type": "code",
   "execution_count": 25,
   "metadata": {
    "collapsed": true
   },
   "outputs": [],
   "source": [
    "# Let's first check what our CRPS is without training\n",
    "from scipy.stats import norm\n",
    "def crps_normal(mu, sigma, y):\n",
    "    loc = (y - mu) / sigma\n",
    "    crps = sigma * (loc * (2 * norm.cdf(loc) - 1) + \n",
    "                    2 * norm.pdf(loc) - 1. / np.sqrt(np.pi))\n",
    "    return crps"
   ]
  },
  {
   "cell_type": "code",
   "execution_count": 26,
   "metadata": {},
   "outputs": [
    {
     "data": {
      "text/plain": [
       "1.35477760093263"
      ]
     },
     "execution_count": 26,
     "metadata": {},
     "output_type": "execute_result"
    }
   ],
   "source": [
    "crps_normal(tfc_mean, tfc_std, tobs).mean()"
   ]
  },
  {
   "cell_type": "markdown",
   "metadata": {},
   "source": [
    "So let's try training.\n",
    "1. Gradient descent with all data and a learning rate of 0.1. Still learning after 500 steps. So after around 2000 steps we get a CRPS of around 1.113 which is lower than the EMOS global for Jan, but of course this is not a fair comparison.\n",
    "2. Can we use a much higher learning rate with standard gradient descent? Try 0.5. Doesn't seem like it is working very well. Yes, 0.1 is much better."
   ]
  },
  {
   "cell_type": "code",
   "execution_count": 29,
   "metadata": {
    "collapsed": true
   },
   "outputs": [],
   "source": [
    "# Were still masked arrays\n",
    "tfc_mean = np.asarray(tfc_mean, dtype='float32')\n",
    "tfc_std = np.asarray(tfc_std, dtype='float32')"
   ]
  },
  {
   "cell_type": "code",
   "execution_count": 37,
   "metadata": {},
   "outputs": [
    {
     "name": "stdout",
     "output_type": "stream",
     "text": [
      "Step 0; mean_crps = 2.967\n",
      "Step 100; mean_crps = 1.117\n",
      "Step 200; mean_crps = 1.115\n",
      "Step 300; mean_crps = 1.115\n",
      "Step 400; mean_crps = 1.114\n",
      "Step 500; mean_crps = 1.114\n",
      "Step 600; mean_crps = 1.114\n",
      "Step 700; mean_crps = 1.114\n",
      "Step 800; mean_crps = 1.114\n",
      "Step 900; mean_crps = 1.114\n"
     ]
    }
   ],
   "source": [
    "# Let's train. Try gradient descent with all data at once\n",
    "lr = np.asarray(0.1, dtype='float32')\n",
    "for i in range(1000):\n",
    "    cost = model.train(tfc_mean, tfc_std, tobs, lr)\n",
    "    if i%100 == 0: print('Step %i; mean_crps = %.3f' % (i, cost))"
   ]
  },
  {
   "cell_type": "code",
   "execution_count": 38,
   "metadata": {},
   "outputs": [
    {
     "data": {
      "text/plain": [
       "<class 'netCDF4._netCDF4.Variable'>\n",
       "float32 t2m_obs(time, station)\n",
       "    units: deg_C\n",
       "    _FillValue: nan\n",
       "    long_name: t2m station observation\n",
       "unlimited dimensions: \n",
       "current shape = (7306, 537)\n",
       "filling on"
      ]
     },
     "execution_count": 38,
     "metadata": {},
     "output_type": "execute_result"
    }
   ],
   "source": [
    "# So the next step would be to update the data handling function to return the \n",
    "# data from the last 25 days\n",
    "rg.variables['t2m_obs']"
   ]
  },
  {
   "cell_type": "code",
   "execution_count": 41,
   "metadata": {
    "collapsed": true
   },
   "outputs": [],
   "source": [
    "def get_rolling_slice(rg, date_idx, window_size=25, utc=0):\n",
    "    \"\"\"\n",
    "    Return the forecast and observation data from the \n",
    "    previous *window_size* days. So if date_idx=10 and \n",
    "    window_size=3, it would get the data for indices 7, 8, 9.\n",
    "    \"\"\"\n",
    "    # Get array of datetime objects\n",
    "    dates = num2date(rg.variables['time'][:],\n",
    "                     units='seconds since 1970-01-01 00:00 UTC')\n",
    "    # Extract months and hours\n",
    "    months = np.array([d.month for d in list(dates)])\n",
    "    hours = np.array([d.hour for d in list(dates)])\n",
    "    \n",
    "    # for now I need to include the Kelvin fix\n",
    "    tfc = rg.variables['t2m_fc'][:]\n",
    "    idx = np.where(np.mean(tfc, axis=(1, 2)) > 100)[0][0]\n",
    "    tfc[idx:] = tfc[idx:] - 273.15\n",
    "    \n",
    "    # Extract the requested data\n",
    "    tobs = rg.variables['t2m_obs'][(hours == utc)]\n",
    "    tfc = tfc[(hours == utc)]\n",
    "    \n",
    "    # Get the correct indices\n",
    "    idx_start = date_idx - window_size\n",
    "    idx_stop = date_idx\n",
    "    \n",
    "    # Get the slice for the indices\n",
    "    tobs = tobs[idx_start:idx_stop]\n",
    "    tfc = tfc[idx_start:idx_stop]\n",
    "    \n",
    "    return tobs, tfc"
   ]
  },
  {
   "cell_type": "code",
   "execution_count": 42,
   "metadata": {
    "collapsed": true
   },
   "outputs": [],
   "source": [
    "tobs_roll, tfc_roll = get_rolling_slice(rg, 25)"
   ]
  },
  {
   "cell_type": "code",
   "execution_count": 43,
   "metadata": {},
   "outputs": [
    {
     "data": {
      "text/plain": [
       "(25, 50, 537)"
      ]
     },
     "execution_count": 43,
     "metadata": {},
     "output_type": "execute_result"
    }
   ],
   "source": [
    "tfc_roll.shape"
   ]
  },
  {
   "cell_type": "code",
   "execution_count": 72,
   "metadata": {
    "collapsed": true
   },
   "outputs": [],
   "source": [
    "# Write a function compute means and std and flatten\n",
    "def prep_data(tobs, tfc):\n",
    "    ax = 0 if tobs.ndim == 1 else 1\n",
    "    # Compute mean and std and convert to float32\n",
    "    tfc_mean = np.mean(np.asarray(tfc, dtype='float32'), axis=ax)\n",
    "    tfc_std = np.std(np.asarray(tfc, dtype='float32'), axis=ax, ddof=1)\n",
    "    tobs = np.asarray(tobs, dtype='float32')\n",
    "    \n",
    "    # Flatten\n",
    "    tobs = np.ravel(tobs)\n",
    "    tfc_mean = np.ravel(tfc_mean)\n",
    "    tfc_std = np.ravel(tfc_std)\n",
    "    \n",
    "    # Remove NaNs\n",
    "    mask = np.isfinite(tobs)\n",
    "    tobs = tobs[mask]\n",
    "    tfc_mean = tfc_mean[mask]\n",
    "    tfc_std = tfc_std[mask]\n",
    "    \n",
    "    return tobs, tfc_mean, tfc_std"
   ]
  },
  {
   "cell_type": "code",
   "execution_count": 47,
   "metadata": {
    "collapsed": true
   },
   "outputs": [],
   "source": [
    "tobs_roll, tfc_mean_roll, tfc_std_roll = prep_data(tobs_roll, tfc_roll)"
   ]
  },
  {
   "cell_type": "code",
   "execution_count": 48,
   "metadata": {},
   "outputs": [
    {
     "data": {
      "text/plain": [
       "(11308,)"
      ]
     },
     "execution_count": 48,
     "metadata": {},
     "output_type": "execute_result"
    }
   ],
   "source": [
    "tfc_mean_roll.shape"
   ]
  },
  {
   "cell_type": "code",
   "execution_count": 54,
   "metadata": {
    "collapsed": true
   },
   "outputs": [],
   "source": [
    "# Now let's train again.\n",
    "model = EMOS_Network()"
   ]
  },
  {
   "cell_type": "code",
   "execution_count": 56,
   "metadata": {},
   "outputs": [
    {
     "name": "stdout",
     "output_type": "stream",
     "text": [
      "Step 0; mean_crps = 1.047\n",
      "Step 10; mean_crps = 1.046\n",
      "Step 20; mean_crps = 1.045\n",
      "Step 30; mean_crps = 1.044\n",
      "Step 40; mean_crps = 1.044\n",
      "Step 50; mean_crps = 1.044\n",
      "Step 60; mean_crps = 1.043\n",
      "Step 70; mean_crps = 1.043\n",
      "Step 80; mean_crps = 1.043\n",
      "Step 90; mean_crps = 1.043\n"
     ]
    }
   ],
   "source": [
    "lr = np.asarray(0.1, dtype='float32')\n",
    "for i in range(100):\n",
    "    cost = model.train(tfc_mean_roll, tfc_std_roll, tobs_roll, lr)\n",
    "    if i%10 == 0: print('Step %i; mean_crps = %.3f' % (i, cost))"
   ]
  },
  {
   "cell_type": "markdown",
   "metadata": {},
   "source": [
    "So it seems to take max 200 steps to find the minimum. Time to actually loop over all the dates and compute the actual score!"
   ]
  },
  {
   "cell_type": "code",
   "execution_count": 58,
   "metadata": {
    "collapsed": true
   },
   "outputs": [],
   "source": [
    "# Let's actually modify the slicing function and feed it the full data.\n",
    "# Because something took quite long earlier...\n",
    "tobs_full = rg.variables['t2m_obs'][:]\n",
    "tfc_full = rg.variables['t2m_fc'][:]\n",
    "dates = num2date(rg.variables['time'][:],\n",
    "                     units='seconds since 1970-01-01 00:00 UTC')"
   ]
  },
  {
   "cell_type": "code",
   "execution_count": 59,
   "metadata": {
    "collapsed": true
   },
   "outputs": [],
   "source": [
    "months = np.array([d.month for d in list(dates)])\n",
    "hours = np.array([d.hour for d in list(dates)])"
   ]
  },
  {
   "cell_type": "code",
   "execution_count": 60,
   "metadata": {
    "collapsed": true
   },
   "outputs": [],
   "source": [
    "idx = np.where(np.mean(tfc_full, axis=(1, 2)) > 100)[0][0]\n",
    "tfc_full[idx:] = tfc_full[idx:] - 273.15"
   ]
  },
  {
   "cell_type": "code",
   "execution_count": 61,
   "metadata": {
    "collapsed": true
   },
   "outputs": [],
   "source": [
    "# we can also alread get all the 00UTC data\n",
    "tfc_full = tfc_full[hours == 0]\n",
    "tobs_full = tobs_full[hours == 0]"
   ]
  },
  {
   "cell_type": "code",
   "execution_count": 124,
   "metadata": {
    "collapsed": true
   },
   "outputs": [],
   "source": [
    "def get_rolling_slice(tobs_full, tfc_full, date_idx, window_size=25, \n",
    "                      fclt=48):\n",
    "    \"\"\"\n",
    "    Return the forecast and observation data from the \n",
    "    previous *window_size* days. So if date_idx=10 and \n",
    "    window_size=3, it would get the data for indices 7, 8, 9.\n",
    "    Nope, also have to go back the forecast lead time.\n",
    "    \"\"\"\n",
    "    fclt_didx = int(fclt / 24)\n",
    "    \n",
    "    # Get the correct indices\n",
    "    idx_start = date_idx - window_size - fclt_didx\n",
    "    idx_stop = date_idx - fclt_didx\n",
    "    \n",
    "    # Get the slice for the indices\n",
    "    tobs_roll = tobs_full[idx_start:idx_stop]\n",
    "    tfc_roll = tfc_full[idx_start:idx_stop]\n",
    "    \n",
    "    return tobs_roll, tfc_roll"
   ]
  },
  {
   "cell_type": "code",
   "execution_count": 120,
   "metadata": {
    "collapsed": true
   },
   "outputs": [],
   "source": [
    "dates_00 = dates[hours == 0]"
   ]
  },
  {
   "cell_type": "code",
   "execution_count": 121,
   "metadata": {},
   "outputs": [
    {
     "data": {
      "text/plain": [
       "(3653,)"
      ]
     },
     "execution_count": 121,
     "metadata": {},
     "output_type": "execute_result"
    }
   ],
   "source": [
    "dates_00.shape"
   ]
  },
  {
   "cell_type": "code",
   "execution_count": 125,
   "metadata": {
    "collapsed": true
   },
   "outputs": [],
   "source": [
    "# Let's do it fully for the first time step with predicting the current date\n",
    "date_idx = 100\n",
    "window_size = 50\n",
    "tobs_roll, tfc_roll = get_rolling_slice(tobs_full, tfc_full, date_idx, \n",
    "                                        window_size)\n",
    "tobs_date, tfc_date = (tobs_full[date_idx], tfc_full[date_idx])"
   ]
  },
  {
   "cell_type": "code",
   "execution_count": 126,
   "metadata": {},
   "outputs": [
    {
     "data": {
      "text/plain": [
       "(537,)"
      ]
     },
     "execution_count": 126,
     "metadata": {},
     "output_type": "execute_result"
    }
   ],
   "source": [
    "tobs_date.shape"
   ]
  },
  {
   "cell_type": "code",
   "execution_count": 127,
   "metadata": {
    "collapsed": true
   },
   "outputs": [],
   "source": [
    "tobs_roll, tfc_mean_roll, tfc_std_roll = prep_data(tobs_roll, tfc_roll)"
   ]
  },
  {
   "cell_type": "code",
   "execution_count": 128,
   "metadata": {
    "collapsed": true
   },
   "outputs": [],
   "source": [
    "tobs_date, tfc_mean_date, tfc_std_date = prep_data(tobs_date, tfc_date)"
   ]
  },
  {
   "cell_type": "code",
   "execution_count": 129,
   "metadata": {},
   "outputs": [
    {
     "data": {
      "text/plain": [
       "array([ 5.69999981,  2.5999999 ,  3.0999999 , ...,  8.30000019,\n",
       "        9.80000019,  6.30000019], dtype=float32)"
      ]
     },
     "execution_count": 129,
     "metadata": {},
     "output_type": "execute_result"
    }
   ],
   "source": [
    "tobs_roll"
   ]
  },
  {
   "cell_type": "code",
   "execution_count": 130,
   "metadata": {
    "collapsed": true
   },
   "outputs": [],
   "source": [
    "model = EMOS_Network()"
   ]
  },
  {
   "cell_type": "code",
   "execution_count": 131,
   "metadata": {},
   "outputs": [
    {
     "name": "stdout",
     "output_type": "stream",
     "text": [
      "Step 0; mean_crps = 4.321\n",
      "Step 10; mean_crps = 1.171\n",
      "Step 20; mean_crps = 1.146\n",
      "Step 30; mean_crps = 1.126\n",
      "Step 40; mean_crps = 1.111\n",
      "Step 50; mean_crps = 1.100\n",
      "Step 60; mean_crps = 1.092\n",
      "Step 70; mean_crps = 1.087\n",
      "Step 80; mean_crps = 1.083\n",
      "Step 90; mean_crps = 1.081\n",
      "Step 100; mean_crps = 1.080\n",
      "Step 110; mean_crps = 1.079\n",
      "Step 120; mean_crps = 1.078\n",
      "Step 130; mean_crps = 1.078\n",
      "Step 140; mean_crps = 1.077\n",
      "Step 150; mean_crps = 1.077\n",
      "Step 160; mean_crps = 1.077\n",
      "Step 170; mean_crps = 1.077\n",
      "Step 180; mean_crps = 1.077\n",
      "Step 190; mean_crps = 1.077\n"
     ]
    }
   ],
   "source": [
    "for i in range(200):\n",
    "    cost = model.train(tfc_mean_roll, tfc_std_roll, tobs_roll, lr)\n",
    "    if i%10 == 0: print('Step %i; mean_crps = %.3f' % (i, cost))"
   ]
  },
  {
   "cell_type": "code",
   "execution_count": 132,
   "metadata": {},
   "outputs": [
    {
     "data": {
      "text/plain": [
       "array(1.253791908507415)"
      ]
     },
     "execution_count": 132,
     "metadata": {},
     "output_type": "execute_result"
    }
   ],
   "source": [
    "# Now make a prediction for the actual day\n",
    "model.predict(tfc_mean_date, tfc_std_date, tobs_date)[2]"
   ]
  },
  {
   "cell_type": "code",
   "execution_count": 83,
   "metadata": {},
   "outputs": [
    {
     "data": {
      "text/plain": [
       "datetime.datetime(2007, 1, 28, 0, 0)"
      ]
     },
     "execution_count": 83,
     "metadata": {},
     "output_type": "execute_result"
    }
   ],
   "source": [
    "dates_00[date_idx]"
   ]
  },
  {
   "cell_type": "code",
   "execution_count": 84,
   "metadata": {},
   "outputs": [
    {
     "data": {
      "text/plain": [
       "(array([363]),)"
      ]
     },
     "execution_count": 84,
     "metadata": {},
     "output_type": "execute_result"
    }
   ],
   "source": [
    "import datetime\n",
    "np.where(dates_00 == datetime.datetime(2008, 1, 1, 0, 0))"
   ]
  },
  {
   "cell_type": "code",
   "execution_count": 133,
   "metadata": {},
   "outputs": [
    {
     "data": {
      "text/plain": [
       "(array([3650]),)"
      ]
     },
     "execution_count": 133,
     "metadata": {},
     "output_type": "execute_result"
    }
   ],
   "source": [
    "np.where(dates_00 == datetime.datetime(2016, 12, 31, 0, 0))"
   ]
  },
  {
   "cell_type": "code",
   "execution_count": 134,
   "metadata": {},
   "outputs": [
    {
     "name": "stdout",
     "output_type": "stream",
     "text": [
      "2008-02-07 00:00:00\n",
      "2008-03-28 00:00:00\n",
      "2008-05-17 00:00:00\n",
      "2008-07-06 00:00:00\n",
      "2008-08-25 00:00:00\n",
      "2008-10-14 00:00:00\n",
      "2008-12-03 00:00:00\n",
      "2009-01-22 00:00:00\n",
      "2009-03-13 00:00:00\n",
      "2009-05-02 00:00:00\n",
      "2009-06-21 00:00:00\n",
      "2009-08-10 00:00:00\n",
      "2009-09-29 00:00:00\n",
      "2009-11-18 00:00:00\n",
      "2010-01-07 00:00:00\n",
      "2010-02-26 00:00:00\n",
      "2010-04-17 00:00:00\n",
      "2010-06-06 00:00:00\n",
      "2010-07-26 00:00:00\n",
      "2010-09-14 00:00:00\n",
      "2010-11-03 00:00:00\n",
      "2010-12-23 00:00:00\n",
      "2011-02-11 00:00:00\n",
      "2011-04-02 00:00:00\n",
      "2011-05-22 00:00:00\n",
      "2011-07-11 00:00:00\n",
      "2011-08-30 00:00:00\n",
      "2011-10-19 00:00:00\n",
      "2011-12-08 00:00:00\n",
      "2012-01-27 00:00:00\n",
      "2012-03-17 00:00:00\n",
      "2012-05-06 00:00:00\n",
      "2012-06-25 00:00:00\n",
      "2012-08-14 00:00:00\n",
      "2012-10-03 00:00:00\n",
      "2012-11-22 00:00:00\n",
      "2013-01-11 00:00:00\n",
      "2013-03-02 00:00:00\n",
      "2013-04-21 00:00:00\n",
      "2013-06-10 00:00:00\n",
      "2013-07-30 00:00:00\n",
      "2013-09-18 00:00:00\n",
      "2013-11-07 00:00:00\n",
      "2013-12-27 00:00:00\n",
      "2014-02-15 00:00:00\n",
      "2014-04-06 00:00:00\n",
      "2014-05-26 00:00:00\n",
      "2014-07-15 00:00:00\n",
      "2014-09-03 00:00:00\n",
      "2014-10-23 00:00:00\n",
      "2014-12-12 00:00:00\n",
      "2015-01-31 00:00:00\n",
      "2015-03-22 00:00:00\n",
      "2015-05-11 00:00:00\n",
      "2015-06-30 00:00:00\n",
      "2015-08-19 00:00:00\n",
      "2015-10-08 00:00:00\n",
      "2015-11-27 00:00:00\n",
      "2016-01-16 00:00:00\n",
      "2016-03-06 00:00:00\n",
      "2016-04-25 00:00:00\n",
      "2016-06-14 00:00:00\n",
      "2016-08-03 00:00:00\n",
      "2016-09-22 00:00:00\n",
      "2016-11-11 00:00:00\n",
      "2016-12-31 00:00:00\n"
     ]
    }
   ],
   "source": [
    "# Now let's actually loop\n",
    "crps_train_list = []\n",
    "crps_predict_list = []\n",
    "lr = np.asarray(0.1, dtype='float32')\n",
    "window_size = 50\n",
    "for date_idx in range(363, 3651):   # Just try 50 days\n",
    "    if date_idx % 50 == 0:\n",
    "        print(dates_00[date_idx])\n",
    "    tobs_roll, tfc_roll = get_rolling_slice(tobs_full, tfc_full, date_idx, \n",
    "                                            window_size)\n",
    "    tobs_date, tfc_date = (tobs_full[date_idx], tfc_full[date_idx])\n",
    "    tobs_roll, tfc_mean_roll, tfc_std_roll = prep_data(tobs_roll, tfc_roll)\n",
    "    tobs_date, tfc_mean_date, tfc_std_date = prep_data(tobs_date, tfc_date)\n",
    "    \n",
    "    model = EMOS_Network()\n",
    "    for i in range(200):\n",
    "        cost = model.train(tfc_mean_roll, tfc_std_roll, tobs_roll, lr)\n",
    "    crps_train_list.append(cost)\n",
    "    \n",
    "    crps_pred = model.predict(tfc_mean_date, tfc_std_date, tobs_date)[2]\n",
    "    crps_predict_list.append(crps_pred)"
   ]
  },
  {
   "cell_type": "code",
   "execution_count": 135,
   "metadata": {
    "collapsed": true
   },
   "outputs": [],
   "source": [
    "# Save the data. Its past midingt and I can't be bothered to save them anywhere useful...\n",
    "np.save('./EMOS_network_crps_train.npy', crps_train_list)\n",
    "np.save('./EMOS_network_crps_predict.npy', crps_predict_list)"
   ]
  },
  {
   "cell_type": "code",
   "execution_count": 136,
   "metadata": {
    "collapsed": true
   },
   "outputs": [],
   "source": [
    "%matplotlib inline\n",
    "import matplotlib.pyplot as plt"
   ]
  },
  {
   "cell_type": "code",
   "execution_count": 137,
   "metadata": {},
   "outputs": [
    {
     "data": {
      "image/png": "[encoded data removed]",
      "text/plain": [
       "<matplotlib.figure.Figure at 0x11ca38358>"
      ]
     },
     "metadata": {},
     "output_type": "display_data"
    }
   ],
   "source": [
    "plt.plot(crps_train_list)\n",
    "plt.plot(crps_predict_list)\n",
    "plt.show()"
   ]
  },
  {
   "cell_type": "markdown",
   "metadata": {},
   "source": [
    "Erm, well something is not right here. It seems like the summers are always really bad. Maybe I made a mistake in processing my data. I will clean up this script next and run it again to check. But today is Saturday so it will have to wait!"
   ]
  },
  {
   "cell_type": "code",
   "execution_count": null,
   "metadata": {
    "collapsed": true
   },
   "outputs": [],
   "source": []
  }
 ],
 "metadata": {
  "kernelspec": {
   "display_name": "Python 3",
   "language": "python",
   "name": "python3"
  },
  "language_info": {
   "codemirror_mode": {
    "name": "ipython",
    "version": 3
   },
   "file_extension": ".py",
   "mimetype": "text/x-python",
   "name": "python",
   "nbconvert_exporter": "python",
   "pygments_lexer": "ipython3",
   "version": "3.6.2"
  }
 },
 "nbformat": 4,
 "nbformat_minor": 2
}
